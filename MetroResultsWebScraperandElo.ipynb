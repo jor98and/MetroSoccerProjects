{
 "cells": [
  {
   "cell_type": "code",
   "execution_count": 6,
   "metadata": {},
   "outputs": [],
   "source": [
    "from selenium import webdriver\n",
    "from selenium.webdriver.common.by import By\n",
    "from selenium.webdriver.support.ui import WebDriverWait\n",
    "from selenium.webdriver.support import expected_conditions as EC\n",
    "from selenium.webdriver.support.ui import Select\n",
    "import time\n",
    "import pandas as pd\n",
    "from collections import defaultdict\n",
    "import hashlib\n",
    "\n"
   ]
  },
  {
   "cell_type": "code",
   "execution_count": 7,
   "metadata": {},
   "outputs": [],
   "source": [
    "# Setup driver\n",
    "driver = webdriver.Chrome()\n",
    "url = \"https://www.metroleaguewa.org/sport/?leagueid=8&sportid=9\"\n",
    "driver.get(url)\n",
    "\n",
    "WebDriverWait(driver, 15).until(EC.presence_of_element_located((By.ID, \"select_level_id\")))\n",
    "options = driver.find_elements(By.CSS_SELECTOR, \"#select_level_id option\")\n"
   ]
  },
  {
   "cell_type": "code",
   "execution_count": 8,
   "metadata": {},
   "outputs": [],
   "source": [
    "# Filter Varsity seasons from 2016-17 onward\n",
    "valid_seasons = []\n",
    "for i in range(len(options)):\n",
    "    text = options[i].text.strip()\n",
    "    value = options[i].get_attribute(\"value\")\n",
    "    if \"Varsity\" in text and not any(x in text for x in [\"Junior\", \"C-Team\"]):\n",
    "        if i > 0 and not options[i - 1].get_attribute(\"value\").startswith(\"?\"):\n",
    "            year = options[i - 1].text.strip()\n",
    "            if year >= \"2016-17\":\n",
    "                valid_seasons.append((year, value))\n",
    "\n",
    "# Sort by year ascending\n",
    "def season_sort_key(season_str):\n",
    "    return int(season_str.split(\"-\")[0])\n",
    "valid_seasons.sort(key=lambda x: season_sort_key(x[0]))\n",
    "\n",
    "all_matches = []\n",
    "all_standings = []\n",
    "team_class = defaultdict(lambda: \"Unknown\")\n",
    "match_counter = 1\n",
    "\n",
    "def generate_game_id(season, date, time, home_team, away_team):\n",
    "    to_hash = f\"{season}_{date}_{time}_{home_team}_{away_team}\"\n",
    "    return hashlib.md5(to_hash.encode()).hexdigest()"
   ]
  },
  {
   "cell_type": "code",
   "execution_count": 9,
   "metadata": {},
   "outputs": [
    {
     "name": "stdout",
     "output_type": "stream",
     "text": [
      "Scraping 2016-17 Varsity → https://www.metroleaguewa.org/sport/?leagueid=8&sportid=9&school_year=2016-17&level_id=12#schedule\n",
      "Scraping 2017-18 Varsity → https://www.metroleaguewa.org/sport/?leagueid=8&sportid=9&school_year=2017-18&level_id=12#schedule\n",
      "Scraping 2018-19 Varsity → https://www.metroleaguewa.org/sport/?leagueid=8&sportid=9&school_year=2018-19&level_id=12#schedule\n",
      "Scraping 2019-20 Varsity → https://www.metroleaguewa.org/sport/?leagueid=8&sportid=9&school_year=2019-20&level_id=12#schedule\n",
      "Scraping 2020-21 Varsity → https://www.metroleaguewa.org/sport/?leagueid=8&sportid=9&school_year=2020-21&level_id=12#schedule\n",
      "Scraping 2021-22 Varsity → https://www.metroleaguewa.org/sport/?leagueid=8&sportid=9&school_year=2021-22&level_id=12#schedule\n",
      "Scraping 2022-23 Varsity → https://www.metroleaguewa.org/sport/?leagueid=8&sportid=9&school_year=2022-23&level_id=12#schedule\n",
      "Scraping 2023-24 Varsity → https://www.metroleaguewa.org/sport/?leagueid=8&sportid=9&school_year=2023-24&level_id=12#schedule\n",
      "Scraping 2024-25 Varsity → https://www.metroleaguewa.org/sport/?leagueid=8&sportid=9&school_year=2024-25&level_id=12#schedule\n"
     ]
    }
   ],
   "source": [
    "# Scraping loop\n",
    "for year, value in valid_seasons:\n",
    "    link = f\"https://www.metroleaguewa.org/sport/{value}\"\n",
    "    print(f\"Scraping {year} Varsity → {link}\")\n",
    "    driver.get(link)\n",
    "    time.sleep(3)\n",
    "\n",
    "    # Set Full Season filter\n",
    "    try:\n",
    "        WebDriverWait(driver, 10).until(EC.presence_of_element_located((By.ID, \"filter_date_range_kword\")))\n",
    "        dropdown = driver.find_element(By.ID, \"filter_date_range_kword\")\n",
    "        driver.execute_script(\n",
    "            \"arguments[0].value='season'; arguments[0].dispatchEvent(new Event('change'));\", dropdown\n",
    "        )\n",
    "        time.sleep(3)\n",
    "    except Exception as e:\n",
    "        print(f\"Failed to set Full Season filter: {e}\")\n",
    "\n",
    "    try:\n",
    "        WebDriverWait(driver, 10).until(EC.presence_of_element_located((By.CLASS_NAME, \"schedule_contents\")))\n",
    "        schedule_blocks = driver.find_elements(By.CLASS_NAME, \"schedule_contents\")\n",
    "\n",
    "        for block in schedule_blocks:\n",
    "            try:\n",
    "                date_heading = block.find_element(By.CLASS_NAME, \"schedule_date_heading\").text.strip()\n",
    "                event_rows = block.find_elements(By.CLASS_NAME, \"event_row\")\n",
    "\n",
    "                for row in event_rows:\n",
    "                    try:\n",
    "                        time_str = row.find_element(By.CLASS_NAME, \"event_time\").text.strip()\n",
    "                        try:\n",
    "                            game_type = row.find_element(By.CLASS_NAME, \"game_type\").text.strip()\n",
    "                        except:\n",
    "                            game_type = \"\"\n",
    "\n",
    "                        if game_type in [\"Scrimmage\", \"Jamboree\"]:\n",
    "                            continue\n",
    "\n",
    "                        away_team = row.find_element(By.CSS_SELECTOR, \".event_team .event_team_name\").text.strip()\n",
    "                        away_score = row.find_element(By.CSS_SELECTOR, \".event_team .event_team_score\").text.strip()\n",
    "                        home_team = row.find_element(By.CSS_SELECTOR, \".event_team_home .event_team_name\").text.strip()\n",
    "                        home_score = row.find_element(By.CSS_SELECTOR, \".event_team_home .event_team_score\").text.strip()\n",
    "\n",
    "                        match_data = {\n",
    "                            \"Season\": year,\n",
    "                            \"Date\": date_heading,\n",
    "                            \"Time\": time_str,\n",
    "                            \"Home Team\": home_team,\n",
    "                            \"Away Team\": away_team,\n",
    "                            \"Home Score\": home_score,\n",
    "                            \"Away Score\": away_score,\n",
    "                            \"Game Type\": game_type,\n",
    "                            \"GameID\": generate_game_id(year, date_heading, time_str, home_team, away_team),\n",
    "                            \"MatchOrder\": match_counter,\n",
    "                            \"Home Classification\": team_class[home_team],\n",
    "                            \"Away Classification\": team_class[away_team],\n",
    "                        }\n",
    "                        all_matches.append(match_data)\n",
    "                        match_counter += 1\n",
    "\n",
    "                    except Exception as e:\n",
    "                        print(f\"Failed to parse match row: {e}\")\n",
    "\n",
    "            except Exception as e:\n",
    "                print(f\"Failed to parse schedule block: {e}\")\n",
    "\n",
    "    except Exception as e:\n",
    "        print(f\"Match load error for {year}: {e}\")\n",
    "\n",
    "driver.quit()\n",
    "\n",
    "# Save raw scraped data\n",
    "matches_df = pd.DataFrame(all_matches)\n",
    "standings_df = pd.DataFrame(all_standings)\n",
    "\n",
    "# Improved date parsing and standardization\n",
    "def parse_and_standardize_dates(df):\n",
    "    \"\"\"\n",
    "    Parse and standardize date formats from web scraping.\n",
    "    Handles various date formats that might come from the website.\n",
    "    \"\"\"\n",
    "    if df.empty:\n",
    "        return df\n",
    "    \n",
    "    # Make a copy to avoid modifying the original\n",
    "    df = df.copy()\n",
    "    \n",
    "    # Convert Date column to datetime with multiple format attempts\n",
    "    def parse_date_flexible(date_str):\n",
    "        if pd.isna(date_str) or date_str == '':\n",
    "            return pd.NaT\n",
    "        \n",
    "        # Common date formats that might appear on the website\n",
    "        date_formats = [\n",
    "            '%A, %B %d, %Y',      # Monday, January 15, 2024\n",
    "            '%A, %b %d, %Y',      # Mon, Jan 15, 2024  \n",
    "            '%B %d, %Y',          # January 15, 2024\n",
    "            '%b %d, %Y',          # Jan 15, 2024\n",
    "            '%m/%d/%Y',           # 01/15/2024\n",
    "            '%m-%d-%Y',           # 01-15-2024\n",
    "            '%Y-%m-%d',           # 2024-01-15\n",
    "            '%d/%m/%Y',           # 15/01/2024 (alternative format)\n",
    "        ]\n",
    "        \n",
    "        # Try each format\n",
    "        for fmt in date_formats:\n",
    "            try:\n",
    "                return pd.to_datetime(date_str.strip(), format=fmt)\n",
    "            except (ValueError, TypeError):\n",
    "                continue\n",
    "        \n",
    "        # If specific formats fail, try pandas' flexible parsing\n",
    "        try:\n",
    "            return pd.to_datetime(date_str.strip(), infer_datetime_format=True)\n",
    "        except (ValueError, TypeError):\n",
    "            print(f\"Warning: Could not parse date '{date_str}'. Setting to NaT.\")\n",
    "            return pd.NaT\n",
    "    \n",
    "    # Apply the flexible date parsing\n",
    "    df['Date_Parsed'] = df['Date'].apply(parse_date_flexible)\n",
    "    \n",
    "    # Replace the original Date column with standardized format (YYYY-MM-DD)\n",
    "    df['Date'] = df['Date_Parsed'].dt.strftime('%Y-%m-%d')\n",
    "    \n",
    "    # Keep the original date string for reference if needed\n",
    "    df['Date_Original'] = df['Date'].copy() if 'Date_Original' not in df.columns else df['Date_Original']\n",
    "    \n",
    "    # Drop the temporary column\n",
    "    df = df.drop('Date_Parsed', axis=1)\n",
    "    \n",
    "    # Remove rows with unparseable dates\n",
    "    invalid_dates = df['Date'].isna() | (df['Date'] == 'NaT')\n",
    "    if invalid_dates.any():\n",
    "        print(f\"Warning: Removing {invalid_dates.sum()} rows with invalid dates\")\n",
    "        df = df[~invalid_dates]\n",
    "    \n",
    "    return df\n",
    "\n",
    "# Apply date standardization to matches\n",
    "print(\"Parsing and standardizing dates...\")\n",
    "matches_df = parse_and_standardize_dates(matches_df)\n",
    "\n",
    "matches_df.to_csv(r\"C:\\Users\\User\\Desktop\\Soccer Footage\\metroleague_soccer_results_filtered.csv\", index=False)\n",
    "standings_df.to_csv(r\"C:\\Users\\User\\Desktop\\Soccer Footage\\metroleague_soccer_standings_with_class.csv\", index=False)"
   ]
  },
  {
   "cell_type": "code",
   "execution_count": 10,
   "metadata": {},
   "outputs": [],
   "source": [
    "# -------------------------------\n",
    "# Define normalization mappings\n",
    "# -------------------------------\n",
    "TEAM_NAME_CORRECTIONS = {\n",
    "    \"Lakeside\": \"Lakeside (Seattle)\",\n",
    "    \"Lakeside (Sea)\": \"Lakeside (Seattle)\",\n",
    "    \"Seattle Prep.\": \"Seattle Prep\",\n",
    "    # Add more corrections here as needed\n",
    "}\n",
    "\n",
    "def normalize_team_name(name):\n",
    "    return TEAM_NAME_CORRECTIONS.get(name, name)\n",
    "\n",
    "# -------------------------------\n",
    "# Load and normalize match results\n",
    "# -------------------------------\n",
    "matches_df = pd.read_csv(r\"C:\\Users\\User\\Desktop\\Soccer Footage\\metroleague_soccer_results_filtered.csv\")\n",
    "\n",
    "# Ensure dates are properly parsed when loading from CSV\n",
    "def ensure_proper_date_format(df):\n",
    "    \"\"\"\n",
    "    Ensure dates are in proper datetime format when loading from CSV.\n",
    "    This handles cases where dates might be strings or need re-parsing.\n",
    "    \"\"\"\n",
    "    if df.empty or 'Date' not in df.columns:\n",
    "        return df\n",
    "    \n",
    "    df = df.copy()\n",
    "    \n",
    "    # Convert Date to datetime if it's not already\n",
    "    try:\n",
    "        df['Date'] = pd.to_datetime(df['Date'], errors='coerce')\n",
    "        # Convert back to string format for consistency\n",
    "        df['Date'] = df['Date'].dt.strftime('%Y-%m-%d')\n",
    "    except Exception as e:\n",
    "        print(f\"Warning: Issue with date parsing: {e}\")\n",
    "    \n",
    "    return df\n",
    "\n",
    "matches_df = ensure_proper_date_format(matches_df)\n",
    "\n",
    "# Apply normalization to Home and Away Teams\n",
    "matches_df[\"Home Team\"] = matches_df[\"Home Team\"].apply(normalize_team_name)\n",
    "matches_df[\"Away Team\"] = matches_df[\"Away Team\"].apply(normalize_team_name)\n",
    "\n",
    "# -------------------------------\n",
    "# Load and normalize classification\n",
    "# -------------------------------\n",
    "class_df = pd.read_csv(r\"C:\\Users\\User\\Desktop\\Soccer Footage\\school_classification_by_season.csv\")\n",
    "\n",
    "# Normalize classification data too\n",
    "class_df[\"School\"] = class_df[\"School\"].apply(normalize_team_name)\n",
    "\n",
    "# -------------------------------\n",
    "# Merge classification into matches\n",
    "# -------------------------------\n",
    "matches_df = matches_df.merge(\n",
    "    class_df, left_on=[\"Season\", \"Home Team\"], right_on=[\"Season\", \"School\"], how=\"left\"\n",
    ").rename(columns={\"Classification\": \"Home Classification\"}).drop(columns=[\"School\"])\n",
    "\n",
    "matches_df = matches_df.merge(\n",
    "    class_df, left_on=[\"Season\", \"Away Team\"], right_on=[\"Season\", \"School\"], how=\"left\"\n",
    ").rename(columns={\"Classification\": \"Away Classification\"}).drop(columns=[\"School\"])\n",
    "\n",
    "# -------------------------------\n",
    "# Clean & Filter Match Data\n",
    "# -------------------------------\n",
    "matches_df[\"Home Score\"] = pd.to_numeric(matches_df[\"Home Score\"], errors=\"coerce\")\n",
    "matches_df[\"Away Score\"] = pd.to_numeric(matches_df[\"Away Score\"], errors=\"coerce\")\n",
    "\n",
    "# Drop rows with missing scores\n",
    "matches_df = matches_df.dropna(subset=[\"Home Score\", \"Away Score\"])\n",
    "\n",
    "# Improved sorting with proper datetime handling\n",
    "def sort_matches_by_date(df):\n",
    "    \"\"\"\n",
    "    Sort matches by season and date using proper datetime comparison.\n",
    "    \"\"\"\n",
    "    if df.empty:\n",
    "        return df\n",
    "    \n",
    "    df = df.copy()\n",
    "    \n",
    "    # Convert Date to datetime for proper sorting\n",
    "    df['Date_for_sorting'] = pd.to_datetime(df['Date'], errors='coerce')\n",
    "    \n",
    "    # Sort by Season and Date (datetime)\n",
    "    df = df.sort_values(by=[\"Season\", \"Date_for_sorting\"]).reset_index(drop=True)\n",
    "    \n",
    "    # Drop the temporary sorting column\n",
    "    df = df.drop('Date_for_sorting', axis=1)\n",
    "    \n",
    "    return df\n",
    "\n",
    "# Apply improved sorting\n",
    "matches_df = sort_matches_by_date(matches_df)\n"
   ]
  },
  {
   "cell_type": "code",
   "execution_count": 11,
   "metadata": {},
   "outputs": [],
   "source": [
    "# -------------------------------\n",
    "# Calculate Standings\n",
    "# -------------------------------\n",
    "def calculate_standings(df):\n",
    "    records = []\n",
    "    for _, row in df.iterrows():\n",
    "        hs = int(row[\"Home Score\"])\n",
    "        as_ = int(row[\"Away Score\"])\n",
    "        season = row[\"Season\"]\n",
    "        home = row[\"Home Team\"]\n",
    "        away = row[\"Away Team\"]\n",
    "\n",
    "        if hs > as_:\n",
    "            home_result, away_result = \"W\", \"L\"\n",
    "        elif hs < as_:\n",
    "            home_result, away_result = \"L\", \"W\"\n",
    "        else:\n",
    "            home_result = away_result = \"T\"\n",
    "\n",
    "        records.extend([\n",
    "            {\"Season\": season, \"Team\": home, \"Result\": home_result, \"GF\": hs, \"GA\": as_},\n",
    "            {\"Season\": season, \"Team\": away, \"Result\": away_result, \"GF\": as_, \"GA\": hs}\n",
    "        ])\n",
    "\n",
    "    df = pd.DataFrame(records)\n",
    "    standings = df.groupby([\"Season\", \"Team\"]).agg(\n",
    "        Wins=(\"Result\", lambda x: (x == \"W\").sum()),\n",
    "        Losses=(\"Result\", lambda x: (x == \"L\").sum()),\n",
    "        Ties=(\"Result\", lambda x: (x == \"T\").sum()),\n",
    "        Goals_For=(\"GF\", \"sum\"),\n",
    "        Goals_Against=(\"GA\", \"sum\")\n",
    "    ).reset_index()\n",
    "    standings[\"Points\"] = 3 * standings[\"Wins\"] + 1 * standings[\"Ties\"]\n",
    "    standings[\"Games\"] = standings[\"Wins\"] + standings[\"Losses\"] + standings[\"Ties\"]\n",
    "    standings[\"Win %\"] = (standings[\"Wins\"] + 0.5 * standings[\"Ties\"]) / standings[\"Games\"]\n",
    "    return standings\n",
    "\n",
    "standings_df = calculate_standings(matches_df)"
   ]
  },
  {
   "cell_type": "code",
   "execution_count": 18,
   "metadata": {},
   "outputs": [],
   "source": [
    "# -------------------------------\n",
    "# Filter teams with minimum games played\n",
    "# -------------------------------\n",
    "home_games = matches_df.groupby([\"Season\", \"Home Team\"]).size().reset_index(name=\"Home Games\")\n",
    "away_games = matches_df.groupby([\"Season\", \"Away Team\"]).size().reset_index(name=\"Away Games\")\n",
    "\n",
    "home_games.columns = [\"Season\", \"Team\", \"Home Games\"]\n",
    "away_games.columns = [\"Season\", \"Team\", \"Away Games\"]\n",
    "games_played = pd.merge(home_games, away_games, on=[\"Season\", \"Team\"], how=\"outer\").fillna(0)\n",
    "games_played[\"Total Games\"] = games_played[\"Home Games\"] + games_played[\"Away Games\"]\n",
    "\n",
    "# Keep only teams with sufficient games\n",
    "min_games = 3\n",
    "valid_teams = games_played[games_played[\"Total Games\"] >= min_games][[\"Season\", \"Team\"]]\n",
    "\n",
    "matches_df = matches_df.merge(valid_teams, left_on=[\"Season\", \"Home Team\"], right_on=[\"Season\", \"Team\"], how=\"inner\").drop(columns=[\"Team\"])\n",
    "matches_df = matches_df.merge(valid_teams, left_on=[\"Season\", \"Away Team\"], right_on=[\"Season\", \"Team\"], how=\"inner\").drop(columns=[\"Team\"])\n",
    "\n",
    "# -------------------------------\n",
    "# Run ELO Model\n",
    "# -------------------------------\n",
    "def run_elo(matches, base_elo=1500, k=40, hfa=100, cap_margin=3, upset_multiplier=1.5):\n",
    "    match_counts = defaultdict(int)\n",
    "    team_elos = defaultdict(lambda: base_elo)\n",
    "    elo_log = []\n",
    "\n",
    "    for _, row in matches.iterrows():\n",
    "        season = row[\"Season\"]\n",
    "        home = row[\"Home Team\"]\n",
    "        away = row[\"Away Team\"]\n",
    "        hs = int(row[\"Home Score\"])\n",
    "        as_ = int(row[\"Away Score\"])\n",
    "\n",
    "        # Match result\n",
    "        result_home = 1 if hs > as_ else 0 if hs < as_ else 0.5\n",
    "\n",
    "        # Current Elo ratings\n",
    "        home_elo = team_elos[home]\n",
    "        away_elo = team_elos[away]\n",
    "\n",
    "        # Expected result with home field adjustment\n",
    "        expected_home = 1 / (1 + 10 ** ((away_elo - (home_elo + hfa)) / 400))\n",
    "\n",
    "        # Margin of victory factor (capped)\n",
    "        margin = max(1, min(abs(hs - as_), cap_margin))\n",
    "\n",
    "        # Dynamic K adjustment:\n",
    "        # For draws, scale reward based on surprise of the result\n",
    "        if result_home == 0.5:\n",
    "            surprise_factor = abs(result_home - expected_home)\n",
    "            k_adjust = 0.5 + (upset_multiplier * surprise_factor)  # dynamic reward\n",
    "        else:\n",
    "            k_adjust = 1.0\n",
    "\n",
    "        # Final Elo change\n",
    "        change_home = k_adjust * k * margin * (result_home - expected_home)\n",
    "        change_away = -change_home\n",
    "\n",
    "        # Update ratings\n",
    "        team_elos[home] += change_home\n",
    "        team_elos[away] += change_away\n",
    "\n",
    "        # Track match count\n",
    "        match_counts[home] += 1\n",
    "        match_counts[away] += 1\n",
    "\n",
    "        # Logging\n",
    "        elo_log.append({\n",
    "            \"Home Match #\": match_counts[home],\n",
    "            \"Away Match #\": match_counts[away],\n",
    "            \"Home ELO Change\": change_home,\n",
    "            \"Away ELO Change\": change_away,\n",
    "            \"Season\": season,\n",
    "            \"Date\": row[\"Date\"],\n",
    "            \"Home Team\": home,\n",
    "            \"Away Team\": away,\n",
    "            \"Home Score\": hs,\n",
    "            \"Away Score\": as_,\n",
    "            \"Home Classification\": row.get(\"Home Classification\", \"Unknown\"),\n",
    "            \"Away Classification\": row.get(\"Away Classification\", \"Unknown\"),\n",
    "            \"Home ELO Before\": home_elo,\n",
    "            \"Away ELO Before\": away_elo,\n",
    "            \"Home ELO After\": team_elos[home],\n",
    "            \"Away ELO After\": team_elos[away]\n",
    "        })\n",
    "\n",
    "    return pd.DataFrame(elo_log), team_elos\n",
    "\n",
    "# Run ELO model\n",
    "matches_df = matches_df.sort_values(by=\"MatchOrder\").reset_index(drop=True)\n",
    "assert matches_df[\"MatchOrder\"].is_monotonic_increasing, \"MatchOrder is not sorted!\"\n",
    "elo_log_df, final_elos = run_elo(matches_df)\n"
   ]
  },
  {
   "cell_type": "code",
   "execution_count": 22,
   "metadata": {},
   "outputs": [
    {
     "name": "stdout",
     "output_type": "stream",
     "text": [
      "Scraping complete. Data saved to metroleague_soccer_results.csv and metroleague_soccer_standings.csv\n"
     ]
    }
   ],
   "source": [
    "# Ensure all output dataframes have consistent date formatting\n",
    "def ensure_consistent_date_format_for_output(df):\n",
    "    \"\"\"\n",
    "    Ensure consistent date format in output CSV files.\n",
    "    \"\"\"\n",
    "    if df.empty or 'Date' not in df.columns:\n",
    "        return df\n",
    "    \n",
    "    df = df.copy()\n",
    "    \n",
    "    # Ensure Date column is in YYYY-MM-DD format\n",
    "    try:\n",
    "        df['Date'] = pd.to_datetime(df['Date'], errors='coerce').dt.strftime('%Y-%m-%d')\n",
    "    except Exception as e:\n",
    "        print(f\"Warning: Issue formatting dates for output: {e}\")\n",
    "    \n",
    "    return df\n",
    "\n",
    "# Apply consistent formatting to all output dataframes\n",
    "matches_df = ensure_consistent_date_format_for_output(matches_df)\n",
    "elo_log_df = ensure_consistent_date_format_for_output(elo_log_df)\n",
    "\n",
    "matches_df.to_csv(r\"C:\\Users\\User\\Desktop\\Soccer Footage\\metroleague_soccer_results.csv\", index=False)\n",
    "standings_df.to_csv(r\"C:\\Users\\User\\Desktop\\Soccer Footage\\metroleague_standings_from_results.csv\", index=False)\n",
    "elo_log_df.to_csv(r\"C:\\Users\\User\\Desktop\\Soccer Footage\\metroleague_elo_log.csv\", index=False, float_format=\"%.2f\")\n",
    "print(\"Scraping complete. Data saved with improved date handling to CSV files.\")\n"
   ]
  },
  {
   "cell_type": "code",
   "execution_count": 16,
   "metadata": {},
   "outputs": [
    {
     "name": "stdout",
     "output_type": "stream",
     "text": [
      "Scraping + ELO complete. Data saved to CSVs.\n"
     ]
    },
    {
     "name": "stderr",
     "output_type": "stream",
     "text": [
      "<ipython-input-16-b1ac94e30a01>:23: SettingWithCopyWarning: \n",
      "A value is trying to be set on a copy of a slice from a DataFrame.\n",
      "Try using .loc[row_indexer,col_indexer] = value instead\n",
      "\n",
      "See the caveats in the documentation: https://pandas.pydata.org/pandas-docs/stable/user_guide/indexing.html#returning-a-view-versus-a-copy\n",
      "  elo_long_cleaned[\"Season Match #\"] = elo_long_cleaned.groupby([\"Season\", \"Team\"]).cumcount() + 1\n"
     ]
    }
   ],
   "source": [
    "# Generate long-format ELO for plotting\n",
    "home = elo_log_df[[\"Season\", \"Home Team\", \"Home Match #\", \"Home ELO After\"]].rename(\n",
    "    columns={\"Home Team\": \"Team\", \"Home Match #\": \"Match #\", \"Home ELO After\": \"ELO\"}\n",
    ")\n",
    "away = elo_log_df[[\"Season\", \"Away Team\", \"Away Match #\", \"Away ELO After\"]].rename(\n",
    "    columns={\"Away Team\": \"Team\", \"Away Match #\": \"Match #\", \"Away ELO After\": \"ELO\"}\n",
    ")\n",
    "elo_long = pd.concat([home, away], ignore_index=True)\n",
    "\n",
    "# Remove teams with < 1 games in a season\n",
    "game_counts = elo_long.groupby([\"Season\", \"Team\"]).size().reset_index(name=\"Games\")\n",
    "valid_teams = game_counts[game_counts[\"Games\"] >= 1][[\"Season\", \"Team\"]]\n",
    "elo_long_filtered = elo_long.merge(valid_teams, on=[\"Season\", \"Team\"])\n",
    "\n",
    "\n",
    "# Remove teams with fewer than 10 total games across all seasons\n",
    "total_game_counts = elo_long_filtered.groupby(\"Team\")[\"Match #\"].count().reset_index()\n",
    "total_game_counts.columns = [\"Team\", \"Total Games\"]\n",
    "valid_teams = total_game_counts[total_game_counts[\"Total Games\"] >= 10][\"Team\"]\n",
    "elo_long_cleaned = elo_long_filtered[elo_long_filtered[\"Team\"].isin(valid_teams)]\n",
    "\n",
    "# Add Match # within each season for each team\n",
    "elo_long_cleaned[\"Season Match #\"] = elo_long_cleaned.groupby([\"Season\", \"Team\"]).cumcount() + 1\n",
    "\n",
    "elo_long_cleaned.to_csv(r\"C:\\Users\\User\\Desktop\\Soccer Footage\\metroleague_elo_long.csv\", index=False)\n",
    "\n",
    "print(\"Scraping + ELO complete. Data saved to CSVs.\")"
   ]
  },
  {
   "cell_type": "code",
   "execution_count": 17,
   "metadata": {},
   "outputs": [
    {
     "data": {
      "application/vnd.plotly.v1+json": {
       "config": {
        "plotlyServerURL": "https://plot.ly"
       },
       "data": [
        {
         "customdata": [
          [
           "Bainbridge",
           "2016-17",
           1
          ],
          [
           "Bainbridge",
           "2016-17",
           2
          ],
          [
           "Bainbridge",
           "2016-17",
           3
          ],
          [
           "Bainbridge",
           "2016-17",
           4
          ],
          [
           "Bainbridge",
           "2016-17",
           5
          ],
          [
           "Bainbridge",
           "2016-17",
           6
          ],
          [
           "Bainbridge",
           "2016-17",
           7
          ],
          [
           "Bainbridge",
           "2016-17",
           8
          ],
          [
           "Bainbridge",
           "2016-17",
           9
          ],
          [
           "Bainbridge",
           "2016-17",
           10
          ],
          [
           "Bainbridge",
           "2016-17",
           11
          ],
          [
           "Bainbridge",
           "2016-17",
           12
          ],
          [
           "Bainbridge",
           "2016-17",
           13
          ],
          [
           "Bainbridge",
           "2016-17",
           14
          ],
          [
           "Bainbridge",
           "2016-17",
           15
          ],
          [
           "Bainbridge",
           "2016-17",
           16
          ],
          [
           "Bainbridge",
           "2016-17",
           17
          ],
          [
           "Bainbridge",
           "2016-17",
           18
          ],
          [
           "Bainbridge",
           "2017-18",
           1
          ],
          [
           "Bainbridge",
           "2017-18",
           2
          ],
          [
           "Bainbridge",
           "2017-18",
           3
          ],
          [
           "Bainbridge",
           "2017-18",
           4
          ],
          [
           "Bainbridge",
           "2017-18",
           5
          ],
          [
           "Bainbridge",
           "2017-18",
           6
          ],
          [
           "Bainbridge",
           "2017-18",
           7
          ],
          [
           "Bainbridge",
           "2017-18",
           8
          ],
          [
           "Bainbridge",
           "2017-18",
           9
          ],
          [
           "Bainbridge",
           "2017-18",
           10
          ],
          [
           "Bainbridge",
           "2017-18",
           11
          ],
          [
           "Bainbridge",
           "2017-18",
           12
          ],
          [
           "Bainbridge",
           "2017-18",
           13
          ],
          [
           "Bainbridge",
           "2017-18",
           14
          ],
          [
           "Bainbridge",
           "2017-18",
           15
          ],
          [
           "Bainbridge",
           "2017-18",
           16
          ],
          [
           "Bainbridge",
           "2018-19",
           1
          ],
          [
           "Bainbridge",
           "2018-19",
           2
          ],
          [
           "Bainbridge",
           "2018-19",
           3
          ],
          [
           "Bainbridge",
           "2018-19",
           4
          ],
          [
           "Bainbridge",
           "2018-19",
           5
          ],
          [
           "Bainbridge",
           "2018-19",
           6
          ],
          [
           "Bainbridge",
           "2018-19",
           7
          ],
          [
           "Bainbridge",
           "2018-19",
           8
          ],
          [
           "Bainbridge",
           "2018-19",
           9
          ],
          [
           "Bainbridge",
           "2018-19",
           10
          ],
          [
           "Bainbridge",
           "2018-19",
           11
          ],
          [
           "Bainbridge",
           "2018-19",
           12
          ],
          [
           "Bainbridge",
           "2018-19",
           13
          ],
          [
           "Bainbridge",
           "2018-19",
           14
          ],
          [
           "Bainbridge",
           "2018-19",
           15
          ]
         ],
         "hovertemplate": "Team=%{customdata[0]}<br>Total Matches Played=%{x}<br>ELO Rating=%{y}<br>Season=%{customdata[1]}<br>Season Match #=%{customdata[2]}<extra></extra>",
         "legendgroup": "Bainbridge",
         "line": {
          "color": "#636efa",
          "dash": "solid"
         },
         "marker": {
          "symbol": "circle"
         },
         "mode": "lines",
         "name": "Bainbridge",
         "showlegend": true,
         "type": "scattergl",
         "x": [
          1,
          2,
          3,
          4,
          5,
          6,
          7,
          8,
          9,
          10,
          11,
          12,
          13,
          14,
          15,
          16,
          17,
          18,
          19,
          20,
          21,
          22,
          23,
          24,
          25,
          26,
          27,
          28,
          29,
          30,
          31,
          32,
          33,
          34,
          35,
          36,
          37,
          38,
          39,
          40,
          41,
          42,
          43,
          44,
          45,
          46,
          47,
          48,
          49
         ],
         "xaxis": "x",
         "y": [
          1518.9886624395713,
          1565.7333120624164,
          1574.455780117897,
          1589.37327617627,
          1573.1421085835088,
          1655.049892456845,
          1662.5162843325309,
          1648.1985212192228,
          1647.737026544659,
          1525.6025999921153,
          1617.921565682528,
          1569.8844009385143,
          1648.9848752629655,
          1629.3094627565863,
          1652.8014005331618,
          1657.1753708550264,
          1679.1803589907986,
          1635.9103418400396,
          1633.7642980058845,
          1540.2609938652415,
          1498.0129864393348,
          1448.680109520256,
          1450.7770615647928,
          1452.8248486477537,
          1425.5354826913651,
          1427.3276410839828,
          1685.0079921491683,
          1647.7961002229756,
          1614.4135637639245,
          1490.3548428852368,
          1455.6906619491604,
          1427.0542779321072,
          1411.8949043533607,
          1425.371156144476,
          1397.5276829702889,
          1420.5216310498815,
          1449.4529993210062,
          1437.8321385264717,
          1444.7012563557887,
          1441.6798323467533,
          1430.6743866874715,
          1430.891165654462,
          1400.609531970052,
          1394.083249776569,
          1432.5633029799951,
          1463.0829450446183,
          1434.3697232316076,
          1451.88017449604,
          1411.4390170438633
         ],
         "yaxis": "y"
        },
        {
         "customdata": [
          [
           "Ballard",
           "2016-17",
           1
          ],
          [
           "Ballard",
           "2016-17",
           2
          ],
          [
           "Ballard",
           "2016-17",
           3
          ],
          [
           "Ballard",
           "2016-17",
           4
          ],
          [
           "Ballard",
           "2016-17",
           5
          ],
          [
           "Ballard",
           "2016-17",
           6
          ],
          [
           "Ballard",
           "2016-17",
           7
          ],
          [
           "Ballard",
           "2016-17",
           8
          ],
          [
           "Ballard",
           "2016-17",
           9
          ],
          [
           "Ballard",
           "2016-17",
           10
          ],
          [
           "Ballard",
           "2016-17",
           11
          ],
          [
           "Ballard",
           "2016-17",
           12
          ],
          [
           "Ballard",
           "2016-17",
           13
          ],
          [
           "Ballard",
           "2016-17",
           14
          ],
          [
           "Ballard",
           "2016-17",
           15
          ],
          [
           "Ballard",
           "2016-17",
           16
          ],
          [
           "Ballard",
           "2016-17",
           17
          ],
          [
           "Ballard",
           "2016-17",
           18
          ],
          [
           "Ballard",
           "2016-17",
           19
          ],
          [
           "Ballard",
           "2017-18",
           1
          ],
          [
           "Ballard",
           "2017-18",
           2
          ],
          [
           "Ballard",
           "2017-18",
           3
          ],
          [
           "Ballard",
           "2017-18",
           4
          ],
          [
           "Ballard",
           "2017-18",
           5
          ],
          [
           "Ballard",
           "2017-18",
           6
          ],
          [
           "Ballard",
           "2017-18",
           7
          ],
          [
           "Ballard",
           "2017-18",
           8
          ],
          [
           "Ballard",
           "2017-18",
           9
          ],
          [
           "Ballard",
           "2017-18",
           10
          ],
          [
           "Ballard",
           "2017-18",
           11
          ],
          [
           "Ballard",
           "2017-18",
           12
          ],
          [
           "Ballard",
           "2017-18",
           13
          ],
          [
           "Ballard",
           "2017-18",
           14
          ],
          [
           "Ballard",
           "2017-18",
           15
          ],
          [
           "Ballard",
           "2017-18",
           16
          ],
          [
           "Ballard",
           "2017-18",
           17
          ],
          [
           "Ballard",
           "2017-18",
           18
          ],
          [
           "Ballard",
           "2018-19",
           1
          ],
          [
           "Ballard",
           "2018-19",
           2
          ],
          [
           "Ballard",
           "2018-19",
           3
          ],
          [
           "Ballard",
           "2018-19",
           4
          ],
          [
           "Ballard",
           "2018-19",
           5
          ],
          [
           "Ballard",
           "2018-19",
           6
          ],
          [
           "Ballard",
           "2018-19",
           7
          ],
          [
           "Ballard",
           "2018-19",
           8
          ],
          [
           "Ballard",
           "2018-19",
           9
          ],
          [
           "Ballard",
           "2018-19",
           10
          ],
          [
           "Ballard",
           "2018-19",
           11
          ],
          [
           "Ballard",
           "2018-19",
           12
          ],
          [
           "Ballard",
           "2018-19",
           13
          ],
          [
           "Ballard",
           "2018-19",
           14
          ],
          [
           "Ballard",
           "2018-19",
           15
          ],
          [
           "Ballard",
           "2018-19",
           16
          ],
          [
           "Ballard",
           "2018-19",
           17
          ],
          [
           "Ballard",
           "2018-19",
           18
          ],
          [
           "Ballard",
           "2020-21",
           1
          ],
          [
           "Ballard",
           "2020-21",
           2
          ],
          [
           "Ballard",
           "2020-21",
           3
          ],
          [
           "Ballard",
           "2020-21",
           4
          ],
          [
           "Ballard",
           "2020-21",
           5
          ],
          [
           "Ballard",
           "2020-21",
           6
          ],
          [
           "Ballard",
           "2020-21",
           7
          ],
          [
           "Ballard",
           "2021-22",
           1
          ],
          [
           "Ballard",
           "2021-22",
           2
          ],
          [
           "Ballard",
           "2021-22",
           3
          ],
          [
           "Ballard",
           "2021-22",
           4
          ],
          [
           "Ballard",
           "2021-22",
           5
          ],
          [
           "Ballard",
           "2021-22",
           6
          ],
          [
           "Ballard",
           "2021-22",
           7
          ],
          [
           "Ballard",
           "2021-22",
           8
          ],
          [
           "Ballard",
           "2021-22",
           9
          ],
          [
           "Ballard",
           "2021-22",
           10
          ],
          [
           "Ballard",
           "2021-22",
           11
          ],
          [
           "Ballard",
           "2021-22",
           12
          ],
          [
           "Ballard",
           "2021-22",
           13
          ],
          [
           "Ballard",
           "2021-22",
           14
          ],
          [
           "Ballard",
           "2021-22",
           15
          ],
          [
           "Ballard",
           "2021-22",
           16
          ],
          [
           "Ballard",
           "2021-22",
           17
          ],
          [
           "Ballard",
           "2022-23",
           1
          ],
          [
           "Ballard",
           "2022-23",
           2
          ],
          [
           "Ballard",
           "2022-23",
           3
          ],
          [
           "Ballard",
           "2022-23",
           4
          ],
          [
           "Ballard",
           "2022-23",
           5
          ],
          [
           "Ballard",
           "2022-23",
           6
          ],
          [
           "Ballard",
           "2022-23",
           7
          ],
          [
           "Ballard",
           "2022-23",
           8
          ],
          [
           "Ballard",
           "2022-23",
           9
          ],
          [
           "Ballard",
           "2022-23",
           10
          ],
          [
           "Ballard",
           "2022-23",
           11
          ],
          [
           "Ballard",
           "2022-23",
           12
          ],
          [
           "Ballard",
           "2022-23",
           13
          ],
          [
           "Ballard",
           "2022-23",
           14
          ],
          [
           "Ballard",
           "2022-23",
           15
          ],
          [
           "Ballard",
           "2022-23",
           16
          ],
          [
           "Ballard",
           "2022-23",
           17
          ],
          [
           "Ballard",
           "2022-23",
           18
          ],
          [
           "Ballard",
           "2022-23",
           19
          ],
          [
           "Ballard",
           "2022-23",
           20
          ],
          [
           "Ballard",
           "2022-23",
           21
          ],
          [
           "Ballard",
           "2022-23",
           22
          ],
          [
           "Ballard",
           "2023-24",
           1
          ],
          [
           "Ballard",
           "2023-24",
           2
          ],
          [
           "Ballard",
           "2023-24",
           3
          ],
          [
           "Ballard",
           "2023-24",
           4
          ],
          [
           "Ballard",
           "2023-24",
           5
          ],
          [
           "Ballard",
           "2023-24",
           6
          ],
          [
           "Ballard",
           "2023-24",
           7
          ],
          [
           "Ballard",
           "2023-24",
           8
          ],
          [
           "Ballard",
           "2023-24",
           9
          ],
          [
           "Ballard",
           "2023-24",
           10
          ],
          [
           "Ballard",
           "2023-24",
           11
          ],
          [
           "Ballard",
           "2023-24",
           12
          ],
          [
           "Ballard",
           "2023-24",
           13
          ],
          [
           "Ballard",
           "2023-24",
           14
          ],
          [
           "Ballard",
           "2023-24",
           15
          ],
          [
           "Ballard",
           "2023-24",
           16
          ],
          [
           "Ballard",
           "2023-24",
           17
          ],
          [
           "Ballard",
           "2023-24",
           18
          ],
          [
           "Ballard",
           "2023-24",
           19
          ],
          [
           "Ballard",
           "2024-25",
           1
          ],
          [
           "Ballard",
           "2024-25",
           2
          ],
          [
           "Ballard",
           "2024-25",
           3
          ],
          [
           "Ballard",
           "2024-25",
           4
          ],
          [
           "Ballard",
           "2024-25",
           5
          ],
          [
           "Ballard",
           "2024-25",
           6
          ],
          [
           "Ballard",
           "2024-25",
           7
          ]
         ],
         "hovertemplate": "Team=%{customdata[0]}<br>Total Matches Played=%{x}<br>ELO Rating=%{y}<br>Season=%{customdata[1]}<br>Season Match #=%{customdata[2]}<extra></extra>",
         "legendgroup": "Ballard",
         "line": {
          "color": "#EF553B",
          "dash": "solid"
         },
         "marker": {
          "symbol": "circle"
         },
         "mode": "lines",
         "name": "Ballard",
         "showlegend": true,
         "type": "scattergl",
         "x": [
          1,
          2,
          3,
          4,
          5,
          6,
          7,
          8,
          9,
          10,
          11,
          12,
          13,
          14,
          15,
          16,
          17,
          18,
          19,
          20,
          21,
          22,
          23,
          24,
          25,
          26,
          27,
          28,
          29,
          30,
          31,
          32,
          33,
          34,
          35,
          36,
          37,
          38,
          39,
          40,
          41,
          42,
          43,
          44,
          45,
          46,
          47,
          48,
          49,
          50,
          51,
          52,
          53,
          54,
          55,
          56,
          57,
          58,
          59,
          60,
          61,
          62,
          63,
          64,
          65,
          66,
          67,
          68,
          69,
          70,
          71,
          72,
          73,
          74,
          75,
          76,
          77,
          78,
          79,
          80,
          81,
          82,
          83,
          84,
          85,
          86,
          87,
          88,
          89,
          90,
          91,
          92,
          93,
          94,
          95,
          96,
          97,
          98,
          99,
          100,
          101,
          102,
          103,
          104,
          105,
          106,
          107,
          108,
          109,
          110,
          111,
          112,
          113,
          114,
          115,
          116,
          117,
          118,
          119,
          120,
          121,
          122,
          123,
          124,
          125,
          126,
          127
         ],
         "xaxis": "x",
         "y": [
          1474.3974000078847,
          1620.1287478657407,
          1659.108229713307,
          1687.900985680379,
          1654.7695246090295,
          1664.844638288976,
          1675.059469712168,
          1676.269927242446,
          1689.8740564268985,
          1530.7838319840073,
          1602.4242920098657,
          1646.9721149705142,
          1688.1467798507736,
          1717.184279427662,
          1692.2368598992666,
          1642.6862466168327,
          1673.8319605082472,
          1660.1736468976023,
          1715.7623004622658,
          1685.4168860480702,
          1630.0697392937395,
          1646.8392967727978,
          1621.9070254175117,
          1631.3171247811251,
          1629.909408573668,
          1600.915529020349,
          1607.7857078136142,
          1612.9608177988923,
          1622.280774229951,
          1619.3439590455437,
          1630.6982760882208,
          1631.4801508206108,
          1648.4084061220651,
          1586.4844676548116,
          1576.9325214145856,
          1575.140363021968,
          1603.0950720562553,
          1599.5165307937946,
          1561.8677389597074,
          1588.238186810055,
          1586.8283782329506,
          1592.5911928098085,
          1596.4471012209617,
          1648.6528883086226,
          1595.7176248935368,
          1573.9094108898212,
          1544.7112776617098,
          1565.6597375935146,
          1594.9515556312228,
          1586.0743268612205,
          1625.529510387603,
          1640.358662489348,
          1747.9518680958697,
          1739.1079495174072,
          1722.513801347032,
          1677.0754088132264,
          1650.8086416142992,
          1626.2838680292866,
          1636.0055322928508,
          1601.1275106239168,
          1706.4083823096803,
          1637.3574711775968,
          1586.6847133604165,
          1590.8039317444657,
          1609.988219670315,
          1635.3494382597078,
          1631.012246689265,
          1658.3082426122226,
          1664.6346065314033,
          1596.5550917372566,
          1614.3671149854931,
          1544.3138734566155,
          1582.3629208343173,
          1625.0015405944073,
          1627.155456298714,
          1628.146533704195,
          1642.756387006487,
          1636.0889008641088,
          1649.9741423781911,
          1553.90464805204,
          1649.1427141051347,
          1647.5112621121636,
          1628.8394645826731,
          1677.042153844546,
          1650.6505840947182,
          1638.6765069801606,
          1674.5154260268932,
          1695.1543119885728,
          1708.2722054802182,
          1782.7974022186297,
          1547.3052810788065,
          1620.889643759219,
          1656.912320884864,
          1640.5256751042257,
          1646.2296995977408,
          1615.8636246485307,
          1664.953734971173,
          1662.285641537013,
          1732.215333891657,
          1814.1048669442173,
          1808.84424340555,
          1814.3458583207664,
          1743.262963940521,
          1753.00975651617,
          1720.5965863902218,
          1621.964166218762,
          1617.6393649393617,
          1568.3789089842,
          1588.6498859973094,
          1609.0537217849665,
          1809.395390069022,
          1763.3182320543965,
          1763.912431380328,
          1709.4468579844754,
          1667.9128096267418,
          1608.647548649846,
          1603.5523193038118,
          1620.6570861114085,
          1645.981412164817,
          1639.4717315871912,
          1706.3482202247058,
          1700.8934156521648,
          1675.9386889173584,
          1707.7284733675767,
          1692.6774465271617,
          1723.0123527428932,
          1755.3408652331757
         ],
         "yaxis": "y"
        },
        {
         "customdata": [
          [
           "Bishop Blanchet",
           "2016-17",
           1
          ],
          [
           "Bishop Blanchet",
           "2016-17",
           2
          ],
          [
           "Bishop Blanchet",
           "2016-17",
           3
          ],
          [
           "Bishop Blanchet",
           "2016-17",
           4
          ],
          [
           "Bishop Blanchet",
           "2016-17",
           5
          ],
          [
           "Bishop Blanchet",
           "2016-17",
           6
          ],
          [
           "Bishop Blanchet",
           "2016-17",
           7
          ],
          [
           "Bishop Blanchet",
           "2016-17",
           8
          ],
          [
           "Bishop Blanchet",
           "2016-17",
           9
          ],
          [
           "Bishop Blanchet",
           "2016-17",
           10
          ],
          [
           "Bishop Blanchet",
           "2016-17",
           11
          ],
          [
           "Bishop Blanchet",
           "2016-17",
           12
          ],
          [
           "Bishop Blanchet",
           "2016-17",
           13
          ],
          [
           "Bishop Blanchet",
           "2016-17",
           14
          ],
          [
           "Bishop Blanchet",
           "2016-17",
           15
          ],
          [
           "Bishop Blanchet",
           "2016-17",
           16
          ],
          [
           "Bishop Blanchet",
           "2016-17",
           17
          ],
          [
           "Bishop Blanchet",
           "2017-18",
           1
          ],
          [
           "Bishop Blanchet",
           "2017-18",
           2
          ],
          [
           "Bishop Blanchet",
           "2017-18",
           3
          ],
          [
           "Bishop Blanchet",
           "2017-18",
           4
          ],
          [
           "Bishop Blanchet",
           "2017-18",
           5
          ],
          [
           "Bishop Blanchet",
           "2017-18",
           6
          ],
          [
           "Bishop Blanchet",
           "2017-18",
           7
          ],
          [
           "Bishop Blanchet",
           "2017-18",
           8
          ],
          [
           "Bishop Blanchet",
           "2017-18",
           9
          ],
          [
           "Bishop Blanchet",
           "2017-18",
           10
          ],
          [
           "Bishop Blanchet",
           "2017-18",
           11
          ],
          [
           "Bishop Blanchet",
           "2017-18",
           12
          ],
          [
           "Bishop Blanchet",
           "2017-18",
           13
          ],
          [
           "Bishop Blanchet",
           "2017-18",
           14
          ],
          [
           "Bishop Blanchet",
           "2017-18",
           15
          ],
          [
           "Bishop Blanchet",
           "2017-18",
           16
          ],
          [
           "Bishop Blanchet",
           "2017-18",
           17
          ],
          [
           "Bishop Blanchet",
           "2017-18",
           18
          ],
          [
           "Bishop Blanchet",
           "2018-19",
           1
          ],
          [
           "Bishop Blanchet",
           "2018-19",
           2
          ],
          [
           "Bishop Blanchet",
           "2018-19",
           3
          ],
          [
           "Bishop Blanchet",
           "2018-19",
           4
          ],
          [
           "Bishop Blanchet",
           "2018-19",
           5
          ],
          [
           "Bishop Blanchet",
           "2018-19",
           6
          ],
          [
           "Bishop Blanchet",
           "2018-19",
           7
          ],
          [
           "Bishop Blanchet",
           "2018-19",
           8
          ],
          [
           "Bishop Blanchet",
           "2018-19",
           9
          ],
          [
           "Bishop Blanchet",
           "2018-19",
           10
          ],
          [
           "Bishop Blanchet",
           "2018-19",
           11
          ],
          [
           "Bishop Blanchet",
           "2018-19",
           12
          ],
          [
           "Bishop Blanchet",
           "2018-19",
           13
          ],
          [
           "Bishop Blanchet",
           "2018-19",
           14
          ],
          [
           "Bishop Blanchet",
           "2018-19",
           15
          ],
          [
           "Bishop Blanchet",
           "2018-19",
           16
          ],
          [
           "Bishop Blanchet",
           "2018-19",
           17
          ],
          [
           "Bishop Blanchet",
           "2020-21",
           1
          ],
          [
           "Bishop Blanchet",
           "2020-21",
           2
          ],
          [
           "Bishop Blanchet",
           "2020-21",
           3
          ],
          [
           "Bishop Blanchet",
           "2020-21",
           4
          ],
          [
           "Bishop Blanchet",
           "2020-21",
           5
          ],
          [
           "Bishop Blanchet",
           "2021-22",
           1
          ],
          [
           "Bishop Blanchet",
           "2021-22",
           2
          ],
          [
           "Bishop Blanchet",
           "2021-22",
           3
          ],
          [
           "Bishop Blanchet",
           "2021-22",
           4
          ],
          [
           "Bishop Blanchet",
           "2021-22",
           5
          ],
          [
           "Bishop Blanchet",
           "2021-22",
           6
          ],
          [
           "Bishop Blanchet",
           "2021-22",
           7
          ],
          [
           "Bishop Blanchet",
           "2021-22",
           8
          ],
          [
           "Bishop Blanchet",
           "2021-22",
           9
          ],
          [
           "Bishop Blanchet",
           "2021-22",
           10
          ],
          [
           "Bishop Blanchet",
           "2021-22",
           11
          ],
          [
           "Bishop Blanchet",
           "2021-22",
           12
          ],
          [
           "Bishop Blanchet",
           "2021-22",
           13
          ],
          [
           "Bishop Blanchet",
           "2021-22",
           14
          ],
          [
           "Bishop Blanchet",
           "2021-22",
           15
          ],
          [
           "Bishop Blanchet",
           "2021-22",
           16
          ],
          [
           "Bishop Blanchet",
           "2021-22",
           17
          ],
          [
           "Bishop Blanchet",
           "2021-22",
           18
          ],
          [
           "Bishop Blanchet",
           "2022-23",
           1
          ],
          [
           "Bishop Blanchet",
           "2022-23",
           2
          ],
          [
           "Bishop Blanchet",
           "2022-23",
           3
          ],
          [
           "Bishop Blanchet",
           "2022-23",
           4
          ],
          [
           "Bishop Blanchet",
           "2022-23",
           5
          ],
          [
           "Bishop Blanchet",
           "2022-23",
           6
          ],
          [
           "Bishop Blanchet",
           "2022-23",
           7
          ],
          [
           "Bishop Blanchet",
           "2022-23",
           8
          ],
          [
           "Bishop Blanchet",
           "2022-23",
           9
          ],
          [
           "Bishop Blanchet",
           "2022-23",
           10
          ],
          [
           "Bishop Blanchet",
           "2022-23",
           11
          ],
          [
           "Bishop Blanchet",
           "2022-23",
           12
          ],
          [
           "Bishop Blanchet",
           "2022-23",
           13
          ],
          [
           "Bishop Blanchet",
           "2022-23",
           14
          ],
          [
           "Bishop Blanchet",
           "2022-23",
           15
          ],
          [
           "Bishop Blanchet",
           "2022-23",
           16
          ],
          [
           "Bishop Blanchet",
           "2022-23",
           17
          ],
          [
           "Bishop Blanchet",
           "2023-24",
           1
          ],
          [
           "Bishop Blanchet",
           "2023-24",
           2
          ],
          [
           "Bishop Blanchet",
           "2023-24",
           3
          ],
          [
           "Bishop Blanchet",
           "2023-24",
           4
          ],
          [
           "Bishop Blanchet",
           "2023-24",
           5
          ],
          [
           "Bishop Blanchet",
           "2023-24",
           6
          ],
          [
           "Bishop Blanchet",
           "2023-24",
           7
          ],
          [
           "Bishop Blanchet",
           "2023-24",
           8
          ],
          [
           "Bishop Blanchet",
           "2023-24",
           9
          ],
          [
           "Bishop Blanchet",
           "2023-24",
           10
          ],
          [
           "Bishop Blanchet",
           "2023-24",
           11
          ],
          [
           "Bishop Blanchet",
           "2023-24",
           12
          ],
          [
           "Bishop Blanchet",
           "2023-24",
           13
          ],
          [
           "Bishop Blanchet",
           "2023-24",
           14
          ],
          [
           "Bishop Blanchet",
           "2023-24",
           15
          ],
          [
           "Bishop Blanchet",
           "2023-24",
           16
          ],
          [
           "Bishop Blanchet",
           "2023-24",
           17
          ],
          [
           "Bishop Blanchet",
           "2023-24",
           18
          ],
          [
           "Bishop Blanchet",
           "2023-24",
           19
          ],
          [
           "Bishop Blanchet",
           "2024-25",
           1
          ],
          [
           "Bishop Blanchet",
           "2024-25",
           2
          ],
          [
           "Bishop Blanchet",
           "2024-25",
           3
          ],
          [
           "Bishop Blanchet",
           "2024-25",
           4
          ],
          [
           "Bishop Blanchet",
           "2024-25",
           5
          ],
          [
           "Bishop Blanchet",
           "2024-25",
           6
          ],
          [
           "Bishop Blanchet",
           "2024-25",
           7
          ],
          [
           "Bishop Blanchet",
           "2024-25",
           8
          ]
         ],
         "hovertemplate": "Team=%{customdata[0]}<br>Total Matches Played=%{x}<br>ELO Rating=%{y}<br>Season=%{customdata[1]}<br>Season Match #=%{customdata[2]}<extra></extra>",
         "legendgroup": "Bishop Blanchet",
         "line": {
          "color": "#00cc96",
          "dash": "solid"
         },
         "marker": {
          "symbol": "circle"
         },
         "mode": "lines",
         "name": "Bishop Blanchet",
         "showlegend": true,
         "type": "scattergl",
         "x": [
          1,
          2,
          3,
          4,
          5,
          6,
          7,
          8,
          9,
          10,
          11,
          12,
          13,
          14,
          15,
          16,
          17,
          18,
          19,
          20,
          21,
          22,
          23,
          24,
          25,
          26,
          27,
          28,
          29,
          30,
          31,
          32,
          33,
          34,
          35,
          36,
          37,
          38,
          39,
          40,
          41,
          42,
          43,
          44,
          45,
          46,
          47,
          48,
          49,
          50,
          51,
          52,
          53,
          54,
          55,
          56,
          57,
          58,
          59,
          60,
          61,
          62,
          63,
          64,
          65,
          66,
          67,
          68,
          69,
          70,
          71,
          72,
          73,
          74,
          75,
          76,
          77,
          78,
          79,
          80,
          81,
          82,
          83,
          84,
          85,
          86,
          87,
          88,
          89,
          90,
          91,
          92,
          93,
          94,
          95,
          96,
          97,
          98,
          99,
          100,
          101,
          102,
          103,
          104,
          105,
          106,
          107,
          108,
          109,
          110,
          111,
          112,
          113,
          114,
          115,
          116,
          117,
          118,
          119
         ],
         "xaxis": "x",
         "y": [
          1540.945686017444,
          1489.4737555458637,
          1491.4770225454397,
          1463.4961983353794,
          1520.159802045229,
          1549.3613365553033,
          1522.2832540365562,
          1480.3173572331084,
          1525.6025999921153,
          1494.201036394599,
          1453.1077430873636,
          1511.7037216698034,
          1530.082460134401,
          1545.4037640573456,
          1541.2615516526068,
          1527.20294488316,
          1456.725130948305,
          1544.982362940901,
          1546.6870407068222,
          1548.359050528634,
          1490.615345021566,
          1502.1347131886548,
          1471.6432332003023,
          1423.2463164297587,
          1427.6151079848837,
          1453.2276810709986,
          1526.585644619605,
          1436.979052264226,
          1467.173867361695,
          1451.1024508450375,
          1417.8699416830957,
          1412.097142498525,
          1420.7449291916182,
          1454.5852247752905,
          1451.203342679938,
          1471.8797819312963,
          1440.2516225200711,
          1471.616319208077,
          1490.353196297874,
          1542.3900915902443,
          1551.755936037449,
          1554.1836646072386,
          1523.8057984045774,
          1537.327588184841,
          1471.866595192472,
          1476.663523459073,
          1478.0897787928868,
          1461.200082451876,
          1427.3219005289825,
          1448.2173886858802,
          1537.4936753114114,
          1534.4290372911155,
          1539.4577440403125,
          1595.259064925485,
          1569.164993503431,
          1529.1876411776177,
          1561.6332097802683,
          1572.5594955046463,
          1573.816163266489,
          1474.4804733953677,
          1452.5627671904197,
          1429.9521570100983,
          1427.6141684036947,
          1435.037072229268,
          1498.9648204289504,
          1573.9055267246645,
          1578.4227022917134,
          1566.5224524852326,
          1576.6558646309504,
          1551.2946460415578,
          1465.6008005993172,
          1424.9060218957286,
          1433.8363425449593,
          1563.0500323392548,
          1547.81568639793,
          1514.8207649478684,
          1487.881422697288,
          1463.2241195466218,
          1458.0297096599193,
          1456.2675821553917,
          1438.7488150715126,
          1498.598603408166,
          1503.3237634693307,
          1582.4677846166903,
          1488.3242271071622,
          1510.953339425404,
          1453.8216202335018,
          1472.969443320536,
          1510.5726805227234,
          1539.1924991191154,
          1575.538111895987,
          1541.5003617669436,
          1548.386459424733,
          1624.5846094237602,
          1650.5296952941196,
          1651.950527661077,
          1669.2570337717143,
          1676.738304011911,
          1650.7808805025145,
          1657.7665698912942,
          1597.1677736122026,
          1603.7906937270243,
          1609.9523600901962,
          1649.0853252350612,
          1668.270892147204,
          1677.5429934207998,
          1650.683235888369,
          1666.0973502645854,
          1710.153750121502,
          1706.9465123444252,
          1684.4206957787092,
          1712.4134757103443,
          1781.105302386448,
          1887.585685957536,
          1855.8295334049044,
          1857.0504416037968,
          1873.0630758754885,
          1942.033135538547,
          1953.946102660516
         ],
         "yaxis": "y"
        },
        {
         "customdata": [
          [
           "Chief Sealth",
           "2016-17",
           1
          ],
          [
           "Chief Sealth",
           "2016-17",
           2
          ],
          [
           "Chief Sealth",
           "2016-17",
           3
          ],
          [
           "Chief Sealth",
           "2016-17",
           4
          ],
          [
           "Chief Sealth",
           "2016-17",
           5
          ],
          [
           "Chief Sealth",
           "2016-17",
           6
          ],
          [
           "Chief Sealth",
           "2016-17",
           7
          ],
          [
           "Chief Sealth",
           "2016-17",
           8
          ],
          [
           "Chief Sealth",
           "2016-17",
           9
          ],
          [
           "Chief Sealth",
           "2016-17",
           10
          ],
          [
           "Chief Sealth",
           "2016-17",
           11
          ],
          [
           "Chief Sealth",
           "2016-17",
           12
          ],
          [
           "Chief Sealth",
           "2016-17",
           13
          ],
          [
           "Chief Sealth",
           "2016-17",
           14
          ],
          [
           "Chief Sealth",
           "2016-17",
           15
          ],
          [
           "Chief Sealth",
           "2016-17",
           16
          ],
          [
           "Chief Sealth",
           "2016-17",
           17
          ],
          [
           "Chief Sealth",
           "2017-18",
           1
          ],
          [
           "Chief Sealth",
           "2017-18",
           2
          ],
          [
           "Chief Sealth",
           "2017-18",
           3
          ],
          [
           "Chief Sealth",
           "2017-18",
           4
          ],
          [
           "Chief Sealth",
           "2017-18",
           5
          ],
          [
           "Chief Sealth",
           "2017-18",
           6
          ],
          [
           "Chief Sealth",
           "2017-18",
           7
          ],
          [
           "Chief Sealth",
           "2017-18",
           8
          ],
          [
           "Chief Sealth",
           "2017-18",
           9
          ],
          [
           "Chief Sealth",
           "2017-18",
           10
          ],
          [
           "Chief Sealth",
           "2017-18",
           11
          ],
          [
           "Chief Sealth",
           "2017-18",
           12
          ],
          [
           "Chief Sealth",
           "2017-18",
           13
          ],
          [
           "Chief Sealth",
           "2017-18",
           14
          ],
          [
           "Chief Sealth",
           "2017-18",
           15
          ],
          [
           "Chief Sealth",
           "2017-18",
           16
          ],
          [
           "Chief Sealth",
           "2018-19",
           1
          ],
          [
           "Chief Sealth",
           "2018-19",
           2
          ],
          [
           "Chief Sealth",
           "2018-19",
           3
          ],
          [
           "Chief Sealth",
           "2018-19",
           4
          ],
          [
           "Chief Sealth",
           "2018-19",
           5
          ],
          [
           "Chief Sealth",
           "2018-19",
           6
          ],
          [
           "Chief Sealth",
           "2018-19",
           7
          ],
          [
           "Chief Sealth",
           "2018-19",
           8
          ],
          [
           "Chief Sealth",
           "2018-19",
           9
          ],
          [
           "Chief Sealth",
           "2018-19",
           10
          ],
          [
           "Chief Sealth",
           "2018-19",
           11
          ],
          [
           "Chief Sealth",
           "2018-19",
           12
          ],
          [
           "Chief Sealth",
           "2018-19",
           13
          ],
          [
           "Chief Sealth",
           "2018-19",
           14
          ],
          [
           "Chief Sealth",
           "2018-19",
           15
          ],
          [
           "Chief Sealth",
           "2018-19",
           16
          ],
          [
           "Chief Sealth",
           "2018-19",
           17
          ],
          [
           "Chief Sealth",
           "2020-21",
           1
          ],
          [
           "Chief Sealth",
           "2020-21",
           2
          ],
          [
           "Chief Sealth",
           "2020-21",
           3
          ],
          [
           "Chief Sealth",
           "2020-21",
           4
          ],
          [
           "Chief Sealth",
           "2020-21",
           5
          ],
          [
           "Chief Sealth",
           "2020-21",
           6
          ],
          [
           "Chief Sealth",
           "2021-22",
           1
          ],
          [
           "Chief Sealth",
           "2021-22",
           2
          ],
          [
           "Chief Sealth",
           "2021-22",
           3
          ],
          [
           "Chief Sealth",
           "2021-22",
           4
          ],
          [
           "Chief Sealth",
           "2021-22",
           5
          ],
          [
           "Chief Sealth",
           "2021-22",
           6
          ],
          [
           "Chief Sealth",
           "2021-22",
           7
          ],
          [
           "Chief Sealth",
           "2021-22",
           8
          ],
          [
           "Chief Sealth",
           "2021-22",
           9
          ],
          [
           "Chief Sealth",
           "2021-22",
           10
          ],
          [
           "Chief Sealth",
           "2021-22",
           11
          ],
          [
           "Chief Sealth",
           "2021-22",
           12
          ],
          [
           "Chief Sealth",
           "2021-22",
           13
          ],
          [
           "Chief Sealth",
           "2021-22",
           14
          ],
          [
           "Chief Sealth",
           "2021-22",
           15
          ],
          [
           "Chief Sealth",
           "2021-22",
           16
          ],
          [
           "Chief Sealth",
           "2021-22",
           17
          ],
          [
           "Chief Sealth",
           "2022-23",
           1
          ],
          [
           "Chief Sealth",
           "2022-23",
           2
          ],
          [
           "Chief Sealth",
           "2022-23",
           3
          ],
          [
           "Chief Sealth",
           "2022-23",
           4
          ],
          [
           "Chief Sealth",
           "2022-23",
           5
          ],
          [
           "Chief Sealth",
           "2022-23",
           6
          ],
          [
           "Chief Sealth",
           "2022-23",
           7
          ],
          [
           "Chief Sealth",
           "2022-23",
           8
          ],
          [
           "Chief Sealth",
           "2022-23",
           9
          ],
          [
           "Chief Sealth",
           "2022-23",
           10
          ],
          [
           "Chief Sealth",
           "2022-23",
           11
          ],
          [
           "Chief Sealth",
           "2022-23",
           12
          ],
          [
           "Chief Sealth",
           "2022-23",
           13
          ],
          [
           "Chief Sealth",
           "2022-23",
           14
          ],
          [
           "Chief Sealth",
           "2022-23",
           15
          ],
          [
           "Chief Sealth",
           "2022-23",
           16
          ],
          [
           "Chief Sealth",
           "2022-23",
           17
          ],
          [
           "Chief Sealth",
           "2022-23",
           18
          ],
          [
           "Chief Sealth",
           "2022-23",
           19
          ],
          [
           "Chief Sealth",
           "2023-24",
           1
          ],
          [
           "Chief Sealth",
           "2023-24",
           2
          ],
          [
           "Chief Sealth",
           "2023-24",
           3
          ],
          [
           "Chief Sealth",
           "2023-24",
           4
          ],
          [
           "Chief Sealth",
           "2023-24",
           5
          ],
          [
           "Chief Sealth",
           "2023-24",
           6
          ],
          [
           "Chief Sealth",
           "2023-24",
           7
          ],
          [
           "Chief Sealth",
           "2023-24",
           8
          ],
          [
           "Chief Sealth",
           "2023-24",
           9
          ],
          [
           "Chief Sealth",
           "2023-24",
           10
          ],
          [
           "Chief Sealth",
           "2023-24",
           11
          ],
          [
           "Chief Sealth",
           "2023-24",
           12
          ],
          [
           "Chief Sealth",
           "2023-24",
           13
          ],
          [
           "Chief Sealth",
           "2023-24",
           14
          ],
          [
           "Chief Sealth",
           "2023-24",
           15
          ],
          [
           "Chief Sealth",
           "2024-25",
           1
          ],
          [
           "Chief Sealth",
           "2024-25",
           2
          ],
          [
           "Chief Sealth",
           "2024-25",
           3
          ],
          [
           "Chief Sealth",
           "2024-25",
           4
          ],
          [
           "Chief Sealth",
           "2024-25",
           5
          ],
          [
           "Chief Sealth",
           "2024-25",
           6
          ],
          [
           "Chief Sealth",
           "2024-25",
           7
          ],
          [
           "Chief Sealth",
           "2024-25",
           8
          ]
         ],
         "hovertemplate": "Team=%{customdata[0]}<br>Total Matches Played=%{x}<br>ELO Rating=%{y}<br>Season=%{customdata[1]}<br>Season Match #=%{customdata[2]}<extra></extra>",
         "legendgroup": "Chief Sealth",
         "line": {
          "color": "#ab63fa",
          "dash": "solid"
         },
         "marker": {
          "symbol": "circle"
         },
         "mode": "lines",
         "name": "Chief Sealth",
         "showlegend": true,
         "type": "scattergl",
         "x": [
          1,
          2,
          3,
          4,
          5,
          6,
          7,
          8,
          9,
          10,
          11,
          12,
          13,
          14,
          15,
          16,
          17,
          18,
          19,
          20,
          21,
          22,
          23,
          24,
          25,
          26,
          27,
          28,
          29,
          30,
          31,
          32,
          33,
          34,
          35,
          36,
          37,
          38,
          39,
          40,
          41,
          42,
          43,
          44,
          45,
          46,
          47,
          48,
          49,
          50,
          51,
          52,
          53,
          54,
          55,
          56,
          57,
          58,
          59,
          60,
          61,
          62,
          63,
          64,
          65,
          66,
          67,
          68,
          69,
          70,
          71,
          72,
          73,
          74,
          75,
          76,
          77,
          78,
          79,
          80,
          81,
          82,
          83,
          84,
          85,
          86,
          87,
          88,
          89,
          90,
          91,
          92,
          93,
          94,
          95,
          96,
          97,
          98,
          99,
          100,
          101,
          102,
          103,
          104,
          105,
          106,
          107,
          108,
          109,
          110,
          111,
          112,
          113,
          114,
          115
         ],
         "xaxis": "x",
         "y": [
          1474.3974000078847,
          1427.4138539566975,
          1439.0519819840786,
          1459.0909299995535,
          1406.0931360182576,
          1456.4058933408107,
          1435.4088742953595,
          1437.874325255298,
          1448.2869234039267,
          1499.054313982556,
          1413.6458982371962,
          1505.7913984592594,
          1496.9241255831844,
          1392.863214554313,
          1418.9852667926616,
          1461.0403607596816,
          1493.5048165226156,
          1469.1081072346883,
          1426.8329557284062,
          1412.801153511315,
          1392.8069615764832,
          1387.5256631357852,
          1431.4385513402103,
          1381.405598100397,
          1372.7742810865216,
          1369.8110570247334,
          1381.737961982361,
          1392.2688996601971,
          1381.703450132073,
          1447.711242911124,
          1438.5396821306915,
          1432.8920528052358,
          1417.3740873188774,
          1418.823285440794,
          1417.3970301069803,
          1424.8439957950104,
          1425.482284084325,
          1427.8769164134012,
          1430.0407763622356,
          1451.9558292645263,
          1440.348738124053,
          1428.0774240331752,
          1409.2490712745844,
          1438.854790794543,
          1424.5381277761644,
          1441.831426571298,
          1426.7030056326469,
          1419.8644076982891,
          1450.2443308165507,
          1435.4786713021783,
          1443.9807123497883,
          1472.4226433044587,
          1451.1047194289454,
          1519.748532166097,
          1518.4643102020118,
          1522.6161426247952,
          1541.3807324143947,
          1548.3260209003042,
          1567.8036478475792,
          1588.1995210168104,
          1600.1166450848812,
          1683.689542896593,
          1687.8039569996406,
          1672.9770575025484,
          1547.243939201462,
          1564.068569032108,
          1593.9091927871434,
          1612.1049212251903,
          1620.5662333946302,
          1753.008070127138,
          1756.2030294900278,
          1759.285566779398,
          1765.7937326686645,
          1661.0714068245604,
          1662.5909570600804,
          1664.084646787145,
          1670.4177466594997,
          1667.0120167422574,
          1669.2619945201202,
          1660.2828566899564,
          1653.2660726485983,
          1716.9796044339896,
          1729.20938892387,
          1653.7370612803973,
          1686.4121632991807,
          1646.8948548537276,
          1641.2133494239886,
          1656.2861545859778,
          1637.166595262832,
          1683.500781447956,
          1717.8725484428626,
          1677.6801896918362,
          1583.492717114454,
          1503.7001908143602,
          1482.4817541073955,
          1471.5790792432376,
          1461.7573506869728,
          1430.1434877009883,
          1471.5044798351132,
          1427.4480799781966,
          1647.1196158376142,
          1500.4734198906135,
          1493.1903103242414,
          1482.040581918495,
          1447.1915152076783,
          1463.775924336614,
          1450.4982167840617,
          1430.3045534527537,
          1403.2156919867116,
          1294.9780785529797,
          1271.4755152379548,
          1232.0641250871302,
          1418.5699483808778,
          1352.51218949537,
          1241.240609220779
         ],
         "yaxis": "y"
        },
        {
         "customdata": [
          [
           "Cleveland",
           "2016-17",
           1
          ],
          [
           "Cleveland",
           "2016-17",
           2
          ],
          [
           "Cleveland",
           "2016-17",
           3
          ],
          [
           "Cleveland",
           "2016-17",
           4
          ],
          [
           "Cleveland",
           "2016-17",
           5
          ],
          [
           "Cleveland",
           "2016-17",
           6
          ],
          [
           "Cleveland",
           "2016-17",
           7
          ],
          [
           "Cleveland",
           "2016-17",
           8
          ],
          [
           "Cleveland",
           "2016-17",
           9
          ],
          [
           "Cleveland",
           "2016-17",
           10
          ],
          [
           "Cleveland",
           "2016-17",
           11
          ],
          [
           "Cleveland",
           "2016-17",
           12
          ],
          [
           "Cleveland",
           "2016-17",
           13
          ],
          [
           "Cleveland",
           "2016-17",
           14
          ],
          [
           "Cleveland",
           "2016-17",
           15
          ],
          [
           "Cleveland",
           "2016-17",
           16
          ],
          [
           "Cleveland",
           "2016-17",
           17
          ],
          [
           "Cleveland",
           "2016-17",
           18
          ],
          [
           "Cleveland",
           "2016-17",
           19
          ],
          [
           "Cleveland",
           "2016-17",
           20
          ],
          [
           "Cleveland",
           "2016-17",
           21
          ],
          [
           "Cleveland",
           "2016-17",
           22
          ],
          [
           "Cleveland",
           "2016-17",
           23
          ],
          [
           "Cleveland",
           "2016-17",
           24
          ],
          [
           "Cleveland",
           "2016-17",
           25
          ],
          [
           "Cleveland",
           "2016-17",
           26
          ],
          [
           "Cleveland",
           "2016-17",
           27
          ],
          [
           "Cleveland",
           "2016-17",
           28
          ],
          [
           "Cleveland",
           "2016-17",
           29
          ],
          [
           "Cleveland",
           "2016-17",
           30
          ],
          [
           "Cleveland",
           "2017-18",
           1
          ],
          [
           "Cleveland",
           "2017-18",
           2
          ],
          [
           "Cleveland",
           "2017-18",
           3
          ],
          [
           "Cleveland",
           "2017-18",
           4
          ],
          [
           "Cleveland",
           "2017-18",
           5
          ],
          [
           "Cleveland",
           "2017-18",
           6
          ],
          [
           "Cleveland",
           "2017-18",
           7
          ],
          [
           "Cleveland",
           "2017-18",
           8
          ],
          [
           "Cleveland",
           "2017-18",
           9
          ],
          [
           "Cleveland",
           "2017-18",
           10
          ],
          [
           "Cleveland",
           "2017-18",
           11
          ],
          [
           "Cleveland",
           "2017-18",
           12
          ],
          [
           "Cleveland",
           "2017-18",
           13
          ],
          [
           "Cleveland",
           "2017-18",
           14
          ],
          [
           "Cleveland",
           "2017-18",
           15
          ],
          [
           "Cleveland",
           "2017-18",
           16
          ],
          [
           "Cleveland",
           "2017-18",
           17
          ],
          [
           "Cleveland",
           "2017-18",
           18
          ],
          [
           "Cleveland",
           "2017-18",
           19
          ],
          [
           "Cleveland",
           "2017-18",
           20
          ],
          [
           "Cleveland",
           "2017-18",
           21
          ],
          [
           "Cleveland",
           "2017-18",
           22
          ],
          [
           "Cleveland",
           "2017-18",
           23
          ],
          [
           "Cleveland",
           "2017-18",
           24
          ],
          [
           "Cleveland",
           "2017-18",
           25
          ],
          [
           "Cleveland",
           "2017-18",
           26
          ],
          [
           "Cleveland",
           "2017-18",
           27
          ],
          [
           "Cleveland",
           "2017-18",
           28
          ],
          [
           "Cleveland",
           "2017-18",
           29
          ],
          [
           "Cleveland",
           "2017-18",
           30
          ],
          [
           "Cleveland",
           "2018-19",
           1
          ],
          [
           "Cleveland",
           "2018-19",
           2
          ],
          [
           "Cleveland",
           "2018-19",
           3
          ],
          [
           "Cleveland",
           "2018-19",
           4
          ],
          [
           "Cleveland",
           "2018-19",
           5
          ],
          [
           "Cleveland",
           "2018-19",
           6
          ],
          [
           "Cleveland",
           "2018-19",
           7
          ],
          [
           "Cleveland",
           "2018-19",
           8
          ],
          [
           "Cleveland",
           "2018-19",
           9
          ],
          [
           "Cleveland",
           "2018-19",
           10
          ],
          [
           "Cleveland",
           "2018-19",
           11
          ],
          [
           "Cleveland",
           "2018-19",
           12
          ],
          [
           "Cleveland",
           "2018-19",
           13
          ],
          [
           "Cleveland",
           "2018-19",
           14
          ],
          [
           "Cleveland",
           "2018-19",
           15
          ],
          [
           "Cleveland",
           "2020-21",
           1
          ],
          [
           "Cleveland",
           "2020-21",
           2
          ],
          [
           "Cleveland",
           "2020-21",
           3
          ],
          [
           "Cleveland",
           "2020-21",
           4
          ],
          [
           "Cleveland",
           "2020-21",
           5
          ],
          [
           "Cleveland",
           "2021-22",
           1
          ],
          [
           "Cleveland",
           "2021-22",
           2
          ],
          [
           "Cleveland",
           "2021-22",
           3
          ],
          [
           "Cleveland",
           "2021-22",
           4
          ],
          [
           "Cleveland",
           "2021-22",
           5
          ],
          [
           "Cleveland",
           "2021-22",
           6
          ],
          [
           "Cleveland",
           "2021-22",
           7
          ],
          [
           "Cleveland",
           "2021-22",
           8
          ],
          [
           "Cleveland",
           "2021-22",
           9
          ],
          [
           "Cleveland",
           "2021-22",
           10
          ],
          [
           "Cleveland",
           "2021-22",
           11
          ],
          [
           "Cleveland",
           "2021-22",
           12
          ],
          [
           "Cleveland",
           "2021-22",
           13
          ],
          [
           "Cleveland",
           "2021-22",
           14
          ],
          [
           "Cleveland",
           "2021-22",
           15
          ],
          [
           "Cleveland",
           "2021-22",
           16
          ],
          [
           "Cleveland",
           "2022-23",
           1
          ],
          [
           "Cleveland",
           "2022-23",
           2
          ],
          [
           "Cleveland",
           "2022-23",
           3
          ],
          [
           "Cleveland",
           "2022-23",
           4
          ],
          [
           "Cleveland",
           "2022-23",
           5
          ],
          [
           "Cleveland",
           "2022-23",
           6
          ],
          [
           "Cleveland",
           "2022-23",
           7
          ],
          [
           "Cleveland",
           "2022-23",
           8
          ],
          [
           "Cleveland",
           "2022-23",
           9
          ],
          [
           "Cleveland",
           "2022-23",
           10
          ],
          [
           "Cleveland",
           "2022-23",
           11
          ],
          [
           "Cleveland",
           "2022-23",
           12
          ],
          [
           "Cleveland",
           "2022-23",
           13
          ],
          [
           "Cleveland",
           "2023-24",
           1
          ],
          [
           "Cleveland",
           "2023-24",
           2
          ],
          [
           "Cleveland",
           "2023-24",
           3
          ],
          [
           "Cleveland",
           "2023-24",
           4
          ],
          [
           "Cleveland",
           "2023-24",
           5
          ],
          [
           "Cleveland",
           "2023-24",
           6
          ],
          [
           "Cleveland",
           "2023-24",
           7
          ],
          [
           "Cleveland",
           "2023-24",
           8
          ],
          [
           "Cleveland",
           "2023-24",
           9
          ],
          [
           "Cleveland",
           "2023-24",
           10
          ],
          [
           "Cleveland",
           "2023-24",
           11
          ],
          [
           "Cleveland",
           "2023-24",
           12
          ],
          [
           "Cleveland",
           "2023-24",
           13
          ],
          [
           "Cleveland",
           "2024-25",
           1
          ],
          [
           "Cleveland",
           "2024-25",
           2
          ],
          [
           "Cleveland",
           "2024-25",
           3
          ],
          [
           "Cleveland",
           "2024-25",
           4
          ],
          [
           "Cleveland",
           "2024-25",
           5
          ],
          [
           "Cleveland",
           "2024-25",
           6
          ]
         ],
         "hovertemplate": "Team=%{customdata[0]}<br>Total Matches Played=%{x}<br>ELO Rating=%{y}<br>Season=%{customdata[1]}<br>Season Match #=%{customdata[2]}<extra></extra>",
         "legendgroup": "Cleveland",
         "line": {
          "color": "#FFA15A",
          "dash": "solid"
         },
         "marker": {
          "symbol": "circle"
         },
         "mode": "lines",
         "name": "Cleveland",
         "showlegend": true,
         "type": "scattergl",
         "x": [
          1,
          2,
          3,
          4,
          5,
          6,
          7,
          8,
          9,
          10,
          11,
          12,
          13,
          14,
          15,
          16,
          17,
          18,
          19,
          20,
          21,
          22,
          23,
          24,
          25,
          26,
          27,
          28,
          29,
          30,
          31,
          32,
          33,
          34,
          35,
          36,
          37,
          38,
          39,
          40,
          41,
          42,
          43,
          44,
          45,
          46,
          47,
          48,
          49,
          50,
          51,
          52,
          53,
          54,
          55,
          56,
          57,
          58,
          59,
          60,
          61,
          62,
          63,
          64,
          65,
          66,
          67,
          68,
          69,
          70,
          71,
          72,
          73,
          74,
          75,
          76,
          77,
          78,
          79,
          80,
          81,
          82,
          83,
          84,
          85,
          86,
          87,
          88,
          89,
          90,
          91,
          92,
          93,
          94,
          95,
          96,
          97,
          98,
          99,
          100,
          101,
          102,
          103,
          104,
          105,
          106,
          107,
          108,
          109,
          110,
          111,
          112,
          113,
          114,
          115,
          116,
          117,
          118,
          119,
          120,
          121,
          122,
          123,
          124,
          125,
          126,
          127,
          128
         ],
         "xaxis": "x",
         "y": [
          1423.192200023654,
          1372.3784806915326,
          1159.052595013149,
          1128.709112811128,
          1096.2574294762596,
          1080.936125553315,
          1064.3425497922651,
          1050.2968560300667,
          1033.1400647066064,
          1018.6881071512,
          1003.3932458239956,
          992.4991699305152,
          983.9294880076764,
          979.5555176858118,
          1356.426078759306,
          1342.8473127323082,
          1309.9388984432885,
          1285.2757059988385,
          1259.869622251956,
          1239.830674236481,
          1218.904527850415,
          1201.8207705245118,
          1121.393846189176,
          1114.6361679408571,
          1017.2246747192456,
          1015.7853989645572,
          990.4932457266068,
          988.5323673216152,
          978.3280084818912,
          977.1175509516132,
          937.189688005812,
          908.452252975554,
          889.4447454908219,
          886.9351247593326,
          875.008219801705,
          864.4772821238686,
          850.5584156941904,
          849.7765409618005,
          849.2393847748363,
          848.7054960382729,
          844.1428771391539,
          843.726996015801,
          841.9517755376817,
          840.794714623637,
          831.2978567033615,
          822.7142443218778,
          906.7475752096332,
          905.0755653878216,
          898.3119573557265,
          892.0285090043924,
          857.6691772354054,
          851.3472832087431,
          846.6085439937361,
          844.5607569107754,
          843.4251806248078,
          843.1244095313311,
          821.9983488013074,
          821.2882947092891,
          820.8755972016025,
          820.4648492195661,
          814.8693329053716,
          799.3076367815707,
          808.8211559128108,
          806.4572474564023,
          801.0202164092836,
          794.7919909625306,
          794.189441585687,
          820.3583503873275,
          819.6662611719727,
          808.1828676234958,
          806.9056404696515,
          805.7031960846723,
          804.7155529534195,
          799.6865211547646,
          793.8042240562523,
          824.8320932922454,
          846.008192074042,
          836.0527367199755,
          824.4277846161052,
          840.204569142759,
          830.8490407165563,
          827.6130433134074,
          824.7733419489458,
          816.3964871906924,
          811.4575830291086,
          807.0871870789529,
          766.1660187588167,
          736.8649170298223,
          833.9748008701399,
          829.766959017714,
          816.2046219760382,
          811.896711118647,
          811.0847798140621,
          810.8925895211627,
          807.8859578275541,
          807.4009298985561,
          732.3210906797854,
          722.8679130487288,
          715.1145764044938,
          707.9039867522015,
          703.3779530185166,
          683.9685475734052,
          667.926316098767,
          664.1253944939577,
          654.6824283422173,
          707.4566637781817,
          706.3225604543755,
          653.5426443174572,
          653.1455898097785,
          651.7471446433121,
          713.3461058295211,
          709.3349797950586,
          707.681260869406,
          706.143140404518,
          692.9512352368246,
          689.9142768816424,
          727.140174753064,
          726.7463414073738,
          722.0989246051793,
          712.7644213531986,
          708.4859502782949,
          706.0454957903723,
          690.6186161259873,
          700.8064324689735,
          690.1053985703226,
          704.2896508712836,
          703.9362230460788,
          699.2818827039717
         ],
         "yaxis": "y"
        },
        {
         "customdata": [
          [
           "Eastside Catholic",
           "2016-17",
           1
          ],
          [
           "Eastside Catholic",
           "2016-17",
           2
          ],
          [
           "Eastside Catholic",
           "2016-17",
           3
          ],
          [
           "Eastside Catholic",
           "2016-17",
           4
          ],
          [
           "Eastside Catholic",
           "2016-17",
           5
          ],
          [
           "Eastside Catholic",
           "2016-17",
           6
          ],
          [
           "Eastside Catholic",
           "2016-17",
           7
          ],
          [
           "Eastside Catholic",
           "2016-17",
           8
          ],
          [
           "Eastside Catholic",
           "2016-17",
           9
          ],
          [
           "Eastside Catholic",
           "2016-17",
           10
          ],
          [
           "Eastside Catholic",
           "2016-17",
           11
          ],
          [
           "Eastside Catholic",
           "2016-17",
           12
          ],
          [
           "Eastside Catholic",
           "2016-17",
           13
          ],
          [
           "Eastside Catholic",
           "2016-17",
           14
          ],
          [
           "Eastside Catholic",
           "2016-17",
           15
          ],
          [
           "Eastside Catholic",
           "2016-17",
           16
          ],
          [
           "Eastside Catholic",
           "2017-18",
           1
          ],
          [
           "Eastside Catholic",
           "2017-18",
           2
          ],
          [
           "Eastside Catholic",
           "2017-18",
           3
          ],
          [
           "Eastside Catholic",
           "2017-18",
           4
          ],
          [
           "Eastside Catholic",
           "2017-18",
           5
          ],
          [
           "Eastside Catholic",
           "2017-18",
           6
          ],
          [
           "Eastside Catholic",
           "2017-18",
           7
          ],
          [
           "Eastside Catholic",
           "2017-18",
           8
          ],
          [
           "Eastside Catholic",
           "2017-18",
           9
          ],
          [
           "Eastside Catholic",
           "2017-18",
           10
          ],
          [
           "Eastside Catholic",
           "2017-18",
           11
          ],
          [
           "Eastside Catholic",
           "2017-18",
           12
          ],
          [
           "Eastside Catholic",
           "2017-18",
           13
          ],
          [
           "Eastside Catholic",
           "2017-18",
           14
          ],
          [
           "Eastside Catholic",
           "2017-18",
           15
          ],
          [
           "Eastside Catholic",
           "2017-18",
           16
          ],
          [
           "Eastside Catholic",
           "2018-19",
           1
          ],
          [
           "Eastside Catholic",
           "2018-19",
           2
          ],
          [
           "Eastside Catholic",
           "2018-19",
           3
          ],
          [
           "Eastside Catholic",
           "2018-19",
           4
          ],
          [
           "Eastside Catholic",
           "2018-19",
           5
          ],
          [
           "Eastside Catholic",
           "2018-19",
           6
          ],
          [
           "Eastside Catholic",
           "2018-19",
           7
          ],
          [
           "Eastside Catholic",
           "2018-19",
           8
          ],
          [
           "Eastside Catholic",
           "2018-19",
           9
          ],
          [
           "Eastside Catholic",
           "2018-19",
           10
          ],
          [
           "Eastside Catholic",
           "2018-19",
           11
          ],
          [
           "Eastside Catholic",
           "2018-19",
           12
          ],
          [
           "Eastside Catholic",
           "2018-19",
           13
          ],
          [
           "Eastside Catholic",
           "2018-19",
           14
          ],
          [
           "Eastside Catholic",
           "2018-19",
           15
          ],
          [
           "Eastside Catholic",
           "2018-19",
           16
          ],
          [
           "Eastside Catholic",
           "2018-19",
           17
          ],
          [
           "Eastside Catholic",
           "2020-21",
           1
          ],
          [
           "Eastside Catholic",
           "2020-21",
           2
          ],
          [
           "Eastside Catholic",
           "2020-21",
           3
          ],
          [
           "Eastside Catholic",
           "2020-21",
           4
          ],
          [
           "Eastside Catholic",
           "2020-21",
           5
          ],
          [
           "Eastside Catholic",
           "2020-21",
           6
          ],
          [
           "Eastside Catholic",
           "2021-22",
           1
          ],
          [
           "Eastside Catholic",
           "2021-22",
           2
          ],
          [
           "Eastside Catholic",
           "2021-22",
           3
          ],
          [
           "Eastside Catholic",
           "2021-22",
           4
          ],
          [
           "Eastside Catholic",
           "2021-22",
           5
          ],
          [
           "Eastside Catholic",
           "2021-22",
           6
          ],
          [
           "Eastside Catholic",
           "2021-22",
           7
          ],
          [
           "Eastside Catholic",
           "2021-22",
           8
          ],
          [
           "Eastside Catholic",
           "2021-22",
           9
          ],
          [
           "Eastside Catholic",
           "2021-22",
           10
          ],
          [
           "Eastside Catholic",
           "2021-22",
           11
          ],
          [
           "Eastside Catholic",
           "2021-22",
           12
          ],
          [
           "Eastside Catholic",
           "2021-22",
           13
          ],
          [
           "Eastside Catholic",
           "2021-22",
           14
          ],
          [
           "Eastside Catholic",
           "2021-22",
           15
          ],
          [
           "Eastside Catholic",
           "2021-22",
           16
          ],
          [
           "Eastside Catholic",
           "2021-22",
           17
          ],
          [
           "Eastside Catholic",
           "2022-23",
           1
          ],
          [
           "Eastside Catholic",
           "2022-23",
           2
          ],
          [
           "Eastside Catholic",
           "2022-23",
           3
          ],
          [
           "Eastside Catholic",
           "2022-23",
           4
          ],
          [
           "Eastside Catholic",
           "2022-23",
           5
          ],
          [
           "Eastside Catholic",
           "2022-23",
           6
          ],
          [
           "Eastside Catholic",
           "2022-23",
           7
          ],
          [
           "Eastside Catholic",
           "2022-23",
           8
          ],
          [
           "Eastside Catholic",
           "2022-23",
           9
          ],
          [
           "Eastside Catholic",
           "2022-23",
           10
          ],
          [
           "Eastside Catholic",
           "2022-23",
           11
          ],
          [
           "Eastside Catholic",
           "2022-23",
           12
          ],
          [
           "Eastside Catholic",
           "2022-23",
           13
          ],
          [
           "Eastside Catholic",
           "2022-23",
           14
          ],
          [
           "Eastside Catholic",
           "2022-23",
           15
          ],
          [
           "Eastside Catholic",
           "2023-24",
           1
          ],
          [
           "Eastside Catholic",
           "2023-24",
           2
          ],
          [
           "Eastside Catholic",
           "2023-24",
           3
          ],
          [
           "Eastside Catholic",
           "2023-24",
           4
          ],
          [
           "Eastside Catholic",
           "2023-24",
           5
          ],
          [
           "Eastside Catholic",
           "2023-24",
           6
          ],
          [
           "Eastside Catholic",
           "2023-24",
           7
          ],
          [
           "Eastside Catholic",
           "2023-24",
           8
          ],
          [
           "Eastside Catholic",
           "2023-24",
           9
          ],
          [
           "Eastside Catholic",
           "2023-24",
           10
          ],
          [
           "Eastside Catholic",
           "2023-24",
           11
          ],
          [
           "Eastside Catholic",
           "2023-24",
           12
          ],
          [
           "Eastside Catholic",
           "2023-24",
           13
          ],
          [
           "Eastside Catholic",
           "2023-24",
           14
          ],
          [
           "Eastside Catholic",
           "2023-24",
           15
          ],
          [
           "Eastside Catholic",
           "2023-24",
           16
          ],
          [
           "Eastside Catholic",
           "2023-24",
           17
          ],
          [
           "Eastside Catholic",
           "2024-25",
           1
          ],
          [
           "Eastside Catholic",
           "2024-25",
           2
          ],
          [
           "Eastside Catholic",
           "2024-25",
           3
          ],
          [
           "Eastside Catholic",
           "2024-25",
           4
          ],
          [
           "Eastside Catholic",
           "2024-25",
           5
          ],
          [
           "Eastside Catholic",
           "2024-25",
           6
          ],
          [
           "Eastside Catholic",
           "2024-25",
           7
          ]
         ],
         "hovertemplate": "Team=%{customdata[0]}<br>Total Matches Played=%{x}<br>ELO Rating=%{y}<br>Season=%{customdata[1]}<br>Season Match #=%{customdata[2]}<extra></extra>",
         "legendgroup": "Eastside Catholic",
         "line": {
          "color": "#19d3f3",
          "dash": "solid"
         },
         "marker": {
          "symbol": "circle"
         },
         "mode": "lines",
         "name": "Eastside Catholic",
         "showlegend": true,
         "type": "scattergl",
         "x": [
          1,
          2,
          3,
          4,
          5,
          6,
          7,
          8,
          9,
          10,
          11,
          12,
          13,
          14,
          15,
          16,
          17,
          18,
          19,
          20,
          21,
          22,
          23,
          24,
          25,
          26,
          27,
          28,
          29,
          30,
          31,
          32,
          33,
          34,
          35,
          36,
          37,
          38,
          39,
          40,
          41,
          42,
          43,
          44,
          45,
          46,
          47,
          48,
          49,
          50,
          51,
          52,
          53,
          54,
          55,
          56,
          57,
          58,
          59,
          60,
          61,
          62,
          63,
          64,
          65,
          66,
          67,
          68,
          69,
          70,
          71,
          72,
          73,
          74,
          75,
          76,
          77,
          78,
          79,
          80,
          81,
          82,
          83,
          84,
          85,
          86,
          87,
          88,
          89,
          90,
          91,
          92,
          93,
          94,
          95,
          96,
          97,
          98,
          99,
          100,
          101,
          102,
          103,
          104,
          105,
          106,
          107,
          108,
          109,
          110,
          111
         ],
         "xaxis": "x",
         "y": [
          1423.192200023654,
          1444.8234237922088,
          1469.4866162366588,
          1371.1437068174728,
          1331.7167014319905,
          1305.630884667199,
          1320.0613910706031,
          1339.3755067319237,
          1411.9150095031891,
          1462.491976559291,
          1417.8441752771785,
          1360.755251569457,
          1320.1513335087454,
          1302.3197857306031,
          1286.854569494659,
          1332.3437491981338,
          1335.4312488253668,
          1366.9252758180442,
          1437.3622351831712,
          1397.078282498436,
          1413.3122594159224,
          1367.1125891668207,
          1382.8203844100572,
          1368.8496251787592,
          1326.6296522045905,
          1327.6422837615785,
          1320.555195928312,
          1372.2065742587422,
          1404.0888349273405,
          1446.7496921766538,
          1376.6094470870962,
          1385.19305946858,
          1407.0111827197668,
          1423.995782144205,
          1437.134111004338,
          1482.5816301244986,
          1496.7664500628457,
          1535.216680189914,
          1519.6276587474492,
          1489.247735629188,
          1501.575650033692,
          1403.212276819509,
          1415.8423150113122,
          1495.4892229090012,
          1559.3631559091782,
          1549.6443825304732,
          1530.9075054406758,
          1530.4571438212604,
          1493.492900360775,
          1458.361049794049,
          1389.4547534744738,
          1482.654341226921,
          1436.780642336112,
          1385.505967389317,
          1322.4756166585296,
          1350.3718521054593,
          1357.475413360263,
          1380.7416259533538,
          1373.242741665461,
          1349.1862343545995,
          1337.0798307026037,
          1298.5184486306675,
          1287.9361252939866,
          1350.7029722891202,
          1362.3576271067764,
          1373.217961492067,
          1374.642649988662,
          1383.0195047469156,
          1339.9548454560395,
          1326.9487803690645,
          1284.7080975514905,
          1262.8077412301454,
          1322.2992005209132,
          1259.5084686052476,
          1236.7693940635345,
          1291.286809240036,
          1315.3658621786842,
          1334.546929672028,
          1345.9521020283853,
          1361.968008126216,
          1363.107792150976,
          1376.207225145393,
          1320.022738207696,
          1275.1537241613123,
          1268.961646236304,
          1256.1349349803606,
          1326.5806089226348,
          1412.402129436441,
          1478.591246270311,
          1538.8811771584797,
          1539.8673187829902,
          1562.316568230833,
          1584.482547793424,
          1584.8754269707697,
          1585.2665504314891,
          1446.0111539033792,
          1473.2204699583992,
          1482.4706018728757,
          1486.1962900650228,
          1538.299492682157,
          1531.3999069182832,
          1563.8546886957208,
          1574.689440973929,
          1559.6557344507678,
          1600.7752034586863,
          1616.4828876780575,
          1607.3209258369793,
          1572.2482161162966,
          1616.1294598528527,
          1619.1907554097552,
          1601.404467666547
         ],
         "yaxis": "y"
        },
        {
         "customdata": [
          [
           "Franklin",
           "2016-17",
           1
          ],
          [
           "Franklin",
           "2016-17",
           2
          ],
          [
           "Franklin",
           "2016-17",
           3
          ],
          [
           "Franklin",
           "2016-17",
           4
          ],
          [
           "Franklin",
           "2016-17",
           5
          ],
          [
           "Franklin",
           "2016-17",
           6
          ],
          [
           "Franklin",
           "2016-17",
           7
          ],
          [
           "Franklin",
           "2016-17",
           8
          ],
          [
           "Franklin",
           "2016-17",
           9
          ],
          [
           "Franklin",
           "2016-17",
           10
          ],
          [
           "Franklin",
           "2016-17",
           11
          ],
          [
           "Franklin",
           "2016-17",
           12
          ],
          [
           "Franklin",
           "2016-17",
           13
          ],
          [
           "Franklin",
           "2016-17",
           14
          ],
          [
           "Franklin",
           "2016-17",
           15
          ],
          [
           "Franklin",
           "2016-17",
           16
          ],
          [
           "Franklin",
           "2017-18",
           1
          ],
          [
           "Franklin",
           "2017-18",
           2
          ],
          [
           "Franklin",
           "2017-18",
           3
          ],
          [
           "Franklin",
           "2017-18",
           4
          ],
          [
           "Franklin",
           "2017-18",
           5
          ],
          [
           "Franklin",
           "2017-18",
           6
          ],
          [
           "Franklin",
           "2017-18",
           7
          ],
          [
           "Franklin",
           "2017-18",
           8
          ],
          [
           "Franklin",
           "2017-18",
           9
          ],
          [
           "Franklin",
           "2017-18",
           10
          ],
          [
           "Franklin",
           "2017-18",
           11
          ],
          [
           "Franklin",
           "2017-18",
           12
          ],
          [
           "Franklin",
           "2017-18",
           13
          ],
          [
           "Franklin",
           "2017-18",
           14
          ],
          [
           "Franklin",
           "2017-18",
           15
          ],
          [
           "Franklin",
           "2017-18",
           16
          ],
          [
           "Franklin",
           "2018-19",
           1
          ],
          [
           "Franklin",
           "2018-19",
           2
          ],
          [
           "Franklin",
           "2018-19",
           3
          ],
          [
           "Franklin",
           "2018-19",
           4
          ],
          [
           "Franklin",
           "2018-19",
           5
          ],
          [
           "Franklin",
           "2018-19",
           6
          ],
          [
           "Franklin",
           "2018-19",
           7
          ],
          [
           "Franklin",
           "2018-19",
           8
          ],
          [
           "Franklin",
           "2018-19",
           9
          ],
          [
           "Franklin",
           "2018-19",
           10
          ],
          [
           "Franklin",
           "2018-19",
           11
          ],
          [
           "Franklin",
           "2018-19",
           12
          ],
          [
           "Franklin",
           "2018-19",
           13
          ],
          [
           "Franklin",
           "2018-19",
           14
          ],
          [
           "Franklin",
           "2018-19",
           15
          ],
          [
           "Franklin",
           "2020-21",
           1
          ],
          [
           "Franklin",
           "2020-21",
           2
          ],
          [
           "Franklin",
           "2020-21",
           3
          ],
          [
           "Franklin",
           "2020-21",
           4
          ],
          [
           "Franklin",
           "2020-21",
           5
          ],
          [
           "Franklin",
           "2021-22",
           1
          ],
          [
           "Franklin",
           "2021-22",
           2
          ],
          [
           "Franklin",
           "2021-22",
           3
          ],
          [
           "Franklin",
           "2021-22",
           4
          ],
          [
           "Franklin",
           "2021-22",
           5
          ],
          [
           "Franklin",
           "2021-22",
           6
          ],
          [
           "Franklin",
           "2021-22",
           7
          ],
          [
           "Franklin",
           "2021-22",
           8
          ],
          [
           "Franklin",
           "2021-22",
           9
          ],
          [
           "Franklin",
           "2021-22",
           10
          ],
          [
           "Franklin",
           "2021-22",
           11
          ],
          [
           "Franklin",
           "2021-22",
           12
          ],
          [
           "Franklin",
           "2021-22",
           13
          ],
          [
           "Franklin",
           "2021-22",
           14
          ],
          [
           "Franklin",
           "2021-22",
           15
          ],
          [
           "Franklin",
           "2021-22",
           16
          ],
          [
           "Franklin",
           "2021-22",
           17
          ],
          [
           "Franklin",
           "2022-23",
           1
          ],
          [
           "Franklin",
           "2022-23",
           2
          ],
          [
           "Franklin",
           "2022-23",
           3
          ],
          [
           "Franklin",
           "2022-23",
           4
          ],
          [
           "Franklin",
           "2022-23",
           5
          ],
          [
           "Franklin",
           "2022-23",
           6
          ],
          [
           "Franklin",
           "2022-23",
           7
          ],
          [
           "Franklin",
           "2022-23",
           8
          ],
          [
           "Franklin",
           "2022-23",
           9
          ],
          [
           "Franklin",
           "2022-23",
           10
          ],
          [
           "Franklin",
           "2022-23",
           11
          ],
          [
           "Franklin",
           "2022-23",
           12
          ],
          [
           "Franklin",
           "2022-23",
           13
          ],
          [
           "Franklin",
           "2022-23",
           14
          ],
          [
           "Franklin",
           "2022-23",
           15
          ],
          [
           "Franklin",
           "2023-24",
           1
          ],
          [
           "Franklin",
           "2023-24",
           2
          ],
          [
           "Franklin",
           "2023-24",
           3
          ],
          [
           "Franklin",
           "2023-24",
           4
          ],
          [
           "Franklin",
           "2023-24",
           5
          ],
          [
           "Franklin",
           "2023-24",
           6
          ],
          [
           "Franklin",
           "2023-24",
           7
          ],
          [
           "Franklin",
           "2023-24",
           8
          ],
          [
           "Franklin",
           "2023-24",
           9
          ],
          [
           "Franklin",
           "2023-24",
           10
          ],
          [
           "Franklin",
           "2023-24",
           11
          ],
          [
           "Franklin",
           "2023-24",
           12
          ],
          [
           "Franklin",
           "2023-24",
           13
          ],
          [
           "Franklin",
           "2023-24",
           14
          ],
          [
           "Franklin",
           "2023-24",
           15
          ],
          [
           "Franklin",
           "2023-24",
           16
          ],
          [
           "Franklin",
           "2023-24",
           17
          ],
          [
           "Franklin",
           "2023-24",
           18
          ],
          [
           "Franklin",
           "2024-25",
           1
          ],
          [
           "Franklin",
           "2024-25",
           2
          ],
          [
           "Franklin",
           "2024-25",
           3
          ],
          [
           "Franklin",
           "2024-25",
           4
          ],
          [
           "Franklin",
           "2024-25",
           5
          ],
          [
           "Franklin",
           "2024-25",
           6
          ],
          [
           "Franklin",
           "2024-25",
           7
          ],
          [
           "Franklin",
           "2024-25",
           8
          ]
         ],
         "hovertemplate": "Team=%{customdata[0]}<br>Total Matches Played=%{x}<br>ELO Rating=%{y}<br>Season=%{customdata[1]}<br>Season Match #=%{customdata[2]}<extra></extra>",
         "legendgroup": "Franklin",
         "line": {
          "color": "#FF6692",
          "dash": "solid"
         },
         "marker": {
          "symbol": "circle"
         },
         "mode": "lines",
         "name": "Franklin",
         "showlegend": true,
         "type": "scattergl",
         "x": [
          1,
          2,
          3,
          4,
          5,
          6,
          7,
          8,
          9,
          10,
          11,
          12,
          13,
          14,
          15,
          16,
          17,
          18,
          19,
          20,
          21,
          22,
          23,
          24,
          25,
          26,
          27,
          28,
          29,
          30,
          31,
          32,
          33,
          34,
          35,
          36,
          37,
          38,
          39,
          40,
          41,
          42,
          43,
          44,
          45,
          46,
          47,
          48,
          49,
          50,
          51,
          52,
          53,
          54,
          55,
          56,
          57,
          58,
          59,
          60,
          61,
          62,
          63,
          64,
          65,
          66,
          67,
          68,
          69,
          70,
          71,
          72,
          73,
          74,
          75,
          76,
          77,
          78,
          79,
          80,
          81,
          82,
          83,
          84,
          85,
          86,
          87,
          88,
          89,
          90,
          91,
          92,
          93,
          94,
          95,
          96,
          97,
          98,
          99,
          100,
          101,
          102,
          103,
          104,
          105,
          106,
          107,
          108,
          109,
          110
         ],
         "xaxis": "x",
         "y": [
          1645.350344108627,
          1639.0142687313055,
          1646.0089084086733,
          1617.162274304324,
          1509.4037689481354,
          1512.4335821407649,
          1424.4020168301724,
          1407.229418973856,
          1576.807799976346,
          1627.6215193084674,
          1644.0056414090975,
          1569.1933035448071,
          1513.401315215214,
          1449.8586364287162,
          1443.7936192348366,
          1442.0889680185746,
          1358.5376225583266,
          1258.059684898488,
          1259.6010242503364,
          1265.9229182769989,
          1249.6502267060853,
          1275.4207974217315,
          1270.634973492923,
          1284.3554476125669,
          1431.895586106933,
          1351.312666941816,
          1340.2286018765033,
          1293.8585219867712,
          1284.4484226231575,
          1252.7929193618734,
          1267.2148568882913,
          1278.572730341541,
          1246.2560947292698,
          1345.7412774448574,
          1411.8123154437,
          1349.2156095973671,
          1356.4424760032991,
          1400.9511835410342,
          1357.0396222726476,
          1314.2403076628066,
          1257.8962910901826,
          1245.5904847311317,
          1261.1521808549323,
          1253.7052151669022,
          1310.9487631604154,
          1343.357321517562,
          1370.5701981892907,
          1284.907371117656,
          1269.3930701734257,
          1374.3940846255923,
          1300.8886664586869,
          1263.5894472421426,
          1346.166728995002,
          1338.2546480239816,
          1302.768286010414,
          1269.1937820494095,
          1290.121775176622,
          1272.1741194818635,
          1253.190097814094,
          1277.2484565797238,
          1264.3038715786074,
          1324.9741381542417,
          1332.217605004568,
          1265.4587032339386,
          1264.2975385994434,
          1267.7999511163864,
          1246.251192331075,
          1274.2418248861152,
          1274.9118275002545,
          1313.5235478645973,
          1312.199111594745,
          1253.1579950983314,
          1221.4230911831976,
          1222.5571945070035,
          1207.2263615075,
          1198.9230506266738,
          1191.5165726819084,
          1179.836871813996,
          1329.5179645042786,
          1299.3724003388018,
          1287.1699814266556,
          1234.5001284474135,
          1200.9595388336488,
          1166.7374388195788,
          1155.2832385886877,
          1114.7881164639605,
          1116.0717262652083,
          1115.3483667554908,
          1178.1016408629132,
          1153.4981821643655,
          1168.5778853649797,
          1181.5133067104623,
          1175.5769933305785,
          1148.3971409308983,
          1110.7009499532962,
          1112.3843224985333,
          1130.555340946992,
          1146.678886292748,
          1164.0279555180543,
          1170.8135131503218,
          1183.9077737038697,
          1168.2169299283603,
          1155.6244482628315,
          1191.5173777572918,
          1258.6302911275632,
          1232.4003533366856,
          1242.7919057170996,
          1207.9267886362215,
          1235.5301439137909,
          1227.8093988674711
         ],
         "yaxis": "y"
        },
        {
         "customdata": [
          [
           "Garfield",
           "2016-17",
           1
          ],
          [
           "Garfield",
           "2016-17",
           2
          ],
          [
           "Garfield",
           "2016-17",
           3
          ],
          [
           "Garfield",
           "2016-17",
           4
          ],
          [
           "Garfield",
           "2016-17",
           5
          ],
          [
           "Garfield",
           "2016-17",
           6
          ],
          [
           "Garfield",
           "2016-17",
           7
          ],
          [
           "Garfield",
           "2016-17",
           8
          ],
          [
           "Garfield",
           "2016-17",
           9
          ],
          [
           "Garfield",
           "2016-17",
           10
          ],
          [
           "Garfield",
           "2016-17",
           11
          ],
          [
           "Garfield",
           "2016-17",
           12
          ],
          [
           "Garfield",
           "2016-17",
           13
          ],
          [
           "Garfield",
           "2016-17",
           14
          ],
          [
           "Garfield",
           "2016-17",
           15
          ],
          [
           "Garfield",
           "2016-17",
           16
          ],
          [
           "Garfield",
           "2016-17",
           17
          ],
          [
           "Garfield",
           "2016-17",
           18
          ],
          [
           "Garfield",
           "2016-17",
           19
          ],
          [
           "Garfield",
           "2016-17",
           20
          ],
          [
           "Garfield",
           "2017-18",
           1
          ],
          [
           "Garfield",
           "2017-18",
           2
          ],
          [
           "Garfield",
           "2017-18",
           3
          ],
          [
           "Garfield",
           "2017-18",
           4
          ],
          [
           "Garfield",
           "2017-18",
           5
          ],
          [
           "Garfield",
           "2017-18",
           6
          ],
          [
           "Garfield",
           "2017-18",
           7
          ],
          [
           "Garfield",
           "2017-18",
           8
          ],
          [
           "Garfield",
           "2017-18",
           9
          ],
          [
           "Garfield",
           "2017-18",
           10
          ],
          [
           "Garfield",
           "2017-18",
           11
          ],
          [
           "Garfield",
           "2017-18",
           12
          ],
          [
           "Garfield",
           "2017-18",
           13
          ],
          [
           "Garfield",
           "2017-18",
           14
          ],
          [
           "Garfield",
           "2017-18",
           15
          ],
          [
           "Garfield",
           "2017-18",
           16
          ],
          [
           "Garfield",
           "2017-18",
           17
          ],
          [
           "Garfield",
           "2017-18",
           18
          ],
          [
           "Garfield",
           "2017-18",
           19
          ],
          [
           "Garfield",
           "2017-18",
           20
          ],
          [
           "Garfield",
           "2017-18",
           21
          ],
          [
           "Garfield",
           "2018-19",
           1
          ],
          [
           "Garfield",
           "2018-19",
           2
          ],
          [
           "Garfield",
           "2018-19",
           3
          ],
          [
           "Garfield",
           "2018-19",
           4
          ],
          [
           "Garfield",
           "2018-19",
           5
          ],
          [
           "Garfield",
           "2018-19",
           6
          ],
          [
           "Garfield",
           "2018-19",
           7
          ],
          [
           "Garfield",
           "2018-19",
           8
          ],
          [
           "Garfield",
           "2018-19",
           9
          ],
          [
           "Garfield",
           "2018-19",
           10
          ],
          [
           "Garfield",
           "2018-19",
           11
          ],
          [
           "Garfield",
           "2018-19",
           12
          ],
          [
           "Garfield",
           "2018-19",
           13
          ],
          [
           "Garfield",
           "2018-19",
           14
          ],
          [
           "Garfield",
           "2018-19",
           15
          ],
          [
           "Garfield",
           "2018-19",
           16
          ],
          [
           "Garfield",
           "2020-21",
           1
          ],
          [
           "Garfield",
           "2020-21",
           2
          ],
          [
           "Garfield",
           "2020-21",
           3
          ],
          [
           "Garfield",
           "2020-21",
           4
          ],
          [
           "Garfield",
           "2020-21",
           5
          ],
          [
           "Garfield",
           "2021-22",
           1
          ],
          [
           "Garfield",
           "2021-22",
           2
          ],
          [
           "Garfield",
           "2021-22",
           3
          ],
          [
           "Garfield",
           "2021-22",
           4
          ],
          [
           "Garfield",
           "2021-22",
           5
          ],
          [
           "Garfield",
           "2021-22",
           6
          ],
          [
           "Garfield",
           "2021-22",
           7
          ],
          [
           "Garfield",
           "2021-22",
           8
          ],
          [
           "Garfield",
           "2021-22",
           9
          ],
          [
           "Garfield",
           "2021-22",
           10
          ],
          [
           "Garfield",
           "2021-22",
           11
          ],
          [
           "Garfield",
           "2021-22",
           12
          ],
          [
           "Garfield",
           "2021-22",
           13
          ],
          [
           "Garfield",
           "2021-22",
           14
          ],
          [
           "Garfield",
           "2021-22",
           15
          ],
          [
           "Garfield",
           "2021-22",
           16
          ],
          [
           "Garfield",
           "2021-22",
           17
          ],
          [
           "Garfield",
           "2022-23",
           1
          ],
          [
           "Garfield",
           "2022-23",
           2
          ],
          [
           "Garfield",
           "2022-23",
           3
          ],
          [
           "Garfield",
           "2022-23",
           4
          ],
          [
           "Garfield",
           "2022-23",
           5
          ],
          [
           "Garfield",
           "2022-23",
           6
          ],
          [
           "Garfield",
           "2022-23",
           7
          ],
          [
           "Garfield",
           "2022-23",
           8
          ],
          [
           "Garfield",
           "2022-23",
           9
          ],
          [
           "Garfield",
           "2022-23",
           10
          ],
          [
           "Garfield",
           "2022-23",
           11
          ],
          [
           "Garfield",
           "2022-23",
           12
          ],
          [
           "Garfield",
           "2022-23",
           13
          ],
          [
           "Garfield",
           "2022-23",
           14
          ],
          [
           "Garfield",
           "2022-23",
           15
          ],
          [
           "Garfield",
           "2022-23",
           16
          ],
          [
           "Garfield",
           "2022-23",
           17
          ],
          [
           "Garfield",
           "2023-24",
           1
          ],
          [
           "Garfield",
           "2023-24",
           2
          ],
          [
           "Garfield",
           "2023-24",
           3
          ],
          [
           "Garfield",
           "2023-24",
           4
          ],
          [
           "Garfield",
           "2023-24",
           5
          ],
          [
           "Garfield",
           "2023-24",
           6
          ],
          [
           "Garfield",
           "2023-24",
           7
          ],
          [
           "Garfield",
           "2023-24",
           8
          ],
          [
           "Garfield",
           "2023-24",
           9
          ],
          [
           "Garfield",
           "2023-24",
           10
          ],
          [
           "Garfield",
           "2023-24",
           11
          ],
          [
           "Garfield",
           "2023-24",
           12
          ],
          [
           "Garfield",
           "2023-24",
           13
          ],
          [
           "Garfield",
           "2023-24",
           14
          ],
          [
           "Garfield",
           "2023-24",
           15
          ],
          [
           "Garfield",
           "2023-24",
           16
          ],
          [
           "Garfield",
           "2023-24",
           17
          ],
          [
           "Garfield",
           "2023-24",
           18
          ],
          [
           "Garfield",
           "2023-24",
           19
          ],
          [
           "Garfield",
           "2023-24",
           20
          ],
          [
           "Garfield",
           "2023-24",
           21
          ],
          [
           "Garfield",
           "2023-24",
           22
          ],
          [
           "Garfield",
           "2024-25",
           1
          ],
          [
           "Garfield",
           "2024-25",
           2
          ],
          [
           "Garfield",
           "2024-25",
           3
          ],
          [
           "Garfield",
           "2024-25",
           4
          ],
          [
           "Garfield",
           "2024-25",
           5
          ],
          [
           "Garfield",
           "2024-25",
           6
          ],
          [
           "Garfield",
           "2024-25",
           7
          ]
         ],
         "hovertemplate": "Team=%{customdata[0]}<br>Total Matches Played=%{x}<br>ELO Rating=%{y}<br>Season=%{customdata[1]}<br>Season Match #=%{customdata[2]}<extra></extra>",
         "legendgroup": "Garfield",
         "line": {
          "color": "#B6E880",
          "dash": "solid"
         },
         "marker": {
          "symbol": "circle"
         },
         "mode": "lines",
         "name": "Garfield",
         "showlegend": true,
         "type": "scattergl",
         "x": [
          1,
          2,
          3,
          4,
          5,
          6,
          7,
          8,
          9,
          10,
          11,
          12,
          13,
          14,
          15,
          16,
          17,
          18,
          19,
          20,
          21,
          22,
          23,
          24,
          25,
          26,
          27,
          28,
          29,
          30,
          31,
          32,
          33,
          34,
          35,
          36,
          37,
          38,
          39,
          40,
          41,
          42,
          43,
          44,
          45,
          46,
          47,
          48,
          49,
          50,
          51,
          52,
          53,
          54,
          55,
          56,
          57,
          58,
          59,
          60,
          61,
          62,
          63,
          64,
          65,
          66,
          67,
          68,
          69,
          70,
          71,
          72,
          73,
          74,
          75,
          76,
          77,
          78,
          79,
          80,
          81,
          82,
          83,
          84,
          85,
          86,
          87,
          88,
          89,
          90,
          91,
          92,
          93,
          94,
          95,
          96,
          97,
          98,
          99,
          100,
          101,
          102,
          103,
          104,
          105,
          106,
          107,
          108,
          109,
          110,
          111,
          112,
          113,
          114,
          115,
          116,
          117,
          118,
          119,
          120,
          121,
          122,
          123,
          124,
          125
         ],
         "xaxis": "x",
         "y": [
          1599.3621810172756,
          1626.1081945527824,
          1632.8295080248404,
          1567.1070335984173,
          1491.2642669189606,
          1561.7405637937993,
          1603.0430962448831,
          1644.965910956024,
          1661.0621913008677,
          1584.5015457022891,
          1559.250085907042,
          1543.610942874493,
          1576.807799976346,
          1605.6982563945971,
          1623.962235148765,
          1649.6769024748794,
          1635.5458721669952,
          1503.6564200595224,
          1514.5504959530026,
          1547.6819570243524,
          1549.3250398680364,
          1589.399741528015,
          1601.626631417731,
          1698.5845512164362,
          1662.3820186664154,
          1660.015400529756,
          1697.423481185261,
          1706.5222816387256,
          1706.9330296207622,
          1716.7987753633995,
          1731.5190015392388,
          1760.1925343985097,
          1808.930742133752,
          1832.0857372508356,
          1591.600191374319,
          1620.714453102048,
          1662.962460527955,
          1693.3177856798216,
          1694.8160411418376,
          1687.871534945035,
          1706.1095841310391,
          1861.5867468512915,
          1871.7709527200195,
          1826.6036939336416,
          1805.708205776744,
          1808.1175754277149,
          1813.5929558374148,
          1821.034103148616,
          1721.735123361369,
          1854.7863532955812,
          1857.6034687539047,
          1895.385084623205,
          1884.2571887822728,
          1787.5159249152066,
          1820.4542424930012,
          1834.581964678993,
          1814.1955052142584,
          1713.6373909898991,
          1707.4457134933657,
          1713.2330823137588,
          1710.49383553743,
          1602.4446990411989,
          1612.502783237432,
          1571.8975383489783,
          1577.360145792799,
          1551.2546008532345,
          1639.7380360379684,
          1648.6980644698244,
          1664.5481847682738,
          1665.0332126972717,
          1647.150806394778,
          1576.86239431999,
          1598.553659246998,
          1576.395907638172,
          1566.0745446493852,
          1628.0687734994249,
          1632.405965069867,
          1630.5066471394084,
          1640.9476062302947,
          1577.2324936334185,
          1585.0938448810923,
          1629.1230314013037,
          1613.491125851518,
          1651.5315874502096,
          1625.2543594591973,
          1646.2271901056677,
          1670.5146331671135,
          1571.538223341146,
          1563.081346107623,
          1564.9766829925625,
          1647.368375590376,
          1647.7117541005416,
          1601.531149915709,
          1596.4975179626088,
          1636.47688303807,
          1657.396739675468,
          1678.096458595444,
          1658.0276954484148,
          1635.4797389430958,
          1649.0611171082137,
          1715.8574996051352,
          1759.6207688790876,
          1739.1064505476377,
          1784.2409630761265,
          1792.1892355227749,
          1828.6732632927065,
          1843.517152053184,
          1807.673129155932,
          1668.8509399063591,
          1670.9214420224075,
          1653.4714047263135,
          1642.1313740435692,
          1663.1737228416553,
          1761.8061430131152,
          1725.8287429950851,
          1774.407900296041,
          1769.6634189570589,
          1818.269341508205,
          1693.419319033636,
          1711.4444030925106,
          1713.0686752071574,
          1734.915358642622,
          1766.7632969092213,
          1768.1435500520922,
          1696.921793010463
         ],
         "yaxis": "y"
        },
        {
         "customdata": [
          [
           "Ingraham",
           "2016-17",
           1
          ],
          [
           "Ingraham",
           "2016-17",
           2
          ],
          [
           "Ingraham",
           "2016-17",
           3
          ],
          [
           "Ingraham",
           "2016-17",
           4
          ],
          [
           "Ingraham",
           "2016-17",
           5
          ],
          [
           "Ingraham",
           "2016-17",
           6
          ],
          [
           "Ingraham",
           "2016-17",
           7
          ],
          [
           "Ingraham",
           "2016-17",
           8
          ],
          [
           "Ingraham",
           "2016-17",
           9
          ],
          [
           "Ingraham",
           "2016-17",
           10
          ],
          [
           "Ingraham",
           "2016-17",
           11
          ],
          [
           "Ingraham",
           "2016-17",
           12
          ],
          [
           "Ingraham",
           "2016-17",
           13
          ],
          [
           "Ingraham",
           "2016-17",
           14
          ],
          [
           "Ingraham",
           "2016-17",
           15
          ],
          [
           "Ingraham",
           "2016-17",
           16
          ],
          [
           "Ingraham",
           "2016-17",
           17
          ],
          [
           "Ingraham",
           "2017-18",
           1
          ],
          [
           "Ingraham",
           "2017-18",
           2
          ],
          [
           "Ingraham",
           "2017-18",
           3
          ],
          [
           "Ingraham",
           "2017-18",
           4
          ],
          [
           "Ingraham",
           "2017-18",
           5
          ],
          [
           "Ingraham",
           "2017-18",
           6
          ],
          [
           "Ingraham",
           "2017-18",
           7
          ],
          [
           "Ingraham",
           "2017-18",
           8
          ],
          [
           "Ingraham",
           "2017-18",
           9
          ],
          [
           "Ingraham",
           "2017-18",
           10
          ],
          [
           "Ingraham",
           "2017-18",
           11
          ],
          [
           "Ingraham",
           "2017-18",
           12
          ],
          [
           "Ingraham",
           "2017-18",
           13
          ],
          [
           "Ingraham",
           "2017-18",
           14
          ],
          [
           "Ingraham",
           "2017-18",
           15
          ],
          [
           "Ingraham",
           "2017-18",
           16
          ],
          [
           "Ingraham",
           "2017-18",
           17
          ],
          [
           "Ingraham",
           "2018-19",
           1
          ],
          [
           "Ingraham",
           "2018-19",
           2
          ],
          [
           "Ingraham",
           "2018-19",
           3
          ],
          [
           "Ingraham",
           "2018-19",
           4
          ],
          [
           "Ingraham",
           "2018-19",
           5
          ],
          [
           "Ingraham",
           "2018-19",
           6
          ],
          [
           "Ingraham",
           "2018-19",
           7
          ],
          [
           "Ingraham",
           "2018-19",
           8
          ],
          [
           "Ingraham",
           "2018-19",
           9
          ],
          [
           "Ingraham",
           "2018-19",
           10
          ],
          [
           "Ingraham",
           "2018-19",
           11
          ],
          [
           "Ingraham",
           "2018-19",
           12
          ],
          [
           "Ingraham",
           "2018-19",
           13
          ],
          [
           "Ingraham",
           "2018-19",
           14
          ],
          [
           "Ingraham",
           "2018-19",
           15
          ],
          [
           "Ingraham",
           "2020-21",
           1
          ],
          [
           "Ingraham",
           "2020-21",
           2
          ],
          [
           "Ingraham",
           "2020-21",
           3
          ],
          [
           "Ingraham",
           "2020-21",
           4
          ],
          [
           "Ingraham",
           "2020-21",
           5
          ],
          [
           "Ingraham",
           "2020-21",
           6
          ],
          [
           "Ingraham",
           "2021-22",
           1
          ],
          [
           "Ingraham",
           "2021-22",
           2
          ],
          [
           "Ingraham",
           "2021-22",
           3
          ],
          [
           "Ingraham",
           "2021-22",
           4
          ],
          [
           "Ingraham",
           "2021-22",
           5
          ],
          [
           "Ingraham",
           "2021-22",
           6
          ],
          [
           "Ingraham",
           "2021-22",
           7
          ],
          [
           "Ingraham",
           "2021-22",
           8
          ],
          [
           "Ingraham",
           "2021-22",
           9
          ],
          [
           "Ingraham",
           "2021-22",
           10
          ],
          [
           "Ingraham",
           "2021-22",
           11
          ],
          [
           "Ingraham",
           "2021-22",
           12
          ],
          [
           "Ingraham",
           "2021-22",
           13
          ],
          [
           "Ingraham",
           "2021-22",
           14
          ],
          [
           "Ingraham",
           "2021-22",
           15
          ],
          [
           "Ingraham",
           "2021-22",
           16
          ],
          [
           "Ingraham",
           "2021-22",
           17
          ],
          [
           "Ingraham",
           "2022-23",
           1
          ],
          [
           "Ingraham",
           "2022-23",
           2
          ],
          [
           "Ingraham",
           "2022-23",
           3
          ],
          [
           "Ingraham",
           "2022-23",
           4
          ],
          [
           "Ingraham",
           "2022-23",
           5
          ],
          [
           "Ingraham",
           "2022-23",
           6
          ],
          [
           "Ingraham",
           "2022-23",
           7
          ],
          [
           "Ingraham",
           "2022-23",
           8
          ],
          [
           "Ingraham",
           "2022-23",
           9
          ],
          [
           "Ingraham",
           "2022-23",
           10
          ],
          [
           "Ingraham",
           "2022-23",
           11
          ],
          [
           "Ingraham",
           "2022-23",
           12
          ],
          [
           "Ingraham",
           "2022-23",
           13
          ],
          [
           "Ingraham",
           "2022-23",
           14
          ],
          [
           "Ingraham",
           "2022-23",
           15
          ],
          [
           "Ingraham",
           "2022-23",
           16
          ],
          [
           "Ingraham",
           "2022-23",
           17
          ],
          [
           "Ingraham",
           "2023-24",
           1
          ],
          [
           "Ingraham",
           "2023-24",
           2
          ],
          [
           "Ingraham",
           "2023-24",
           3
          ],
          [
           "Ingraham",
           "2023-24",
           4
          ],
          [
           "Ingraham",
           "2023-24",
           5
          ],
          [
           "Ingraham",
           "2023-24",
           6
          ],
          [
           "Ingraham",
           "2023-24",
           7
          ],
          [
           "Ingraham",
           "2023-24",
           8
          ],
          [
           "Ingraham",
           "2023-24",
           9
          ],
          [
           "Ingraham",
           "2023-24",
           10
          ],
          [
           "Ingraham",
           "2023-24",
           11
          ],
          [
           "Ingraham",
           "2023-24",
           12
          ],
          [
           "Ingraham",
           "2023-24",
           13
          ],
          [
           "Ingraham",
           "2023-24",
           14
          ],
          [
           "Ingraham",
           "2023-24",
           15
          ],
          [
           "Ingraham",
           "2023-24",
           16
          ],
          [
           "Ingraham",
           "2023-24",
           17
          ],
          [
           "Ingraham",
           "2024-25",
           1
          ],
          [
           "Ingraham",
           "2024-25",
           2
          ],
          [
           "Ingraham",
           "2024-25",
           3
          ],
          [
           "Ingraham",
           "2024-25",
           4
          ],
          [
           "Ingraham",
           "2024-25",
           5
          ],
          [
           "Ingraham",
           "2024-25",
           6
          ],
          [
           "Ingraham",
           "2024-25",
           7
          ]
         ],
         "hovertemplate": "Team=%{customdata[0]}<br>Total Matches Played=%{x}<br>ELO Rating=%{y}<br>Season=%{customdata[1]}<br>Season Match #=%{customdata[2]}<extra></extra>",
         "legendgroup": "Ingraham",
         "line": {
          "color": "#FF97FF",
          "dash": "solid"
         },
         "marker": {
          "symbol": "circle"
         },
         "mode": "lines",
         "name": "Ingraham",
         "showlegend": true,
         "type": "scattergl",
         "x": [
          1,
          2,
          3,
          4,
          5,
          6,
          7,
          8,
          9,
          10,
          11,
          12,
          13,
          14,
          15,
          16,
          17,
          18,
          19,
          20,
          21,
          22,
          23,
          24,
          25,
          26,
          27,
          28,
          29,
          30,
          31,
          32,
          33,
          34,
          35,
          36,
          37,
          38,
          39,
          40,
          41,
          42,
          43,
          44,
          45,
          46,
          47,
          48,
          49,
          50,
          51,
          52,
          53,
          54,
          55,
          56,
          57,
          58,
          59,
          60,
          61,
          62,
          63,
          64,
          65,
          66,
          67,
          68,
          69,
          70,
          71,
          72,
          73,
          74,
          75,
          76,
          77,
          78,
          79,
          80,
          81,
          82,
          83,
          84,
          85,
          86,
          87,
          88,
          89,
          90,
          91,
          92,
          93,
          94,
          95,
          96,
          97,
          98,
          99,
          100,
          101,
          102,
          103,
          104,
          105,
          106,
          107,
          108,
          109,
          110,
          111,
          112,
          113
         ],
         "xaxis": "x",
         "y": [
          1496.87979051258,
          1442.1835440700877,
          1430.8647393264628,
          1447.948496652366,
          1387.6048585751491,
          1406.0623410289409,
          1336.8513171995044,
          1294.7962232324844,
          1262.3317674695504,
          1227.472218424832,
          1485.6025999921153,
          1430.348531098582,
          1409.9385929403968,
          1435.812381909573,
          1375.5531482670524,
          1360.0784919121588,
          1352.612100036473,
          1206.8012889606262,
          1300.0475267749598,
          1280.9597050906427,
          1353.4915609458317,
          1334.5065023728837,
          1396.4304408401372,
          1376.597640086695,
          1197.9996923398498,
          1237.927555285651,
          1266.6649903159089,
          1269.440336923554,
          1295.8290746482237,
          1421.673282530426,
          1371.9381813222888,
          1393.4299359779795,
          1383.4986156688722,
          1371.422530101417,
          1371.4357168402412,
          1339.6477156632063,
          1270.959790725129,
          1264.2790215201967,
          1302.5458679571486,
          1287.2643370983674,
          1288.6387554988958,
          1344.9973355669283,
          1318.3559196701806,
          1308.817036580618,
          1305.2847823698942,
          1300.1364983061778,
          1293.8511298198075,
          1285.9306418438482,
          1280.3445296796212,
          1296.449948716973,
          1402.7598897575044,
          1286.179845854278,
          1321.8384523658526,
          1409.0207220110472,
          1437.6379114264382,
          1439.715847276274,
          1405.8493586099933,
          1386.5023742386031,
          1431.339505420364,
          1407.4447263713132,
          1425.8715025983336,
          1418.724819974104,
          1443.8532040379453,
          1440.0469674599349,
          1398.555647828737,
          1410.3579816620486,
          1429.8826720240045,
          1428.4027604609305,
          1424.4005999373446,
          1413.148088089948,
          1403.3303122682655,
          1396.2061980431004,
          1411.6333171242793,
          1443.85697510177,
          1468.8861052698594,
          1427.3471129882978,
          1437.196554102375,
          1446.068168985526,
          1484.2528641106917,
          1543.1111374501802,
          1545.0993420869918,
          1545.4963965946704,
          1434.2624294425211,
          1374.6450858243418,
          1414.3686900933576,
          1449.0127764213848,
          1476.2865433612983,
          1541.0782437661564,
          1524.5235659482,
          1477.1406969271966,
          1449.9313808721763,
          1454.0439157674175,
          1457.007960024375,
          1444.251345693637,
          1447.5583481556698,
          1441.230910650365,
          1454.6629148157072,
          1525.9220111146662,
          1435.2991315386123,
          1472.237452754348,
          1440.8146981841828,
          1416.6416868431202,
          1443.9806584797225,
          1446.6504383976146,
          1432.9312930017245,
          1444.8298520356216,
          1478.5416144950138,
          1495.7362793760033,
          1474.0761381785042,
          1476.4087572893416,
          1483.3276024679096,
          1509.5575402587872,
          1535.147669526828
         ],
         "yaxis": "y"
        },
        {
         "customdata": [
          [
           "Lakeside (Seattle)",
           "2016-17",
           1
          ],
          [
           "Lakeside (Seattle)",
           "2016-17",
           2
          ],
          [
           "Lakeside (Seattle)",
           "2016-17",
           3
          ],
          [
           "Lakeside (Seattle)",
           "2016-17",
           4
          ],
          [
           "Lakeside (Seattle)",
           "2016-17",
           5
          ],
          [
           "Lakeside (Seattle)",
           "2016-17",
           6
          ],
          [
           "Lakeside (Seattle)",
           "2016-17",
           7
          ],
          [
           "Lakeside (Seattle)",
           "2016-17",
           8
          ],
          [
           "Lakeside (Seattle)",
           "2016-17",
           9
          ],
          [
           "Lakeside (Seattle)",
           "2016-17",
           10
          ],
          [
           "Lakeside (Seattle)",
           "2016-17",
           11
          ],
          [
           "Lakeside (Seattle)",
           "2016-17",
           12
          ],
          [
           "Lakeside (Seattle)",
           "2016-17",
           13
          ],
          [
           "Lakeside (Seattle)",
           "2016-17",
           14
          ],
          [
           "Lakeside (Seattle)",
           "2016-17",
           15
          ],
          [
           "Lakeside (Seattle)",
           "2016-17",
           16
          ],
          [
           "Lakeside (Seattle)",
           "2016-17",
           17
          ],
          [
           "Lakeside (Seattle)",
           "2016-17",
           18
          ],
          [
           "Lakeside (Seattle)",
           "2016-17",
           19
          ],
          [
           "Lakeside (Seattle)",
           "2016-17",
           20
          ],
          [
           "Lakeside (Seattle)",
           "2016-17",
           21
          ],
          [
           "Lakeside (Seattle)",
           "2017-18",
           1
          ],
          [
           "Lakeside (Seattle)",
           "2017-18",
           2
          ],
          [
           "Lakeside (Seattle)",
           "2017-18",
           3
          ],
          [
           "Lakeside (Seattle)",
           "2017-18",
           4
          ],
          [
           "Lakeside (Seattle)",
           "2017-18",
           5
          ],
          [
           "Lakeside (Seattle)",
           "2017-18",
           6
          ],
          [
           "Lakeside (Seattle)",
           "2017-18",
           7
          ],
          [
           "Lakeside (Seattle)",
           "2017-18",
           8
          ],
          [
           "Lakeside (Seattle)",
           "2017-18",
           9
          ],
          [
           "Lakeside (Seattle)",
           "2017-18",
           10
          ],
          [
           "Lakeside (Seattle)",
           "2017-18",
           11
          ],
          [
           "Lakeside (Seattle)",
           "2017-18",
           12
          ],
          [
           "Lakeside (Seattle)",
           "2017-18",
           13
          ],
          [
           "Lakeside (Seattle)",
           "2017-18",
           14
          ],
          [
           "Lakeside (Seattle)",
           "2017-18",
           15
          ],
          [
           "Lakeside (Seattle)",
           "2017-18",
           16
          ],
          [
           "Lakeside (Seattle)",
           "2017-18",
           17
          ],
          [
           "Lakeside (Seattle)",
           "2017-18",
           18
          ],
          [
           "Lakeside (Seattle)",
           "2017-18",
           19
          ],
          [
           "Lakeside (Seattle)",
           "2017-18",
           20
          ],
          [
           "Lakeside (Seattle)",
           "2018-19",
           1
          ],
          [
           "Lakeside (Seattle)",
           "2018-19",
           2
          ],
          [
           "Lakeside (Seattle)",
           "2018-19",
           3
          ],
          [
           "Lakeside (Seattle)",
           "2018-19",
           4
          ],
          [
           "Lakeside (Seattle)",
           "2018-19",
           5
          ],
          [
           "Lakeside (Seattle)",
           "2018-19",
           6
          ],
          [
           "Lakeside (Seattle)",
           "2018-19",
           7
          ],
          [
           "Lakeside (Seattle)",
           "2018-19",
           8
          ],
          [
           "Lakeside (Seattle)",
           "2018-19",
           9
          ],
          [
           "Lakeside (Seattle)",
           "2018-19",
           10
          ],
          [
           "Lakeside (Seattle)",
           "2018-19",
           11
          ],
          [
           "Lakeside (Seattle)",
           "2018-19",
           12
          ],
          [
           "Lakeside (Seattle)",
           "2018-19",
           13
          ],
          [
           "Lakeside (Seattle)",
           "2018-19",
           14
          ],
          [
           "Lakeside (Seattle)",
           "2018-19",
           15
          ],
          [
           "Lakeside (Seattle)",
           "2018-19",
           16
          ],
          [
           "Lakeside (Seattle)",
           "2018-19",
           17
          ],
          [
           "Lakeside (Seattle)",
           "2018-19",
           18
          ],
          [
           "Lakeside (Seattle)",
           "2020-21",
           1
          ],
          [
           "Lakeside (Seattle)",
           "2020-21",
           2
          ],
          [
           "Lakeside (Seattle)",
           "2020-21",
           3
          ],
          [
           "Lakeside (Seattle)",
           "2020-21",
           4
          ],
          [
           "Lakeside (Seattle)",
           "2020-21",
           5
          ],
          [
           "Lakeside (Seattle)",
           "2020-21",
           6
          ],
          [
           "Lakeside (Seattle)",
           "2020-21",
           7
          ],
          [
           "Lakeside (Seattle)",
           "2021-22",
           1
          ],
          [
           "Lakeside (Seattle)",
           "2021-22",
           2
          ],
          [
           "Lakeside (Seattle)",
           "2021-22",
           3
          ],
          [
           "Lakeside (Seattle)",
           "2021-22",
           4
          ],
          [
           "Lakeside (Seattle)",
           "2021-22",
           5
          ],
          [
           "Lakeside (Seattle)",
           "2021-22",
           6
          ],
          [
           "Lakeside (Seattle)",
           "2021-22",
           7
          ],
          [
           "Lakeside (Seattle)",
           "2021-22",
           8
          ],
          [
           "Lakeside (Seattle)",
           "2021-22",
           9
          ],
          [
           "Lakeside (Seattle)",
           "2021-22",
           10
          ],
          [
           "Lakeside (Seattle)",
           "2021-22",
           11
          ],
          [
           "Lakeside (Seattle)",
           "2021-22",
           12
          ],
          [
           "Lakeside (Seattle)",
           "2021-22",
           13
          ],
          [
           "Lakeside (Seattle)",
           "2021-22",
           14
          ],
          [
           "Lakeside (Seattle)",
           "2021-22",
           15
          ],
          [
           "Lakeside (Seattle)",
           "2021-22",
           16
          ],
          [
           "Lakeside (Seattle)",
           "2021-22",
           17
          ],
          [
           "Lakeside (Seattle)",
           "2021-22",
           18
          ],
          [
           "Lakeside (Seattle)",
           "2021-22",
           19
          ],
          [
           "Lakeside (Seattle)",
           "2021-22",
           20
          ],
          [
           "Lakeside (Seattle)",
           "2022-23",
           1
          ],
          [
           "Lakeside (Seattle)",
           "2022-23",
           2
          ],
          [
           "Lakeside (Seattle)",
           "2022-23",
           3
          ],
          [
           "Lakeside (Seattle)",
           "2022-23",
           4
          ],
          [
           "Lakeside (Seattle)",
           "2022-23",
           5
          ],
          [
           "Lakeside (Seattle)",
           "2022-23",
           6
          ],
          [
           "Lakeside (Seattle)",
           "2022-23",
           7
          ],
          [
           "Lakeside (Seattle)",
           "2022-23",
           8
          ],
          [
           "Lakeside (Seattle)",
           "2022-23",
           9
          ],
          [
           "Lakeside (Seattle)",
           "2022-23",
           10
          ],
          [
           "Lakeside (Seattle)",
           "2022-23",
           11
          ],
          [
           "Lakeside (Seattle)",
           "2022-23",
           12
          ],
          [
           "Lakeside (Seattle)",
           "2022-23",
           13
          ],
          [
           "Lakeside (Seattle)",
           "2022-23",
           14
          ],
          [
           "Lakeside (Seattle)",
           "2022-23",
           15
          ],
          [
           "Lakeside (Seattle)",
           "2022-23",
           16
          ],
          [
           "Lakeside (Seattle)",
           "2022-23",
           17
          ],
          [
           "Lakeside (Seattle)",
           "2023-24",
           1
          ],
          [
           "Lakeside (Seattle)",
           "2023-24",
           2
          ],
          [
           "Lakeside (Seattle)",
           "2023-24",
           3
          ],
          [
           "Lakeside (Seattle)",
           "2023-24",
           4
          ],
          [
           "Lakeside (Seattle)",
           "2023-24",
           5
          ],
          [
           "Lakeside (Seattle)",
           "2023-24",
           6
          ],
          [
           "Lakeside (Seattle)",
           "2023-24",
           7
          ],
          [
           "Lakeside (Seattle)",
           "2023-24",
           8
          ],
          [
           "Lakeside (Seattle)",
           "2023-24",
           9
          ],
          [
           "Lakeside (Seattle)",
           "2023-24",
           10
          ],
          [
           "Lakeside (Seattle)",
           "2023-24",
           11
          ],
          [
           "Lakeside (Seattle)",
           "2023-24",
           12
          ],
          [
           "Lakeside (Seattle)",
           "2023-24",
           13
          ],
          [
           "Lakeside (Seattle)",
           "2023-24",
           14
          ],
          [
           "Lakeside (Seattle)",
           "2023-24",
           15
          ],
          [
           "Lakeside (Seattle)",
           "2023-24",
           16
          ],
          [
           "Lakeside (Seattle)",
           "2024-25",
           1
          ],
          [
           "Lakeside (Seattle)",
           "2024-25",
           2
          ],
          [
           "Lakeside (Seattle)",
           "2024-25",
           3
          ],
          [
           "Lakeside (Seattle)",
           "2024-25",
           4
          ],
          [
           "Lakeside (Seattle)",
           "2024-25",
           5
          ],
          [
           "Lakeside (Seattle)",
           "2024-25",
           6
          ]
         ],
         "hovertemplate": "Team=%{customdata[0]}<br>Total Matches Played=%{x}<br>ELO Rating=%{y}<br>Season=%{customdata[1]}<br>Season Match #=%{customdata[2]}<extra></extra>",
         "legendgroup": "Lakeside (Seattle)",
         "line": {
          "color": "#FECB52",
          "dash": "solid"
         },
         "marker": {
          "symbol": "circle"
         },
         "mode": "lines",
         "name": "Lakeside (Seattle)",
         "showlegend": true,
         "type": "scattergl",
         "x": [
          1,
          2,
          3,
          4,
          5,
          6,
          7,
          8,
          9,
          10,
          11,
          12,
          13,
          14,
          15,
          16,
          17,
          18,
          19,
          20,
          21,
          22,
          23,
          24,
          25,
          26,
          27,
          28,
          29,
          30,
          31,
          32,
          33,
          34,
          35,
          36,
          37,
          38,
          39,
          40,
          41,
          42,
          43,
          44,
          45,
          46,
          47,
          48,
          49,
          50,
          51,
          52,
          53,
          54,
          55,
          56,
          57,
          58,
          59,
          60,
          61,
          62,
          63,
          64,
          65,
          66,
          67,
          68,
          69,
          70,
          71,
          72,
          73,
          74,
          75,
          76,
          77,
          78,
          79,
          80,
          81,
          82,
          83,
          84,
          85,
          86,
          87,
          88,
          89,
          90,
          91,
          92,
          93,
          94,
          95,
          96,
          97,
          98,
          99,
          100,
          101,
          102,
          103,
          104,
          105,
          106,
          107,
          108,
          109,
          110,
          111,
          112,
          113,
          114,
          115,
          116,
          117,
          118,
          119,
          120,
          121,
          122,
          123,
          124,
          125
         ],
         "xaxis": "x",
         "y": [
          1514.3974000078847,
          1498.0581189000304,
          1517.7432317774292,
          1498.7791407922232,
          1554.3658298438668,
          1548.3471623781763,
          1520.844958930659,
          1632.3760443484582,
          1676.644130357144,
          1491.8430189669552,
          1453.4103176179178,
          1498.2543565396736,
          1515.372716553273,
          1529.4184103154714,
          1573.757432248531,
          1534.565498349308,
          1547.923041449406,
          1593.140934568095,
          1662.6133013558638,
          1739.1739469544425,
          1600.1587650578113,
          1650.7593344389404,
          1711.5217541468874,
          1714.4849782086756,
          1707.70169704539,
          1707.5176244136237,
          1783.3672838222235,
          1783.6680549157004,
          1787.0881715203325,
          1778.402068574554,
          1620.829694522017,
          1630.889079816351,
          1705.0416497150338,
          1691.446207896966,
          1783.0654684312306,
          1752.626902576173,
          1766.597661807471,
          1791.996138973322,
          1772.132576087948,
          1794.1976599406296,
          1745.4594522053874,
          1778.9078625700158,
          1787.0613297029086,
          1813.873828633972,
          1819.6107781323851,
          1844.6754591529257,
          1837.1013689777965,
          1874.1883191549412,
          1866.193560844526,
          1873.5096601251505,
          1896.1147172991252,
          1757.0996485663002,
          1816.0785239216616,
          1877.2642729810163,
          1877.7126659942653,
          1866.0785718507907,
          1835.3096147057213,
          1849.3726830686744,
          1858.1108111716087,
          1901.356113412624,
          1933.694281566491,
          1946.3161833236395,
          1880.6779715463824,
          1891.110783888509,
          1930.6890869090776,
          1876.7291854612256,
          1817.3401034267224,
          1843.2354478197435,
          1893.076569470342,
          1874.880841032295,
          1783.1908939269583,
          1785.8990404349245,
          1788.2356695143935,
          1847.857920319812,
          1849.958283861547,
          1878.20303710944,
          1909.3199898268745,
          1864.452221734109,
          1879.397432627821,
          1891.4507062179548,
          1882.379725320188,
          1884.155496589556,
          1885.8958531890623,
          1886.334981278601,
          1841.6547201553285,
          1900.883710336204,
          1910.0167986553809,
          1867.6610216573813,
          1835.428336634039,
          1865.0022813169765,
          1830.3694292014,
          1843.272408552374,
          1898.608788776413,
          1914.234415987298,
          1874.090512772738,
          1907.740336342164,
          1903.6836987830263,
          1859.3207758872372,
          1838.238776599274,
          1872.553694372152,
          1879.802611425545,
          1891.6791160557095,
          1905.397977498326,
          1849.4241179439052,
          1933.0933335834864,
          1885.6046188540336,
          1877.105184544059,
          1859.5757289686517,
          1885.615572764857,
          1955.4193111813884,
          1917.8246370332947,
          1814.2282161908215,
          1842.249101370869,
          1920.5070123241508,
          1943.0549688294695,
          1907.215849935037,
          1895.2642130142808,
          1876.6237564753408,
          1949.7958389865885,
          1791.372080161903,
          1761.0371739461716,
          1663.0547748858064,
          1821.759284111868,
          1792.5929883607955,
          1702.7278698596615
         ],
         "yaxis": "y"
        },
        {
         "customdata": [
          [
           "Lincoln (Seattle)",
           "2020-21",
           1
          ],
          [
           "Lincoln (Seattle)",
           "2020-21",
           2
          ],
          [
           "Lincoln (Seattle)",
           "2020-21",
           3
          ],
          [
           "Lincoln (Seattle)",
           "2020-21",
           4
          ],
          [
           "Lincoln (Seattle)",
           "2020-21",
           5
          ],
          [
           "Lincoln (Seattle)",
           "2020-21",
           6
          ],
          [
           "Lincoln (Seattle)",
           "2021-22",
           1
          ],
          [
           "Lincoln (Seattle)",
           "2021-22",
           2
          ],
          [
           "Lincoln (Seattle)",
           "2021-22",
           3
          ],
          [
           "Lincoln (Seattle)",
           "2021-22",
           4
          ],
          [
           "Lincoln (Seattle)",
           "2021-22",
           5
          ],
          [
           "Lincoln (Seattle)",
           "2021-22",
           6
          ],
          [
           "Lincoln (Seattle)",
           "2021-22",
           7
          ],
          [
           "Lincoln (Seattle)",
           "2021-22",
           8
          ],
          [
           "Lincoln (Seattle)",
           "2021-22",
           9
          ],
          [
           "Lincoln (Seattle)",
           "2021-22",
           10
          ],
          [
           "Lincoln (Seattle)",
           "2021-22",
           11
          ],
          [
           "Lincoln (Seattle)",
           "2021-22",
           12
          ],
          [
           "Lincoln (Seattle)",
           "2021-22",
           13
          ],
          [
           "Lincoln (Seattle)",
           "2021-22",
           14
          ],
          [
           "Lincoln (Seattle)",
           "2021-22",
           15
          ],
          [
           "Lincoln (Seattle)",
           "2021-22",
           16
          ],
          [
           "Lincoln (Seattle)",
           "2021-22",
           17
          ],
          [
           "Lincoln (Seattle)",
           "2021-22",
           18
          ],
          [
           "Lincoln (Seattle)",
           "2021-22",
           19
          ],
          [
           "Lincoln (Seattle)",
           "2022-23",
           1
          ],
          [
           "Lincoln (Seattle)",
           "2022-23",
           2
          ],
          [
           "Lincoln (Seattle)",
           "2022-23",
           3
          ],
          [
           "Lincoln (Seattle)",
           "2022-23",
           4
          ],
          [
           "Lincoln (Seattle)",
           "2022-23",
           5
          ],
          [
           "Lincoln (Seattle)",
           "2022-23",
           6
          ],
          [
           "Lincoln (Seattle)",
           "2022-23",
           7
          ],
          [
           "Lincoln (Seattle)",
           "2022-23",
           8
          ],
          [
           "Lincoln (Seattle)",
           "2022-23",
           9
          ],
          [
           "Lincoln (Seattle)",
           "2022-23",
           10
          ],
          [
           "Lincoln (Seattle)",
           "2022-23",
           11
          ],
          [
           "Lincoln (Seattle)",
           "2022-23",
           12
          ],
          [
           "Lincoln (Seattle)",
           "2022-23",
           13
          ],
          [
           "Lincoln (Seattle)",
           "2022-23",
           14
          ],
          [
           "Lincoln (Seattle)",
           "2022-23",
           15
          ],
          [
           "Lincoln (Seattle)",
           "2022-23",
           16
          ],
          [
           "Lincoln (Seattle)",
           "2022-23",
           17
          ],
          [
           "Lincoln (Seattle)",
           "2022-23",
           18
          ],
          [
           "Lincoln (Seattle)",
           "2023-24",
           1
          ],
          [
           "Lincoln (Seattle)",
           "2023-24",
           2
          ],
          [
           "Lincoln (Seattle)",
           "2023-24",
           3
          ],
          [
           "Lincoln (Seattle)",
           "2023-24",
           4
          ],
          [
           "Lincoln (Seattle)",
           "2023-24",
           5
          ],
          [
           "Lincoln (Seattle)",
           "2023-24",
           6
          ],
          [
           "Lincoln (Seattle)",
           "2023-24",
           7
          ],
          [
           "Lincoln (Seattle)",
           "2023-24",
           8
          ],
          [
           "Lincoln (Seattle)",
           "2023-24",
           9
          ],
          [
           "Lincoln (Seattle)",
           "2023-24",
           10
          ],
          [
           "Lincoln (Seattle)",
           "2023-24",
           11
          ],
          [
           "Lincoln (Seattle)",
           "2023-24",
           12
          ],
          [
           "Lincoln (Seattle)",
           "2023-24",
           13
          ],
          [
           "Lincoln (Seattle)",
           "2023-24",
           14
          ],
          [
           "Lincoln (Seattle)",
           "2023-24",
           15
          ],
          [
           "Lincoln (Seattle)",
           "2023-24",
           16
          ],
          [
           "Lincoln (Seattle)",
           "2023-24",
           17
          ],
          [
           "Lincoln (Seattle)",
           "2023-24",
           18
          ],
          [
           "Lincoln (Seattle)",
           "2024-25",
           1
          ],
          [
           "Lincoln (Seattle)",
           "2024-25",
           2
          ],
          [
           "Lincoln (Seattle)",
           "2024-25",
           3
          ],
          [
           "Lincoln (Seattle)",
           "2024-25",
           4
          ]
         ],
         "hovertemplate": "Team=%{customdata[0]}<br>Total Matches Played=%{x}<br>ELO Rating=%{y}<br>Season=%{customdata[1]}<br>Season Match #=%{customdata[2]}<extra></extra>",
         "legendgroup": "Lincoln (Seattle)",
         "line": {
          "color": "#636efa",
          "dash": "solid"
         },
         "marker": {
          "symbol": "circle"
         },
         "mode": "lines",
         "name": "Lincoln (Seattle)",
         "showlegend": true,
         "type": "scattergl",
         "x": [
          1,
          2,
          3,
          4,
          5,
          6,
          7,
          8,
          9,
          10,
          11,
          12,
          13,
          14,
          15,
          16,
          17,
          18,
          19,
          20,
          21,
          22,
          23,
          24,
          25,
          26,
          27,
          28,
          29,
          30,
          31,
          32,
          33,
          34,
          35,
          36,
          37,
          38,
          39,
          40,
          41,
          42,
          43,
          44,
          45,
          46,
          47,
          48,
          49,
          50,
          51,
          52,
          53,
          54,
          55,
          56,
          57,
          58,
          59,
          60,
          61,
          62,
          63,
          64,
          65
         ],
         "xaxis": "x",
         "y": [
          1540.2662524546463,
          1619.2433496257502,
          1579.5254119901206,
          1605.7921791890478,
          1572.1663240438313,
          1561.7335117017044,
          1695.0642425533456,
          1718.058074776622,
          1747.6266653918935,
          1822.3187656485577,
          1828.986251790936,
          1829.178442083836,
          1780.2534399296303,
          1813.242424416832,
          1825.05301116443,
          1802.372337937666,
          1635.504192163491,
          1658.9573669540855,
          1792.2301793450724,
          1813.4390928525072,
          1841.284845735832,
          1843.3961137446963,
          1845.457553057128,
          1790.8613958512776,
          1798.008078475507,
          1807.69650891651,
          1893.6692335288503,
          1959.1754335912815,
          1984.629684935915,
          1996.9820498435336,
          2029.9317427407143,
          2018.0552381105488,
          2021.8455060265355,
          2033.182346507543,
          2042.0187849965148,
          2047.2794085351825,
          1870.6019818136356,
          1877.282587748212,
          1898.8636434155528,
          1956.729471669392,
          1977.420777780354,
          1993.608822766079,
          2023.3736195933616,
          2053.8968539779653,
          2047.0934526947635,
          2083.2794118814395,
          2027.3359502989572,
          2050.455885930886,
          2056.6556078409094,
          2055.01250720962,
          2037.213481935645,
          2002.1199877034196,
          2004.1144186861843,
          1965.3127164044752,
          2057.4749871045897,
          2070.3687336785824,
          2057.40192823299,
          2048.3782990970435,
          2045.494978769179,
          2049.9172778635857,
          2034.006244158568,
          1976.3628177665137,
          1962.8019803114516,
          1962.6920440689696,
          1946.8012786843572
         ],
         "yaxis": "y"
        },
        {
         "customdata": [
          [
           "Nathan Hale",
           "2016-17",
           1
          ],
          [
           "Nathan Hale",
           "2016-17",
           2
          ],
          [
           "Nathan Hale",
           "2016-17",
           3
          ],
          [
           "Nathan Hale",
           "2016-17",
           4
          ],
          [
           "Nathan Hale",
           "2016-17",
           5
          ],
          [
           "Nathan Hale",
           "2016-17",
           6
          ],
          [
           "Nathan Hale",
           "2016-17",
           7
          ],
          [
           "Nathan Hale",
           "2016-17",
           8
          ],
          [
           "Nathan Hale",
           "2016-17",
           9
          ],
          [
           "Nathan Hale",
           "2016-17",
           10
          ],
          [
           "Nathan Hale",
           "2016-17",
           11
          ],
          [
           "Nathan Hale",
           "2016-17",
           12
          ],
          [
           "Nathan Hale",
           "2016-17",
           13
          ],
          [
           "Nathan Hale",
           "2016-17",
           14
          ],
          [
           "Nathan Hale",
           "2016-17",
           15
          ],
          [
           "Nathan Hale",
           "2016-17",
           16
          ],
          [
           "Nathan Hale",
           "2016-17",
           17
          ],
          [
           "Nathan Hale",
           "2017-18",
           1
          ],
          [
           "Nathan Hale",
           "2017-18",
           2
          ],
          [
           "Nathan Hale",
           "2017-18",
           3
          ],
          [
           "Nathan Hale",
           "2017-18",
           4
          ],
          [
           "Nathan Hale",
           "2017-18",
           5
          ],
          [
           "Nathan Hale",
           "2017-18",
           6
          ],
          [
           "Nathan Hale",
           "2017-18",
           7
          ],
          [
           "Nathan Hale",
           "2017-18",
           8
          ],
          [
           "Nathan Hale",
           "2017-18",
           9
          ],
          [
           "Nathan Hale",
           "2017-18",
           10
          ],
          [
           "Nathan Hale",
           "2017-18",
           11
          ],
          [
           "Nathan Hale",
           "2017-18",
           12
          ],
          [
           "Nathan Hale",
           "2017-18",
           13
          ],
          [
           "Nathan Hale",
           "2017-18",
           14
          ],
          [
           "Nathan Hale",
           "2017-18",
           15
          ],
          [
           "Nathan Hale",
           "2017-18",
           16
          ],
          [
           "Nathan Hale",
           "2017-18",
           17
          ],
          [
           "Nathan Hale",
           "2018-19",
           1
          ],
          [
           "Nathan Hale",
           "2018-19",
           2
          ],
          [
           "Nathan Hale",
           "2018-19",
           3
          ],
          [
           "Nathan Hale",
           "2018-19",
           4
          ],
          [
           "Nathan Hale",
           "2018-19",
           5
          ],
          [
           "Nathan Hale",
           "2018-19",
           6
          ],
          [
           "Nathan Hale",
           "2018-19",
           7
          ],
          [
           "Nathan Hale",
           "2018-19",
           8
          ],
          [
           "Nathan Hale",
           "2018-19",
           9
          ],
          [
           "Nathan Hale",
           "2018-19",
           10
          ],
          [
           "Nathan Hale",
           "2018-19",
           11
          ],
          [
           "Nathan Hale",
           "2018-19",
           12
          ],
          [
           "Nathan Hale",
           "2018-19",
           13
          ],
          [
           "Nathan Hale",
           "2018-19",
           14
          ],
          [
           "Nathan Hale",
           "2018-19",
           15
          ],
          [
           "Nathan Hale",
           "2018-19",
           16
          ],
          [
           "Nathan Hale",
           "2018-19",
           17
          ],
          [
           "Nathan Hale",
           "2020-21",
           1
          ],
          [
           "Nathan Hale",
           "2020-21",
           2
          ],
          [
           "Nathan Hale",
           "2020-21",
           3
          ],
          [
           "Nathan Hale",
           "2020-21",
           4
          ],
          [
           "Nathan Hale",
           "2020-21",
           5
          ],
          [
           "Nathan Hale",
           "2021-22",
           1
          ],
          [
           "Nathan Hale",
           "2021-22",
           2
          ],
          [
           "Nathan Hale",
           "2021-22",
           3
          ],
          [
           "Nathan Hale",
           "2021-22",
           4
          ],
          [
           "Nathan Hale",
           "2021-22",
           5
          ],
          [
           "Nathan Hale",
           "2021-22",
           6
          ],
          [
           "Nathan Hale",
           "2021-22",
           7
          ],
          [
           "Nathan Hale",
           "2021-22",
           8
          ],
          [
           "Nathan Hale",
           "2021-22",
           9
          ],
          [
           "Nathan Hale",
           "2021-22",
           10
          ],
          [
           "Nathan Hale",
           "2021-22",
           11
          ],
          [
           "Nathan Hale",
           "2021-22",
           12
          ],
          [
           "Nathan Hale",
           "2021-22",
           13
          ],
          [
           "Nathan Hale",
           "2021-22",
           14
          ],
          [
           "Nathan Hale",
           "2021-22",
           15
          ],
          [
           "Nathan Hale",
           "2021-22",
           16
          ],
          [
           "Nathan Hale",
           "2021-22",
           17
          ],
          [
           "Nathan Hale",
           "2021-22",
           18
          ],
          [
           "Nathan Hale",
           "2022-23",
           1
          ],
          [
           "Nathan Hale",
           "2022-23",
           2
          ],
          [
           "Nathan Hale",
           "2022-23",
           3
          ],
          [
           "Nathan Hale",
           "2022-23",
           4
          ],
          [
           "Nathan Hale",
           "2022-23",
           5
          ],
          [
           "Nathan Hale",
           "2022-23",
           6
          ],
          [
           "Nathan Hale",
           "2022-23",
           7
          ],
          [
           "Nathan Hale",
           "2022-23",
           8
          ],
          [
           "Nathan Hale",
           "2022-23",
           9
          ],
          [
           "Nathan Hale",
           "2022-23",
           10
          ],
          [
           "Nathan Hale",
           "2022-23",
           11
          ],
          [
           "Nathan Hale",
           "2022-23",
           12
          ],
          [
           "Nathan Hale",
           "2022-23",
           13
          ],
          [
           "Nathan Hale",
           "2022-23",
           14
          ],
          [
           "Nathan Hale",
           "2022-23",
           15
          ],
          [
           "Nathan Hale",
           "2022-23",
           16
          ],
          [
           "Nathan Hale",
           "2023-24",
           1
          ],
          [
           "Nathan Hale",
           "2023-24",
           2
          ],
          [
           "Nathan Hale",
           "2023-24",
           3
          ],
          [
           "Nathan Hale",
           "2023-24",
           4
          ],
          [
           "Nathan Hale",
           "2023-24",
           5
          ],
          [
           "Nathan Hale",
           "2023-24",
           6
          ],
          [
           "Nathan Hale",
           "2023-24",
           7
          ],
          [
           "Nathan Hale",
           "2023-24",
           8
          ],
          [
           "Nathan Hale",
           "2023-24",
           9
          ],
          [
           "Nathan Hale",
           "2023-24",
           10
          ],
          [
           "Nathan Hale",
           "2023-24",
           11
          ],
          [
           "Nathan Hale",
           "2023-24",
           12
          ],
          [
           "Nathan Hale",
           "2023-24",
           13
          ],
          [
           "Nathan Hale",
           "2023-24",
           14
          ],
          [
           "Nathan Hale",
           "2023-24",
           15
          ],
          [
           "Nathan Hale",
           "2023-24",
           16
          ],
          [
           "Nathan Hale",
           "2024-25",
           1
          ],
          [
           "Nathan Hale",
           "2024-25",
           2
          ],
          [
           "Nathan Hale",
           "2024-25",
           3
          ],
          [
           "Nathan Hale",
           "2024-25",
           4
          ],
          [
           "Nathan Hale",
           "2024-25",
           5
          ],
          [
           "Nathan Hale",
           "2024-25",
           6
          ],
          [
           "Nathan Hale",
           "2024-25",
           7
          ],
          [
           "Nathan Hale",
           "2024-25",
           8
          ],
          [
           "Nathan Hale",
           "2024-25",
           9
          ]
         ],
         "hovertemplate": "Team=%{customdata[0]}<br>Total Matches Played=%{x}<br>ELO Rating=%{y}<br>Season=%{customdata[1]}<br>Season Match #=%{customdata[2]}<extra></extra>",
         "legendgroup": "Nathan Hale",
         "line": {
          "color": "#EF553B",
          "dash": "solid"
         },
         "marker": {
          "symbol": "circle"
         },
         "mode": "lines",
         "name": "Nathan Hale",
         "showlegend": true,
         "type": "scattergl",
         "x": [
          1,
          2,
          3,
          4,
          5,
          6,
          7,
          8,
          9,
          10,
          11,
          12,
          13,
          14,
          15,
          16,
          17,
          18,
          19,
          20,
          21,
          22,
          23,
          24,
          25,
          26,
          27,
          28,
          29,
          30,
          31,
          32,
          33,
          34,
          35,
          36,
          37,
          38,
          39,
          40,
          41,
          42,
          43,
          44,
          45,
          46,
          47,
          48,
          49,
          50,
          51,
          52,
          53,
          54,
          55,
          56,
          57,
          58,
          59,
          60,
          61,
          62,
          63,
          64,
          65,
          66,
          67,
          68,
          69,
          70,
          71,
          72,
          73,
          74,
          75,
          76,
          77,
          78,
          79,
          80,
          81,
          82,
          83,
          84,
          85,
          86,
          87,
          88,
          89,
          90,
          91,
          92,
          93,
          94,
          95,
          96,
          97,
          98,
          99,
          100,
          101,
          102,
          103,
          104,
          105,
          106,
          107,
          108,
          109,
          110,
          111,
          112,
          113,
          114,
          115
         ],
         "xaxis": "x",
         "y": [
          1423.192200023654,
          1443.8960765725317,
          1444.0184156411378,
          1461.3926756395615,
          1523.510617280317,
          1534.2817171270694,
          1549.7469333630136,
          1405.4633752234945,
          1435.1736085170514,
          1405.649136183062,
          1399.5991856515234,
          1490.4301752164502,
          1478.549466963022,
          1493.0014245184286,
          1508.4444009119295,
          1567.7218405753313,
          1528.486730794968,
          1538.6801127066096,
          1545.8211055963995,
          1560.5724876456632,
          1506.6785114226536,
          1579.5206564518749,
          1594.6800300306213,
          1611.4074161048145,
          1612.1233116253848,
          1612.833365717403,
          1582.8543437999715,
          1529.4375316868654,
          1499.507891769942,
          1482.7383342908838,
          1540.4820397979518,
          1502.910001348055,
          1640.879700279723,
          1616.6946393836436,
          1548.4916921592217,
          1538.8923499555272,
          1481.5427560994483,
          1496.08921648174,
          1475.5425877371604,
          1436.841455582508,
          1444.7619435584677,
          1448.7868228071338,
          1538.3074862904937,
          1558.3389916442427,
          1560.649096386315,
          1468.61303410836,
          1488.5073573526608,
          1448.2405011356132,
          1453.1350313278472,
          1432.7093148238012,
          1436.4589084026295,
          1394.5714984748088,
          1304.3840341722007,
          1433.8306580102828,
          1391.5663038173952,
          1294.6623699086365,
          1266.236474572724,
          1264.1717869026702,
          1246.5815823732669,
          1267.9019941008985,
          1286.3394926436242,
          1287.8194042066982,
          1292.127315064089,
          1265.2575918498756,
          1375.1980665471003,
          1289.6896493633185,
          1244.9557191208796,
          1305.1653484729868,
          1293.248224404916,
          1332.9573837295263,
          1393.080472849594,
          1375.2684496013574,
          1445.321691130235,
          1443.2213275884997,
          1451.5268017681265,
          1459.1228342560737,
          1489.051989444292,
          1510.4179827129135,
          1485.977097769509,
          1478.1077503716351,
          1436.4630600281737,
          1452.0637581443546,
          1515.9913316948723,
          1507.3742926939633,
          1509.136420198491,
          1504.5658204687472,
          1474.7345232941802,
          1466.6977688275313,
          1539.714363372645,
          1496.43907787507,
          1502.6472196757802,
          1508.4478277291105,
          1549.7876987322484,
          1513.4651025706228,
          1442.6171157246836,
          1442.813736517045,
          1480.2032674031648,
          1473.2945537013518,
          1480.65461710357,
          1549.3938653865582,
          1494.7203183418178,
          1425.3106096140464,
          1428.7400511721862,
          1453.3435098707337,
          1459.5754083054617,
          1460.3836400904606,
          1452.8525721694143,
          1469.8333867715492,
          1424.8969885502297,
          1319.6773132469011,
          1358.5256872097118,
          1441.3063994291592,
          1333.4985741296853,
          1357.00113744471,
          1369.0599843172754
         ],
         "yaxis": "y"
        },
        {
         "customdata": [
          [
           "O'Dea",
           "2016-17",
           1
          ],
          [
           "O'Dea",
           "2016-17",
           2
          ],
          [
           "O'Dea",
           "2016-17",
           3
          ],
          [
           "O'Dea",
           "2016-17",
           4
          ],
          [
           "O'Dea",
           "2016-17",
           5
          ],
          [
           "O'Dea",
           "2016-17",
           6
          ],
          [
           "O'Dea",
           "2016-17",
           7
          ],
          [
           "O'Dea",
           "2016-17",
           8
          ],
          [
           "O'Dea",
           "2016-17",
           9
          ],
          [
           "O'Dea",
           "2016-17",
           10
          ],
          [
           "O'Dea",
           "2016-17",
           11
          ],
          [
           "O'Dea",
           "2016-17",
           12
          ],
          [
           "O'Dea",
           "2016-17",
           13
          ],
          [
           "O'Dea",
           "2016-17",
           14
          ],
          [
           "O'Dea",
           "2016-17",
           15
          ],
          [
           "O'Dea",
           "2016-17",
           16
          ],
          [
           "O'Dea",
           "2016-17",
           17
          ],
          [
           "O'Dea",
           "2016-17",
           18
          ],
          [
           "O'Dea",
           "2016-17",
           19
          ],
          [
           "O'Dea",
           "2017-18",
           1
          ],
          [
           "O'Dea",
           "2017-18",
           2
          ],
          [
           "O'Dea",
           "2017-18",
           3
          ],
          [
           "O'Dea",
           "2017-18",
           4
          ],
          [
           "O'Dea",
           "2017-18",
           5
          ],
          [
           "O'Dea",
           "2017-18",
           6
          ],
          [
           "O'Dea",
           "2017-18",
           7
          ],
          [
           "O'Dea",
           "2017-18",
           8
          ],
          [
           "O'Dea",
           "2017-18",
           9
          ],
          [
           "O'Dea",
           "2017-18",
           10
          ],
          [
           "O'Dea",
           "2017-18",
           11
          ],
          [
           "O'Dea",
           "2017-18",
           12
          ],
          [
           "O'Dea",
           "2017-18",
           13
          ],
          [
           "O'Dea",
           "2017-18",
           14
          ],
          [
           "O'Dea",
           "2017-18",
           15
          ],
          [
           "O'Dea",
           "2017-18",
           16
          ],
          [
           "O'Dea",
           "2017-18",
           17
          ],
          [
           "O'Dea",
           "2017-18",
           18
          ],
          [
           "O'Dea",
           "2017-18",
           19
          ],
          [
           "O'Dea",
           "2018-19",
           1
          ],
          [
           "O'Dea",
           "2018-19",
           2
          ],
          [
           "O'Dea",
           "2018-19",
           3
          ],
          [
           "O'Dea",
           "2018-19",
           4
          ],
          [
           "O'Dea",
           "2018-19",
           5
          ],
          [
           "O'Dea",
           "2018-19",
           6
          ],
          [
           "O'Dea",
           "2018-19",
           7
          ],
          [
           "O'Dea",
           "2018-19",
           8
          ],
          [
           "O'Dea",
           "2018-19",
           9
          ],
          [
           "O'Dea",
           "2018-19",
           10
          ],
          [
           "O'Dea",
           "2018-19",
           11
          ],
          [
           "O'Dea",
           "2018-19",
           12
          ],
          [
           "O'Dea",
           "2018-19",
           13
          ],
          [
           "O'Dea",
           "2018-19",
           14
          ],
          [
           "O'Dea",
           "2018-19",
           15
          ],
          [
           "O'Dea",
           "2018-19",
           16
          ],
          [
           "O'Dea",
           "2018-19",
           17
          ],
          [
           "O'Dea",
           "2018-19",
           18
          ],
          [
           "O'Dea",
           "2020-21",
           1
          ],
          [
           "O'Dea",
           "2020-21",
           2
          ],
          [
           "O'Dea",
           "2020-21",
           3
          ],
          [
           "O'Dea",
           "2020-21",
           4
          ],
          [
           "O'Dea",
           "2020-21",
           5
          ],
          [
           "O'Dea",
           "2020-21",
           6
          ],
          [
           "O'Dea",
           "2021-22",
           1
          ],
          [
           "O'Dea",
           "2021-22",
           2
          ],
          [
           "O'Dea",
           "2021-22",
           3
          ],
          [
           "O'Dea",
           "2021-22",
           4
          ],
          [
           "O'Dea",
           "2021-22",
           5
          ],
          [
           "O'Dea",
           "2021-22",
           6
          ],
          [
           "O'Dea",
           "2021-22",
           7
          ],
          [
           "O'Dea",
           "2021-22",
           8
          ],
          [
           "O'Dea",
           "2021-22",
           9
          ],
          [
           "O'Dea",
           "2021-22",
           10
          ],
          [
           "O'Dea",
           "2021-22",
           11
          ],
          [
           "O'Dea",
           "2021-22",
           12
          ],
          [
           "O'Dea",
           "2021-22",
           13
          ],
          [
           "O'Dea",
           "2021-22",
           14
          ],
          [
           "O'Dea",
           "2021-22",
           15
          ],
          [
           "O'Dea",
           "2021-22",
           16
          ],
          [
           "O'Dea",
           "2021-22",
           17
          ],
          [
           "O'Dea",
           "2021-22",
           18
          ],
          [
           "O'Dea",
           "2021-22",
           19
          ],
          [
           "O'Dea",
           "2021-22",
           20
          ],
          [
           "O'Dea",
           "2022-23",
           1
          ],
          [
           "O'Dea",
           "2022-23",
           2
          ],
          [
           "O'Dea",
           "2022-23",
           3
          ],
          [
           "O'Dea",
           "2022-23",
           4
          ],
          [
           "O'Dea",
           "2022-23",
           5
          ],
          [
           "O'Dea",
           "2022-23",
           6
          ],
          [
           "O'Dea",
           "2022-23",
           7
          ],
          [
           "O'Dea",
           "2022-23",
           8
          ],
          [
           "O'Dea",
           "2022-23",
           9
          ],
          [
           "O'Dea",
           "2022-23",
           10
          ],
          [
           "O'Dea",
           "2022-23",
           11
          ],
          [
           "O'Dea",
           "2022-23",
           12
          ],
          [
           "O'Dea",
           "2022-23",
           13
          ],
          [
           "O'Dea",
           "2022-23",
           14
          ],
          [
           "O'Dea",
           "2022-23",
           15
          ],
          [
           "O'Dea",
           "2023-24",
           1
          ],
          [
           "O'Dea",
           "2023-24",
           2
          ],
          [
           "O'Dea",
           "2023-24",
           3
          ],
          [
           "O'Dea",
           "2023-24",
           4
          ],
          [
           "O'Dea",
           "2023-24",
           5
          ],
          [
           "O'Dea",
           "2023-24",
           6
          ],
          [
           "O'Dea",
           "2023-24",
           7
          ],
          [
           "O'Dea",
           "2023-24",
           8
          ],
          [
           "O'Dea",
           "2023-24",
           9
          ],
          [
           "O'Dea",
           "2023-24",
           10
          ],
          [
           "O'Dea",
           "2023-24",
           11
          ],
          [
           "O'Dea",
           "2023-24",
           12
          ],
          [
           "O'Dea",
           "2023-24",
           13
          ],
          [
           "O'Dea",
           "2023-24",
           14
          ],
          [
           "O'Dea",
           "2023-24",
           15
          ],
          [
           "O'Dea",
           "2023-24",
           16
          ],
          [
           "O'Dea",
           "2023-24",
           17
          ],
          [
           "O'Dea",
           "2024-25",
           1
          ],
          [
           "O'Dea",
           "2024-25",
           2
          ],
          [
           "O'Dea",
           "2024-25",
           3
          ],
          [
           "O'Dea",
           "2024-25",
           4
          ],
          [
           "O'Dea",
           "2024-25",
           5
          ],
          [
           "O'Dea",
           "2024-25",
           6
          ]
         ],
         "hovertemplate": "Team=%{customdata[0]}<br>Total Matches Played=%{x}<br>ELO Rating=%{y}<br>Season=%{customdata[1]}<br>Season Match #=%{customdata[2]}<extra></extra>",
         "legendgroup": "O'Dea",
         "line": {
          "color": "#00cc96",
          "dash": "solid"
         },
         "marker": {
          "symbol": "circle"
         },
         "mode": "lines",
         "name": "O'Dea",
         "showlegend": true,
         "type": "scattergl",
         "x": [
          1,
          2,
          3,
          4,
          5,
          6,
          7,
          8,
          9,
          10,
          11,
          12,
          13,
          14,
          15,
          16,
          17,
          18,
          19,
          20,
          21,
          22,
          23,
          24,
          25,
          26,
          27,
          28,
          29,
          30,
          31,
          32,
          33,
          34,
          35,
          36,
          37,
          38,
          39,
          40,
          41,
          42,
          43,
          44,
          45,
          46,
          47,
          48,
          49,
          50,
          51,
          52,
          53,
          54,
          55,
          56,
          57,
          58,
          59,
          60,
          61,
          62,
          63,
          64,
          65,
          66,
          67,
          68,
          69,
          70,
          71,
          72,
          73,
          74,
          75,
          76,
          77,
          78,
          79,
          80,
          81,
          82,
          83,
          84,
          85,
          86,
          87,
          88,
          89,
          90,
          91,
          92,
          93,
          94,
          95,
          96,
          97,
          98,
          99,
          100,
          101,
          102,
          103,
          104,
          105,
          106,
          107,
          108,
          109,
          110,
          111,
          112,
          113,
          114,
          115,
          116,
          117,
          118,
          119,
          120
         ],
         "xaxis": "x",
         "y": [
          1614.09327283808,
          1627.6720388650776,
          1696.1362410270715,
          1700.0161875488766,
          1689.383709604374,
          1754.8461262719245,
          1747.4636026246162,
          1730.038428151851,
          1703.1314152429732,
          1647.5427616783095,
          1576.807799976346,
          1598.1408709058533,
          1682.3682853075702,
          1724.8307557390178,
          1686.3538964117447,
          1754.7927349803226,
          1751.5350273353283,
          1761.1841420432652,
          1772.0043249552984,
          1656.785342698054,
          1659.3536749331724,
          1655.9277068094157,
          1624.1014785367308,
          1627.063914779235,
          1632.836713963805,
          1642.7680342729127,
          1664.7820773666454,
          1722.855294939456,
          1686.069984910935,
          1648.2696098678598,
          1684.2859462884587,
          1648.2695632553175,
          1696.2116594941508,
          1696.748815681115,
          1697.2827044176784,
          1699.6493225543377,
          1700.750566585126,
          1708.1350687636168,
          1655.601146922736,
          1667.9542641300109,
          1704.557367116724,
          1666.5067324960537,
          1697.662681013628,
          1718.2643315261364,
          1691.406184399514,
          1706.1718439138865,
          1715.449892803637,
          1691.2022347649215,
          1687.4009058187264,
          1716.1782279112588,
          1650.107189912416,
          1656.7879591173487,
          1687.5382783203995,
          1715.8366029563467,
          1691.0209668700795,
          1698.8557446332622,
          1726.2884519374911,
          1742.7367002550584,
          1666.112428011819,
          1742.2697472785223,
          1730.11479849791,
          1733.1629205419745,
          1671.085148557137,
          1659.751529358466,
          1692.047877619009,
          1713.997693837353,
          1714.3704970523995,
          1737.828832293152,
          1738.668410380879,
          1674.355444733679,
          1674.6967402521782,
          1713.2567911264437,
          1709.9955333137673,
          1736.981107232721,
          1675.5451008789164,
          1659.694980580467,
          1660.5450936545017,
          1652.4643597045244,
          1745.2810348706405,
          1717.0362816227473,
          1771.668818408462,
          1763.2325389177918,
          1764.812192402503,
          1771.8712685142218,
          1773.0659624582245,
          1774.2444968484242,
          1786.5003074892802,
          1728.6344792354412,
          1722.6888855208938,
          1673.4703322606877,
          1618.55988635328,
          1537.539602409481,
          1716.8367232767273,
          1661.5103563248786,
          1647.841172173058,
          1585.0810633672463,
          1632.3778522779396,
          1569.38101381135,
          1624.167803745824,
          1684.0349772828763,
          1729.0107532995664,
          1720.1815704288335,
          1747.7738744028125,
          1735.2928563406474,
          1697.662184031749,
          1775.178498888792,
          1564.4305455596054,
          1644.2230718596993,
          1644.7235768803805,
          1649.1338644984808,
          1705.615734949539,
          1713.98184851881,
          1729.6693841458475,
          1801.258604874222,
          1676.5037473061816,
          1670.829898428098,
          1729.139202514608,
          1686.8425326997897,
          1712.9923203179137,
          1737.94704705272
         ],
         "yaxis": "y"
        },
        {
         "customdata": [
          [
           "Rainier Beach",
           "2016-17",
           1
          ],
          [
           "Rainier Beach",
           "2016-17",
           2
          ],
          [
           "Rainier Beach",
           "2016-17",
           3
          ],
          [
           "Rainier Beach",
           "2016-17",
           4
          ],
          [
           "Rainier Beach",
           "2016-17",
           5
          ],
          [
           "Rainier Beach",
           "2016-17",
           6
          ],
          [
           "Rainier Beach",
           "2016-17",
           7
          ],
          [
           "Rainier Beach",
           "2016-17",
           8
          ],
          [
           "Rainier Beach",
           "2016-17",
           9
          ],
          [
           "Rainier Beach",
           "2016-17",
           10
          ],
          [
           "Rainier Beach",
           "2016-17",
           11
          ],
          [
           "Rainier Beach",
           "2016-17",
           12
          ],
          [
           "Rainier Beach",
           "2016-17",
           13
          ],
          [
           "Rainier Beach",
           "2016-17",
           14
          ],
          [
           "Rainier Beach",
           "2016-17",
           15
          ],
          [
           "Rainier Beach",
           "2016-17",
           16
          ],
          [
           "Rainier Beach",
           "2017-18",
           1
          ],
          [
           "Rainier Beach",
           "2017-18",
           2
          ],
          [
           "Rainier Beach",
           "2017-18",
           3
          ],
          [
           "Rainier Beach",
           "2017-18",
           4
          ],
          [
           "Rainier Beach",
           "2017-18",
           5
          ],
          [
           "Rainier Beach",
           "2017-18",
           6
          ],
          [
           "Rainier Beach",
           "2017-18",
           7
          ],
          [
           "Rainier Beach",
           "2017-18",
           8
          ],
          [
           "Rainier Beach",
           "2017-18",
           9
          ],
          [
           "Rainier Beach",
           "2017-18",
           10
          ],
          [
           "Rainier Beach",
           "2017-18",
           11
          ],
          [
           "Rainier Beach",
           "2017-18",
           12
          ],
          [
           "Rainier Beach",
           "2017-18",
           13
          ],
          [
           "Rainier Beach",
           "2017-18",
           14
          ],
          [
           "Rainier Beach",
           "2017-18",
           15
          ],
          [
           "Rainier Beach",
           "2017-18",
           16
          ],
          [
           "Rainier Beach",
           "2018-19",
           1
          ],
          [
           "Rainier Beach",
           "2018-19",
           2
          ],
          [
           "Rainier Beach",
           "2018-19",
           3
          ],
          [
           "Rainier Beach",
           "2018-19",
           4
          ],
          [
           "Rainier Beach",
           "2018-19",
           5
          ],
          [
           "Rainier Beach",
           "2018-19",
           6
          ],
          [
           "Rainier Beach",
           "2018-19",
           7
          ],
          [
           "Rainier Beach",
           "2018-19",
           8
          ],
          [
           "Rainier Beach",
           "2018-19",
           9
          ],
          [
           "Rainier Beach",
           "2018-19",
           10
          ],
          [
           "Rainier Beach",
           "2018-19",
           11
          ],
          [
           "Rainier Beach",
           "2018-19",
           12
          ],
          [
           "Rainier Beach",
           "2018-19",
           13
          ],
          [
           "Rainier Beach",
           "2018-19",
           14
          ],
          [
           "Rainier Beach",
           "2018-19",
           15
          ],
          [
           "Rainier Beach",
           "2018-19",
           16
          ],
          [
           "Rainier Beach",
           "2020-21",
           1
          ],
          [
           "Rainier Beach",
           "2020-21",
           2
          ],
          [
           "Rainier Beach",
           "2020-21",
           3
          ],
          [
           "Rainier Beach",
           "2020-21",
           4
          ],
          [
           "Rainier Beach",
           "2020-21",
           5
          ],
          [
           "Rainier Beach",
           "2021-22",
           1
          ],
          [
           "Rainier Beach",
           "2021-22",
           2
          ],
          [
           "Rainier Beach",
           "2021-22",
           3
          ],
          [
           "Rainier Beach",
           "2021-22",
           4
          ],
          [
           "Rainier Beach",
           "2021-22",
           5
          ],
          [
           "Rainier Beach",
           "2021-22",
           6
          ],
          [
           "Rainier Beach",
           "2021-22",
           7
          ],
          [
           "Rainier Beach",
           "2021-22",
           8
          ],
          [
           "Rainier Beach",
           "2021-22",
           9
          ],
          [
           "Rainier Beach",
           "2021-22",
           10
          ],
          [
           "Rainier Beach",
           "2021-22",
           11
          ],
          [
           "Rainier Beach",
           "2021-22",
           12
          ],
          [
           "Rainier Beach",
           "2021-22",
           13
          ],
          [
           "Rainier Beach",
           "2021-22",
           14
          ],
          [
           "Rainier Beach",
           "2021-22",
           15
          ],
          [
           "Rainier Beach",
           "2021-22",
           16
          ],
          [
           "Rainier Beach",
           "2021-22",
           17
          ],
          [
           "Rainier Beach",
           "2021-22",
           18
          ],
          [
           "Rainier Beach",
           "2021-22",
           19
          ],
          [
           "Rainier Beach",
           "2021-22",
           20
          ],
          [
           "Rainier Beach",
           "2021-22",
           21
          ],
          [
           "Rainier Beach",
           "2021-22",
           22
          ],
          [
           "Rainier Beach",
           "2021-22",
           23
          ],
          [
           "Rainier Beach",
           "2021-22",
           24
          ],
          [
           "Rainier Beach",
           "2021-22",
           25
          ],
          [
           "Rainier Beach",
           "2021-22",
           26
          ],
          [
           "Rainier Beach",
           "2021-22",
           27
          ],
          [
           "Rainier Beach",
           "2021-22",
           28
          ],
          [
           "Rainier Beach",
           "2021-22",
           29
          ],
          [
           "Rainier Beach",
           "2021-22",
           30
          ],
          [
           "Rainier Beach",
           "2022-23",
           1
          ],
          [
           "Rainier Beach",
           "2022-23",
           2
          ],
          [
           "Rainier Beach",
           "2022-23",
           3
          ],
          [
           "Rainier Beach",
           "2022-23",
           4
          ],
          [
           "Rainier Beach",
           "2022-23",
           5
          ],
          [
           "Rainier Beach",
           "2022-23",
           6
          ],
          [
           "Rainier Beach",
           "2022-23",
           7
          ],
          [
           "Rainier Beach",
           "2022-23",
           8
          ],
          [
           "Rainier Beach",
           "2022-23",
           9
          ],
          [
           "Rainier Beach",
           "2022-23",
           10
          ],
          [
           "Rainier Beach",
           "2022-23",
           11
          ],
          [
           "Rainier Beach",
           "2022-23",
           12
          ],
          [
           "Rainier Beach",
           "2022-23",
           13
          ],
          [
           "Rainier Beach",
           "2022-23",
           14
          ],
          [
           "Rainier Beach",
           "2022-23",
           15
          ],
          [
           "Rainier Beach",
           "2022-23",
           16
          ],
          [
           "Rainier Beach",
           "2022-23",
           17
          ],
          [
           "Rainier Beach",
           "2022-23",
           18
          ],
          [
           "Rainier Beach",
           "2022-23",
           19
          ],
          [
           "Rainier Beach",
           "2022-23",
           20
          ],
          [
           "Rainier Beach",
           "2022-23",
           21
          ],
          [
           "Rainier Beach",
           "2022-23",
           22
          ],
          [
           "Rainier Beach",
           "2022-23",
           23
          ],
          [
           "Rainier Beach",
           "2022-23",
           24
          ],
          [
           "Rainier Beach",
           "2022-23",
           25
          ],
          [
           "Rainier Beach",
           "2022-23",
           26
          ],
          [
           "Rainier Beach",
           "2023-24",
           1
          ],
          [
           "Rainier Beach",
           "2023-24",
           2
          ],
          [
           "Rainier Beach",
           "2023-24",
           3
          ],
          [
           "Rainier Beach",
           "2023-24",
           4
          ],
          [
           "Rainier Beach",
           "2023-24",
           5
          ],
          [
           "Rainier Beach",
           "2023-24",
           6
          ],
          [
           "Rainier Beach",
           "2023-24",
           7
          ],
          [
           "Rainier Beach",
           "2023-24",
           8
          ],
          [
           "Rainier Beach",
           "2023-24",
           9
          ],
          [
           "Rainier Beach",
           "2023-24",
           10
          ],
          [
           "Rainier Beach",
           "2023-24",
           11
          ],
          [
           "Rainier Beach",
           "2023-24",
           12
          ],
          [
           "Rainier Beach",
           "2023-24",
           13
          ],
          [
           "Rainier Beach",
           "2023-24",
           14
          ],
          [
           "Rainier Beach",
           "2023-24",
           15
          ],
          [
           "Rainier Beach",
           "2023-24",
           16
          ],
          [
           "Rainier Beach",
           "2023-24",
           17
          ],
          [
           "Rainier Beach",
           "2023-24",
           18
          ],
          [
           "Rainier Beach",
           "2023-24",
           19
          ],
          [
           "Rainier Beach",
           "2023-24",
           20
          ],
          [
           "Rainier Beach",
           "2023-24",
           21
          ],
          [
           "Rainier Beach",
           "2023-24",
           22
          ],
          [
           "Rainier Beach",
           "2023-24",
           23
          ],
          [
           "Rainier Beach",
           "2023-24",
           24
          ],
          [
           "Rainier Beach",
           "2024-25",
           1
          ],
          [
           "Rainier Beach",
           "2024-25",
           2
          ],
          [
           "Rainier Beach",
           "2024-25",
           3
          ],
          [
           "Rainier Beach",
           "2024-25",
           4
          ],
          [
           "Rainier Beach",
           "2024-25",
           5
          ],
          [
           "Rainier Beach",
           "2024-25",
           6
          ],
          [
           "Rainier Beach",
           "2024-25",
           7
          ]
         ],
         "hovertemplate": "Team=%{customdata[0]}<br>Total Matches Played=%{x}<br>ELO Rating=%{y}<br>Season=%{customdata[1]}<br>Season Match #=%{customdata[2]}<extra></extra>",
         "legendgroup": "Rainier Beach",
         "line": {
          "color": "#ab63fa",
          "dash": "solid"
         },
         "marker": {
          "symbol": "circle"
         },
         "mode": "lines",
         "name": "Rainier Beach",
         "showlegend": true,
         "type": "scattergl",
         "x": [
          1,
          2,
          3,
          4,
          5,
          6,
          7,
          8,
          9,
          10,
          11,
          12,
          13,
          14,
          15,
          16,
          17,
          18,
          19,
          20,
          21,
          22,
          23,
          24,
          25,
          26,
          27,
          28,
          29,
          30,
          31,
          32,
          33,
          34,
          35,
          36,
          37,
          38,
          39,
          40,
          41,
          42,
          43,
          44,
          45,
          46,
          47,
          48,
          49,
          50,
          51,
          52,
          53,
          54,
          55,
          56,
          57,
          58,
          59,
          60,
          61,
          62,
          63,
          64,
          65,
          66,
          67,
          68,
          69,
          70,
          71,
          72,
          73,
          74,
          75,
          76,
          77,
          78,
          79,
          80,
          81,
          82,
          83,
          84,
          85,
          86,
          87,
          88,
          89,
          90,
          91,
          92,
          93,
          94,
          95,
          96,
          97,
          98,
          99,
          100,
          101,
          102,
          103,
          104,
          105,
          106,
          107,
          108,
          109,
          110,
          111,
          112,
          113,
          114,
          115,
          116,
          117,
          118,
          119,
          120,
          121,
          122,
          123,
          124,
          125,
          126,
          127,
          128,
          129,
          130,
          131,
          132,
          133,
          134,
          135,
          136,
          137,
          138,
          139,
          140
         ],
         "xaxis": "x",
         "y": [
          1432.150886001675,
          1408.5671830311962,
          1404.490998869748,
          1460.7552621330926,
          1441.3300466048515,
          1418.2167990482124,
          1366.8225815711733,
          1456.807799976346,
          1404.6872365093911,
          1447.259174381111,
          1477.6026565831316,
          1442.297779679301,
          1450.0896485023425,
          1439.31854865559,
          1408.1416853682658,
          1388.8275697069455,
          1329.7186939553735,
          1301.362210160637,
          1307.645658511971,
          1232.983832495523,
          1217.6691799168532,
          1200.7409246153989,
          1158.0800673660856,
          1120.4751883950612,
          1346.0013977404114,
          1311.3219756340775,
          1299.0950857443615,
          1294.598602128542,
          1301.1655540801175,
          1155.1176311235818,
          1141.4770527855774,
          1124.3364620613015,
          1115.3429385410743,
          1085.7372190211158,
          1107.162538277748,
          1104.345422819424,
          1092.6272084004945,
          1101.0430280429543,
          1113.8771089276283,
          1094.831903688184,
          1126.9522000452594,
          1120.083082215942,
          1112.501223086863,
          1133.0478518314426,
          1128.7386770822045,
          1128.255904714683,
          1097.1871196318011,
          1109.346767222787,
          1071.1948909076373,
          1057.5552244317082,
          1120.5855751624956,
          1078.318897986794,
          1070.7279379311012,
          1115.8450419412625,
          1111.3278663742135,
          1090.901080462748,
          1080.0407460774577,
          1113.9604034851704,
          1094.4357131232148,
          1051.2761683311023,
          1049.5358117315957,
          1044.830635351904,
          1042.5132739814069,
          1040.402005972542,
          1038.3405666601104,
          1024.6146122983937,
          1021.5320750090236,
          1107.0060738481145,
          1102.886855464065,
          1115.5271080910252,
          1149.1016120520294,
          1143.278618352436,
          1137.816010908616,
          1071.489438143196,
          1053.0519396004702,
          1049.2161981582208,
          1048.8977553864772,
          1048.0500303260462,
          1047.210452238319,
          1032.9216702570625,
          1027.8095716612834,
          1062.45324332916,
          1091.7543450581545,
          1083.4488708785275,
          1075.8528383905802,
          1074.3332881550602,
          1072.8395984279955,
          1071.644904483993,
          1070.466370093793,
          1078.2197067380282,
          1085.4302963903206,
          1119.4422827186447,
          1151.1771866337783,
          1127.0981336951304,
          1107.9170662017866,
          1098.0676250877093,
          1089.1960102045584,
          1108.6054156496698,
          1124.647647124308,
          1132.9509580051342,
          1140.3574359498996,
          1120.9859428441491,
          1104.9700367463186,
          1119.443652288986,
          1132.5611110285374,
          1130.5282173445137,
          1128.540012707702,
          1107.9999872627227,
          1091.1792533532564,
          1041.0033712608858,
          1003.777473389464,
          997.1545532746424,
          990.9928869114704,
          987.1135313089064,
          983.3878431167592,
          962.3516222422844,
          946.2280768965284,
          937.0747037611178,
          928.6438821498492,
          885.7466231324503,
          883.0768432145579,
          1084.9711115525463,
          1079.1705034992162,
          981.9434730577008,
          980.5226406907432,
          925.2072346403952,
          921.9002321783624,
          919.166319661964,
          916.5114955079042,
          901.4317923072904,
          888.4963709618074,
          882.6839640372121,
          882.2928405764925,
          863.6324751509669,
          859.1184461726465,
          841.3223872617742,
          879.4363671019356,
          877.3035098962632,
          861.8263139043441,
          851.8566843693379
         ],
         "yaxis": "y"
        },
        {
         "customdata": [
          [
           "Roosevelt",
           "2016-17",
           1
          ],
          [
           "Roosevelt",
           "2016-17",
           2
          ],
          [
           "Roosevelt",
           "2016-17",
           3
          ],
          [
           "Roosevelt",
           "2016-17",
           4
          ],
          [
           "Roosevelt",
           "2016-17",
           5
          ],
          [
           "Roosevelt",
           "2016-17",
           6
          ],
          [
           "Roosevelt",
           "2016-17",
           7
          ],
          [
           "Roosevelt",
           "2016-17",
           8
          ],
          [
           "Roosevelt",
           "2016-17",
           9
          ],
          [
           "Roosevelt",
           "2016-17",
           10
          ],
          [
           "Roosevelt",
           "2016-17",
           11
          ],
          [
           "Roosevelt",
           "2016-17",
           12
          ],
          [
           "Roosevelt",
           "2016-17",
           13
          ],
          [
           "Roosevelt",
           "2016-17",
           14
          ],
          [
           "Roosevelt",
           "2016-17",
           15
          ],
          [
           "Roosevelt",
           "2016-17",
           16
          ],
          [
           "Roosevelt",
           "2016-17",
           17
          ],
          [
           "Roosevelt",
           "2016-17",
           18
          ],
          [
           "Roosevelt",
           "2016-17",
           19
          ],
          [
           "Roosevelt",
           "2016-17",
           20
          ],
          [
           "Roosevelt",
           "2016-17",
           21
          ],
          [
           "Roosevelt",
           "2017-18",
           1
          ],
          [
           "Roosevelt",
           "2017-18",
           2
          ],
          [
           "Roosevelt",
           "2017-18",
           3
          ],
          [
           "Roosevelt",
           "2017-18",
           4
          ],
          [
           "Roosevelt",
           "2017-18",
           5
          ],
          [
           "Roosevelt",
           "2017-18",
           6
          ],
          [
           "Roosevelt",
           "2017-18",
           7
          ],
          [
           "Roosevelt",
           "2017-18",
           8
          ],
          [
           "Roosevelt",
           "2017-18",
           9
          ],
          [
           "Roosevelt",
           "2017-18",
           10
          ],
          [
           "Roosevelt",
           "2017-18",
           11
          ],
          [
           "Roosevelt",
           "2017-18",
           12
          ],
          [
           "Roosevelt",
           "2017-18",
           13
          ],
          [
           "Roosevelt",
           "2017-18",
           14
          ],
          [
           "Roosevelt",
           "2017-18",
           15
          ],
          [
           "Roosevelt",
           "2017-18",
           16
          ],
          [
           "Roosevelt",
           "2017-18",
           17
          ],
          [
           "Roosevelt",
           "2017-18",
           18
          ],
          [
           "Roosevelt",
           "2017-18",
           19
          ],
          [
           "Roosevelt",
           "2017-18",
           20
          ],
          [
           "Roosevelt",
           "2018-19",
           1
          ],
          [
           "Roosevelt",
           "2018-19",
           2
          ],
          [
           "Roosevelt",
           "2018-19",
           3
          ],
          [
           "Roosevelt",
           "2018-19",
           4
          ],
          [
           "Roosevelt",
           "2018-19",
           5
          ],
          [
           "Roosevelt",
           "2018-19",
           6
          ],
          [
           "Roosevelt",
           "2018-19",
           7
          ],
          [
           "Roosevelt",
           "2018-19",
           8
          ],
          [
           "Roosevelt",
           "2018-19",
           9
          ],
          [
           "Roosevelt",
           "2018-19",
           10
          ],
          [
           "Roosevelt",
           "2018-19",
           11
          ],
          [
           "Roosevelt",
           "2018-19",
           12
          ],
          [
           "Roosevelt",
           "2018-19",
           13
          ],
          [
           "Roosevelt",
           "2018-19",
           14
          ],
          [
           "Roosevelt",
           "2018-19",
           15
          ],
          [
           "Roosevelt",
           "2018-19",
           16
          ],
          [
           "Roosevelt",
           "2018-19",
           17
          ],
          [
           "Roosevelt",
           "2018-19",
           18
          ],
          [
           "Roosevelt",
           "2020-21",
           1
          ],
          [
           "Roosevelt",
           "2020-21",
           2
          ],
          [
           "Roosevelt",
           "2020-21",
           3
          ],
          [
           "Roosevelt",
           "2020-21",
           4
          ],
          [
           "Roosevelt",
           "2020-21",
           5
          ],
          [
           "Roosevelt",
           "2020-21",
           6
          ],
          [
           "Roosevelt",
           "2021-22",
           1
          ],
          [
           "Roosevelt",
           "2021-22",
           2
          ],
          [
           "Roosevelt",
           "2021-22",
           3
          ],
          [
           "Roosevelt",
           "2021-22",
           4
          ],
          [
           "Roosevelt",
           "2021-22",
           5
          ],
          [
           "Roosevelt",
           "2021-22",
           6
          ],
          [
           "Roosevelt",
           "2021-22",
           7
          ],
          [
           "Roosevelt",
           "2021-22",
           8
          ],
          [
           "Roosevelt",
           "2021-22",
           9
          ],
          [
           "Roosevelt",
           "2021-22",
           10
          ],
          [
           "Roosevelt",
           "2021-22",
           11
          ],
          [
           "Roosevelt",
           "2021-22",
           12
          ],
          [
           "Roosevelt",
           "2021-22",
           13
          ],
          [
           "Roosevelt",
           "2021-22",
           14
          ],
          [
           "Roosevelt",
           "2021-22",
           15
          ],
          [
           "Roosevelt",
           "2021-22",
           16
          ],
          [
           "Roosevelt",
           "2021-22",
           17
          ],
          [
           "Roosevelt",
           "2022-23",
           1
          ],
          [
           "Roosevelt",
           "2022-23",
           2
          ],
          [
           "Roosevelt",
           "2022-23",
           3
          ],
          [
           "Roosevelt",
           "2022-23",
           4
          ],
          [
           "Roosevelt",
           "2022-23",
           5
          ],
          [
           "Roosevelt",
           "2022-23",
           6
          ],
          [
           "Roosevelt",
           "2022-23",
           7
          ],
          [
           "Roosevelt",
           "2022-23",
           8
          ],
          [
           "Roosevelt",
           "2022-23",
           9
          ],
          [
           "Roosevelt",
           "2022-23",
           10
          ],
          [
           "Roosevelt",
           "2022-23",
           11
          ],
          [
           "Roosevelt",
           "2022-23",
           12
          ],
          [
           "Roosevelt",
           "2022-23",
           13
          ],
          [
           "Roosevelt",
           "2022-23",
           14
          ],
          [
           "Roosevelt",
           "2022-23",
           15
          ],
          [
           "Roosevelt",
           "2022-23",
           16
          ],
          [
           "Roosevelt",
           "2023-24",
           1
          ],
          [
           "Roosevelt",
           "2023-24",
           2
          ],
          [
           "Roosevelt",
           "2023-24",
           3
          ],
          [
           "Roosevelt",
           "2023-24",
           4
          ],
          [
           "Roosevelt",
           "2023-24",
           5
          ],
          [
           "Roosevelt",
           "2023-24",
           6
          ],
          [
           "Roosevelt",
           "2023-24",
           7
          ],
          [
           "Roosevelt",
           "2023-24",
           8
          ],
          [
           "Roosevelt",
           "2023-24",
           9
          ],
          [
           "Roosevelt",
           "2023-24",
           10
          ],
          [
           "Roosevelt",
           "2023-24",
           11
          ],
          [
           "Roosevelt",
           "2023-24",
           12
          ],
          [
           "Roosevelt",
           "2023-24",
           13
          ],
          [
           "Roosevelt",
           "2023-24",
           14
          ],
          [
           "Roosevelt",
           "2023-24",
           15
          ],
          [
           "Roosevelt",
           "2023-24",
           16
          ],
          [
           "Roosevelt",
           "2023-24",
           17
          ],
          [
           "Roosevelt",
           "2023-24",
           18
          ],
          [
           "Roosevelt",
           "2023-24",
           19
          ],
          [
           "Roosevelt",
           "2024-25",
           1
          ],
          [
           "Roosevelt",
           "2024-25",
           2
          ],
          [
           "Roosevelt",
           "2024-25",
           3
          ],
          [
           "Roosevelt",
           "2024-25",
           4
          ],
          [
           "Roosevelt",
           "2024-25",
           5
          ],
          [
           "Roosevelt",
           "2024-25",
           6
          ],
          [
           "Roosevelt",
           "2024-25",
           7
          ]
         ],
         "hovertemplate": "Team=%{customdata[0]}<br>Total Matches Played=%{x}<br>ELO Rating=%{y}<br>Season=%{customdata[1]}<br>Season Match #=%{customdata[2]}<extra></extra>",
         "legendgroup": "Roosevelt",
         "line": {
          "color": "#FFA15A",
          "dash": "solid"
         },
         "marker": {
          "symbol": "circle"
         },
         "mode": "lines",
         "name": "Roosevelt",
         "showlegend": true,
         "type": "scattergl",
         "x": [
          1,
          2,
          3,
          4,
          5,
          6,
          7,
          8,
          9,
          10,
          11,
          12,
          13,
          14,
          15,
          16,
          17,
          18,
          19,
          20,
          21,
          22,
          23,
          24,
          25,
          26,
          27,
          28,
          29,
          30,
          31,
          32,
          33,
          34,
          35,
          36,
          37,
          38,
          39,
          40,
          41,
          42,
          43,
          44,
          45,
          46,
          47,
          48,
          49,
          50,
          51,
          52,
          53,
          54,
          55,
          56,
          57,
          58,
          59,
          60,
          61,
          62,
          63,
          64,
          65,
          66,
          67,
          68,
          69,
          70,
          71,
          72,
          73,
          74,
          75,
          76,
          77,
          78,
          79,
          80,
          81,
          82,
          83,
          84,
          85,
          86,
          87,
          88,
          89,
          90,
          91,
          92,
          93,
          94,
          95,
          96,
          97,
          98,
          99,
          100,
          101,
          102,
          103,
          104,
          105,
          106,
          107,
          108,
          109,
          110,
          111,
          112,
          113,
          114,
          115,
          116,
          117,
          118,
          119,
          120,
          121,
          122,
          123,
          124
         ],
         "xaxis": "x",
         "y": [
          1543.192200023654,
          1559.2376728824406,
          1635.754933148215,
          1668.8500544413052,
          1682.07997590525,
          1683.5434083372045,
          1684.9826840918925,
          1721.732500730788,
          1728.7642582645778,
          1698.5270012571723,
          1710.353685961792,
          1764.153813642445,
          1527.849113998325,
          1529.7132005484511,
          1587.7859623886984,
          1654.719024133421,
          1689.3185583107795,
          1696.7010819580878,
          1712.4618647950565,
          1736.2419299971596,
          1751.8810730297084,
          1767.651263519751,
          1792.4497001349828,
          1833.1056314594684,
          1845.07879719505,
          1861.3342863434737,
          1935.8268068547789,
          1969.6282510277167,
          1973.0101331230692,
          1992.873696008444,
          1783.933967304789,
          1812.4438920698144,
          1893.768308818896,
          1927.2067171688384,
          1927.62459694046,
          1928.0404780638128,
          1932.8263019926208,
          1965.299091029688,
          1967.6717660882105,
          1964.2001631491728,
          1941.0451680320891,
          1941.151666864328,
          1977.418364704652,
          1961.0112381775864,
          1972.1391340185185,
          1973.0832903266796,
          1986.2139195367304,
          1986.696691904252,
          1993.5923554155968,
          2010.178783216156,
          2019.0227017946183,
          1976.7527547065135,
          1982.767984608374,
          1979.7966591478475,
          1982.8180831568827,
          1984.9049376321768,
          1988.8328190469429,
          2007.2802323224305,
          1996.4176446206432,
          1999.04589501299,
          1986.9229177470656,
          2012.7319132961636,
          2009.098383487022,
          2011.4476913320784,
          2018.992745549706,
          2022.883785343907,
          1970.645702640164,
          1976.0292059848684,
          1978.8949189699388,
          1979.2145325433132,
          1979.532975315057,
          1959.083387005308,
          1939.989126193228,
          1948.3836029628085,
          1996.988440950886,
          1999.05312862094,
          1969.4845380056684,
          1972.9235814337253,
          1964.7867487239428,
          1938.788396508919,
          1940.302869012831,
          1922.1233944060325,
          1871.1235721868952,
          1797.5392095064822,
          1701.7474813986123,
          1641.1044026822997,
          1549.1775669120775,
          1501.8807780013842,
          1934.0290450840205,
          1728.327320229054,
          1752.9846233797202,
          1703.3789333915834,
          1675.7372547978762,
          1668.528347642315,
          1652.4288702565489,
          1596.7190278698429,
          1592.9287599538566,
          1560.0600895022967,
          1547.2364376865876,
          1510.5497773029294,
          1513.269285152192,
          1586.779616683928,
          1577.120022523681,
          1585.6250739743855,
          1562.8046422881475,
          1577.8383488113088,
          1590.1086969059938,
          1550.814570813212,
          1533.8250582867483,
          1532.3140432880757,
          1597.4032537552032,
          1614.9327093306108,
          1619.257510610011,
          1598.1060920365503,
          1615.4330229594025,
          1588.114265923229,
          1577.7103441387274,
          1578.8838599581643,
          1523.214647692176,
          1539.21534931927,
          1527.302382197301,
          1549.7175642070922,
          1560.85877589929,
          1555.5431601824585
         ],
         "yaxis": "y"
        },
        {
         "customdata": [
          [
           "Seattle Prep",
           "2016-17",
           1
          ],
          [
           "Seattle Prep",
           "2016-17",
           2
          ],
          [
           "Seattle Prep",
           "2016-17",
           3
          ],
          [
           "Seattle Prep",
           "2016-17",
           4
          ],
          [
           "Seattle Prep",
           "2016-17",
           5
          ],
          [
           "Seattle Prep",
           "2016-17",
           6
          ],
          [
           "Seattle Prep",
           "2016-17",
           7
          ],
          [
           "Seattle Prep",
           "2016-17",
           8
          ],
          [
           "Seattle Prep",
           "2016-17",
           9
          ],
          [
           "Seattle Prep",
           "2016-17",
           10
          ],
          [
           "Seattle Prep",
           "2016-17",
           11
          ],
          [
           "Seattle Prep",
           "2016-17",
           12
          ],
          [
           "Seattle Prep",
           "2016-17",
           13
          ],
          [
           "Seattle Prep",
           "2016-17",
           14
          ],
          [
           "Seattle Prep",
           "2016-17",
           15
          ],
          [
           "Seattle Prep",
           "2016-17",
           16
          ],
          [
           "Seattle Prep",
           "2016-17",
           17
          ],
          [
           "Seattle Prep",
           "2016-17",
           18
          ],
          [
           "Seattle Prep",
           "2016-17",
           19
          ],
          [
           "Seattle Prep",
           "2017-18",
           1
          ],
          [
           "Seattle Prep",
           "2017-18",
           2
          ],
          [
           "Seattle Prep",
           "2017-18",
           3
          ],
          [
           "Seattle Prep",
           "2017-18",
           4
          ],
          [
           "Seattle Prep",
           "2017-18",
           5
          ],
          [
           "Seattle Prep",
           "2017-18",
           6
          ],
          [
           "Seattle Prep",
           "2017-18",
           7
          ],
          [
           "Seattle Prep",
           "2017-18",
           8
          ],
          [
           "Seattle Prep",
           "2017-18",
           9
          ],
          [
           "Seattle Prep",
           "2017-18",
           10
          ],
          [
           "Seattle Prep",
           "2017-18",
           11
          ],
          [
           "Seattle Prep",
           "2017-18",
           12
          ],
          [
           "Seattle Prep",
           "2017-18",
           13
          ],
          [
           "Seattle Prep",
           "2017-18",
           14
          ],
          [
           "Seattle Prep",
           "2017-18",
           15
          ],
          [
           "Seattle Prep",
           "2017-18",
           16
          ],
          [
           "Seattle Prep",
           "2017-18",
           17
          ],
          [
           "Seattle Prep",
           "2018-19",
           1
          ],
          [
           "Seattle Prep",
           "2018-19",
           2
          ],
          [
           "Seattle Prep",
           "2018-19",
           3
          ],
          [
           "Seattle Prep",
           "2018-19",
           4
          ],
          [
           "Seattle Prep",
           "2018-19",
           5
          ],
          [
           "Seattle Prep",
           "2018-19",
           6
          ],
          [
           "Seattle Prep",
           "2018-19",
           7
          ],
          [
           "Seattle Prep",
           "2018-19",
           8
          ],
          [
           "Seattle Prep",
           "2018-19",
           9
          ],
          [
           "Seattle Prep",
           "2018-19",
           10
          ],
          [
           "Seattle Prep",
           "2018-19",
           11
          ],
          [
           "Seattle Prep",
           "2018-19",
           12
          ],
          [
           "Seattle Prep",
           "2018-19",
           13
          ],
          [
           "Seattle Prep",
           "2018-19",
           14
          ],
          [
           "Seattle Prep",
           "2018-19",
           15
          ],
          [
           "Seattle Prep",
           "2018-19",
           16
          ],
          [
           "Seattle Prep",
           "2020-21",
           1
          ],
          [
           "Seattle Prep",
           "2020-21",
           2
          ],
          [
           "Seattle Prep",
           "2020-21",
           3
          ],
          [
           "Seattle Prep",
           "2020-21",
           4
          ],
          [
           "Seattle Prep",
           "2020-21",
           5
          ],
          [
           "Seattle Prep",
           "2021-22",
           1
          ],
          [
           "Seattle Prep",
           "2021-22",
           2
          ],
          [
           "Seattle Prep",
           "2021-22",
           3
          ],
          [
           "Seattle Prep",
           "2021-22",
           4
          ],
          [
           "Seattle Prep",
           "2021-22",
           5
          ],
          [
           "Seattle Prep",
           "2021-22",
           6
          ],
          [
           "Seattle Prep",
           "2021-22",
           7
          ],
          [
           "Seattle Prep",
           "2021-22",
           8
          ],
          [
           "Seattle Prep",
           "2021-22",
           9
          ],
          [
           "Seattle Prep",
           "2021-22",
           10
          ],
          [
           "Seattle Prep",
           "2021-22",
           11
          ],
          [
           "Seattle Prep",
           "2021-22",
           12
          ],
          [
           "Seattle Prep",
           "2021-22",
           13
          ],
          [
           "Seattle Prep",
           "2021-22",
           14
          ],
          [
           "Seattle Prep",
           "2021-22",
           15
          ],
          [
           "Seattle Prep",
           "2021-22",
           16
          ],
          [
           "Seattle Prep",
           "2021-22",
           17
          ],
          [
           "Seattle Prep",
           "2021-22",
           18
          ],
          [
           "Seattle Prep",
           "2021-22",
           19
          ],
          [
           "Seattle Prep",
           "2022-23",
           1
          ],
          [
           "Seattle Prep",
           "2022-23",
           2
          ],
          [
           "Seattle Prep",
           "2022-23",
           3
          ],
          [
           "Seattle Prep",
           "2022-23",
           4
          ],
          [
           "Seattle Prep",
           "2022-23",
           5
          ],
          [
           "Seattle Prep",
           "2022-23",
           6
          ],
          [
           "Seattle Prep",
           "2022-23",
           7
          ],
          [
           "Seattle Prep",
           "2022-23",
           8
          ],
          [
           "Seattle Prep",
           "2022-23",
           9
          ],
          [
           "Seattle Prep",
           "2022-23",
           10
          ],
          [
           "Seattle Prep",
           "2022-23",
           11
          ],
          [
           "Seattle Prep",
           "2022-23",
           12
          ],
          [
           "Seattle Prep",
           "2022-23",
           13
          ],
          [
           "Seattle Prep",
           "2022-23",
           14
          ],
          [
           "Seattle Prep",
           "2022-23",
           15
          ],
          [
           "Seattle Prep",
           "2022-23",
           16
          ],
          [
           "Seattle Prep",
           "2022-23",
           17
          ],
          [
           "Seattle Prep",
           "2022-23",
           18
          ],
          [
           "Seattle Prep",
           "2023-24",
           1
          ],
          [
           "Seattle Prep",
           "2023-24",
           2
          ],
          [
           "Seattle Prep",
           "2023-24",
           3
          ],
          [
           "Seattle Prep",
           "2023-24",
           4
          ],
          [
           "Seattle Prep",
           "2023-24",
           5
          ],
          [
           "Seattle Prep",
           "2023-24",
           6
          ],
          [
           "Seattle Prep",
           "2023-24",
           7
          ],
          [
           "Seattle Prep",
           "2023-24",
           8
          ],
          [
           "Seattle Prep",
           "2023-24",
           9
          ],
          [
           "Seattle Prep",
           "2023-24",
           10
          ],
          [
           "Seattle Prep",
           "2023-24",
           11
          ],
          [
           "Seattle Prep",
           "2023-24",
           12
          ],
          [
           "Seattle Prep",
           "2023-24",
           13
          ],
          [
           "Seattle Prep",
           "2023-24",
           14
          ],
          [
           "Seattle Prep",
           "2023-24",
           15
          ],
          [
           "Seattle Prep",
           "2023-24",
           16
          ],
          [
           "Seattle Prep",
           "2023-24",
           17
          ],
          [
           "Seattle Prep",
           "2023-24",
           18
          ],
          [
           "Seattle Prep",
           "2024-25",
           1
          ],
          [
           "Seattle Prep",
           "2024-25",
           2
          ],
          [
           "Seattle Prep",
           "2024-25",
           3
          ],
          [
           "Seattle Prep",
           "2024-25",
           4
          ],
          [
           "Seattle Prep",
           "2024-25",
           5
          ],
          [
           "Seattle Prep",
           "2024-25",
           6
          ],
          [
           "Seattle Prep",
           "2024-25",
           7
          ],
          [
           "Seattle Prep",
           "2024-25",
           8
          ]
         ],
         "hovertemplate": "Team=%{customdata[0]}<br>Total Matches Played=%{x}<br>ELO Rating=%{y}<br>Season=%{customdata[1]}<br>Season Match #=%{customdata[2]}<extra></extra>",
         "legendgroup": "Seattle Prep",
         "line": {
          "color": "#19d3f3",
          "dash": "solid"
         },
         "marker": {
          "symbol": "circle"
         },
         "mode": "lines",
         "name": "Seattle Prep",
         "showlegend": true,
         "type": "scattergl",
         "x": [
          1,
          2,
          3,
          4,
          5,
          6,
          7,
          8,
          9,
          10,
          11,
          12,
          13,
          14,
          15,
          16,
          17,
          18,
          19,
          20,
          21,
          22,
          23,
          24,
          25,
          26,
          27,
          28,
          29,
          30,
          31,
          32,
          33,
          34,
          35,
          36,
          37,
          38,
          39,
          40,
          41,
          42,
          43,
          44,
          45,
          46,
          47,
          48,
          49,
          50,
          51,
          52,
          53,
          54,
          55,
          56,
          57,
          58,
          59,
          60,
          61,
          62,
          63,
          64,
          65,
          66,
          67,
          68,
          69,
          70,
          71,
          72,
          73,
          74,
          75,
          76,
          77,
          78,
          79,
          80,
          81,
          82,
          83,
          84,
          85,
          86,
          87,
          88,
          89,
          90,
          91,
          92,
          93,
          94,
          95,
          96,
          97,
          98,
          99,
          100,
          101,
          102,
          103,
          104,
          105,
          106,
          107,
          108,
          109,
          110,
          111,
          112,
          113,
          114,
          115,
          116,
          117,
          118,
          119,
          120
         ],
         "xaxis": "x",
         "y": [
          1469.2161680159927,
          1504.6348839579769,
          1461.1690983933456,
          1436.3545302032044,
          1480.7737601928188,
          1552.1286627127358,
          1602.323367839177,
          1604.2842462441688,
          1617.658070702608,
          1525.6025999921153,
          1492.7998709864714,
          1540.5632947894908,
          1577.3726247248524,
          1602.782894595207,
          1600.3174436352688,
          1595.0136103084374,
          1553.0907955972964,
          1584.5341280434357,
          1680.1878872999064,
          1743.113707438529,
          1762.9839620611183,
          1767.480445676938,
          1731.7860547266237,
          1736.255420565231,
          1702.8170122152883,
          1711.9885729957207,
          1777.87453978184,
          1737.3629951044334,
          1684.6450576787345,
          1735.8887518220183,
          1762.1413798784902,
          1745.426005756452,
          1746.5986397501017,
          1747.7557006641462,
          1755.860496688107,
          1762.7614722702845,
          1711.3064186976972,
          1653.3795644357924,
          1640.4719716512898,
          1611.1801536135815,
          1563.4108886298025,
          1539.0876424789165,
          1559.5133589829625,
          1707.8619855039772,
          1689.881099441065,
          1670.6531802772934,
          1643.8406813462298,
          1607.8413649763447,
          1584.4424344541485,
          1541.4958357275116,
          1538.0999993476637,
          1602.3126735928035,
          1551.9939326641252,
          1516.3353261525506,
          1585.9223240149645,
          1562.046421138157,
          1612.0163954370182,
          1659.8786677352657,
          1670.2000307240523,
          1643.1867213002768,
          1643.378586514931,
          1671.658155088788,
          1783.2784311642529,
          1790.402545389418,
          1762.1165993988836,
          1695.6734758655707,
          1663.4902594303069,
          1687.7902352534556,
          1667.283986723311,
          1774.8022424404307,
          1752.582900692317,
          1754.962717578732,
          1757.2800789492292,
          1725.274067505427,
          1735.856390842108,
          1750.3060126512855,
          1700.2160874015003,
          1708.6729646350236,
          1780.028182419876,
          1791.82593837859,
          1832.3324348207816,
          1840.3691892874308,
          1742.9082610026926,
          1752.65856807029,
          1777.2252996104316,
          1704.8055391125592,
          1720.450794668624,
          1752.6834796919666,
          1803.9206216730745,
          1809.2161733936573,
          1833.811066140078,
          1778.7769966524772,
          1737.0329408594052,
          1726.6432312834595,
          1726.0920846199876,
          1829.6324146505528,
          1820.5492917606523,
          1827.4790348252968,
          1805.898277158634,
          1809.861074108278,
          1745.6808078865463,
          1795.4317623252257,
          1837.034937135077,
          1789.7189833431478,
          1826.405643726806,
          1839.594049896536,
          1782.5032588086067,
          1800.937369996927,
          1803.1227441309543,
          1780.8542182061583,
          1830.5252565574517,
          1822.1910483746,
          1863.10088062131,
          1797.029726280712,
          1786.6909408871038,
          1792.0065566039352,
          1794.4090539452063,
          1805.5673940589973,
          1845.2404890328528,
          1823.393805597388
         ],
         "yaxis": "y"
        },
        {
         "customdata": [
          [
           "West Seattle",
           "2016-17",
           1
          ],
          [
           "West Seattle",
           "2016-17",
           2
          ],
          [
           "West Seattle",
           "2016-17",
           3
          ],
          [
           "West Seattle",
           "2016-17",
           4
          ],
          [
           "West Seattle",
           "2016-17",
           5
          ],
          [
           "West Seattle",
           "2016-17",
           6
          ],
          [
           "West Seattle",
           "2016-17",
           7
          ],
          [
           "West Seattle",
           "2016-17",
           8
          ],
          [
           "West Seattle",
           "2016-17",
           9
          ],
          [
           "West Seattle",
           "2016-17",
           10
          ],
          [
           "West Seattle",
           "2016-17",
           11
          ],
          [
           "West Seattle",
           "2016-17",
           12
          ],
          [
           "West Seattle",
           "2016-17",
           13
          ],
          [
           "West Seattle",
           "2016-17",
           14
          ],
          [
           "West Seattle",
           "2016-17",
           15
          ],
          [
           "West Seattle",
           "2016-17",
           16
          ],
          [
           "West Seattle",
           "2016-17",
           17
          ],
          [
           "West Seattle",
           "2016-17",
           18
          ],
          [
           "West Seattle",
           "2016-17",
           19
          ],
          [
           "West Seattle",
           "2016-17",
           20
          ],
          [
           "West Seattle",
           "2017-18",
           1
          ],
          [
           "West Seattle",
           "2017-18",
           2
          ],
          [
           "West Seattle",
           "2017-18",
           3
          ],
          [
           "West Seattle",
           "2017-18",
           4
          ],
          [
           "West Seattle",
           "2017-18",
           5
          ],
          [
           "West Seattle",
           "2017-18",
           6
          ],
          [
           "West Seattle",
           "2017-18",
           7
          ],
          [
           "West Seattle",
           "2017-18",
           8
          ],
          [
           "West Seattle",
           "2017-18",
           9
          ],
          [
           "West Seattle",
           "2017-18",
           10
          ],
          [
           "West Seattle",
           "2017-18",
           11
          ],
          [
           "West Seattle",
           "2017-18",
           12
          ],
          [
           "West Seattle",
           "2017-18",
           13
          ],
          [
           "West Seattle",
           "2017-18",
           14
          ],
          [
           "West Seattle",
           "2017-18",
           15
          ],
          [
           "West Seattle",
           "2017-18",
           16
          ],
          [
           "West Seattle",
           "2017-18",
           17
          ],
          [
           "West Seattle",
           "2018-19",
           1
          ],
          [
           "West Seattle",
           "2018-19",
           2
          ],
          [
           "West Seattle",
           "2018-19",
           3
          ],
          [
           "West Seattle",
           "2018-19",
           4
          ],
          [
           "West Seattle",
           "2018-19",
           5
          ],
          [
           "West Seattle",
           "2018-19",
           6
          ],
          [
           "West Seattle",
           "2018-19",
           7
          ],
          [
           "West Seattle",
           "2018-19",
           8
          ],
          [
           "West Seattle",
           "2018-19",
           9
          ],
          [
           "West Seattle",
           "2018-19",
           10
          ],
          [
           "West Seattle",
           "2018-19",
           11
          ],
          [
           "West Seattle",
           "2018-19",
           12
          ],
          [
           "West Seattle",
           "2018-19",
           13
          ],
          [
           "West Seattle",
           "2018-19",
           14
          ],
          [
           "West Seattle",
           "2018-19",
           15
          ],
          [
           "West Seattle",
           "2018-19",
           16
          ],
          [
           "West Seattle",
           "2020-21",
           1
          ],
          [
           "West Seattle",
           "2020-21",
           2
          ],
          [
           "West Seattle",
           "2020-21",
           3
          ],
          [
           "West Seattle",
           "2020-21",
           4
          ],
          [
           "West Seattle",
           "2020-21",
           5
          ],
          [
           "West Seattle",
           "2021-22",
           1
          ],
          [
           "West Seattle",
           "2021-22",
           2
          ],
          [
           "West Seattle",
           "2021-22",
           3
          ],
          [
           "West Seattle",
           "2021-22",
           4
          ],
          [
           "West Seattle",
           "2021-22",
           5
          ],
          [
           "West Seattle",
           "2021-22",
           6
          ],
          [
           "West Seattle",
           "2021-22",
           7
          ],
          [
           "West Seattle",
           "2021-22",
           8
          ],
          [
           "West Seattle",
           "2021-22",
           9
          ],
          [
           "West Seattle",
           "2021-22",
           10
          ],
          [
           "West Seattle",
           "2021-22",
           11
          ],
          [
           "West Seattle",
           "2021-22",
           12
          ],
          [
           "West Seattle",
           "2021-22",
           13
          ],
          [
           "West Seattle",
           "2021-22",
           14
          ],
          [
           "West Seattle",
           "2021-22",
           15
          ],
          [
           "West Seattle",
           "2021-22",
           16
          ],
          [
           "West Seattle",
           "2021-22",
           17
          ],
          [
           "West Seattle",
           "2022-23",
           1
          ],
          [
           "West Seattle",
           "2022-23",
           2
          ],
          [
           "West Seattle",
           "2022-23",
           3
          ],
          [
           "West Seattle",
           "2022-23",
           4
          ],
          [
           "West Seattle",
           "2022-23",
           5
          ],
          [
           "West Seattle",
           "2022-23",
           6
          ],
          [
           "West Seattle",
           "2022-23",
           7
          ],
          [
           "West Seattle",
           "2022-23",
           8
          ],
          [
           "West Seattle",
           "2022-23",
           9
          ],
          [
           "West Seattle",
           "2022-23",
           10
          ],
          [
           "West Seattle",
           "2022-23",
           11
          ],
          [
           "West Seattle",
           "2022-23",
           12
          ],
          [
           "West Seattle",
           "2022-23",
           13
          ],
          [
           "West Seattle",
           "2022-23",
           14
          ],
          [
           "West Seattle",
           "2022-23",
           15
          ],
          [
           "West Seattle",
           "2022-23",
           16
          ],
          [
           "West Seattle",
           "2022-23",
           17
          ],
          [
           "West Seattle",
           "2023-24",
           1
          ],
          [
           "West Seattle",
           "2023-24",
           2
          ],
          [
           "West Seattle",
           "2023-24",
           3
          ],
          [
           "West Seattle",
           "2023-24",
           4
          ],
          [
           "West Seattle",
           "2023-24",
           5
          ],
          [
           "West Seattle",
           "2023-24",
           6
          ],
          [
           "West Seattle",
           "2023-24",
           7
          ],
          [
           "West Seattle",
           "2023-24",
           8
          ],
          [
           "West Seattle",
           "2023-24",
           9
          ],
          [
           "West Seattle",
           "2023-24",
           10
          ],
          [
           "West Seattle",
           "2023-24",
           11
          ],
          [
           "West Seattle",
           "2023-24",
           12
          ],
          [
           "West Seattle",
           "2023-24",
           13
          ],
          [
           "West Seattle",
           "2023-24",
           14
          ],
          [
           "West Seattle",
           "2023-24",
           15
          ],
          [
           "West Seattle",
           "2023-24",
           16
          ],
          [
           "West Seattle",
           "2023-24",
           17
          ],
          [
           "West Seattle",
           "2024-25",
           1
          ],
          [
           "West Seattle",
           "2024-25",
           2
          ],
          [
           "West Seattle",
           "2024-25",
           3
          ],
          [
           "West Seattle",
           "2024-25",
           4
          ],
          [
           "West Seattle",
           "2024-25",
           5
          ],
          [
           "West Seattle",
           "2024-25",
           6
          ]
         ],
         "hovertemplate": "Team=%{customdata[0]}<br>Total Matches Played=%{x}<br>ELO Rating=%{y}<br>Season=%{customdata[1]}<br>Season Match #=%{customdata[2]}<extra></extra>",
         "legendgroup": "West Seattle",
         "line": {
          "color": "#FF6692",
          "dash": "solid"
         },
         "marker": {
          "symbol": "circle"
         },
         "mode": "lines",
         "name": "West Seattle",
         "showlegend": true,
         "type": "scattergl",
         "x": [
          1,
          2,
          3,
          4,
          5,
          6,
          7,
          8,
          9,
          10,
          11,
          12,
          13,
          14,
          15,
          16,
          17,
          18,
          19,
          20,
          21,
          22,
          23,
          24,
          25,
          26,
          27,
          28,
          29,
          30,
          31,
          32,
          33,
          34,
          35,
          36,
          37,
          38,
          39,
          40,
          41,
          42,
          43,
          44,
          45,
          46,
          47,
          48,
          49,
          50,
          51,
          52,
          53,
          54,
          55,
          56,
          57,
          58,
          59,
          60,
          61,
          62,
          63,
          64,
          65,
          66,
          67,
          68,
          69,
          70,
          71,
          72,
          73,
          74,
          75,
          76,
          77,
          78,
          79,
          80,
          81,
          82,
          83,
          84,
          85,
          86,
          87,
          88,
          89,
          90,
          91,
          92,
          93,
          94,
          95,
          96,
          97,
          98,
          99,
          100,
          101,
          102,
          103,
          104,
          105,
          106,
          107,
          108,
          109,
          110,
          111,
          112,
          113,
          114,
          115
         ],
         "xaxis": "x",
         "y": [
          1474.3974000078847,
          1479.1472510103026,
          1468.31603540718,
          1511.078348163776,
          1517.8360264120947,
          1523.59687335615,
          1539.0715297110437,
          1573.850212785363,
          1531.7453709782778,
          1555.3375972630813,
          1481.0113375604287,
          1483.874531859038,
          1466.1700760031629,
          1503.7630815418238,
          1532.356475253641,
          1560.0685487564947,
          1591.0228106416794,
          1624.2105069754066,
          1591.0865643162342,
          1616.3380241114814,
          1567.240373802353,
          1630.3764856204718,
          1639.6640233000417,
          1655.0186669435288,
          1652.175893597391,
          1657.823522922847,
          1633.487401076179,
          1632.5769354667757,
          1619.002283910388,
          1657.6024304570994,
          1660.1120511885888,
          1666.8953323518745,
          1682.2099849305444,
          1609.367839901323,
          1646.799518850728,
          1627.704683805153,
          1611.3826727218486,
          1615.6533031996642,
          1622.528105156161,
          1584.746489286861,
          1532.334368913488,
          1543.9684630569627,
          1498.2169362509624,
          1495.771743283441,
          1507.064019976535,
          1614.961213984309,
          1603.3001859923893,
          1539.2989701667002,
          1491.9315677645925,
          1499.6996246982071,
          1451.263035745706,
          1502.533678271694,
          1493.5422301962717,
          1506.8938714003912,
          1534.330718285732,
          1531.1871628332628,
          1547.503431785125,
          1614.5539243152805,
          1563.080060321992,
          1544.9890465612104,
          1468.489952569956,
          1472.847987651056,
          1393.827749490527,
          1399.2466458935746,
          1404.3587444893535,
          1368.185274044854,
          1566.2058204755756,
          1521.995214337934,
          1442.6657159927777,
          1439.5600914416343,
          1465.5159166829546,
          1467.8539052893582,
          1461.5275413701777,
          1374.6934399341203,
          1307.5150074692197,
          1309.5717629065234,
          1354.440776952907,
          1347.7601710183308,
          1386.9731814661002,
          1362.0518246307502,
          1309.0273665800944,
          1294.553751037427,
          1281.4362922978755,
          1323.0989847625078,
          1339.919718671974,
          1302.9723959332898,
          1367.160317575254,
          1386.5258584920805,
          1373.99475857116,
          1365.8527462355594,
          1302.5589593175284,
          1330.3580276162538,
          1253.2170856677578,
          1263.7553562168343,
          1257.2786822625196,
          1275.7119065259626,
          1278.4458190423609,
          1281.1006431964206,
          1267.2112129493164,
          1270.802633018097,
          1294.1631233252058,
          1251.9334758665098,
          1288.2560720281351,
          1272.5081749924925,
          1266.4320553979303,
          1274.8628770091989,
          1256.5114193891757,
          1260.2255235605369,
          1249.0710112041145,
          1219.8247250612317,
          1369.2666045280623,
          1375.183062698495,
          1183.9317955667714,
          1289.1514708700995,
          1346.68558181249
         ],
         "yaxis": "y"
        }
       ],
       "layout": {
        "height": 700,
        "hovermode": "x unified",
        "legend": {
         "itemclick": "toggleothers",
         "title": {
          "text": "Team"
         },
         "tracegroupgap": 0,
         "traceorder": "normal"
        },
        "margin": {
         "b": 50,
         "t": 50
        },
        "template": {
         "data": {
          "bar": [
           {
            "error_x": {
             "color": "#2a3f5f"
            },
            "error_y": {
             "color": "#2a3f5f"
            },
            "marker": {
             "line": {
              "color": "#E5ECF6",
              "width": 0.5
             },
             "pattern": {
              "fillmode": "overlay",
              "size": 10,
              "solidity": 0.2
             }
            },
            "type": "bar"
           }
          ],
          "barpolar": [
           {
            "marker": {
             "line": {
              "color": "#E5ECF6",
              "width": 0.5
             },
             "pattern": {
              "fillmode": "overlay",
              "size": 10,
              "solidity": 0.2
             }
            },
            "type": "barpolar"
           }
          ],
          "carpet": [
           {
            "aaxis": {
             "endlinecolor": "#2a3f5f",
             "gridcolor": "white",
             "linecolor": "white",
             "minorgridcolor": "white",
             "startlinecolor": "#2a3f5f"
            },
            "baxis": {
             "endlinecolor": "#2a3f5f",
             "gridcolor": "white",
             "linecolor": "white",
             "minorgridcolor": "white",
             "startlinecolor": "#2a3f5f"
            },
            "type": "carpet"
           }
          ],
          "choropleth": [
           {
            "colorbar": {
             "outlinewidth": 0,
             "ticks": ""
            },
            "type": "choropleth"
           }
          ],
          "contour": [
           {
            "colorbar": {
             "outlinewidth": 0,
             "ticks": ""
            },
            "colorscale": [
             [
              0,
              "#0d0887"
             ],
             [
              0.1111111111111111,
              "#46039f"
             ],
             [
              0.2222222222222222,
              "#7201a8"
             ],
             [
              0.3333333333333333,
              "#9c179e"
             ],
             [
              0.4444444444444444,
              "#bd3786"
             ],
             [
              0.5555555555555556,
              "#d8576b"
             ],
             [
              0.6666666666666666,
              "#ed7953"
             ],
             [
              0.7777777777777778,
              "#fb9f3a"
             ],
             [
              0.8888888888888888,
              "#fdca26"
             ],
             [
              1,
              "#f0f921"
             ]
            ],
            "type": "contour"
           }
          ],
          "contourcarpet": [
           {
            "colorbar": {
             "outlinewidth": 0,
             "ticks": ""
            },
            "type": "contourcarpet"
           }
          ],
          "heatmap": [
           {
            "colorbar": {
             "outlinewidth": 0,
             "ticks": ""
            },
            "colorscale": [
             [
              0,
              "#0d0887"
             ],
             [
              0.1111111111111111,
              "#46039f"
             ],
             [
              0.2222222222222222,
              "#7201a8"
             ],
             [
              0.3333333333333333,
              "#9c179e"
             ],
             [
              0.4444444444444444,
              "#bd3786"
             ],
             [
              0.5555555555555556,
              "#d8576b"
             ],
             [
              0.6666666666666666,
              "#ed7953"
             ],
             [
              0.7777777777777778,
              "#fb9f3a"
             ],
             [
              0.8888888888888888,
              "#fdca26"
             ],
             [
              1,
              "#f0f921"
             ]
            ],
            "type": "heatmap"
           }
          ],
          "heatmapgl": [
           {
            "colorbar": {
             "outlinewidth": 0,
             "ticks": ""
            },
            "colorscale": [
             [
              0,
              "#0d0887"
             ],
             [
              0.1111111111111111,
              "#46039f"
             ],
             [
              0.2222222222222222,
              "#7201a8"
             ],
             [
              0.3333333333333333,
              "#9c179e"
             ],
             [
              0.4444444444444444,
              "#bd3786"
             ],
             [
              0.5555555555555556,
              "#d8576b"
             ],
             [
              0.6666666666666666,
              "#ed7953"
             ],
             [
              0.7777777777777778,
              "#fb9f3a"
             ],
             [
              0.8888888888888888,
              "#fdca26"
             ],
             [
              1,
              "#f0f921"
             ]
            ],
            "type": "heatmapgl"
           }
          ],
          "histogram": [
           {
            "marker": {
             "pattern": {
              "fillmode": "overlay",
              "size": 10,
              "solidity": 0.2
             }
            },
            "type": "histogram"
           }
          ],
          "histogram2d": [
           {
            "colorbar": {
             "outlinewidth": 0,
             "ticks": ""
            },
            "colorscale": [
             [
              0,
              "#0d0887"
             ],
             [
              0.1111111111111111,
              "#46039f"
             ],
             [
              0.2222222222222222,
              "#7201a8"
             ],
             [
              0.3333333333333333,
              "#9c179e"
             ],
             [
              0.4444444444444444,
              "#bd3786"
             ],
             [
              0.5555555555555556,
              "#d8576b"
             ],
             [
              0.6666666666666666,
              "#ed7953"
             ],
             [
              0.7777777777777778,
              "#fb9f3a"
             ],
             [
              0.8888888888888888,
              "#fdca26"
             ],
             [
              1,
              "#f0f921"
             ]
            ],
            "type": "histogram2d"
           }
          ],
          "histogram2dcontour": [
           {
            "colorbar": {
             "outlinewidth": 0,
             "ticks": ""
            },
            "colorscale": [
             [
              0,
              "#0d0887"
             ],
             [
              0.1111111111111111,
              "#46039f"
             ],
             [
              0.2222222222222222,
              "#7201a8"
             ],
             [
              0.3333333333333333,
              "#9c179e"
             ],
             [
              0.4444444444444444,
              "#bd3786"
             ],
             [
              0.5555555555555556,
              "#d8576b"
             ],
             [
              0.6666666666666666,
              "#ed7953"
             ],
             [
              0.7777777777777778,
              "#fb9f3a"
             ],
             [
              0.8888888888888888,
              "#fdca26"
             ],
             [
              1,
              "#f0f921"
             ]
            ],
            "type": "histogram2dcontour"
           }
          ],
          "mesh3d": [
           {
            "colorbar": {
             "outlinewidth": 0,
             "ticks": ""
            },
            "type": "mesh3d"
           }
          ],
          "parcoords": [
           {
            "line": {
             "colorbar": {
              "outlinewidth": 0,
              "ticks": ""
             }
            },
            "type": "parcoords"
           }
          ],
          "pie": [
           {
            "automargin": true,
            "type": "pie"
           }
          ],
          "scatter": [
           {
            "fillpattern": {
             "fillmode": "overlay",
             "size": 10,
             "solidity": 0.2
            },
            "type": "scatter"
           }
          ],
          "scatter3d": [
           {
            "line": {
             "colorbar": {
              "outlinewidth": 0,
              "ticks": ""
             }
            },
            "marker": {
             "colorbar": {
              "outlinewidth": 0,
              "ticks": ""
             }
            },
            "type": "scatter3d"
           }
          ],
          "scattercarpet": [
           {
            "marker": {
             "colorbar": {
              "outlinewidth": 0,
              "ticks": ""
             }
            },
            "type": "scattercarpet"
           }
          ],
          "scattergeo": [
           {
            "marker": {
             "colorbar": {
              "outlinewidth": 0,
              "ticks": ""
             }
            },
            "type": "scattergeo"
           }
          ],
          "scattergl": [
           {
            "marker": {
             "colorbar": {
              "outlinewidth": 0,
              "ticks": ""
             }
            },
            "type": "scattergl"
           }
          ],
          "scattermapbox": [
           {
            "marker": {
             "colorbar": {
              "outlinewidth": 0,
              "ticks": ""
             }
            },
            "type": "scattermapbox"
           }
          ],
          "scatterpolar": [
           {
            "marker": {
             "colorbar": {
              "outlinewidth": 0,
              "ticks": ""
             }
            },
            "type": "scatterpolar"
           }
          ],
          "scatterpolargl": [
           {
            "marker": {
             "colorbar": {
              "outlinewidth": 0,
              "ticks": ""
             }
            },
            "type": "scatterpolargl"
           }
          ],
          "scatterternary": [
           {
            "marker": {
             "colorbar": {
              "outlinewidth": 0,
              "ticks": ""
             }
            },
            "type": "scatterternary"
           }
          ],
          "surface": [
           {
            "colorbar": {
             "outlinewidth": 0,
             "ticks": ""
            },
            "colorscale": [
             [
              0,
              "#0d0887"
             ],
             [
              0.1111111111111111,
              "#46039f"
             ],
             [
              0.2222222222222222,
              "#7201a8"
             ],
             [
              0.3333333333333333,
              "#9c179e"
             ],
             [
              0.4444444444444444,
              "#bd3786"
             ],
             [
              0.5555555555555556,
              "#d8576b"
             ],
             [
              0.6666666666666666,
              "#ed7953"
             ],
             [
              0.7777777777777778,
              "#fb9f3a"
             ],
             [
              0.8888888888888888,
              "#fdca26"
             ],
             [
              1,
              "#f0f921"
             ]
            ],
            "type": "surface"
           }
          ],
          "table": [
           {
            "cells": {
             "fill": {
              "color": "#EBF0F8"
             },
             "line": {
              "color": "white"
             }
            },
            "header": {
             "fill": {
              "color": "#C8D4E3"
             },
             "line": {
              "color": "white"
             }
            },
            "type": "table"
           }
          ]
         },
         "layout": {
          "annotationdefaults": {
           "arrowcolor": "#2a3f5f",
           "arrowhead": 0,
           "arrowwidth": 1
          },
          "autotypenumbers": "strict",
          "coloraxis": {
           "colorbar": {
            "outlinewidth": 0,
            "ticks": ""
           }
          },
          "colorscale": {
           "diverging": [
            [
             0,
             "#8e0152"
            ],
            [
             0.1,
             "#c51b7d"
            ],
            [
             0.2,
             "#de77ae"
            ],
            [
             0.3,
             "#f1b6da"
            ],
            [
             0.4,
             "#fde0ef"
            ],
            [
             0.5,
             "#f7f7f7"
            ],
            [
             0.6,
             "#e6f5d0"
            ],
            [
             0.7,
             "#b8e186"
            ],
            [
             0.8,
             "#7fbc41"
            ],
            [
             0.9,
             "#4d9221"
            ],
            [
             1,
             "#276419"
            ]
           ],
           "sequential": [
            [
             0,
             "#0d0887"
            ],
            [
             0.1111111111111111,
             "#46039f"
            ],
            [
             0.2222222222222222,
             "#7201a8"
            ],
            [
             0.3333333333333333,
             "#9c179e"
            ],
            [
             0.4444444444444444,
             "#bd3786"
            ],
            [
             0.5555555555555556,
             "#d8576b"
            ],
            [
             0.6666666666666666,
             "#ed7953"
            ],
            [
             0.7777777777777778,
             "#fb9f3a"
            ],
            [
             0.8888888888888888,
             "#fdca26"
            ],
            [
             1,
             "#f0f921"
            ]
           ],
           "sequentialminus": [
            [
             0,
             "#0d0887"
            ],
            [
             0.1111111111111111,
             "#46039f"
            ],
            [
             0.2222222222222222,
             "#7201a8"
            ],
            [
             0.3333333333333333,
             "#9c179e"
            ],
            [
             0.4444444444444444,
             "#bd3786"
            ],
            [
             0.5555555555555556,
             "#d8576b"
            ],
            [
             0.6666666666666666,
             "#ed7953"
            ],
            [
             0.7777777777777778,
             "#fb9f3a"
            ],
            [
             0.8888888888888888,
             "#fdca26"
            ],
            [
             1,
             "#f0f921"
            ]
           ]
          },
          "colorway": [
           "#636efa",
           "#EF553B",
           "#00cc96",
           "#ab63fa",
           "#FFA15A",
           "#19d3f3",
           "#FF6692",
           "#B6E880",
           "#FF97FF",
           "#FECB52"
          ],
          "font": {
           "color": "#2a3f5f"
          },
          "geo": {
           "bgcolor": "white",
           "lakecolor": "white",
           "landcolor": "#E5ECF6",
           "showlakes": true,
           "showland": true,
           "subunitcolor": "white"
          },
          "hoverlabel": {
           "align": "left"
          },
          "hovermode": "closest",
          "mapbox": {
           "style": "light"
          },
          "paper_bgcolor": "white",
          "plot_bgcolor": "#E5ECF6",
          "polar": {
           "angularaxis": {
            "gridcolor": "white",
            "linecolor": "white",
            "ticks": ""
           },
           "bgcolor": "#E5ECF6",
           "radialaxis": {
            "gridcolor": "white",
            "linecolor": "white",
            "ticks": ""
           }
          },
          "scene": {
           "xaxis": {
            "backgroundcolor": "#E5ECF6",
            "gridcolor": "white",
            "gridwidth": 2,
            "linecolor": "white",
            "showbackground": true,
            "ticks": "",
            "zerolinecolor": "white"
           },
           "yaxis": {
            "backgroundcolor": "#E5ECF6",
            "gridcolor": "white",
            "gridwidth": 2,
            "linecolor": "white",
            "showbackground": true,
            "ticks": "",
            "zerolinecolor": "white"
           },
           "zaxis": {
            "backgroundcolor": "#E5ECF6",
            "gridcolor": "white",
            "gridwidth": 2,
            "linecolor": "white",
            "showbackground": true,
            "ticks": "",
            "zerolinecolor": "white"
           }
          },
          "shapedefaults": {
           "line": {
            "color": "#2a3f5f"
           }
          },
          "ternary": {
           "aaxis": {
            "gridcolor": "white",
            "linecolor": "white",
            "ticks": ""
           },
           "baxis": {
            "gridcolor": "white",
            "linecolor": "white",
            "ticks": ""
           },
           "bgcolor": "#E5ECF6",
           "caxis": {
            "gridcolor": "white",
            "linecolor": "white",
            "ticks": ""
           }
          },
          "title": {
           "x": 0.05
          },
          "xaxis": {
           "automargin": true,
           "gridcolor": "white",
           "linecolor": "white",
           "ticks": "",
           "title": {
            "standoff": 15
           },
           "zerolinecolor": "white",
           "zerolinewidth": 2
          },
          "yaxis": {
           "automargin": true,
           "gridcolor": "white",
           "linecolor": "white",
           "ticks": "",
           "title": {
            "standoff": 15
           },
           "zerolinecolor": "white",
           "zerolinewidth": 2
          }
         }
        },
        "title": {
         "text": "High School Soccer ELO Progression by Team"
        },
        "xaxis": {
         "anchor": "y",
         "domain": [
          0,
          1
         ],
         "showgrid": true,
         "title": {
          "text": "Total Matches Played"
         }
        },
        "yaxis": {
         "anchor": "x",
         "domain": [
          0,
          1
         ],
         "showgrid": true,
         "title": {
          "text": "ELO Rating"
         }
        }
       }
      }
     },
     "metadata": {},
     "output_type": "display_data"
    }
   ],
   "source": [
    "import pandas as pd\n",
    "import plotly.express as px\n",
    "\n",
    "# Load your data\n",
    "df = pd.read_csv(r\"C:\\Users\\User\\Desktop\\Soccer Footage\\metroleague_elo_long.csv\")\n",
    "\n",
    "# Sort and prep labels\n",
    "df = df.sort_values(by=[\"Team\", \"Season\", \"Season Match #\"])\n",
    "df[\"Season Match Label\"] = df[\"Season\"] + \" | Match \" + df[\"Season Match #\"].astype(str)\n",
    "\n",
    "# Create a match counter across all games for proper plotting\n",
    "df[\"Global Match #\"] = df.groupby(\"Team\").cumcount() + 1\n",
    "\n",
    "# Build interactive line plot\n",
    "fig = px.line(\n",
    "    df,\n",
    "    x=\"Global Match #\",\n",
    "    y=\"ELO\",\n",
    "    color=\"Team\",\n",
    "    line_group=\"Team\",\n",
    "    hover_data=[\"Team\", \"Season\", \"Season Match #\", \"ELO\"],\n",
    "    title=\"High School Soccer ELO Progression by Team\",\n",
    "    labels={\"Global Match #\": \"Total Matches Played\", \"ELO\": \"ELO Rating\"},\n",
    ")\n",
    "\n",
    "fig.update_layout(\n",
    "    hovermode=\"x unified\",\n",
    "    xaxis=dict(showgrid=True),\n",
    "    yaxis=dict(showgrid=True),\n",
    "    legend=dict(title=\"Team\", traceorder=\"normal\", itemclick=\"toggleothers\"),\n",
    "    height=700,\n",
    "    margin=dict(t=50, b=50),\n",
    ")\n",
    "\n",
    "fig.show()\n"
   ]
  },
  {
   "cell_type": "code",
   "execution_count": 343,
   "metadata": {},
   "outputs": [
    {
     "data": {
      "application/vnd.plotly.v1+json": {
       "config": {
        "plotlyServerURL": "https://plot.ly"
       },
       "data": [
        {
         "customdata": [
          [
           "Bainbridge",
           1516.588218989289
          ],
          [
           "Bainbridge",
           1665.981041976426
          ],
          [
           "Bainbridge",
           1447.6456955264282
          ]
         ],
         "hovertemplate": "Team=%{customdata[0]}<br>Season=%{x}<br>End-of-Season ELO=%{y}<br>Start ELO=%{customdata[1]}<extra></extra>",
         "legendgroup": "Bainbridge",
         "line": {
          "color": "#636efa",
          "dash": "solid"
         },
         "marker": {
          "symbol": "circle"
         },
         "mode": "lines+markers",
         "name": "Bainbridge",
         "orientation": "v",
         "showlegend": true,
         "type": "scatter",
         "x": [
          "2016-17",
          "2017-18",
          "2018-19"
         ],
         "xaxis": "x",
         "y": [
          1692.3807773251835,
          1479.188069175712,
          1487.2133623614034
         ],
         "yaxis": "y"
        },
        {
         "customdata": [
          [
           "Ballard",
           1518.456859325249
          ],
          [
           "Ballard",
           1745.9223058852374
          ],
          [
           "Ballard",
           1586.872366391179
          ],
          [
           "Ballard",
           1655.9897232523513
          ],
          [
           "Ballard",
           1553.1168534175742
          ],
          [
           "Ballard",
           1509.4301360589886
          ],
          [
           "Ballard",
           1778.7433302183751
          ],
          [
           "Ballard",
           1584.541968290806
          ]
         ],
         "hovertemplate": "Team=%{customdata[0]}<br>Season=%{x}<br>End-of-Season ELO=%{y}<br>Start ELO=%{customdata[1]}<extra></extra>",
         "legendgroup": "Ballard",
         "line": {
          "color": "#EF553B",
          "dash": "solid"
         },
         "marker": {
          "symbol": "circle"
         },
         "mode": "lines+markers",
         "name": "Ballard",
         "orientation": "v",
         "showlegend": true,
         "type": "scatter",
         "x": [
          "2016-17",
          "2017-18",
          "2018-19",
          "2020-21",
          "2021-22",
          "2022-23",
          "2023-24",
          "2024-25"
         ],
         "xaxis": "x",
         "y": [
          1763.308689904754,
          1596.8346545789882,
          1696.591934906514,
          1608.8919978175536,
          1592.2671771535515,
          1662.850094737098,
          1652.267415646764,
          1738.308144018115
         ],
         "yaxis": "y"
        },
        {
         "customdata": [
          [
           "Bishop Blanchet",
           1483.125225057678
          ],
          [
           "Bishop Blanchet",
           1435.699930969365
          ],
          [
           "Bishop Blanchet",
           1500.264411519315
          ],
          [
           "Bishop Blanchet",
           1560.8761664366195
          ],
          [
           "Bishop Blanchet",
           1542.8767179395395
          ],
          [
           "Bishop Blanchet",
           1516.2255261304922
          ],
          [
           "Bishop Blanchet",
           1506.2813681898497
          ],
          [
           "Bishop Blanchet",
           1911.5626716677089
          ]
         ],
         "hovertemplate": "Team=%{customdata[0]}<br>Season=%{x}<br>End-of-Season ELO=%{y}<br>Start ELO=%{customdata[1]}<extra></extra>",
         "legendgroup": "Bishop Blanchet",
         "line": {
          "color": "#00cc96",
          "dash": "solid"
         },
         "marker": {
          "symbol": "circle"
         },
         "mode": "lines+markers",
         "name": "Bishop Blanchet",
         "orientation": "v",
         "showlegend": true,
         "type": "scatter",
         "x": [
          "2016-17",
          "2017-18",
          "2018-19",
          "2020-21",
          "2021-22",
          "2022-23",
          "2023-24",
          "2024-25"
         ],
         "xaxis": "x",
         "y": [
          1542.5729547689537,
          1459.4446386337552,
          1518.9056775186218,
          1536.4656780064,
          1510.4534384231029,
          1506.1144987826387,
          1701.1632119487165,
          1863.7938697158115
         ],
         "yaxis": "y"
        },
        {
         "customdata": [
          [
           "Chief Sealth",
           1469.590187767243
          ],
          [
           "Chief Sealth",
           1437.340267485145
          ],
          [
           "Chief Sealth",
           1386.1948163711445
          ],
          [
           "Chief Sealth",
           1442.766332962966
          ],
          [
           "Chief Sealth",
           1547.2014603544778
          ],
          [
           "Chief Sealth",
           1657.664208844982
          ],
          [
           "Chief Sealth",
           1557.801959169612
          ],
          [
           "Chief Sealth",
           1431.653976431173
          ]
         ],
         "hovertemplate": "Team=%{customdata[0]}<br>Season=%{x}<br>End-of-Season ELO=%{y}<br>Start ELO=%{customdata[1]}<extra></extra>",
         "legendgroup": "Chief Sealth",
         "line": {
          "color": "#ab63fa",
          "dash": "solid"
         },
         "marker": {
          "symbol": "circle"
         },
         "mode": "lines+markers",
         "name": "Chief Sealth",
         "orientation": "v",
         "showlegend": true,
         "type": "scatter",
         "x": [
          "2016-17",
          "2017-18",
          "2018-19",
          "2020-21",
          "2021-22",
          "2022-23",
          "2023-24",
          "2024-25"
         ],
         "xaxis": "x",
         "y": [
          1508.4162906743145,
          1423.6842089622212,
          1450.7088603881516,
          1538.3283071504252,
          1722.3138190635336,
          1652.6263660943875,
          1504.4023482853927,
          1276.696554108252
         ],
         "yaxis": "y"
        },
        {
         "customdata": [
          [
           "Cleveland",
           1436.4080176827993
          ],
          [
           "Cleveland",
           944.6230561128624
          ],
          [
           "Cleveland",
           812.2699690267482
          ],
          [
           "Cleveland",
           821.0128589655083
          ],
          [
           "Cleveland",
           844.2940624868924
          ],
          [
           "Cleveland",
           757.4275909847003
          ],
          [
           "Cleveland",
           708.9319604963263
          ],
          [
           "Cleveland",
           692.2174122475305
          ]
         ],
         "hovertemplate": "Team=%{customdata[0]}<br>Season=%{x}<br>End-of-Season ELO=%{y}<br>Start ELO=%{customdata[1]}<extra></extra>",
         "legendgroup": "Cleveland",
         "line": {
          "color": "#FFA15A",
          "dash": "solid"
         },
         "marker": {
          "symbol": "circle"
         },
         "mode": "lines+markers",
         "name": "Cleveland",
         "orientation": "v",
         "showlegend": true,
         "type": "scatter",
         "x": [
          "2016-17",
          "2017-18",
          "2018-19",
          "2020-21",
          "2021-22",
          "2022-23",
          "2023-24",
          "2024-25"
         ],
         "xaxis": "x",
         "y": [
          957.6513307944892,
          882.4532065976703,
          801.4544620215604,
          798.4875582634671,
          761.8635961827051,
          677.758802285187,
          724.8323862065794,
          703.9563123014703
         ],
         "yaxis": "y"
        },
        {
         "customdata": [
          [
           "Eastside Catholic",
           1440.3906658053347
          ],
          [
           "Eastside Catholic",
           1225.470025988968
          ],
          [
           "Eastside Catholic",
           1493.107807677594
          ],
          [
           "Eastside Catholic",
           1383.3782437340114
          ],
          [
           "Eastside Catholic",
           1355.5703208335797
          ],
          [
           "Eastside Catholic",
           1256.493055328202
          ],
          [
           "Eastside Catholic",
           1306.3671323850936
          ],
          [
           "Eastside Catholic",
           1572.375733169639
          ]
         ],
         "hovertemplate": "Team=%{customdata[0]}<br>Season=%{x}<br>End-of-Season ELO=%{y}<br>Start ELO=%{customdata[1]}<extra></extra>",
         "legendgroup": "Eastside Catholic",
         "line": {
          "color": "#19d3f3",
          "dash": "solid"
         },
         "marker": {
          "symbol": "circle"
         },
         "mode": "lines+markers",
         "name": "Eastside Catholic",
         "orientation": "v",
         "showlegend": true,
         "type": "scatter",
         "x": [
          "2016-17",
          "2017-18",
          "2018-19",
          "2020-21",
          "2021-22",
          "2022-23",
          "2023-24",
          "2024-25"
         ],
         "xaxis": "x",
         "y": [
          1277.0135206285536,
          1380.5144332252144,
          1457.527648853035,
          1398.2346682816433,
          1293.465390627966,
          1286.7497216807883,
          1528.6275774466594,
          1598.9138517749757
         ],
         "yaxis": "y"
        },
        {
         "customdata": [
          [
           "Franklin",
           1482.2348609205908
          ],
          [
           "Franklin",
           1480.3134967961223
          ],
          [
           "Franklin",
           1263.5585458607663
          ],
          [
           "Franklin",
           1468.1982299269123
          ],
          [
           "Franklin",
           1437.762963897325
          ],
          [
           "Franklin",
           1244.515248425755
          ],
          [
           "Franklin",
           1149.3310684326495
          ],
          [
           "Franklin",
           1172.5818483742846
          ]
         ],
         "hovertemplate": "Team=%{customdata[0]}<br>Season=%{x}<br>End-of-Season ELO=%{y}<br>Start ELO=%{customdata[1]}<extra></extra>",
         "legendgroup": "Franklin",
         "line": {
          "color": "#FF6692",
          "dash": "solid"
         },
         "marker": {
          "symbol": "circle"
         },
         "mode": "lines+markers",
         "name": "Franklin",
         "orientation": "v",
         "showlegend": true,
         "type": "scatter",
         "x": [
          "2016-17",
          "2017-18",
          "2018-19",
          "2020-21",
          "2021-22",
          "2022-23",
          "2023-24",
          "2024-25"
         ],
         "xaxis": "x",
         "y": [
          1462.4319792293468,
          1267.2990748473696,
          1296.5532184808997,
          1398.32329441478,
          1411.4322947470826,
          1145.443778533819,
          1163.6081441388103,
          1240.8235316208015
         ],
         "yaxis": "y"
        },
        {
         "customdata": [
          [
           "Garfield",
           1528.7948000157692
          ],
          [
           "Garfield",
           1617.4289398099625
          ],
          [
           "Garfield",
           1842.942950281857
          ],
          [
           "Garfield",
           1661.849485396983
          ],
          [
           "Garfield",
           1667.261575016821
          ],
          [
           "Garfield",
           1582.2322351916964
          ],
          [
           "Garfield",
           1657.9934836362538
          ],
          [
           "Garfield",
           1653.9258971069346
          ]
         ],
         "hovertemplate": "Team=%{customdata[0]}<br>Season=%{x}<br>End-of-Season ELO=%{y}<br>Start ELO=%{customdata[1]}<extra></extra>",
         "legendgroup": "Garfield",
         "line": {
          "color": "#B6E880",
          "dash": "solid"
         },
         "marker": {
          "symbol": "circle"
         },
         "mode": "lines+markers",
         "name": "Garfield",
         "orientation": "v",
         "showlegend": true,
         "type": "scatter",
         "x": [
          "2016-17",
          "2017-18",
          "2018-19",
          "2020-21",
          "2021-22",
          "2022-23",
          "2023-24",
          "2024-25"
         ],
         "xaxis": "x",
         "y": [
          1606.4335851548094,
          1764.4705994764386,
          1806.9431775764751,
          1663.458752961464,
          1627.908642251366,
          1611.1510133601244,
          1735.4836324381822,
          1633.9771487107382
         ],
         "yaxis": "y"
        },
        {
         "customdata": [
          [
           "Ingraham",
           1308.5951911288623
          ],
          [
           "Ingraham",
           1318.761898794363
          ],
          [
           "Ingraham",
           1429.309278524636
          ],
          [
           "Ingraham",
           1289.6489222962095
          ],
          [
           "Ingraham",
           1467.903678109934
          ],
          [
           "Ingraham",
           1471.2447421421275
          ],
          [
           "Ingraham",
           1475.7747165091987
          ],
          [
           "Ingraham",
           1417.7085696746922
          ]
         ],
         "hovertemplate": "Team=%{customdata[0]}<br>Season=%{x}<br>End-of-Season ELO=%{y}<br>Start ELO=%{customdata[1]}<extra></extra>",
         "legendgroup": "Ingraham",
         "line": {
          "color": "#FF97FF",
          "dash": "solid"
         },
         "marker": {
          "symbol": "circle"
         },
         "mode": "lines+markers",
         "name": "Ingraham",
         "orientation": "v",
         "showlegend": true,
         "type": "scatter",
         "x": [
          "2016-17",
          "2017-18",
          "2018-19",
          "2020-21",
          "2021-22",
          "2022-23",
          "2023-24",
          "2024-25"
         ],
         "xaxis": "x",
         "y": [
          1350.4637045808302,
          1324.679488520237,
          1306.904874425434,
          1432.3044993058584,
          1418.5386900285853,
          1432.631801259389,
          1375.1740508167402,
          1537.088537964747
         ],
         "yaxis": "y"
        },
        {
         "customdata": [
          [
           "Lakeside (Seattle)",
           1604.7013681595254
          ],
          [
           "Lakeside (Seattle)",
           1613.1508535932728
          ],
          [
           "Lakeside (Seattle)",
           1746.802095986325
          ],
          [
           "Lakeside (Seattle)",
           1881.540365637424
          ],
          [
           "Lakeside (Seattle)",
           1857.9264970245936
          ],
          [
           "Lakeside (Seattle)",
           1810.9254868337723
          ],
          [
           "Lakeside (Seattle)",
           1861.7322455382416
          ],
          [
           "Lakeside (Seattle)",
           1808.9448531177989
          ]
         ],
         "hovertemplate": "Team=%{customdata[0]}<br>Season=%{x}<br>End-of-Season ELO=%{y}<br>Start ELO=%{customdata[1]}<extra></extra>",
         "legendgroup": "Lakeside (Seattle)",
         "line": {
          "color": "#FECB52",
          "dash": "solid"
         },
         "marker": {
          "symbol": "circle"
         },
         "mode": "lines+markers",
         "name": "Lakeside (Seattle)",
         "orientation": "v",
         "showlegend": true,
         "type": "scatter",
         "x": [
          "2016-17",
          "2017-18",
          "2018-19",
          "2020-21",
          "2021-22",
          "2022-23",
          "2023-24",
          "2024-25"
         ],
         "xaxis": "x",
         "y": [
          1599.4188923786676,
          1721.786543940985,
          1859.5756937286628,
          1851.926662295904,
          1892.0300107436824,
          1843.3708292847568,
          1928.4946165384808,
          1661.042528439604
         ],
         "yaxis": "y"
        },
        {
         "customdata": [
          [
           "Lincoln (Seattle)",
           1544.4842939572063
          ],
          [
           "Lincoln (Seattle)",
           1631.9183758182808
          ],
          [
           "Lincoln (Seattle)",
           2034.5749938613487
          ],
          [
           "Lincoln (Seattle)",
           2058.8892244958693
          ],
          [
           "Lincoln (Seattle)",
           2014.541639901532
          ]
         ],
         "hovertemplate": "Team=%{customdata[0]}<br>Season=%{x}<br>End-of-Season ELO=%{y}<br>Start ELO=%{customdata[1]}<extra></extra>",
         "legendgroup": "Lincoln (Seattle)",
         "line": {
          "color": "#636efa",
          "dash": "solid"
         },
         "marker": {
          "symbol": "circle"
         },
         "mode": "lines+markers",
         "name": "Lincoln (Seattle)",
         "orientation": "v",
         "showlegend": true,
         "type": "scatter",
         "x": [
          "2020-21",
          "2021-22",
          "2022-23",
          "2023-24",
          "2024-25"
         ],
         "xaxis": "x",
         "y": [
          1506.3584438585651,
          1895.0025931418843,
          2031.8069942591749,
          2002.9997757582191,
          1985.8921027667905
         ],
         "yaxis": "y"
        },
        {
         "customdata": [
          [
           "Nathan Hale",
           1552.8141155530302
          ],
          [
           "Nathan Hale",
           1517.7593138002333
          ],
          [
           "Nathan Hale",
           1532.075595401015
          ],
          [
           "Nathan Hale",
           1351.2280652001275
          ],
          [
           "Nathan Hale",
           1251.0168723856532
          ],
          [
           "Nathan Hale",
           1424.6421483392633
          ],
          [
           "Nathan Hale",
           1497.995281248698
          ],
          [
           "Nathan Hale",
           1323.6043214305823
          ]
         ],
         "hovertemplate": "Team=%{customdata[0]}<br>Season=%{x}<br>End-of-Season ELO=%{y}<br>Start ELO=%{customdata[1]}<extra></extra>",
         "legendgroup": "Nathan Hale",
         "line": {
          "color": "#EF553B",
          "dash": "solid"
         },
         "marker": {
          "symbol": "circle"
         },
         "mode": "lines+markers",
         "name": "Nathan Hale",
         "orientation": "v",
         "showlegend": true,
         "type": "scatter",
         "x": [
          "2016-17",
          "2017-18",
          "2018-19",
          "2020-21",
          "2021-22",
          "2022-23",
          "2023-24",
          "2024-25"
         ],
         "xaxis": "x",
         "y": [
          1501.13359208168,
          1493.6252894109796,
          1427.2566720535278,
          1394.9339366312367,
          1407.789802246884,
          1473.5042143948936,
          1489.256921845083,
          1424.5005458412172
         ],
         "yaxis": "y"
        },
        {
         "customdata": [
          [
           "O'Dea",
           1539.034005921036
          ],
          [
           "O'Dea",
           1709.136201278631
          ],
          [
           "O'Dea",
           1657.9474771892685
          ],
          [
           "O'Dea",
           1729.4823106498147
          ],
          [
           "O'Dea",
           1672.550550800063
          ],
          [
           "O'Dea",
           1708.637533866421
          ],
          [
           "O'Dea",
           1533.298110783645
          ],
          [
           "O'Dea",
           1747.7587146847222
          ]
         ],
         "hovertemplate": "Team=%{customdata[0]}<br>Season=%{x}<br>End-of-Season ELO=%{y}<br>Start ELO=%{customdata[1]}<extra></extra>",
         "legendgroup": "O'Dea",
         "line": {
          "color": "#00cc96",
          "dash": "solid"
         },
         "marker": {
          "symbol": "circle"
         },
         "mode": "lines+markers",
         "name": "O'Dea",
         "orientation": "v",
         "showlegend": true,
         "type": "scatter",
         "x": [
          "2016-17",
          "2017-18",
          "2018-19",
          "2020-21",
          "2021-22",
          "2022-23",
          "2023-24",
          "2024-25"
         ],
         "xaxis": "x",
         "y": [
          1778.967207814162,
          1727.4650805885972,
          1624.773035098678,
          1718.2317833957156,
          1783.8125344050463,
          1646.6227114266635,
          1814.456582258026,
          1703.565685998892
         ],
         "yaxis": "y"
        },
        {
         "customdata": [
          [
           "Rainier Beach",
           1502.0122697930783
          ],
          [
           "Rainier Beach",
           1355.601438577923
          ],
          [
           "Rainier Beach",
           1075.262761257067
          ],
          [
           "Rainier Beach",
           1163.6732844578976
          ],
          [
           "Rainier Beach",
           1120.457199834062
          ],
          [
           "Rainier Beach",
           1021.5912885284254
          ],
          [
           "Rainier Beach",
           1077.2311217567146
          ],
          [
           "Rainier Beach",
           876.6421365192455
          ]
         ],
         "hovertemplate": "Team=%{customdata[0]}<br>Season=%{x}<br>End-of-Season ELO=%{y}<br>Start ELO=%{customdata[1]}<extra></extra>",
         "legendgroup": "Rainier Beach",
         "line": {
          "color": "#ab63fa",
          "dash": "solid"
         },
         "marker": {
          "symbol": "circle"
         },
         "mode": "lines+markers",
         "name": "Rainier Beach",
         "orientation": "v",
         "showlegend": true,
         "type": "scatter",
         "x": [
          "2016-17",
          "2017-18",
          "2018-19",
          "2020-21",
          "2021-22",
          "2022-23",
          "2023-24",
          "2024-25"
         ],
         "xaxis": "x",
         "y": [
          1402.3829180488028,
          1252.0557601963703,
          1103.5521449293387,
          1130.7892342710163,
          1127.5352401016123,
          1115.7266213964497,
          927.3540526602536,
          880.0148892351292
         ],
         "yaxis": "y"
        },
        {
         "customdata": [
          [
           "Roosevelt",
           1477.52001633507
          ],
          [
           "Roosevelt",
           1753.696332149943
          ],
          [
           "Roosevelt",
           1949.959809638689
          ],
          [
           "Roosevelt",
           2003.3629976555328
          ],
          [
           "Roosevelt",
           2022.662118228819
          ],
          [
           "Roosevelt",
           1874.3984267722424
          ],
          [
           "Roosevelt",
           1651.0658787584784
          ],
          [
           "Roosevelt",
           1531.7508341099658
          ]
         ],
         "hovertemplate": "Team=%{customdata[0]}<br>Season=%{x}<br>End-of-Season ELO=%{y}<br>Start ELO=%{customdata[1]}<extra></extra>",
         "legendgroup": "Roosevelt",
         "line": {
          "color": "#FFA15A",
          "dash": "solid"
         },
         "marker": {
          "symbol": "circle"
         },
         "mode": "lines+markers",
         "name": "Roosevelt",
         "orientation": "v",
         "showlegend": true,
         "type": "scatter",
         "x": [
          "2016-17",
          "2017-18",
          "2018-19",
          "2020-21",
          "2021-22",
          "2022-23",
          "2023-24",
          "2024-25"
         ],
         "xaxis": "x",
         "y": [
          1645.2463151337524,
          1939.9399278145995,
          2016.082512898268,
          2016.6846196615184,
          1929.1149142949023,
          1641.6025743830116,
          1696.2361160260532,
          1591.5560319783797
         ],
         "yaxis": "y"
        },
        {
         "customdata": [
          [
           "Seattle Prep",
           1509.6277444309749
          ],
          [
           "Seattle Prep",
           1629.5159605975794
          ],
          [
           "Seattle Prep",
           1584.620988516391
          ],
          [
           "Seattle Prep",
           1544.699710699005
          ],
          [
           "Seattle Prep",
           1619.458019906585
          ],
          [
           "Seattle Prep",
           1729.4012348393428
          ],
          [
           "Seattle Prep",
           1776.9290561609628
          ],
          [
           "Seattle Prep",
           1863.092881082713
          ]
         ],
         "hovertemplate": "Team=%{customdata[0]}<br>Season=%{x}<br>End-of-Season ELO=%{y}<br>Start ELO=%{customdata[1]}<extra></extra>",
         "legendgroup": "Seattle Prep",
         "line": {
          "color": "#19d3f3",
          "dash": "solid"
         },
         "marker": {
          "symbol": "circle"
         },
         "mode": "lines+markers",
         "name": "Seattle Prep",
         "orientation": "v",
         "showlegend": true,
         "type": "scatter",
         "x": [
          "2016-17",
          "2017-18",
          "2018-19",
          "2020-21",
          "2021-22",
          "2022-23",
          "2023-24",
          "2024-25"
         ],
         "xaxis": "x",
         "y": [
          1672.0863541219444,
          1712.4081611578613,
          1597.988699877328,
          1578.01504797891,
          1748.2090709105255,
          1719.3142654462451,
          1819.6368225205035,
          1844.1928801629144
         ],
         "yaxis": "y"
        },
        {
         "customdata": [
          [
           "West Seattle",
           1523.5621801534178
          ],
          [
           "West Seattle",
           1608.236714395666
          ],
          [
           "West Seattle",
           1627.9373946379385
          ],
          [
           "West Seattle",
           1483.250544155523
          ],
          [
           "West Seattle",
           1425.4463559780943
          ],
          [
           "West Seattle",
           1356.853463874398
          ],
          [
           "West Seattle",
           1372.4802054215213
          ],
          [
           "West Seattle",
           1217.2898329098823
          ]
         ],
         "hovertemplate": "Team=%{customdata[0]}<br>Season=%{x}<br>End-of-Season ELO=%{y}<br>Start ELO=%{customdata[1]}<extra></extra>",
         "legendgroup": "West Seattle",
         "line": {
          "color": "#FF6692",
          "dash": "solid"
         },
         "marker": {
          "symbol": "circle"
         },
         "mode": "lines+markers",
         "name": "West Seattle",
         "orientation": "v",
         "showlegend": true,
         "type": "scatter",
         "x": [
          "2016-17",
          "2017-18",
          "2018-19",
          "2020-21",
          "2021-22",
          "2022-23",
          "2023-24",
          "2024-25"
         ],
         "xaxis": "x",
         "y": [
          1620.462154758043,
          1534.0426919288595,
          1493.362130615089,
          1604.4961861988568,
          1417.103285462076,
          1354.0478978516653,
          1262.5047674974246,
          1336.2944873875838
         ],
         "yaxis": "y"
        },
        {
         "hoverinfo": "text",
         "hovertext": [
          "Bainbridge — Start ELO: 1516.588218989289",
          "Bainbridge — Start ELO: 1665.981041976426",
          "Bainbridge — Start ELO: 1447.6456955264282"
         ],
         "legendgroup": "Bainbridge",
         "marker": {
          "size": 8,
          "symbol": "circle-open"
         },
         "mode": "markers",
         "name": "Bainbridge (Start)",
         "showlegend": false,
         "type": "scatter",
         "x": [
          "2016-17",
          "2017-18",
          "2018-19"
         ],
         "y": [
          1516.588218989289,
          1665.981041976426,
          1447.6456955264282
         ]
        },
        {
         "hoverinfo": "text",
         "hovertext": [
          "Ballard — Start ELO: 1518.456859325249",
          "Ballard — Start ELO: 1745.9223058852374",
          "Ballard — Start ELO: 1586.872366391179",
          "Ballard — Start ELO: 1655.9897232523513",
          "Ballard — Start ELO: 1553.1168534175742",
          "Ballard — Start ELO: 1509.4301360589886",
          "Ballard — Start ELO: 1778.7433302183751",
          "Ballard — Start ELO: 1584.541968290806"
         ],
         "legendgroup": "Ballard",
         "marker": {
          "size": 8,
          "symbol": "circle-open"
         },
         "mode": "markers",
         "name": "Ballard (Start)",
         "showlegend": false,
         "type": "scatter",
         "x": [
          "2016-17",
          "2017-18",
          "2018-19",
          "2020-21",
          "2021-22",
          "2022-23",
          "2023-24",
          "2024-25"
         ],
         "y": [
          1518.456859325249,
          1745.9223058852374,
          1586.872366391179,
          1655.9897232523513,
          1553.1168534175742,
          1509.4301360589886,
          1778.7433302183751,
          1584.541968290806
         ]
        },
        {
         "hoverinfo": "text",
         "hovertext": [
          "Bishop Blanchet — Start ELO: 1483.125225057678",
          "Bishop Blanchet — Start ELO: 1435.699930969365",
          "Bishop Blanchet — Start ELO: 1500.264411519315",
          "Bishop Blanchet — Start ELO: 1560.8761664366195",
          "Bishop Blanchet — Start ELO: 1542.8767179395395",
          "Bishop Blanchet — Start ELO: 1516.2255261304922",
          "Bishop Blanchet — Start ELO: 1506.2813681898497",
          "Bishop Blanchet — Start ELO: 1911.5626716677089"
         ],
         "legendgroup": "Bishop Blanchet",
         "marker": {
          "size": 8,
          "symbol": "circle-open"
         },
         "mode": "markers",
         "name": "Bishop Blanchet (Start)",
         "showlegend": false,
         "type": "scatter",
         "x": [
          "2016-17",
          "2017-18",
          "2018-19",
          "2020-21",
          "2021-22",
          "2022-23",
          "2023-24",
          "2024-25"
         ],
         "y": [
          1483.125225057678,
          1435.699930969365,
          1500.264411519315,
          1560.8761664366195,
          1542.8767179395395,
          1516.2255261304922,
          1506.2813681898497,
          1911.5626716677089
         ]
        },
        {
         "hoverinfo": "text",
         "hovertext": [
          "Chief Sealth — Start ELO: 1469.590187767243",
          "Chief Sealth — Start ELO: 1437.340267485145",
          "Chief Sealth — Start ELO: 1386.1948163711445",
          "Chief Sealth — Start ELO: 1442.766332962966",
          "Chief Sealth — Start ELO: 1547.2014603544778",
          "Chief Sealth — Start ELO: 1657.664208844982",
          "Chief Sealth — Start ELO: 1557.801959169612",
          "Chief Sealth — Start ELO: 1431.653976431173"
         ],
         "legendgroup": "Chief Sealth",
         "marker": {
          "size": 8,
          "symbol": "circle-open"
         },
         "mode": "markers",
         "name": "Chief Sealth (Start)",
         "showlegend": false,
         "type": "scatter",
         "x": [
          "2016-17",
          "2017-18",
          "2018-19",
          "2020-21",
          "2021-22",
          "2022-23",
          "2023-24",
          "2024-25"
         ],
         "y": [
          1469.590187767243,
          1437.340267485145,
          1386.1948163711445,
          1442.766332962966,
          1547.2014603544778,
          1657.664208844982,
          1557.801959169612,
          1431.653976431173
         ]
        },
        {
         "hoverinfo": "text",
         "hovertext": [
          "Cleveland — Start ELO: 1436.4080176827993",
          "Cleveland — Start ELO: 944.6230561128624",
          "Cleveland — Start ELO: 812.2699690267482",
          "Cleveland — Start ELO: 821.0128589655083",
          "Cleveland — Start ELO: 844.2940624868924",
          "Cleveland — Start ELO: 757.4275909847003",
          "Cleveland — Start ELO: 708.9319604963263",
          "Cleveland — Start ELO: 692.2174122475305"
         ],
         "legendgroup": "Cleveland",
         "marker": {
          "size": 8,
          "symbol": "circle-open"
         },
         "mode": "markers",
         "name": "Cleveland (Start)",
         "showlegend": false,
         "type": "scatter",
         "x": [
          "2016-17",
          "2017-18",
          "2018-19",
          "2020-21",
          "2021-22",
          "2022-23",
          "2023-24",
          "2024-25"
         ],
         "y": [
          1436.4080176827993,
          944.6230561128624,
          812.2699690267482,
          821.0128589655083,
          844.2940624868924,
          757.4275909847003,
          708.9319604963263,
          692.2174122475305
         ]
        },
        {
         "hoverinfo": "text",
         "hovertext": [
          "Eastside Catholic — Start ELO: 1440.3906658053347",
          "Eastside Catholic — Start ELO: 1225.470025988968",
          "Eastside Catholic — Start ELO: 1493.107807677594",
          "Eastside Catholic — Start ELO: 1383.3782437340114",
          "Eastside Catholic — Start ELO: 1355.5703208335797",
          "Eastside Catholic — Start ELO: 1256.493055328202",
          "Eastside Catholic — Start ELO: 1306.3671323850936",
          "Eastside Catholic — Start ELO: 1572.375733169639"
         ],
         "legendgroup": "Eastside Catholic",
         "marker": {
          "size": 8,
          "symbol": "circle-open"
         },
         "mode": "markers",
         "name": "Eastside Catholic (Start)",
         "showlegend": false,
         "type": "scatter",
         "x": [
          "2016-17",
          "2017-18",
          "2018-19",
          "2020-21",
          "2021-22",
          "2022-23",
          "2023-24",
          "2024-25"
         ],
         "y": [
          1440.3906658053347,
          1225.470025988968,
          1493.107807677594,
          1383.3782437340114,
          1355.5703208335797,
          1256.493055328202,
          1306.3671323850936,
          1572.375733169639
         ]
        },
        {
         "hoverinfo": "text",
         "hovertext": [
          "Franklin — Start ELO: 1482.2348609205908",
          "Franklin — Start ELO: 1480.3134967961223",
          "Franklin — Start ELO: 1263.5585458607663",
          "Franklin — Start ELO: 1468.1982299269123",
          "Franklin — Start ELO: 1437.762963897325",
          "Franklin — Start ELO: 1244.515248425755",
          "Franklin — Start ELO: 1149.3310684326495",
          "Franklin — Start ELO: 1172.5818483742846"
         ],
         "legendgroup": "Franklin",
         "marker": {
          "size": 8,
          "symbol": "circle-open"
         },
         "mode": "markers",
         "name": "Franklin (Start)",
         "showlegend": false,
         "type": "scatter",
         "x": [
          "2016-17",
          "2017-18",
          "2018-19",
          "2020-21",
          "2021-22",
          "2022-23",
          "2023-24",
          "2024-25"
         ],
         "y": [
          1482.2348609205908,
          1480.3134967961223,
          1263.5585458607663,
          1468.1982299269123,
          1437.762963897325,
          1244.515248425755,
          1149.3310684326495,
          1172.5818483742846
         ]
        },
        {
         "hoverinfo": "text",
         "hovertext": [
          "Garfield — Start ELO: 1528.7948000157692",
          "Garfield — Start ELO: 1617.4289398099625",
          "Garfield — Start ELO: 1842.942950281857",
          "Garfield — Start ELO: 1661.849485396983",
          "Garfield — Start ELO: 1667.261575016821",
          "Garfield — Start ELO: 1582.2322351916964",
          "Garfield — Start ELO: 1657.9934836362538",
          "Garfield — Start ELO: 1653.9258971069346"
         ],
         "legendgroup": "Garfield",
         "marker": {
          "size": 8,
          "symbol": "circle-open"
         },
         "mode": "markers",
         "name": "Garfield (Start)",
         "showlegend": false,
         "type": "scatter",
         "x": [
          "2016-17",
          "2017-18",
          "2018-19",
          "2020-21",
          "2021-22",
          "2022-23",
          "2023-24",
          "2024-25"
         ],
         "y": [
          1528.7948000157692,
          1617.4289398099625,
          1842.942950281857,
          1661.849485396983,
          1667.261575016821,
          1582.2322351916964,
          1657.9934836362538,
          1653.9258971069346
         ]
        },
        {
         "hoverinfo": "text",
         "hovertext": [
          "Ingraham — Start ELO: 1308.5951911288623",
          "Ingraham — Start ELO: 1318.761898794363",
          "Ingraham — Start ELO: 1429.309278524636",
          "Ingraham — Start ELO: 1289.6489222962095",
          "Ingraham — Start ELO: 1467.903678109934",
          "Ingraham — Start ELO: 1471.2447421421275",
          "Ingraham — Start ELO: 1475.7747165091987",
          "Ingraham — Start ELO: 1417.7085696746922"
         ],
         "legendgroup": "Ingraham",
         "marker": {
          "size": 8,
          "symbol": "circle-open"
         },
         "mode": "markers",
         "name": "Ingraham (Start)",
         "showlegend": false,
         "type": "scatter",
         "x": [
          "2016-17",
          "2017-18",
          "2018-19",
          "2020-21",
          "2021-22",
          "2022-23",
          "2023-24",
          "2024-25"
         ],
         "y": [
          1308.5951911288623,
          1318.761898794363,
          1429.309278524636,
          1289.6489222962095,
          1467.903678109934,
          1471.2447421421275,
          1475.7747165091987,
          1417.7085696746922
         ]
        },
        {
         "hoverinfo": "text",
         "hovertext": [
          "Lakeside (Seattle) — Start ELO: 1604.7013681595254",
          "Lakeside (Seattle) — Start ELO: 1613.1508535932728",
          "Lakeside (Seattle) — Start ELO: 1746.802095986325",
          "Lakeside (Seattle) — Start ELO: 1881.540365637424",
          "Lakeside (Seattle) — Start ELO: 1857.9264970245936",
          "Lakeside (Seattle) — Start ELO: 1810.9254868337723",
          "Lakeside (Seattle) — Start ELO: 1861.7322455382416",
          "Lakeside (Seattle) — Start ELO: 1808.9448531177989"
         ],
         "legendgroup": "Lakeside (Seattle)",
         "marker": {
          "size": 8,
          "symbol": "circle-open"
         },
         "mode": "markers",
         "name": "Lakeside (Seattle) (Start)",
         "showlegend": false,
         "type": "scatter",
         "x": [
          "2016-17",
          "2017-18",
          "2018-19",
          "2020-21",
          "2021-22",
          "2022-23",
          "2023-24",
          "2024-25"
         ],
         "y": [
          1604.7013681595254,
          1613.1508535932728,
          1746.802095986325,
          1881.540365637424,
          1857.9264970245936,
          1810.9254868337723,
          1861.7322455382416,
          1808.9448531177989
         ]
        },
        {
         "hoverinfo": "text",
         "hovertext": [
          "Lincoln (Seattle) — Start ELO: 1544.4842939572063",
          "Lincoln (Seattle) — Start ELO: 1631.9183758182808",
          "Lincoln (Seattle) — Start ELO: 2034.5749938613487",
          "Lincoln (Seattle) — Start ELO: 2058.8892244958693",
          "Lincoln (Seattle) — Start ELO: 2014.541639901532"
         ],
         "legendgroup": "Lincoln (Seattle)",
         "marker": {
          "size": 8,
          "symbol": "circle-open"
         },
         "mode": "markers",
         "name": "Lincoln (Seattle) (Start)",
         "showlegend": false,
         "type": "scatter",
         "x": [
          "2020-21",
          "2021-22",
          "2022-23",
          "2023-24",
          "2024-25"
         ],
         "y": [
          1544.4842939572063,
          1631.9183758182808,
          2034.5749938613487,
          2058.8892244958693,
          2014.541639901532
         ]
        },
        {
         "hoverinfo": "text",
         "hovertext": [
          "Nathan Hale — Start ELO: 1552.8141155530302",
          "Nathan Hale — Start ELO: 1517.7593138002333",
          "Nathan Hale — Start ELO: 1532.075595401015",
          "Nathan Hale — Start ELO: 1351.2280652001275",
          "Nathan Hale — Start ELO: 1251.0168723856532",
          "Nathan Hale — Start ELO: 1424.6421483392633",
          "Nathan Hale — Start ELO: 1497.995281248698",
          "Nathan Hale — Start ELO: 1323.6043214305823"
         ],
         "legendgroup": "Nathan Hale",
         "marker": {
          "size": 8,
          "symbol": "circle-open"
         },
         "mode": "markers",
         "name": "Nathan Hale (Start)",
         "showlegend": false,
         "type": "scatter",
         "x": [
          "2016-17",
          "2017-18",
          "2018-19",
          "2020-21",
          "2021-22",
          "2022-23",
          "2023-24",
          "2024-25"
         ],
         "y": [
          1552.8141155530302,
          1517.7593138002333,
          1532.075595401015,
          1351.2280652001275,
          1251.0168723856532,
          1424.6421483392633,
          1497.995281248698,
          1323.6043214305823
         ]
        },
        {
         "hoverinfo": "text",
         "hovertext": [
          "O'Dea — Start ELO: 1539.034005921036",
          "O'Dea — Start ELO: 1709.136201278631",
          "O'Dea — Start ELO: 1657.9474771892685",
          "O'Dea — Start ELO: 1729.4823106498147",
          "O'Dea — Start ELO: 1672.550550800063",
          "O'Dea — Start ELO: 1708.637533866421",
          "O'Dea — Start ELO: 1533.298110783645",
          "O'Dea — Start ELO: 1747.7587146847222"
         ],
         "legendgroup": "O'Dea",
         "marker": {
          "size": 8,
          "symbol": "circle-open"
         },
         "mode": "markers",
         "name": "O'Dea (Start)",
         "showlegend": false,
         "type": "scatter",
         "x": [
          "2016-17",
          "2017-18",
          "2018-19",
          "2020-21",
          "2021-22",
          "2022-23",
          "2023-24",
          "2024-25"
         ],
         "y": [
          1539.034005921036,
          1709.136201278631,
          1657.9474771892685,
          1729.4823106498147,
          1672.550550800063,
          1708.637533866421,
          1533.298110783645,
          1747.7587146847222
         ]
        },
        {
         "hoverinfo": "text",
         "hovertext": [
          "Rainier Beach — Start ELO: 1502.0122697930783",
          "Rainier Beach — Start ELO: 1355.601438577923",
          "Rainier Beach — Start ELO: 1075.262761257067",
          "Rainier Beach — Start ELO: 1163.6732844578976",
          "Rainier Beach — Start ELO: 1120.457199834062",
          "Rainier Beach — Start ELO: 1021.5912885284254",
          "Rainier Beach — Start ELO: 1077.2311217567146",
          "Rainier Beach — Start ELO: 876.6421365192455"
         ],
         "legendgroup": "Rainier Beach",
         "marker": {
          "size": 8,
          "symbol": "circle-open"
         },
         "mode": "markers",
         "name": "Rainier Beach (Start)",
         "showlegend": false,
         "type": "scatter",
         "x": [
          "2016-17",
          "2017-18",
          "2018-19",
          "2020-21",
          "2021-22",
          "2022-23",
          "2023-24",
          "2024-25"
         ],
         "y": [
          1502.0122697930783,
          1355.601438577923,
          1075.262761257067,
          1163.6732844578976,
          1120.457199834062,
          1021.5912885284254,
          1077.2311217567146,
          876.6421365192455
         ]
        },
        {
         "hoverinfo": "text",
         "hovertext": [
          "Roosevelt — Start ELO: 1477.52001633507",
          "Roosevelt — Start ELO: 1753.696332149943",
          "Roosevelt — Start ELO: 1949.959809638689",
          "Roosevelt — Start ELO: 2003.3629976555328",
          "Roosevelt — Start ELO: 2022.662118228819",
          "Roosevelt — Start ELO: 1874.3984267722424",
          "Roosevelt — Start ELO: 1651.0658787584784",
          "Roosevelt — Start ELO: 1531.7508341099658"
         ],
         "legendgroup": "Roosevelt",
         "marker": {
          "size": 8,
          "symbol": "circle-open"
         },
         "mode": "markers",
         "name": "Roosevelt (Start)",
         "showlegend": false,
         "type": "scatter",
         "x": [
          "2016-17",
          "2017-18",
          "2018-19",
          "2020-21",
          "2021-22",
          "2022-23",
          "2023-24",
          "2024-25"
         ],
         "y": [
          1477.52001633507,
          1753.696332149943,
          1949.959809638689,
          2003.3629976555328,
          2022.662118228819,
          1874.3984267722424,
          1651.0658787584784,
          1531.7508341099658
         ]
        },
        {
         "hoverinfo": "text",
         "hovertext": [
          "Seattle Prep — Start ELO: 1509.6277444309749",
          "Seattle Prep — Start ELO: 1629.5159605975794",
          "Seattle Prep — Start ELO: 1584.620988516391",
          "Seattle Prep — Start ELO: 1544.699710699005",
          "Seattle Prep — Start ELO: 1619.458019906585",
          "Seattle Prep — Start ELO: 1729.4012348393428",
          "Seattle Prep — Start ELO: 1776.9290561609628",
          "Seattle Prep — Start ELO: 1863.092881082713"
         ],
         "legendgroup": "Seattle Prep",
         "marker": {
          "size": 8,
          "symbol": "circle-open"
         },
         "mode": "markers",
         "name": "Seattle Prep (Start)",
         "showlegend": false,
         "type": "scatter",
         "x": [
          "2016-17",
          "2017-18",
          "2018-19",
          "2020-21",
          "2021-22",
          "2022-23",
          "2023-24",
          "2024-25"
         ],
         "y": [
          1509.6277444309749,
          1629.5159605975794,
          1584.620988516391,
          1544.699710699005,
          1619.458019906585,
          1729.4012348393428,
          1776.9290561609628,
          1863.092881082713
         ]
        },
        {
         "hoverinfo": "text",
         "hovertext": [
          "West Seattle — Start ELO: 1523.5621801534178",
          "West Seattle — Start ELO: 1608.236714395666",
          "West Seattle — Start ELO: 1627.9373946379385",
          "West Seattle — Start ELO: 1483.250544155523",
          "West Seattle — Start ELO: 1425.4463559780943",
          "West Seattle — Start ELO: 1356.853463874398",
          "West Seattle — Start ELO: 1372.4802054215213",
          "West Seattle — Start ELO: 1217.2898329098823"
         ],
         "legendgroup": "West Seattle",
         "marker": {
          "size": 8,
          "symbol": "circle-open"
         },
         "mode": "markers",
         "name": "West Seattle (Start)",
         "showlegend": false,
         "type": "scatter",
         "x": [
          "2016-17",
          "2017-18",
          "2018-19",
          "2020-21",
          "2021-22",
          "2022-23",
          "2023-24",
          "2024-25"
         ],
         "y": [
          1523.5621801534178,
          1608.236714395666,
          1627.9373946379385,
          1483.250544155523,
          1425.4463559780943,
          1356.853463874398,
          1372.4802054215213,
          1217.2898329098823
         ]
        }
       ],
       "layout": {
        "height": 700,
        "hovermode": "x unified",
        "legend": {
         "itemclick": "toggleothers",
         "title": {
          "text": "Team"
         },
         "tracegroupgap": 0
        },
        "margin": {
         "b": 80,
         "t": 60
        },
        "template": {
         "data": {
          "bar": [
           {
            "error_x": {
             "color": "#2a3f5f"
            },
            "error_y": {
             "color": "#2a3f5f"
            },
            "marker": {
             "line": {
              "color": "#E5ECF6",
              "width": 0.5
             },
             "pattern": {
              "fillmode": "overlay",
              "size": 10,
              "solidity": 0.2
             }
            },
            "type": "bar"
           }
          ],
          "barpolar": [
           {
            "marker": {
             "line": {
              "color": "#E5ECF6",
              "width": 0.5
             },
             "pattern": {
              "fillmode": "overlay",
              "size": 10,
              "solidity": 0.2
             }
            },
            "type": "barpolar"
           }
          ],
          "carpet": [
           {
            "aaxis": {
             "endlinecolor": "#2a3f5f",
             "gridcolor": "white",
             "linecolor": "white",
             "minorgridcolor": "white",
             "startlinecolor": "#2a3f5f"
            },
            "baxis": {
             "endlinecolor": "#2a3f5f",
             "gridcolor": "white",
             "linecolor": "white",
             "minorgridcolor": "white",
             "startlinecolor": "#2a3f5f"
            },
            "type": "carpet"
           }
          ],
          "choropleth": [
           {
            "colorbar": {
             "outlinewidth": 0,
             "ticks": ""
            },
            "type": "choropleth"
           }
          ],
          "contour": [
           {
            "colorbar": {
             "outlinewidth": 0,
             "ticks": ""
            },
            "colorscale": [
             [
              0,
              "#0d0887"
             ],
             [
              0.1111111111111111,
              "#46039f"
             ],
             [
              0.2222222222222222,
              "#7201a8"
             ],
             [
              0.3333333333333333,
              "#9c179e"
             ],
             [
              0.4444444444444444,
              "#bd3786"
             ],
             [
              0.5555555555555556,
              "#d8576b"
             ],
             [
              0.6666666666666666,
              "#ed7953"
             ],
             [
              0.7777777777777778,
              "#fb9f3a"
             ],
             [
              0.8888888888888888,
              "#fdca26"
             ],
             [
              1,
              "#f0f921"
             ]
            ],
            "type": "contour"
           }
          ],
          "contourcarpet": [
           {
            "colorbar": {
             "outlinewidth": 0,
             "ticks": ""
            },
            "type": "contourcarpet"
           }
          ],
          "heatmap": [
           {
            "colorbar": {
             "outlinewidth": 0,
             "ticks": ""
            },
            "colorscale": [
             [
              0,
              "#0d0887"
             ],
             [
              0.1111111111111111,
              "#46039f"
             ],
             [
              0.2222222222222222,
              "#7201a8"
             ],
             [
              0.3333333333333333,
              "#9c179e"
             ],
             [
              0.4444444444444444,
              "#bd3786"
             ],
             [
              0.5555555555555556,
              "#d8576b"
             ],
             [
              0.6666666666666666,
              "#ed7953"
             ],
             [
              0.7777777777777778,
              "#fb9f3a"
             ],
             [
              0.8888888888888888,
              "#fdca26"
             ],
             [
              1,
              "#f0f921"
             ]
            ],
            "type": "heatmap"
           }
          ],
          "heatmapgl": [
           {
            "colorbar": {
             "outlinewidth": 0,
             "ticks": ""
            },
            "colorscale": [
             [
              0,
              "#0d0887"
             ],
             [
              0.1111111111111111,
              "#46039f"
             ],
             [
              0.2222222222222222,
              "#7201a8"
             ],
             [
              0.3333333333333333,
              "#9c179e"
             ],
             [
              0.4444444444444444,
              "#bd3786"
             ],
             [
              0.5555555555555556,
              "#d8576b"
             ],
             [
              0.6666666666666666,
              "#ed7953"
             ],
             [
              0.7777777777777778,
              "#fb9f3a"
             ],
             [
              0.8888888888888888,
              "#fdca26"
             ],
             [
              1,
              "#f0f921"
             ]
            ],
            "type": "heatmapgl"
           }
          ],
          "histogram": [
           {
            "marker": {
             "pattern": {
              "fillmode": "overlay",
              "size": 10,
              "solidity": 0.2
             }
            },
            "type": "histogram"
           }
          ],
          "histogram2d": [
           {
            "colorbar": {
             "outlinewidth": 0,
             "ticks": ""
            },
            "colorscale": [
             [
              0,
              "#0d0887"
             ],
             [
              0.1111111111111111,
              "#46039f"
             ],
             [
              0.2222222222222222,
              "#7201a8"
             ],
             [
              0.3333333333333333,
              "#9c179e"
             ],
             [
              0.4444444444444444,
              "#bd3786"
             ],
             [
              0.5555555555555556,
              "#d8576b"
             ],
             [
              0.6666666666666666,
              "#ed7953"
             ],
             [
              0.7777777777777778,
              "#fb9f3a"
             ],
             [
              0.8888888888888888,
              "#fdca26"
             ],
             [
              1,
              "#f0f921"
             ]
            ],
            "type": "histogram2d"
           }
          ],
          "histogram2dcontour": [
           {
            "colorbar": {
             "outlinewidth": 0,
             "ticks": ""
            },
            "colorscale": [
             [
              0,
              "#0d0887"
             ],
             [
              0.1111111111111111,
              "#46039f"
             ],
             [
              0.2222222222222222,
              "#7201a8"
             ],
             [
              0.3333333333333333,
              "#9c179e"
             ],
             [
              0.4444444444444444,
              "#bd3786"
             ],
             [
              0.5555555555555556,
              "#d8576b"
             ],
             [
              0.6666666666666666,
              "#ed7953"
             ],
             [
              0.7777777777777778,
              "#fb9f3a"
             ],
             [
              0.8888888888888888,
              "#fdca26"
             ],
             [
              1,
              "#f0f921"
             ]
            ],
            "type": "histogram2dcontour"
           }
          ],
          "mesh3d": [
           {
            "colorbar": {
             "outlinewidth": 0,
             "ticks": ""
            },
            "type": "mesh3d"
           }
          ],
          "parcoords": [
           {
            "line": {
             "colorbar": {
              "outlinewidth": 0,
              "ticks": ""
             }
            },
            "type": "parcoords"
           }
          ],
          "pie": [
           {
            "automargin": true,
            "type": "pie"
           }
          ],
          "scatter": [
           {
            "fillpattern": {
             "fillmode": "overlay",
             "size": 10,
             "solidity": 0.2
            },
            "type": "scatter"
           }
          ],
          "scatter3d": [
           {
            "line": {
             "colorbar": {
              "outlinewidth": 0,
              "ticks": ""
             }
            },
            "marker": {
             "colorbar": {
              "outlinewidth": 0,
              "ticks": ""
             }
            },
            "type": "scatter3d"
           }
          ],
          "scattercarpet": [
           {
            "marker": {
             "colorbar": {
              "outlinewidth": 0,
              "ticks": ""
             }
            },
            "type": "scattercarpet"
           }
          ],
          "scattergeo": [
           {
            "marker": {
             "colorbar": {
              "outlinewidth": 0,
              "ticks": ""
             }
            },
            "type": "scattergeo"
           }
          ],
          "scattergl": [
           {
            "marker": {
             "colorbar": {
              "outlinewidth": 0,
              "ticks": ""
             }
            },
            "type": "scattergl"
           }
          ],
          "scattermapbox": [
           {
            "marker": {
             "colorbar": {
              "outlinewidth": 0,
              "ticks": ""
             }
            },
            "type": "scattermapbox"
           }
          ],
          "scatterpolar": [
           {
            "marker": {
             "colorbar": {
              "outlinewidth": 0,
              "ticks": ""
             }
            },
            "type": "scatterpolar"
           }
          ],
          "scatterpolargl": [
           {
            "marker": {
             "colorbar": {
              "outlinewidth": 0,
              "ticks": ""
             }
            },
            "type": "scatterpolargl"
           }
          ],
          "scatterternary": [
           {
            "marker": {
             "colorbar": {
              "outlinewidth": 0,
              "ticks": ""
             }
            },
            "type": "scatterternary"
           }
          ],
          "surface": [
           {
            "colorbar": {
             "outlinewidth": 0,
             "ticks": ""
            },
            "colorscale": [
             [
              0,
              "#0d0887"
             ],
             [
              0.1111111111111111,
              "#46039f"
             ],
             [
              0.2222222222222222,
              "#7201a8"
             ],
             [
              0.3333333333333333,
              "#9c179e"
             ],
             [
              0.4444444444444444,
              "#bd3786"
             ],
             [
              0.5555555555555556,
              "#d8576b"
             ],
             [
              0.6666666666666666,
              "#ed7953"
             ],
             [
              0.7777777777777778,
              "#fb9f3a"
             ],
             [
              0.8888888888888888,
              "#fdca26"
             ],
             [
              1,
              "#f0f921"
             ]
            ],
            "type": "surface"
           }
          ],
          "table": [
           {
            "cells": {
             "fill": {
              "color": "#EBF0F8"
             },
             "line": {
              "color": "white"
             }
            },
            "header": {
             "fill": {
              "color": "#C8D4E3"
             },
             "line": {
              "color": "white"
             }
            },
            "type": "table"
           }
          ]
         },
         "layout": {
          "annotationdefaults": {
           "arrowcolor": "#2a3f5f",
           "arrowhead": 0,
           "arrowwidth": 1
          },
          "autotypenumbers": "strict",
          "coloraxis": {
           "colorbar": {
            "outlinewidth": 0,
            "ticks": ""
           }
          },
          "colorscale": {
           "diverging": [
            [
             0,
             "#8e0152"
            ],
            [
             0.1,
             "#c51b7d"
            ],
            [
             0.2,
             "#de77ae"
            ],
            [
             0.3,
             "#f1b6da"
            ],
            [
             0.4,
             "#fde0ef"
            ],
            [
             0.5,
             "#f7f7f7"
            ],
            [
             0.6,
             "#e6f5d0"
            ],
            [
             0.7,
             "#b8e186"
            ],
            [
             0.8,
             "#7fbc41"
            ],
            [
             0.9,
             "#4d9221"
            ],
            [
             1,
             "#276419"
            ]
           ],
           "sequential": [
            [
             0,
             "#0d0887"
            ],
            [
             0.1111111111111111,
             "#46039f"
            ],
            [
             0.2222222222222222,
             "#7201a8"
            ],
            [
             0.3333333333333333,
             "#9c179e"
            ],
            [
             0.4444444444444444,
             "#bd3786"
            ],
            [
             0.5555555555555556,
             "#d8576b"
            ],
            [
             0.6666666666666666,
             "#ed7953"
            ],
            [
             0.7777777777777778,
             "#fb9f3a"
            ],
            [
             0.8888888888888888,
             "#fdca26"
            ],
            [
             1,
             "#f0f921"
            ]
           ],
           "sequentialminus": [
            [
             0,
             "#0d0887"
            ],
            [
             0.1111111111111111,
             "#46039f"
            ],
            [
             0.2222222222222222,
             "#7201a8"
            ],
            [
             0.3333333333333333,
             "#9c179e"
            ],
            [
             0.4444444444444444,
             "#bd3786"
            ],
            [
             0.5555555555555556,
             "#d8576b"
            ],
            [
             0.6666666666666666,
             "#ed7953"
            ],
            [
             0.7777777777777778,
             "#fb9f3a"
            ],
            [
             0.8888888888888888,
             "#fdca26"
            ],
            [
             1,
             "#f0f921"
            ]
           ]
          },
          "colorway": [
           "#636efa",
           "#EF553B",
           "#00cc96",
           "#ab63fa",
           "#FFA15A",
           "#19d3f3",
           "#FF6692",
           "#B6E880",
           "#FF97FF",
           "#FECB52"
          ],
          "font": {
           "color": "#2a3f5f"
          },
          "geo": {
           "bgcolor": "white",
           "lakecolor": "white",
           "landcolor": "#E5ECF6",
           "showlakes": true,
           "showland": true,
           "subunitcolor": "white"
          },
          "hoverlabel": {
           "align": "left"
          },
          "hovermode": "closest",
          "mapbox": {
           "style": "light"
          },
          "paper_bgcolor": "white",
          "plot_bgcolor": "#E5ECF6",
          "polar": {
           "angularaxis": {
            "gridcolor": "white",
            "linecolor": "white",
            "ticks": ""
           },
           "bgcolor": "#E5ECF6",
           "radialaxis": {
            "gridcolor": "white",
            "linecolor": "white",
            "ticks": ""
           }
          },
          "scene": {
           "xaxis": {
            "backgroundcolor": "#E5ECF6",
            "gridcolor": "white",
            "gridwidth": 2,
            "linecolor": "white",
            "showbackground": true,
            "ticks": "",
            "zerolinecolor": "white"
           },
           "yaxis": {
            "backgroundcolor": "#E5ECF6",
            "gridcolor": "white",
            "gridwidth": 2,
            "linecolor": "white",
            "showbackground": true,
            "ticks": "",
            "zerolinecolor": "white"
           },
           "zaxis": {
            "backgroundcolor": "#E5ECF6",
            "gridcolor": "white",
            "gridwidth": 2,
            "linecolor": "white",
            "showbackground": true,
            "ticks": "",
            "zerolinecolor": "white"
           }
          },
          "shapedefaults": {
           "line": {
            "color": "#2a3f5f"
           }
          },
          "ternary": {
           "aaxis": {
            "gridcolor": "white",
            "linecolor": "white",
            "ticks": ""
           },
           "baxis": {
            "gridcolor": "white",
            "linecolor": "white",
            "ticks": ""
           },
           "bgcolor": "#E5ECF6",
           "caxis": {
            "gridcolor": "white",
            "linecolor": "white",
            "ticks": ""
           }
          },
          "title": {
           "x": 0.05
          },
          "xaxis": {
           "automargin": true,
           "gridcolor": "white",
           "linecolor": "white",
           "ticks": "",
           "title": {
            "standoff": 15
           },
           "zerolinecolor": "white",
           "zerolinewidth": 2
          },
          "yaxis": {
           "automargin": true,
           "gridcolor": "white",
           "linecolor": "white",
           "ticks": "",
           "title": {
            "standoff": 15
           },
           "zerolinecolor": "white",
           "zerolinewidth": 2
          }
         }
        },
        "title": {
         "text": "📊 Start vs End of Season ELO Progression (All Seasons)"
        },
        "xaxis": {
         "anchor": "y",
         "domain": [
          0,
          1
         ],
         "title": {
          "text": "Season"
         }
        },
        "yaxis": {
         "anchor": "x",
         "domain": [
          0,
          1
         ],
         "title": {
          "text": "ELO Rating"
         }
        }
       }
      }
     },
     "metadata": {},
     "output_type": "display_data"
    }
   ],
   "source": [
    "import pandas as pd\n",
    "import plotly.express as px\n",
    "\n",
    "# Load long-format ELO\n",
    "df = pd.read_csv(r\"C:\\Users\\User\\Desktop\\Soccer Footage\\metroleague_elo_long.csv\")\n",
    "\n",
    "# Sort by team and match number\n",
    "df = df.sort_values(by=[\"Team\", \"Season\", \"Season Match #\"])\n",
    "\n",
    "# Filter teams with enough total games (optional)\n",
    "min_games = 10\n",
    "team_counts = df[\"Team\"].value_counts()\n",
    "df = df[df[\"Team\"].isin(team_counts[team_counts >= min_games].index)]\n",
    "\n",
    "# Group by team and season to get first and last ELO\n",
    "start_elo = df.groupby([\"Team\", \"Season\"]).first().reset_index()[[\"Team\", \"Season\", \"ELO\"]].rename(columns={\"ELO\": \"Start ELO\"})\n",
    "end_elo = df.groupby([\"Team\", \"Season\"]).last().reset_index()[[\"Team\", \"Season\", \"ELO\"]].rename(columns={\"ELO\": \"End ELO\"})\n",
    "\n",
    "# Merge into single DataFrame\n",
    "elo_summary = pd.merge(start_elo, end_elo, on=[\"Team\", \"Season\"])\n",
    "\n",
    "# Plot\n",
    "fig = px.line(\n",
    "    elo_summary.sort_values(by=[\"Team\", \"Season\"]),\n",
    "    x=\"Season\",\n",
    "    y=\"End ELO\",\n",
    "    color=\"Team\",\n",
    "    line_group=\"Team\",\n",
    "    markers=True,\n",
    "    hover_data=[\"Team\", \"Start ELO\", \"End ELO\"],\n",
    "    title=\"📊 Start vs End of Season ELO Progression (All Seasons)\",\n",
    "    labels={\"End ELO\": \"End-of-Season ELO\"},\n",
    ")\n",
    "\n",
    "# Add start ELO markers\n",
    "for team in elo_summary['Team'].unique():\n",
    "    team_data = elo_summary[elo_summary['Team'] == team]\n",
    "    fig.add_scatter(\n",
    "        x=team_data['Season'],\n",
    "        y=team_data['Start ELO'],\n",
    "        mode='markers',\n",
    "        marker=dict(symbol='circle-open', size=8),\n",
    "        name=f\"{team} (Start)\",\n",
    "        legendgroup=team,\n",
    "        showlegend=False,\n",
    "        hoverinfo='text',\n",
    "        hovertext=[\n",
    "            f\"{team} — Start ELO: {elo}\" for elo in team_data['Start ELO']\n",
    "        ]\n",
    "    )\n",
    "\n",
    "fig.update_layout(\n",
    "    xaxis_title=\"Season\",\n",
    "    yaxis_title=\"ELO Rating\",\n",
    "    height=700,\n",
    "    hovermode=\"x unified\",\n",
    "    legend=dict(title=\"Team\", itemclick=\"toggleothers\"),\n",
    "    margin=dict(t=60, b=80)\n",
    ")\n",
    "\n",
    "fig.show()\n"
   ]
  },
  {
   "cell_type": "code",
   "execution_count": 20,
   "metadata": {},
   "outputs": [
    {
     "name": "stdout",
     "output_type": "stream",
     "text": [
      "\n",
      "📈 ELO Model Accuracy on 2024–25 Season:\n",
      "✅ Confident Predictions (W/L): 49 matches\n",
      "🎯 Accuracy: 57.14%\n",
      "\n",
      "❌ Sample Mismatches:\n",
      "        Home Team           Away Team  Home Score  Away Score  Win Prob  \\\n",
      "909  Seattle Prep            Garfield           5           0  0.379405   \n",
      "913   Nathan Hale     Seattle Academy           1           0  0.300052   \n",
      "918       Ballard            Garfield           1           1  0.285880   \n",
      "920      Franklin        West Seattle           3           1  0.279849   \n",
      "921     Roosevelt  Lakeside (Seattle)           4           3  0.105115   \n",
      "\n",
      "    Predicted Actual  \n",
      "909         L      W  \n",
      "913         L      W  \n",
      "918         L      T  \n",
      "920         L      W  \n",
      "921         L      W  \n",
      "⚖️ Toss-up calls were correct 11.11% of the time (i.e., ended in ties)\n"
     ]
    }
   ],
   "source": [
    "# Load your ELO match log\n",
    "elo_df = pd.read_csv(r\"C:\\Users\\User\\Desktop\\Soccer Footage\\metroleague_elo_log.csv\")\n",
    "\n",
    "# Step 1: Filter 2024–25 matches that have results\n",
    "test_df = elo_df[\n",
    "    (elo_df[\"Season\"] == \"2024-25\") &\n",
    "    (elo_df[\"Home Score\"].notna()) &\n",
    "    (elo_df[\"Away Score\"].notna()) &\n",
    "    ~((elo_df[\"Home Score\"] == 0) & (elo_df[\"Away Score\"] == 0))\n",
    "].copy()\n",
    "\n",
    "\n",
    "# Step 2: Calculate Win Probabilities for Home team\n",
    "def expected_result(home_elo, away_elo, hfa=100):\n",
    "    return 1 / (1 + 10 ** ((away_elo - home_elo + hfa) / 400))\n",
    "\n",
    "test_df[\"Win Prob\"] = test_df.apply(\n",
    "    lambda row: expected_result(row[\"Home ELO Before\"], row[\"Away ELO Before\"]), axis=1\n",
    ")\n",
    "\n",
    "# Step 3: Predict result\n",
    "def classify_prediction(p):\n",
    "    if p > 0.6:\n",
    "        return \"W\"\n",
    "    elif p < 0.4:\n",
    "        return \"L\"\n",
    "    else:\n",
    "        return \"Toss-up\"\n",
    "\n",
    "test_df[\"Predicted\"] = test_df[\"Win Prob\"].apply(classify_prediction)\n",
    "\n",
    "# Step 4: Actual result from score\n",
    "def actual_result(row):\n",
    "    if row[\"Home Score\"] > row[\"Away Score\"]:\n",
    "        return \"W\"\n",
    "    elif row[\"Home Score\"] < row[\"Away Score\"]:\n",
    "        return \"L\"\n",
    "    else:\n",
    "        return \"T\"\n",
    "\n",
    "test_df[\"Actual\"] = test_df.apply(actual_result, axis=1)\n",
    "\n",
    "# Step 5: Evaluate\n",
    "confident_preds = test_df[test_df[\"Predicted\"] != \"Toss-up\"]\n",
    "accuracy = (confident_preds[\"Predicted\"] == confident_preds[\"Actual\"]).mean()\n",
    "\n",
    "# Step 6: Output\n",
    "print(f\"\\n📈 ELO Model Accuracy on 2024–25 Season:\")\n",
    "print(f\"✅ Confident Predictions (W/L): {len(confident_preds)} matches\")\n",
    "print(f\"🎯 Accuracy: {accuracy:.2%}\")\n",
    "\n",
    "# Sample mismatches\n",
    "mismatches = confident_preds[confident_preds[\"Predicted\"] != confident_preds[\"Actual\"]]\n",
    "if not mismatches.empty:\n",
    "    print(\"\\n❌ Sample Mismatches:\")\n",
    "    print(mismatches[[\n",
    "        \"Home Team\", \"Away Team\", \"Home Score\", \"Away Score\",\n",
    "        \"Win Prob\", \"Predicted\", \"Actual\"\n",
    "    ]].head())\n",
    "else:\n",
    "    print(\"\\n✅ No mismatches in confident predictions!\")\n",
    "tossups = test_df[test_df[\"Predicted\"] == \"Toss-up\"]\n",
    "tossup_accuracy = (tossups[\"Actual\"] == \"T\").mean()\n",
    "print(f\"⚖️ Toss-up calls were correct {tossup_accuracy:.2%} of the time (i.e., ended in ties)\")\n"
   ]
  },
  {
   "cell_type": "code",
   "execution_count": 21,
   "metadata": {},
   "outputs": [
    {
     "data": {
      "application/vnd.plotly.v1+json": {
       "config": {
        "plotlyServerURL": "https://plot.ly"
       },
       "data": [
        {
         "customdata": [
          [
           "Nathan Hale",
           "Lakeside (Seattle)",
           "L",
           107,
           -7.53,
           "Home"
          ],
          [
           "Nathan Hale",
           "Seattle Academy",
           "W",
           108,
           16.98,
           "Home"
          ],
          [
           "Nathan Hale",
           "Franklin",
           "D",
           110,
           -16.41,
           "Home"
          ],
          [
           "Nathan Hale",
           "West Seattle",
           "L",
           111,
           -105.22,
           "Home"
          ],
          [
           "Nathan Hale",
           "Cleveland",
           "W",
           114,
           1.52,
           "Home"
          ],
          [
           "Nathan Hale",
           "Eastside Catholic",
           "L",
           109,
           -28.53,
           "Away"
          ],
          [
           "Nathan Hale",
           "Ingraham",
           "D",
           112,
           13.82,
           "Away"
          ],
          [
           "Nathan Hale",
           "Chief Sealth",
           "W",
           113,
           23.5,
           "Away"
          ],
          [
           "Nathan Hale",
           "Rainier Beach",
           "W",
           115,
           10.53,
           "Away"
          ]
         ],
         "hovertemplate": "Team=%{customdata[0]}<br>League Match Number=%{x}<br>ELO Rating=%{y}<br>Opponent=%{customdata[1]}<br>Result=%{customdata[2]}<br>Team's Match #=%{customdata[3]}<br>ELO Change=%{customdata[4]}<br>Location=%{customdata[5]}<extra></extra>",
         "legendgroup": "Nathan Hale",
         "line": {
          "color": "#636efa",
          "dash": "solid"
         },
         "marker": {
          "symbol": "circle"
         },
         "mode": "lines",
         "name": "Nathan Hale",
         "orientation": "v",
         "showlegend": true,
         "type": "scatter",
         "x": [
          1,
          6,
          19,
          25,
          50,
          9,
          40,
          44,
          59
         ],
         "xaxis": "x",
         "y": [
          1452.8525721694143,
          1469.8333867715492,
          1424.8969885502297,
          1319.6773132469011,
          1358.5256872097118,
          1441.3063994291592,
          1333.4985741296853,
          1357.00113744471,
          1369.0599843172754
         ],
         "yaxis": "y"
        },
        {
         "customdata": [
          [
           "Seattle Prep",
           "Garfield",
           "W",
           113,
           40.91,
           "Home"
          ],
          [
           "Seattle Prep",
           "Lincoln (Seattle)",
           "D",
           115,
           2.62,
           "Home"
          ],
          [
           "Seattle Prep",
           "O'Dea",
           "D",
           116,
           -10.34,
           "Home"
          ],
          [
           "Seattle Prep",
           "Roosevelt",
           "W",
           117,
           5.32,
           "Home"
          ],
          [
           "Seattle Prep",
           "Bishop Blanchet",
           "L",
           114,
           -68.69,
           "Away"
          ],
          [
           "Seattle Prep",
           "Lincoln (Seattle)",
           "D",
           118,
           13.56,
           "Away"
          ],
          [
           "Seattle Prep",
           "Lakeside (Seattle)",
           "W",
           119,
           39.67,
           "Away"
          ],
          [
           "Seattle Prep",
           "Garfield",
           "L",
           120,
           -21.85,
           "Away"
          ]
         ],
         "hovertemplate": "Team=%{customdata[0]}<br>League Match Number=%{x}<br>ELO Rating=%{y}<br>Opponent=%{customdata[1]}<br>Result=%{customdata[2]}<br>Team's Match #=%{customdata[3]}<br>ELO Change=%{customdata[4]}<br>Location=%{customdata[5]}<extra></extra>",
         "legendgroup": "Seattle Prep",
         "line": {
          "color": "#EF553B",
          "dash": "solid"
         },
         "marker": {
          "symbol": "circle"
         },
         "mode": "lines",
         "name": "Seattle Prep",
         "orientation": "v",
         "showlegend": true,
         "type": "scatter",
         "x": [
          2,
          16,
          23,
          31,
          15,
          38,
          46,
          53
         ],
         "xaxis": "x",
         "y": [
          1863.10088062131,
          1797.029726280712,
          1786.6909408871038,
          1792.0065566039352,
          1794.4090539452063,
          1805.5673940589973,
          1845.2404890328528,
          1823.393805597388
         ],
         "yaxis": "y"
        },
        {
         "customdata": [
          [
           "O'Dea",
           "Ballard",
           "L",
           115,
           -98.67,
           "Home"
          ],
          [
           "O'Dea",
           "Bishop Blanchet",
           "L",
           117,
           -16.01,
           "Home"
          ],
          [
           "O'Dea",
           "Lakeside (Seattle)",
           "W",
           118,
           58.31,
           "Home"
          ],
          [
           "O'Dea",
           "Seattle Prep",
           "D",
           116,
           10.34,
           "Away"
          ],
          [
           "O'Dea",
           "Garfield",
           "L",
           119,
           -16.15,
           "Away"
          ],
          [
           "O'Dea",
           "Ballard",
           "W",
           120,
           24.95,
           "Away"
          ]
         ],
         "hovertemplate": "Team=%{customdata[0]}<br>League Match Number=%{x}<br>ELO Rating=%{y}<br>Opponent=%{customdata[1]}<br>Result=%{customdata[2]}<br>Team's Match #=%{customdata[3]}<br>ELO Change=%{customdata[4]}<br>Location=%{customdata[5]}<extra></extra>",
         "legendgroup": "O'Dea",
         "line": {
          "color": "#00cc96",
          "dash": "solid"
         },
         "marker": {
          "symbol": "circle"
         },
         "mode": "lines",
         "name": "O'Dea",
         "orientation": "v",
         "showlegend": true,
         "type": "scatter",
         "x": [
          3,
          33,
          36,
          23,
          48,
          55
         ],
         "xaxis": "x",
         "y": [
          1676.5037473061816,
          1670.829898428098,
          1729.139202514608,
          1686.8425326997897,
          1712.9923203179137,
          1737.94704705272
         ],
         "yaxis": "y"
        },
        {
         "customdata": [
          [
           "West Seattle",
           "Ingraham",
           "L",
           110,
           -29.25,
           "Home"
          ],
          [
           "West Seattle",
           "Seattle Academy",
           "W",
           114,
           22.58,
           "Home"
          ],
          [
           "West Seattle",
           "Eastside Catholic",
           "D",
           115,
           5.92,
           "Home"
          ],
          [
           "West Seattle",
           "Franklin",
           "L",
           111,
           -35.89,
           "Away"
          ],
          [
           "West Seattle",
           "Nathan Hale",
           "W",
           112,
           105.22,
           "Away"
          ],
          [
           "West Seattle",
           "Chief Sealth",
           "W",
           113,
           57.53,
           "Away"
          ]
         ],
         "hovertemplate": "Team=%{customdata[0]}<br>League Match Number=%{x}<br>ELO Rating=%{y}<br>Opponent=%{customdata[1]}<br>Result=%{customdata[2]}<br>Team's Match #=%{customdata[3]}<br>ELO Change=%{customdata[4]}<br>Location=%{customdata[5]}<extra></extra>",
         "legendgroup": "West Seattle",
         "line": {
          "color": "#ab63fa",
          "dash": "solid"
         },
         "marker": {
          "symbol": "circle"
         },
         "mode": "lines",
         "name": "West Seattle",
         "orientation": "v",
         "showlegend": true,
         "type": "scatter",
         "x": [
          4,
          39,
          57,
          13,
          25,
          34
         ],
         "xaxis": "x",
         "y": [
          1219.8247250612317,
          1369.2666045280623,
          1375.183062698495,
          1183.9317955667714,
          1289.1514708700995,
          1346.68558181249
         ],
         "yaxis": "y"
        },
        {
         "customdata": [
          [
           "Chief Sealth",
           "Rainier Beach",
           "W",
           108,
           2.86,
           "Home"
          ],
          [
           "Chief Sealth",
           "Eastside Catholic",
           "L",
           110,
           -15.35,
           "Home"
          ],
          [
           "Chief Sealth",
           "West Seattle",
           "L",
           112,
           -57.53,
           "Home"
          ],
          [
           "Chief Sealth",
           "Nathan Hale",
           "L",
           113,
           -23.5,
           "Home"
          ],
          [
           "Chief Sealth",
           "Ingraham",
           "L",
           114,
           -39.41,
           "Home"
          ],
          [
           "Chief Sealth",
           "Seattle Academy",
           "L",
           109,
           -11.73,
           "Away"
          ],
          [
           "Chief Sealth",
           "Franklin",
           "L",
           111,
           -50.7,
           "Away"
          ],
          [
           "Chief Sealth",
           "Cleveland",
           "W",
           115,
           9.18,
           "Away"
          ]
         ],
         "hovertemplate": "Team=%{customdata[0]}<br>League Match Number=%{x}<br>ELO Rating=%{y}<br>Opponent=%{customdata[1]}<br>Result=%{customdata[2]}<br>Team's Match #=%{customdata[3]}<br>ELO Change=%{customdata[4]}<br>Location=%{customdata[5]}<extra></extra>",
         "legendgroup": "Chief Sealth",
         "line": {
          "color": "#FFA15A",
          "dash": "solid"
         },
         "marker": {
          "symbol": "circle"
         },
         "mode": "lines",
         "name": "Chief Sealth",
         "orientation": "v",
         "showlegend": true,
         "type": "scatter",
         "x": [
          5,
          18,
          34,
          44,
          49,
          10,
          26,
          56
         ],
         "xaxis": "x",
         "y": [
          1430.3045534527537,
          1403.2156919867116,
          1294.9780785529797,
          1271.4755152379548,
          1232.0641250871302,
          1418.5699483808778,
          1352.51218949537,
          1241.240609220779
         ],
         "yaxis": "y"
        },
        {
         "customdata": [
          [
           "Franklin",
           "Eastside Catholic",
           "L",
           103,
           -12.59,
           "Home"
          ],
          [
           "Franklin",
           "West Seattle",
           "W",
           104,
           35.89,
           "Home"
          ],
          [
           "Franklin",
           "Chief Sealth",
           "W",
           106,
           50.7,
           "Home"
          ],
          [
           "Franklin",
           "Ingraham",
           "L",
           107,
           -26.23,
           "Home"
          ],
          [
           "Franklin",
           "Rainier Beach",
           "W",
           109,
           7.26,
           "Home"
          ],
          [
           "Franklin",
           "Nathan Hale",
           "D",
           105,
           16.41,
           "Away"
          ],
          [
           "Franklin",
           "Cleveland",
           "W",
           108,
           3.13,
           "Away"
          ],
          [
           "Franklin",
           "Seattle Academy",
           "L",
           110,
           -14.98,
           "Away"
          ]
         ],
         "hovertemplate": "Team=%{customdata[0]}<br>League Match Number=%{x}<br>ELO Rating=%{y}<br>Opponent=%{customdata[1]}<br>Result=%{customdata[2]}<br>Team's Match #=%{customdata[3]}<br>ELO Change=%{customdata[4]}<br>Location=%{customdata[5]}<extra></extra>",
         "legendgroup": "Franklin",
         "line": {
          "color": "#19d3f3",
          "dash": "solid"
         },
         "marker": {
          "symbol": "circle"
         },
         "mode": "lines",
         "name": "Franklin",
         "orientation": "v",
         "showlegend": true,
         "type": "scatter",
         "x": [
          7,
          13,
          26,
          35,
          51,
          19,
          37,
          54
         ],
         "xaxis": "x",
         "y": [
          1155.6244482628315,
          1191.5173777572918,
          1258.6302911275632,
          1232.4003533366856,
          1242.7919057170996,
          1207.9267886362215,
          1235.5301439137909,
          1227.8093988674711
         ],
         "yaxis": "y"
        },
        {
         "customdata": [
          [
           "Bishop Blanchet",
           "Roosevelt",
           "W",
           112,
           27.99,
           "Home"
          ],
          [
           "Bishop Blanchet",
           "Seattle Prep",
           "W",
           113,
           68.69,
           "Home"
          ],
          [
           "Bishop Blanchet",
           "Garfield",
           "W",
           117,
           14.52,
           "Home"
          ],
          [
           "Bishop Blanchet",
           "Garfield",
           "W",
           114,
           74.72,
           "Away"
          ],
          [
           "Bishop Blanchet",
           "Lakeside (Seattle)",
           "D",
           115,
           1.22,
           "Away"
          ],
          [
           "Bishop Blanchet",
           "O'Dea",
           "W",
           116,
           16.01,
           "Away"
          ],
          [
           "Bishop Blanchet",
           "Ballard",
           "W",
           118,
           54.45,
           "Away"
          ],
          [
           "Bishop Blanchet",
           "Roosevelt",
           "W",
           119,
           11.91,
           "Away"
          ]
         ],
         "hovertemplate": "Team=%{customdata[0]}<br>League Match Number=%{x}<br>ELO Rating=%{y}<br>Opponent=%{customdata[1]}<br>Result=%{customdata[2]}<br>Team's Match #=%{customdata[3]}<br>ELO Change=%{customdata[4]}<br>Location=%{customdata[5]}<extra></extra>",
         "legendgroup": "Bishop Blanchet",
         "line": {
          "color": "#FF6692",
          "dash": "solid"
         },
         "marker": {
          "symbol": "circle"
         },
         "mode": "lines",
         "name": "Bishop Blanchet",
         "orientation": "v",
         "showlegend": true,
         "type": "scatter",
         "x": [
          8,
          15,
          43,
          20,
          21,
          33,
          47,
          58
         ],
         "xaxis": "x",
         "y": [
          1712.4134757103443,
          1781.105302386448,
          1887.585685957536,
          1855.8295334049044,
          1857.0504416037968,
          1873.0630758754885,
          1942.033135538547,
          1953.946102660516
         ],
         "yaxis": "y"
        },
        {
         "customdata": [
          [
           "Eastside Catholic",
           "Nathan Hale",
           "W",
           106,
           28.53,
           "Home"
          ],
          [
           "Eastside Catholic",
           "Cleveland",
           "W",
           108,
           0.35,
           "Home"
          ],
          [
           "Eastside Catholic",
           "Seattle Academy",
           "D",
           110,
           -11.87,
           "Home"
          ],
          [
           "Eastside Catholic",
           "Franklin",
           "W",
           105,
           12.59,
           "Away"
          ],
          [
           "Eastside Catholic",
           "Chief Sealth",
           "W",
           107,
           15.35,
           "Away"
          ],
          [
           "Eastside Catholic",
           "Rainier Beach",
           "W",
           109,
           2.71,
           "Away"
          ],
          [
           "Eastside Catholic",
           "West Seattle",
           "D",
           111,
           -5.92,
           "Away"
          ]
         ],
         "hovertemplate": "Team=%{customdata[0]}<br>League Match Number=%{x}<br>ELO Rating=%{y}<br>Opponent=%{customdata[1]}<br>Result=%{customdata[2]}<br>Team's Match #=%{customdata[3]}<br>ELO Change=%{customdata[4]}<br>Location=%{customdata[5]}<extra></extra>",
         "legendgroup": "Eastside Catholic",
         "line": {
          "color": "#B6E880",
          "dash": "solid"
         },
         "marker": {
          "symbol": "circle"
         },
         "mode": "lines",
         "name": "Eastside Catholic",
         "orientation": "v",
         "showlegend": true,
         "type": "scatter",
         "x": [
          9,
          29,
          45,
          7,
          18,
          42,
          57
         ],
         "xaxis": "x",
         "y": [
          1600.7752034586863,
          1616.4828876780575,
          1607.3209258369793,
          1572.2482161162966,
          1616.1294598528527,
          1619.1907554097552,
          1601.404467666547
         ],
         "yaxis": "y"
        },
        {
         "customdata": [
          [
           "Seattle Academy",
           "Chief Sealth",
           "W",
           2,
           11.73,
           "Home"
          ],
          [
           "Seattle Academy",
           "Ingraham",
           "D",
           3,
           -4.79,
           "Home"
          ],
          [
           "Seattle Academy",
           "Rainier Beach",
           "W",
           4,
           1.81,
           "Home"
          ],
          [
           "Seattle Academy",
           "Franklin",
           "W",
           7,
           14.98,
           "Home"
          ],
          [
           "Seattle Academy",
           "Nathan Hale",
           "L",
           1,
           -16.98,
           "Away"
          ],
          [
           "Seattle Academy",
           "West Seattle",
           "L",
           5,
           -22.58,
           "Away"
          ],
          [
           "Seattle Academy",
           "Eastside Catholic",
           "D",
           6,
           11.87,
           "Away"
          ]
         ],
         "hovertemplate": "Team=%{customdata[0]}<br>League Match Number=%{x}<br>ELO Rating=%{y}<br>Opponent=%{customdata[1]}<br>Result=%{customdata[2]}<br>Team's Match #=%{customdata[3]}<br>ELO Change=%{customdata[4]}<br>Location=%{customdata[5]}<extra></extra>",
         "legendgroup": "Seattle Academy",
         "line": {
          "color": "#FF97FF",
          "dash": "solid"
         },
         "marker": {
          "symbol": "circle"
         },
         "mode": "lines",
         "name": "Seattle Academy",
         "orientation": "v",
         "showlegend": true,
         "type": "scatter",
         "x": [
          10,
          22,
          30,
          54,
          6,
          39,
          45
         ],
         "xaxis": "x",
         "y": [
          1494.753790469741,
          1489.9678024968453,
          1491.773963743468,
          1496.0452774503,
          1483.0191853978654,
          1469.1929410278958,
          1481.0627706006717
         ],
         "yaxis": "y"
        },
        {
         "customdata": [
          [
           "Ballard",
           "Garfield",
           "D",
           122,
           -1.38,
           "Home"
          ],
          [
           "Ballard",
           "Bishop Blanchet",
           "L",
           126,
           -54.45,
           "Home"
          ],
          [
           "Ballard",
           "O'Dea",
           "L",
           127,
           -24.95,
           "Home"
          ],
          [
           "Ballard",
           "O'Dea",
           "W",
           121,
           98.67,
           "Away"
          ],
          [
           "Ballard",
           "Lincoln (Seattle)",
           "L",
           123,
           -13.67,
           "Away"
          ],
          [
           "Ballard",
           "Lakeside (Seattle)",
           "W",
           124,
           30.33,
           "Away"
          ],
          [
           "Ballard",
           "Roosevelt",
           "W",
           125,
           32.33,
           "Away"
          ]
         ],
         "hovertemplate": "Team=%{customdata[0]}<br>League Match Number=%{x}<br>ELO Rating=%{y}<br>Opponent=%{customdata[1]}<br>Result=%{customdata[2]}<br>Team's Match #=%{customdata[3]}<br>ELO Change=%{customdata[4]}<br>Location=%{customdata[5]}<extra></extra>",
         "legendgroup": "Ballard",
         "line": {
          "color": "#FECB52",
          "dash": "solid"
         },
         "marker": {
          "symbol": "circle"
         },
         "mode": "lines",
         "name": "Ballard",
         "orientation": "v",
         "showlegend": true,
         "type": "scatter",
         "x": [
          11,
          47,
          55,
          3,
          24,
          32,
          41
         ],
         "xaxis": "x",
         "y": [
          1706.3482202247058,
          1700.8934156521648,
          1675.9386889173584,
          1707.7284733675767,
          1692.6774465271617,
          1723.0123527428932,
          1755.3408652331757
         ],
         "yaxis": "y"
        },
        {
         "customdata": [
          [
           "Cleveland",
           "Ingraham",
           "L",
           123,
           -2.33,
           "Home"
          ],
          [
           "Cleveland",
           "Franklin",
           "L",
           126,
           -3.13,
           "Home"
          ],
          [
           "Cleveland",
           "Chief Sealth",
           "L",
           128,
           -9.18,
           "Home"
          ],
          [
           "Cleveland",
           "Rainier Beach",
           "D",
           124,
           13.67,
           "Away"
          ],
          [
           "Cleveland",
           "Eastside Catholic",
           "L",
           125,
           -0.35,
           "Away"
          ],
          [
           "Cleveland",
           "Nathan Hale",
           "L",
           127,
           -1.52,
           "Away"
          ]
         ],
         "hovertemplate": "Team=%{customdata[0]}<br>League Match Number=%{x}<br>ELO Rating=%{y}<br>Opponent=%{customdata[1]}<br>Result=%{customdata[2]}<br>Team's Match #=%{customdata[3]}<br>ELO Change=%{customdata[4]}<br>Location=%{customdata[5]}<extra></extra>",
         "legendgroup": "Cleveland",
         "line": {
          "color": "#636efa",
          "dash": "solid"
         },
         "marker": {
          "symbol": "circle"
         },
         "mode": "lines",
         "name": "Cleveland",
         "orientation": "v",
         "showlegend": true,
         "type": "scatter",
         "x": [
          12,
          37,
          56,
          27,
          29,
          50
         ],
         "xaxis": "x",
         "y": [
          690.6186161259873,
          700.8064324689735,
          690.1053985703226,
          704.2896508712836,
          703.9362230460788,
          699.2818827039717
         ],
         "yaxis": "y"
        },
        {
         "customdata": [
          [
           "Roosevelt",
           "Lakeside (Seattle)",
           "W",
           119,
           29.17,
           "Home"
          ],
          [
           "Roosevelt",
           "Ballard",
           "L",
           122,
           -32.33,
           "Home"
          ],
          [
           "Roosevelt",
           "Lincoln (Seattle)",
           "D",
           123,
           16,
           "Home"
          ],
          [
           "Roosevelt",
           "Bishop Blanchet",
           "L",
           124,
           -11.91,
           "Home"
          ],
          [
           "Roosevelt",
           "Bishop Blanchet",
           "L",
           118,
           -27.99,
           "Away"
          ],
          [
           "Roosevelt",
           "Garfield",
           "L",
           120,
           -18.03,
           "Away"
          ],
          [
           "Roosevelt",
           "Seattle Prep",
           "L",
           121,
           -5.32,
           "Away"
          ]
         ],
         "hovertemplate": "Team=%{customdata[0]}<br>League Match Number=%{x}<br>ELO Rating=%{y}<br>Opponent=%{customdata[1]}<br>Result=%{customdata[2]}<br>Team's Match #=%{customdata[3]}<br>ELO Change=%{customdata[4]}<br>Location=%{customdata[5]}<extra></extra>",
         "legendgroup": "Roosevelt",
         "line": {
          "color": "#EF553B",
          "dash": "solid"
         },
         "marker": {
          "symbol": "circle"
         },
         "mode": "lines",
         "name": "Roosevelt",
         "orientation": "v",
         "showlegend": true,
         "type": "scatter",
         "x": [
          14,
          41,
          52,
          58,
          8,
          28,
          31
         ],
         "xaxis": "x",
         "y": [
          1578.8838599581643,
          1523.214647692176,
          1539.21534931927,
          1527.302382197301,
          1549.7175642070922,
          1560.85877589929,
          1555.5431601824585
         ],
         "yaxis": "y"
        },
        {
         "customdata": [
          [
           "Ingraham",
           "Rainier Beach",
           "W",
           109,
           2.13,
           "Home"
          ],
          [
           "Ingraham",
           "Nathan Hale",
           "D",
           112,
           -13.82,
           "Home"
          ],
          [
           "Ingraham",
           "West Seattle",
           "W",
           107,
           29.25,
           "Away"
          ],
          [
           "Ingraham",
           "Cleveland",
           "W",
           108,
           2.33,
           "Away"
          ],
          [
           "Ingraham",
           "Seattle Academy",
           "D",
           110,
           4.79,
           "Away"
          ],
          [
           "Ingraham",
           "Franklin",
           "W",
           111,
           26.23,
           "Away"
          ],
          [
           "Ingraham",
           "Chief Sealth",
           "W",
           113,
           39.41,
           "Away"
          ]
         ],
         "hovertemplate": "Team=%{customdata[0]}<br>League Match Number=%{x}<br>ELO Rating=%{y}<br>Opponent=%{customdata[1]}<br>Result=%{customdata[2]}<br>Team's Match #=%{customdata[3]}<br>ELO Change=%{customdata[4]}<br>Location=%{customdata[5]}<extra></extra>",
         "legendgroup": "Ingraham",
         "line": {
          "color": "#00cc96",
          "dash": "solid"
         },
         "marker": {
          "symbol": "circle"
         },
         "mode": "lines",
         "name": "Ingraham",
         "orientation": "v",
         "showlegend": true,
         "type": "scatter",
         "x": [
          17,
          40,
          4,
          12,
          22,
          35,
          49
         ],
         "xaxis": "x",
         "y": [
          1478.5416144950138,
          1495.7362793760033,
          1474.0761381785042,
          1476.4087572893416,
          1483.3276024679096,
          1509.5575402587872,
          1535.147669526828
         ],
         "yaxis": "y"
        },
        {
         "customdata": [
          [
           "Garfield",
           "Bishop Blanchet",
           "L",
           121,
           -74.72,
           "Home"
          ],
          [
           "Garfield",
           "Roosevelt",
           "W",
           122,
           18.03,
           "Home"
          ],
          [
           "Garfield",
           "O'Dea",
           "W",
           124,
           16.15,
           "Home"
          ],
          [
           "Garfield",
           "Seattle Prep",
           "W",
           125,
           21.85,
           "Home"
          ],
          [
           "Garfield",
           "Seattle Prep",
           "L",
           119,
           -40.91,
           "Away"
          ],
          [
           "Garfield",
           "Ballard",
           "D",
           120,
           1.38,
           "Away"
          ],
          [
           "Garfield",
           "Bishop Blanchet",
           "L",
           123,
           -14.52,
           "Away"
          ]
         ],
         "hovertemplate": "Team=%{customdata[0]}<br>League Match Number=%{x}<br>ELO Rating=%{y}<br>Opponent=%{customdata[1]}<br>Result=%{customdata[2]}<br>Team's Match #=%{customdata[3]}<br>ELO Change=%{customdata[4]}<br>Location=%{customdata[5]}<extra></extra>",
         "legendgroup": "Garfield",
         "line": {
          "color": "#ab63fa",
          "dash": "solid"
         },
         "marker": {
          "symbol": "circle"
         },
         "mode": "lines",
         "name": "Garfield",
         "orientation": "v",
         "showlegend": true,
         "type": "scatter",
         "x": [
          20,
          28,
          48,
          53,
          2,
          11,
          43
         ],
         "xaxis": "x",
         "y": [
          1693.419319033636,
          1711.4444030925106,
          1713.0686752071574,
          1734.915358642622,
          1766.7632969092213,
          1768.1435500520922,
          1696.921793010463
         ],
         "yaxis": "y"
        },
        {
         "customdata": [
          [
           "Lakeside (Seattle)",
           "Bishop Blanchet",
           "D",
           122,
           -1.22,
           "Home"
          ],
          [
           "Lakeside (Seattle)",
           "Ballard",
           "L",
           123,
           -30.33,
           "Home"
          ],
          [
           "Lakeside (Seattle)",
           "Seattle Prep",
           "L",
           125,
           -39.67,
           "Home"
          ],
          [
           "Lakeside (Seattle)",
           "Nathan Hale",
           "W",
           120,
           7.53,
           "Away"
          ],
          [
           "Lakeside (Seattle)",
           "Roosevelt",
           "L",
           121,
           -29.17,
           "Away"
          ],
          [
           "Lakeside (Seattle)",
           "O'Dea",
           "L",
           124,
           -58.31,
           "Away"
          ]
         ],
         "hovertemplate": "Team=%{customdata[0]}<br>League Match Number=%{x}<br>ELO Rating=%{y}<br>Opponent=%{customdata[1]}<br>Result=%{customdata[2]}<br>Team's Match #=%{customdata[3]}<br>ELO Change=%{customdata[4]}<br>Location=%{customdata[5]}<extra></extra>",
         "legendgroup": "Lakeside (Seattle)",
         "line": {
          "color": "#FFA15A",
          "dash": "solid"
         },
         "marker": {
          "symbol": "circle"
         },
         "mode": "lines",
         "name": "Lakeside (Seattle)",
         "orientation": "v",
         "showlegend": true,
         "type": "scatter",
         "x": [
          21,
          32,
          46,
          1,
          14,
          36
         ],
         "xaxis": "x",
         "y": [
          1791.372080161903,
          1761.0371739461716,
          1663.0547748858064,
          1821.759284111868,
          1792.5929883607955,
          1702.7278698596615
         ],
         "yaxis": "y"
        },
        {
         "customdata": [
          [
           "Lincoln (Seattle)",
           "Ballard",
           "W",
           63,
           13.67,
           "Home"
          ],
          [
           "Lincoln (Seattle)",
           "Seattle Prep",
           "D",
           64,
           -13.56,
           "Home"
          ],
          [
           "Lincoln (Seattle)",
           "Seattle Prep",
           "D",
           62,
           -2.62,
           "Away"
          ],
          [
           "Lincoln (Seattle)",
           "Roosevelt",
           "D",
           65,
           -16,
           "Away"
          ]
         ],
         "hovertemplate": "Team=%{customdata[0]}<br>League Match Number=%{x}<br>ELO Rating=%{y}<br>Opponent=%{customdata[1]}<br>Result=%{customdata[2]}<br>Team's Match #=%{customdata[3]}<br>ELO Change=%{customdata[4]}<br>Location=%{customdata[5]}<extra></extra>",
         "legendgroup": "Lincoln (Seattle)",
         "line": {
          "color": "#19d3f3",
          "dash": "solid"
         },
         "marker": {
          "symbol": "circle"
         },
         "mode": "lines",
         "name": "Lincoln (Seattle)",
         "orientation": "v",
         "showlegend": true,
         "type": "scatter",
         "x": [
          24,
          38,
          16,
          52
         ],
         "xaxis": "x",
         "y": [
          1976.3628177665137,
          1962.8019803114516,
          1962.6920440689696,
          1946.8012786843572
         ],
         "yaxis": "y"
        },
        {
         "customdata": [
          [
           "Rainier Beach",
           "Cleveland",
           "D",
           136,
           -13.67,
           "Home"
          ],
          [
           "Rainier Beach",
           "Eastside Catholic",
           "L",
           138,
           -2.71,
           "Home"
          ],
          [
           "Rainier Beach",
           "Nathan Hale",
           "L",
           140,
           -10.53,
           "Home"
          ],
          [
           "Rainier Beach",
           "Chief Sealth",
           "L",
           134,
           -2.86,
           "Away"
          ],
          [
           "Rainier Beach",
           "Ingraham",
           "L",
           135,
           -2.13,
           "Away"
          ],
          [
           "Rainier Beach",
           "Seattle Academy",
           "L",
           137,
           -1.81,
           "Away"
          ],
          [
           "Rainier Beach",
           "Franklin",
           "L",
           139,
           -7.26,
           "Away"
          ]
         ],
         "hovertemplate": "Team=%{customdata[0]}<br>League Match Number=%{x}<br>ELO Rating=%{y}<br>Opponent=%{customdata[1]}<br>Result=%{customdata[2]}<br>Team's Match #=%{customdata[3]}<br>ELO Change=%{customdata[4]}<br>Location=%{customdata[5]}<extra></extra>",
         "legendgroup": "Rainier Beach",
         "line": {
          "color": "#FF6692",
          "dash": "solid"
         },
         "marker": {
          "symbol": "circle"
         },
         "mode": "lines",
         "name": "Rainier Beach",
         "orientation": "v",
         "showlegend": true,
         "type": "scatter",
         "x": [
          27,
          42,
          59,
          5,
          17,
          30,
          51
         ],
         "xaxis": "x",
         "y": [
          863.6324751509669,
          859.1184461726465,
          841.3223872617742,
          879.4363671019356,
          877.3035098962632,
          861.8263139043441,
          851.8566843693379
         ],
         "yaxis": "y"
        }
       ],
       "layout": {
        "height": 700,
        "hovermode": "x unified",
        "legend": {
         "itemclick": "toggleothers",
         "title": {
          "text": "Team"
         },
         "tracegroupgap": 0,
         "traceorder": "normal"
        },
        "margin": {
         "b": 50,
         "t": 50
        },
        "template": {
         "data": {
          "bar": [
           {
            "error_x": {
             "color": "#2a3f5f"
            },
            "error_y": {
             "color": "#2a3f5f"
            },
            "marker": {
             "line": {
              "color": "#E5ECF6",
              "width": 0.5
             },
             "pattern": {
              "fillmode": "overlay",
              "size": 10,
              "solidity": 0.2
             }
            },
            "type": "bar"
           }
          ],
          "barpolar": [
           {
            "marker": {
             "line": {
              "color": "#E5ECF6",
              "width": 0.5
             },
             "pattern": {
              "fillmode": "overlay",
              "size": 10,
              "solidity": 0.2
             }
            },
            "type": "barpolar"
           }
          ],
          "carpet": [
           {
            "aaxis": {
             "endlinecolor": "#2a3f5f",
             "gridcolor": "white",
             "linecolor": "white",
             "minorgridcolor": "white",
             "startlinecolor": "#2a3f5f"
            },
            "baxis": {
             "endlinecolor": "#2a3f5f",
             "gridcolor": "white",
             "linecolor": "white",
             "minorgridcolor": "white",
             "startlinecolor": "#2a3f5f"
            },
            "type": "carpet"
           }
          ],
          "choropleth": [
           {
            "colorbar": {
             "outlinewidth": 0,
             "ticks": ""
            },
            "type": "choropleth"
           }
          ],
          "contour": [
           {
            "colorbar": {
             "outlinewidth": 0,
             "ticks": ""
            },
            "colorscale": [
             [
              0,
              "#0d0887"
             ],
             [
              0.1111111111111111,
              "#46039f"
             ],
             [
              0.2222222222222222,
              "#7201a8"
             ],
             [
              0.3333333333333333,
              "#9c179e"
             ],
             [
              0.4444444444444444,
              "#bd3786"
             ],
             [
              0.5555555555555556,
              "#d8576b"
             ],
             [
              0.6666666666666666,
              "#ed7953"
             ],
             [
              0.7777777777777778,
              "#fb9f3a"
             ],
             [
              0.8888888888888888,
              "#fdca26"
             ],
             [
              1,
              "#f0f921"
             ]
            ],
            "type": "contour"
           }
          ],
          "contourcarpet": [
           {
            "colorbar": {
             "outlinewidth": 0,
             "ticks": ""
            },
            "type": "contourcarpet"
           }
          ],
          "heatmap": [
           {
            "colorbar": {
             "outlinewidth": 0,
             "ticks": ""
            },
            "colorscale": [
             [
              0,
              "#0d0887"
             ],
             [
              0.1111111111111111,
              "#46039f"
             ],
             [
              0.2222222222222222,
              "#7201a8"
             ],
             [
              0.3333333333333333,
              "#9c179e"
             ],
             [
              0.4444444444444444,
              "#bd3786"
             ],
             [
              0.5555555555555556,
              "#d8576b"
             ],
             [
              0.6666666666666666,
              "#ed7953"
             ],
             [
              0.7777777777777778,
              "#fb9f3a"
             ],
             [
              0.8888888888888888,
              "#fdca26"
             ],
             [
              1,
              "#f0f921"
             ]
            ],
            "type": "heatmap"
           }
          ],
          "heatmapgl": [
           {
            "colorbar": {
             "outlinewidth": 0,
             "ticks": ""
            },
            "colorscale": [
             [
              0,
              "#0d0887"
             ],
             [
              0.1111111111111111,
              "#46039f"
             ],
             [
              0.2222222222222222,
              "#7201a8"
             ],
             [
              0.3333333333333333,
              "#9c179e"
             ],
             [
              0.4444444444444444,
              "#bd3786"
             ],
             [
              0.5555555555555556,
              "#d8576b"
             ],
             [
              0.6666666666666666,
              "#ed7953"
             ],
             [
              0.7777777777777778,
              "#fb9f3a"
             ],
             [
              0.8888888888888888,
              "#fdca26"
             ],
             [
              1,
              "#f0f921"
             ]
            ],
            "type": "heatmapgl"
           }
          ],
          "histogram": [
           {
            "marker": {
             "pattern": {
              "fillmode": "overlay",
              "size": 10,
              "solidity": 0.2
             }
            },
            "type": "histogram"
           }
          ],
          "histogram2d": [
           {
            "colorbar": {
             "outlinewidth": 0,
             "ticks": ""
            },
            "colorscale": [
             [
              0,
              "#0d0887"
             ],
             [
              0.1111111111111111,
              "#46039f"
             ],
             [
              0.2222222222222222,
              "#7201a8"
             ],
             [
              0.3333333333333333,
              "#9c179e"
             ],
             [
              0.4444444444444444,
              "#bd3786"
             ],
             [
              0.5555555555555556,
              "#d8576b"
             ],
             [
              0.6666666666666666,
              "#ed7953"
             ],
             [
              0.7777777777777778,
              "#fb9f3a"
             ],
             [
              0.8888888888888888,
              "#fdca26"
             ],
             [
              1,
              "#f0f921"
             ]
            ],
            "type": "histogram2d"
           }
          ],
          "histogram2dcontour": [
           {
            "colorbar": {
             "outlinewidth": 0,
             "ticks": ""
            },
            "colorscale": [
             [
              0,
              "#0d0887"
             ],
             [
              0.1111111111111111,
              "#46039f"
             ],
             [
              0.2222222222222222,
              "#7201a8"
             ],
             [
              0.3333333333333333,
              "#9c179e"
             ],
             [
              0.4444444444444444,
              "#bd3786"
             ],
             [
              0.5555555555555556,
              "#d8576b"
             ],
             [
              0.6666666666666666,
              "#ed7953"
             ],
             [
              0.7777777777777778,
              "#fb9f3a"
             ],
             [
              0.8888888888888888,
              "#fdca26"
             ],
             [
              1,
              "#f0f921"
             ]
            ],
            "type": "histogram2dcontour"
           }
          ],
          "mesh3d": [
           {
            "colorbar": {
             "outlinewidth": 0,
             "ticks": ""
            },
            "type": "mesh3d"
           }
          ],
          "parcoords": [
           {
            "line": {
             "colorbar": {
              "outlinewidth": 0,
              "ticks": ""
             }
            },
            "type": "parcoords"
           }
          ],
          "pie": [
           {
            "automargin": true,
            "type": "pie"
           }
          ],
          "scatter": [
           {
            "fillpattern": {
             "fillmode": "overlay",
             "size": 10,
             "solidity": 0.2
            },
            "type": "scatter"
           }
          ],
          "scatter3d": [
           {
            "line": {
             "colorbar": {
              "outlinewidth": 0,
              "ticks": ""
             }
            },
            "marker": {
             "colorbar": {
              "outlinewidth": 0,
              "ticks": ""
             }
            },
            "type": "scatter3d"
           }
          ],
          "scattercarpet": [
           {
            "marker": {
             "colorbar": {
              "outlinewidth": 0,
              "ticks": ""
             }
            },
            "type": "scattercarpet"
           }
          ],
          "scattergeo": [
           {
            "marker": {
             "colorbar": {
              "outlinewidth": 0,
              "ticks": ""
             }
            },
            "type": "scattergeo"
           }
          ],
          "scattergl": [
           {
            "marker": {
             "colorbar": {
              "outlinewidth": 0,
              "ticks": ""
             }
            },
            "type": "scattergl"
           }
          ],
          "scattermapbox": [
           {
            "marker": {
             "colorbar": {
              "outlinewidth": 0,
              "ticks": ""
             }
            },
            "type": "scattermapbox"
           }
          ],
          "scatterpolar": [
           {
            "marker": {
             "colorbar": {
              "outlinewidth": 0,
              "ticks": ""
             }
            },
            "type": "scatterpolar"
           }
          ],
          "scatterpolargl": [
           {
            "marker": {
             "colorbar": {
              "outlinewidth": 0,
              "ticks": ""
             }
            },
            "type": "scatterpolargl"
           }
          ],
          "scatterternary": [
           {
            "marker": {
             "colorbar": {
              "outlinewidth": 0,
              "ticks": ""
             }
            },
            "type": "scatterternary"
           }
          ],
          "surface": [
           {
            "colorbar": {
             "outlinewidth": 0,
             "ticks": ""
            },
            "colorscale": [
             [
              0,
              "#0d0887"
             ],
             [
              0.1111111111111111,
              "#46039f"
             ],
             [
              0.2222222222222222,
              "#7201a8"
             ],
             [
              0.3333333333333333,
              "#9c179e"
             ],
             [
              0.4444444444444444,
              "#bd3786"
             ],
             [
              0.5555555555555556,
              "#d8576b"
             ],
             [
              0.6666666666666666,
              "#ed7953"
             ],
             [
              0.7777777777777778,
              "#fb9f3a"
             ],
             [
              0.8888888888888888,
              "#fdca26"
             ],
             [
              1,
              "#f0f921"
             ]
            ],
            "type": "surface"
           }
          ],
          "table": [
           {
            "cells": {
             "fill": {
              "color": "#EBF0F8"
             },
             "line": {
              "color": "white"
             }
            },
            "header": {
             "fill": {
              "color": "#C8D4E3"
             },
             "line": {
              "color": "white"
             }
            },
            "type": "table"
           }
          ]
         },
         "layout": {
          "annotationdefaults": {
           "arrowcolor": "#2a3f5f",
           "arrowhead": 0,
           "arrowwidth": 1
          },
          "autotypenumbers": "strict",
          "coloraxis": {
           "colorbar": {
            "outlinewidth": 0,
            "ticks": ""
           }
          },
          "colorscale": {
           "diverging": [
            [
             0,
             "#8e0152"
            ],
            [
             0.1,
             "#c51b7d"
            ],
            [
             0.2,
             "#de77ae"
            ],
            [
             0.3,
             "#f1b6da"
            ],
            [
             0.4,
             "#fde0ef"
            ],
            [
             0.5,
             "#f7f7f7"
            ],
            [
             0.6,
             "#e6f5d0"
            ],
            [
             0.7,
             "#b8e186"
            ],
            [
             0.8,
             "#7fbc41"
            ],
            [
             0.9,
             "#4d9221"
            ],
            [
             1,
             "#276419"
            ]
           ],
           "sequential": [
            [
             0,
             "#0d0887"
            ],
            [
             0.1111111111111111,
             "#46039f"
            ],
            [
             0.2222222222222222,
             "#7201a8"
            ],
            [
             0.3333333333333333,
             "#9c179e"
            ],
            [
             0.4444444444444444,
             "#bd3786"
            ],
            [
             0.5555555555555556,
             "#d8576b"
            ],
            [
             0.6666666666666666,
             "#ed7953"
            ],
            [
             0.7777777777777778,
             "#fb9f3a"
            ],
            [
             0.8888888888888888,
             "#fdca26"
            ],
            [
             1,
             "#f0f921"
            ]
           ],
           "sequentialminus": [
            [
             0,
             "#0d0887"
            ],
            [
             0.1111111111111111,
             "#46039f"
            ],
            [
             0.2222222222222222,
             "#7201a8"
            ],
            [
             0.3333333333333333,
             "#9c179e"
            ],
            [
             0.4444444444444444,
             "#bd3786"
            ],
            [
             0.5555555555555556,
             "#d8576b"
            ],
            [
             0.6666666666666666,
             "#ed7953"
            ],
            [
             0.7777777777777778,
             "#fb9f3a"
            ],
            [
             0.8888888888888888,
             "#fdca26"
            ],
            [
             1,
             "#f0f921"
            ]
           ]
          },
          "colorway": [
           "#636efa",
           "#EF553B",
           "#00cc96",
           "#ab63fa",
           "#FFA15A",
           "#19d3f3",
           "#FF6692",
           "#B6E880",
           "#FF97FF",
           "#FECB52"
          ],
          "font": {
           "color": "#2a3f5f"
          },
          "geo": {
           "bgcolor": "white",
           "lakecolor": "white",
           "landcolor": "#E5ECF6",
           "showlakes": true,
           "showland": true,
           "subunitcolor": "white"
          },
          "hoverlabel": {
           "align": "left"
          },
          "hovermode": "closest",
          "mapbox": {
           "style": "light"
          },
          "paper_bgcolor": "white",
          "plot_bgcolor": "#E5ECF6",
          "polar": {
           "angularaxis": {
            "gridcolor": "white",
            "linecolor": "white",
            "ticks": ""
           },
           "bgcolor": "#E5ECF6",
           "radialaxis": {
            "gridcolor": "white",
            "linecolor": "white",
            "ticks": ""
           }
          },
          "scene": {
           "xaxis": {
            "backgroundcolor": "#E5ECF6",
            "gridcolor": "white",
            "gridwidth": 2,
            "linecolor": "white",
            "showbackground": true,
            "ticks": "",
            "zerolinecolor": "white"
           },
           "yaxis": {
            "backgroundcolor": "#E5ECF6",
            "gridcolor": "white",
            "gridwidth": 2,
            "linecolor": "white",
            "showbackground": true,
            "ticks": "",
            "zerolinecolor": "white"
           },
           "zaxis": {
            "backgroundcolor": "#E5ECF6",
            "gridcolor": "white",
            "gridwidth": 2,
            "linecolor": "white",
            "showbackground": true,
            "ticks": "",
            "zerolinecolor": "white"
           }
          },
          "shapedefaults": {
           "line": {
            "color": "#2a3f5f"
           }
          },
          "ternary": {
           "aaxis": {
            "gridcolor": "white",
            "linecolor": "white",
            "ticks": ""
           },
           "baxis": {
            "gridcolor": "white",
            "linecolor": "white",
            "ticks": ""
           },
           "bgcolor": "#E5ECF6",
           "caxis": {
            "gridcolor": "white",
            "linecolor": "white",
            "ticks": ""
           }
          },
          "title": {
           "x": 0.05
          },
          "xaxis": {
           "automargin": true,
           "gridcolor": "white",
           "linecolor": "white",
           "ticks": "",
           "title": {
            "standoff": 15
           },
           "zerolinecolor": "white",
           "zerolinewidth": 2
          },
          "yaxis": {
           "automargin": true,
           "gridcolor": "white",
           "linecolor": "white",
           "ticks": "",
           "title": {
            "standoff": 15
           },
           "zerolinecolor": "white",
           "zerolinewidth": 2
          }
         }
        },
        "title": {
         "text": "ELO Progression - 2024-25 Season (Shared League Timeline)"
        },
        "xaxis": {
         "anchor": "y",
         "domain": [
          0,
          1
         ],
         "showgrid": true,
         "title": {
          "text": "League Match Number"
         }
        },
        "yaxis": {
         "anchor": "x",
         "domain": [
          0,
          1
         ],
         "showgrid": true,
         "title": {
          "text": "ELO Rating"
         }
        }
       }
      }
     },
     "metadata": {},
     "output_type": "display_data"
    }
   ],
   "source": [
    "import pandas as pd\n",
    "import plotly.express as px\n",
    "\n",
    "# Load the ELO match log\n",
    "df = pd.read_csv(r\"C:\\Users\\User\\Desktop\\Soccer Footage\\metroleague_elo_log.csv\")\n",
    "\n",
    "# Create a consistent order for all matches per season (scraper's order or raw index)\n",
    "df[\"Row Order\"] = range(len(df))\n",
    "df = df.sort_values(by=[\"Season\", \"Row Order\"])\n",
    "\n",
    "# Add a Global Match Number per Season (shared league timeline)\n",
    "df[\"Global Match #\"] = df.groupby(\"Season\").cumcount() + 1\n",
    "\n",
    "# Assign a row ID to map back after long transformation\n",
    "df[\"Match ID\"] = df.index\n",
    "\n",
    "# -----------------------------\n",
    "# Long-format Transformation\n",
    "# -----------------------------\n",
    "home_df = df[[\n",
    "    \"Match ID\", \"Season\", \"Global Match #\", \"Date\",\n",
    "    \"Home Team\", \"Away Team\", \"Home Score\", \"Away Score\",\n",
    "    \"Home ELO Before\", \"Home ELO After\", \"Home ELO Change\", \"Home Match #\"\n",
    "]].copy()\n",
    "\n",
    "home_df.columns = [\n",
    "    \"Match ID\", \"Season\", \"Global Match #\", \"Date\",\n",
    "    \"Team\", \"Opponent\", \"Goals For\", \"Goals Against\",\n",
    "    \"ELO Before\", \"ELO After\", \"ELO Δ\", \"Team Match #\"\n",
    "]\n",
    "home_df[\"Location\"] = \"Home\"\n",
    "\n",
    "away_df = df[[\n",
    "    \"Match ID\", \"Season\", \"Global Match #\", \"Date\",\n",
    "    \"Away Team\", \"Home Team\", \"Away Score\", \"Home Score\",\n",
    "    \"Away ELO Before\", \"Away ELO After\", \"Away ELO Change\", \"Away Match #\"\n",
    "]].copy()\n",
    "\n",
    "away_df.columns = [\n",
    "    \"Match ID\", \"Season\", \"Global Match #\", \"Date\",\n",
    "    \"Team\", \"Opponent\", \"Goals For\", \"Goals Against\",\n",
    "    \"ELO Before\", \"ELO After\", \"ELO Δ\", \"Team Match #\"\n",
    "]\n",
    "away_df[\"Location\"] = \"Away\"\n",
    "\n",
    "# Combine Home and Away\n",
    "long_df = pd.concat([home_df, away_df], ignore_index=True)\n",
    "\n",
    "# Compute Match Result (W/L/D)\n",
    "long_df[\"Result\"] = long_df.apply(\n",
    "    lambda row: \"W\" if row[\"Goals For\"] > row[\"Goals Against\"]\n",
    "    else \"L\" if row[\"Goals For\"] < row[\"Goals Against\"]\n",
    "    else \"D\", axis=1\n",
    ")\n",
    "\n",
    "# Clean ELO Δ and match #\n",
    "long_df[\"ELO Δ\"] = long_df[\"ELO Δ\"].round(2)\n",
    "long_df[\"Team Match #\"] = long_df[\"Team Match #\"].astype(int)\n",
    "\n",
    "# -----------------------------\n",
    "# Filter to Latest Season Only\n",
    "# -----------------------------\n",
    "latest_season = long_df[\"Season\"].max()\n",
    "df_current = long_df[long_df[\"Season\"] == latest_season].copy()\n",
    "\n",
    "# -----------------------------\n",
    "# Plot: ELO Progression (Shared League Timeline)\n",
    "# -----------------------------\n",
    "fig = px.line(\n",
    "    df_current,\n",
    "    x=\"Global Match #\",\n",
    "    y=\"ELO After\",\n",
    "    color=\"Team\",\n",
    "    line_group=\"Team\",\n",
    "    hover_data={\n",
    "        \"Team\": True,\n",
    "        \"Opponent\": True,\n",
    "        \"Result\": True,\n",
    "        \"Global Match #\": True,\n",
    "        \"Team Match #\": True,\n",
    "        \"ELO After\": True,\n",
    "        \"ELO Δ\": True,\n",
    "        \"Location\": True,\n",
    "    },\n",
    "    title=f\"ELO Progression - {latest_season} Season (Shared League Timeline)\",\n",
    "    labels={\n",
    "        \"Global Match #\": \"League Match Number\",\n",
    "        \"ELO After\": \"ELO Rating\",\n",
    "        \"ELO Δ\": \"ELO Change\",\n",
    "        \"Team Match #\": \"Team's Match #\"\n",
    "    },\n",
    ")\n",
    "\n",
    "fig.update_layout(\n",
    "    hovermode=\"x unified\",\n",
    "    xaxis=dict(showgrid=True),\n",
    "    yaxis=dict(showgrid=True),\n",
    "    legend=dict(title=\"Team\", traceorder=\"normal\", itemclick=\"toggleothers\"),\n",
    "    height=700,\n",
    "    margin=dict(t=50, b=50),\n",
    ")\n",
    "\n",
    "fig.show()\n",
    "\n"
   ]
  }
 ],
 "metadata": {
  "kernelspec": {
   "display_name": "base",
   "language": "python",
   "name": "python3"
  },
  "language_info": {
   "codemirror_mode": {
    "name": "ipython",
    "version": 3
   },
   "file_extension": ".py",
   "mimetype": "text/x-python",
   "name": "python",
   "nbconvert_exporter": "python",
   "pygments_lexer": "ipython3",
   "version": "3.8.8"
  }
 },
 "nbformat": 4,
 "nbformat_minor": 2
}

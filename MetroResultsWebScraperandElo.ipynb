{
 "cells": [
  {
   "cell_type": "code",
   "execution_count": 216,
   "metadata": {},
   "outputs": [],
   "source": [
    "from selenium import webdriver\n",
    "from selenium.webdriver.common.by import By\n",
    "from selenium.webdriver.support.ui import WebDriverWait\n",
    "from selenium.webdriver.support import expected_conditions as EC\n",
    "from selenium.webdriver.support.ui import Select\n",
    "import time\n",
    "import pandas as pd\n",
    "from collections import defaultdict\n"
   ]
  },
  {
   "cell_type": "code",
   "execution_count": 217,
   "metadata": {},
   "outputs": [],
   "source": [
    "# Set up the Selenium driver\n",
    "driver = webdriver.Chrome()\n",
    "url = \"https://www.metroleaguewa.org/sport/?leagueid=8&sportid=9\"\n",
    "driver.get(url)"
   ]
  },
  {
   "cell_type": "code",
   "execution_count": 218,
   "metadata": {},
   "outputs": [],
   "source": [
    "# Wait for dropdown to load\n",
    "WebDriverWait(driver, 15).until(EC.presence_of_element_located((By.ID, \"select_level_id\")))\n",
    "\n",
    "options = driver.find_elements(By.CSS_SELECTOR, \"#select_level_id option\")\n",
    "valid_seasons = []"
   ]
  },
  {
   "cell_type": "code",
   "execution_count": 219,
   "metadata": {},
   "outputs": [],
   "source": [
    "for i in range(len(options)):\n",
    "    text = options[i].text.strip()\n",
    "    value = options[i].get_attribute(\"value\")\n",
    "    if \"Varsity\" in text and not any(x in text for x in [\"Junior\", \"C-Team\"]):\n",
    "        if i > 0 and not options[i - 1].get_attribute(\"value\").startswith(\"?\"):\n",
    "            year = options[i - 1].text.strip()\n",
    "            if year >= \"2016-17\":\n",
    "                valid_seasons.append((year, value))\n",
    "\n",
    "all_matches = []\n",
    "all_standings = []\n",
    "team_class = {}"
   ]
  },
  {
   "cell_type": "code",
   "execution_count": 220,
   "metadata": {},
   "outputs": [],
   "source": [
    "# Collect all Varsity options starting from 2016-17\n",
    "options = driver.find_elements(By.CSS_SELECTOR, \"#select_level_id option\")\n",
    "\n",
    "# Filter for Varsity entries only (exclude Junior Varsity or C-Team)\n",
    "valid_seasons = []\n",
    "for i in range(len(options)):\n",
    "    text = options[i].text.strip()\n",
    "    value = options[i].get_attribute(\"value\")\n",
    "    if \"Varsity\" in text and not any(x in text for x in [\"Junior\", \"C-Team\"]):\n",
    "        if i > 0 and not options[i - 1].get_attribute(\"value\").startswith(\"?\"):\n",
    "            year = options[i - 1].text.strip()\n",
    "            if year >= \"2016-17\":\n",
    "                valid_seasons.append((year, value))\n",
    "\n",
    "varsity_links = []\n",
    "for option in options:\n",
    "    text = option.text.strip()\n",
    "    value = option.get_attribute(\"value\")\n",
    "    if \"Varsity\" in text and value.startswith(\"?\") and text[:7] >= \"2016-17\":\n",
    "        full_url = f\"https://www.metroleaguewa.org/sport/{value}\"\n",
    "        varsity_links.append((text, full_url))\n",
    "\n",
    "all_matches = []\n",
    "all_standings = []"
   ]
  },
  {
   "cell_type": "code",
   "execution_count": 221,
   "metadata": {},
   "outputs": [
    {
     "name": "stdout",
     "output_type": "stream",
     "text": [
      "Scraping 2024-25 Varsity → https://www.metroleaguewa.org/sport/?leagueid=8&sportid=9&school_year=2024-25&level_id=12#schedule\n",
      "Standings error for 2024-25: Message: \n",
      "Stacktrace:\n",
      "\tGetHandleVerifier [0x00007FF6400A4C25+3179557]\n",
      "\t(No symbol) [0x00007FF63FD088A0]\n",
      "\t(No symbol) [0x00007FF63FB991CA]\n",
      "\t(No symbol) [0x00007FF63FBEFA67]\n",
      "\t(No symbol) [0x00007FF63FBEFC9C]\n",
      "\t(No symbol) [0x00007FF63FC43627]\n",
      "\t(No symbol) [0x00007FF63FC17C6F]\n",
      "\t(No symbol) [0x00007FF63FC402F3]\n",
      "\t(No symbol) [0x00007FF63FC17A03]\n",
      "\t(No symbol) [0x00007FF63FBE06D0]\n",
      "\t(No symbol) [0x00007FF63FBE1983]\n",
      "\tGetHandleVerifier [0x00007FF6401067CD+3579853]\n",
      "\tGetHandleVerifier [0x00007FF64011D1D2+3672530]\n",
      "\tGetHandleVerifier [0x00007FF640112153+3627347]\n",
      "\tGetHandleVerifier [0x00007FF63FE7092A+868650]\n",
      "\t(No symbol) [0x00007FF63FD12FFF]\n",
      "\t(No symbol) [0x00007FF63FD0F4A4]\n",
      "\t(No symbol) [0x00007FF63FD0F646]\n",
      "\t(No symbol) [0x00007FF63FCFEAA9]\n",
      "\tBaseThreadInitThunk [0x00007FFDFFDC7374+20]\n",
      "\tRtlUserThreadStart [0x00007FFE006DCC91+33]\n",
      "\n",
      "Scraping 2023-24 Varsity → https://www.metroleaguewa.org/sport/?leagueid=8&sportid=9&school_year=2023-24&level_id=12#schedule\n",
      "Standings error for 2023-24: Message: element click intercepted: Element is not clickable at point (574, 935)\n",
      "  (Session info: chrome=134.0.6998.89)\n",
      "Stacktrace:\n",
      "\tGetHandleVerifier [0x00007FF6400A4C25+3179557]\n",
      "\t(No symbol) [0x00007FF63FD088A0]\n",
      "\t(No symbol) [0x00007FF63FB991CA]\n",
      "\t(No symbol) [0x00007FF63FBF7929]\n",
      "\t(No symbol) [0x00007FF63FBF52E2]\n",
      "\t(No symbol) [0x00007FF63FBF2381]\n",
      "\t(No symbol) [0x00007FF63FBF1281]\n",
      "\t(No symbol) [0x00007FF63FBE2A24]\n",
      "\t(No symbol) [0x00007FF63FC17C2A]\n",
      "\t(No symbol) [0x00007FF63FBE22D6]\n",
      "\t(No symbol) [0x00007FF63FC17E40]\n",
      "\t(No symbol) [0x00007FF63FC402F3]\n",
      "\t(No symbol) [0x00007FF63FC17A03]\n",
      "\t(No symbol) [0x00007FF63FBE06D0]\n",
      "\t(No symbol) [0x00007FF63FBE1983]\n",
      "\tGetHandleVerifier [0x00007FF6401067CD+3579853]\n",
      "\tGetHandleVerifier [0x00007FF64011D1D2+3672530]\n",
      "\tGetHandleVerifier [0x00007FF640112153+3627347]\n",
      "\tGetHandleVerifier [0x00007FF63FE7092A+868650]\n",
      "\t(No symbol) [0x00007FF63FD12FFF]\n",
      "\t(No symbol) [0x00007FF63FD0F4A4]\n",
      "\t(No symbol) [0x00007FF63FD0F646]\n",
      "\t(No symbol) [0x00007FF63FCFEAA9]\n",
      "\tBaseThreadInitThunk [0x00007FFDFFDC7374+20]\n",
      "\tRtlUserThreadStart [0x00007FFE006DCC91+33]\n",
      "\n",
      "Scraping 2022-23 Varsity → https://www.metroleaguewa.org/sport/?leagueid=8&sportid=9&school_year=2022-23&level_id=12#schedule\n",
      "Standings error for 2022-23: Message: element click intercepted: Element is not clickable at point (574, 935)\n",
      "  (Session info: chrome=134.0.6998.89)\n",
      "Stacktrace:\n",
      "\tGetHandleVerifier [0x00007FF6400A4C25+3179557]\n",
      "\t(No symbol) [0x00007FF63FD088A0]\n",
      "\t(No symbol) [0x00007FF63FB991CA]\n",
      "\t(No symbol) [0x00007FF63FBF7929]\n",
      "\t(No symbol) [0x00007FF63FBF52E2]\n",
      "\t(No symbol) [0x00007FF63FBF2381]\n",
      "\t(No symbol) [0x00007FF63FBF1281]\n",
      "\t(No symbol) [0x00007FF63FBE2A24]\n",
      "\t(No symbol) [0x00007FF63FC17C2A]\n",
      "\t(No symbol) [0x00007FF63FBE22D6]\n",
      "\t(No symbol) [0x00007FF63FC17E40]\n",
      "\t(No symbol) [0x00007FF63FC402F3]\n",
      "\t(No symbol) [0x00007FF63FC17A03]\n",
      "\t(No symbol) [0x00007FF63FBE06D0]\n",
      "\t(No symbol) [0x00007FF63FBE1983]\n",
      "\tGetHandleVerifier [0x00007FF6401067CD+3579853]\n",
      "\tGetHandleVerifier [0x00007FF64011D1D2+3672530]\n",
      "\tGetHandleVerifier [0x00007FF640112153+3627347]\n",
      "\tGetHandleVerifier [0x00007FF63FE7092A+868650]\n",
      "\t(No symbol) [0x00007FF63FD12FFF]\n",
      "\t(No symbol) [0x00007FF63FD0F4A4]\n",
      "\t(No symbol) [0x00007FF63FD0F646]\n",
      "\t(No symbol) [0x00007FF63FCFEAA9]\n",
      "\tBaseThreadInitThunk [0x00007FFDFFDC7374+20]\n",
      "\tRtlUserThreadStart [0x00007FFE006DCC91+33]\n",
      "\n",
      "Scraping 2021-22 Varsity → https://www.metroleaguewa.org/sport/?leagueid=8&sportid=9&school_year=2021-22&level_id=12#schedule\n",
      "Standings error for 2021-22: Message: element click intercepted: Element is not clickable at point (574, 935)\n",
      "  (Session info: chrome=134.0.6998.89)\n",
      "Stacktrace:\n",
      "\tGetHandleVerifier [0x00007FF6400A4C25+3179557]\n",
      "\t(No symbol) [0x00007FF63FD088A0]\n",
      "\t(No symbol) [0x00007FF63FB991CA]\n",
      "\t(No symbol) [0x00007FF63FBF7929]\n",
      "\t(No symbol) [0x00007FF63FBF52E2]\n",
      "\t(No symbol) [0x00007FF63FBF2381]\n",
      "\t(No symbol) [0x00007FF63FBF1281]\n",
      "\t(No symbol) [0x00007FF63FBE2A24]\n",
      "\t(No symbol) [0x00007FF63FC17C2A]\n",
      "\t(No symbol) [0x00007FF63FBE22D6]\n",
      "\t(No symbol) [0x00007FF63FC17E40]\n",
      "\t(No symbol) [0x00007FF63FC402F3]\n",
      "\t(No symbol) [0x00007FF63FC17A03]\n",
      "\t(No symbol) [0x00007FF63FBE06D0]\n",
      "\t(No symbol) [0x00007FF63FBE1983]\n",
      "\tGetHandleVerifier [0x00007FF6401067CD+3579853]\n",
      "\tGetHandleVerifier [0x00007FF64011D1D2+3672530]\n",
      "\tGetHandleVerifier [0x00007FF640112153+3627347]\n",
      "\tGetHandleVerifier [0x00007FF63FE7092A+868650]\n",
      "\t(No symbol) [0x00007FF63FD12FFF]\n",
      "\t(No symbol) [0x00007FF63FD0F4A4]\n",
      "\t(No symbol) [0x00007FF63FD0F646]\n",
      "\t(No symbol) [0x00007FF63FCFEAA9]\n",
      "\tBaseThreadInitThunk [0x00007FFDFFDC7374+20]\n",
      "\tRtlUserThreadStart [0x00007FFE006DCC91+33]\n",
      "\n",
      "Scraping 2020-21 Varsity → https://www.metroleaguewa.org/sport/?leagueid=8&sportid=9&school_year=2020-21&level_id=12#schedule\n",
      "Standings error for 2020-21: Message: element click intercepted: Element is not clickable at point (574, 935)\n",
      "  (Session info: chrome=134.0.6998.89)\n",
      "Stacktrace:\n",
      "\tGetHandleVerifier [0x00007FF6400A4C25+3179557]\n",
      "\t(No symbol) [0x00007FF63FD088A0]\n",
      "\t(No symbol) [0x00007FF63FB991CA]\n",
      "\t(No symbol) [0x00007FF63FBF7929]\n",
      "\t(No symbol) [0x00007FF63FBF52E2]\n",
      "\t(No symbol) [0x00007FF63FBF2381]\n",
      "\t(No symbol) [0x00007FF63FBF1281]\n",
      "\t(No symbol) [0x00007FF63FBE2A24]\n",
      "\t(No symbol) [0x00007FF63FC17C2A]\n",
      "\t(No symbol) [0x00007FF63FBE22D6]\n",
      "\t(No symbol) [0x00007FF63FC17E40]\n",
      "\t(No symbol) [0x00007FF63FC402F3]\n",
      "\t(No symbol) [0x00007FF63FC17A03]\n",
      "\t(No symbol) [0x00007FF63FBE06D0]\n",
      "\t(No symbol) [0x00007FF63FBE1983]\n",
      "\tGetHandleVerifier [0x00007FF6401067CD+3579853]\n",
      "\tGetHandleVerifier [0x00007FF64011D1D2+3672530]\n",
      "\tGetHandleVerifier [0x00007FF640112153+3627347]\n",
      "\tGetHandleVerifier [0x00007FF63FE7092A+868650]\n",
      "\t(No symbol) [0x00007FF63FD12FFF]\n",
      "\t(No symbol) [0x00007FF63FD0F4A4]\n",
      "\t(No symbol) [0x00007FF63FD0F646]\n",
      "\t(No symbol) [0x00007FF63FCFEAA9]\n",
      "\tBaseThreadInitThunk [0x00007FFDFFDC7374+20]\n",
      "\tRtlUserThreadStart [0x00007FFE006DCC91+33]\n",
      "\n",
      "Scraping 2019-20 Varsity → https://www.metroleaguewa.org/sport/?leagueid=8&sportid=9&school_year=2019-20&level_id=12#schedule\n",
      "Standings error for 2019-20: Message: \n",
      "Stacktrace:\n",
      "\tGetHandleVerifier [0x00007FF6400A4C25+3179557]\n",
      "\t(No symbol) [0x00007FF63FD088A0]\n",
      "\t(No symbol) [0x00007FF63FB991CA]\n",
      "\t(No symbol) [0x00007FF63FBEFA67]\n",
      "\t(No symbol) [0x00007FF63FBEFC9C]\n",
      "\t(No symbol) [0x00007FF63FC43627]\n",
      "\t(No symbol) [0x00007FF63FC17C6F]\n",
      "\t(No symbol) [0x00007FF63FC402F3]\n",
      "\t(No symbol) [0x00007FF63FC17A03]\n",
      "\t(No symbol) [0x00007FF63FBE06D0]\n",
      "\t(No symbol) [0x00007FF63FBE1983]\n",
      "\tGetHandleVerifier [0x00007FF6401067CD+3579853]\n",
      "\tGetHandleVerifier [0x00007FF64011D1D2+3672530]\n",
      "\tGetHandleVerifier [0x00007FF640112153+3627347]\n",
      "\tGetHandleVerifier [0x00007FF63FE7092A+868650]\n",
      "\t(No symbol) [0x00007FF63FD12FFF]\n",
      "\t(No symbol) [0x00007FF63FD0F4A4]\n",
      "\t(No symbol) [0x00007FF63FD0F646]\n",
      "\t(No symbol) [0x00007FF63FCFEAA9]\n",
      "\tBaseThreadInitThunk [0x00007FFDFFDC7374+20]\n",
      "\tRtlUserThreadStart [0x00007FFE006DCC91+33]\n",
      "\n",
      "Scraping 2018-19 Varsity → https://www.metroleaguewa.org/sport/?leagueid=8&sportid=9&school_year=2018-19&level_id=12#schedule\n",
      "Standings error for 2018-19: Message: \n",
      "Stacktrace:\n",
      "\tGetHandleVerifier [0x00007FF6400A4C25+3179557]\n",
      "\t(No symbol) [0x00007FF63FD088A0]\n",
      "\t(No symbol) [0x00007FF63FB991CA]\n",
      "\t(No symbol) [0x00007FF63FBEFA67]\n",
      "\t(No symbol) [0x00007FF63FBEFC9C]\n",
      "\t(No symbol) [0x00007FF63FC43627]\n",
      "\t(No symbol) [0x00007FF63FC17C6F]\n",
      "\t(No symbol) [0x00007FF63FC402F3]\n",
      "\t(No symbol) [0x00007FF63FC17A03]\n",
      "\t(No symbol) [0x00007FF63FBE06D0]\n",
      "\t(No symbol) [0x00007FF63FBE1983]\n",
      "\tGetHandleVerifier [0x00007FF6401067CD+3579853]\n",
      "\tGetHandleVerifier [0x00007FF64011D1D2+3672530]\n",
      "\tGetHandleVerifier [0x00007FF640112153+3627347]\n",
      "\tGetHandleVerifier [0x00007FF63FE7092A+868650]\n",
      "\t(No symbol) [0x00007FF63FD12FFF]\n",
      "\t(No symbol) [0x00007FF63FD0F4A4]\n",
      "\t(No symbol) [0x00007FF63FD0F646]\n",
      "\t(No symbol) [0x00007FF63FCFEAA9]\n",
      "\tBaseThreadInitThunk [0x00007FFDFFDC7374+20]\n",
      "\tRtlUserThreadStart [0x00007FFE006DCC91+33]\n",
      "\n",
      "Scraping 2017-18 Varsity → https://www.metroleaguewa.org/sport/?leagueid=8&sportid=9&school_year=2017-18&level_id=12#schedule\n",
      "Standings error for 2017-18: Message: \n",
      "Stacktrace:\n",
      "\tGetHandleVerifier [0x00007FF6400A4C25+3179557]\n",
      "\t(No symbol) [0x00007FF63FD088A0]\n",
      "\t(No symbol) [0x00007FF63FB991CA]\n",
      "\t(No symbol) [0x00007FF63FBEFA67]\n",
      "\t(No symbol) [0x00007FF63FBEFC9C]\n",
      "\t(No symbol) [0x00007FF63FC43627]\n",
      "\t(No symbol) [0x00007FF63FC17C6F]\n",
      "\t(No symbol) [0x00007FF63FC402F3]\n",
      "\t(No symbol) [0x00007FF63FC17A03]\n",
      "\t(No symbol) [0x00007FF63FBE06D0]\n",
      "\t(No symbol) [0x00007FF63FBE1983]\n",
      "\tGetHandleVerifier [0x00007FF6401067CD+3579853]\n",
      "\tGetHandleVerifier [0x00007FF64011D1D2+3672530]\n",
      "\tGetHandleVerifier [0x00007FF640112153+3627347]\n",
      "\tGetHandleVerifier [0x00007FF63FE7092A+868650]\n",
      "\t(No symbol) [0x00007FF63FD12FFF]\n",
      "\t(No symbol) [0x00007FF63FD0F4A4]\n",
      "\t(No symbol) [0x00007FF63FD0F646]\n",
      "\t(No symbol) [0x00007FF63FCFEAA9]\n",
      "\tBaseThreadInitThunk [0x00007FFDFFDC7374+20]\n",
      "\tRtlUserThreadStart [0x00007FFE006DCC91+33]\n",
      "\n",
      "Scraping 2016-17 Varsity → https://www.metroleaguewa.org/sport/?leagueid=8&sportid=9&school_year=2016-17&level_id=12#schedule\n",
      "Standings error for 2016-17: Message: \n",
      "Stacktrace:\n",
      "\tGetHandleVerifier [0x00007FF6400A4C25+3179557]\n",
      "\t(No symbol) [0x00007FF63FD088A0]\n",
      "\t(No symbol) [0x00007FF63FB991CA]\n",
      "\t(No symbol) [0x00007FF63FBEFA67]\n",
      "\t(No symbol) [0x00007FF63FBEFC9C]\n",
      "\t(No symbol) [0x00007FF63FC43627]\n",
      "\t(No symbol) [0x00007FF63FC17C6F]\n",
      "\t(No symbol) [0x00007FF63FC402F3]\n",
      "\t(No symbol) [0x00007FF63FC17A03]\n",
      "\t(No symbol) [0x00007FF63FBE06D0]\n",
      "\t(No symbol) [0x00007FF63FBE1983]\n",
      "\tGetHandleVerifier [0x00007FF6401067CD+3579853]\n",
      "\tGetHandleVerifier [0x00007FF64011D1D2+3672530]\n",
      "\tGetHandleVerifier [0x00007FF640112153+3627347]\n",
      "\tGetHandleVerifier [0x00007FF63FE7092A+868650]\n",
      "\t(No symbol) [0x00007FF63FD12FFF]\n",
      "\t(No symbol) [0x00007FF63FD0F4A4]\n",
      "\t(No symbol) [0x00007FF63FD0F646]\n",
      "\t(No symbol) [0x00007FF63FCFEAA9]\n",
      "\tBaseThreadInitThunk [0x00007FFDFFDC7374+20]\n",
      "\tRtlUserThreadStart [0x00007FFE006DCC91+33]\n",
      "\n"
     ]
    }
   ],
   "source": [
    "for year, value in valid_seasons:\n",
    "    link = f\"https://www.metroleaguewa.org/sport/{value}\"\n",
    "    print(f\"Scraping {year} Varsity → {link}\")\n",
    "    driver.get(link)\n",
    "    time.sleep(3)\n",
    "\n",
    "    # Set date range to Full Season\n",
    "    try:\n",
    "        WebDriverWait(driver, 10).until(EC.presence_of_element_located((By.ID, \"filter_date_range_kword\")))\n",
    "        dropdown = driver.find_element(By.ID, \"filter_date_range_kword\")\n",
    "        driver.execute_script(\n",
    "            \"arguments[0].value='season'; arguments[0].dispatchEvent(new Event('change'));\", dropdown\n",
    "        )\n",
    "        time.sleep(3)\n",
    "    except Exception as e:\n",
    "        print(f\"Failed to set Full Season filter: {e}\")\n",
    "\n",
    "    # Scrape match data\n",
    "    try:\n",
    "        WebDriverWait(driver, 10).until(EC.presence_of_element_located((By.CLASS_NAME, \"schedule_date_contents\")))\n",
    "        event_rows = driver.find_elements(By.CSS_SELECTOR, \".event_row\")\n",
    "        for row in event_rows:\n",
    "            try:\n",
    "                # Safely check game type\n",
    "                try:\n",
    "                    game_type = row.find_element(By.CLASS_NAME, \"game_type\").text.strip()\n",
    "                except:\n",
    "                    game_type = \"\"\n",
    "\n",
    "                # Skip only scrimmage/jamboree\n",
    "                if game_type in [\"Scrimmage\", \"Jamboree\"]:\n",
    "                    continue\n",
    "\n",
    "                date = row.find_element(By.CLASS_NAME, \"event_time\").text.strip()\n",
    "                away_team = row.find_element(By.CSS_SELECTOR, \".event_team .event_team_name\").text.strip()\n",
    "                away_score = row.find_element(By.CSS_SELECTOR, \".event_team .event_team_score\").text.strip()\n",
    "                home_team = row.find_element(By.CSS_SELECTOR, \".event_team_home .event_team_name\").text.strip()\n",
    "                home_score = row.find_element(By.CSS_SELECTOR, \".event_team_home .event_team_score\").text.strip()\n",
    "\n",
    "                match_data = {\n",
    "                    \"Season\": year,\n",
    "                    \"Date\": date,\n",
    "                    \"Home Team\": home_team,\n",
    "                    \"Away Team\": away_team,\n",
    "                    \"Home Score\": home_score,\n",
    "                    \"Away Score\": away_score,\n",
    "                    \"Game Type\": game_type,\n",
    "                    \"Home Classification\": team_class.get(home_team, \"Unknown\"),\n",
    "                    \"Away Classification\": team_class.get(away_team, \"Unknown\"),\n",
    "                }\n",
    "                all_matches.append(match_data)\n",
    "            except Exception as e:\n",
    "                print(f\"Failed to parse match row: {e}\")\n",
    "    except Exception as e:\n",
    "        print(f\"Match load error for {year}: {e}\")\n",
    "\n",
    "    # Scrape standings for classification\n",
    "    try:\n",
    "        standings_tab = WebDriverWait(driver, 10).until(EC.element_to_be_clickable((By.LINK_TEXT, \"Standings\")))\n",
    "        standings_tab.click()\n",
    "        time.sleep(2)\n",
    "\n",
    "        WebDriverWait(driver, 15).until(EC.presence_of_element_located((By.CSS_SELECTOR, \".standings-content table\")))\n",
    "\n",
    "        rows = driver.find_elements(By.CSS_SELECTOR, \".standings-content table tbody tr\")\n",
    "        for row in rows:\n",
    "            cols = row.find_elements(By.TAG_NAME, \"td\")\n",
    "            if len(cols) >= 8:\n",
    "                team_name = cols[0].text.strip()\n",
    "                classification = cols[-1].text.strip()\n",
    "\n",
    "                standings_data = {\n",
    "                    \"Season\": year,\n",
    "                    \"Team\": team_name,\n",
    "                    \"Classification\": classification,\n",
    "                    \"Wins\": cols[1].text,\n",
    "                    \"Losses\": cols[2].text,\n",
    "                    \"Ties\": cols[3].text,\n",
    "                    \"Win %\": cols[4].text,\n",
    "                    \"Points\": cols[5].text,\n",
    "                    \"Goals For\": cols[6].text,\n",
    "                    \"Goals Against\": cols[7].text if len(cols) > 7 else \"\",\n",
    "                }\n",
    "                all_standings.append(standings_data)\n",
    "                team_class[team_name] = classification\n",
    "    except Exception as e:\n",
    "        print(f\"Standings error for {year}: {e}\")\n",
    "\n",
    "driver.quit()\n",
    "\n",
    "# Save final outputs\n",
    "matches_df = pd.DataFrame(all_matches)\n",
    "standings_df = pd.DataFrame(all_standings)\n",
    "\n",
    "matches_df.to_csv(r\"C:\\Users\\User\\Desktop\\Soccer Footage\\metroleague_soccer_results_filtered.csv\", index=False)\n",
    "standings_df.to_csv(r\"C:\\Users\\User\\Desktop\\Soccer Footage\\metroleague_soccer_standings_with_class.csv\", index=False)"
   ]
  },
  {
   "cell_type": "code",
   "execution_count": 277,
   "metadata": {},
   "outputs": [],
   "source": [
    "# -------------------------------\n",
    "# Define normalization mappings\n",
    "# -------------------------------\n",
    "TEAM_NAME_CORRECTIONS = {\n",
    "    \"Lakeside\": \"Lakeside (Seattle)\",\n",
    "    \"Lakeside (Sea)\": \"Lakeside (Seattle)\",\n",
    "    \"Seattle Prep.\": \"Seattle Prep\",\n",
    "    # Add more corrections here as needed\n",
    "}\n",
    "\n",
    "def normalize_team_name(name):\n",
    "    return TEAM_NAME_CORRECTIONS.get(name, name)\n",
    "\n",
    "# -------------------------------\n",
    "# Load and normalize match results\n",
    "# -------------------------------\n",
    "matches_df = pd.read_csv(r\"C:\\Users\\User\\Desktop\\Soccer Footage\\metroleague_soccer_results_filtered.csv\")\n",
    "\n",
    "# Apply normalization to Home and Away Teams\n",
    "matches_df[\"Home Team\"] = matches_df[\"Home Team\"].apply(normalize_team_name)\n",
    "matches_df[\"Away Team\"] = matches_df[\"Away Team\"].apply(normalize_team_name)\n",
    "\n",
    "# -------------------------------\n",
    "# Load and normalize classification\n",
    "# -------------------------------\n",
    "class_df = pd.read_csv(r\"C:\\Users\\User\\Desktop\\Soccer Footage\\school_classification_by_season.csv\")\n",
    "\n",
    "# Normalize classification data too\n",
    "class_df[\"School\"] = class_df[\"School\"].apply(normalize_team_name)\n",
    "\n",
    "# -------------------------------\n",
    "# Merge classification into matches\n",
    "# -------------------------------\n",
    "matches_df = matches_df.merge(\n",
    "    class_df, left_on=[\"Season\", \"Home Team\"], right_on=[\"Season\", \"School\"], how=\"left\"\n",
    ").rename(columns={\"Classification\": \"Home Classification\"}).drop(columns=[\"School\"])\n",
    "\n",
    "matches_df = matches_df.merge(\n",
    "    class_df, left_on=[\"Season\", \"Away Team\"], right_on=[\"Season\", \"School\"], how=\"left\"\n",
    ").rename(columns={\"Classification\": \"Away Classification\"}).drop(columns=[\"School\"])\n",
    "\n",
    "# -------------------------------\n",
    "# Clean & Filter Match Data\n",
    "# -------------------------------\n",
    "matches_df[\"Home Score\"] = pd.to_numeric(matches_df[\"Home Score\"], errors=\"coerce\")\n",
    "matches_df[\"Away Score\"] = pd.to_numeric(matches_df[\"Away Score\"], errors=\"coerce\")\n",
    "\n",
    "# Drop rows with missing scores\n",
    "matches_df = matches_df.dropna(subset=[\"Home Score\", \"Away Score\"])\n",
    "\n",
    "# Optional: sort for ELO processing\n",
    "matches_df = matches_df.sort_values(by=[\"Season\", \"Date\"]).reset_index(drop=True)\n"
   ]
  },
  {
   "cell_type": "code",
   "execution_count": 272,
   "metadata": {},
   "outputs": [],
   "source": [
    "# -------------------------------\n",
    "# Calculate Standings\n",
    "# -------------------------------\n",
    "def calculate_standings(df):\n",
    "    records = []\n",
    "    for _, row in df.iterrows():\n",
    "        hs = int(row[\"Home Score\"])\n",
    "        as_ = int(row[\"Away Score\"])\n",
    "        season = row[\"Season\"]\n",
    "        home = row[\"Home Team\"]\n",
    "        away = row[\"Away Team\"]\n",
    "\n",
    "        if hs > as_:\n",
    "            home_result, away_result = \"W\", \"L\"\n",
    "        elif hs < as_:\n",
    "            home_result, away_result = \"L\", \"W\"\n",
    "        else:\n",
    "            home_result = away_result = \"T\"\n",
    "\n",
    "        records.extend([\n",
    "            {\"Season\": season, \"Team\": home, \"Result\": home_result, \"GF\": hs, \"GA\": as_},\n",
    "            {\"Season\": season, \"Team\": away, \"Result\": away_result, \"GF\": as_, \"GA\": hs}\n",
    "        ])\n",
    "\n",
    "    df = pd.DataFrame(records)\n",
    "    standings = df.groupby([\"Season\", \"Team\"]).agg(\n",
    "        Wins=(\"Result\", lambda x: (x == \"W\").sum()),\n",
    "        Losses=(\"Result\", lambda x: (x == \"L\").sum()),\n",
    "        Ties=(\"Result\", lambda x: (x == \"T\").sum()),\n",
    "        Goals_For=(\"GF\", \"sum\"),\n",
    "        Goals_Against=(\"GA\", \"sum\")\n",
    "    ).reset_index()\n",
    "    standings[\"Points\"] = 3 * standings[\"Wins\"] + 1 * standings[\"Ties\"]\n",
    "    standings[\"Games\"] = standings[\"Wins\"] + standings[\"Losses\"] + standings[\"Ties\"]\n",
    "    standings[\"Win %\"] = (standings[\"Wins\"] + 0.5 * standings[\"Ties\"]) / standings[\"Games\"]\n",
    "    return standings\n",
    "\n",
    "standings_df = calculate_standings(matches_df)"
   ]
  },
  {
   "cell_type": "code",
   "execution_count": 273,
   "metadata": {},
   "outputs": [],
   "source": [
    "# -------------------------------\n",
    "# Filter teams with minimum games played\n",
    "# -------------------------------\n",
    "home_games = matches_df.groupby([\"Season\", \"Home Team\"]).size().reset_index(name=\"Home Games\")\n",
    "away_games = matches_df.groupby([\"Season\", \"Away Team\"]).size().reset_index(name=\"Away Games\")\n",
    "\n",
    "home_games.columns = [\"Season\", \"Team\", \"Home Games\"]\n",
    "away_games.columns = [\"Season\", \"Team\", \"Away Games\"]\n",
    "games_played = pd.merge(home_games, away_games, on=[\"Season\", \"Team\"], how=\"outer\").fillna(0)\n",
    "games_played[\"Total Games\"] = games_played[\"Home Games\"] + games_played[\"Away Games\"]\n",
    "\n",
    "# Keep only teams with sufficient games\n",
    "min_games = 3\n",
    "valid_teams = games_played[games_played[\"Total Games\"] >= min_games][[\"Season\", \"Team\"]]\n",
    "\n",
    "matches_df = matches_df.merge(valid_teams, left_on=[\"Season\", \"Home Team\"], right_on=[\"Season\", \"Team\"], how=\"inner\").drop(columns=[\"Team\"])\n",
    "matches_df = matches_df.merge(valid_teams, left_on=[\"Season\", \"Away Team\"], right_on=[\"Season\", \"Team\"], how=\"inner\").drop(columns=[\"Team\"])\n",
    "\n",
    "# -------------------------------\n",
    "# Run ELO Model\n",
    "# -------------------------------\n",
    "def run_elo(matches, base_elo=1500, k=40, hfa=100, cap_margin=3):\n",
    "    match_counts = defaultdict(int)\n",
    "    team_elos = defaultdict(lambda: base_elo)\n",
    "    elo_log = []\n",
    "\n",
    "    for _, row in matches.iterrows():\n",
    "        season = row[\"Season\"]\n",
    "        home = row[\"Home Team\"]\n",
    "        away = row[\"Away Team\"]\n",
    "        hs = int(row[\"Home Score\"])\n",
    "        as_ = int(row[\"Away Score\"])\n",
    "\n",
    "        result_home = 1 if hs > as_ else 0 if hs < as_ else 0.5\n",
    "        home_elo = team_elos[home]\n",
    "        away_elo = team_elos[away]\n",
    "        expected_home = 1 / (1 + 10 ** ((away_elo - home_elo + hfa) / 400))\n",
    "        margin = max(1, min(abs(hs - as_), cap_margin))\n",
    "        k_adjust = 0.5 if result_home == 0.5 else 1\n",
    "        change_home = k_adjust * k * margin * (result_home - expected_home)\n",
    "        change_away = -change_home\n",
    "\n",
    "        team_elos[home] += change_home\n",
    "        team_elos[away] += change_away\n",
    "\n",
    "        match_counts[home] += 1\n",
    "        match_counts[away] += 1\n",
    "\n",
    "        elo_log.append({\n",
    "            \"Home Match #\": match_counts[home],\n",
    "            \"Away Match #\": match_counts[away],\n",
    "            \"Home ELO Change\": change_home,\n",
    "            \"Away ELO Change\": change_away,\n",
    "            \"Season\": season,\n",
    "            \"Date\": row[\"Date\"],\n",
    "            \"Home Team\": home,\n",
    "            \"Away Team\": away,\n",
    "            \"Home Score\": hs,\n",
    "            \"Away Score\": as_,\n",
    "            \"Home Classification\": row.get(\"Home Classification\", \"Unknown\"),\n",
    "            \"Away Classification\": row.get(\"Away Classification\", \"Unknown\"),\n",
    "            \"Home ELO Before\": home_elo,\n",
    "            \"Away ELO Before\": away_elo,\n",
    "            \"Home ELO After\": team_elos[home],\n",
    "            \"Away ELO After\": team_elos[away]\n",
    "        })\n",
    "\n",
    "    return pd.DataFrame(elo_log), team_elos\n",
    "\n",
    "# Run ELO model\n",
    "elo_log_df, final_elos = run_elo(matches_df)\n"
   ]
  },
  {
   "cell_type": "code",
   "execution_count": 274,
   "metadata": {},
   "outputs": [
    {
     "name": "stdout",
     "output_type": "stream",
     "text": [
      "Scraping complete. Data saved to metroleague_soccer_results.csv and metroleague_soccer_standings.csv\n"
     ]
    }
   ],
   "source": [
    "matches_df.to_csv(r\"C:\\Users\\User\\Desktop\\Soccer Footage\\metroleague_soccer_results.csv\", index=False)\n",
    "standings_df.to_csv(r\"C:\\Users\\User\\Desktop\\Soccer Footage\\metroleague_standings_from_results.csv\", index=False)\n",
    "elo_log_df.to_csv(r\"C:\\Users\\User\\Desktop\\Soccer Footage\\metroleague_elo_log.csv\", index=False)\n",
    "print(\"Scraping complete. Data saved to metroleague_soccer_results.csv and metroleague_soccer_standings.csv\")\n"
   ]
  },
  {
   "cell_type": "code",
   "execution_count": 275,
   "metadata": {},
   "outputs": [
    {
     "name": "stdout",
     "output_type": "stream",
     "text": [
      "Scraping + ELO complete. Data saved to CSVs.\n"
     ]
    },
    {
     "name": "stderr",
     "output_type": "stream",
     "text": [
      "<ipython-input-275-b1ac94e30a01>:23: SettingWithCopyWarning:\n",
      "\n",
      "\n",
      "A value is trying to be set on a copy of a slice from a DataFrame.\n",
      "Try using .loc[row_indexer,col_indexer] = value instead\n",
      "\n",
      "See the caveats in the documentation: https://pandas.pydata.org/pandas-docs/stable/user_guide/indexing.html#returning-a-view-versus-a-copy\n",
      "\n"
     ]
    }
   ],
   "source": [
    "# Generate long-format ELO for plotting\n",
    "home = elo_log_df[[\"Season\", \"Home Team\", \"Home Match #\", \"Home ELO After\"]].rename(\n",
    "    columns={\"Home Team\": \"Team\", \"Home Match #\": \"Match #\", \"Home ELO After\": \"ELO\"}\n",
    ")\n",
    "away = elo_log_df[[\"Season\", \"Away Team\", \"Away Match #\", \"Away ELO After\"]].rename(\n",
    "    columns={\"Away Team\": \"Team\", \"Away Match #\": \"Match #\", \"Away ELO After\": \"ELO\"}\n",
    ")\n",
    "elo_long = pd.concat([home, away], ignore_index=True)\n",
    "\n",
    "# Remove teams with < 1 games in a season\n",
    "game_counts = elo_long.groupby([\"Season\", \"Team\"]).size().reset_index(name=\"Games\")\n",
    "valid_teams = game_counts[game_counts[\"Games\"] >= 1][[\"Season\", \"Team\"]]\n",
    "elo_long_filtered = elo_long.merge(valid_teams, on=[\"Season\", \"Team\"])\n",
    "\n",
    "\n",
    "# Remove teams with fewer than 10 total games across all seasons\n",
    "total_game_counts = elo_long_filtered.groupby(\"Team\")[\"Match #\"].count().reset_index()\n",
    "total_game_counts.columns = [\"Team\", \"Total Games\"]\n",
    "valid_teams = total_game_counts[total_game_counts[\"Total Games\"] >= 10][\"Team\"]\n",
    "elo_long_cleaned = elo_long_filtered[elo_long_filtered[\"Team\"].isin(valid_teams)]\n",
    "\n",
    "# Add Match # within each season for each team\n",
    "elo_long_cleaned[\"Season Match #\"] = elo_long_cleaned.groupby([\"Season\", \"Team\"]).cumcount() + 1\n",
    "\n",
    "elo_long_cleaned.to_csv(r\"C:\\Users\\User\\Desktop\\Soccer Footage\\metroleague_elo_long.csv\", index=False)\n",
    "\n",
    "print(\"Scraping + ELO complete. Data saved to CSVs.\")"
   ]
  },
  {
   "cell_type": "code",
   "execution_count": 276,
   "metadata": {},
   "outputs": [
    {
     "data": {
      "application/vnd.plotly.v1+json": {
       "config": {
        "plotlyServerURL": "https://plot.ly"
       },
       "data": [
        {
         "customdata": [
          [
           "Bainbridge",
           "2016-17",
           1
          ],
          [
           "Bainbridge",
           "2016-17",
           2
          ],
          [
           "Bainbridge",
           "2016-17",
           3
          ],
          [
           "Bainbridge",
           "2016-17",
           4
          ],
          [
           "Bainbridge",
           "2016-17",
           5
          ],
          [
           "Bainbridge",
           "2016-17",
           6
          ],
          [
           "Bainbridge",
           "2016-17",
           7
          ],
          [
           "Bainbridge",
           "2016-17",
           8
          ],
          [
           "Bainbridge",
           "2016-17",
           9
          ],
          [
           "Bainbridge",
           "2016-17",
           10
          ],
          [
           "Bainbridge",
           "2016-17",
           11
          ],
          [
           "Bainbridge",
           "2016-17",
           12
          ],
          [
           "Bainbridge",
           "2016-17",
           13
          ],
          [
           "Bainbridge",
           "2016-17",
           14
          ],
          [
           "Bainbridge",
           "2016-17",
           15
          ],
          [
           "Bainbridge",
           "2016-17",
           16
          ],
          [
           "Bainbridge",
           "2016-17",
           17
          ],
          [
           "Bainbridge",
           "2016-17",
           18
          ],
          [
           "Bainbridge",
           "2017-18",
           1
          ],
          [
           "Bainbridge",
           "2017-18",
           2
          ],
          [
           "Bainbridge",
           "2017-18",
           3
          ],
          [
           "Bainbridge",
           "2017-18",
           4
          ],
          [
           "Bainbridge",
           "2017-18",
           5
          ],
          [
           "Bainbridge",
           "2017-18",
           6
          ],
          [
           "Bainbridge",
           "2017-18",
           7
          ],
          [
           "Bainbridge",
           "2017-18",
           8
          ],
          [
           "Bainbridge",
           "2017-18",
           9
          ],
          [
           "Bainbridge",
           "2017-18",
           10
          ],
          [
           "Bainbridge",
           "2017-18",
           11
          ],
          [
           "Bainbridge",
           "2017-18",
           12
          ],
          [
           "Bainbridge",
           "2017-18",
           13
          ],
          [
           "Bainbridge",
           "2017-18",
           14
          ],
          [
           "Bainbridge",
           "2017-18",
           15
          ],
          [
           "Bainbridge",
           "2017-18",
           16
          ],
          [
           "Bainbridge",
           "2018-19",
           1
          ],
          [
           "Bainbridge",
           "2018-19",
           2
          ],
          [
           "Bainbridge",
           "2018-19",
           3
          ],
          [
           "Bainbridge",
           "2018-19",
           4
          ],
          [
           "Bainbridge",
           "2018-19",
           5
          ],
          [
           "Bainbridge",
           "2018-19",
           6
          ],
          [
           "Bainbridge",
           "2018-19",
           7
          ],
          [
           "Bainbridge",
           "2018-19",
           8
          ],
          [
           "Bainbridge",
           "2018-19",
           9
          ],
          [
           "Bainbridge",
           "2018-19",
           10
          ],
          [
           "Bainbridge",
           "2018-19",
           11
          ],
          [
           "Bainbridge",
           "2018-19",
           12
          ],
          [
           "Bainbridge",
           "2018-19",
           13
          ],
          [
           "Bainbridge",
           "2018-19",
           14
          ],
          [
           "Bainbridge",
           "2018-19",
           15
          ]
         ],
         "hovertemplate": "Team=%{customdata[0]}<br>Total Matches Played=%{x}<br>ELO Rating=%{y}<br>Season=%{customdata[1]}<br>Season Match #=%{customdata[2]}<extra></extra>",
         "legendgroup": "Bainbridge",
         "line": {
          "color": "#636efa",
          "dash": "solid"
         },
         "marker": {
          "symbol": "circle"
         },
         "mode": "lines",
         "name": "Bainbridge",
         "showlegend": true,
         "type": "scattergl",
         "x": [
          1,
          2,
          3,
          4,
          5,
          6,
          7,
          8,
          9,
          10,
          11,
          12,
          13,
          14,
          15,
          16,
          17,
          18,
          19,
          20,
          21,
          22,
          23,
          24,
          25,
          26,
          27,
          28,
          29,
          30,
          31,
          32,
          33,
          34,
          35,
          36,
          37,
          38,
          39,
          40,
          41,
          42,
          43,
          44,
          45,
          46,
          47,
          48,
          49
         ],
         "xaxis": "x",
         "y": [
          1526.16028929557,
          1584.608460033483,
          1673.5842920991577,
          1651.5880913138396,
          1633.988759389056,
          1646.146253989681,
          1645.783106350102,
          1649.1966612401284,
          1661.725297401235,
          1628.6115735232645,
          1599.536193447743,
          1620.6403629269507,
          1587.8836848210317,
          1599.8529148783496,
          1620.991538913507,
          1638.2194332152678,
          1605.6077931930822,
          1623.0154158499329,
          1679.1151500765905,
          1681.6171325807752,
          1684.049513237681,
          1659.3519358763283,
          1659.2588029271872,
          1616.5506736309333,
          1428.5716686118396,
          1421.1500256751287,
          1604.5537145636154,
          1638.1877457477444,
          1612.2566601523372,
          1618.3595161743322,
          1558.3250734106764,
          1521.8471384507973,
          1484.7831827691862,
          1428.072476324009,
          1393.6817275851013,
          1389.976647483438,
          1375.5448470368356,
          1375.094293800258,
          1364.9980470445305,
          1412.360182520369,
          1447.7380469793168,
          1453.2990248917952,
          1469.3715312472507,
          1467.6825611764564,
          1448.8197490538096,
          1449.681074625849,
          1451.7428166781035,
          1458.6329392399125,
          1466.7636314753893
         ],
         "yaxis": "y"
        },
        {
         "customdata": [
          [
           "Ballard",
           "2016-17",
           1
          ],
          [
           "Ballard",
           "2016-17",
           2
          ],
          [
           "Ballard",
           "2016-17",
           3
          ],
          [
           "Ballard",
           "2016-17",
           4
          ],
          [
           "Ballard",
           "2016-17",
           5
          ],
          [
           "Ballard",
           "2016-17",
           6
          ],
          [
           "Ballard",
           "2016-17",
           7
          ],
          [
           "Ballard",
           "2016-17",
           8
          ],
          [
           "Ballard",
           "2016-17",
           9
          ],
          [
           "Ballard",
           "2016-17",
           10
          ],
          [
           "Ballard",
           "2016-17",
           11
          ],
          [
           "Ballard",
           "2016-17",
           12
          ],
          [
           "Ballard",
           "2016-17",
           13
          ],
          [
           "Ballard",
           "2016-17",
           14
          ],
          [
           "Ballard",
           "2016-17",
           15
          ],
          [
           "Ballard",
           "2016-17",
           16
          ],
          [
           "Ballard",
           "2016-17",
           17
          ],
          [
           "Ballard",
           "2016-17",
           18
          ],
          [
           "Ballard",
           "2016-17",
           19
          ],
          [
           "Ballard",
           "2017-18",
           1
          ],
          [
           "Ballard",
           "2017-18",
           2
          ],
          [
           "Ballard",
           "2017-18",
           3
          ],
          [
           "Ballard",
           "2017-18",
           4
          ],
          [
           "Ballard",
           "2017-18",
           5
          ],
          [
           "Ballard",
           "2017-18",
           6
          ],
          [
           "Ballard",
           "2017-18",
           7
          ],
          [
           "Ballard",
           "2017-18",
           8
          ],
          [
           "Ballard",
           "2017-18",
           9
          ],
          [
           "Ballard",
           "2017-18",
           10
          ],
          [
           "Ballard",
           "2017-18",
           11
          ],
          [
           "Ballard",
           "2017-18",
           12
          ],
          [
           "Ballard",
           "2017-18",
           13
          ],
          [
           "Ballard",
           "2017-18",
           14
          ],
          [
           "Ballard",
           "2017-18",
           15
          ],
          [
           "Ballard",
           "2017-18",
           16
          ],
          [
           "Ballard",
           "2017-18",
           17
          ],
          [
           "Ballard",
           "2017-18",
           18
          ],
          [
           "Ballard",
           "2018-19",
           1
          ],
          [
           "Ballard",
           "2018-19",
           2
          ],
          [
           "Ballard",
           "2018-19",
           3
          ],
          [
           "Ballard",
           "2018-19",
           4
          ],
          [
           "Ballard",
           "2018-19",
           5
          ],
          [
           "Ballard",
           "2018-19",
           6
          ],
          [
           "Ballard",
           "2018-19",
           7
          ],
          [
           "Ballard",
           "2018-19",
           8
          ],
          [
           "Ballard",
           "2018-19",
           9
          ],
          [
           "Ballard",
           "2018-19",
           10
          ],
          [
           "Ballard",
           "2018-19",
           11
          ],
          [
           "Ballard",
           "2018-19",
           12
          ],
          [
           "Ballard",
           "2018-19",
           13
          ],
          [
           "Ballard",
           "2018-19",
           14
          ],
          [
           "Ballard",
           "2018-19",
           15
          ],
          [
           "Ballard",
           "2018-19",
           16
          ],
          [
           "Ballard",
           "2018-19",
           17
          ],
          [
           "Ballard",
           "2018-19",
           18
          ],
          [
           "Ballard",
           "2020-21",
           1
          ],
          [
           "Ballard",
           "2020-21",
           2
          ],
          [
           "Ballard",
           "2020-21",
           3
          ],
          [
           "Ballard",
           "2020-21",
           4
          ],
          [
           "Ballard",
           "2020-21",
           5
          ],
          [
           "Ballard",
           "2020-21",
           6
          ],
          [
           "Ballard",
           "2020-21",
           7
          ],
          [
           "Ballard",
           "2021-22",
           1
          ],
          [
           "Ballard",
           "2021-22",
           2
          ],
          [
           "Ballard",
           "2021-22",
           3
          ],
          [
           "Ballard",
           "2021-22",
           4
          ],
          [
           "Ballard",
           "2021-22",
           5
          ],
          [
           "Ballard",
           "2021-22",
           6
          ],
          [
           "Ballard",
           "2021-22",
           7
          ],
          [
           "Ballard",
           "2021-22",
           8
          ],
          [
           "Ballard",
           "2021-22",
           9
          ],
          [
           "Ballard",
           "2021-22",
           10
          ],
          [
           "Ballard",
           "2021-22",
           11
          ],
          [
           "Ballard",
           "2021-22",
           12
          ],
          [
           "Ballard",
           "2021-22",
           13
          ],
          [
           "Ballard",
           "2021-22",
           14
          ],
          [
           "Ballard",
           "2021-22",
           15
          ],
          [
           "Ballard",
           "2021-22",
           16
          ],
          [
           "Ballard",
           "2021-22",
           17
          ],
          [
           "Ballard",
           "2022-23",
           1
          ],
          [
           "Ballard",
           "2022-23",
           2
          ],
          [
           "Ballard",
           "2022-23",
           3
          ],
          [
           "Ballard",
           "2022-23",
           4
          ],
          [
           "Ballard",
           "2022-23",
           5
          ],
          [
           "Ballard",
           "2022-23",
           6
          ],
          [
           "Ballard",
           "2022-23",
           7
          ],
          [
           "Ballard",
           "2022-23",
           8
          ],
          [
           "Ballard",
           "2022-23",
           9
          ],
          [
           "Ballard",
           "2022-23",
           10
          ],
          [
           "Ballard",
           "2022-23",
           11
          ],
          [
           "Ballard",
           "2022-23",
           12
          ],
          [
           "Ballard",
           "2022-23",
           13
          ],
          [
           "Ballard",
           "2022-23",
           14
          ],
          [
           "Ballard",
           "2022-23",
           15
          ],
          [
           "Ballard",
           "2022-23",
           16
          ],
          [
           "Ballard",
           "2022-23",
           17
          ],
          [
           "Ballard",
           "2022-23",
           18
          ],
          [
           "Ballard",
           "2022-23",
           19
          ],
          [
           "Ballard",
           "2022-23",
           20
          ],
          [
           "Ballard",
           "2022-23",
           21
          ],
          [
           "Ballard",
           "2022-23",
           22
          ],
          [
           "Ballard",
           "2023-24",
           1
          ],
          [
           "Ballard",
           "2023-24",
           2
          ],
          [
           "Ballard",
           "2023-24",
           3
          ],
          [
           "Ballard",
           "2023-24",
           4
          ],
          [
           "Ballard",
           "2023-24",
           5
          ],
          [
           "Ballard",
           "2023-24",
           6
          ],
          [
           "Ballard",
           "2023-24",
           7
          ],
          [
           "Ballard",
           "2023-24",
           8
          ],
          [
           "Ballard",
           "2023-24",
           9
          ],
          [
           "Ballard",
           "2023-24",
           10
          ],
          [
           "Ballard",
           "2023-24",
           11
          ],
          [
           "Ballard",
           "2023-24",
           12
          ],
          [
           "Ballard",
           "2023-24",
           13
          ],
          [
           "Ballard",
           "2023-24",
           14
          ],
          [
           "Ballard",
           "2023-24",
           15
          ],
          [
           "Ballard",
           "2023-24",
           16
          ],
          [
           "Ballard",
           "2023-24",
           17
          ],
          [
           "Ballard",
           "2023-24",
           18
          ],
          [
           "Ballard",
           "2023-24",
           19
          ],
          [
           "Ballard",
           "2024-25",
           1
          ],
          [
           "Ballard",
           "2024-25",
           2
          ],
          [
           "Ballard",
           "2024-25",
           3
          ],
          [
           "Ballard",
           "2024-25",
           4
          ]
         ],
         "hovertemplate": "Team=%{customdata[0]}<br>Total Matches Played=%{x}<br>ELO Rating=%{y}<br>Season=%{customdata[1]}<br>Season Match #=%{customdata[2]}<extra></extra>",
         "legendgroup": "Ballard",
         "line": {
          "color": "#EF553B",
          "dash": "solid"
         },
         "marker": {
          "symbol": "circle"
         },
         "mode": "lines",
         "name": "Ballard",
         "showlegend": true,
         "type": "scattergl",
         "x": [
          1,
          2,
          3,
          4,
          5,
          6,
          7,
          8,
          9,
          10,
          11,
          12,
          13,
          14,
          15,
          16,
          17,
          18,
          19,
          20,
          21,
          22,
          23,
          24,
          25,
          26,
          27,
          28,
          29,
          30,
          31,
          32,
          33,
          34,
          35,
          36,
          37,
          38,
          39,
          40,
          41,
          42,
          43,
          44,
          45,
          46,
          47,
          48,
          49,
          50,
          51,
          52,
          53,
          54,
          55,
          56,
          57,
          58,
          59,
          60,
          61,
          62,
          63,
          64,
          65,
          66,
          67,
          68,
          69,
          70,
          71,
          72,
          73,
          74,
          75,
          76,
          77,
          78,
          79,
          80,
          81,
          82,
          83,
          84,
          85,
          86,
          87,
          88,
          89,
          90,
          91,
          92,
          93,
          94,
          95,
          96,
          97,
          98,
          99,
          100,
          101,
          102,
          103,
          104,
          105,
          106,
          107,
          108,
          109,
          110,
          111,
          112,
          113,
          114,
          115,
          116,
          117,
          118,
          119,
          120,
          121,
          122,
          123,
          124
         ],
         "xaxis": "x",
         "y": [
          1540.056159817625,
          1528.086929760307,
          1517.9759799376516,
          1523.347471146663,
          1579.6196565807952,
          1649.8770432170531,
          1634.826867098993,
          1643.0240675722316,
          1650.529219841727,
          1555.4427327331905,
          1592.8175396297863,
          1619.823916345346,
          1637.3312102576383,
          1668.4394973242972,
          1677.0533190284564,
          1644.6772266620148,
          1652.7423994188714,
          1661.328583336059,
          1626.5027905599254,
          1676.880332817781,
          1704.932292641242,
          1711.610540196598,
          1725.7699008754073,
          1711.0283944569624,
          1530.4680616280848,
          1546.158544814131,
          1580.6541779443287,
          1587.3331499265394,
          1682.637961046546,
          1662.5843229819016,
          1644.8299363837302,
          1555.5512695734835,
          1555.834127485906,
          1556.1160722456698,
          1556.209205194811,
          1486.6410555558512,
          1497.96412401485,
          1587.6620214959803,
          1603.0597910478418,
          1621.924545435416,
          1630.4943347116334,
          1620.699433216431,
          1622.3550065083816,
          1620.293264456127,
          1607.5479580290753,
          1600.8229999149796,
          1610.8074235197837,
          1707.9257346649788,
          1690.332257028057,
          1629.5378937718838,
          1605.08976905582,
          1572.3457649361558,
          1566.927661454647,
          1593.633450411036,
          1604.690321082481,
          1602.0374495757462,
          1627.810705997785,
          1622.1454751885246,
          1588.6682033935945,
          1585.1051501192992,
          1563.1681604422624,
          1554.2123014597842,
          1600.730171166099,
          1603.412709759904,
          1564.4345888769035,
          1571.1472849583697,
          1612.1726684193525,
          1606.0885039014972,
          1637.728892291693,
          1576.19712119106,
          1621.640518977367,
          1613.6179123836175,
          1599.515357319133,
          1579.4751636815718,
          1561.324451085888,
          1562.1490554839045,
          1575.256262691014,
          1585.180500346255,
          1557.1719098846706,
          1604.691920601314,
          1736.9256161396336,
          1716.9870223702585,
          1741.4042873895166,
          1751.623326970505,
          1827.002824834883,
          1825.716210845428,
          1878.433960304319,
          1873.3473370499307,
          1878.145083056644,
          1889.1464551909285,
          1667.790654940052,
          1696.1510203673536,
          1721.6467306527566,
          1710.358636681712,
          1679.5622075761885,
          1671.328469239492,
          1683.606886364366,
          1658.504651797935,
          1636.1876469779954,
          1656.4295204924424,
          1648.6795971180293,
          1897.0696776213235,
          1865.2579827503955,
          1860.6536014933815,
          1871.658299459997,
          1829.284335601274,
          1783.7170921656036,
          1751.9834587703638,
          1779.4963900933258,
          1613.5104281557358,
          1756.3001238659008,
          1771.8013864706254,
          1785.6459450261336,
          1784.8830939021857,
          1763.4447357347449,
          1723.9839505185598,
          1656.7527893471092,
          1661.997135422256,
          1599.8782000599738,
          1614.6975893136648,
          1699.3303535747764,
          1643.202580392944,
          1630.4405251596786,
          1696.108114866416
         ],
         "yaxis": "y"
        },
        {
         "customdata": [
          [
           "Bishop Blanchet",
           "2016-17",
           1
          ],
          [
           "Bishop Blanchet",
           "2016-17",
           2
          ],
          [
           "Bishop Blanchet",
           "2016-17",
           3
          ],
          [
           "Bishop Blanchet",
           "2016-17",
           4
          ],
          [
           "Bishop Blanchet",
           "2016-17",
           5
          ],
          [
           "Bishop Blanchet",
           "2016-17",
           6
          ],
          [
           "Bishop Blanchet",
           "2016-17",
           7
          ],
          [
           "Bishop Blanchet",
           "2016-17",
           8
          ],
          [
           "Bishop Blanchet",
           "2016-17",
           9
          ],
          [
           "Bishop Blanchet",
           "2016-17",
           10
          ],
          [
           "Bishop Blanchet",
           "2016-17",
           11
          ],
          [
           "Bishop Blanchet",
           "2016-17",
           12
          ],
          [
           "Bishop Blanchet",
           "2016-17",
           13
          ],
          [
           "Bishop Blanchet",
           "2016-17",
           14
          ],
          [
           "Bishop Blanchet",
           "2016-17",
           15
          ],
          [
           "Bishop Blanchet",
           "2016-17",
           16
          ],
          [
           "Bishop Blanchet",
           "2016-17",
           17
          ],
          [
           "Bishop Blanchet",
           "2017-18",
           1
          ],
          [
           "Bishop Blanchet",
           "2017-18",
           2
          ],
          [
           "Bishop Blanchet",
           "2017-18",
           3
          ],
          [
           "Bishop Blanchet",
           "2017-18",
           4
          ],
          [
           "Bishop Blanchet",
           "2017-18",
           5
          ],
          [
           "Bishop Blanchet",
           "2017-18",
           6
          ],
          [
           "Bishop Blanchet",
           "2017-18",
           7
          ],
          [
           "Bishop Blanchet",
           "2017-18",
           8
          ],
          [
           "Bishop Blanchet",
           "2017-18",
           9
          ],
          [
           "Bishop Blanchet",
           "2017-18",
           10
          ],
          [
           "Bishop Blanchet",
           "2017-18",
           11
          ],
          [
           "Bishop Blanchet",
           "2017-18",
           12
          ],
          [
           "Bishop Blanchet",
           "2017-18",
           13
          ],
          [
           "Bishop Blanchet",
           "2017-18",
           14
          ],
          [
           "Bishop Blanchet",
           "2017-18",
           15
          ],
          [
           "Bishop Blanchet",
           "2017-18",
           16
          ],
          [
           "Bishop Blanchet",
           "2017-18",
           17
          ],
          [
           "Bishop Blanchet",
           "2017-18",
           18
          ],
          [
           "Bishop Blanchet",
           "2018-19",
           1
          ],
          [
           "Bishop Blanchet",
           "2018-19",
           2
          ],
          [
           "Bishop Blanchet",
           "2018-19",
           3
          ],
          [
           "Bishop Blanchet",
           "2018-19",
           4
          ],
          [
           "Bishop Blanchet",
           "2018-19",
           5
          ],
          [
           "Bishop Blanchet",
           "2018-19",
           6
          ],
          [
           "Bishop Blanchet",
           "2018-19",
           7
          ],
          [
           "Bishop Blanchet",
           "2018-19",
           8
          ],
          [
           "Bishop Blanchet",
           "2018-19",
           9
          ],
          [
           "Bishop Blanchet",
           "2018-19",
           10
          ],
          [
           "Bishop Blanchet",
           "2018-19",
           11
          ],
          [
           "Bishop Blanchet",
           "2018-19",
           12
          ],
          [
           "Bishop Blanchet",
           "2018-19",
           13
          ],
          [
           "Bishop Blanchet",
           "2018-19",
           14
          ],
          [
           "Bishop Blanchet",
           "2018-19",
           15
          ],
          [
           "Bishop Blanchet",
           "2018-19",
           16
          ],
          [
           "Bishop Blanchet",
           "2018-19",
           17
          ],
          [
           "Bishop Blanchet",
           "2020-21",
           1
          ],
          [
           "Bishop Blanchet",
           "2020-21",
           2
          ],
          [
           "Bishop Blanchet",
           "2020-21",
           3
          ],
          [
           "Bishop Blanchet",
           "2020-21",
           4
          ],
          [
           "Bishop Blanchet",
           "2020-21",
           5
          ],
          [
           "Bishop Blanchet",
           "2021-22",
           1
          ],
          [
           "Bishop Blanchet",
           "2021-22",
           2
          ],
          [
           "Bishop Blanchet",
           "2021-22",
           3
          ],
          [
           "Bishop Blanchet",
           "2021-22",
           4
          ],
          [
           "Bishop Blanchet",
           "2021-22",
           5
          ],
          [
           "Bishop Blanchet",
           "2021-22",
           6
          ],
          [
           "Bishop Blanchet",
           "2021-22",
           7
          ],
          [
           "Bishop Blanchet",
           "2021-22",
           8
          ],
          [
           "Bishop Blanchet",
           "2021-22",
           9
          ],
          [
           "Bishop Blanchet",
           "2021-22",
           10
          ],
          [
           "Bishop Blanchet",
           "2021-22",
           11
          ],
          [
           "Bishop Blanchet",
           "2021-22",
           12
          ],
          [
           "Bishop Blanchet",
           "2021-22",
           13
          ],
          [
           "Bishop Blanchet",
           "2021-22",
           14
          ],
          [
           "Bishop Blanchet",
           "2021-22",
           15
          ],
          [
           "Bishop Blanchet",
           "2021-22",
           16
          ],
          [
           "Bishop Blanchet",
           "2021-22",
           17
          ],
          [
           "Bishop Blanchet",
           "2021-22",
           18
          ],
          [
           "Bishop Blanchet",
           "2022-23",
           1
          ],
          [
           "Bishop Blanchet",
           "2022-23",
           2
          ],
          [
           "Bishop Blanchet",
           "2022-23",
           3
          ],
          [
           "Bishop Blanchet",
           "2022-23",
           4
          ],
          [
           "Bishop Blanchet",
           "2022-23",
           5
          ],
          [
           "Bishop Blanchet",
           "2022-23",
           6
          ],
          [
           "Bishop Blanchet",
           "2022-23",
           7
          ],
          [
           "Bishop Blanchet",
           "2022-23",
           8
          ],
          [
           "Bishop Blanchet",
           "2022-23",
           9
          ],
          [
           "Bishop Blanchet",
           "2022-23",
           10
          ],
          [
           "Bishop Blanchet",
           "2022-23",
           11
          ],
          [
           "Bishop Blanchet",
           "2022-23",
           12
          ],
          [
           "Bishop Blanchet",
           "2022-23",
           13
          ],
          [
           "Bishop Blanchet",
           "2022-23",
           14
          ],
          [
           "Bishop Blanchet",
           "2022-23",
           15
          ],
          [
           "Bishop Blanchet",
           "2022-23",
           16
          ],
          [
           "Bishop Blanchet",
           "2022-23",
           17
          ],
          [
           "Bishop Blanchet",
           "2023-24",
           1
          ],
          [
           "Bishop Blanchet",
           "2023-24",
           2
          ],
          [
           "Bishop Blanchet",
           "2023-24",
           3
          ],
          [
           "Bishop Blanchet",
           "2023-24",
           4
          ],
          [
           "Bishop Blanchet",
           "2023-24",
           5
          ],
          [
           "Bishop Blanchet",
           "2023-24",
           6
          ],
          [
           "Bishop Blanchet",
           "2023-24",
           7
          ],
          [
           "Bishop Blanchet",
           "2023-24",
           8
          ],
          [
           "Bishop Blanchet",
           "2023-24",
           9
          ],
          [
           "Bishop Blanchet",
           "2023-24",
           10
          ],
          [
           "Bishop Blanchet",
           "2023-24",
           11
          ],
          [
           "Bishop Blanchet",
           "2023-24",
           12
          ],
          [
           "Bishop Blanchet",
           "2023-24",
           13
          ],
          [
           "Bishop Blanchet",
           "2023-24",
           14
          ],
          [
           "Bishop Blanchet",
           "2023-24",
           15
          ],
          [
           "Bishop Blanchet",
           "2023-24",
           16
          ],
          [
           "Bishop Blanchet",
           "2023-24",
           17
          ],
          [
           "Bishop Blanchet",
           "2023-24",
           18
          ],
          [
           "Bishop Blanchet",
           "2023-24",
           19
          ],
          [
           "Bishop Blanchet",
           "2024-25",
           1
          ],
          [
           "Bishop Blanchet",
           "2024-25",
           2
          ],
          [
           "Bishop Blanchet",
           "2024-25",
           3
          ],
          [
           "Bishop Blanchet",
           "2024-25",
           4
          ],
          [
           "Bishop Blanchet",
           "2024-25",
           5
          ]
         ],
         "hovertemplate": "Team=%{customdata[0]}<br>Total Matches Played=%{x}<br>ELO Rating=%{y}<br>Season=%{customdata[1]}<br>Season Match #=%{customdata[2]}<extra></extra>",
         "legendgroup": "Bishop Blanchet",
         "line": {
          "color": "#00cc96",
          "dash": "solid"
         },
         "marker": {
          "symbol": "circle"
         },
         "mode": "lines",
         "name": "Bishop Blanchet",
         "showlegend": true,
         "type": "scattergl",
         "x": [
          1,
          2,
          3,
          4,
          5,
          6,
          7,
          8,
          9,
          10,
          11,
          12,
          13,
          14,
          15,
          16,
          17,
          18,
          19,
          20,
          21,
          22,
          23,
          24,
          25,
          26,
          27,
          28,
          29,
          30,
          31,
          32,
          33,
          34,
          35,
          36,
          37,
          38,
          39,
          40,
          41,
          42,
          43,
          44,
          45,
          46,
          47,
          48,
          49,
          50,
          51,
          52,
          53,
          54,
          55,
          56,
          57,
          58,
          59,
          60,
          61,
          62,
          63,
          64,
          65,
          66,
          67,
          68,
          69,
          70,
          71,
          72,
          73,
          74,
          75,
          76,
          77,
          78,
          79,
          80,
          81,
          82,
          83,
          84,
          85,
          86,
          87,
          88,
          89,
          90,
          91,
          92,
          93,
          94,
          95,
          96,
          97,
          98,
          99,
          100,
          101,
          102,
          103,
          104,
          105,
          106,
          107,
          108,
          109,
          110,
          111,
          112,
          113,
          114,
          115,
          116
         ],
         "xaxis": "x",
         "y": [
          1487.2021818387625,
          1408.2758998382087,
          1442.7965159251842,
          1447.9033624692406,
          1430.105705915848,
          1464.9314986919817,
          1466.3405581643729,
          1479.5879373274254,
          1464.823309940692,
          1497.4233981229306,
          1521.902960200385,
          1529.1110415997798,
          1485.9472278213943,
          1442.2854970973451,
          1452.8511045844837,
          1467.9470591894628,
          1417.378182940238,
          1435.8123897991245,
          1470.923975635344,
          1491.1657508380742,
          1388.3759297782342,
          1395.3251684968182,
          1389.8727430237527,
          1430.179685868711,
          1486.8903923138885,
          1449.4219889966716,
          1444.155912664568,
          1429.1709877856963,
          1325.7061647443927,
          1319.0279171890363,
          1300.4177320672648,
          1295.4203194589634,
          1290.7554414433455,
          1318.1144500975129,
          1380.8360985173065,
          1519.783995232672,
          1553.973905261352,
          1568.4704133927105,
          1574.2169540878965,
          1604.1877339243313,
          1685.6805146416243,
          1665.7945781085298,
          1673.3477961648434,
          1665.9157573158002,
          1630.5378928568523,
          1631.0340998580211,
          1634.7149106870909,
          1622.260214084401,
          1615.045953563688,
          1605.6224510223426,
          1576.594448825343,
          1567.6019060696465,
          1551.9858841939458,
          1602.873426842767,
          1621.962599353168,
          1560.220486376946,
          1548.4653301137912,
          1622.9538399216317,
          1588.4301834480702,
          1591.1943334802086,
          1473.728136927259,
          1493.0428050202056,
          1566.6506901195037,
          1562.3892148717146,
          1576.9697889103402,
          1587.4744367103333,
          1580.5547588610586,
          1519.5762414694625,
          1478.9410610381526,
          1480.0556041931786,
          1439.0302207321956,
          1432.4210624865557,
          1434.343539828279,
          1436.2259141874442,
          1486.8915728696768,
          1574.4928551948476,
          1581.3499351971243,
          1644.183290181995,
          1618.0938692514048,
          1616.4659104676502,
          1649.110779218646,
          1621.181430821248,
          1613.9790039184209,
          1610.0982024369498,
          1589.768421636189,
          1583.5491686394876,
          1588.635791893876,
          1617.101915731217,
          1540.4987591950849,
          1471.5806857326504,
          1496.4222489992385,
          1507.2593114887404,
          1507.7867760905451,
          1526.1233143326417,
          1566.8283505805225,
          1570.2293760121097,
          1573.5033683082502,
          1640.5076977949775,
          1659.2178335440924,
          1685.429092688506,
          1679.4513720384978,
          1679.6691621190485,
          1673.8913826947703,
          1677.7100440331003,
          1687.274681233306,
          1634.3046933058613,
          1598.368603275091,
          1643.3859715350882,
          1643.757841199337,
          1644.1281270806014,
          1646.3696631792927,
          1800.6339253124684,
          1893.604467574592,
          1650.5596080741038,
          1672.5558423313962,
          1744.109969772948
         ],
         "yaxis": "y"
        },
        {
         "customdata": [
          [
           "Chief Sealth",
           "2016-17",
           1
          ],
          [
           "Chief Sealth",
           "2016-17",
           2
          ],
          [
           "Chief Sealth",
           "2016-17",
           3
          ],
          [
           "Chief Sealth",
           "2016-17",
           4
          ],
          [
           "Chief Sealth",
           "2016-17",
           5
          ],
          [
           "Chief Sealth",
           "2016-17",
           6
          ],
          [
           "Chief Sealth",
           "2016-17",
           7
          ],
          [
           "Chief Sealth",
           "2016-17",
           8
          ],
          [
           "Chief Sealth",
           "2016-17",
           9
          ],
          [
           "Chief Sealth",
           "2016-17",
           10
          ],
          [
           "Chief Sealth",
           "2016-17",
           11
          ],
          [
           "Chief Sealth",
           "2016-17",
           12
          ],
          [
           "Chief Sealth",
           "2016-17",
           13
          ],
          [
           "Chief Sealth",
           "2016-17",
           14
          ],
          [
           "Chief Sealth",
           "2016-17",
           15
          ],
          [
           "Chief Sealth",
           "2016-17",
           16
          ],
          [
           "Chief Sealth",
           "2016-17",
           17
          ],
          [
           "Chief Sealth",
           "2017-18",
           1
          ],
          [
           "Chief Sealth",
           "2017-18",
           2
          ],
          [
           "Chief Sealth",
           "2017-18",
           3
          ],
          [
           "Chief Sealth",
           "2017-18",
           4
          ],
          [
           "Chief Sealth",
           "2017-18",
           5
          ],
          [
           "Chief Sealth",
           "2017-18",
           6
          ],
          [
           "Chief Sealth",
           "2017-18",
           7
          ],
          [
           "Chief Sealth",
           "2017-18",
           8
          ],
          [
           "Chief Sealth",
           "2017-18",
           9
          ],
          [
           "Chief Sealth",
           "2017-18",
           10
          ],
          [
           "Chief Sealth",
           "2017-18",
           11
          ],
          [
           "Chief Sealth",
           "2017-18",
           12
          ],
          [
           "Chief Sealth",
           "2017-18",
           13
          ],
          [
           "Chief Sealth",
           "2017-18",
           14
          ],
          [
           "Chief Sealth",
           "2017-18",
           15
          ],
          [
           "Chief Sealth",
           "2017-18",
           16
          ],
          [
           "Chief Sealth",
           "2018-19",
           1
          ],
          [
           "Chief Sealth",
           "2018-19",
           2
          ],
          [
           "Chief Sealth",
           "2018-19",
           3
          ],
          [
           "Chief Sealth",
           "2018-19",
           4
          ],
          [
           "Chief Sealth",
           "2018-19",
           5
          ],
          [
           "Chief Sealth",
           "2018-19",
           6
          ],
          [
           "Chief Sealth",
           "2018-19",
           7
          ],
          [
           "Chief Sealth",
           "2018-19",
           8
          ],
          [
           "Chief Sealth",
           "2018-19",
           9
          ],
          [
           "Chief Sealth",
           "2018-19",
           10
          ],
          [
           "Chief Sealth",
           "2018-19",
           11
          ],
          [
           "Chief Sealth",
           "2018-19",
           12
          ],
          [
           "Chief Sealth",
           "2018-19",
           13
          ],
          [
           "Chief Sealth",
           "2018-19",
           14
          ],
          [
           "Chief Sealth",
           "2018-19",
           15
          ],
          [
           "Chief Sealth",
           "2018-19",
           16
          ],
          [
           "Chief Sealth",
           "2018-19",
           17
          ],
          [
           "Chief Sealth",
           "2020-21",
           1
          ],
          [
           "Chief Sealth",
           "2020-21",
           2
          ],
          [
           "Chief Sealth",
           "2020-21",
           3
          ],
          [
           "Chief Sealth",
           "2020-21",
           4
          ],
          [
           "Chief Sealth",
           "2020-21",
           5
          ],
          [
           "Chief Sealth",
           "2020-21",
           6
          ],
          [
           "Chief Sealth",
           "2021-22",
           1
          ],
          [
           "Chief Sealth",
           "2021-22",
           2
          ],
          [
           "Chief Sealth",
           "2021-22",
           3
          ],
          [
           "Chief Sealth",
           "2021-22",
           4
          ],
          [
           "Chief Sealth",
           "2021-22",
           5
          ],
          [
           "Chief Sealth",
           "2021-22",
           6
          ],
          [
           "Chief Sealth",
           "2021-22",
           7
          ],
          [
           "Chief Sealth",
           "2021-22",
           8
          ],
          [
           "Chief Sealth",
           "2021-22",
           9
          ],
          [
           "Chief Sealth",
           "2021-22",
           10
          ],
          [
           "Chief Sealth",
           "2021-22",
           11
          ],
          [
           "Chief Sealth",
           "2021-22",
           12
          ],
          [
           "Chief Sealth",
           "2021-22",
           13
          ],
          [
           "Chief Sealth",
           "2021-22",
           14
          ],
          [
           "Chief Sealth",
           "2021-22",
           15
          ],
          [
           "Chief Sealth",
           "2021-22",
           16
          ],
          [
           "Chief Sealth",
           "2021-22",
           17
          ],
          [
           "Chief Sealth",
           "2022-23",
           1
          ],
          [
           "Chief Sealth",
           "2022-23",
           2
          ],
          [
           "Chief Sealth",
           "2022-23",
           3
          ],
          [
           "Chief Sealth",
           "2022-23",
           4
          ],
          [
           "Chief Sealth",
           "2022-23",
           5
          ],
          [
           "Chief Sealth",
           "2022-23",
           6
          ],
          [
           "Chief Sealth",
           "2022-23",
           7
          ],
          [
           "Chief Sealth",
           "2022-23",
           8
          ],
          [
           "Chief Sealth",
           "2022-23",
           9
          ],
          [
           "Chief Sealth",
           "2022-23",
           10
          ],
          [
           "Chief Sealth",
           "2022-23",
           11
          ],
          [
           "Chief Sealth",
           "2022-23",
           12
          ],
          [
           "Chief Sealth",
           "2022-23",
           13
          ],
          [
           "Chief Sealth",
           "2022-23",
           14
          ],
          [
           "Chief Sealth",
           "2022-23",
           15
          ],
          [
           "Chief Sealth",
           "2022-23",
           16
          ],
          [
           "Chief Sealth",
           "2022-23",
           17
          ],
          [
           "Chief Sealth",
           "2022-23",
           18
          ],
          [
           "Chief Sealth",
           "2022-23",
           19
          ],
          [
           "Chief Sealth",
           "2023-24",
           1
          ],
          [
           "Chief Sealth",
           "2023-24",
           2
          ],
          [
           "Chief Sealth",
           "2023-24",
           3
          ],
          [
           "Chief Sealth",
           "2023-24",
           4
          ],
          [
           "Chief Sealth",
           "2023-24",
           5
          ],
          [
           "Chief Sealth",
           "2023-24",
           6
          ],
          [
           "Chief Sealth",
           "2023-24",
           7
          ],
          [
           "Chief Sealth",
           "2023-24",
           8
          ],
          [
           "Chief Sealth",
           "2023-24",
           9
          ],
          [
           "Chief Sealth",
           "2023-24",
           10
          ],
          [
           "Chief Sealth",
           "2023-24",
           11
          ],
          [
           "Chief Sealth",
           "2023-24",
           12
          ],
          [
           "Chief Sealth",
           "2023-24",
           13
          ],
          [
           "Chief Sealth",
           "2023-24",
           14
          ],
          [
           "Chief Sealth",
           "2023-24",
           15
          ],
          [
           "Chief Sealth",
           "2024-25",
           1
          ],
          [
           "Chief Sealth",
           "2024-25",
           2
          ],
          [
           "Chief Sealth",
           "2024-25",
           3
          ],
          [
           "Chief Sealth",
           "2024-25",
           4
          ],
          [
           "Chief Sealth",
           "2024-25",
           5
          ]
         ],
         "hovertemplate": "Team=%{customdata[0]}<br>Total Matches Played=%{x}<br>ELO Rating=%{y}<br>Season=%{customdata[1]}<br>Season Match #=%{customdata[2]}<extra></extra>",
         "legendgroup": "Chief Sealth",
         "line": {
          "color": "#ab63fa",
          "dash": "solid"
         },
         "marker": {
          "symbol": "circle"
         },
         "mode": "lines",
         "name": "Chief Sealth",
         "showlegend": true,
         "type": "scattergl",
         "x": [
          1,
          2,
          3,
          4,
          5,
          6,
          7,
          8,
          9,
          10,
          11,
          12,
          13,
          14,
          15,
          16,
          17,
          18,
          19,
          20,
          21,
          22,
          23,
          24,
          25,
          26,
          27,
          28,
          29,
          30,
          31,
          32,
          33,
          34,
          35,
          36,
          37,
          38,
          39,
          40,
          41,
          42,
          43,
          44,
          45,
          46,
          47,
          48,
          49,
          50,
          51,
          52,
          53,
          54,
          55,
          56,
          57,
          58,
          59,
          60,
          61,
          62,
          63,
          64,
          65,
          66,
          67,
          68,
          69,
          70,
          71,
          72,
          73,
          74,
          75,
          76,
          77,
          78,
          79,
          80,
          81,
          82,
          83,
          84,
          85,
          86,
          87,
          88,
          89,
          90,
          91,
          92,
          93,
          94,
          95,
          96,
          97,
          98,
          99,
          100,
          101,
          102,
          103,
          104,
          105,
          106,
          107,
          108,
          109,
          110,
          111,
          112
         ],
         "xaxis": "x",
         "y": [
          1480.0347004408138,
          1351.516020855959,
          1355.9637747044037,
          1330.2224405041293,
          1323.7853272270313,
          1315.1715055228722,
          1416.2530043863012,
          1439.1434230004802,
          1457.5439770340126,
          1459.40266524822,
          1386.926224711652,
          1428.4306886921331,
          1363.5318123782747,
          1381.5134700173392,
          1396.774022908691,
          1417.1722729932667,
          1358.7241022553535,
          1484.09264734186,
          1350.479427170386,
          1340.3192254648231,
          1414.4046666372233,
          1408.3018106152283,
          1406.077360936658,
          1407.1910321755483,
          1469.837949009347,
          1441.785989185886,
          1422.681148615126,
          1399.5924445482165,
          1404.038252637063,
          1408.2700536991697,
          1355.204848403926,
          1375.1242457061137,
          1354.8824705033833,
          1422.0730039000516,
          1453.7556264701268,
          1458.2686206596238,
          1461.5514930514623,
          1466.969596532971,
          1463.7205914249523,
          1413.095325696604,
          1401.325967830069,
          1403.138827302213,
          1473.81683818068,
          1486.0300592982044,
          1463.4186434744497,
          1460.807861161642,
          1418.794768853215,
          1398.849333867177,
          1410.7754082163542,
          1405.881065175891,
          1412.2630193159705,
          1501.1797049239142,
          1502.427679973249,
          1499.6029234754465,
          1517.4093067941126,
          1519.2174422732846,
          1537.8120931988497,
          1565.820683660434,
          1737.753796129511,
          1676.7392167551247,
          1683.5975845102234,
          1670.3490968406825,
          1696.0758378972605,
          1696.945468183122,
          1574.264137955368,
          1580.2668450139088,
          1587.0311222280511,
          1584.2669721959128,
          1628.2362268282188,
          1632.0407704765632,
          1633.9719824706126,
          1635.8613985263844,
          1650.8066179023044,
          1692.9703857615598,
          1718.072620327991,
          1740.3896251479305,
          1720.1477516334835,
          1784.19251300796,
          1763.1497888537328,
          1784.526570553353,
          1608.6946341064174,
          1604.8899168966834,
          1607.3463703796783,
          1609.7363725130651,
          1791.72899745618,
          1771.1047648022775,
          1743.5397032560754,
          1663.9135773054404,
          1611.0073532405872,
          1582.838154349005,
          1594.755341206601,
          1600.4766007751964,
          1564.719004253068,
          1551.9802050986875,
          1450.7219404621403,
          1446.590761827424,
          1437.8404396121623,
          1428.2191409391448,
          1422.974794863998,
          1432.7752982121576,
          1543.0314985116297,
          1468.960873006184,
          1461.4529265104843,
          1468.7845328046844,
          1441.7570444200992,
          1430.7523464534838,
          1455.216168774169,
          1436.4589167550575,
          1302.2832899674438,
          1298.7248257891165,
          1414.566742856733,
          1341.9350843006027
         ],
         "yaxis": "y"
        },
        {
         "customdata": [
          [
           "Cleveland",
           "2016-17",
           1
          ],
          [
           "Cleveland",
           "2016-17",
           2
          ],
          [
           "Cleveland",
           "2016-17",
           3
          ],
          [
           "Cleveland",
           "2016-17",
           4
          ],
          [
           "Cleveland",
           "2016-17",
           5
          ],
          [
           "Cleveland",
           "2016-17",
           6
          ],
          [
           "Cleveland",
           "2016-17",
           7
          ],
          [
           "Cleveland",
           "2016-17",
           8
          ],
          [
           "Cleveland",
           "2016-17",
           9
          ],
          [
           "Cleveland",
           "2016-17",
           10
          ],
          [
           "Cleveland",
           "2016-17",
           11
          ],
          [
           "Cleveland",
           "2016-17",
           12
          ],
          [
           "Cleveland",
           "2016-17",
           13
          ],
          [
           "Cleveland",
           "2016-17",
           14
          ],
          [
           "Cleveland",
           "2016-17",
           15
          ],
          [
           "Cleveland",
           "2016-17",
           16
          ],
          [
           "Cleveland",
           "2016-17",
           17
          ],
          [
           "Cleveland",
           "2016-17",
           18
          ],
          [
           "Cleveland",
           "2016-17",
           19
          ],
          [
           "Cleveland",
           "2016-17",
           20
          ],
          [
           "Cleveland",
           "2016-17",
           21
          ],
          [
           "Cleveland",
           "2016-17",
           22
          ],
          [
           "Cleveland",
           "2016-17",
           23
          ],
          [
           "Cleveland",
           "2016-17",
           24
          ],
          [
           "Cleveland",
           "2016-17",
           25
          ],
          [
           "Cleveland",
           "2016-17",
           26
          ],
          [
           "Cleveland",
           "2016-17",
           27
          ],
          [
           "Cleveland",
           "2016-17",
           28
          ],
          [
           "Cleveland",
           "2016-17",
           29
          ],
          [
           "Cleveland",
           "2016-17",
           30
          ],
          [
           "Cleveland",
           "2017-18",
           1
          ],
          [
           "Cleveland",
           "2017-18",
           2
          ],
          [
           "Cleveland",
           "2017-18",
           3
          ],
          [
           "Cleveland",
           "2017-18",
           4
          ],
          [
           "Cleveland",
           "2017-18",
           5
          ],
          [
           "Cleveland",
           "2017-18",
           6
          ],
          [
           "Cleveland",
           "2017-18",
           7
          ],
          [
           "Cleveland",
           "2017-18",
           8
          ],
          [
           "Cleveland",
           "2017-18",
           9
          ],
          [
           "Cleveland",
           "2017-18",
           10
          ],
          [
           "Cleveland",
           "2017-18",
           11
          ],
          [
           "Cleveland",
           "2017-18",
           12
          ],
          [
           "Cleveland",
           "2017-18",
           13
          ],
          [
           "Cleveland",
           "2017-18",
           14
          ],
          [
           "Cleveland",
           "2017-18",
           15
          ],
          [
           "Cleveland",
           "2017-18",
           16
          ],
          [
           "Cleveland",
           "2017-18",
           17
          ],
          [
           "Cleveland",
           "2017-18",
           18
          ],
          [
           "Cleveland",
           "2017-18",
           19
          ],
          [
           "Cleveland",
           "2017-18",
           20
          ],
          [
           "Cleveland",
           "2017-18",
           21
          ],
          [
           "Cleveland",
           "2017-18",
           22
          ],
          [
           "Cleveland",
           "2017-18",
           23
          ],
          [
           "Cleveland",
           "2017-18",
           24
          ],
          [
           "Cleveland",
           "2017-18",
           25
          ],
          [
           "Cleveland",
           "2017-18",
           26
          ],
          [
           "Cleveland",
           "2017-18",
           27
          ],
          [
           "Cleveland",
           "2017-18",
           28
          ],
          [
           "Cleveland",
           "2017-18",
           29
          ],
          [
           "Cleveland",
           "2017-18",
           30
          ],
          [
           "Cleveland",
           "2018-19",
           1
          ],
          [
           "Cleveland",
           "2018-19",
           2
          ],
          [
           "Cleveland",
           "2018-19",
           3
          ],
          [
           "Cleveland",
           "2018-19",
           4
          ],
          [
           "Cleveland",
           "2018-19",
           5
          ],
          [
           "Cleveland",
           "2018-19",
           6
          ],
          [
           "Cleveland",
           "2018-19",
           7
          ],
          [
           "Cleveland",
           "2018-19",
           8
          ],
          [
           "Cleveland",
           "2018-19",
           9
          ],
          [
           "Cleveland",
           "2018-19",
           10
          ],
          [
           "Cleveland",
           "2018-19",
           11
          ],
          [
           "Cleveland",
           "2018-19",
           12
          ],
          [
           "Cleveland",
           "2018-19",
           13
          ],
          [
           "Cleveland",
           "2018-19",
           14
          ],
          [
           "Cleveland",
           "2018-19",
           15
          ],
          [
           "Cleveland",
           "2020-21",
           1
          ],
          [
           "Cleveland",
           "2020-21",
           2
          ],
          [
           "Cleveland",
           "2020-21",
           3
          ],
          [
           "Cleveland",
           "2020-21",
           4
          ],
          [
           "Cleveland",
           "2020-21",
           5
          ],
          [
           "Cleveland",
           "2021-22",
           1
          ],
          [
           "Cleveland",
           "2021-22",
           2
          ],
          [
           "Cleveland",
           "2021-22",
           3
          ],
          [
           "Cleveland",
           "2021-22",
           4
          ],
          [
           "Cleveland",
           "2021-22",
           5
          ],
          [
           "Cleveland",
           "2021-22",
           6
          ],
          [
           "Cleveland",
           "2021-22",
           7
          ],
          [
           "Cleveland",
           "2021-22",
           8
          ],
          [
           "Cleveland",
           "2021-22",
           9
          ],
          [
           "Cleveland",
           "2021-22",
           10
          ],
          [
           "Cleveland",
           "2021-22",
           11
          ],
          [
           "Cleveland",
           "2021-22",
           12
          ],
          [
           "Cleveland",
           "2021-22",
           13
          ],
          [
           "Cleveland",
           "2021-22",
           14
          ],
          [
           "Cleveland",
           "2021-22",
           15
          ],
          [
           "Cleveland",
           "2021-22",
           16
          ],
          [
           "Cleveland",
           "2022-23",
           1
          ],
          [
           "Cleveland",
           "2022-23",
           2
          ],
          [
           "Cleveland",
           "2022-23",
           3
          ],
          [
           "Cleveland",
           "2022-23",
           4
          ],
          [
           "Cleveland",
           "2022-23",
           5
          ],
          [
           "Cleveland",
           "2022-23",
           6
          ],
          [
           "Cleveland",
           "2022-23",
           7
          ],
          [
           "Cleveland",
           "2022-23",
           8
          ],
          [
           "Cleveland",
           "2022-23",
           9
          ],
          [
           "Cleveland",
           "2022-23",
           10
          ],
          [
           "Cleveland",
           "2022-23",
           11
          ],
          [
           "Cleveland",
           "2022-23",
           12
          ],
          [
           "Cleveland",
           "2022-23",
           13
          ],
          [
           "Cleveland",
           "2023-24",
           1
          ],
          [
           "Cleveland",
           "2023-24",
           2
          ],
          [
           "Cleveland",
           "2023-24",
           3
          ],
          [
           "Cleveland",
           "2023-24",
           4
          ],
          [
           "Cleveland",
           "2023-24",
           5
          ],
          [
           "Cleveland",
           "2023-24",
           6
          ],
          [
           "Cleveland",
           "2023-24",
           7
          ],
          [
           "Cleveland",
           "2023-24",
           8
          ],
          [
           "Cleveland",
           "2023-24",
           9
          ],
          [
           "Cleveland",
           "2023-24",
           10
          ],
          [
           "Cleveland",
           "2023-24",
           11
          ],
          [
           "Cleveland",
           "2023-24",
           12
          ],
          [
           "Cleveland",
           "2023-24",
           13
          ],
          [
           "Cleveland",
           "2024-25",
           1
          ],
          [
           "Cleveland",
           "2024-25",
           2
          ],
          [
           "Cleveland",
           "2024-25",
           3
          ]
         ],
         "hovertemplate": "Team=%{customdata[0]}<br>Total Matches Played=%{x}<br>ELO Rating=%{y}<br>Season=%{customdata[1]}<br>Season Match #=%{customdata[2]}<extra></extra>",
         "legendgroup": "Cleveland",
         "line": {
          "color": "#FFA15A",
          "dash": "solid"
         },
         "marker": {
          "symbol": "circle"
         },
         "mode": "lines",
         "name": "Cleveland",
         "showlegend": true,
         "type": "scattergl",
         "x": [
          1,
          2,
          3,
          4,
          5,
          6,
          7,
          8,
          9,
          10,
          11,
          12,
          13,
          14,
          15,
          16,
          17,
          18,
          19,
          20,
          21,
          22,
          23,
          24,
          25,
          26,
          27,
          28,
          29,
          30,
          31,
          32,
          33,
          34,
          35,
          36,
          37,
          38,
          39,
          40,
          41,
          42,
          43,
          44,
          45,
          46,
          47,
          48,
          49,
          50,
          51,
          52,
          53,
          54,
          55,
          56,
          57,
          58,
          59,
          60,
          61,
          62,
          63,
          64,
          65,
          66,
          67,
          68,
          69,
          70,
          71,
          72,
          73,
          74,
          75,
          76,
          77,
          78,
          79,
          80,
          81,
          82,
          83,
          84,
          85,
          86,
          87,
          88,
          89,
          90,
          91,
          92,
          93,
          94,
          95,
          96,
          97,
          98,
          99,
          100,
          101,
          102,
          103,
          104,
          105,
          106,
          107,
          108,
          109,
          110,
          111,
          112,
          113,
          114,
          115,
          116,
          117,
          118,
          119,
          120,
          121,
          122,
          123,
          124,
          125
         ],
         "xaxis": "x",
         "y": [
          1460.4151497248488,
          1431.872940425633,
          1410.7343163904757,
          1393.5064220887148,
          1360.9063339064762,
          1336.4267718290218,
          1306.6313279026192,
          1283.845120170316,
          1250.4540498608528,
          1225.504327980258,
          1211.745013969232,
          1199.8008050043188,
          1195.0233614068222,
          1190.4919378744808,
          1184.6119155004678,
          1179.099092659883,
          1162.3643330103062,
          1148.2164612366391,
          1119.623696112078,
          1097.5775248979166,
          1088.8557257508069,
          1080.912018336674,
          1072.7148178634354,
          1065.20966559394,
          1042.3192469797611,
          1023.9186929462288,
          1013.7940641235556,
          1004.6989860455362,
          963.2551972210492,
          933.6584472919296,
          929.2126392030832,
          924.9808381409764,
          922.074849785507,
          919.2622359404772,
          796.7396631773862,
          796.5874060742665,
          796.3045481618441,
          796.0226034020804,
          792.7513381504141,
          789.597806129198,
          789.5334370372622,
          789.4691156045207,
          786.6972341056064,
          784.0104643497098,
          783.709938249268,
          783.4104475621252,
          917.4197015939604,
          915.6152596700626,
          912.9773377567304,
          910.4166418669048,
          907.91465936272,
          905.4822787058142,
          898.8106185078617,
          892.6067228372119,
          880.4100843032647,
          869.66824744586,
          836.3109597769883,
          811.3812568370485,
          803.8414255761205,
          796.8921868575364,
          777.9556467411633,
          777.8503719684572,
          777.3541649672885,
          776.1759342444534,
          784.4360715497272,
          784.3076839504928,
          762.6698513565191,
          781.0653849337333,
          779.0196738162819,
          777.3641005243314,
          777.2237893790146,
          776.4917025708135,
          771.9047681056932,
          770.0919086335492,
          763.5311769285587,
          772.4986366216187,
          809.8056564044416,
          808.5576813551068,
          799.8437354518803,
          798.7157782780858,
          797.3480689002658,
          796.5234645022495,
          780.9954087926949,
          767.7283242346416,
          766.6137810796155,
          766.564040448692,
          766.4964566355256,
          762.7904357048619,
          762.5087109150284,
          762.2239282972832,
          761.131719249058,
          755.7433873997563,
          748.9477610558257,
          741.4007045158854,
          740.5310742300239,
          739.3019458160586,
          735.7973200896992,
          733.8759375137125,
          732.1456475251325,
          724.0208886710093,
          716.4849682905487,
          695.4262819154335,
          678.2525646517452,
          661.9167747020464,
          657.6186301013238,
          673.2988766157919,
          672.0720281142942,
          668.6900977555821,
          664.877896409705,
          687.7385728533047,
          686.5759402278654,
          685.735592545511,
          685.1149091625881,
          683.3096817184124,
          683.0918916378617,
          657.0911654995189,
          653.5134108416935,
          652.3995018813429,
          651.0823519602562,
          680.3815628414247,
          706.8410036938641,
          694.2078386322617,
          682.202959142725,
          681.1619252594135,
          679.681479863451
         ],
         "yaxis": "y"
        },
        {
         "customdata": [
          [
           "Eastside Catholic",
           "2016-17",
           1
          ],
          [
           "Eastside Catholic",
           "2016-17",
           2
          ],
          [
           "Eastside Catholic",
           "2016-17",
           3
          ],
          [
           "Eastside Catholic",
           "2016-17",
           4
          ],
          [
           "Eastside Catholic",
           "2016-17",
           5
          ],
          [
           "Eastside Catholic",
           "2016-17",
           6
          ],
          [
           "Eastside Catholic",
           "2016-17",
           7
          ],
          [
           "Eastside Catholic",
           "2016-17",
           8
          ],
          [
           "Eastside Catholic",
           "2016-17",
           9
          ],
          [
           "Eastside Catholic",
           "2016-17",
           10
          ],
          [
           "Eastside Catholic",
           "2016-17",
           11
          ],
          [
           "Eastside Catholic",
           "2016-17",
           12
          ],
          [
           "Eastside Catholic",
           "2016-17",
           13
          ],
          [
           "Eastside Catholic",
           "2016-17",
           14
          ],
          [
           "Eastside Catholic",
           "2016-17",
           15
          ],
          [
           "Eastside Catholic",
           "2016-17",
           16
          ],
          [
           "Eastside Catholic",
           "2017-18",
           1
          ],
          [
           "Eastside Catholic",
           "2017-18",
           2
          ],
          [
           "Eastside Catholic",
           "2017-18",
           3
          ],
          [
           "Eastside Catholic",
           "2017-18",
           4
          ],
          [
           "Eastside Catholic",
           "2017-18",
           5
          ],
          [
           "Eastside Catholic",
           "2017-18",
           6
          ],
          [
           "Eastside Catholic",
           "2017-18",
           7
          ],
          [
           "Eastside Catholic",
           "2017-18",
           8
          ],
          [
           "Eastside Catholic",
           "2017-18",
           9
          ],
          [
           "Eastside Catholic",
           "2017-18",
           10
          ],
          [
           "Eastside Catholic",
           "2017-18",
           11
          ],
          [
           "Eastside Catholic",
           "2017-18",
           12
          ],
          [
           "Eastside Catholic",
           "2017-18",
           13
          ],
          [
           "Eastside Catholic",
           "2017-18",
           14
          ],
          [
           "Eastside Catholic",
           "2017-18",
           15
          ],
          [
           "Eastside Catholic",
           "2017-18",
           16
          ],
          [
           "Eastside Catholic",
           "2018-19",
           1
          ],
          [
           "Eastside Catholic",
           "2018-19",
           2
          ],
          [
           "Eastside Catholic",
           "2018-19",
           3
          ],
          [
           "Eastside Catholic",
           "2018-19",
           4
          ],
          [
           "Eastside Catholic",
           "2018-19",
           5
          ],
          [
           "Eastside Catholic",
           "2018-19",
           6
          ],
          [
           "Eastside Catholic",
           "2018-19",
           7
          ],
          [
           "Eastside Catholic",
           "2018-19",
           8
          ],
          [
           "Eastside Catholic",
           "2018-19",
           9
          ],
          [
           "Eastside Catholic",
           "2018-19",
           10
          ],
          [
           "Eastside Catholic",
           "2018-19",
           11
          ],
          [
           "Eastside Catholic",
           "2018-19",
           12
          ],
          [
           "Eastside Catholic",
           "2018-19",
           13
          ],
          [
           "Eastside Catholic",
           "2018-19",
           14
          ],
          [
           "Eastside Catholic",
           "2018-19",
           15
          ],
          [
           "Eastside Catholic",
           "2018-19",
           16
          ],
          [
           "Eastside Catholic",
           "2018-19",
           17
          ],
          [
           "Eastside Catholic",
           "2020-21",
           1
          ],
          [
           "Eastside Catholic",
           "2020-21",
           2
          ],
          [
           "Eastside Catholic",
           "2020-21",
           3
          ],
          [
           "Eastside Catholic",
           "2020-21",
           4
          ],
          [
           "Eastside Catholic",
           "2020-21",
           5
          ],
          [
           "Eastside Catholic",
           "2020-21",
           6
          ],
          [
           "Eastside Catholic",
           "2021-22",
           1
          ],
          [
           "Eastside Catholic",
           "2021-22",
           2
          ],
          [
           "Eastside Catholic",
           "2021-22",
           3
          ],
          [
           "Eastside Catholic",
           "2021-22",
           4
          ],
          [
           "Eastside Catholic",
           "2021-22",
           5
          ],
          [
           "Eastside Catholic",
           "2021-22",
           6
          ],
          [
           "Eastside Catholic",
           "2021-22",
           7
          ],
          [
           "Eastside Catholic",
           "2021-22",
           8
          ],
          [
           "Eastside Catholic",
           "2021-22",
           9
          ],
          [
           "Eastside Catholic",
           "2021-22",
           10
          ],
          [
           "Eastside Catholic",
           "2021-22",
           11
          ],
          [
           "Eastside Catholic",
           "2021-22",
           12
          ],
          [
           "Eastside Catholic",
           "2021-22",
           13
          ],
          [
           "Eastside Catholic",
           "2021-22",
           14
          ],
          [
           "Eastside Catholic",
           "2021-22",
           15
          ],
          [
           "Eastside Catholic",
           "2021-22",
           16
          ],
          [
           "Eastside Catholic",
           "2021-22",
           17
          ],
          [
           "Eastside Catholic",
           "2022-23",
           1
          ],
          [
           "Eastside Catholic",
           "2022-23",
           2
          ],
          [
           "Eastside Catholic",
           "2022-23",
           3
          ],
          [
           "Eastside Catholic",
           "2022-23",
           4
          ],
          [
           "Eastside Catholic",
           "2022-23",
           5
          ],
          [
           "Eastside Catholic",
           "2022-23",
           6
          ],
          [
           "Eastside Catholic",
           "2022-23",
           7
          ],
          [
           "Eastside Catholic",
           "2022-23",
           8
          ],
          [
           "Eastside Catholic",
           "2022-23",
           9
          ],
          [
           "Eastside Catholic",
           "2022-23",
           10
          ],
          [
           "Eastside Catholic",
           "2022-23",
           11
          ],
          [
           "Eastside Catholic",
           "2022-23",
           12
          ],
          [
           "Eastside Catholic",
           "2022-23",
           13
          ],
          [
           "Eastside Catholic",
           "2022-23",
           14
          ],
          [
           "Eastside Catholic",
           "2022-23",
           15
          ],
          [
           "Eastside Catholic",
           "2023-24",
           1
          ],
          [
           "Eastside Catholic",
           "2023-24",
           2
          ],
          [
           "Eastside Catholic",
           "2023-24",
           3
          ],
          [
           "Eastside Catholic",
           "2023-24",
           4
          ],
          [
           "Eastside Catholic",
           "2023-24",
           5
          ],
          [
           "Eastside Catholic",
           "2023-24",
           6
          ],
          [
           "Eastside Catholic",
           "2023-24",
           7
          ],
          [
           "Eastside Catholic",
           "2023-24",
           8
          ],
          [
           "Eastside Catholic",
           "2023-24",
           9
          ],
          [
           "Eastside Catholic",
           "2023-24",
           10
          ],
          [
           "Eastside Catholic",
           "2023-24",
           11
          ],
          [
           "Eastside Catholic",
           "2023-24",
           12
          ],
          [
           "Eastside Catholic",
           "2023-24",
           13
          ],
          [
           "Eastside Catholic",
           "2023-24",
           14
          ],
          [
           "Eastside Catholic",
           "2023-24",
           15
          ],
          [
           "Eastside Catholic",
           "2023-24",
           16
          ],
          [
           "Eastside Catholic",
           "2023-24",
           17
          ],
          [
           "Eastside Catholic",
           "2024-25",
           1
          ],
          [
           "Eastside Catholic",
           "2024-25",
           2
          ],
          [
           "Eastside Catholic",
           "2024-25",
           3
          ],
          [
           "Eastside Catholic",
           "2024-25",
           4
          ]
         ],
         "hovertemplate": "Team=%{customdata[0]}<br>Total Matches Played=%{x}<br>ELO Rating=%{y}<br>Season=%{customdata[1]}<br>Season Match #=%{customdata[2]}<extra></extra>",
         "legendgroup": "Eastside Catholic",
         "line": {
          "color": "#19d3f3",
          "dash": "solid"
         },
         "marker": {
          "symbol": "circle"
         },
         "mode": "lines",
         "name": "Eastside Catholic",
         "showlegend": true,
         "type": "scattergl",
         "x": [
          1,
          2,
          3,
          4,
          5,
          6,
          7,
          8,
          9,
          10,
          11,
          12,
          13,
          14,
          15,
          16,
          17,
          18,
          19,
          20,
          21,
          22,
          23,
          24,
          25,
          26,
          27,
          28,
          29,
          30,
          31,
          32,
          33,
          34,
          35,
          36,
          37,
          38,
          39,
          40,
          41,
          42,
          43,
          44,
          45,
          46,
          47,
          48,
          49,
          50,
          51,
          52,
          53,
          54,
          55,
          56,
          57,
          58,
          59,
          60,
          61,
          62,
          63,
          64,
          65,
          66,
          67,
          68,
          69,
          70,
          71,
          72,
          73,
          74,
          75,
          76,
          77,
          78,
          79,
          80,
          81,
          82,
          83,
          84,
          85,
          86,
          87,
          88,
          89,
          90,
          91,
          92,
          93,
          94,
          95,
          96,
          97,
          98,
          99,
          100,
          101,
          102,
          103,
          104,
          105,
          106,
          107,
          108
         ],
         "xaxis": "x",
         "y": [
          1458.4955360195188,
          1491.252214125438,
          1478.0228004541134,
          1451.0164237385536,
          1474.2831934245826,
          1450.1062271173478,
          1478.6989922419089,
          1500.7451634560705,
          1473.923620090966,
          1439.887648906011,
          1412.8373923051035,
          1360.628839030721,
          1287.7176896292967,
          1268.8836066918764,
          1244.246011119541,
          1230.9986319564885,
          1210.6174388944205,
          1314.0822619357243,
          1395.459170644851,
          1385.3076648432966,
          1376.292772496978,
          1402.103164303131,
          1401.3380720913271,
          1355.8394078852682,
          1398.0429625035886,
          1363.5473293733903,
          1339.971969567618,
          1342.743851066532,
          1345.4306208224286,
          1344.9314285345977,
          1343.8177572957072,
          1362.5193521051444,
          1424.2886860066906,
          1431.0136441207862,
          1418.8004230032618,
          1454.6157949270576,
          1485.2333215873875,
          1498.046652232317,
          1506.8806720828811,
          1510.1229710996408,
          1511.8119411704351,
          1341.34289975391,
          1343.5288038700965,
          1339.4224638030878,
          1331.7091053182446,
          1317.117390539039,
          1304.545750032368,
          1334.1955644717243,
          1355.6945813398895,
          1382.334885710012,
          1364.528502391346,
          1488.1718401110131,
          1478.3430548459137,
          1465.3881236907748,
          1389.40612831313,
          1373.02526284033,
          1367.0225557817892,
          1375.659208973272,
          1374.5067787403318,
          1377.036476209718,
          1376.6999900009494,
          1371.3133844291435,
          1365.832768366518,
          1351.2521943278923,
          1265.1562016951336,
          1268.8622226257974,
          1201.2674345161536,
          1137.7507105069549,
          1145.7733171007042,
          1166.7550124878385,
          1173.5911665442352,
          1179.9927200413729,
          1175.833462981669,
          1252.436619517801,
          1232.1084043339756,
          1223.5928733917922,
          1259.996547707408,
          1286.711370624215,
          1307.5832841864822,
          1324.6301839051048,
          1329.583871941058,
          1362.061331549182,
          1247.9687603571049,
          1251.4733860834644,
          1196.7774894033412,
          1183.2607508240203,
          1160.992385743238,
          1365.6390862070073,
          1387.7442349193675,
          1465.3383682238348,
          1467.2556271145058,
          1469.132994007848,
          1518.06931627397,
          1550.6671771410208,
          1556.4449565652988,
          1499.3591805248552,
          1499.979863907778,
          1493.4906815228503,
          1500.4610346373213,
          1519.8189841054327,
          1520.076377257333,
          1520.333013679195,
          1498.7323002469986,
          1506.356372185926,
          1605.3758855378592,
          1606.4169194211706,
          1609.9753835994982,
          1615.3294903825956
         ],
         "yaxis": "y"
        },
        {
         "customdata": [
          [
           "Franklin",
           "2016-17",
           1
          ],
          [
           "Franklin",
           "2016-17",
           2
          ],
          [
           "Franklin",
           "2016-17",
           3
          ],
          [
           "Franklin",
           "2016-17",
           4
          ],
          [
           "Franklin",
           "2016-17",
           5
          ],
          [
           "Franklin",
           "2016-17",
           6
          ],
          [
           "Franklin",
           "2016-17",
           7
          ],
          [
           "Franklin",
           "2016-17",
           8
          ],
          [
           "Franklin",
           "2016-17",
           9
          ],
          [
           "Franklin",
           "2016-17",
           10
          ],
          [
           "Franklin",
           "2016-17",
           11
          ],
          [
           "Franklin",
           "2016-17",
           12
          ],
          [
           "Franklin",
           "2016-17",
           13
          ],
          [
           "Franklin",
           "2016-17",
           14
          ],
          [
           "Franklin",
           "2016-17",
           15
          ],
          [
           "Franklin",
           "2016-17",
           16
          ],
          [
           "Franklin",
           "2017-18",
           1
          ],
          [
           "Franklin",
           "2017-18",
           2
          ],
          [
           "Franklin",
           "2017-18",
           3
          ],
          [
           "Franklin",
           "2017-18",
           4
          ],
          [
           "Franklin",
           "2017-18",
           5
          ],
          [
           "Franklin",
           "2017-18",
           6
          ],
          [
           "Franklin",
           "2017-18",
           7
          ],
          [
           "Franklin",
           "2017-18",
           8
          ],
          [
           "Franklin",
           "2017-18",
           9
          ],
          [
           "Franklin",
           "2017-18",
           10
          ],
          [
           "Franklin",
           "2017-18",
           11
          ],
          [
           "Franklin",
           "2017-18",
           12
          ],
          [
           "Franklin",
           "2017-18",
           13
          ],
          [
           "Franklin",
           "2017-18",
           14
          ],
          [
           "Franklin",
           "2017-18",
           15
          ],
          [
           "Franklin",
           "2017-18",
           16
          ],
          [
           "Franklin",
           "2018-19",
           1
          ],
          [
           "Franklin",
           "2018-19",
           2
          ],
          [
           "Franklin",
           "2018-19",
           3
          ],
          [
           "Franklin",
           "2018-19",
           4
          ],
          [
           "Franklin",
           "2018-19",
           5
          ],
          [
           "Franklin",
           "2018-19",
           6
          ],
          [
           "Franklin",
           "2018-19",
           7
          ],
          [
           "Franklin",
           "2018-19",
           8
          ],
          [
           "Franklin",
           "2018-19",
           9
          ],
          [
           "Franklin",
           "2018-19",
           10
          ],
          [
           "Franklin",
           "2018-19",
           11
          ],
          [
           "Franklin",
           "2018-19",
           12
          ],
          [
           "Franklin",
           "2018-19",
           13
          ],
          [
           "Franklin",
           "2018-19",
           14
          ],
          [
           "Franklin",
           "2018-19",
           15
          ],
          [
           "Franklin",
           "2020-21",
           1
          ],
          [
           "Franklin",
           "2020-21",
           2
          ],
          [
           "Franklin",
           "2020-21",
           3
          ],
          [
           "Franklin",
           "2020-21",
           4
          ],
          [
           "Franklin",
           "2020-21",
           5
          ],
          [
           "Franklin",
           "2021-22",
           1
          ],
          [
           "Franklin",
           "2021-22",
           2
          ],
          [
           "Franklin",
           "2021-22",
           3
          ],
          [
           "Franklin",
           "2021-22",
           4
          ],
          [
           "Franklin",
           "2021-22",
           5
          ],
          [
           "Franklin",
           "2021-22",
           6
          ],
          [
           "Franklin",
           "2021-22",
           7
          ],
          [
           "Franklin",
           "2021-22",
           8
          ],
          [
           "Franklin",
           "2021-22",
           9
          ],
          [
           "Franklin",
           "2021-22",
           10
          ],
          [
           "Franklin",
           "2021-22",
           11
          ],
          [
           "Franklin",
           "2021-22",
           12
          ],
          [
           "Franklin",
           "2021-22",
           13
          ],
          [
           "Franklin",
           "2021-22",
           14
          ],
          [
           "Franklin",
           "2021-22",
           15
          ],
          [
           "Franklin",
           "2021-22",
           16
          ],
          [
           "Franklin",
           "2021-22",
           17
          ],
          [
           "Franklin",
           "2022-23",
           1
          ],
          [
           "Franklin",
           "2022-23",
           2
          ],
          [
           "Franklin",
           "2022-23",
           3
          ],
          [
           "Franklin",
           "2022-23",
           4
          ],
          [
           "Franklin",
           "2022-23",
           5
          ],
          [
           "Franklin",
           "2022-23",
           6
          ],
          [
           "Franklin",
           "2022-23",
           7
          ],
          [
           "Franklin",
           "2022-23",
           8
          ],
          [
           "Franklin",
           "2022-23",
           9
          ],
          [
           "Franklin",
           "2022-23",
           10
          ],
          [
           "Franklin",
           "2022-23",
           11
          ],
          [
           "Franklin",
           "2022-23",
           12
          ],
          [
           "Franklin",
           "2022-23",
           13
          ],
          [
           "Franklin",
           "2022-23",
           14
          ],
          [
           "Franklin",
           "2022-23",
           15
          ],
          [
           "Franklin",
           "2023-24",
           1
          ],
          [
           "Franklin",
           "2023-24",
           2
          ],
          [
           "Franklin",
           "2023-24",
           3
          ],
          [
           "Franklin",
           "2023-24",
           4
          ],
          [
           "Franklin",
           "2023-24",
           5
          ],
          [
           "Franklin",
           "2023-24",
           6
          ],
          [
           "Franklin",
           "2023-24",
           7
          ],
          [
           "Franklin",
           "2023-24",
           8
          ],
          [
           "Franklin",
           "2023-24",
           9
          ],
          [
           "Franklin",
           "2023-24",
           10
          ],
          [
           "Franklin",
           "2023-24",
           11
          ],
          [
           "Franklin",
           "2023-24",
           12
          ],
          [
           "Franklin",
           "2023-24",
           13
          ],
          [
           "Franklin",
           "2023-24",
           14
          ],
          [
           "Franklin",
           "2023-24",
           15
          ],
          [
           "Franklin",
           "2023-24",
           16
          ],
          [
           "Franklin",
           "2023-24",
           17
          ],
          [
           "Franklin",
           "2023-24",
           18
          ],
          [
           "Franklin",
           "2024-25",
           1
          ],
          [
           "Franklin",
           "2024-25",
           2
          ],
          [
           "Franklin",
           "2024-25",
           3
          ],
          [
           "Franklin",
           "2024-25",
           4
          ],
          [
           "Franklin",
           "2024-25",
           5
          ]
         ],
         "hovertemplate": "Team=%{customdata[0]}<br>Total Matches Played=%{x}<br>ELO Rating=%{y}<br>Season=%{customdata[1]}<br>Season Match #=%{customdata[2]}<extra></extra>",
         "legendgroup": "Franklin",
         "line": {
          "color": "#FF6692",
          "dash": "solid"
         },
         "marker": {
          "symbol": "circle"
         },
         "mode": "lines",
         "name": "Franklin",
         "showlegend": true,
         "type": "scattergl",
         "x": [
          1,
          2,
          3,
          4,
          5,
          6,
          7,
          8,
          9,
          10,
          11,
          12,
          13,
          14,
          15,
          16,
          17,
          18,
          19,
          20,
          21,
          22,
          23,
          24,
          25,
          26,
          27,
          28,
          29,
          30,
          31,
          32,
          33,
          34,
          35,
          36,
          37,
          38,
          39,
          40,
          41,
          42,
          43,
          44,
          45,
          46,
          47,
          48,
          49,
          50,
          51,
          52,
          53,
          54,
          55,
          56,
          57,
          58,
          59,
          60,
          61,
          62,
          63,
          64,
          65,
          66,
          67,
          68,
          69,
          70,
          71,
          72,
          73,
          74,
          75,
          76,
          77,
          78,
          79,
          80,
          81,
          82,
          83,
          84,
          85,
          86,
          87,
          88,
          89,
          90,
          91,
          92,
          93,
          94,
          95,
          96,
          97,
          98,
          99,
          100,
          101,
          102,
          103,
          104,
          105,
          106,
          107
         ],
         "xaxis": "x",
         "y": [
          1486.717041153965,
          1458.2951948347045,
          1536.7060961468133,
          1521.6024035444125,
          1527.4141954689346,
          1518.828011551747,
          1407.9947342281075,
          1426.828817165528,
          1480.5819616344236,
          1494.3412756454495,
          1506.2854846103628,
          1405.2039857469338,
          1418.7786472137532,
          1414.2151512669825,
          1412.806091794591,
          1400.2774556334848,
          1453.804628547649,
          1433.8852312454617,
          1371.163582825668,
          1383.3602213596153,
          1394.10205821702,
          1181.37147400825,
          1218.4354296898612,
          1217.7149502132563,
          1371.2736403360511,
          1343.5439249440903,
          1262.1670162349635,
          1248.0076555561543,
          1220.661443779569,
          1210.9908715496963,
          1202.1998802278,
          1192.9301535473096,
          1169.7867785784815,
          1148.2877617103168,
          1225.7298984608624,
          1296.206403950535,
          1285.14953327909,
          1283.3389890860146,
          1384.6395119737226,
          1379.951947362798,
          1184.821347294473,
          1212.2896453845003,
          1217.7444462054625,
          1216.2610041994565,
          1201.3790324749532,
          1223.255268151441,
          1179.093254764154,
          1494.8453972267205,
          1351.04803507383,
          1359.7619809770565,
          1405.9287116187763,
          1359.571312402148,
          1441.5908626490998,
          1459.8002826607342,
          1325.78375490164,
          1293.135923080789,
          1263.014180513843,
          1269.623338759483,
          1264.6094469711245,
          1262.840828501425,
          1241.859133114291,
          1249.406189654231,
          1454.220063940002,
          1447.1248793757427,
          1416.7371429419743,
          1424.032393533833,
          1394.7637283567478,
          1376.1690774311828,
          1335.7079925568812,
          1243.6849300856356,
          1265.9532951664182,
          1241.1023652253773,
          1231.6744520917234,
          1198.4034603772484,
          1167.554668557649,
          1163.5012388830544,
          1159.6446317274856,
          1163.4568330733628,
          1130.979373465239,
          1133.9404951728975,
          1138.2386397736202,
          1141.969183706654,
          1131.9958918289844,
          1097.6145929106583,
          1110.2477579722608,
          1080.938482905013,
          1112.1316782180684,
          1135.7671748103332,
          1131.3377779088285,
          1123.713705969901,
          1128.0473529618855,
          1125.8058168631944,
          1123.9333413842255,
          1091.9112197301647,
          1098.3804855091216,
          1076.2753367967614,
          1066.4760809701472,
          1059.1039979203929,
          1041.434347739056,
          1031.555141228736,
          1038.8288828580503,
          1045.6174798861714,
          1117.064255296842,
          1189.6959138529724,
          1252.247827348956,
          1246.8937205658583,
          1192.1050132087582
         ],
         "yaxis": "y"
        },
        {
         "customdata": [
          [
           "Garfield",
           "2016-17",
           1
          ],
          [
           "Garfield",
           "2016-17",
           2
          ],
          [
           "Garfield",
           "2016-17",
           3
          ],
          [
           "Garfield",
           "2016-17",
           4
          ],
          [
           "Garfield",
           "2016-17",
           5
          ],
          [
           "Garfield",
           "2016-17",
           6
          ],
          [
           "Garfield",
           "2016-17",
           7
          ],
          [
           "Garfield",
           "2016-17",
           8
          ],
          [
           "Garfield",
           "2016-17",
           9
          ],
          [
           "Garfield",
           "2016-17",
           10
          ],
          [
           "Garfield",
           "2016-17",
           11
          ],
          [
           "Garfield",
           "2016-17",
           12
          ],
          [
           "Garfield",
           "2016-17",
           13
          ],
          [
           "Garfield",
           "2016-17",
           14
          ],
          [
           "Garfield",
           "2016-17",
           15
          ],
          [
           "Garfield",
           "2016-17",
           16
          ],
          [
           "Garfield",
           "2016-17",
           17
          ],
          [
           "Garfield",
           "2016-17",
           18
          ],
          [
           "Garfield",
           "2016-17",
           19
          ],
          [
           "Garfield",
           "2016-17",
           20
          ],
          [
           "Garfield",
           "2017-18",
           1
          ],
          [
           "Garfield",
           "2017-18",
           2
          ],
          [
           "Garfield",
           "2017-18",
           3
          ],
          [
           "Garfield",
           "2017-18",
           4
          ],
          [
           "Garfield",
           "2017-18",
           5
          ],
          [
           "Garfield",
           "2017-18",
           6
          ],
          [
           "Garfield",
           "2017-18",
           7
          ],
          [
           "Garfield",
           "2017-18",
           8
          ],
          [
           "Garfield",
           "2017-18",
           9
          ],
          [
           "Garfield",
           "2017-18",
           10
          ],
          [
           "Garfield",
           "2017-18",
           11
          ],
          [
           "Garfield",
           "2017-18",
           12
          ],
          [
           "Garfield",
           "2017-18",
           13
          ],
          [
           "Garfield",
           "2017-18",
           14
          ],
          [
           "Garfield",
           "2017-18",
           15
          ],
          [
           "Garfield",
           "2017-18",
           16
          ],
          [
           "Garfield",
           "2017-18",
           17
          ],
          [
           "Garfield",
           "2017-18",
           18
          ],
          [
           "Garfield",
           "2017-18",
           19
          ],
          [
           "Garfield",
           "2017-18",
           20
          ],
          [
           "Garfield",
           "2017-18",
           21
          ],
          [
           "Garfield",
           "2018-19",
           1
          ],
          [
           "Garfield",
           "2018-19",
           2
          ],
          [
           "Garfield",
           "2018-19",
           3
          ],
          [
           "Garfield",
           "2018-19",
           4
          ],
          [
           "Garfield",
           "2018-19",
           5
          ],
          [
           "Garfield",
           "2018-19",
           6
          ],
          [
           "Garfield",
           "2018-19",
           7
          ],
          [
           "Garfield",
           "2018-19",
           8
          ],
          [
           "Garfield",
           "2018-19",
           9
          ],
          [
           "Garfield",
           "2018-19",
           10
          ],
          [
           "Garfield",
           "2018-19",
           11
          ],
          [
           "Garfield",
           "2018-19",
           12
          ],
          [
           "Garfield",
           "2018-19",
           13
          ],
          [
           "Garfield",
           "2018-19",
           14
          ],
          [
           "Garfield",
           "2018-19",
           15
          ],
          [
           "Garfield",
           "2018-19",
           16
          ],
          [
           "Garfield",
           "2020-21",
           1
          ],
          [
           "Garfield",
           "2020-21",
           2
          ],
          [
           "Garfield",
           "2020-21",
           3
          ],
          [
           "Garfield",
           "2020-21",
           4
          ],
          [
           "Garfield",
           "2020-21",
           5
          ],
          [
           "Garfield",
           "2021-22",
           1
          ],
          [
           "Garfield",
           "2021-22",
           2
          ],
          [
           "Garfield",
           "2021-22",
           3
          ],
          [
           "Garfield",
           "2021-22",
           4
          ],
          [
           "Garfield",
           "2021-22",
           5
          ],
          [
           "Garfield",
           "2021-22",
           6
          ],
          [
           "Garfield",
           "2021-22",
           7
          ],
          [
           "Garfield",
           "2021-22",
           8
          ],
          [
           "Garfield",
           "2021-22",
           9
          ],
          [
           "Garfield",
           "2021-22",
           10
          ],
          [
           "Garfield",
           "2021-22",
           11
          ],
          [
           "Garfield",
           "2021-22",
           12
          ],
          [
           "Garfield",
           "2021-22",
           13
          ],
          [
           "Garfield",
           "2021-22",
           14
          ],
          [
           "Garfield",
           "2021-22",
           15
          ],
          [
           "Garfield",
           "2021-22",
           16
          ],
          [
           "Garfield",
           "2021-22",
           17
          ],
          [
           "Garfield",
           "2022-23",
           1
          ],
          [
           "Garfield",
           "2022-23",
           2
          ],
          [
           "Garfield",
           "2022-23",
           3
          ],
          [
           "Garfield",
           "2022-23",
           4
          ],
          [
           "Garfield",
           "2022-23",
           5
          ],
          [
           "Garfield",
           "2022-23",
           6
          ],
          [
           "Garfield",
           "2022-23",
           7
          ],
          [
           "Garfield",
           "2022-23",
           8
          ],
          [
           "Garfield",
           "2022-23",
           9
          ],
          [
           "Garfield",
           "2022-23",
           10
          ],
          [
           "Garfield",
           "2022-23",
           11
          ],
          [
           "Garfield",
           "2022-23",
           12
          ],
          [
           "Garfield",
           "2022-23",
           13
          ],
          [
           "Garfield",
           "2022-23",
           14
          ],
          [
           "Garfield",
           "2022-23",
           15
          ],
          [
           "Garfield",
           "2022-23",
           16
          ],
          [
           "Garfield",
           "2022-23",
           17
          ],
          [
           "Garfield",
           "2023-24",
           1
          ],
          [
           "Garfield",
           "2023-24",
           2
          ],
          [
           "Garfield",
           "2023-24",
           3
          ],
          [
           "Garfield",
           "2023-24",
           4
          ],
          [
           "Garfield",
           "2023-24",
           5
          ],
          [
           "Garfield",
           "2023-24",
           6
          ],
          [
           "Garfield",
           "2023-24",
           7
          ],
          [
           "Garfield",
           "2023-24",
           8
          ],
          [
           "Garfield",
           "2023-24",
           9
          ],
          [
           "Garfield",
           "2023-24",
           10
          ],
          [
           "Garfield",
           "2023-24",
           11
          ],
          [
           "Garfield",
           "2023-24",
           12
          ],
          [
           "Garfield",
           "2023-24",
           13
          ],
          [
           "Garfield",
           "2023-24",
           14
          ],
          [
           "Garfield",
           "2023-24",
           15
          ],
          [
           "Garfield",
           "2023-24",
           16
          ],
          [
           "Garfield",
           "2023-24",
           17
          ],
          [
           "Garfield",
           "2023-24",
           18
          ],
          [
           "Garfield",
           "2023-24",
           19
          ],
          [
           "Garfield",
           "2023-24",
           20
          ],
          [
           "Garfield",
           "2023-24",
           21
          ],
          [
           "Garfield",
           "2023-24",
           22
          ],
          [
           "Garfield",
           "2024-25",
           1
          ],
          [
           "Garfield",
           "2024-25",
           2
          ],
          [
           "Garfield",
           "2024-25",
           3
          ],
          [
           "Garfield",
           "2024-25",
           4
          ]
         ],
         "hovertemplate": "Team=%{customdata[0]}<br>Total Matches Played=%{x}<br>ELO Rating=%{y}<br>Season=%{customdata[1]}<br>Season Match #=%{customdata[2]}<extra></extra>",
         "legendgroup": "Garfield",
         "line": {
          "color": "#B6E880",
          "dash": "solid"
         },
         "marker": {
          "symbol": "circle"
         },
         "mode": "lines",
         "name": "Garfield",
         "showlegend": true,
         "type": "scattergl",
         "x": [
          1,
          2,
          3,
          4,
          5,
          6,
          7,
          8,
          9,
          10,
          11,
          12,
          13,
          14,
          15,
          16,
          17,
          18,
          19,
          20,
          21,
          22,
          23,
          24,
          25,
          26,
          27,
          28,
          29,
          30,
          31,
          32,
          33,
          34,
          35,
          36,
          37,
          38,
          39,
          40,
          41,
          42,
          43,
          44,
          45,
          46,
          47,
          48,
          49,
          50,
          51,
          52,
          53,
          54,
          55,
          56,
          57,
          58,
          59,
          60,
          61,
          62,
          63,
          64,
          65,
          66,
          67,
          68,
          69,
          70,
          71,
          72,
          73,
          74,
          75,
          76,
          77,
          78,
          79,
          80,
          81,
          82,
          83,
          84,
          85,
          86,
          87,
          88,
          89,
          90,
          91,
          92,
          93,
          94,
          95,
          96,
          97,
          98,
          99,
          100,
          101,
          102,
          103,
          104,
          105,
          106,
          107,
          108,
          109,
          110,
          111,
          112,
          113,
          114,
          115,
          116,
          117,
          118,
          119,
          120,
          121,
          122
         ],
         "xaxis": "x",
         "y": [
          1551.2051999842308,
          1490.7889453348682,
          1569.051467393237,
          1589.683502585831,
          1545.6803890960496,
          1568.05926099412,
          1633.5846604535247,
          1617.6172321391225,
          1698.6401713764023,
          1674.9340299488276,
          1605.9756068529634,
          1630.152530700568,
          1613.5104378033045,
          1637.687404110539,
          1652.7375802285992,
          1657.5150238260958,
          1662.0464473584373,
          1656.2550968320993,
          1648.5378182374766,
          1652.2437741744436,
          1675.8374237336652,
          1674.9216017493727,
          1677.5595236627048,
          1680.1202195525304,
          1707.8499349444912,
          1757.395328492687,
          1781.7061701927362,
          1801.7598082573809,
          1819.514194855552,
          1876.2359106622755,
          1908.6995631110576,
          1888.5193182518365,
          1920.0796996747276,
          1923.374809262466,
          1706.7237581217432,
          1724.0854342121293,
          1748.783011573482,
          1753.1860549064793,
          1745.7435624209097,
          1749.6626803978395,
          1755.115105870905,
          1961.932641836384,
          1864.8143306911888,
          1839.7021774664745,
          1862.3135932902287,
          1865.2142923259812,
          1861.533481496912,
          1881.3473990740436,
          1838.8085050769168,
          1872.513379223479,
          1872.6417668227132,
          1882.436668317916,
          1865.320187942352,
          1833.5331920342785,
          1840.2792061958603,
          1841.011063027801,
          1845.6986276387252,
          1708.9585816369363,
          1710.086538810731,
          1829.68431306316,
          1820.81901531148,
          1705.9255654475578,
          1715.616327422861,
          1634.047018256758,
          1640.2820057242727,
          1646.1060744501117,
          1631.1608550741917,
          1580.495196391959,
          1611.396441400792,
          1640.2020213086266,
          1634.5761482524297,
          1635.805276666395,
          1700.555493712965,
          1692.058733263981,
          1680.4454996347054,
          1714.9691561082668,
          1622.7582809114174,
          1596.2684719762617,
          1593.5859333824565,
          1629.8582127592288,
          1617.5797956343547,
          1673.3197900912564,
          1588.4724149962246,
          1657.390488458659,
          1632.548925192071,
          1659.033019820104,
          1669.0063116977735,
          1719.19603069671,
          1703.3138548447396,
          1695.0083553202292,
          1670.591090300971,
          1641.7831498691503,
          1615.831020565979,
          1570.147082381415,
          1552.533878849838,
          1560.3032161046424,
          1693.56439365998,
          1670.401227519619,
          1723.3712154470636,
          1766.6957000059083,
          1783.404082418206,
          1810.4315708027916,
          1785.9141381634277,
          1751.4772618499553,
          1778.7481589109698,
          1781.9067207291669,
          1849.1378819006168,
          1840.307005429751,
          1792.1283263646271,
          1800.768350916812,
          1736.738872614341,
          1713.7005159194653,
          1693.2909021343698,
          1680.611949677707,
          1726.179193113377,
          1730.3103717480935,
          1745.7798024192962,
          1747.6522778982649,
          1768.752877988199,
          1709.4171704047817,
          1712.1956045675258,
          1708.9733658591656
         ],
         "yaxis": "y"
        },
        {
         "customdata": [
          [
           "Ingraham",
           "2016-17",
           1
          ],
          [
           "Ingraham",
           "2016-17",
           2
          ],
          [
           "Ingraham",
           "2016-17",
           3
          ],
          [
           "Ingraham",
           "2016-17",
           4
          ],
          [
           "Ingraham",
           "2016-17",
           5
          ],
          [
           "Ingraham",
           "2016-17",
           6
          ],
          [
           "Ingraham",
           "2016-17",
           7
          ],
          [
           "Ingraham",
           "2016-17",
           8
          ],
          [
           "Ingraham",
           "2016-17",
           9
          ],
          [
           "Ingraham",
           "2016-17",
           10
          ],
          [
           "Ingraham",
           "2016-17",
           11
          ],
          [
           "Ingraham",
           "2016-17",
           12
          ],
          [
           "Ingraham",
           "2016-17",
           13
          ],
          [
           "Ingraham",
           "2016-17",
           14
          ],
          [
           "Ingraham",
           "2016-17",
           15
          ],
          [
           "Ingraham",
           "2016-17",
           16
          ],
          [
           "Ingraham",
           "2016-17",
           17
          ],
          [
           "Ingraham",
           "2017-18",
           1
          ],
          [
           "Ingraham",
           "2017-18",
           2
          ],
          [
           "Ingraham",
           "2017-18",
           3
          ],
          [
           "Ingraham",
           "2017-18",
           4
          ],
          [
           "Ingraham",
           "2017-18",
           5
          ],
          [
           "Ingraham",
           "2017-18",
           6
          ],
          [
           "Ingraham",
           "2017-18",
           7
          ],
          [
           "Ingraham",
           "2017-18",
           8
          ],
          [
           "Ingraham",
           "2017-18",
           9
          ],
          [
           "Ingraham",
           "2017-18",
           10
          ],
          [
           "Ingraham",
           "2017-18",
           11
          ],
          [
           "Ingraham",
           "2017-18",
           12
          ],
          [
           "Ingraham",
           "2017-18",
           13
          ],
          [
           "Ingraham",
           "2017-18",
           14
          ],
          [
           "Ingraham",
           "2017-18",
           15
          ],
          [
           "Ingraham",
           "2017-18",
           16
          ],
          [
           "Ingraham",
           "2017-18",
           17
          ],
          [
           "Ingraham",
           "2018-19",
           1
          ],
          [
           "Ingraham",
           "2018-19",
           2
          ],
          [
           "Ingraham",
           "2018-19",
           3
          ],
          [
           "Ingraham",
           "2018-19",
           4
          ],
          [
           "Ingraham",
           "2018-19",
           5
          ],
          [
           "Ingraham",
           "2018-19",
           6
          ],
          [
           "Ingraham",
           "2018-19",
           7
          ],
          [
           "Ingraham",
           "2018-19",
           8
          ],
          [
           "Ingraham",
           "2018-19",
           9
          ],
          [
           "Ingraham",
           "2018-19",
           10
          ],
          [
           "Ingraham",
           "2018-19",
           11
          ],
          [
           "Ingraham",
           "2018-19",
           12
          ],
          [
           "Ingraham",
           "2018-19",
           13
          ],
          [
           "Ingraham",
           "2018-19",
           14
          ],
          [
           "Ingraham",
           "2018-19",
           15
          ],
          [
           "Ingraham",
           "2020-21",
           1
          ],
          [
           "Ingraham",
           "2020-21",
           2
          ],
          [
           "Ingraham",
           "2020-21",
           3
          ],
          [
           "Ingraham",
           "2020-21",
           4
          ],
          [
           "Ingraham",
           "2020-21",
           5
          ],
          [
           "Ingraham",
           "2020-21",
           6
          ],
          [
           "Ingraham",
           "2021-22",
           1
          ],
          [
           "Ingraham",
           "2021-22",
           2
          ],
          [
           "Ingraham",
           "2021-22",
           3
          ],
          [
           "Ingraham",
           "2021-22",
           4
          ],
          [
           "Ingraham",
           "2021-22",
           5
          ],
          [
           "Ingraham",
           "2021-22",
           6
          ],
          [
           "Ingraham",
           "2021-22",
           7
          ],
          [
           "Ingraham",
           "2021-22",
           8
          ],
          [
           "Ingraham",
           "2021-22",
           9
          ],
          [
           "Ingraham",
           "2021-22",
           10
          ],
          [
           "Ingraham",
           "2021-22",
           11
          ],
          [
           "Ingraham",
           "2021-22",
           12
          ],
          [
           "Ingraham",
           "2021-22",
           13
          ],
          [
           "Ingraham",
           "2021-22",
           14
          ],
          [
           "Ingraham",
           "2021-22",
           15
          ],
          [
           "Ingraham",
           "2021-22",
           16
          ],
          [
           "Ingraham",
           "2021-22",
           17
          ],
          [
           "Ingraham",
           "2022-23",
           1
          ],
          [
           "Ingraham",
           "2022-23",
           2
          ],
          [
           "Ingraham",
           "2022-23",
           3
          ],
          [
           "Ingraham",
           "2022-23",
           4
          ],
          [
           "Ingraham",
           "2022-23",
           5
          ],
          [
           "Ingraham",
           "2022-23",
           6
          ],
          [
           "Ingraham",
           "2022-23",
           7
          ],
          [
           "Ingraham",
           "2022-23",
           8
          ],
          [
           "Ingraham",
           "2022-23",
           9
          ],
          [
           "Ingraham",
           "2022-23",
           10
          ],
          [
           "Ingraham",
           "2022-23",
           11
          ],
          [
           "Ingraham",
           "2022-23",
           12
          ],
          [
           "Ingraham",
           "2022-23",
           13
          ],
          [
           "Ingraham",
           "2022-23",
           14
          ],
          [
           "Ingraham",
           "2022-23",
           15
          ],
          [
           "Ingraham",
           "2022-23",
           16
          ],
          [
           "Ingraham",
           "2022-23",
           17
          ],
          [
           "Ingraham",
           "2023-24",
           1
          ],
          [
           "Ingraham",
           "2023-24",
           2
          ],
          [
           "Ingraham",
           "2023-24",
           3
          ],
          [
           "Ingraham",
           "2023-24",
           4
          ],
          [
           "Ingraham",
           "2023-24",
           5
          ],
          [
           "Ingraham",
           "2023-24",
           6
          ],
          [
           "Ingraham",
           "2023-24",
           7
          ],
          [
           "Ingraham",
           "2023-24",
           8
          ],
          [
           "Ingraham",
           "2023-24",
           9
          ],
          [
           "Ingraham",
           "2023-24",
           10
          ],
          [
           "Ingraham",
           "2023-24",
           11
          ],
          [
           "Ingraham",
           "2023-24",
           12
          ],
          [
           "Ingraham",
           "2023-24",
           13
          ],
          [
           "Ingraham",
           "2023-24",
           14
          ],
          [
           "Ingraham",
           "2023-24",
           15
          ],
          [
           "Ingraham",
           "2023-24",
           16
          ],
          [
           "Ingraham",
           "2023-24",
           17
          ],
          [
           "Ingraham",
           "2024-25",
           1
          ],
          [
           "Ingraham",
           "2024-25",
           2
          ],
          [
           "Ingraham",
           "2024-25",
           3
          ],
          [
           "Ingraham",
           "2024-25",
           4
          ],
          [
           "Ingraham",
           "2024-25",
           5
          ]
         ],
         "hovertemplate": "Team=%{customdata[0]}<br>Total Matches Played=%{x}<br>ELO Rating=%{y}<br>Season=%{customdata[1]}<br>Season Match #=%{customdata[2]}<extra></extra>",
         "legendgroup": "Ingraham",
         "line": {
          "color": "#FF97FF",
          "dash": "solid"
         },
         "marker": {
          "symbol": "circle"
         },
         "mode": "lines",
         "name": "Ingraham",
         "showlegend": true,
         "type": "scattergl",
         "x": [
          1,
          2,
          3,
          4,
          5,
          6,
          7,
          8,
          9,
          10,
          11,
          12,
          13,
          14,
          15,
          16,
          17,
          18,
          19,
          20,
          21,
          22,
          23,
          24,
          25,
          26,
          27,
          28,
          29,
          30,
          31,
          32,
          33,
          34,
          35,
          36,
          37,
          38,
          39,
          40,
          41,
          42,
          43,
          44,
          45,
          46,
          47,
          48,
          49,
          50,
          51,
          52,
          53,
          54,
          55,
          56,
          57,
          58,
          59,
          60,
          61,
          62,
          63,
          64,
          65,
          66,
          67,
          68,
          69,
          70,
          71,
          72,
          73,
          74,
          75,
          76,
          77,
          78,
          79,
          80,
          81,
          82,
          83,
          84,
          85,
          86,
          87,
          88,
          89,
          90,
          91,
          92,
          93,
          94,
          95,
          96,
          97,
          98,
          99,
          100,
          101,
          102,
          103,
          104,
          105,
          106,
          107,
          108,
          109,
          110,
          111
         ],
         "xaxis": "x",
         "y": [
          1230.4739829530365,
          1215.213430061685,
          1204.647822574546,
          1200.8200246302297,
          1195.8491971848916,
          1229.362078246509,
          1215.78741677969,
          1257.231205604177,
          1286.8279555332963,
          1311.465551105632,
          1421.737477941631,
          1400.4877982985006,
          1360.4316384808756,
          1340.4229624335162,
          1300.5566647727896,
          1274.615929887671,
          1248.455640592101,
          1370.4128659096966,
          1330.5086817716983,
          1326.5895637947688,
          1396.1577134337283,
          1385.7439064670182,
          1288.7098591464064,
          1286.9731632865892,
          1380.222449879722,
          1354.412058073569,
          1338.721574887523,
          1317.0074104634782,
          1320.2786757151446,
          1323.4322077363606,
          1249.3467665639605,
          1260.90544610302,
          1292.5388670314856,
          1252.2319241865273,
          1331.1351766738762,
          1325.9849759541946,
          1324.787520144094,
          1329.6818631845572,
          1175.444396114071,
          1153.013703736215,
          1159.5744354412054,
          1282.3197277087186,
          1246.5043557849228,
          1211.359239729867,
          1192.494485342293,
          1189.5937863065408,
          1176.35647036315,
          1173.9356767748584,
          1166.4518533583744,
          1168.5302944236837,
          1168.108069087372,
          1238.0171648139071,
          1271.494436608837,
          1301.31046811554,
          1282.221295605139,
          1349.7327250430176,
          1379.0013902201028,
          1365.8941830129934,
          1364.3477367054052,
          1281.5314255092003,
          1280.8801493503474,
          1344.396873359546,
          1351.1924997034769,
          1361.818039236019,
          1342.5033711430724,
          1313.1720700144006,
          1305.3642441048707,
          1303.077966755488,
          1296.2195990003893,
          1304.0141471805864,
          1311.1997841150703,
          1282.3942042072358,
          1424.4543731511972,
          1413.6173106616952,
          1427.134049241016,
          1357.1290738315856,
          1369.673124554056,
          1380.6851144914644,
          1383.954425299906,
          1387.1125033365174,
          1390.4944336952294,
          1424.8757326135556,
          1422.3363032343025,
          1351.2202846435648,
          1353.1416672195514,
          1410.3498267182802,
          1383.865732090247,
          1304.4315146136096,
          1329.2824445546505,
          1432.24781566331,
          1277.4203951998884,
          1291.0133677032848,
          1323.2310211397737,
          1316.260668025303,
          1385.3051666446868,
          1430.86114218309,
          1421.2965049828842,
          1391.542779415429,
          1392.7054120408686,
          1315.1112787364011,
          1333.1884260905474,
          1308.630344128341,
          1293.3265861454036,
          1295.0645668215438,
          1296.7695850275636,
          1261.448582008722,
          1425.3712802412065,
          1434.8519024847194,
          1433.9252255164438,
          1434.8141580115805,
          1441.6832440989642
         ],
         "yaxis": "y"
        },
        {
         "customdata": [
          [
           "Lakeside (Seattle)",
           "2016-17",
           1
          ],
          [
           "Lakeside (Seattle)",
           "2016-17",
           2
          ],
          [
           "Lakeside (Seattle)",
           "2016-17",
           3
          ],
          [
           "Lakeside (Seattle)",
           "2016-17",
           4
          ],
          [
           "Lakeside (Seattle)",
           "2016-17",
           5
          ],
          [
           "Lakeside (Seattle)",
           "2016-17",
           6
          ],
          [
           "Lakeside (Seattle)",
           "2016-17",
           7
          ],
          [
           "Lakeside (Seattle)",
           "2016-17",
           8
          ],
          [
           "Lakeside (Seattle)",
           "2016-17",
           9
          ],
          [
           "Lakeside (Seattle)",
           "2016-17",
           10
          ],
          [
           "Lakeside (Seattle)",
           "2016-17",
           11
          ],
          [
           "Lakeside (Seattle)",
           "2016-17",
           12
          ],
          [
           "Lakeside (Seattle)",
           "2016-17",
           13
          ],
          [
           "Lakeside (Seattle)",
           "2016-17",
           14
          ],
          [
           "Lakeside (Seattle)",
           "2016-17",
           15
          ],
          [
           "Lakeside (Seattle)",
           "2016-17",
           16
          ],
          [
           "Lakeside (Seattle)",
           "2016-17",
           17
          ],
          [
           "Lakeside (Seattle)",
           "2016-17",
           18
          ],
          [
           "Lakeside (Seattle)",
           "2016-17",
           19
          ],
          [
           "Lakeside (Seattle)",
           "2016-17",
           20
          ],
          [
           "Lakeside (Seattle)",
           "2016-17",
           21
          ],
          [
           "Lakeside (Seattle)",
           "2017-18",
           1
          ],
          [
           "Lakeside (Seattle)",
           "2017-18",
           2
          ],
          [
           "Lakeside (Seattle)",
           "2017-18",
           3
          ],
          [
           "Lakeside (Seattle)",
           "2017-18",
           4
          ],
          [
           "Lakeside (Seattle)",
           "2017-18",
           5
          ],
          [
           "Lakeside (Seattle)",
           "2017-18",
           6
          ],
          [
           "Lakeside (Seattle)",
           "2017-18",
           7
          ],
          [
           "Lakeside (Seattle)",
           "2017-18",
           8
          ],
          [
           "Lakeside (Seattle)",
           "2017-18",
           9
          ],
          [
           "Lakeside (Seattle)",
           "2017-18",
           10
          ],
          [
           "Lakeside (Seattle)",
           "2017-18",
           11
          ],
          [
           "Lakeside (Seattle)",
           "2017-18",
           12
          ],
          [
           "Lakeside (Seattle)",
           "2017-18",
           13
          ],
          [
           "Lakeside (Seattle)",
           "2017-18",
           14
          ],
          [
           "Lakeside (Seattle)",
           "2017-18",
           15
          ],
          [
           "Lakeside (Seattle)",
           "2017-18",
           16
          ],
          [
           "Lakeside (Seattle)",
           "2017-18",
           17
          ],
          [
           "Lakeside (Seattle)",
           "2017-18",
           18
          ],
          [
           "Lakeside (Seattle)",
           "2017-18",
           19
          ],
          [
           "Lakeside (Seattle)",
           "2017-18",
           20
          ],
          [
           "Lakeside (Seattle)",
           "2018-19",
           1
          ],
          [
           "Lakeside (Seattle)",
           "2018-19",
           2
          ],
          [
           "Lakeside (Seattle)",
           "2018-19",
           3
          ],
          [
           "Lakeside (Seattle)",
           "2018-19",
           4
          ],
          [
           "Lakeside (Seattle)",
           "2018-19",
           5
          ],
          [
           "Lakeside (Seattle)",
           "2018-19",
           6
          ],
          [
           "Lakeside (Seattle)",
           "2018-19",
           7
          ],
          [
           "Lakeside (Seattle)",
           "2018-19",
           8
          ],
          [
           "Lakeside (Seattle)",
           "2018-19",
           9
          ],
          [
           "Lakeside (Seattle)",
           "2018-19",
           10
          ],
          [
           "Lakeside (Seattle)",
           "2018-19",
           11
          ],
          [
           "Lakeside (Seattle)",
           "2018-19",
           12
          ],
          [
           "Lakeside (Seattle)",
           "2018-19",
           13
          ],
          [
           "Lakeside (Seattle)",
           "2018-19",
           14
          ],
          [
           "Lakeside (Seattle)",
           "2018-19",
           15
          ],
          [
           "Lakeside (Seattle)",
           "2018-19",
           16
          ],
          [
           "Lakeside (Seattle)",
           "2018-19",
           17
          ],
          [
           "Lakeside (Seattle)",
           "2018-19",
           18
          ],
          [
           "Lakeside (Seattle)",
           "2020-21",
           1
          ],
          [
           "Lakeside (Seattle)",
           "2020-21",
           2
          ],
          [
           "Lakeside (Seattle)",
           "2020-21",
           3
          ],
          [
           "Lakeside (Seattle)",
           "2020-21",
           4
          ],
          [
           "Lakeside (Seattle)",
           "2020-21",
           5
          ],
          [
           "Lakeside (Seattle)",
           "2020-21",
           6
          ],
          [
           "Lakeside (Seattle)",
           "2020-21",
           7
          ],
          [
           "Lakeside (Seattle)",
           "2021-22",
           1
          ],
          [
           "Lakeside (Seattle)",
           "2021-22",
           2
          ],
          [
           "Lakeside (Seattle)",
           "2021-22",
           3
          ],
          [
           "Lakeside (Seattle)",
           "2021-22",
           4
          ],
          [
           "Lakeside (Seattle)",
           "2021-22",
           5
          ],
          [
           "Lakeside (Seattle)",
           "2021-22",
           6
          ],
          [
           "Lakeside (Seattle)",
           "2021-22",
           7
          ],
          [
           "Lakeside (Seattle)",
           "2021-22",
           8
          ],
          [
           "Lakeside (Seattle)",
           "2021-22",
           9
          ],
          [
           "Lakeside (Seattle)",
           "2021-22",
           10
          ],
          [
           "Lakeside (Seattle)",
           "2021-22",
           11
          ],
          [
           "Lakeside (Seattle)",
           "2021-22",
           12
          ],
          [
           "Lakeside (Seattle)",
           "2021-22",
           13
          ],
          [
           "Lakeside (Seattle)",
           "2021-22",
           14
          ],
          [
           "Lakeside (Seattle)",
           "2021-22",
           15
          ],
          [
           "Lakeside (Seattle)",
           "2021-22",
           16
          ],
          [
           "Lakeside (Seattle)",
           "2021-22",
           17
          ],
          [
           "Lakeside (Seattle)",
           "2021-22",
           18
          ],
          [
           "Lakeside (Seattle)",
           "2021-22",
           19
          ],
          [
           "Lakeside (Seattle)",
           "2021-22",
           20
          ],
          [
           "Lakeside (Seattle)",
           "2022-23",
           1
          ],
          [
           "Lakeside (Seattle)",
           "2022-23",
           2
          ],
          [
           "Lakeside (Seattle)",
           "2022-23",
           3
          ],
          [
           "Lakeside (Seattle)",
           "2022-23",
           4
          ],
          [
           "Lakeside (Seattle)",
           "2022-23",
           5
          ],
          [
           "Lakeside (Seattle)",
           "2022-23",
           6
          ],
          [
           "Lakeside (Seattle)",
           "2022-23",
           7
          ],
          [
           "Lakeside (Seattle)",
           "2022-23",
           8
          ],
          [
           "Lakeside (Seattle)",
           "2022-23",
           9
          ],
          [
           "Lakeside (Seattle)",
           "2022-23",
           10
          ],
          [
           "Lakeside (Seattle)",
           "2022-23",
           11
          ],
          [
           "Lakeside (Seattle)",
           "2022-23",
           12
          ],
          [
           "Lakeside (Seattle)",
           "2022-23",
           13
          ],
          [
           "Lakeside (Seattle)",
           "2022-23",
           14
          ],
          [
           "Lakeside (Seattle)",
           "2022-23",
           15
          ],
          [
           "Lakeside (Seattle)",
           "2022-23",
           16
          ],
          [
           "Lakeside (Seattle)",
           "2022-23",
           17
          ],
          [
           "Lakeside (Seattle)",
           "2023-24",
           1
          ],
          [
           "Lakeside (Seattle)",
           "2023-24",
           2
          ],
          [
           "Lakeside (Seattle)",
           "2023-24",
           3
          ],
          [
           "Lakeside (Seattle)",
           "2023-24",
           4
          ],
          [
           "Lakeside (Seattle)",
           "2023-24",
           5
          ],
          [
           "Lakeside (Seattle)",
           "2023-24",
           6
          ],
          [
           "Lakeside (Seattle)",
           "2023-24",
           7
          ],
          [
           "Lakeside (Seattle)",
           "2023-24",
           8
          ],
          [
           "Lakeside (Seattle)",
           "2023-24",
           9
          ],
          [
           "Lakeside (Seattle)",
           "2023-24",
           10
          ],
          [
           "Lakeside (Seattle)",
           "2023-24",
           11
          ],
          [
           "Lakeside (Seattle)",
           "2023-24",
           12
          ],
          [
           "Lakeside (Seattle)",
           "2023-24",
           13
          ],
          [
           "Lakeside (Seattle)",
           "2023-24",
           14
          ],
          [
           "Lakeside (Seattle)",
           "2023-24",
           15
          ],
          [
           "Lakeside (Seattle)",
           "2023-24",
           16
          ],
          [
           "Lakeside (Seattle)",
           "2024-25",
           1
          ],
          [
           "Lakeside (Seattle)",
           "2024-25",
           2
          ],
          [
           "Lakeside (Seattle)",
           "2024-25",
           3
          ],
          [
           "Lakeside (Seattle)",
           "2024-25",
           4
          ]
         ],
         "hovertemplate": "Team=%{customdata[0]}<br>Total Matches Played=%{x}<br>ELO Rating=%{y}<br>Season=%{customdata[1]}<br>Season Match #=%{customdata[2]}<extra></extra>",
         "legendgroup": "Lakeside (Seattle)",
         "line": {
          "color": "#FECB52",
          "dash": "solid"
         },
         "marker": {
          "symbol": "circle"
         },
         "mode": "lines",
         "name": "Lakeside (Seattle)",
         "showlegend": true,
         "type": "scattergl",
         "x": [
          1,
          2,
          3,
          4,
          5,
          6,
          7,
          8,
          9,
          10,
          11,
          12,
          13,
          14,
          15,
          16,
          17,
          18,
          19,
          20,
          21,
          22,
          23,
          24,
          25,
          26,
          27,
          28,
          29,
          30,
          31,
          32,
          33,
          34,
          35,
          36,
          37,
          38,
          39,
          40,
          41,
          42,
          43,
          44,
          45,
          46,
          47,
          48,
          49,
          50,
          51,
          52,
          53,
          54,
          55,
          56,
          57,
          58,
          59,
          60,
          61,
          62,
          63,
          64,
          65,
          66,
          67,
          68,
          69,
          70,
          71,
          72,
          73,
          74,
          75,
          76,
          77,
          78,
          79,
          80,
          81,
          82,
          83,
          84,
          85,
          86,
          87,
          88,
          89,
          90,
          91,
          92,
          93,
          94,
          95,
          96,
          97,
          98,
          99,
          100,
          101,
          102,
          103,
          104,
          105,
          106,
          107,
          108,
          109,
          110,
          111,
          112,
          113,
          114,
          115,
          116,
          117,
          118,
          119,
          120,
          121,
          122,
          123
         ],
         "xaxis": "x",
         "y": [
          1480.289596139066,
          1512.9012361612515,
          1492.9184871053176,
          1457.5335437703657,
          1450.3391283593432,
          1535.723444379527,
          1525.8345972811524,
          1558.210689647594,
          1610.4192429219763,
          1448.7948000157692,
          1509.2110546651318,
          1523.123547312342,
          1562.7083975874932,
          1591.250606886709,
          1611.2159064458951,
          1549.5092226502825,
          1521.3974129347032,
          1534.680371780738,
          1530.9871217001437,
          1543.7849398613812,
          1460.2809200917068,
          1661.3655641132043,
          1686.7886289718654,
          1701.0433273043782,
          1700.3367041063527,
          1742.080465947755,
          1743.9230002942722,
          1745.72744221817,
          1768.5558600991387,
          1769.6820369218867,
          1738.026636973132,
          1700.5120608334496,
          1643.790345026726,
          1652.8052373730447,
          1620.3012997598098,
          1672.383330645897,
          1684.2343505811066,
          1639.5388707209431,
          1662.3081108669037,
          1705.0162401631574,
          1715.4300471298675,
          1775.2164718312176,
          1789.8081866104233,
          1802.3798271170945,
          1862.0623075982387,
          1875.3551663939115,
          1908.099170513576,
          1919.030367899668,
          1950.905576054943,
          1953.3263696432343,
          1945.195677407757,
          1900.545952457262,
          1900.651227229968,
          1925.7633804546824,
          1916.3030443867328,
          1919.552049494752,
          1919.991405408656,
          1911.0573745292363,
          1912.867918722312,
          1958.150608562896,
          1965.757061191117,
          1977.512217454272,
          1999.5577978644856,
          2021.260609362109,
          2024.8236626364044,
          1947.323837421147,
          1958.9370710504224,
          1966.0322556146816,
          1959.2679784005395,
          1966.187656249814,
          1977.884945447365,
          2009.7286765784447,
          2057.0459688178225,
          2001.3760030542685,
          1913.9912424750064,
          1916.1562013171367,
          1922.4996456105853,
          2010.8811068113853,
          2015.9740093680336,
          2018.705418952021,
          2019.52974176184,
          2019.579482392763,
          2021.1259287003516,
          2027.2100932182063,
          2027.4029303318987,
          2027.5953404847744,
          1894.139280183284,
          1868.6435698978808,
          1848.112477692849,
          1891.7672802527927,
          1907.649456104764,
          1880.8814422202283,
          1901.5056748741308,
          1917.47795812104,
          1921.9458172817365,
          1905.3864763556016,
          1891.172853970924,
          1894.7968274709035,
          1907.3098037066109,
          1898.609583559135,
          1904.3173671356872,
          1896.099333804466,
          1897.1481773202795,
          1916.644748778965,
          1886.4884894889035,
          1879.1568831947036,
          1939.335444074821,
          1937.816314979957,
          1951.4211994156904,
          1868.1285795685296,
          1907.5893647847145,
          1901.4898461664268,
          1838.9825220622024,
          1804.8784221524709,
          1852.3041941351607,
          1876.821626774525,
          1919.195590633248,
          1923.689818945277,
          1926.656491618158,
          1897.299901271616,
          1867.6077490344076,
          1868.674323388064,
          1832.2871735995784
         ],
         "yaxis": "y"
        },
        {
         "customdata": [
          [
           "Lincoln (Seattle)",
           "2020-21",
           1
          ],
          [
           "Lincoln (Seattle)",
           "2020-21",
           2
          ],
          [
           "Lincoln (Seattle)",
           "2020-21",
           3
          ],
          [
           "Lincoln (Seattle)",
           "2020-21",
           4
          ],
          [
           "Lincoln (Seattle)",
           "2020-21",
           5
          ],
          [
           "Lincoln (Seattle)",
           "2020-21",
           6
          ],
          [
           "Lincoln (Seattle)",
           "2021-22",
           1
          ],
          [
           "Lincoln (Seattle)",
           "2021-22",
           2
          ],
          [
           "Lincoln (Seattle)",
           "2021-22",
           3
          ],
          [
           "Lincoln (Seattle)",
           "2021-22",
           4
          ],
          [
           "Lincoln (Seattle)",
           "2021-22",
           5
          ],
          [
           "Lincoln (Seattle)",
           "2021-22",
           6
          ],
          [
           "Lincoln (Seattle)",
           "2021-22",
           7
          ],
          [
           "Lincoln (Seattle)",
           "2021-22",
           8
          ],
          [
           "Lincoln (Seattle)",
           "2021-22",
           9
          ],
          [
           "Lincoln (Seattle)",
           "2021-22",
           10
          ],
          [
           "Lincoln (Seattle)",
           "2021-22",
           11
          ],
          [
           "Lincoln (Seattle)",
           "2021-22",
           12
          ],
          [
           "Lincoln (Seattle)",
           "2021-22",
           13
          ],
          [
           "Lincoln (Seattle)",
           "2021-22",
           14
          ],
          [
           "Lincoln (Seattle)",
           "2021-22",
           15
          ],
          [
           "Lincoln (Seattle)",
           "2021-22",
           16
          ],
          [
           "Lincoln (Seattle)",
           "2021-22",
           17
          ],
          [
           "Lincoln (Seattle)",
           "2021-22",
           18
          ],
          [
           "Lincoln (Seattle)",
           "2021-22",
           19
          ],
          [
           "Lincoln (Seattle)",
           "2022-23",
           1
          ],
          [
           "Lincoln (Seattle)",
           "2022-23",
           2
          ],
          [
           "Lincoln (Seattle)",
           "2022-23",
           3
          ],
          [
           "Lincoln (Seattle)",
           "2022-23",
           4
          ],
          [
           "Lincoln (Seattle)",
           "2022-23",
           5
          ],
          [
           "Lincoln (Seattle)",
           "2022-23",
           6
          ],
          [
           "Lincoln (Seattle)",
           "2022-23",
           7
          ],
          [
           "Lincoln (Seattle)",
           "2022-23",
           8
          ],
          [
           "Lincoln (Seattle)",
           "2022-23",
           9
          ],
          [
           "Lincoln (Seattle)",
           "2022-23",
           10
          ],
          [
           "Lincoln (Seattle)",
           "2022-23",
           11
          ],
          [
           "Lincoln (Seattle)",
           "2022-23",
           12
          ],
          [
           "Lincoln (Seattle)",
           "2022-23",
           13
          ],
          [
           "Lincoln (Seattle)",
           "2022-23",
           14
          ],
          [
           "Lincoln (Seattle)",
           "2022-23",
           15
          ],
          [
           "Lincoln (Seattle)",
           "2022-23",
           16
          ],
          [
           "Lincoln (Seattle)",
           "2022-23",
           17
          ],
          [
           "Lincoln (Seattle)",
           "2022-23",
           18
          ],
          [
           "Lincoln (Seattle)",
           "2023-24",
           1
          ],
          [
           "Lincoln (Seattle)",
           "2023-24",
           2
          ],
          [
           "Lincoln (Seattle)",
           "2023-24",
           3
          ],
          [
           "Lincoln (Seattle)",
           "2023-24",
           4
          ],
          [
           "Lincoln (Seattle)",
           "2023-24",
           5
          ],
          [
           "Lincoln (Seattle)",
           "2023-24",
           6
          ],
          [
           "Lincoln (Seattle)",
           "2023-24",
           7
          ],
          [
           "Lincoln (Seattle)",
           "2023-24",
           8
          ],
          [
           "Lincoln (Seattle)",
           "2023-24",
           9
          ],
          [
           "Lincoln (Seattle)",
           "2023-24",
           10
          ],
          [
           "Lincoln (Seattle)",
           "2023-24",
           11
          ],
          [
           "Lincoln (Seattle)",
           "2023-24",
           12
          ],
          [
           "Lincoln (Seattle)",
           "2023-24",
           13
          ],
          [
           "Lincoln (Seattle)",
           "2023-24",
           14
          ],
          [
           "Lincoln (Seattle)",
           "2023-24",
           15
          ],
          [
           "Lincoln (Seattle)",
           "2023-24",
           16
          ],
          [
           "Lincoln (Seattle)",
           "2023-24",
           17
          ],
          [
           "Lincoln (Seattle)",
           "2023-24",
           18
          ],
          [
           "Lincoln (Seattle)",
           "2024-25",
           1
          ],
          [
           "Lincoln (Seattle)",
           "2024-25",
           2
          ]
         ],
         "hovertemplate": "Team=%{customdata[0]}<br>Total Matches Played=%{x}<br>ELO Rating=%{y}<br>Season=%{customdata[1]}<br>Season Match #=%{customdata[2]}<extra></extra>",
         "legendgroup": "Lincoln (Seattle)",
         "line": {
          "color": "#636efa",
          "dash": "solid"
         },
         "marker": {
          "symbol": "circle"
         },
         "mode": "lines",
         "name": "Lincoln (Seattle)",
         "showlegend": true,
         "type": "scattergl",
         "x": [
          1,
          2,
          3,
          4,
          5,
          6,
          7,
          8,
          9,
          10,
          11,
          12,
          13,
          14,
          15,
          16,
          17,
          18,
          19,
          20,
          21,
          22,
          23,
          24,
          25,
          26,
          27,
          28,
          29,
          30,
          31,
          32,
          33,
          34,
          35,
          36,
          37,
          38,
          39,
          40,
          41,
          42,
          43,
          44,
          45,
          46,
          47,
          48,
          49,
          50,
          51,
          52,
          53,
          54,
          55,
          56,
          57,
          58,
          59,
          60,
          61,
          62,
          63
         ],
         "xaxis": "x",
         "y": [
          1561.3061141072567,
          1618.4312181211212,
          1596.385637710907,
          1605.2629658785163,
          1579.4897094564778,
          1525.081612727502,
          1606.606246182247,
          1698.8171213790963,
          1718.8573150166578,
          1674.8880603843518,
          1735.866577775948,
          1776.5017582072578,
          1771.4088556506094,
          1807.8680695804535,
          1914.124590793872,
          1914.4063155837052,
          1813.25467515226,
          1868.9246409158136,
          1885.9514898519787,
          1891.4541949952647,
          1893.9976141279813,
          1894.648890286834,
          1896.4175087565336,
          1896.791706000028,
          1897.1642996247024,
          1995.111387725582,
          2025.9078168311055,
          2035.9611163302463,
          2044.2666158547568,
          2051.3267533530898,
          2067.438916862973,
          2081.295640761304,
          2108.8607023075065,
          2123.0743246921847,
          2119.450351192205,
          2125.6696041889063,
          1949.1233632412109,
          1951.6002969567037,
          1960.5262887390072,
          1972.479659368144,
          1973.9011474258093,
          1979.848211332976,
          1983.8232937545376,
          2087.520208836583,
          2093.497929486591,
          2097.5451331279487,
          2089.485546139412,
          2098.43425272647,
          2138.608613858971,
          2132.3944256577715,
          2141.7793836201263,
          2110.4105743763803,
          2127.6859997054407,
          2150.8822659328657,
          2112.9723159280006,
          2105.5534863321686,
          2111.6530049504563,
          2120.4838814213226,
          2121.671042579252,
          2111.870539231092,
          2112.9737252640384,
          2125.735780497304,
          2119.0550618081083
         ],
         "yaxis": "y"
        },
        {
         "customdata": [
          [
           "Nathan Hale",
           "2016-17",
           1
          ],
          [
           "Nathan Hale",
           "2016-17",
           2
          ],
          [
           "Nathan Hale",
           "2016-17",
           3
          ],
          [
           "Nathan Hale",
           "2016-17",
           4
          ],
          [
           "Nathan Hale",
           "2016-17",
           5
          ],
          [
           "Nathan Hale",
           "2016-17",
           6
          ],
          [
           "Nathan Hale",
           "2016-17",
           7
          ],
          [
           "Nathan Hale",
           "2016-17",
           8
          ],
          [
           "Nathan Hale",
           "2016-17",
           9
          ],
          [
           "Nathan Hale",
           "2016-17",
           10
          ],
          [
           "Nathan Hale",
           "2016-17",
           11
          ],
          [
           "Nathan Hale",
           "2016-17",
           12
          ],
          [
           "Nathan Hale",
           "2016-17",
           13
          ],
          [
           "Nathan Hale",
           "2016-17",
           14
          ],
          [
           "Nathan Hale",
           "2016-17",
           15
          ],
          [
           "Nathan Hale",
           "2016-17",
           16
          ],
          [
           "Nathan Hale",
           "2016-17",
           17
          ],
          [
           "Nathan Hale",
           "2017-18",
           1
          ],
          [
           "Nathan Hale",
           "2017-18",
           2
          ],
          [
           "Nathan Hale",
           "2017-18",
           3
          ],
          [
           "Nathan Hale",
           "2017-18",
           4
          ],
          [
           "Nathan Hale",
           "2017-18",
           5
          ],
          [
           "Nathan Hale",
           "2017-18",
           6
          ],
          [
           "Nathan Hale",
           "2017-18",
           7
          ],
          [
           "Nathan Hale",
           "2017-18",
           8
          ],
          [
           "Nathan Hale",
           "2017-18",
           9
          ],
          [
           "Nathan Hale",
           "2017-18",
           10
          ],
          [
           "Nathan Hale",
           "2017-18",
           11
          ],
          [
           "Nathan Hale",
           "2017-18",
           12
          ],
          [
           "Nathan Hale",
           "2017-18",
           13
          ],
          [
           "Nathan Hale",
           "2017-18",
           14
          ],
          [
           "Nathan Hale",
           "2017-18",
           15
          ],
          [
           "Nathan Hale",
           "2017-18",
           16
          ],
          [
           "Nathan Hale",
           "2017-18",
           17
          ],
          [
           "Nathan Hale",
           "2018-19",
           1
          ],
          [
           "Nathan Hale",
           "2018-19",
           2
          ],
          [
           "Nathan Hale",
           "2018-19",
           3
          ],
          [
           "Nathan Hale",
           "2018-19",
           4
          ],
          [
           "Nathan Hale",
           "2018-19",
           5
          ],
          [
           "Nathan Hale",
           "2018-19",
           6
          ],
          [
           "Nathan Hale",
           "2018-19",
           7
          ],
          [
           "Nathan Hale",
           "2018-19",
           8
          ],
          [
           "Nathan Hale",
           "2018-19",
           9
          ],
          [
           "Nathan Hale",
           "2018-19",
           10
          ],
          [
           "Nathan Hale",
           "2018-19",
           11
          ],
          [
           "Nathan Hale",
           "2018-19",
           12
          ],
          [
           "Nathan Hale",
           "2018-19",
           13
          ],
          [
           "Nathan Hale",
           "2018-19",
           14
          ],
          [
           "Nathan Hale",
           "2018-19",
           15
          ],
          [
           "Nathan Hale",
           "2018-19",
           16
          ],
          [
           "Nathan Hale",
           "2018-19",
           17
          ],
          [
           "Nathan Hale",
           "2020-21",
           1
          ],
          [
           "Nathan Hale",
           "2020-21",
           2
          ],
          [
           "Nathan Hale",
           "2020-21",
           3
          ],
          [
           "Nathan Hale",
           "2020-21",
           4
          ],
          [
           "Nathan Hale",
           "2020-21",
           5
          ],
          [
           "Nathan Hale",
           "2021-22",
           1
          ],
          [
           "Nathan Hale",
           "2021-22",
           2
          ],
          [
           "Nathan Hale",
           "2021-22",
           3
          ],
          [
           "Nathan Hale",
           "2021-22",
           4
          ],
          [
           "Nathan Hale",
           "2021-22",
           5
          ],
          [
           "Nathan Hale",
           "2021-22",
           6
          ],
          [
           "Nathan Hale",
           "2021-22",
           7
          ],
          [
           "Nathan Hale",
           "2021-22",
           8
          ],
          [
           "Nathan Hale",
           "2021-22",
           9
          ],
          [
           "Nathan Hale",
           "2021-22",
           10
          ],
          [
           "Nathan Hale",
           "2021-22",
           11
          ],
          [
           "Nathan Hale",
           "2021-22",
           12
          ],
          [
           "Nathan Hale",
           "2021-22",
           13
          ],
          [
           "Nathan Hale",
           "2021-22",
           14
          ],
          [
           "Nathan Hale",
           "2021-22",
           15
          ],
          [
           "Nathan Hale",
           "2021-22",
           16
          ],
          [
           "Nathan Hale",
           "2021-22",
           17
          ],
          [
           "Nathan Hale",
           "2021-22",
           18
          ],
          [
           "Nathan Hale",
           "2022-23",
           1
          ],
          [
           "Nathan Hale",
           "2022-23",
           2
          ],
          [
           "Nathan Hale",
           "2022-23",
           3
          ],
          [
           "Nathan Hale",
           "2022-23",
           4
          ],
          [
           "Nathan Hale",
           "2022-23",
           5
          ],
          [
           "Nathan Hale",
           "2022-23",
           6
          ],
          [
           "Nathan Hale",
           "2022-23",
           7
          ],
          [
           "Nathan Hale",
           "2022-23",
           8
          ],
          [
           "Nathan Hale",
           "2022-23",
           9
          ],
          [
           "Nathan Hale",
           "2022-23",
           10
          ],
          [
           "Nathan Hale",
           "2022-23",
           11
          ],
          [
           "Nathan Hale",
           "2022-23",
           12
          ],
          [
           "Nathan Hale",
           "2022-23",
           13
          ],
          [
           "Nathan Hale",
           "2022-23",
           14
          ],
          [
           "Nathan Hale",
           "2022-23",
           15
          ],
          [
           "Nathan Hale",
           "2022-23",
           16
          ],
          [
           "Nathan Hale",
           "2023-24",
           1
          ],
          [
           "Nathan Hale",
           "2023-24",
           2
          ],
          [
           "Nathan Hale",
           "2023-24",
           3
          ],
          [
           "Nathan Hale",
           "2023-24",
           4
          ],
          [
           "Nathan Hale",
           "2023-24",
           5
          ],
          [
           "Nathan Hale",
           "2023-24",
           6
          ],
          [
           "Nathan Hale",
           "2023-24",
           7
          ],
          [
           "Nathan Hale",
           "2023-24",
           8
          ],
          [
           "Nathan Hale",
           "2023-24",
           9
          ],
          [
           "Nathan Hale",
           "2023-24",
           10
          ],
          [
           "Nathan Hale",
           "2023-24",
           11
          ],
          [
           "Nathan Hale",
           "2023-24",
           12
          ],
          [
           "Nathan Hale",
           "2023-24",
           13
          ],
          [
           "Nathan Hale",
           "2023-24",
           14
          ],
          [
           "Nathan Hale",
           "2023-24",
           15
          ],
          [
           "Nathan Hale",
           "2023-24",
           16
          ],
          [
           "Nathan Hale",
           "2024-25",
           1
          ],
          [
           "Nathan Hale",
           "2024-25",
           2
          ],
          [
           "Nathan Hale",
           "2024-25",
           3
          ],
          [
           "Nathan Hale",
           "2024-25",
           4
          ],
          [
           "Nathan Hale",
           "2024-25",
           5
          ]
         ],
         "hovertemplate": "Team=%{customdata[0]}<br>Total Matches Played=%{x}<br>ELO Rating=%{y}<br>Season=%{customdata[1]}<br>Season Match #=%{customdata[2]}<extra></extra>",
         "legendgroup": "Nathan Hale",
         "line": {
          "color": "#EF553B",
          "dash": "solid"
         },
         "marker": {
          "symbol": "circle"
         },
         "mode": "lines",
         "name": "Nathan Hale",
         "showlegend": true,
         "type": "scattergl",
         "x": [
          1,
          2,
          3,
          4,
          5,
          6,
          7,
          8,
          9,
          10,
          11,
          12,
          13,
          14,
          15,
          16,
          17,
          18,
          19,
          20,
          21,
          22,
          23,
          24,
          25,
          26,
          27,
          28,
          29,
          30,
          31,
          32,
          33,
          34,
          35,
          36,
          37,
          38,
          39,
          40,
          41,
          42,
          43,
          44,
          45,
          46,
          47,
          48,
          49,
          50,
          51,
          52,
          53,
          54,
          55,
          56,
          57,
          58,
          59,
          60,
          61,
          62,
          63,
          64,
          65,
          66,
          67,
          68,
          69,
          70,
          71,
          72,
          73,
          74,
          75,
          76,
          77,
          78,
          79,
          80,
          81,
          82,
          83,
          84,
          85,
          86,
          87,
          88,
          89,
          90,
          91,
          92,
          93,
          94,
          95,
          96,
          97,
          98,
          99,
          100,
          101,
          102,
          103,
          104,
          105,
          106,
          107,
          108,
          109,
          110,
          111
         ],
         "xaxis": "x",
         "y": [
          1561.706683795613,
          1601.5729814563392,
          1644.7367952347247,
          1364.5470144648732,
          1356.4818417080166,
          1384.6784970716396,
          1457.589646473064,
          1563.7138559974449,
          1494.6954649609493,
          1428.858217078995,
          1458.6536610053977,
          1481.4398687377009,
          1507.181202937975,
          1421.7968869177912,
          1468.453969824407,
          1390.043068512298,
          1377.885573911673,
          1443.5367873908135,
          1524.8831305601773,
          1497.52412190601,
          1504.1957821039623,
          1510.3996777746122,
          1519.6694044551027,
          1527.1118969406723,
          1587.146339704328,
          1581.1924847295943,
          1587.3752875190933,
          1406.643325281836,
          1427.024518343904,
          1400.67340536785,
          1390.3281632081628,
          1331.380848404098,
          1346.696034567269,
          1390.47158209557,
          1557.7254730797367,
          1546.897811559381,
          1520.1920226029918,
          1529.1260534824114,
          1536.6098768988954,
          1565.637879095895,
          1401.5678912037392,
          1394.9727316367948,
          1560.0769011834166,
          1529.4593745230866,
          1478.8204337118316,
          1479.9986644346668,
          1460.1847468575352,
          1469.002153040159,
          1465.0825209877823,
          1476.8518788543174,
          1375.5513559666094,
          1326.0179941452843,
          1256.1088984187493,
          1390.3269230570768,
          1382.7204704288558,
          1334.8953223128938,
          1248.8136478268905,
          1293.2319292805887,
          1324.501726021568,
          1326.7880033709507,
          1325.670426769149,
          1323.1270076364322,
          1317.0134159503116,
          1392.2415188617103,
          1397.629850711012,
          1314.8484571081815,
          1308.505012814733,
          1312.766488062522,
          1297.3460087157175,
          1328.6592254381217,
          1390.1909965387547,
          1344.7475987524476,
          1319.0208576958696,
          1324.6467307520666,
          1405.3797740854252,
          1397.6104368306208,
          1368.1754701914797,
          1367.1266266756663,
          1446.5608441523038,
          1455.1032297388188,
          1462.897450887686,
          1497.7689529177817,
          1434.9355979329112,
          1461.0250188635014,
          1462.652977647256,
          1455.592840148923,
          1445.3738005679345,
          1404.6528917774317,
          1387.43705837804,
          1380.0926570490756,
          1464.2146008087725,
          1481.8842509901092,
          1491.763457500429,
          1507.0672154833665,
          1510.7312425355112,
          1514.248358004423,
          1382.7372747171212,
          1355.6699955128054,
          1391.6060855435758,
          1447.2440285176954,
          1448.0843762000495,
          1399.1480539339277,
          1437.8067031506118,
          1405.589049714123,
          1397.6658272837278,
          1402.0952241852326,
          1341.6085822173586,
          1375.0746957600213,
          1372.6655964042354,
          1295.0079660496124,
          1342.6751565710151
         ],
         "yaxis": "y"
        },
        {
         "customdata": [
          [
           "O'Dea",
           "2016-17",
           1
          ],
          [
           "O'Dea",
           "2016-17",
           2
          ],
          [
           "O'Dea",
           "2016-17",
           3
          ],
          [
           "O'Dea",
           "2016-17",
           4
          ],
          [
           "O'Dea",
           "2016-17",
           5
          ],
          [
           "O'Dea",
           "2016-17",
           6
          ],
          [
           "O'Dea",
           "2016-17",
           7
          ],
          [
           "O'Dea",
           "2016-17",
           8
          ],
          [
           "O'Dea",
           "2016-17",
           9
          ],
          [
           "O'Dea",
           "2016-17",
           10
          ],
          [
           "O'Dea",
           "2016-17",
           11
          ],
          [
           "O'Dea",
           "2016-17",
           12
          ],
          [
           "O'Dea",
           "2016-17",
           13
          ],
          [
           "O'Dea",
           "2016-17",
           14
          ],
          [
           "O'Dea",
           "2016-17",
           15
          ],
          [
           "O'Dea",
           "2016-17",
           16
          ],
          [
           "O'Dea",
           "2016-17",
           17
          ],
          [
           "O'Dea",
           "2016-17",
           18
          ],
          [
           "O'Dea",
           "2016-17",
           19
          ],
          [
           "O'Dea",
           "2017-18",
           1
          ],
          [
           "O'Dea",
           "2017-18",
           2
          ],
          [
           "O'Dea",
           "2017-18",
           3
          ],
          [
           "O'Dea",
           "2017-18",
           4
          ],
          [
           "O'Dea",
           "2017-18",
           5
          ],
          [
           "O'Dea",
           "2017-18",
           6
          ],
          [
           "O'Dea",
           "2017-18",
           7
          ],
          [
           "O'Dea",
           "2017-18",
           8
          ],
          [
           "O'Dea",
           "2017-18",
           9
          ],
          [
           "O'Dea",
           "2017-18",
           10
          ],
          [
           "O'Dea",
           "2017-18",
           11
          ],
          [
           "O'Dea",
           "2017-18",
           12
          ],
          [
           "O'Dea",
           "2017-18",
           13
          ],
          [
           "O'Dea",
           "2017-18",
           14
          ],
          [
           "O'Dea",
           "2017-18",
           15
          ],
          [
           "O'Dea",
           "2017-18",
           16
          ],
          [
           "O'Dea",
           "2017-18",
           17
          ],
          [
           "O'Dea",
           "2017-18",
           18
          ],
          [
           "O'Dea",
           "2017-18",
           19
          ],
          [
           "O'Dea",
           "2018-19",
           1
          ],
          [
           "O'Dea",
           "2018-19",
           2
          ],
          [
           "O'Dea",
           "2018-19",
           3
          ],
          [
           "O'Dea",
           "2018-19",
           4
          ],
          [
           "O'Dea",
           "2018-19",
           5
          ],
          [
           "O'Dea",
           "2018-19",
           6
          ],
          [
           "O'Dea",
           "2018-19",
           7
          ],
          [
           "O'Dea",
           "2018-19",
           8
          ],
          [
           "O'Dea",
           "2018-19",
           9
          ],
          [
           "O'Dea",
           "2018-19",
           10
          ],
          [
           "O'Dea",
           "2018-19",
           11
          ],
          [
           "O'Dea",
           "2018-19",
           12
          ],
          [
           "O'Dea",
           "2018-19",
           13
          ],
          [
           "O'Dea",
           "2018-19",
           14
          ],
          [
           "O'Dea",
           "2018-19",
           15
          ],
          [
           "O'Dea",
           "2018-19",
           16
          ],
          [
           "O'Dea",
           "2018-19",
           17
          ],
          [
           "O'Dea",
           "2018-19",
           18
          ],
          [
           "O'Dea",
           "2020-21",
           1
          ],
          [
           "O'Dea",
           "2020-21",
           2
          ],
          [
           "O'Dea",
           "2020-21",
           3
          ],
          [
           "O'Dea",
           "2020-21",
           4
          ],
          [
           "O'Dea",
           "2020-21",
           5
          ],
          [
           "O'Dea",
           "2020-21",
           6
          ],
          [
           "O'Dea",
           "2021-22",
           1
          ],
          [
           "O'Dea",
           "2021-22",
           2
          ],
          [
           "O'Dea",
           "2021-22",
           3
          ],
          [
           "O'Dea",
           "2021-22",
           4
          ],
          [
           "O'Dea",
           "2021-22",
           5
          ],
          [
           "O'Dea",
           "2021-22",
           6
          ],
          [
           "O'Dea",
           "2021-22",
           7
          ],
          [
           "O'Dea",
           "2021-22",
           8
          ],
          [
           "O'Dea",
           "2021-22",
           9
          ],
          [
           "O'Dea",
           "2021-22",
           10
          ],
          [
           "O'Dea",
           "2021-22",
           11
          ],
          [
           "O'Dea",
           "2021-22",
           12
          ],
          [
           "O'Dea",
           "2021-22",
           13
          ],
          [
           "O'Dea",
           "2021-22",
           14
          ],
          [
           "O'Dea",
           "2021-22",
           15
          ],
          [
           "O'Dea",
           "2021-22",
           16
          ],
          [
           "O'Dea",
           "2021-22",
           17
          ],
          [
           "O'Dea",
           "2021-22",
           18
          ],
          [
           "O'Dea",
           "2021-22",
           19
          ],
          [
           "O'Dea",
           "2021-22",
           20
          ],
          [
           "O'Dea",
           "2022-23",
           1
          ],
          [
           "O'Dea",
           "2022-23",
           2
          ],
          [
           "O'Dea",
           "2022-23",
           3
          ],
          [
           "O'Dea",
           "2022-23",
           4
          ],
          [
           "O'Dea",
           "2022-23",
           5
          ],
          [
           "O'Dea",
           "2022-23",
           6
          ],
          [
           "O'Dea",
           "2022-23",
           7
          ],
          [
           "O'Dea",
           "2022-23",
           8
          ],
          [
           "O'Dea",
           "2022-23",
           9
          ],
          [
           "O'Dea",
           "2022-23",
           10
          ],
          [
           "O'Dea",
           "2022-23",
           11
          ],
          [
           "O'Dea",
           "2022-23",
           12
          ],
          [
           "O'Dea",
           "2022-23",
           13
          ],
          [
           "O'Dea",
           "2022-23",
           14
          ],
          [
           "O'Dea",
           "2022-23",
           15
          ],
          [
           "O'Dea",
           "2023-24",
           1
          ],
          [
           "O'Dea",
           "2023-24",
           2
          ],
          [
           "O'Dea",
           "2023-24",
           3
          ],
          [
           "O'Dea",
           "2023-24",
           4
          ],
          [
           "O'Dea",
           "2023-24",
           5
          ],
          [
           "O'Dea",
           "2023-24",
           6
          ],
          [
           "O'Dea",
           "2023-24",
           7
          ],
          [
           "O'Dea",
           "2023-24",
           8
          ],
          [
           "O'Dea",
           "2023-24",
           9
          ],
          [
           "O'Dea",
           "2023-24",
           10
          ],
          [
           "O'Dea",
           "2023-24",
           11
          ],
          [
           "O'Dea",
           "2023-24",
           12
          ],
          [
           "O'Dea",
           "2023-24",
           13
          ],
          [
           "O'Dea",
           "2023-24",
           14
          ],
          [
           "O'Dea",
           "2023-24",
           15
          ],
          [
           "O'Dea",
           "2023-24",
           16
          ],
          [
           "O'Dea",
           "2023-24",
           17
          ],
          [
           "O'Dea",
           "2024-25",
           1
          ],
          [
           "O'Dea",
           "2024-25",
           2
          ],
          [
           "O'Dea",
           "2024-25",
           3
          ]
         ],
         "hovertemplate": "Team=%{customdata[0]}<br>Total Matches Played=%{x}<br>ELO Rating=%{y}<br>Season=%{customdata[1]}<br>Season Match #=%{customdata[2]}<extra></extra>",
         "legendgroup": "O'Dea",
         "line": {
          "color": "#00cc96",
          "dash": "solid"
         },
         "marker": {
          "symbol": "circle"
         },
         "mode": "lines",
         "name": "O'Dea",
         "showlegend": true,
         "type": "scattergl",
         "x": [
          1,
          2,
          3,
          4,
          5,
          6,
          7,
          8,
          9,
          10,
          11,
          12,
          13,
          14,
          15,
          16,
          17,
          18,
          19,
          20,
          21,
          22,
          23,
          24,
          25,
          26,
          27,
          28,
          29,
          30,
          31,
          32,
          33,
          34,
          35,
          36,
          37,
          38,
          39,
          40,
          41,
          42,
          43,
          44,
          45,
          46,
          47,
          48,
          49,
          50,
          51,
          52,
          53,
          54,
          55,
          56,
          57,
          58,
          59,
          60,
          61,
          62,
          63,
          64,
          65,
          66,
          67,
          68,
          69,
          70,
          71,
          72,
          73,
          74,
          75,
          76,
          77,
          78,
          79,
          80,
          81,
          82,
          83,
          84,
          85,
          86,
          87,
          88,
          89,
          90,
          91,
          92,
          93,
          94,
          95,
          96,
          97,
          98,
          99,
          100,
          101,
          102,
          103,
          104,
          105,
          106,
          107,
          108,
          109,
          110,
          111,
          112,
          113,
          114,
          115,
          116,
          117
         ],
         "xaxis": "x",
         "y": [
          1564.8988763138586,
          1569.1020802631438,
          1552.4004385189437,
          1522.668734554778,
          1658.7875481843378,
          1627.6792611176788,
          1639.89913058083,
          1648.6209297279397,
          1656.5646371420726,
          1683.61489374298,
          1591.6271576506422,
          1629.1561333042307,
          1639.0449804026057,
          1652.3835398494052,
          1646.5717479248829,
          1651.542575370221,
          1669.3402319236134,
          1665.926677033587,
          1676.29484209663,
          1693.9601359026672,
          1705.4693711983248,
          1738.5597082314362,
          1743.5571208397375,
          1753.2276930696105,
          1622.1005567244065,
          1610.2495367891968,
          1631.9637012132416,
          1657.8947868086489,
          1688.134206058552,
          1735.7556913023357,
          1733.4754686805536,
          1709.1646269805044,
          1719.3161327820587,
          1734.0576392005037,
          1663.7176051216609,
          1663.8701288018112,
          1664.0223859049308,
          1674.1825876104936,
          1695.847564543395,
          1590.1584155100436,
          1650.9527787662169,
          1675.400903482281,
          1668.2626819259583,
          1710.2757742343856,
          1730.2212092204236,
          1762.0082051284971,
          1762.7402919366982,
          1690.1010238482088,
          1693.806103949872,
          1700.5411836206456,
          1640.8587031395011,
          1627.5658443438283,
          1629.9001022590417,
          1640.7277637793975,
          1563.285627028852,
          1568.4358277485337,
          1786.3803929961202,
          1787.9488127208158,
          1727.905152968175,
          1706.2023414705516,
          1714.7256187988696,
          1711.692602609491,
          1729.8433152051746,
          1733.1633972590707,
          1736.3639491055424,
          1659.2601445378548,
          1667.0679704473846,
          1661.5652653040986,
          1676.9857446509031,
          1678.0779536991283,
          1721.3271868583622,
          1712.6905336668792,
          1700.993244469328,
          1669.149513338248,
          1682.312949280666,
          1678.9992776262843,
          1706.4280485130776,
          1713.811506195137,
          1718.8253979834956,
          1631.878219756289,
          1692.8927991306753,
          1661.9915541218422,
          1666.1245830699918,
          1711.808521254556,
          1729.4217247861332,
          1746.6375581855248,
          1753.981959514489,
          1544.119036324093,
          1552.819256471569,
          1547.1114728950167,
          1551.4829987433234,
          1555.6474009785786,
          1775.3557104423712,
          1742.7108416913754,
          1667.3313438269977,
          1643.604895506273,
          1579.5601341317963,
          1560.0093059932794,
          1634.079931498725,
          1668.1840314084566,
          1659.5440068562716,
          1723.5734851587426,
          1786.4069838252294,
          1761.2882097327451,
          1747.443651177237,
          1785.353601182102,
          1769.131558496169,
          1722.6848307022915,
          1709.0799462665582,
          1792.372566113719,
          1789.2140042955218,
          1761.7010729725598,
          1771.3223716455775,
          1776.7894723374698,
          1763.3573669248096,
          1697.689777218072,
          1701.859252311606
         ],
         "yaxis": "y"
        },
        {
         "customdata": [
          [
           "Rainier Beach",
           "2016-17",
           1
          ],
          [
           "Rainier Beach",
           "2016-17",
           2
          ],
          [
           "Rainier Beach",
           "2016-17",
           3
          ],
          [
           "Rainier Beach",
           "2016-17",
           4
          ],
          [
           "Rainier Beach",
           "2016-17",
           5
          ],
          [
           "Rainier Beach",
           "2016-17",
           6
          ],
          [
           "Rainier Beach",
           "2016-17",
           7
          ],
          [
           "Rainier Beach",
           "2016-17",
           8
          ],
          [
           "Rainier Beach",
           "2016-17",
           9
          ],
          [
           "Rainier Beach",
           "2016-17",
           10
          ],
          [
           "Rainier Beach",
           "2016-17",
           11
          ],
          [
           "Rainier Beach",
           "2016-17",
           12
          ],
          [
           "Rainier Beach",
           "2016-17",
           13
          ],
          [
           "Rainier Beach",
           "2016-17",
           14
          ],
          [
           "Rainier Beach",
           "2016-17",
           15
          ],
          [
           "Rainier Beach",
           "2016-17",
           16
          ],
          [
           "Rainier Beach",
           "2017-18",
           1
          ],
          [
           "Rainier Beach",
           "2017-18",
           2
          ],
          [
           "Rainier Beach",
           "2017-18",
           3
          ],
          [
           "Rainier Beach",
           "2017-18",
           4
          ],
          [
           "Rainier Beach",
           "2017-18",
           5
          ],
          [
           "Rainier Beach",
           "2017-18",
           6
          ],
          [
           "Rainier Beach",
           "2017-18",
           7
          ],
          [
           "Rainier Beach",
           "2017-18",
           8
          ],
          [
           "Rainier Beach",
           "2017-18",
           9
          ],
          [
           "Rainier Beach",
           "2017-18",
           10
          ],
          [
           "Rainier Beach",
           "2017-18",
           11
          ],
          [
           "Rainier Beach",
           "2017-18",
           12
          ],
          [
           "Rainier Beach",
           "2017-18",
           13
          ],
          [
           "Rainier Beach",
           "2017-18",
           14
          ],
          [
           "Rainier Beach",
           "2017-18",
           15
          ],
          [
           "Rainier Beach",
           "2017-18",
           16
          ],
          [
           "Rainier Beach",
           "2018-19",
           1
          ],
          [
           "Rainier Beach",
           "2018-19",
           2
          ],
          [
           "Rainier Beach",
           "2018-19",
           3
          ],
          [
           "Rainier Beach",
           "2018-19",
           4
          ],
          [
           "Rainier Beach",
           "2018-19",
           5
          ],
          [
           "Rainier Beach",
           "2018-19",
           6
          ],
          [
           "Rainier Beach",
           "2018-19",
           7
          ],
          [
           "Rainier Beach",
           "2018-19",
           8
          ],
          [
           "Rainier Beach",
           "2018-19",
           9
          ],
          [
           "Rainier Beach",
           "2018-19",
           10
          ],
          [
           "Rainier Beach",
           "2018-19",
           11
          ],
          [
           "Rainier Beach",
           "2018-19",
           12
          ],
          [
           "Rainier Beach",
           "2018-19",
           13
          ],
          [
           "Rainier Beach",
           "2018-19",
           14
          ],
          [
           "Rainier Beach",
           "2018-19",
           15
          ],
          [
           "Rainier Beach",
           "2018-19",
           16
          ],
          [
           "Rainier Beach",
           "2020-21",
           1
          ],
          [
           "Rainier Beach",
           "2020-21",
           2
          ],
          [
           "Rainier Beach",
           "2020-21",
           3
          ],
          [
           "Rainier Beach",
           "2020-21",
           4
          ],
          [
           "Rainier Beach",
           "2020-21",
           5
          ],
          [
           "Rainier Beach",
           "2021-22",
           1
          ],
          [
           "Rainier Beach",
           "2021-22",
           2
          ],
          [
           "Rainier Beach",
           "2021-22",
           3
          ],
          [
           "Rainier Beach",
           "2021-22",
           4
          ],
          [
           "Rainier Beach",
           "2021-22",
           5
          ],
          [
           "Rainier Beach",
           "2021-22",
           6
          ],
          [
           "Rainier Beach",
           "2021-22",
           7
          ],
          [
           "Rainier Beach",
           "2021-22",
           8
          ],
          [
           "Rainier Beach",
           "2021-22",
           9
          ],
          [
           "Rainier Beach",
           "2021-22",
           10
          ],
          [
           "Rainier Beach",
           "2021-22",
           11
          ],
          [
           "Rainier Beach",
           "2021-22",
           12
          ],
          [
           "Rainier Beach",
           "2021-22",
           13
          ],
          [
           "Rainier Beach",
           "2021-22",
           14
          ],
          [
           "Rainier Beach",
           "2021-22",
           15
          ],
          [
           "Rainier Beach",
           "2021-22",
           16
          ],
          [
           "Rainier Beach",
           "2021-22",
           17
          ],
          [
           "Rainier Beach",
           "2021-22",
           18
          ],
          [
           "Rainier Beach",
           "2021-22",
           19
          ],
          [
           "Rainier Beach",
           "2021-22",
           20
          ],
          [
           "Rainier Beach",
           "2021-22",
           21
          ],
          [
           "Rainier Beach",
           "2021-22",
           22
          ],
          [
           "Rainier Beach",
           "2021-22",
           23
          ],
          [
           "Rainier Beach",
           "2021-22",
           24
          ],
          [
           "Rainier Beach",
           "2021-22",
           25
          ],
          [
           "Rainier Beach",
           "2021-22",
           26
          ],
          [
           "Rainier Beach",
           "2021-22",
           27
          ],
          [
           "Rainier Beach",
           "2021-22",
           28
          ],
          [
           "Rainier Beach",
           "2021-22",
           29
          ],
          [
           "Rainier Beach",
           "2021-22",
           30
          ],
          [
           "Rainier Beach",
           "2022-23",
           1
          ],
          [
           "Rainier Beach",
           "2022-23",
           2
          ],
          [
           "Rainier Beach",
           "2022-23",
           3
          ],
          [
           "Rainier Beach",
           "2022-23",
           4
          ],
          [
           "Rainier Beach",
           "2022-23",
           5
          ],
          [
           "Rainier Beach",
           "2022-23",
           6
          ],
          [
           "Rainier Beach",
           "2022-23",
           7
          ],
          [
           "Rainier Beach",
           "2022-23",
           8
          ],
          [
           "Rainier Beach",
           "2022-23",
           9
          ],
          [
           "Rainier Beach",
           "2022-23",
           10
          ],
          [
           "Rainier Beach",
           "2022-23",
           11
          ],
          [
           "Rainier Beach",
           "2022-23",
           12
          ],
          [
           "Rainier Beach",
           "2022-23",
           13
          ],
          [
           "Rainier Beach",
           "2022-23",
           14
          ],
          [
           "Rainier Beach",
           "2022-23",
           15
          ],
          [
           "Rainier Beach",
           "2022-23",
           16
          ],
          [
           "Rainier Beach",
           "2022-23",
           17
          ],
          [
           "Rainier Beach",
           "2022-23",
           18
          ],
          [
           "Rainier Beach",
           "2022-23",
           19
          ],
          [
           "Rainier Beach",
           "2022-23",
           20
          ],
          [
           "Rainier Beach",
           "2022-23",
           21
          ],
          [
           "Rainier Beach",
           "2022-23",
           22
          ],
          [
           "Rainier Beach",
           "2022-23",
           23
          ],
          [
           "Rainier Beach",
           "2022-23",
           24
          ],
          [
           "Rainier Beach",
           "2022-23",
           25
          ],
          [
           "Rainier Beach",
           "2022-23",
           26
          ],
          [
           "Rainier Beach",
           "2023-24",
           1
          ],
          [
           "Rainier Beach",
           "2023-24",
           2
          ],
          [
           "Rainier Beach",
           "2023-24",
           3
          ],
          [
           "Rainier Beach",
           "2023-24",
           4
          ],
          [
           "Rainier Beach",
           "2023-24",
           5
          ],
          [
           "Rainier Beach",
           "2023-24",
           6
          ],
          [
           "Rainier Beach",
           "2023-24",
           7
          ],
          [
           "Rainier Beach",
           "2023-24",
           8
          ],
          [
           "Rainier Beach",
           "2023-24",
           9
          ],
          [
           "Rainier Beach",
           "2023-24",
           10
          ],
          [
           "Rainier Beach",
           "2023-24",
           11
          ],
          [
           "Rainier Beach",
           "2023-24",
           12
          ],
          [
           "Rainier Beach",
           "2023-24",
           13
          ],
          [
           "Rainier Beach",
           "2023-24",
           14
          ],
          [
           "Rainier Beach",
           "2023-24",
           15
          ],
          [
           "Rainier Beach",
           "2023-24",
           16
          ],
          [
           "Rainier Beach",
           "2023-24",
           17
          ],
          [
           "Rainier Beach",
           "2023-24",
           18
          ],
          [
           "Rainier Beach",
           "2023-24",
           19
          ],
          [
           "Rainier Beach",
           "2023-24",
           20
          ],
          [
           "Rainier Beach",
           "2023-24",
           21
          ],
          [
           "Rainier Beach",
           "2023-24",
           22
          ],
          [
           "Rainier Beach",
           "2023-24",
           23
          ],
          [
           "Rainier Beach",
           "2023-24",
           24
          ],
          [
           "Rainier Beach",
           "2024-25",
           1
          ],
          [
           "Rainier Beach",
           "2024-25",
           2
          ],
          [
           "Rainier Beach",
           "2024-25",
           3
          ],
          [
           "Rainier Beach",
           "2024-25",
           4
          ]
         ],
         "hovertemplate": "Team=%{customdata[0]}<br>Total Matches Played=%{x}<br>ELO Rating=%{y}<br>Season=%{customdata[1]}<br>Season Match #=%{customdata[2]}<extra></extra>",
         "legendgroup": "Rainier Beach",
         "line": {
          "color": "#ab63fa",
          "dash": "solid"
         },
         "marker": {
          "symbol": "circle"
         },
         "mode": "lines",
         "name": "Rainier Beach",
         "showlegend": true,
         "type": "scattergl",
         "x": [
          1,
          2,
          3,
          4,
          5,
          6,
          7,
          8,
          9,
          10,
          11,
          12,
          13,
          14,
          15,
          16,
          17,
          18,
          19,
          20,
          21,
          22,
          23,
          24,
          25,
          26,
          27,
          28,
          29,
          30,
          31,
          32,
          33,
          34,
          35,
          36,
          37,
          38,
          39,
          40,
          41,
          42,
          43,
          44,
          45,
          46,
          47,
          48,
          49,
          50,
          51,
          52,
          53,
          54,
          55,
          56,
          57,
          58,
          59,
          60,
          61,
          62,
          63,
          64,
          65,
          66,
          67,
          68,
          69,
          70,
          71,
          72,
          73,
          74,
          75,
          76,
          77,
          78,
          79,
          80,
          81,
          82,
          83,
          84,
          85,
          86,
          87,
          88,
          89,
          90,
          91,
          92,
          93,
          94,
          95,
          96,
          97,
          98,
          99,
          100,
          101,
          102,
          103,
          104,
          105,
          106,
          107,
          108,
          109,
          110,
          111,
          112,
          113,
          114,
          115,
          116,
          117,
          118,
          119,
          120,
          121,
          122,
          123,
          124,
          125,
          126,
          127,
          128,
          129,
          130,
          131,
          132,
          133,
          134,
          135,
          136,
          137
         ],
         "xaxis": "x",
         "y": [
          1503.6932500805945,
          1483.2949999960188,
          1465.887377339168,
          1450.791422734189,
          1439.7671090045476,
          1352.163773915255,
          1348.457817978288,
          1408.2789446129614,
          1385.0121749269324,
          1372.7923054637813,
          1349.4180528066536,
          1382.8091231161168,
          1407.7588449967116,
          1379.5621896330886,
          1381.1131590301018,
          1347.600277968484,
          1333.142631815117,
          1135.4847710692843,
          1168.842058738156,
          1193.7717616780958,
          1182.448693219097,
          1150.8152722906316,
          1150.3281714054556,
          1131.6265765960184,
          1307.719566956456,
          1284.1259173972344,
          1272.6166821015768,
          1253.3675340301734,
          1235.9776813548176,
          1209.4290110469703,
          1182.4531996648493,
          1147.3416138286295,
          1109.7503409195306,
          1118.7335819055145,
          1116.3993239903011,
          1115.9599680763963,
          1104.0338937272193,
          1113.4573962685647,
          1054.7080187191634,
          1097.3848899131092,
          1084.5715592681795,
          1076.311421962906,
          1067.7416326866885,
          1066.9186248039346,
          1052.4305588434331,
          1026.414023606303,
          1033.0091831732475,
          1055.4398755511038,
          1130.6900140968082,
          1087.5133495554146,
          1085.7052140762426,
          1129.121594372113,
          1091.8145745892898,
          1015.5874964191504,
          1013.6980803633788,
          1011.7756030216556,
          1009.8932286624904,
          1009.7003915487982,
          1009.5079813959225,
          1001.7134332157252,
          994.5277962812412,
          994.1535990377467,
          993.7810054130728,
          993.0947218452422,
          992.413793357242,
          985.5776393008454,
          979.1760858037076,
          1085.0653645294071,
          1084.4301862840016,
          1081.1101042301054,
          1077.9095523836338,
          1050.0367013076084,
          1027.6765032195246,
          1043.2045589290792,
          1056.4716434871325,
          1012.0533620334344,
          980.783565292455,
          973.520886300222,
          966.8081902187562,
          999.4560220396072,
          1029.5777646065533,
          1023.3427771390386,
          1017.5187084131998,
          942.7724114880918,
          916.0575885712848,
          895.1856750090178,
          878.1387752903952,
          873.7672494420887,
          869.6028472068335,
          877.7276060609568,
          885.2635264414173,
          906.3222128165326,
          923.4959300802208,
          930.9110982690032,
          938.1279618406244,
          920.198572833139,
          905.1950707084168,
          902.7386172254218,
          900.3486150920351,
          891.8062295055203,
          884.012008356653,
          871.4679576341825,
          860.4559676967742,
          857.1866568883328,
          854.0285788517214,
          887.2995705661964,
          918.1483623857956,
          922.2017920603902,
          926.0583992159592,
          896.7591883347906,
          870.2997474823512,
          863.026005853037,
          856.2374088249159,
          854.4994281487756,
          852.7944099427558,
          744.0978459721172,
          743.8412095502553,
          742.1086973842982,
          740.408946116602,
          740.0370764523532,
          739.6667905710887,
          849.3933845111684,
          846.1193922150278,
          844.2021333243566,
          842.3247664310146,
          839.0722372067239,
          835.9298592449567,
          819.9580460537903,
          806.3650735503941,
          802.7010464982492,
          799.1839310293376,
          767.9907357162822,
          744.3552391240174,
          730.8256320426357,
          735.5920153127666,
          733.0288051895732,
          729.3451866466733
         ],
         "yaxis": "y"
        },
        {
         "customdata": [
          [
           "Roosevelt",
           "2016-17",
           1
          ],
          [
           "Roosevelt",
           "2016-17",
           2
          ],
          [
           "Roosevelt",
           "2016-17",
           3
          ],
          [
           "Roosevelt",
           "2016-17",
           4
          ],
          [
           "Roosevelt",
           "2016-17",
           5
          ],
          [
           "Roosevelt",
           "2016-17",
           6
          ],
          [
           "Roosevelt",
           "2016-17",
           7
          ],
          [
           "Roosevelt",
           "2016-17",
           8
          ],
          [
           "Roosevelt",
           "2016-17",
           9
          ],
          [
           "Roosevelt",
           "2016-17",
           10
          ],
          [
           "Roosevelt",
           "2016-17",
           11
          ],
          [
           "Roosevelt",
           "2016-17",
           12
          ],
          [
           "Roosevelt",
           "2016-17",
           13
          ],
          [
           "Roosevelt",
           "2016-17",
           14
          ],
          [
           "Roosevelt",
           "2016-17",
           15
          ],
          [
           "Roosevelt",
           "2016-17",
           16
          ],
          [
           "Roosevelt",
           "2016-17",
           17
          ],
          [
           "Roosevelt",
           "2016-17",
           18
          ],
          [
           "Roosevelt",
           "2016-17",
           19
          ],
          [
           "Roosevelt",
           "2016-17",
           20
          ],
          [
           "Roosevelt",
           "2016-17",
           21
          ],
          [
           "Roosevelt",
           "2017-18",
           1
          ],
          [
           "Roosevelt",
           "2017-18",
           2
          ],
          [
           "Roosevelt",
           "2017-18",
           3
          ],
          [
           "Roosevelt",
           "2017-18",
           4
          ],
          [
           "Roosevelt",
           "2017-18",
           5
          ],
          [
           "Roosevelt",
           "2017-18",
           6
          ],
          [
           "Roosevelt",
           "2017-18",
           7
          ],
          [
           "Roosevelt",
           "2017-18",
           8
          ],
          [
           "Roosevelt",
           "2017-18",
           9
          ],
          [
           "Roosevelt",
           "2017-18",
           10
          ],
          [
           "Roosevelt",
           "2017-18",
           11
          ],
          [
           "Roosevelt",
           "2017-18",
           12
          ],
          [
           "Roosevelt",
           "2017-18",
           13
          ],
          [
           "Roosevelt",
           "2017-18",
           14
          ],
          [
           "Roosevelt",
           "2017-18",
           15
          ],
          [
           "Roosevelt",
           "2017-18",
           16
          ],
          [
           "Roosevelt",
           "2017-18",
           17
          ],
          [
           "Roosevelt",
           "2017-18",
           18
          ],
          [
           "Roosevelt",
           "2017-18",
           19
          ],
          [
           "Roosevelt",
           "2017-18",
           20
          ],
          [
           "Roosevelt",
           "2018-19",
           1
          ],
          [
           "Roosevelt",
           "2018-19",
           2
          ],
          [
           "Roosevelt",
           "2018-19",
           3
          ],
          [
           "Roosevelt",
           "2018-19",
           4
          ],
          [
           "Roosevelt",
           "2018-19",
           5
          ],
          [
           "Roosevelt",
           "2018-19",
           6
          ],
          [
           "Roosevelt",
           "2018-19",
           7
          ],
          [
           "Roosevelt",
           "2018-19",
           8
          ],
          [
           "Roosevelt",
           "2018-19",
           9
          ],
          [
           "Roosevelt",
           "2018-19",
           10
          ],
          [
           "Roosevelt",
           "2018-19",
           11
          ],
          [
           "Roosevelt",
           "2018-19",
           12
          ],
          [
           "Roosevelt",
           "2018-19",
           13
          ],
          [
           "Roosevelt",
           "2018-19",
           14
          ],
          [
           "Roosevelt",
           "2018-19",
           15
          ],
          [
           "Roosevelt",
           "2018-19",
           16
          ],
          [
           "Roosevelt",
           "2018-19",
           17
          ],
          [
           "Roosevelt",
           "2018-19",
           18
          ],
          [
           "Roosevelt",
           "2020-21",
           1
          ],
          [
           "Roosevelt",
           "2020-21",
           2
          ],
          [
           "Roosevelt",
           "2020-21",
           3
          ],
          [
           "Roosevelt",
           "2020-21",
           4
          ],
          [
           "Roosevelt",
           "2020-21",
           5
          ],
          [
           "Roosevelt",
           "2020-21",
           6
          ],
          [
           "Roosevelt",
           "2021-22",
           1
          ],
          [
           "Roosevelt",
           "2021-22",
           2
          ],
          [
           "Roosevelt",
           "2021-22",
           3
          ],
          [
           "Roosevelt",
           "2021-22",
           4
          ],
          [
           "Roosevelt",
           "2021-22",
           5
          ],
          [
           "Roosevelt",
           "2021-22",
           6
          ],
          [
           "Roosevelt",
           "2021-22",
           7
          ],
          [
           "Roosevelt",
           "2021-22",
           8
          ],
          [
           "Roosevelt",
           "2021-22",
           9
          ],
          [
           "Roosevelt",
           "2021-22",
           10
          ],
          [
           "Roosevelt",
           "2021-22",
           11
          ],
          [
           "Roosevelt",
           "2021-22",
           12
          ],
          [
           "Roosevelt",
           "2021-22",
           13
          ],
          [
           "Roosevelt",
           "2021-22",
           14
          ],
          [
           "Roosevelt",
           "2021-22",
           15
          ],
          [
           "Roosevelt",
           "2021-22",
           16
          ],
          [
           "Roosevelt",
           "2021-22",
           17
          ],
          [
           "Roosevelt",
           "2022-23",
           1
          ],
          [
           "Roosevelt",
           "2022-23",
           2
          ],
          [
           "Roosevelt",
           "2022-23",
           3
          ],
          [
           "Roosevelt",
           "2022-23",
           4
          ],
          [
           "Roosevelt",
           "2022-23",
           5
          ],
          [
           "Roosevelt",
           "2022-23",
           6
          ],
          [
           "Roosevelt",
           "2022-23",
           7
          ],
          [
           "Roosevelt",
           "2022-23",
           8
          ],
          [
           "Roosevelt",
           "2022-23",
           9
          ],
          [
           "Roosevelt",
           "2022-23",
           10
          ],
          [
           "Roosevelt",
           "2022-23",
           11
          ],
          [
           "Roosevelt",
           "2022-23",
           12
          ],
          [
           "Roosevelt",
           "2022-23",
           13
          ],
          [
           "Roosevelt",
           "2022-23",
           14
          ],
          [
           "Roosevelt",
           "2022-23",
           15
          ],
          [
           "Roosevelt",
           "2022-23",
           16
          ],
          [
           "Roosevelt",
           "2023-24",
           1
          ],
          [
           "Roosevelt",
           "2023-24",
           2
          ],
          [
           "Roosevelt",
           "2023-24",
           3
          ],
          [
           "Roosevelt",
           "2023-24",
           4
          ],
          [
           "Roosevelt",
           "2023-24",
           5
          ],
          [
           "Roosevelt",
           "2023-24",
           6
          ],
          [
           "Roosevelt",
           "2023-24",
           7
          ],
          [
           "Roosevelt",
           "2023-24",
           8
          ],
          [
           "Roosevelt",
           "2023-24",
           9
          ],
          [
           "Roosevelt",
           "2023-24",
           10
          ],
          [
           "Roosevelt",
           "2023-24",
           11
          ],
          [
           "Roosevelt",
           "2023-24",
           12
          ],
          [
           "Roosevelt",
           "2023-24",
           13
          ],
          [
           "Roosevelt",
           "2023-24",
           14
          ],
          [
           "Roosevelt",
           "2023-24",
           15
          ],
          [
           "Roosevelt",
           "2023-24",
           16
          ],
          [
           "Roosevelt",
           "2023-24",
           17
          ],
          [
           "Roosevelt",
           "2023-24",
           18
          ],
          [
           "Roosevelt",
           "2023-24",
           19
          ],
          [
           "Roosevelt",
           "2024-25",
           1
          ],
          [
           "Roosevelt",
           "2024-25",
           2
          ],
          [
           "Roosevelt",
           "2024-25",
           3
          ],
          [
           "Roosevelt",
           "2024-25",
           4
          ]
         ],
         "hovertemplate": "Team=%{customdata[0]}<br>Total Matches Played=%{x}<br>ELO Rating=%{y}<br>Season=%{customdata[1]}<br>Season Match #=%{customdata[2]}<extra></extra>",
         "legendgroup": "Roosevelt",
         "line": {
          "color": "#FFA15A",
          "dash": "solid"
         },
         "marker": {
          "symbol": "circle"
         },
         "mode": "lines",
         "name": "Roosevelt",
         "showlegend": true,
         "type": "scattergl",
         "x": [
          1,
          2,
          3,
          4,
          5,
          6,
          7,
          8,
          9,
          10,
          11,
          12,
          13,
          14,
          15,
          16,
          17,
          18,
          19,
          20,
          21,
          22,
          23,
          24,
          25,
          26,
          27,
          28,
          29,
          30,
          31,
          32,
          33,
          34,
          35,
          36,
          37,
          38,
          39,
          40,
          41,
          42,
          43,
          44,
          45,
          46,
          47,
          48,
          49,
          50,
          51,
          52,
          53,
          54,
          55,
          56,
          57,
          58,
          59,
          60,
          61,
          62,
          63,
          64,
          65,
          66,
          67,
          68,
          69,
          70,
          71,
          72,
          73,
          74,
          75,
          76,
          77,
          78,
          79,
          80,
          81,
          82,
          83,
          84,
          85,
          86,
          87,
          88,
          89,
          90,
          91,
          92,
          93,
          94,
          95,
          96,
          97,
          98,
          99,
          100,
          101,
          102,
          103,
          104,
          105,
          106,
          107,
          108,
          109,
          110,
          111,
          112,
          113,
          114,
          115,
          116,
          117,
          118,
          119,
          120,
          121
         ],
         "xaxis": "x",
         "y": [
          1486.0875073527898,
          1558.5639478893577,
          1587.6393279648792,
          1604.610768992763,
          1680.111729749361,
          1719.308710360243,
          1750.7968747518291,
          1789.0429246691526,
          1805.6850175664165,
          1811.5650399404292,
          1817.0778627810143,
          1843.8994061461187,
          1620.5781973071653,
          1616.3749933578802,
          1626.4859431805355,
          1621.114451971524,
          1628.3088673825464,
          1624.1868249307408,
          1628.0146228750573,
          1593.4940067880818,
          1611.0933387128655,
          1877.1286672344147,
          1882.3947435665184,
          1897.3796684453896,
          1914.8516702126644,
          1943.2421036230808,
          1974.897503571836,
          2012.412079711518,
          2017.933536298814,
          2029.930495366132,
          1997.4668429173496,
          2017.647087776571,
          1986.08670635368,
          1986.851798565484,
          1997.7061427355964,
          1997.770511827532,
          1997.8348332602736,
          2000.059282938844,
          2006.0131379135776,
          2006.7336173901824,
          2007.2207182753584,
          2008.704160281364,
          2023.7707100593493,
          2027.877050126358,
          2045.47052776328,
          2028.419712372413,
          2040.8744089751028,
          2032.057002792479,
          2032.8800106752328,
          2049.9964910507965,
          2050.1368021961134,
          2052.902566612323,
          2053.3531198489004,
          2054.98364988354,
          2062.121871439862,
          2062.6491315821354,
          2056.4866824047795,
          2024.611474249505,
          2025.8089300596048,
          2052.961558693916,
          2057.607367273634,
          2049.372765090634,
          2049.794990426946,
          2055.460221236206,
          2057.984256458857,
          2069.4794055465995,
          2084.540239256496,
          2090.120457977228,
          2094.017810417999,
          2094.6576599648342,
          2095.29283821024,
          2086.849383915306,
          2090.5692806851816,
          2105.606042932362,
          2105.9425291411303,
          2076.4919008080824,
          2040.032686878238,
          2002.5097006026413,
          1966.201597080907,
          1966.269180894073,
          1967.3867574958756,
          1968.249536193911,
          1933.5324885364053,
          1870.4337541976677,
          1824.732170371925,
          1778.855929766471,
          1678.69741367931,
          1657.323662751428,
          1685.253011148826,
          1712.0210250333614,
          1695.908861523478,
          1682.052137625147,
          1683.338751614602,
          1630.621002155711,
          1666.0620999634143,
          1687.1048241176416,
          1665.7280424180217,
          1592.4661689703012,
          1614.0668824024974,
          1585.160577904043,
          1582.193905231162,
          1566.7244745599594,
          1551.1319838037464,
          1545.664883111854,
          1607.7838184741363,
          1592.9644292204453,
          1591.8612431874988,
          1610.01967876114,
          1618.0792657496768,
          1613.717360734976,
          1616.856758991644,
          1622.1578274944152,
          1652.314086784477,
          1608.989602225632,
          1592.2812198133345,
          1596.8856010703482,
          1609.6244002247286,
          1603.8222402033082,
          1624.4028504999587,
          1623.9590459543426,
          1567.4350904148223
         ],
         "yaxis": "y"
        },
        {
         "customdata": [
          [
           "Seattle Prep",
           "2016-17",
           1
          ],
          [
           "Seattle Prep",
           "2016-17",
           2
          ],
          [
           "Seattle Prep",
           "2016-17",
           3
          ],
          [
           "Seattle Prep",
           "2016-17",
           4
          ],
          [
           "Seattle Prep",
           "2016-17",
           5
          ],
          [
           "Seattle Prep",
           "2016-17",
           6
          ],
          [
           "Seattle Prep",
           "2016-17",
           7
          ],
          [
           "Seattle Prep",
           "2016-17",
           8
          ],
          [
           "Seattle Prep",
           "2016-17",
           9
          ],
          [
           "Seattle Prep",
           "2016-17",
           10
          ],
          [
           "Seattle Prep",
           "2016-17",
           11
          ],
          [
           "Seattle Prep",
           "2016-17",
           12
          ],
          [
           "Seattle Prep",
           "2016-17",
           13
          ],
          [
           "Seattle Prep",
           "2016-17",
           14
          ],
          [
           "Seattle Prep",
           "2016-17",
           15
          ],
          [
           "Seattle Prep",
           "2016-17",
           16
          ],
          [
           "Seattle Prep",
           "2016-17",
           17
          ],
          [
           "Seattle Prep",
           "2016-17",
           18
          ],
          [
           "Seattle Prep",
           "2016-17",
           19
          ],
          [
           "Seattle Prep",
           "2017-18",
           1
          ],
          [
           "Seattle Prep",
           "2017-18",
           2
          ],
          [
           "Seattle Prep",
           "2017-18",
           3
          ],
          [
           "Seattle Prep",
           "2017-18",
           4
          ],
          [
           "Seattle Prep",
           "2017-18",
           5
          ],
          [
           "Seattle Prep",
           "2017-18",
           6
          ],
          [
           "Seattle Prep",
           "2017-18",
           7
          ],
          [
           "Seattle Prep",
           "2017-18",
           8
          ],
          [
           "Seattle Prep",
           "2017-18",
           9
          ],
          [
           "Seattle Prep",
           "2017-18",
           10
          ],
          [
           "Seattle Prep",
           "2017-18",
           11
          ],
          [
           "Seattle Prep",
           "2017-18",
           12
          ],
          [
           "Seattle Prep",
           "2017-18",
           13
          ],
          [
           "Seattle Prep",
           "2017-18",
           14
          ],
          [
           "Seattle Prep",
           "2017-18",
           15
          ],
          [
           "Seattle Prep",
           "2017-18",
           16
          ],
          [
           "Seattle Prep",
           "2017-18",
           17
          ],
          [
           "Seattle Prep",
           "2018-19",
           1
          ],
          [
           "Seattle Prep",
           "2018-19",
           2
          ],
          [
           "Seattle Prep",
           "2018-19",
           3
          ],
          [
           "Seattle Prep",
           "2018-19",
           4
          ],
          [
           "Seattle Prep",
           "2018-19",
           5
          ],
          [
           "Seattle Prep",
           "2018-19",
           6
          ],
          [
           "Seattle Prep",
           "2018-19",
           7
          ],
          [
           "Seattle Prep",
           "2018-19",
           8
          ],
          [
           "Seattle Prep",
           "2018-19",
           9
          ],
          [
           "Seattle Prep",
           "2018-19",
           10
          ],
          [
           "Seattle Prep",
           "2018-19",
           11
          ],
          [
           "Seattle Prep",
           "2018-19",
           12
          ],
          [
           "Seattle Prep",
           "2018-19",
           13
          ],
          [
           "Seattle Prep",
           "2018-19",
           14
          ],
          [
           "Seattle Prep",
           "2018-19",
           15
          ],
          [
           "Seattle Prep",
           "2018-19",
           16
          ],
          [
           "Seattle Prep",
           "2020-21",
           1
          ],
          [
           "Seattle Prep",
           "2020-21",
           2
          ],
          [
           "Seattle Prep",
           "2020-21",
           3
          ],
          [
           "Seattle Prep",
           "2020-21",
           4
          ],
          [
           "Seattle Prep",
           "2020-21",
           5
          ],
          [
           "Seattle Prep",
           "2021-22",
           1
          ],
          [
           "Seattle Prep",
           "2021-22",
           2
          ],
          [
           "Seattle Prep",
           "2021-22",
           3
          ],
          [
           "Seattle Prep",
           "2021-22",
           4
          ],
          [
           "Seattle Prep",
           "2021-22",
           5
          ],
          [
           "Seattle Prep",
           "2021-22",
           6
          ],
          [
           "Seattle Prep",
           "2021-22",
           7
          ],
          [
           "Seattle Prep",
           "2021-22",
           8
          ],
          [
           "Seattle Prep",
           "2021-22",
           9
          ],
          [
           "Seattle Prep",
           "2021-22",
           10
          ],
          [
           "Seattle Prep",
           "2021-22",
           11
          ],
          [
           "Seattle Prep",
           "2021-22",
           12
          ],
          [
           "Seattle Prep",
           "2021-22",
           13
          ],
          [
           "Seattle Prep",
           "2021-22",
           14
          ],
          [
           "Seattle Prep",
           "2021-22",
           15
          ],
          [
           "Seattle Prep",
           "2021-22",
           16
          ],
          [
           "Seattle Prep",
           "2021-22",
           17
          ],
          [
           "Seattle Prep",
           "2021-22",
           18
          ],
          [
           "Seattle Prep",
           "2021-22",
           19
          ],
          [
           "Seattle Prep",
           "2022-23",
           1
          ],
          [
           "Seattle Prep",
           "2022-23",
           2
          ],
          [
           "Seattle Prep",
           "2022-23",
           3
          ],
          [
           "Seattle Prep",
           "2022-23",
           4
          ],
          [
           "Seattle Prep",
           "2022-23",
           5
          ],
          [
           "Seattle Prep",
           "2022-23",
           6
          ],
          [
           "Seattle Prep",
           "2022-23",
           7
          ],
          [
           "Seattle Prep",
           "2022-23",
           8
          ],
          [
           "Seattle Prep",
           "2022-23",
           9
          ],
          [
           "Seattle Prep",
           "2022-23",
           10
          ],
          [
           "Seattle Prep",
           "2022-23",
           11
          ],
          [
           "Seattle Prep",
           "2022-23",
           12
          ],
          [
           "Seattle Prep",
           "2022-23",
           13
          ],
          [
           "Seattle Prep",
           "2022-23",
           14
          ],
          [
           "Seattle Prep",
           "2022-23",
           15
          ],
          [
           "Seattle Prep",
           "2022-23",
           16
          ],
          [
           "Seattle Prep",
           "2022-23",
           17
          ],
          [
           "Seattle Prep",
           "2022-23",
           18
          ],
          [
           "Seattle Prep",
           "2023-24",
           1
          ],
          [
           "Seattle Prep",
           "2023-24",
           2
          ],
          [
           "Seattle Prep",
           "2023-24",
           3
          ],
          [
           "Seattle Prep",
           "2023-24",
           4
          ],
          [
           "Seattle Prep",
           "2023-24",
           5
          ],
          [
           "Seattle Prep",
           "2023-24",
           6
          ],
          [
           "Seattle Prep",
           "2023-24",
           7
          ],
          [
           "Seattle Prep",
           "2023-24",
           8
          ],
          [
           "Seattle Prep",
           "2023-24",
           9
          ],
          [
           "Seattle Prep",
           "2023-24",
           10
          ],
          [
           "Seattle Prep",
           "2023-24",
           11
          ],
          [
           "Seattle Prep",
           "2023-24",
           12
          ],
          [
           "Seattle Prep",
           "2023-24",
           13
          ],
          [
           "Seattle Prep",
           "2023-24",
           14
          ],
          [
           "Seattle Prep",
           "2023-24",
           15
          ],
          [
           "Seattle Prep",
           "2023-24",
           16
          ],
          [
           "Seattle Prep",
           "2023-24",
           17
          ],
          [
           "Seattle Prep",
           "2023-24",
           18
          ],
          [
           "Seattle Prep",
           "2024-25",
           1
          ],
          [
           "Seattle Prep",
           "2024-25",
           2
          ],
          [
           "Seattle Prep",
           "2024-25",
           3
          ],
          [
           "Seattle Prep",
           "2024-25",
           4
          ],
          [
           "Seattle Prep",
           "2024-25",
           5
          ]
         ],
         "hovertemplate": "Team=%{customdata[0]}<br>Total Matches Played=%{x}<br>ELO Rating=%{y}<br>Season=%{customdata[1]}<br>Season Match #=%{customdata[2]}<extra></extra>",
         "legendgroup": "Seattle Prep",
         "line": {
          "color": "#19d3f3",
          "dash": "solid"
         },
         "marker": {
          "symbol": "circle"
         },
         "mode": "lines",
         "name": "Seattle Prep",
         "showlegend": true,
         "type": "scattergl",
         "x": [
          1,
          2,
          3,
          4,
          5,
          6,
          7,
          8,
          9,
          10,
          11,
          12,
          13,
          14,
          15,
          16,
          17,
          18,
          19,
          20,
          21,
          22,
          23,
          24,
          25,
          26,
          27,
          28,
          29,
          30,
          31,
          32,
          33,
          34,
          35,
          36,
          37,
          38,
          39,
          40,
          41,
          42,
          43,
          44,
          45,
          46,
          47,
          48,
          49,
          50,
          51,
          52,
          53,
          54,
          55,
          56,
          57,
          58,
          59,
          60,
          61,
          62,
          63,
          64,
          65,
          66,
          67,
          68,
          69,
          70,
          71,
          72,
          73,
          74,
          75,
          76,
          77,
          78,
          79,
          80,
          81,
          82,
          83,
          84,
          85,
          86,
          87,
          88,
          89,
          90,
          91,
          92,
          93,
          94,
          95,
          96,
          97,
          98,
          99,
          100,
          101,
          102,
          103,
          104,
          105,
          106,
          107,
          108,
          109,
          110,
          111,
          112,
          113,
          114,
          115,
          116,
          117
         ],
         "xaxis": "x",
         "y": [
          1521.2496796431303,
          1500.1455101639226,
          1626.624334977176,
          1670.136747589495,
          1632.6077719359064,
          1595.2329650393106,
          1611.967724688887,
          1626.115596462554,
          1660.1515676475092,
          1434.620110704518,
          1417.648669676634,
          1413.2009158281892,
          1433.1836648841231,
          1468.5686082190753,
          1490.2424431589725,
          1518.664289478233,
          1529.6886032078744,
          1538.7908863099035,
          1560.7870870952218,
          1679.4007157189126,
          1702.489419785822,
          1747.1668407779628,
          1751.8317187935806,
          1760.6227101154768,
          1743.2610340250908,
          1787.9565138852545,
          1765.1872737392937,
          1754.3329295691813,
          1761.0128737890575,
          1754.3339018068468,
          1724.0944825569438,
          1724.3950086573857,
          1724.6944993445284,
          1732.1161422812393,
          1725.9333394917403,
          1727.6700353515578,
          1516.348603880025,
          1509.6135242092514,
          1499.6291006044476,
          1534.7742166595033,
          1585.4131574707585,
          1587.4588685882095,
          1606.3216807108563,
          1693.4801253228777,
          1654.9222927489598,
          1639.8557429709747,
          1614.1933142574453,
          1554.4068895560954,
          1522.7242669860202,
          1518.2112727965232,
          1509.2280318105393,
          1518.5345079962117,
          1558.1075532566497,
          1528.2915217499467,
          1605.7913469652042,
          1545.0155666035998,
          1560.6315884793005,
          1632.28115590036,
          1662.6688923341285,
          1665.9825639885098,
          1638.5537931017166,
          1667.8850942303884,
          1705.4080805059853,
          1741.7161840277197,
          1724.6893350915543,
          1720.5708800284094,
          1730.16995115418,
          1817.5547117334415,
          1743.9468266341437,
          1726.986535464974,
          1731.1971943893675,
          1737.3107860754883,
          1705.6703976852923,
          1718.9188853548335,
          1719.605168922664,
          1720.2860974106643,
          1635.1581517802158,
          1661.1102810833868,
          1701.8311898738898,
          1725.5576381946144,
          1805.1837641452491,
          1858.0899882101023,
          1845.5770119743952,
          1817.110888137054,
          1826.602667537875,
          1766.2724638541522,
          1759.4153838518753,
          1779.9464760569067,
          1736.2916734969629,
          1726.2383739978222,
          1637.992354976218,
          1657.930948745593,
          1662.0902058052968,
          1606.350211348395,
          1823.463269281207,
          1830.9712157769063,
          1783.5454437942162,
          1806.583800489092,
          1826.9934142741877,
          1859.0901891318429,
          1859.853040255791,
          1881.291398423232,
          1888.710228019064,
          1817.6084563118327,
          1848.9772655555787,
          1786.143766889092,
          1787.662895983956,
          1783.8379120322654,
          1756.567014971251,
          1788.3006483664908,
          1797.0509705817524,
          1812.6434613379652,
          1945.267501439737,
          1951.948220128933,
          1947.778745035399,
          1915.237137722939,
          1822.266595460816
         ],
         "yaxis": "y"
        },
        {
         "customdata": [
          [
           "West Seattle",
           "2016-17",
           1
          ],
          [
           "West Seattle",
           "2016-17",
           2
          ],
          [
           "West Seattle",
           "2016-17",
           3
          ],
          [
           "West Seattle",
           "2016-17",
           4
          ],
          [
           "West Seattle",
           "2016-17",
           5
          ],
          [
           "West Seattle",
           "2016-17",
           6
          ],
          [
           "West Seattle",
           "2016-17",
           7
          ],
          [
           "West Seattle",
           "2016-17",
           8
          ],
          [
           "West Seattle",
           "2016-17",
           9
          ],
          [
           "West Seattle",
           "2016-17",
           10
          ],
          [
           "West Seattle",
           "2016-17",
           11
          ],
          [
           "West Seattle",
           "2016-17",
           12
          ],
          [
           "West Seattle",
           "2016-17",
           13
          ],
          [
           "West Seattle",
           "2016-17",
           14
          ],
          [
           "West Seattle",
           "2016-17",
           15
          ],
          [
           "West Seattle",
           "2016-17",
           16
          ],
          [
           "West Seattle",
           "2016-17",
           17
          ],
          [
           "West Seattle",
           "2016-17",
           18
          ],
          [
           "West Seattle",
           "2016-17",
           19
          ],
          [
           "West Seattle",
           "2016-17",
           20
          ],
          [
           "West Seattle",
           "2017-18",
           1
          ],
          [
           "West Seattle",
           "2017-18",
           2
          ],
          [
           "West Seattle",
           "2017-18",
           3
          ],
          [
           "West Seattle",
           "2017-18",
           4
          ],
          [
           "West Seattle",
           "2017-18",
           5
          ],
          [
           "West Seattle",
           "2017-18",
           6
          ],
          [
           "West Seattle",
           "2017-18",
           7
          ],
          [
           "West Seattle",
           "2017-18",
           8
          ],
          [
           "West Seattle",
           "2017-18",
           9
          ],
          [
           "West Seattle",
           "2017-18",
           10
          ],
          [
           "West Seattle",
           "2017-18",
           11
          ],
          [
           "West Seattle",
           "2017-18",
           12
          ],
          [
           "West Seattle",
           "2017-18",
           13
          ],
          [
           "West Seattle",
           "2017-18",
           14
          ],
          [
           "West Seattle",
           "2017-18",
           15
          ],
          [
           "West Seattle",
           "2017-18",
           16
          ],
          [
           "West Seattle",
           "2017-18",
           17
          ],
          [
           "West Seattle",
           "2018-19",
           1
          ],
          [
           "West Seattle",
           "2018-19",
           2
          ],
          [
           "West Seattle",
           "2018-19",
           3
          ],
          [
           "West Seattle",
           "2018-19",
           4
          ],
          [
           "West Seattle",
           "2018-19",
           5
          ],
          [
           "West Seattle",
           "2018-19",
           6
          ],
          [
           "West Seattle",
           "2018-19",
           7
          ],
          [
           "West Seattle",
           "2018-19",
           8
          ],
          [
           "West Seattle",
           "2018-19",
           9
          ],
          [
           "West Seattle",
           "2018-19",
           10
          ],
          [
           "West Seattle",
           "2018-19",
           11
          ],
          [
           "West Seattle",
           "2018-19",
           12
          ],
          [
           "West Seattle",
           "2018-19",
           13
          ],
          [
           "West Seattle",
           "2018-19",
           14
          ],
          [
           "West Seattle",
           "2018-19",
           15
          ],
          [
           "West Seattle",
           "2018-19",
           16
          ],
          [
           "West Seattle",
           "2020-21",
           1
          ],
          [
           "West Seattle",
           "2020-21",
           2
          ],
          [
           "West Seattle",
           "2020-21",
           3
          ],
          [
           "West Seattle",
           "2020-21",
           4
          ],
          [
           "West Seattle",
           "2020-21",
           5
          ],
          [
           "West Seattle",
           "2021-22",
           1
          ],
          [
           "West Seattle",
           "2021-22",
           2
          ],
          [
           "West Seattle",
           "2021-22",
           3
          ],
          [
           "West Seattle",
           "2021-22",
           4
          ],
          [
           "West Seattle",
           "2021-22",
           5
          ],
          [
           "West Seattle",
           "2021-22",
           6
          ],
          [
           "West Seattle",
           "2021-22",
           7
          ],
          [
           "West Seattle",
           "2021-22",
           8
          ],
          [
           "West Seattle",
           "2021-22",
           9
          ],
          [
           "West Seattle",
           "2021-22",
           10
          ],
          [
           "West Seattle",
           "2021-22",
           11
          ],
          [
           "West Seattle",
           "2021-22",
           12
          ],
          [
           "West Seattle",
           "2021-22",
           13
          ],
          [
           "West Seattle",
           "2021-22",
           14
          ],
          [
           "West Seattle",
           "2021-22",
           15
          ],
          [
           "West Seattle",
           "2021-22",
           16
          ],
          [
           "West Seattle",
           "2021-22",
           17
          ],
          [
           "West Seattle",
           "2022-23",
           1
          ],
          [
           "West Seattle",
           "2022-23",
           2
          ],
          [
           "West Seattle",
           "2022-23",
           3
          ],
          [
           "West Seattle",
           "2022-23",
           4
          ],
          [
           "West Seattle",
           "2022-23",
           5
          ],
          [
           "West Seattle",
           "2022-23",
           6
          ],
          [
           "West Seattle",
           "2022-23",
           7
          ],
          [
           "West Seattle",
           "2022-23",
           8
          ],
          [
           "West Seattle",
           "2022-23",
           9
          ],
          [
           "West Seattle",
           "2022-23",
           10
          ],
          [
           "West Seattle",
           "2022-23",
           11
          ],
          [
           "West Seattle",
           "2022-23",
           12
          ],
          [
           "West Seattle",
           "2022-23",
           13
          ],
          [
           "West Seattle",
           "2022-23",
           14
          ],
          [
           "West Seattle",
           "2022-23",
           15
          ],
          [
           "West Seattle",
           "2022-23",
           16
          ],
          [
           "West Seattle",
           "2022-23",
           17
          ],
          [
           "West Seattle",
           "2023-24",
           1
          ],
          [
           "West Seattle",
           "2023-24",
           2
          ],
          [
           "West Seattle",
           "2023-24",
           3
          ],
          [
           "West Seattle",
           "2023-24",
           4
          ],
          [
           "West Seattle",
           "2023-24",
           5
          ],
          [
           "West Seattle",
           "2023-24",
           6
          ],
          [
           "West Seattle",
           "2023-24",
           7
          ],
          [
           "West Seattle",
           "2023-24",
           8
          ],
          [
           "West Seattle",
           "2023-24",
           9
          ],
          [
           "West Seattle",
           "2023-24",
           10
          ],
          [
           "West Seattle",
           "2023-24",
           11
          ],
          [
           "West Seattle",
           "2023-24",
           12
          ],
          [
           "West Seattle",
           "2023-24",
           13
          ],
          [
           "West Seattle",
           "2023-24",
           14
          ],
          [
           "West Seattle",
           "2023-24",
           15
          ],
          [
           "West Seattle",
           "2023-24",
           16
          ],
          [
           "West Seattle",
           "2023-24",
           17
          ],
          [
           "West Seattle",
           "2024-25",
           1
          ],
          [
           "West Seattle",
           "2024-25",
           2
          ],
          [
           "West Seattle",
           "2024-25",
           3
          ],
          [
           "West Seattle",
           "2024-25",
           4
          ]
         ],
         "hovertemplate": "Team=%{customdata[0]}<br>Total Matches Played=%{x}<br>ELO Rating=%{y}<br>Season=%{customdata[1]}<br>Season Match #=%{customdata[2]}<extra></extra>",
         "legendgroup": "West Seattle",
         "line": {
          "color": "#FF6692",
          "dash": "solid"
         },
         "marker": {
          "symbol": "circle"
         },
         "mode": "lines",
         "name": "West Seattle",
         "showlegend": true,
         "type": "scattergl",
         "x": [
          1,
          2,
          3,
          4,
          5,
          6,
          7,
          8,
          9,
          10,
          11,
          12,
          13,
          14,
          15,
          16,
          17,
          18,
          19,
          20,
          21,
          22,
          23,
          24,
          25,
          26,
          27,
          28,
          29,
          30,
          31,
          32,
          33,
          34,
          35,
          36,
          37,
          38,
          39,
          40,
          41,
          42,
          43,
          44,
          45,
          46,
          47,
          48,
          49,
          50,
          51,
          52,
          53,
          54,
          55,
          56,
          57,
          58,
          59,
          60,
          61,
          62,
          63,
          64,
          65,
          66,
          67,
          68,
          69,
          70,
          71,
          72,
          73,
          74,
          75,
          76,
          77,
          78,
          79,
          80,
          81,
          82,
          83,
          84,
          85,
          86,
          87,
          88,
          89,
          90,
          91,
          92,
          93,
          94,
          95,
          96,
          97,
          98,
          99,
          100,
          101,
          102,
          103,
          104,
          105,
          106,
          107,
          108,
          109,
          110,
          111,
          112,
          113
         ],
         "xaxis": "x",
         "y": [
          1528.1118097155793,
          1554.0525446006982,
          1597.7142753247474,
          1576.0404403848504,
          1580.162482836656,
          1533.50539993004,
          1532.3358402688625,
          1538.1271907952005,
          1548.2518196178737,
          1557.346897695893,
          1557.2115413576148,
          1513.699128745296,
          1526.9285424166203,
          1543.6301841608208,
          1573.3618881249863,
          1517.0897026908542,
          1523.5268159679522,
          1538.6305085703532,
          1533.5236620262967,
          1533.8868096658755,
          1576.4517382666531,
          1461.8206353856733,
          1489.1668471622588,
          1559.5068812411016,
          1648.7855480513483,
          1615.1515168672192,
          1638.726876672992,
          1577.1583614646786,
          1543.9291003763826,
          1544.8449223606751,
          1511.7545853275635,
          1467.077164335423,
          1469.9831526908922,
          1472.795766535922,
          1391.4494233665584,
          1431.3536075045563,
          1443.2104502639015,
          1664.3893053865213,
          1412.4129394680815,
          1411.8856793258085,
          1425.1229952691992,
          1429.042627321576,
          1443.5306932820774,
          1436.7846791204954,
          1441.3716135856157,
          1634.4185255500863,
          1552.9257448327933,
          1567.3575452793957,
          1498.7634406125946,
          1498.4345690431535,
          1476.7119812816436,
          1473.429108889805,
          1402.9526034001324,
          1450.2369113372954,
          1496.5943105539238,
          1556.6379703065647,
          1563.7092129096827,
          1568.010437943558,
          1314.535434505966,
          1336.8956325940496,
          1333.0910889457052,
          1325.7076312636457,
          1324.883308453827,
          1320.6726495294336,
          1289.3594328070294,
          1375.455425439788,
          1556.5152888558157,
          1555.524048287352,
          1473.9994148326068,
          1475.367124210427,
          1407.8556947725483,
          1392.2306737257486,
          1310.401792053705,
          1292.1923720420707,
          1286.6625834299407,
          1374.0339373821223,
          1382.267675718819,
          1436.9635723989422,
          1379.7554129002135,
          1347.4789151735415,
          1340.2620516019208,
          1358.191440609406,
          1373.1949427341283,
          1374.421791235626,
          1370.6912473025925,
          1368.7540407659292,
          1359.262261365108,
          1367.7777923072915,
          1369.5080822958714,
          1373.3127995056054,
          1345.4661702286703,
          1354.8940833623242,
          1371.8051562629428,
          1381.604412089557,
          1363.5272647354109,
          1366.7797939597017,
          1369.9221719214686,
          1331.2635227047845,
          1337.752705089712,
          1176.782628584247,
          1311.5414459452984,
          1313.346673389474,
          1269.0358684343794,
          1199.9913698149956,
          1154.4353942765924,
          1181.5026734809082,
          1183.2351856468654,
          1184.9349369145616,
          1180.6012899225768,
          1167.302006340734,
          1244.959636695357,
          1284.611431028516,
          1224.468616888318
         ],
         "yaxis": "y"
        }
       ],
       "layout": {
        "height": 700,
        "hovermode": "x unified",
        "legend": {
         "itemclick": "toggleothers",
         "title": {
          "text": "Team"
         },
         "tracegroupgap": 0,
         "traceorder": "normal"
        },
        "margin": {
         "b": 50,
         "t": 50
        },
        "template": {
         "data": {
          "bar": [
           {
            "error_x": {
             "color": "#2a3f5f"
            },
            "error_y": {
             "color": "#2a3f5f"
            },
            "marker": {
             "line": {
              "color": "#E5ECF6",
              "width": 0.5
             },
             "pattern": {
              "fillmode": "overlay",
              "size": 10,
              "solidity": 0.2
             }
            },
            "type": "bar"
           }
          ],
          "barpolar": [
           {
            "marker": {
             "line": {
              "color": "#E5ECF6",
              "width": 0.5
             },
             "pattern": {
              "fillmode": "overlay",
              "size": 10,
              "solidity": 0.2
             }
            },
            "type": "barpolar"
           }
          ],
          "carpet": [
           {
            "aaxis": {
             "endlinecolor": "#2a3f5f",
             "gridcolor": "white",
             "linecolor": "white",
             "minorgridcolor": "white",
             "startlinecolor": "#2a3f5f"
            },
            "baxis": {
             "endlinecolor": "#2a3f5f",
             "gridcolor": "white",
             "linecolor": "white",
             "minorgridcolor": "white",
             "startlinecolor": "#2a3f5f"
            },
            "type": "carpet"
           }
          ],
          "choropleth": [
           {
            "colorbar": {
             "outlinewidth": 0,
             "ticks": ""
            },
            "type": "choropleth"
           }
          ],
          "contour": [
           {
            "colorbar": {
             "outlinewidth": 0,
             "ticks": ""
            },
            "colorscale": [
             [
              0,
              "#0d0887"
             ],
             [
              0.1111111111111111,
              "#46039f"
             ],
             [
              0.2222222222222222,
              "#7201a8"
             ],
             [
              0.3333333333333333,
              "#9c179e"
             ],
             [
              0.4444444444444444,
              "#bd3786"
             ],
             [
              0.5555555555555556,
              "#d8576b"
             ],
             [
              0.6666666666666666,
              "#ed7953"
             ],
             [
              0.7777777777777778,
              "#fb9f3a"
             ],
             [
              0.8888888888888888,
              "#fdca26"
             ],
             [
              1,
              "#f0f921"
             ]
            ],
            "type": "contour"
           }
          ],
          "contourcarpet": [
           {
            "colorbar": {
             "outlinewidth": 0,
             "ticks": ""
            },
            "type": "contourcarpet"
           }
          ],
          "heatmap": [
           {
            "colorbar": {
             "outlinewidth": 0,
             "ticks": ""
            },
            "colorscale": [
             [
              0,
              "#0d0887"
             ],
             [
              0.1111111111111111,
              "#46039f"
             ],
             [
              0.2222222222222222,
              "#7201a8"
             ],
             [
              0.3333333333333333,
              "#9c179e"
             ],
             [
              0.4444444444444444,
              "#bd3786"
             ],
             [
              0.5555555555555556,
              "#d8576b"
             ],
             [
              0.6666666666666666,
              "#ed7953"
             ],
             [
              0.7777777777777778,
              "#fb9f3a"
             ],
             [
              0.8888888888888888,
              "#fdca26"
             ],
             [
              1,
              "#f0f921"
             ]
            ],
            "type": "heatmap"
           }
          ],
          "heatmapgl": [
           {
            "colorbar": {
             "outlinewidth": 0,
             "ticks": ""
            },
            "colorscale": [
             [
              0,
              "#0d0887"
             ],
             [
              0.1111111111111111,
              "#46039f"
             ],
             [
              0.2222222222222222,
              "#7201a8"
             ],
             [
              0.3333333333333333,
              "#9c179e"
             ],
             [
              0.4444444444444444,
              "#bd3786"
             ],
             [
              0.5555555555555556,
              "#d8576b"
             ],
             [
              0.6666666666666666,
              "#ed7953"
             ],
             [
              0.7777777777777778,
              "#fb9f3a"
             ],
             [
              0.8888888888888888,
              "#fdca26"
             ],
             [
              1,
              "#f0f921"
             ]
            ],
            "type": "heatmapgl"
           }
          ],
          "histogram": [
           {
            "marker": {
             "pattern": {
              "fillmode": "overlay",
              "size": 10,
              "solidity": 0.2
             }
            },
            "type": "histogram"
           }
          ],
          "histogram2d": [
           {
            "colorbar": {
             "outlinewidth": 0,
             "ticks": ""
            },
            "colorscale": [
             [
              0,
              "#0d0887"
             ],
             [
              0.1111111111111111,
              "#46039f"
             ],
             [
              0.2222222222222222,
              "#7201a8"
             ],
             [
              0.3333333333333333,
              "#9c179e"
             ],
             [
              0.4444444444444444,
              "#bd3786"
             ],
             [
              0.5555555555555556,
              "#d8576b"
             ],
             [
              0.6666666666666666,
              "#ed7953"
             ],
             [
              0.7777777777777778,
              "#fb9f3a"
             ],
             [
              0.8888888888888888,
              "#fdca26"
             ],
             [
              1,
              "#f0f921"
             ]
            ],
            "type": "histogram2d"
           }
          ],
          "histogram2dcontour": [
           {
            "colorbar": {
             "outlinewidth": 0,
             "ticks": ""
            },
            "colorscale": [
             [
              0,
              "#0d0887"
             ],
             [
              0.1111111111111111,
              "#46039f"
             ],
             [
              0.2222222222222222,
              "#7201a8"
             ],
             [
              0.3333333333333333,
              "#9c179e"
             ],
             [
              0.4444444444444444,
              "#bd3786"
             ],
             [
              0.5555555555555556,
              "#d8576b"
             ],
             [
              0.6666666666666666,
              "#ed7953"
             ],
             [
              0.7777777777777778,
              "#fb9f3a"
             ],
             [
              0.8888888888888888,
              "#fdca26"
             ],
             [
              1,
              "#f0f921"
             ]
            ],
            "type": "histogram2dcontour"
           }
          ],
          "mesh3d": [
           {
            "colorbar": {
             "outlinewidth": 0,
             "ticks": ""
            },
            "type": "mesh3d"
           }
          ],
          "parcoords": [
           {
            "line": {
             "colorbar": {
              "outlinewidth": 0,
              "ticks": ""
             }
            },
            "type": "parcoords"
           }
          ],
          "pie": [
           {
            "automargin": true,
            "type": "pie"
           }
          ],
          "scatter": [
           {
            "fillpattern": {
             "fillmode": "overlay",
             "size": 10,
             "solidity": 0.2
            },
            "type": "scatter"
           }
          ],
          "scatter3d": [
           {
            "line": {
             "colorbar": {
              "outlinewidth": 0,
              "ticks": ""
             }
            },
            "marker": {
             "colorbar": {
              "outlinewidth": 0,
              "ticks": ""
             }
            },
            "type": "scatter3d"
           }
          ],
          "scattercarpet": [
           {
            "marker": {
             "colorbar": {
              "outlinewidth": 0,
              "ticks": ""
             }
            },
            "type": "scattercarpet"
           }
          ],
          "scattergeo": [
           {
            "marker": {
             "colorbar": {
              "outlinewidth": 0,
              "ticks": ""
             }
            },
            "type": "scattergeo"
           }
          ],
          "scattergl": [
           {
            "marker": {
             "colorbar": {
              "outlinewidth": 0,
              "ticks": ""
             }
            },
            "type": "scattergl"
           }
          ],
          "scattermapbox": [
           {
            "marker": {
             "colorbar": {
              "outlinewidth": 0,
              "ticks": ""
             }
            },
            "type": "scattermapbox"
           }
          ],
          "scatterpolar": [
           {
            "marker": {
             "colorbar": {
              "outlinewidth": 0,
              "ticks": ""
             }
            },
            "type": "scatterpolar"
           }
          ],
          "scatterpolargl": [
           {
            "marker": {
             "colorbar": {
              "outlinewidth": 0,
              "ticks": ""
             }
            },
            "type": "scatterpolargl"
           }
          ],
          "scatterternary": [
           {
            "marker": {
             "colorbar": {
              "outlinewidth": 0,
              "ticks": ""
             }
            },
            "type": "scatterternary"
           }
          ],
          "surface": [
           {
            "colorbar": {
             "outlinewidth": 0,
             "ticks": ""
            },
            "colorscale": [
             [
              0,
              "#0d0887"
             ],
             [
              0.1111111111111111,
              "#46039f"
             ],
             [
              0.2222222222222222,
              "#7201a8"
             ],
             [
              0.3333333333333333,
              "#9c179e"
             ],
             [
              0.4444444444444444,
              "#bd3786"
             ],
             [
              0.5555555555555556,
              "#d8576b"
             ],
             [
              0.6666666666666666,
              "#ed7953"
             ],
             [
              0.7777777777777778,
              "#fb9f3a"
             ],
             [
              0.8888888888888888,
              "#fdca26"
             ],
             [
              1,
              "#f0f921"
             ]
            ],
            "type": "surface"
           }
          ],
          "table": [
           {
            "cells": {
             "fill": {
              "color": "#EBF0F8"
             },
             "line": {
              "color": "white"
             }
            },
            "header": {
             "fill": {
              "color": "#C8D4E3"
             },
             "line": {
              "color": "white"
             }
            },
            "type": "table"
           }
          ]
         },
         "layout": {
          "annotationdefaults": {
           "arrowcolor": "#2a3f5f",
           "arrowhead": 0,
           "arrowwidth": 1
          },
          "autotypenumbers": "strict",
          "coloraxis": {
           "colorbar": {
            "outlinewidth": 0,
            "ticks": ""
           }
          },
          "colorscale": {
           "diverging": [
            [
             0,
             "#8e0152"
            ],
            [
             0.1,
             "#c51b7d"
            ],
            [
             0.2,
             "#de77ae"
            ],
            [
             0.3,
             "#f1b6da"
            ],
            [
             0.4,
             "#fde0ef"
            ],
            [
             0.5,
             "#f7f7f7"
            ],
            [
             0.6,
             "#e6f5d0"
            ],
            [
             0.7,
             "#b8e186"
            ],
            [
             0.8,
             "#7fbc41"
            ],
            [
             0.9,
             "#4d9221"
            ],
            [
             1,
             "#276419"
            ]
           ],
           "sequential": [
            [
             0,
             "#0d0887"
            ],
            [
             0.1111111111111111,
             "#46039f"
            ],
            [
             0.2222222222222222,
             "#7201a8"
            ],
            [
             0.3333333333333333,
             "#9c179e"
            ],
            [
             0.4444444444444444,
             "#bd3786"
            ],
            [
             0.5555555555555556,
             "#d8576b"
            ],
            [
             0.6666666666666666,
             "#ed7953"
            ],
            [
             0.7777777777777778,
             "#fb9f3a"
            ],
            [
             0.8888888888888888,
             "#fdca26"
            ],
            [
             1,
             "#f0f921"
            ]
           ],
           "sequentialminus": [
            [
             0,
             "#0d0887"
            ],
            [
             0.1111111111111111,
             "#46039f"
            ],
            [
             0.2222222222222222,
             "#7201a8"
            ],
            [
             0.3333333333333333,
             "#9c179e"
            ],
            [
             0.4444444444444444,
             "#bd3786"
            ],
            [
             0.5555555555555556,
             "#d8576b"
            ],
            [
             0.6666666666666666,
             "#ed7953"
            ],
            [
             0.7777777777777778,
             "#fb9f3a"
            ],
            [
             0.8888888888888888,
             "#fdca26"
            ],
            [
             1,
             "#f0f921"
            ]
           ]
          },
          "colorway": [
           "#636efa",
           "#EF553B",
           "#00cc96",
           "#ab63fa",
           "#FFA15A",
           "#19d3f3",
           "#FF6692",
           "#B6E880",
           "#FF97FF",
           "#FECB52"
          ],
          "font": {
           "color": "#2a3f5f"
          },
          "geo": {
           "bgcolor": "white",
           "lakecolor": "white",
           "landcolor": "#E5ECF6",
           "showlakes": true,
           "showland": true,
           "subunitcolor": "white"
          },
          "hoverlabel": {
           "align": "left"
          },
          "hovermode": "closest",
          "mapbox": {
           "style": "light"
          },
          "paper_bgcolor": "white",
          "plot_bgcolor": "#E5ECF6",
          "polar": {
           "angularaxis": {
            "gridcolor": "white",
            "linecolor": "white",
            "ticks": ""
           },
           "bgcolor": "#E5ECF6",
           "radialaxis": {
            "gridcolor": "white",
            "linecolor": "white",
            "ticks": ""
           }
          },
          "scene": {
           "xaxis": {
            "backgroundcolor": "#E5ECF6",
            "gridcolor": "white",
            "gridwidth": 2,
            "linecolor": "white",
            "showbackground": true,
            "ticks": "",
            "zerolinecolor": "white"
           },
           "yaxis": {
            "backgroundcolor": "#E5ECF6",
            "gridcolor": "white",
            "gridwidth": 2,
            "linecolor": "white",
            "showbackground": true,
            "ticks": "",
            "zerolinecolor": "white"
           },
           "zaxis": {
            "backgroundcolor": "#E5ECF6",
            "gridcolor": "white",
            "gridwidth": 2,
            "linecolor": "white",
            "showbackground": true,
            "ticks": "",
            "zerolinecolor": "white"
           }
          },
          "shapedefaults": {
           "line": {
            "color": "#2a3f5f"
           }
          },
          "ternary": {
           "aaxis": {
            "gridcolor": "white",
            "linecolor": "white",
            "ticks": ""
           },
           "baxis": {
            "gridcolor": "white",
            "linecolor": "white",
            "ticks": ""
           },
           "bgcolor": "#E5ECF6",
           "caxis": {
            "gridcolor": "white",
            "linecolor": "white",
            "ticks": ""
           }
          },
          "title": {
           "x": 0.05
          },
          "xaxis": {
           "automargin": true,
           "gridcolor": "white",
           "linecolor": "white",
           "ticks": "",
           "title": {
            "standoff": 15
           },
           "zerolinecolor": "white",
           "zerolinewidth": 2
          },
          "yaxis": {
           "automargin": true,
           "gridcolor": "white",
           "linecolor": "white",
           "ticks": "",
           "title": {
            "standoff": 15
           },
           "zerolinecolor": "white",
           "zerolinewidth": 2
          }
         }
        },
        "title": {
         "text": "High School Soccer ELO Progression by Team"
        },
        "xaxis": {
         "anchor": "y",
         "domain": [
          0,
          1
         ],
         "showgrid": true,
         "title": {
          "text": "Total Matches Played"
         }
        },
        "yaxis": {
         "anchor": "x",
         "domain": [
          0,
          1
         ],
         "showgrid": true,
         "title": {
          "text": "ELO Rating"
         }
        }
       }
      }
     },
     "metadata": {},
     "output_type": "display_data"
    }
   ],
   "source": [
    "import pandas as pd\n",
    "import plotly.express as px\n",
    "\n",
    "# Load your data\n",
    "df = pd.read_csv(r\"C:\\Users\\User\\Desktop\\Soccer Footage\\metroleague_elo_long.csv\")\n",
    "\n",
    "# Sort and prep labels\n",
    "df = df.sort_values(by=[\"Team\", \"Season\", \"Season Match #\"])\n",
    "df[\"Season Match Label\"] = df[\"Season\"] + \" | Match \" + df[\"Season Match #\"].astype(str)\n",
    "\n",
    "# Create a match counter across all games for proper plotting\n",
    "df[\"Global Match #\"] = df.groupby(\"Team\").cumcount() + 1\n",
    "\n",
    "# Build interactive line plot\n",
    "fig = px.line(\n",
    "    df,\n",
    "    x=\"Global Match #\",\n",
    "    y=\"ELO\",\n",
    "    color=\"Team\",\n",
    "    line_group=\"Team\",\n",
    "    hover_data=[\"Team\", \"Season\", \"Season Match #\", \"ELO\"],\n",
    "    title=\"High School Soccer ELO Progression by Team\",\n",
    "    labels={\"Global Match #\": \"Total Matches Played\", \"ELO\": \"ELO Rating\"},\n",
    ")\n",
    "\n",
    "fig.update_layout(\n",
    "    hovermode=\"x unified\",\n",
    "    xaxis=dict(showgrid=True),\n",
    "    yaxis=dict(showgrid=True),\n",
    "    legend=dict(title=\"Team\", traceorder=\"normal\", itemclick=\"toggleothers\"),\n",
    "    height=700,\n",
    "    margin=dict(t=50, b=50),\n",
    ")\n",
    "\n",
    "fig.show()\n"
   ]
  },
  {
   "cell_type": "code",
   "execution_count": 268,
   "metadata": {},
   "outputs": [
    {
     "data": {
      "application/vnd.plotly.v1+json": {
       "config": {
        "plotlyServerURL": "https://plot.ly"
       },
       "data": [
        {
         "customdata": [
          [
           "Bainbridge",
           1526.16028929557
          ],
          [
           "Bainbridge",
           1679.1151500765905
          ],
          [
           "Bainbridge",
           1393.6817275851013
          ]
         ],
         "hovertemplate": "Team=%{customdata[0]}<br>Season=%{x}<br>End-of-Season ELO=%{y}<br>Start ELO=%{customdata[1]}<extra></extra>",
         "legendgroup": "Bainbridge",
         "line": {
          "color": "#636efa",
          "dash": "solid"
         },
         "marker": {
          "symbol": "circle"
         },
         "mode": "lines+markers",
         "name": "Bainbridge",
         "orientation": "v",
         "showlegend": true,
         "type": "scatter",
         "x": [
          "2016-17",
          "2017-18",
          "2018-19"
         ],
         "xaxis": "x",
         "y": [
          1623.0154158499329,
          1428.072476324009,
          1466.7636314753893
         ],
         "yaxis": "y"
        },
        {
         "customdata": [
          [
           "Ballard",
           1540.056159817625
          ],
          [
           "Ballard",
           1676.880332817781
          ],
          [
           "Ballard",
           1587.6620214959803
          ],
          [
           "Ballard",
           1602.0374495757462
          ],
          [
           "Ballard",
           1600.730171166099
          ],
          [
           "Ballard",
           1604.691920601314
          ],
          [
           "Ballard",
           1897.0696776213235
          ],
          [
           "Ballard",
           1699.3303535747764
          ]
         ],
         "hovertemplate": "Team=%{customdata[0]}<br>Season=%{x}<br>End-of-Season ELO=%{y}<br>Start ELO=%{customdata[1]}<extra></extra>",
         "legendgroup": "Ballard",
         "line": {
          "color": "#EF553B",
          "dash": "solid"
         },
         "marker": {
          "symbol": "circle"
         },
         "mode": "lines+markers",
         "name": "Ballard",
         "orientation": "v",
         "showlegend": true,
         "type": "scatter",
         "x": [
          "2016-17",
          "2017-18",
          "2018-19",
          "2020-21",
          "2021-22",
          "2022-23",
          "2023-24",
          "2024-25"
         ],
         "xaxis": "x",
         "y": [
          1626.5027905599254,
          1497.96412401485,
          1604.690321082481,
          1554.2123014597842,
          1557.1719098846706,
          1648.6795971180293,
          1614.6975893136648,
          1696.108114866416
         ],
         "yaxis": "y"
        },
        {
         "customdata": [
          [
           "Bishop Blanchet",
           1487.2021818387625
          ],
          [
           "Bishop Blanchet",
           1435.8123897991245
          ],
          [
           "Bishop Blanchet",
           1519.783995232672
          ],
          [
           "Bishop Blanchet",
           1551.9858841939458
          ],
          [
           "Bishop Blanchet",
           1622.9538399216317
          ],
          [
           "Bishop Blanchet",
           1574.4928551948476
          ],
          [
           "Bishop Blanchet",
           1507.7867760905451
          ],
          [
           "Bishop Blanchet",
           1800.6339253124684
          ]
         ],
         "hovertemplate": "Team=%{customdata[0]}<br>Season=%{x}<br>End-of-Season ELO=%{y}<br>Start ELO=%{customdata[1]}<extra></extra>",
         "legendgroup": "Bishop Blanchet",
         "line": {
          "color": "#00cc96",
          "dash": "solid"
         },
         "marker": {
          "symbol": "circle"
         },
         "mode": "lines+markers",
         "name": "Bishop Blanchet",
         "orientation": "v",
         "showlegend": true,
         "type": "scatter",
         "x": [
          "2016-17",
          "2017-18",
          "2018-19",
          "2020-21",
          "2021-22",
          "2022-23",
          "2023-24",
          "2024-25"
         ],
         "xaxis": "x",
         "y": [
          1417.378182940238,
          1380.8360985173065,
          1567.6019060696465,
          1548.4653301137912,
          1486.8915728696768,
          1507.2593114887404,
          1646.3696631792927,
          1744.109969772948
         ],
         "yaxis": "y"
        },
        {
         "customdata": [
          [
           "Chief Sealth",
           1480.0347004408138
          ],
          [
           "Chief Sealth",
           1484.09264734186
          ],
          [
           "Chief Sealth",
           1422.0730039000516
          ],
          [
           "Chief Sealth",
           1412.2630193159705
          ],
          [
           "Chief Sealth",
           1537.8120931988497
          ],
          [
           "Chief Sealth",
           1692.9703857615598
          ],
          [
           "Chief Sealth",
           1564.719004253068
          ],
          [
           "Chief Sealth",
           1436.4589167550575
          ]
         ],
         "hovertemplate": "Team=%{customdata[0]}<br>Season=%{x}<br>End-of-Season ELO=%{y}<br>Start ELO=%{customdata[1]}<extra></extra>",
         "legendgroup": "Chief Sealth",
         "line": {
          "color": "#ab63fa",
          "dash": "solid"
         },
         "marker": {
          "symbol": "circle"
         },
         "mode": "lines+markers",
         "name": "Chief Sealth",
         "orientation": "v",
         "showlegend": true,
         "type": "scatter",
         "x": [
          "2016-17",
          "2017-18",
          "2018-19",
          "2020-21",
          "2021-22",
          "2022-23",
          "2023-24",
          "2024-25"
         ],
         "xaxis": "x",
         "y": [
          1358.7241022553535,
          1354.8824705033833,
          1405.881065175891,
          1519.2174422732846,
          1650.8066179023044,
          1600.4766007751964,
          1455.216168774169,
          1341.9350843006027
         ],
         "yaxis": "y"
        },
        {
         "customdata": [
          [
           "Cleveland",
           1460.4151497248488
          ],
          [
           "Cleveland",
           929.2126392030832
          ],
          [
           "Cleveland",
           777.9556467411633
          ],
          [
           "Cleveland",
           772.4986366216187
          ],
          [
           "Cleveland",
           797.3480689002658
          ],
          [
           "Cleveland",
           735.7973200896992
          ],
          [
           "Cleveland",
           687.7385728533047
          ],
          [
           "Cleveland",
           682.202959142725
          ]
         ],
         "hovertemplate": "Team=%{customdata[0]}<br>Season=%{x}<br>End-of-Season ELO=%{y}<br>Start ELO=%{customdata[1]}<extra></extra>",
         "legendgroup": "Cleveland",
         "line": {
          "color": "#FFA15A",
          "dash": "solid"
         },
         "marker": {
          "symbol": "circle"
         },
         "mode": "lines+markers",
         "name": "Cleveland",
         "orientation": "v",
         "showlegend": true,
         "type": "scatter",
         "x": [
          "2016-17",
          "2017-18",
          "2018-19",
          "2020-21",
          "2021-22",
          "2022-23",
          "2023-24",
          "2024-25"
         ],
         "xaxis": "x",
         "y": [
          933.6584472919296,
          796.8921868575364,
          763.5311769285587,
          798.7157782780858,
          739.3019458160586,
          664.877896409705,
          694.2078386322617,
          679.681479863451
         ],
         "yaxis": "y"
        },
        {
         "customdata": [
          [
           "Eastside Catholic",
           1458.4955360195188
          ],
          [
           "Eastside Catholic",
           1210.6174388944205
          ],
          [
           "Eastside Catholic",
           1424.2886860066906
          ],
          [
           "Eastside Catholic",
           1382.334885710012
          ],
          [
           "Eastside Catholic",
           1373.02526284033
          ],
          [
           "Eastside Catholic",
           1175.833462981669
          ],
          [
           "Eastside Catholic",
           1365.6390862070073
          ],
          [
           "Eastside Catholic",
           1605.3758855378592
          ]
         ],
         "hovertemplate": "Team=%{customdata[0]}<br>Season=%{x}<br>End-of-Season ELO=%{y}<br>Start ELO=%{customdata[1]}<extra></extra>",
         "legendgroup": "Eastside Catholic",
         "line": {
          "color": "#19d3f3",
          "dash": "solid"
         },
         "marker": {
          "symbol": "circle"
         },
         "mode": "lines+markers",
         "name": "Eastside Catholic",
         "orientation": "v",
         "showlegend": true,
         "type": "scatter",
         "x": [
          "2016-17",
          "2017-18",
          "2018-19",
          "2020-21",
          "2021-22",
          "2022-23",
          "2023-24",
          "2024-25"
         ],
         "xaxis": "x",
         "y": [
          1230.9986319564885,
          1362.5193521051444,
          1355.6945813398895,
          1389.40612831313,
          1179.9927200413729,
          1160.992385743238,
          1506.356372185926,
          1615.3294903825956
         ],
         "yaxis": "y"
        },
        {
         "customdata": [
          [
           "Franklin",
           1486.717041153965
          ],
          [
           "Franklin",
           1453.804628547649
          ],
          [
           "Franklin",
           1169.7867785784815
          ],
          [
           "Franklin",
           1494.8453972267205
          ],
          [
           "Franklin",
           1441.5908626490998
          ],
          [
           "Franklin",
           1243.6849300856356
          ],
          [
           "Franklin",
           1110.2477579722608
          ],
          [
           "Franklin",
           1117.064255296842
          ]
         ],
         "hovertemplate": "Team=%{customdata[0]}<br>Season=%{x}<br>End-of-Season ELO=%{y}<br>Start ELO=%{customdata[1]}<extra></extra>",
         "legendgroup": "Franklin",
         "line": {
          "color": "#FF6692",
          "dash": "solid"
         },
         "marker": {
          "symbol": "circle"
         },
         "mode": "lines+markers",
         "name": "Franklin",
         "orientation": "v",
         "showlegend": true,
         "type": "scatter",
         "x": [
          "2016-17",
          "2017-18",
          "2018-19",
          "2020-21",
          "2021-22",
          "2022-23",
          "2023-24",
          "2024-25"
         ],
         "xaxis": "x",
         "y": [
          1400.2774556334848,
          1192.9301535473096,
          1179.093254764154,
          1359.571312402148,
          1335.7079925568812,
          1097.6145929106583,
          1045.6174798861714,
          1192.1050132087582
         ],
         "yaxis": "y"
        },
        {
         "customdata": [
          [
           "Garfield",
           1551.2051999842308
          ],
          [
           "Garfield",
           1675.8374237336652
          ],
          [
           "Garfield",
           1961.932641836384
          ],
          [
           "Garfield",
           1708.9585816369363
          ],
          [
           "Garfield",
           1715.616327422861
          ],
          [
           "Garfield",
           1629.8582127592288
          ],
          [
           "Garfield",
           1693.56439365998
          ],
          [
           "Garfield",
           1768.752877988199
          ]
         ],
         "hovertemplate": "Team=%{customdata[0]}<br>Season=%{x}<br>End-of-Season ELO=%{y}<br>Start ELO=%{customdata[1]}<extra></extra>",
         "legendgroup": "Garfield",
         "line": {
          "color": "#B6E880",
          "dash": "solid"
         },
         "marker": {
          "symbol": "circle"
         },
         "mode": "lines+markers",
         "name": "Garfield",
         "orientation": "v",
         "showlegend": true,
         "type": "scatter",
         "x": [
          "2016-17",
          "2017-18",
          "2018-19",
          "2020-21",
          "2021-22",
          "2022-23",
          "2023-24",
          "2024-25"
         ],
         "xaxis": "x",
         "y": [
          1652.2437741744436,
          1755.115105870905,
          1845.6986276387252,
          1705.9255654475578,
          1593.5859333824565,
          1560.3032161046424,
          1747.6522778982649,
          1708.9733658591656
         ],
         "yaxis": "y"
        },
        {
         "customdata": [
          [
           "Ingraham",
           1230.4739829530365
          ],
          [
           "Ingraham",
           1370.4128659096966
          ],
          [
           "Ingraham",
           1331.1351766738762
          ],
          [
           "Ingraham",
           1168.5302944236837
          ],
          [
           "Ingraham",
           1349.7327250430176
          ],
          [
           "Ingraham",
           1424.4543731511972
          ],
          [
           "Ingraham",
           1432.24781566331
          ],
          [
           "Ingraham",
           1425.3712802412065
          ]
         ],
         "hovertemplate": "Team=%{customdata[0]}<br>Season=%{x}<br>End-of-Season ELO=%{y}<br>Start ELO=%{customdata[1]}<extra></extra>",
         "legendgroup": "Ingraham",
         "line": {
          "color": "#FF97FF",
          "dash": "solid"
         },
         "marker": {
          "symbol": "circle"
         },
         "mode": "lines+markers",
         "name": "Ingraham",
         "orientation": "v",
         "showlegend": true,
         "type": "scatter",
         "x": [
          "2016-17",
          "2017-18",
          "2018-19",
          "2020-21",
          "2021-22",
          "2022-23",
          "2023-24",
          "2024-25"
         ],
         "xaxis": "x",
         "y": [
          1248.455640592101,
          1252.2319241865273,
          1166.4518533583744,
          1282.221295605139,
          1282.3942042072358,
          1329.2824445546505,
          1261.448582008722,
          1441.6832440989642
         ],
         "yaxis": "y"
        },
        {
         "customdata": [
          [
           "Lakeside (Seattle)",
           1480.289596139066
          ],
          [
           "Lakeside (Seattle)",
           1661.3655641132043
          ],
          [
           "Lakeside (Seattle)",
           1775.2164718312176
          ],
          [
           "Lakeside (Seattle)",
           1958.150608562896
          ],
          [
           "Lakeside (Seattle)",
           1958.9370710504224
          ],
          [
           "Lakeside (Seattle)",
           1894.139280183284
          ],
          [
           "Lakeside (Seattle)",
           1916.644748778965
          ],
          [
           "Lakeside (Seattle)",
           1897.299901271616
          ]
         ],
         "hovertemplate": "Team=%{customdata[0]}<br>Season=%{x}<br>End-of-Season ELO=%{y}<br>Start ELO=%{customdata[1]}<extra></extra>",
         "legendgroup": "Lakeside (Seattle)",
         "line": {
          "color": "#FECB52",
          "dash": "solid"
         },
         "marker": {
          "symbol": "circle"
         },
         "mode": "lines+markers",
         "name": "Lakeside (Seattle)",
         "orientation": "v",
         "showlegend": true,
         "type": "scatter",
         "x": [
          "2016-17",
          "2017-18",
          "2018-19",
          "2020-21",
          "2021-22",
          "2022-23",
          "2023-24",
          "2024-25"
         ],
         "xaxis": "x",
         "y": [
          1460.2809200917068,
          1715.4300471298675,
          1912.867918722312,
          1947.323837421147,
          2027.5953404847744,
          1897.1481773202795,
          1926.656491618158,
          1832.2871735995784
         ],
         "yaxis": "y"
        },
        {
         "customdata": [
          [
           "Lincoln (Seattle)",
           1561.3061141072567
          ],
          [
           "Lincoln (Seattle)",
           1606.606246182247
          ],
          [
           "Lincoln (Seattle)",
           1995.111387725582
          ],
          [
           "Lincoln (Seattle)",
           2087.520208836583
          ],
          [
           "Lincoln (Seattle)",
           2125.735780497304
          ]
         ],
         "hovertemplate": "Team=%{customdata[0]}<br>Season=%{x}<br>End-of-Season ELO=%{y}<br>Start ELO=%{customdata[1]}<extra></extra>",
         "legendgroup": "Lincoln (Seattle)",
         "line": {
          "color": "#636efa",
          "dash": "solid"
         },
         "marker": {
          "symbol": "circle"
         },
         "mode": "lines+markers",
         "name": "Lincoln (Seattle)",
         "orientation": "v",
         "showlegend": true,
         "type": "scatter",
         "x": [
          "2020-21",
          "2021-22",
          "2022-23",
          "2023-24",
          "2024-25"
         ],
         "xaxis": "x",
         "y": [
          1525.081612727502,
          1897.1642996247024,
          1983.8232937545376,
          2112.9737252640384,
          2119.0550618081083
         ],
         "yaxis": "y"
        },
        {
         "customdata": [
          [
           "Nathan Hale",
           1561.706683795613
          ],
          [
           "Nathan Hale",
           1443.5367873908135
          ],
          [
           "Nathan Hale",
           1557.7254730797367
          ],
          [
           "Nathan Hale",
           1326.0179941452843
          ],
          [
           "Nathan Hale",
           1248.8136478268905
          ],
          [
           "Nathan Hale",
           1405.3797740854252
          ],
          [
           "Nathan Hale",
           1464.2146008087725
          ],
          [
           "Nathan Hale",
           1341.6085822173586
          ]
         ],
         "hovertemplate": "Team=%{customdata[0]}<br>Season=%{x}<br>End-of-Season ELO=%{y}<br>Start ELO=%{customdata[1]}<extra></extra>",
         "legendgroup": "Nathan Hale",
         "line": {
          "color": "#EF553B",
          "dash": "solid"
         },
         "marker": {
          "symbol": "circle"
         },
         "mode": "lines+markers",
         "name": "Nathan Hale",
         "orientation": "v",
         "showlegend": true,
         "type": "scatter",
         "x": [
          "2016-17",
          "2017-18",
          "2018-19",
          "2020-21",
          "2021-22",
          "2022-23",
          "2023-24",
          "2024-25"
         ],
         "xaxis": "x",
         "y": [
          1377.885573911673,
          1390.47158209557,
          1375.5513559666094,
          1334.8953223128938,
          1324.6467307520666,
          1380.0926570490756,
          1402.0952241852326,
          1342.6751565710151
         ],
         "yaxis": "y"
        },
        {
         "customdata": [
          [
           "O'Dea",
           1564.8988763138586
          ],
          [
           "O'Dea",
           1693.9601359026672
          ],
          [
           "O'Dea",
           1695.847564543395
          ],
          [
           "O'Dea",
           1786.3803929961202
          ],
          [
           "O'Dea",
           1729.8433152051746
          ],
          [
           "O'Dea",
           1666.1245830699918
          ],
          [
           "O'Dea",
           1560.0093059932794
          ],
          [
           "O'Dea",
           1763.3573669248096
          ]
         ],
         "hovertemplate": "Team=%{customdata[0]}<br>Season=%{x}<br>End-of-Season ELO=%{y}<br>Start ELO=%{customdata[1]}<extra></extra>",
         "legendgroup": "O'Dea",
         "line": {
          "color": "#00cc96",
          "dash": "solid"
         },
         "marker": {
          "symbol": "circle"
         },
         "mode": "lines+markers",
         "name": "O'Dea",
         "orientation": "v",
         "showlegend": true,
         "type": "scatter",
         "x": [
          "2016-17",
          "2017-18",
          "2018-19",
          "2020-21",
          "2021-22",
          "2022-23",
          "2023-24",
          "2024-25"
         ],
         "xaxis": "x",
         "y": [
          1676.29484209663,
          1674.1825876104936,
          1568.4358277485337,
          1711.692602609491,
          1661.9915541218422,
          1579.5601341317963,
          1776.7894723374698,
          1701.859252311606
         ],
         "yaxis": "y"
        },
        {
         "customdata": [
          [
           "Rainier Beach",
           1503.6932500805945
          ],
          [
           "Rainier Beach",
           1333.142631815117
          ],
          [
           "Rainier Beach",
           1109.7503409195306
          ],
          [
           "Rainier Beach",
           1130.6900140968082
          ],
          [
           "Rainier Beach",
           1015.5874964191504
          ],
          [
           "Rainier Beach",
           942.7724114880918
          ],
          [
           "Rainier Beach",
           896.7591883347906
          ],
          [
           "Rainier Beach",
           730.8256320426357
          ]
         ],
         "hovertemplate": "Team=%{customdata[0]}<br>Season=%{x}<br>End-of-Season ELO=%{y}<br>Start ELO=%{customdata[1]}<extra></extra>",
         "legendgroup": "Rainier Beach",
         "line": {
          "color": "#ab63fa",
          "dash": "solid"
         },
         "marker": {
          "symbol": "circle"
         },
         "mode": "lines+markers",
         "name": "Rainier Beach",
         "orientation": "v",
         "showlegend": true,
         "type": "scatter",
         "x": [
          "2016-17",
          "2017-18",
          "2018-19",
          "2020-21",
          "2021-22",
          "2022-23",
          "2023-24",
          "2024-25"
         ],
         "xaxis": "x",
         "y": [
          1347.600277968484,
          1147.3416138286295,
          1055.4398755511038,
          1091.8145745892898,
          1017.5187084131998,
          926.0583992159592,
          744.3552391240174,
          729.3451866466733
         ],
         "yaxis": "y"
        },
        {
         "customdata": [
          [
           "Roosevelt",
           1486.0875073527898
          ],
          [
           "Roosevelt",
           1877.1286672344147
          ],
          [
           "Roosevelt",
           2008.704160281364
          ],
          [
           "Roosevelt",
           2052.961558693916
          ],
          [
           "Roosevelt",
           2069.4794055465995
          ],
          [
           "Roosevelt",
           1933.5324885364053
          ],
          [
           "Roosevelt",
           1614.0668824024974
          ],
          [
           "Roosevelt",
           1603.8222402033082
          ]
         ],
         "hovertemplate": "Team=%{customdata[0]}<br>Season=%{x}<br>End-of-Season ELO=%{y}<br>Start ELO=%{customdata[1]}<extra></extra>",
         "legendgroup": "Roosevelt",
         "line": {
          "color": "#FFA15A",
          "dash": "solid"
         },
         "marker": {
          "symbol": "circle"
         },
         "mode": "lines+markers",
         "name": "Roosevelt",
         "orientation": "v",
         "showlegend": true,
         "type": "scatter",
         "x": [
          "2016-17",
          "2017-18",
          "2018-19",
          "2020-21",
          "2021-22",
          "2022-23",
          "2023-24",
          "2024-25"
         ],
         "xaxis": "x",
         "y": [
          1611.0933387128655,
          2007.2207182753584,
          2025.8089300596048,
          2057.984256458857,
          1968.249536193911,
          1592.4661689703012,
          1609.6244002247286,
          1567.4350904148223
         ],
         "yaxis": "y"
        },
        {
         "customdata": [
          [
           "Seattle Prep.",
           1521.2496796431303
          ],
          [
           "Seattle Prep.",
           1679.4007157189126
          ],
          [
           "Seattle Prep.",
           1516.348603880025
          ],
          [
           "Seattle Prep.",
           1558.1075532566497
          ],
          [
           "Seattle Prep.",
           1632.28115590036
          ],
          [
           "Seattle Prep.",
           1635.1581517802158
          ],
          [
           "Seattle Prep.",
           1823.463269281207
          ],
          [
           "Seattle Prep.",
           1945.267501439737
          ]
         ],
         "hovertemplate": "Team=%{customdata[0]}<br>Season=%{x}<br>End-of-Season ELO=%{y}<br>Start ELO=%{customdata[1]}<extra></extra>",
         "legendgroup": "Seattle Prep.",
         "line": {
          "color": "#19d3f3",
          "dash": "solid"
         },
         "marker": {
          "symbol": "circle"
         },
         "mode": "lines+markers",
         "name": "Seattle Prep.",
         "orientation": "v",
         "showlegend": true,
         "type": "scatter",
         "x": [
          "2016-17",
          "2017-18",
          "2018-19",
          "2020-21",
          "2021-22",
          "2022-23",
          "2023-24",
          "2024-25"
         ],
         "xaxis": "x",
         "y": [
          1560.7870870952218,
          1727.6700353515578,
          1518.5345079962117,
          1560.6315884793005,
          1720.2860974106643,
          1606.350211348395,
          1812.6434613379652,
          1822.266595460816
         ],
         "yaxis": "y"
        },
        {
         "customdata": [
          [
           "West Seattle",
           1528.1118097155793
          ],
          [
           "West Seattle",
           1576.4517382666531
          ],
          [
           "West Seattle",
           1664.3893053865213
          ],
          [
           "West Seattle",
           1450.2369113372954
          ],
          [
           "West Seattle",
           1314.535434505966
          ],
          [
           "West Seattle",
           1374.0339373821223
          ],
          [
           "West Seattle",
           1371.8051562629428
          ],
          [
           "West Seattle",
           1167.302006340734
          ]
         ],
         "hovertemplate": "Team=%{customdata[0]}<br>Season=%{x}<br>End-of-Season ELO=%{y}<br>Start ELO=%{customdata[1]}<extra></extra>",
         "legendgroup": "West Seattle",
         "line": {
          "color": "#FF6692",
          "dash": "solid"
         },
         "marker": {
          "symbol": "circle"
         },
         "mode": "lines+markers",
         "name": "West Seattle",
         "orientation": "v",
         "showlegend": true,
         "type": "scatter",
         "x": [
          "2016-17",
          "2017-18",
          "2018-19",
          "2020-21",
          "2021-22",
          "2022-23",
          "2023-24",
          "2024-25"
         ],
         "xaxis": "x",
         "y": [
          1533.8868096658755,
          1443.2104502639015,
          1402.9526034001324,
          1568.010437943558,
          1286.6625834299407,
          1354.8940833623242,
          1180.6012899225768,
          1224.468616888318
         ],
         "yaxis": "y"
        },
        {
         "hoverinfo": "text",
         "hovertext": [
          "Bainbridge — Start ELO: 1526.16028929557",
          "Bainbridge — Start ELO: 1679.1151500765905",
          "Bainbridge — Start ELO: 1393.6817275851013"
         ],
         "legendgroup": "Bainbridge",
         "marker": {
          "size": 8,
          "symbol": "circle-open"
         },
         "mode": "markers",
         "name": "Bainbridge (Start)",
         "showlegend": false,
         "type": "scatter",
         "x": [
          "2016-17",
          "2017-18",
          "2018-19"
         ],
         "y": [
          1526.16028929557,
          1679.1151500765905,
          1393.6817275851013
         ]
        },
        {
         "hoverinfo": "text",
         "hovertext": [
          "Ballard — Start ELO: 1540.056159817625",
          "Ballard — Start ELO: 1676.880332817781",
          "Ballard — Start ELO: 1587.6620214959803",
          "Ballard — Start ELO: 1602.0374495757462",
          "Ballard — Start ELO: 1600.730171166099",
          "Ballard — Start ELO: 1604.691920601314",
          "Ballard — Start ELO: 1897.0696776213235",
          "Ballard — Start ELO: 1699.3303535747764"
         ],
         "legendgroup": "Ballard",
         "marker": {
          "size": 8,
          "symbol": "circle-open"
         },
         "mode": "markers",
         "name": "Ballard (Start)",
         "showlegend": false,
         "type": "scatter",
         "x": [
          "2016-17",
          "2017-18",
          "2018-19",
          "2020-21",
          "2021-22",
          "2022-23",
          "2023-24",
          "2024-25"
         ],
         "y": [
          1540.056159817625,
          1676.880332817781,
          1587.6620214959803,
          1602.0374495757462,
          1600.730171166099,
          1604.691920601314,
          1897.0696776213235,
          1699.3303535747764
         ]
        },
        {
         "hoverinfo": "text",
         "hovertext": [
          "Bishop Blanchet — Start ELO: 1487.2021818387625",
          "Bishop Blanchet — Start ELO: 1435.8123897991245",
          "Bishop Blanchet — Start ELO: 1519.783995232672",
          "Bishop Blanchet — Start ELO: 1551.9858841939458",
          "Bishop Blanchet — Start ELO: 1622.9538399216317",
          "Bishop Blanchet — Start ELO: 1574.4928551948476",
          "Bishop Blanchet — Start ELO: 1507.7867760905451",
          "Bishop Blanchet — Start ELO: 1800.6339253124684"
         ],
         "legendgroup": "Bishop Blanchet",
         "marker": {
          "size": 8,
          "symbol": "circle-open"
         },
         "mode": "markers",
         "name": "Bishop Blanchet (Start)",
         "showlegend": false,
         "type": "scatter",
         "x": [
          "2016-17",
          "2017-18",
          "2018-19",
          "2020-21",
          "2021-22",
          "2022-23",
          "2023-24",
          "2024-25"
         ],
         "y": [
          1487.2021818387625,
          1435.8123897991245,
          1519.783995232672,
          1551.9858841939458,
          1622.9538399216317,
          1574.4928551948476,
          1507.7867760905451,
          1800.6339253124684
         ]
        },
        {
         "hoverinfo": "text",
         "hovertext": [
          "Chief Sealth — Start ELO: 1480.0347004408138",
          "Chief Sealth — Start ELO: 1484.09264734186",
          "Chief Sealth — Start ELO: 1422.0730039000516",
          "Chief Sealth — Start ELO: 1412.2630193159705",
          "Chief Sealth — Start ELO: 1537.8120931988497",
          "Chief Sealth — Start ELO: 1692.9703857615598",
          "Chief Sealth — Start ELO: 1564.719004253068",
          "Chief Sealth — Start ELO: 1436.4589167550575"
         ],
         "legendgroup": "Chief Sealth",
         "marker": {
          "size": 8,
          "symbol": "circle-open"
         },
         "mode": "markers",
         "name": "Chief Sealth (Start)",
         "showlegend": false,
         "type": "scatter",
         "x": [
          "2016-17",
          "2017-18",
          "2018-19",
          "2020-21",
          "2021-22",
          "2022-23",
          "2023-24",
          "2024-25"
         ],
         "y": [
          1480.0347004408138,
          1484.09264734186,
          1422.0730039000516,
          1412.2630193159705,
          1537.8120931988497,
          1692.9703857615598,
          1564.719004253068,
          1436.4589167550575
         ]
        },
        {
         "hoverinfo": "text",
         "hovertext": [
          "Cleveland — Start ELO: 1460.4151497248488",
          "Cleveland — Start ELO: 929.2126392030832",
          "Cleveland — Start ELO: 777.9556467411633",
          "Cleveland — Start ELO: 772.4986366216187",
          "Cleveland — Start ELO: 797.3480689002658",
          "Cleveland — Start ELO: 735.7973200896992",
          "Cleveland — Start ELO: 687.7385728533047",
          "Cleveland — Start ELO: 682.202959142725"
         ],
         "legendgroup": "Cleveland",
         "marker": {
          "size": 8,
          "symbol": "circle-open"
         },
         "mode": "markers",
         "name": "Cleveland (Start)",
         "showlegend": false,
         "type": "scatter",
         "x": [
          "2016-17",
          "2017-18",
          "2018-19",
          "2020-21",
          "2021-22",
          "2022-23",
          "2023-24",
          "2024-25"
         ],
         "y": [
          1460.4151497248488,
          929.2126392030832,
          777.9556467411633,
          772.4986366216187,
          797.3480689002658,
          735.7973200896992,
          687.7385728533047,
          682.202959142725
         ]
        },
        {
         "hoverinfo": "text",
         "hovertext": [
          "Eastside Catholic — Start ELO: 1458.4955360195188",
          "Eastside Catholic — Start ELO: 1210.6174388944205",
          "Eastside Catholic — Start ELO: 1424.2886860066906",
          "Eastside Catholic — Start ELO: 1382.334885710012",
          "Eastside Catholic — Start ELO: 1373.02526284033",
          "Eastside Catholic — Start ELO: 1175.833462981669",
          "Eastside Catholic — Start ELO: 1365.6390862070073",
          "Eastside Catholic — Start ELO: 1605.3758855378592"
         ],
         "legendgroup": "Eastside Catholic",
         "marker": {
          "size": 8,
          "symbol": "circle-open"
         },
         "mode": "markers",
         "name": "Eastside Catholic (Start)",
         "showlegend": false,
         "type": "scatter",
         "x": [
          "2016-17",
          "2017-18",
          "2018-19",
          "2020-21",
          "2021-22",
          "2022-23",
          "2023-24",
          "2024-25"
         ],
         "y": [
          1458.4955360195188,
          1210.6174388944205,
          1424.2886860066906,
          1382.334885710012,
          1373.02526284033,
          1175.833462981669,
          1365.6390862070073,
          1605.3758855378592
         ]
        },
        {
         "hoverinfo": "text",
         "hovertext": [
          "Franklin — Start ELO: 1486.717041153965",
          "Franklin — Start ELO: 1453.804628547649",
          "Franklin — Start ELO: 1169.7867785784815",
          "Franklin — Start ELO: 1494.8453972267205",
          "Franklin — Start ELO: 1441.5908626490998",
          "Franklin — Start ELO: 1243.6849300856356",
          "Franklin — Start ELO: 1110.2477579722608",
          "Franklin — Start ELO: 1117.064255296842"
         ],
         "legendgroup": "Franklin",
         "marker": {
          "size": 8,
          "symbol": "circle-open"
         },
         "mode": "markers",
         "name": "Franklin (Start)",
         "showlegend": false,
         "type": "scatter",
         "x": [
          "2016-17",
          "2017-18",
          "2018-19",
          "2020-21",
          "2021-22",
          "2022-23",
          "2023-24",
          "2024-25"
         ],
         "y": [
          1486.717041153965,
          1453.804628547649,
          1169.7867785784815,
          1494.8453972267205,
          1441.5908626490998,
          1243.6849300856356,
          1110.2477579722608,
          1117.064255296842
         ]
        },
        {
         "hoverinfo": "text",
         "hovertext": [
          "Garfield — Start ELO: 1551.2051999842308",
          "Garfield — Start ELO: 1675.8374237336652",
          "Garfield — Start ELO: 1961.932641836384",
          "Garfield — Start ELO: 1708.9585816369363",
          "Garfield — Start ELO: 1715.616327422861",
          "Garfield — Start ELO: 1629.8582127592288",
          "Garfield — Start ELO: 1693.56439365998",
          "Garfield — Start ELO: 1768.752877988199"
         ],
         "legendgroup": "Garfield",
         "marker": {
          "size": 8,
          "symbol": "circle-open"
         },
         "mode": "markers",
         "name": "Garfield (Start)",
         "showlegend": false,
         "type": "scatter",
         "x": [
          "2016-17",
          "2017-18",
          "2018-19",
          "2020-21",
          "2021-22",
          "2022-23",
          "2023-24",
          "2024-25"
         ],
         "y": [
          1551.2051999842308,
          1675.8374237336652,
          1961.932641836384,
          1708.9585816369363,
          1715.616327422861,
          1629.8582127592288,
          1693.56439365998,
          1768.752877988199
         ]
        },
        {
         "hoverinfo": "text",
         "hovertext": [
          "Ingraham — Start ELO: 1230.4739829530365",
          "Ingraham — Start ELO: 1370.4128659096966",
          "Ingraham — Start ELO: 1331.1351766738762",
          "Ingraham — Start ELO: 1168.5302944236837",
          "Ingraham — Start ELO: 1349.7327250430176",
          "Ingraham — Start ELO: 1424.4543731511972",
          "Ingraham — Start ELO: 1432.24781566331",
          "Ingraham — Start ELO: 1425.3712802412065"
         ],
         "legendgroup": "Ingraham",
         "marker": {
          "size": 8,
          "symbol": "circle-open"
         },
         "mode": "markers",
         "name": "Ingraham (Start)",
         "showlegend": false,
         "type": "scatter",
         "x": [
          "2016-17",
          "2017-18",
          "2018-19",
          "2020-21",
          "2021-22",
          "2022-23",
          "2023-24",
          "2024-25"
         ],
         "y": [
          1230.4739829530365,
          1370.4128659096966,
          1331.1351766738762,
          1168.5302944236837,
          1349.7327250430176,
          1424.4543731511972,
          1432.24781566331,
          1425.3712802412065
         ]
        },
        {
         "hoverinfo": "text",
         "hovertext": [
          "Lakeside (Seattle) — Start ELO: 1480.289596139066",
          "Lakeside (Seattle) — Start ELO: 1661.3655641132043",
          "Lakeside (Seattle) — Start ELO: 1775.2164718312176",
          "Lakeside (Seattle) — Start ELO: 1958.150608562896",
          "Lakeside (Seattle) — Start ELO: 1958.9370710504224",
          "Lakeside (Seattle) — Start ELO: 1894.139280183284",
          "Lakeside (Seattle) — Start ELO: 1916.644748778965",
          "Lakeside (Seattle) — Start ELO: 1897.299901271616"
         ],
         "legendgroup": "Lakeside (Seattle)",
         "marker": {
          "size": 8,
          "symbol": "circle-open"
         },
         "mode": "markers",
         "name": "Lakeside (Seattle) (Start)",
         "showlegend": false,
         "type": "scatter",
         "x": [
          "2016-17",
          "2017-18",
          "2018-19",
          "2020-21",
          "2021-22",
          "2022-23",
          "2023-24",
          "2024-25"
         ],
         "y": [
          1480.289596139066,
          1661.3655641132043,
          1775.2164718312176,
          1958.150608562896,
          1958.9370710504224,
          1894.139280183284,
          1916.644748778965,
          1897.299901271616
         ]
        },
        {
         "hoverinfo": "text",
         "hovertext": [
          "Lincoln (Seattle) — Start ELO: 1561.3061141072567",
          "Lincoln (Seattle) — Start ELO: 1606.606246182247",
          "Lincoln (Seattle) — Start ELO: 1995.111387725582",
          "Lincoln (Seattle) — Start ELO: 2087.520208836583",
          "Lincoln (Seattle) — Start ELO: 2125.735780497304"
         ],
         "legendgroup": "Lincoln (Seattle)",
         "marker": {
          "size": 8,
          "symbol": "circle-open"
         },
         "mode": "markers",
         "name": "Lincoln (Seattle) (Start)",
         "showlegend": false,
         "type": "scatter",
         "x": [
          "2020-21",
          "2021-22",
          "2022-23",
          "2023-24",
          "2024-25"
         ],
         "y": [
          1561.3061141072567,
          1606.606246182247,
          1995.111387725582,
          2087.520208836583,
          2125.735780497304
         ]
        },
        {
         "hoverinfo": "text",
         "hovertext": [
          "Nathan Hale — Start ELO: 1561.706683795613",
          "Nathan Hale — Start ELO: 1443.5367873908135",
          "Nathan Hale — Start ELO: 1557.7254730797367",
          "Nathan Hale — Start ELO: 1326.0179941452843",
          "Nathan Hale — Start ELO: 1248.8136478268905",
          "Nathan Hale — Start ELO: 1405.3797740854252",
          "Nathan Hale — Start ELO: 1464.2146008087725",
          "Nathan Hale — Start ELO: 1341.6085822173586"
         ],
         "legendgroup": "Nathan Hale",
         "marker": {
          "size": 8,
          "symbol": "circle-open"
         },
         "mode": "markers",
         "name": "Nathan Hale (Start)",
         "showlegend": false,
         "type": "scatter",
         "x": [
          "2016-17",
          "2017-18",
          "2018-19",
          "2020-21",
          "2021-22",
          "2022-23",
          "2023-24",
          "2024-25"
         ],
         "y": [
          1561.706683795613,
          1443.5367873908135,
          1557.7254730797367,
          1326.0179941452843,
          1248.8136478268905,
          1405.3797740854252,
          1464.2146008087725,
          1341.6085822173586
         ]
        },
        {
         "hoverinfo": "text",
         "hovertext": [
          "O'Dea — Start ELO: 1564.8988763138586",
          "O'Dea — Start ELO: 1693.9601359026672",
          "O'Dea — Start ELO: 1695.847564543395",
          "O'Dea — Start ELO: 1786.3803929961202",
          "O'Dea — Start ELO: 1729.8433152051746",
          "O'Dea — Start ELO: 1666.1245830699918",
          "O'Dea — Start ELO: 1560.0093059932794",
          "O'Dea — Start ELO: 1763.3573669248096"
         ],
         "legendgroup": "O'Dea",
         "marker": {
          "size": 8,
          "symbol": "circle-open"
         },
         "mode": "markers",
         "name": "O'Dea (Start)",
         "showlegend": false,
         "type": "scatter",
         "x": [
          "2016-17",
          "2017-18",
          "2018-19",
          "2020-21",
          "2021-22",
          "2022-23",
          "2023-24",
          "2024-25"
         ],
         "y": [
          1564.8988763138586,
          1693.9601359026672,
          1695.847564543395,
          1786.3803929961202,
          1729.8433152051746,
          1666.1245830699918,
          1560.0093059932794,
          1763.3573669248096
         ]
        },
        {
         "hoverinfo": "text",
         "hovertext": [
          "Rainier Beach — Start ELO: 1503.6932500805945",
          "Rainier Beach — Start ELO: 1333.142631815117",
          "Rainier Beach — Start ELO: 1109.7503409195306",
          "Rainier Beach — Start ELO: 1130.6900140968082",
          "Rainier Beach — Start ELO: 1015.5874964191504",
          "Rainier Beach — Start ELO: 942.7724114880918",
          "Rainier Beach — Start ELO: 896.7591883347906",
          "Rainier Beach — Start ELO: 730.8256320426357"
         ],
         "legendgroup": "Rainier Beach",
         "marker": {
          "size": 8,
          "symbol": "circle-open"
         },
         "mode": "markers",
         "name": "Rainier Beach (Start)",
         "showlegend": false,
         "type": "scatter",
         "x": [
          "2016-17",
          "2017-18",
          "2018-19",
          "2020-21",
          "2021-22",
          "2022-23",
          "2023-24",
          "2024-25"
         ],
         "y": [
          1503.6932500805945,
          1333.142631815117,
          1109.7503409195306,
          1130.6900140968082,
          1015.5874964191504,
          942.7724114880918,
          896.7591883347906,
          730.8256320426357
         ]
        },
        {
         "hoverinfo": "text",
         "hovertext": [
          "Roosevelt — Start ELO: 1486.0875073527898",
          "Roosevelt — Start ELO: 1877.1286672344147",
          "Roosevelt — Start ELO: 2008.704160281364",
          "Roosevelt — Start ELO: 2052.961558693916",
          "Roosevelt — Start ELO: 2069.4794055465995",
          "Roosevelt — Start ELO: 1933.5324885364053",
          "Roosevelt — Start ELO: 1614.0668824024974",
          "Roosevelt — Start ELO: 1603.8222402033082"
         ],
         "legendgroup": "Roosevelt",
         "marker": {
          "size": 8,
          "symbol": "circle-open"
         },
         "mode": "markers",
         "name": "Roosevelt (Start)",
         "showlegend": false,
         "type": "scatter",
         "x": [
          "2016-17",
          "2017-18",
          "2018-19",
          "2020-21",
          "2021-22",
          "2022-23",
          "2023-24",
          "2024-25"
         ],
         "y": [
          1486.0875073527898,
          1877.1286672344147,
          2008.704160281364,
          2052.961558693916,
          2069.4794055465995,
          1933.5324885364053,
          1614.0668824024974,
          1603.8222402033082
         ]
        },
        {
         "hoverinfo": "text",
         "hovertext": [
          "Seattle Prep. — Start ELO: 1521.2496796431303",
          "Seattle Prep. — Start ELO: 1679.4007157189126",
          "Seattle Prep. — Start ELO: 1516.348603880025",
          "Seattle Prep. — Start ELO: 1558.1075532566497",
          "Seattle Prep. — Start ELO: 1632.28115590036",
          "Seattle Prep. — Start ELO: 1635.1581517802158",
          "Seattle Prep. — Start ELO: 1823.463269281207",
          "Seattle Prep. — Start ELO: 1945.267501439737"
         ],
         "legendgroup": "Seattle Prep.",
         "marker": {
          "size": 8,
          "symbol": "circle-open"
         },
         "mode": "markers",
         "name": "Seattle Prep. (Start)",
         "showlegend": false,
         "type": "scatter",
         "x": [
          "2016-17",
          "2017-18",
          "2018-19",
          "2020-21",
          "2021-22",
          "2022-23",
          "2023-24",
          "2024-25"
         ],
         "y": [
          1521.2496796431303,
          1679.4007157189126,
          1516.348603880025,
          1558.1075532566497,
          1632.28115590036,
          1635.1581517802158,
          1823.463269281207,
          1945.267501439737
         ]
        },
        {
         "hoverinfo": "text",
         "hovertext": [
          "West Seattle — Start ELO: 1528.1118097155793",
          "West Seattle — Start ELO: 1576.4517382666531",
          "West Seattle — Start ELO: 1664.3893053865213",
          "West Seattle — Start ELO: 1450.2369113372954",
          "West Seattle — Start ELO: 1314.535434505966",
          "West Seattle — Start ELO: 1374.0339373821223",
          "West Seattle — Start ELO: 1371.8051562629428",
          "West Seattle — Start ELO: 1167.302006340734"
         ],
         "legendgroup": "West Seattle",
         "marker": {
          "size": 8,
          "symbol": "circle-open"
         },
         "mode": "markers",
         "name": "West Seattle (Start)",
         "showlegend": false,
         "type": "scatter",
         "x": [
          "2016-17",
          "2017-18",
          "2018-19",
          "2020-21",
          "2021-22",
          "2022-23",
          "2023-24",
          "2024-25"
         ],
         "y": [
          1528.1118097155793,
          1576.4517382666531,
          1664.3893053865213,
          1450.2369113372954,
          1314.535434505966,
          1374.0339373821223,
          1371.8051562629428,
          1167.302006340734
         ]
        }
       ],
       "layout": {
        "height": 700,
        "hovermode": "x unified",
        "legend": {
         "itemclick": "toggleothers",
         "title": {
          "text": "Team"
         },
         "tracegroupgap": 0
        },
        "margin": {
         "b": 80,
         "t": 60
        },
        "template": {
         "data": {
          "bar": [
           {
            "error_x": {
             "color": "#2a3f5f"
            },
            "error_y": {
             "color": "#2a3f5f"
            },
            "marker": {
             "line": {
              "color": "#E5ECF6",
              "width": 0.5
             },
             "pattern": {
              "fillmode": "overlay",
              "size": 10,
              "solidity": 0.2
             }
            },
            "type": "bar"
           }
          ],
          "barpolar": [
           {
            "marker": {
             "line": {
              "color": "#E5ECF6",
              "width": 0.5
             },
             "pattern": {
              "fillmode": "overlay",
              "size": 10,
              "solidity": 0.2
             }
            },
            "type": "barpolar"
           }
          ],
          "carpet": [
           {
            "aaxis": {
             "endlinecolor": "#2a3f5f",
             "gridcolor": "white",
             "linecolor": "white",
             "minorgridcolor": "white",
             "startlinecolor": "#2a3f5f"
            },
            "baxis": {
             "endlinecolor": "#2a3f5f",
             "gridcolor": "white",
             "linecolor": "white",
             "minorgridcolor": "white",
             "startlinecolor": "#2a3f5f"
            },
            "type": "carpet"
           }
          ],
          "choropleth": [
           {
            "colorbar": {
             "outlinewidth": 0,
             "ticks": ""
            },
            "type": "choropleth"
           }
          ],
          "contour": [
           {
            "colorbar": {
             "outlinewidth": 0,
             "ticks": ""
            },
            "colorscale": [
             [
              0,
              "#0d0887"
             ],
             [
              0.1111111111111111,
              "#46039f"
             ],
             [
              0.2222222222222222,
              "#7201a8"
             ],
             [
              0.3333333333333333,
              "#9c179e"
             ],
             [
              0.4444444444444444,
              "#bd3786"
             ],
             [
              0.5555555555555556,
              "#d8576b"
             ],
             [
              0.6666666666666666,
              "#ed7953"
             ],
             [
              0.7777777777777778,
              "#fb9f3a"
             ],
             [
              0.8888888888888888,
              "#fdca26"
             ],
             [
              1,
              "#f0f921"
             ]
            ],
            "type": "contour"
           }
          ],
          "contourcarpet": [
           {
            "colorbar": {
             "outlinewidth": 0,
             "ticks": ""
            },
            "type": "contourcarpet"
           }
          ],
          "heatmap": [
           {
            "colorbar": {
             "outlinewidth": 0,
             "ticks": ""
            },
            "colorscale": [
             [
              0,
              "#0d0887"
             ],
             [
              0.1111111111111111,
              "#46039f"
             ],
             [
              0.2222222222222222,
              "#7201a8"
             ],
             [
              0.3333333333333333,
              "#9c179e"
             ],
             [
              0.4444444444444444,
              "#bd3786"
             ],
             [
              0.5555555555555556,
              "#d8576b"
             ],
             [
              0.6666666666666666,
              "#ed7953"
             ],
             [
              0.7777777777777778,
              "#fb9f3a"
             ],
             [
              0.8888888888888888,
              "#fdca26"
             ],
             [
              1,
              "#f0f921"
             ]
            ],
            "type": "heatmap"
           }
          ],
          "heatmapgl": [
           {
            "colorbar": {
             "outlinewidth": 0,
             "ticks": ""
            },
            "colorscale": [
             [
              0,
              "#0d0887"
             ],
             [
              0.1111111111111111,
              "#46039f"
             ],
             [
              0.2222222222222222,
              "#7201a8"
             ],
             [
              0.3333333333333333,
              "#9c179e"
             ],
             [
              0.4444444444444444,
              "#bd3786"
             ],
             [
              0.5555555555555556,
              "#d8576b"
             ],
             [
              0.6666666666666666,
              "#ed7953"
             ],
             [
              0.7777777777777778,
              "#fb9f3a"
             ],
             [
              0.8888888888888888,
              "#fdca26"
             ],
             [
              1,
              "#f0f921"
             ]
            ],
            "type": "heatmapgl"
           }
          ],
          "histogram": [
           {
            "marker": {
             "pattern": {
              "fillmode": "overlay",
              "size": 10,
              "solidity": 0.2
             }
            },
            "type": "histogram"
           }
          ],
          "histogram2d": [
           {
            "colorbar": {
             "outlinewidth": 0,
             "ticks": ""
            },
            "colorscale": [
             [
              0,
              "#0d0887"
             ],
             [
              0.1111111111111111,
              "#46039f"
             ],
             [
              0.2222222222222222,
              "#7201a8"
             ],
             [
              0.3333333333333333,
              "#9c179e"
             ],
             [
              0.4444444444444444,
              "#bd3786"
             ],
             [
              0.5555555555555556,
              "#d8576b"
             ],
             [
              0.6666666666666666,
              "#ed7953"
             ],
             [
              0.7777777777777778,
              "#fb9f3a"
             ],
             [
              0.8888888888888888,
              "#fdca26"
             ],
             [
              1,
              "#f0f921"
             ]
            ],
            "type": "histogram2d"
           }
          ],
          "histogram2dcontour": [
           {
            "colorbar": {
             "outlinewidth": 0,
             "ticks": ""
            },
            "colorscale": [
             [
              0,
              "#0d0887"
             ],
             [
              0.1111111111111111,
              "#46039f"
             ],
             [
              0.2222222222222222,
              "#7201a8"
             ],
             [
              0.3333333333333333,
              "#9c179e"
             ],
             [
              0.4444444444444444,
              "#bd3786"
             ],
             [
              0.5555555555555556,
              "#d8576b"
             ],
             [
              0.6666666666666666,
              "#ed7953"
             ],
             [
              0.7777777777777778,
              "#fb9f3a"
             ],
             [
              0.8888888888888888,
              "#fdca26"
             ],
             [
              1,
              "#f0f921"
             ]
            ],
            "type": "histogram2dcontour"
           }
          ],
          "mesh3d": [
           {
            "colorbar": {
             "outlinewidth": 0,
             "ticks": ""
            },
            "type": "mesh3d"
           }
          ],
          "parcoords": [
           {
            "line": {
             "colorbar": {
              "outlinewidth": 0,
              "ticks": ""
             }
            },
            "type": "parcoords"
           }
          ],
          "pie": [
           {
            "automargin": true,
            "type": "pie"
           }
          ],
          "scatter": [
           {
            "fillpattern": {
             "fillmode": "overlay",
             "size": 10,
             "solidity": 0.2
            },
            "type": "scatter"
           }
          ],
          "scatter3d": [
           {
            "line": {
             "colorbar": {
              "outlinewidth": 0,
              "ticks": ""
             }
            },
            "marker": {
             "colorbar": {
              "outlinewidth": 0,
              "ticks": ""
             }
            },
            "type": "scatter3d"
           }
          ],
          "scattercarpet": [
           {
            "marker": {
             "colorbar": {
              "outlinewidth": 0,
              "ticks": ""
             }
            },
            "type": "scattercarpet"
           }
          ],
          "scattergeo": [
           {
            "marker": {
             "colorbar": {
              "outlinewidth": 0,
              "ticks": ""
             }
            },
            "type": "scattergeo"
           }
          ],
          "scattergl": [
           {
            "marker": {
             "colorbar": {
              "outlinewidth": 0,
              "ticks": ""
             }
            },
            "type": "scattergl"
           }
          ],
          "scattermapbox": [
           {
            "marker": {
             "colorbar": {
              "outlinewidth": 0,
              "ticks": ""
             }
            },
            "type": "scattermapbox"
           }
          ],
          "scatterpolar": [
           {
            "marker": {
             "colorbar": {
              "outlinewidth": 0,
              "ticks": ""
             }
            },
            "type": "scatterpolar"
           }
          ],
          "scatterpolargl": [
           {
            "marker": {
             "colorbar": {
              "outlinewidth": 0,
              "ticks": ""
             }
            },
            "type": "scatterpolargl"
           }
          ],
          "scatterternary": [
           {
            "marker": {
             "colorbar": {
              "outlinewidth": 0,
              "ticks": ""
             }
            },
            "type": "scatterternary"
           }
          ],
          "surface": [
           {
            "colorbar": {
             "outlinewidth": 0,
             "ticks": ""
            },
            "colorscale": [
             [
              0,
              "#0d0887"
             ],
             [
              0.1111111111111111,
              "#46039f"
             ],
             [
              0.2222222222222222,
              "#7201a8"
             ],
             [
              0.3333333333333333,
              "#9c179e"
             ],
             [
              0.4444444444444444,
              "#bd3786"
             ],
             [
              0.5555555555555556,
              "#d8576b"
             ],
             [
              0.6666666666666666,
              "#ed7953"
             ],
             [
              0.7777777777777778,
              "#fb9f3a"
             ],
             [
              0.8888888888888888,
              "#fdca26"
             ],
             [
              1,
              "#f0f921"
             ]
            ],
            "type": "surface"
           }
          ],
          "table": [
           {
            "cells": {
             "fill": {
              "color": "#EBF0F8"
             },
             "line": {
              "color": "white"
             }
            },
            "header": {
             "fill": {
              "color": "#C8D4E3"
             },
             "line": {
              "color": "white"
             }
            },
            "type": "table"
           }
          ]
         },
         "layout": {
          "annotationdefaults": {
           "arrowcolor": "#2a3f5f",
           "arrowhead": 0,
           "arrowwidth": 1
          },
          "autotypenumbers": "strict",
          "coloraxis": {
           "colorbar": {
            "outlinewidth": 0,
            "ticks": ""
           }
          },
          "colorscale": {
           "diverging": [
            [
             0,
             "#8e0152"
            ],
            [
             0.1,
             "#c51b7d"
            ],
            [
             0.2,
             "#de77ae"
            ],
            [
             0.3,
             "#f1b6da"
            ],
            [
             0.4,
             "#fde0ef"
            ],
            [
             0.5,
             "#f7f7f7"
            ],
            [
             0.6,
             "#e6f5d0"
            ],
            [
             0.7,
             "#b8e186"
            ],
            [
             0.8,
             "#7fbc41"
            ],
            [
             0.9,
             "#4d9221"
            ],
            [
             1,
             "#276419"
            ]
           ],
           "sequential": [
            [
             0,
             "#0d0887"
            ],
            [
             0.1111111111111111,
             "#46039f"
            ],
            [
             0.2222222222222222,
             "#7201a8"
            ],
            [
             0.3333333333333333,
             "#9c179e"
            ],
            [
             0.4444444444444444,
             "#bd3786"
            ],
            [
             0.5555555555555556,
             "#d8576b"
            ],
            [
             0.6666666666666666,
             "#ed7953"
            ],
            [
             0.7777777777777778,
             "#fb9f3a"
            ],
            [
             0.8888888888888888,
             "#fdca26"
            ],
            [
             1,
             "#f0f921"
            ]
           ],
           "sequentialminus": [
            [
             0,
             "#0d0887"
            ],
            [
             0.1111111111111111,
             "#46039f"
            ],
            [
             0.2222222222222222,
             "#7201a8"
            ],
            [
             0.3333333333333333,
             "#9c179e"
            ],
            [
             0.4444444444444444,
             "#bd3786"
            ],
            [
             0.5555555555555556,
             "#d8576b"
            ],
            [
             0.6666666666666666,
             "#ed7953"
            ],
            [
             0.7777777777777778,
             "#fb9f3a"
            ],
            [
             0.8888888888888888,
             "#fdca26"
            ],
            [
             1,
             "#f0f921"
            ]
           ]
          },
          "colorway": [
           "#636efa",
           "#EF553B",
           "#00cc96",
           "#ab63fa",
           "#FFA15A",
           "#19d3f3",
           "#FF6692",
           "#B6E880",
           "#FF97FF",
           "#FECB52"
          ],
          "font": {
           "color": "#2a3f5f"
          },
          "geo": {
           "bgcolor": "white",
           "lakecolor": "white",
           "landcolor": "#E5ECF6",
           "showlakes": true,
           "showland": true,
           "subunitcolor": "white"
          },
          "hoverlabel": {
           "align": "left"
          },
          "hovermode": "closest",
          "mapbox": {
           "style": "light"
          },
          "paper_bgcolor": "white",
          "plot_bgcolor": "#E5ECF6",
          "polar": {
           "angularaxis": {
            "gridcolor": "white",
            "linecolor": "white",
            "ticks": ""
           },
           "bgcolor": "#E5ECF6",
           "radialaxis": {
            "gridcolor": "white",
            "linecolor": "white",
            "ticks": ""
           }
          },
          "scene": {
           "xaxis": {
            "backgroundcolor": "#E5ECF6",
            "gridcolor": "white",
            "gridwidth": 2,
            "linecolor": "white",
            "showbackground": true,
            "ticks": "",
            "zerolinecolor": "white"
           },
           "yaxis": {
            "backgroundcolor": "#E5ECF6",
            "gridcolor": "white",
            "gridwidth": 2,
            "linecolor": "white",
            "showbackground": true,
            "ticks": "",
            "zerolinecolor": "white"
           },
           "zaxis": {
            "backgroundcolor": "#E5ECF6",
            "gridcolor": "white",
            "gridwidth": 2,
            "linecolor": "white",
            "showbackground": true,
            "ticks": "",
            "zerolinecolor": "white"
           }
          },
          "shapedefaults": {
           "line": {
            "color": "#2a3f5f"
           }
          },
          "ternary": {
           "aaxis": {
            "gridcolor": "white",
            "linecolor": "white",
            "ticks": ""
           },
           "baxis": {
            "gridcolor": "white",
            "linecolor": "white",
            "ticks": ""
           },
           "bgcolor": "#E5ECF6",
           "caxis": {
            "gridcolor": "white",
            "linecolor": "white",
            "ticks": ""
           }
          },
          "title": {
           "x": 0.05
          },
          "xaxis": {
           "automargin": true,
           "gridcolor": "white",
           "linecolor": "white",
           "ticks": "",
           "title": {
            "standoff": 15
           },
           "zerolinecolor": "white",
           "zerolinewidth": 2
          },
          "yaxis": {
           "automargin": true,
           "gridcolor": "white",
           "linecolor": "white",
           "ticks": "",
           "title": {
            "standoff": 15
           },
           "zerolinecolor": "white",
           "zerolinewidth": 2
          }
         }
        },
        "title": {
         "text": "📊 Start vs End of Season ELO Progression (All Seasons)"
        },
        "xaxis": {
         "anchor": "y",
         "domain": [
          0,
          1
         ],
         "title": {
          "text": "Season"
         }
        },
        "yaxis": {
         "anchor": "x",
         "domain": [
          0,
          1
         ],
         "title": {
          "text": "ELO Rating"
         }
        }
       }
      }
     },
     "metadata": {},
     "output_type": "display_data"
    }
   ],
   "source": [
    "import pandas as pd\n",
    "import plotly.express as px\n",
    "\n",
    "# Load long-format ELO\n",
    "df = pd.read_csv(r\"C:\\Users\\User\\Desktop\\Soccer Footage\\metroleague_elo_long.csv\")\n",
    "\n",
    "# Sort by team and match number\n",
    "df = df.sort_values(by=[\"Team\", \"Season\", \"Season Match #\"])\n",
    "\n",
    "# Filter teams with enough total games (optional)\n",
    "min_games = 10\n",
    "team_counts = df[\"Team\"].value_counts()\n",
    "df = df[df[\"Team\"].isin(team_counts[team_counts >= min_games].index)]\n",
    "\n",
    "# Group by team and season to get first and last ELO\n",
    "start_elo = df.groupby([\"Team\", \"Season\"]).first().reset_index()[[\"Team\", \"Season\", \"ELO\"]].rename(columns={\"ELO\": \"Start ELO\"})\n",
    "end_elo = df.groupby([\"Team\", \"Season\"]).last().reset_index()[[\"Team\", \"Season\", \"ELO\"]].rename(columns={\"ELO\": \"End ELO\"})\n",
    "\n",
    "# Merge into single DataFrame\n",
    "elo_summary = pd.merge(start_elo, end_elo, on=[\"Team\", \"Season\"])\n",
    "\n",
    "# Plot\n",
    "fig = px.line(\n",
    "    elo_summary.sort_values(by=[\"Team\", \"Season\"]),\n",
    "    x=\"Season\",\n",
    "    y=\"End ELO\",\n",
    "    color=\"Team\",\n",
    "    line_group=\"Team\",\n",
    "    markers=True,\n",
    "    hover_data=[\"Team\", \"Start ELO\", \"End ELO\"],\n",
    "    title=\"📊 Start vs End of Season ELO Progression (All Seasons)\",\n",
    "    labels={\"End ELO\": \"End-of-Season ELO\"},\n",
    ")\n",
    "\n",
    "# Add start ELO markers\n",
    "for team in elo_summary['Team'].unique():\n",
    "    team_data = elo_summary[elo_summary['Team'] == team]\n",
    "    fig.add_scatter(\n",
    "        x=team_data['Season'],\n",
    "        y=team_data['Start ELO'],\n",
    "        mode='markers',\n",
    "        marker=dict(symbol='circle-open', size=8),\n",
    "        name=f\"{team} (Start)\",\n",
    "        legendgroup=team,\n",
    "        showlegend=False,\n",
    "        hoverinfo='text',\n",
    "        hovertext=[\n",
    "            f\"{team} — Start ELO: {elo}\" for elo in team_data['Start ELO']\n",
    "        ]\n",
    "    )\n",
    "\n",
    "fig.update_layout(\n",
    "    xaxis_title=\"Season\",\n",
    "    yaxis_title=\"ELO Rating\",\n",
    "    height=700,\n",
    "    hovermode=\"x unified\",\n",
    "    legend=dict(title=\"Team\", itemclick=\"toggleothers\"),\n",
    "    margin=dict(t=60, b=80)\n",
    ")\n",
    "\n",
    "fig.show()\n"
   ]
  },
  {
   "cell_type": "code",
   "execution_count": 269,
   "metadata": {},
   "outputs": [
    {
     "name": "stdout",
     "output_type": "stream",
     "text": [
      "\n",
      "📈 ELO Model Accuracy on 2024–25 Season:\n",
      "✅ Confident Predictions (W/L): 23 matches\n",
      "🎯 Accuracy: 47.83%\n",
      "\n",
      "❌ Sample Mismatches:\n",
      "              Home Team          Away Team  Home Score  Away Score  Win Prob  \\\n",
      "911  Lakeside (Seattle)    Bishop Blanchet           2           2  0.709497   \n",
      "914  Lakeside (Seattle)            Ballard           3           4  0.742304   \n",
      "922             Ballard           Garfield           1           1  0.338888   \n",
      "923       Seattle Prep.  Lincoln (Seattle)           1           1  0.165964   \n",
      "925       Seattle Prep.          Roosevelt           1           2  0.813540   \n",
      "\n",
      "    Predicted Actual  \n",
      "911         W      T  \n",
      "914         W      L  \n",
      "922         L      T  \n",
      "923         L      T  \n",
      "925         W      L  \n",
      "⚖️ Toss-up calls were correct 27.27% of the time (i.e., ended in ties)\n"
     ]
    }
   ],
   "source": [
    "# Load your ELO match log\n",
    "elo_df = pd.read_csv(r\"C:\\Users\\User\\Desktop\\Soccer Footage\\metroleague_elo_log.csv\")\n",
    "\n",
    "# Step 1: Filter 2024–25 matches that have results\n",
    "test_df = elo_df[\n",
    "    (elo_df[\"Season\"] == \"2024-25\") &\n",
    "    (elo_df[\"Home Score\"].notna()) &\n",
    "    (elo_df[\"Away Score\"].notna()) &\n",
    "    ~((elo_df[\"Home Score\"] == 0) & (elo_df[\"Away Score\"] == 0))\n",
    "].copy()\n",
    "\n",
    "\n",
    "# Step 2: Calculate Win Probabilities for Home team\n",
    "def expected_result(home_elo, away_elo, hfa=100):\n",
    "    return 1 / (1 + 10 ** ((away_elo - home_elo + hfa) / 400))\n",
    "\n",
    "test_df[\"Win Prob\"] = test_df.apply(\n",
    "    lambda row: expected_result(row[\"Home ELO Before\"], row[\"Away ELO Before\"]), axis=1\n",
    ")\n",
    "\n",
    "# Step 3: Predict result\n",
    "def classify_prediction(p):\n",
    "    if p > 0.6:\n",
    "        return \"W\"\n",
    "    elif p < 0.4:\n",
    "        return \"L\"\n",
    "    else:\n",
    "        return \"Toss-up\"\n",
    "\n",
    "test_df[\"Predicted\"] = test_df[\"Win Prob\"].apply(classify_prediction)\n",
    "\n",
    "# Step 4: Actual result from score\n",
    "def actual_result(row):\n",
    "    if row[\"Home Score\"] > row[\"Away Score\"]:\n",
    "        return \"W\"\n",
    "    elif row[\"Home Score\"] < row[\"Away Score\"]:\n",
    "        return \"L\"\n",
    "    else:\n",
    "        return \"T\"\n",
    "\n",
    "test_df[\"Actual\"] = test_df.apply(actual_result, axis=1)\n",
    "\n",
    "# Step 5: Evaluate\n",
    "confident_preds = test_df[test_df[\"Predicted\"] != \"Toss-up\"]\n",
    "accuracy = (confident_preds[\"Predicted\"] == confident_preds[\"Actual\"]).mean()\n",
    "\n",
    "# Step 6: Output\n",
    "print(f\"\\n📈 ELO Model Accuracy on 2024–25 Season:\")\n",
    "print(f\"✅ Confident Predictions (W/L): {len(confident_preds)} matches\")\n",
    "print(f\"🎯 Accuracy: {accuracy:.2%}\")\n",
    "\n",
    "# Sample mismatches\n",
    "mismatches = confident_preds[confident_preds[\"Predicted\"] != confident_preds[\"Actual\"]]\n",
    "if not mismatches.empty:\n",
    "    print(\"\\n❌ Sample Mismatches:\")\n",
    "    print(mismatches[[\n",
    "        \"Home Team\", \"Away Team\", \"Home Score\", \"Away Score\",\n",
    "        \"Win Prob\", \"Predicted\", \"Actual\"\n",
    "    ]].head())\n",
    "else:\n",
    "    print(\"\\n✅ No mismatches in confident predictions!\")\n",
    "tossups = test_df[test_df[\"Predicted\"] == \"Toss-up\"]\n",
    "tossup_accuracy = (tossups[\"Actual\"] == \"T\").mean()\n",
    "print(f\"⚖️ Toss-up calls were correct {tossup_accuracy:.2%} of the time (i.e., ended in ties)\")\n"
   ]
  },
  {
   "cell_type": "code",
   "execution_count": 270,
   "metadata": {},
   "outputs": [
    {
     "data": {
      "application/vnd.plotly.v1+json": {
       "config": {
        "plotlyServerURL": "https://plot.ly"
       },
       "data": [
        {
         "customdata": [
          [
           "Ingraham",
           "Rainier Beach",
           "W",
           107,
           4.07,
           "Home"
          ],
          [
           "Ingraham",
           "West Seattle",
           "W",
           108,
           9.48,
           "Away"
          ],
          [
           "Ingraham",
           "Seattle Academy",
           "D",
           109,
           -0.93,
           "Away"
          ],
          [
           "Ingraham",
           "Cleveland",
           "W",
           110,
           0.89,
           "Away"
          ],
          [
           "Ingraham",
           "Franklin",
           "W",
           111,
           6.87,
           "Away"
          ]
         ],
         "hovertemplate": "Team=%{customdata[0]}<br>League Match Number=%{x}<br>ELO Rating=%{y}<br>Opponent=%{customdata[1]}<br>Result=%{customdata[2]}<br>Team's Match #=%{customdata[3]}<br>ELO Change=%{customdata[4]}<br>Location=%{customdata[5]}<extra></extra>",
         "legendgroup": "Ingraham",
         "line": {
          "color": "#636efa",
          "dash": "solid"
         },
         "marker": {
          "symbol": "circle"
         },
         "mode": "lines",
         "name": "Ingraham",
         "orientation": "v",
         "showlegend": true,
         "type": "scatter",
         "x": [
          1,
          10,
          11,
          12,
          13
         ],
         "xaxis": "x",
         "y": [
          1425.3712802412065,
          1434.8519024847194,
          1433.9252255164438,
          1434.8141580115805,
          1441.6832440989642
         ],
         "yaxis": "y"
        },
        {
         "customdata": [
          [
           "Seattle Academy",
           "Rainier Beach",
           "W",
           1,
           2.56,
           "Home"
          ],
          [
           "Seattle Academy",
           "Ingraham",
           "D",
           2,
           0.93,
           "Home"
          ],
          [
           "Seattle Academy",
           "Chief Sealth",
           "W",
           3,
           21.89,
           "Home"
          ],
          [
           "Seattle Academy",
           "Nathan Hale",
           "L",
           4,
           -33.47,
           "Away"
          ]
         ],
         "hovertemplate": "Team=%{customdata[0]}<br>League Match Number=%{x}<br>ELO Rating=%{y}<br>Opponent=%{customdata[1]}<br>Result=%{customdata[2]}<br>Team's Match #=%{customdata[3]}<br>ELO Change=%{customdata[4]}<br>Location=%{customdata[5]}<extra></extra>",
         "legendgroup": "Seattle Academy",
         "line": {
          "color": "#EF553B",
          "dash": "solid"
         },
         "marker": {
          "symbol": "circle"
         },
         "mode": "lines",
         "name": "Seattle Academy",
         "orientation": "v",
         "showlegend": true,
         "type": "scatter",
         "x": [
          2,
          11,
          24,
          28
         ],
         "xaxis": "x",
         "y": [
          1502.5632101231936,
          1503.4898870914692,
          1525.3820609897937,
          1491.915947447131
         ],
         "yaxis": "y"
        },
        {
         "customdata": [
          [
           "Chief Sealth",
           "Rainier Beach",
           "W",
           108,
           3.68,
           "Home"
          ],
          [
           "Chief Sealth",
           "West Seattle",
           "L",
           111,
           -39.65,
           "Home"
          ],
          [
           "Chief Sealth",
           "Eastside Catholic",
           "L",
           112,
           -3.56,
           "Home"
          ],
          [
           "Chief Sealth",
           "Seattle Academy",
           "L",
           109,
           -21.89,
           "Away"
          ],
          [
           "Chief Sealth",
           "Franklin",
           "L",
           110,
           -72.63,
           "Away"
          ]
         ],
         "hovertemplate": "Team=%{customdata[0]}<br>League Match Number=%{x}<br>ELO Rating=%{y}<br>Opponent=%{customdata[1]}<br>Result=%{customdata[2]}<br>Team's Match #=%{customdata[3]}<br>ELO Change=%{customdata[4]}<br>Location=%{customdata[5]}<extra></extra>",
         "legendgroup": "Chief Sealth",
         "line": {
          "color": "#00cc96",
          "dash": "solid"
         },
         "marker": {
          "symbol": "circle"
         },
         "mode": "lines",
         "name": "Chief Sealth",
         "orientation": "v",
         "showlegend": true,
         "type": "scatter",
         "x": [
          3,
          31,
          33,
          24,
          25
         ],
         "xaxis": "x",
         "y": [
          1436.4589167550575,
          1302.2832899674438,
          1298.7248257891165,
          1414.566742856733,
          1341.9350843006027
         ],
         "yaxis": "y"
        },
        {
         "customdata": [
          [
           "Lakeside (Seattle)",
           "Bishop Blanchet",
           "D",
           120,
           -4.19,
           "Home"
          ],
          [
           "Lakeside (Seattle)",
           "Ballard",
           "L",
           121,
           -29.69,
           "Home"
          ],
          [
           "Lakeside (Seattle)",
           "Nathan Hale",
           "W",
           122,
           1.07,
           "Away"
          ],
          [
           "Lakeside (Seattle)",
           "Roosevelt",
           "L",
           123,
           -36.39,
           "Away"
          ]
         ],
         "hovertemplate": "Team=%{customdata[0]}<br>League Match Number=%{x}<br>ELO Rating=%{y}<br>Opponent=%{customdata[1]}<br>Result=%{customdata[2]}<br>Team's Match #=%{customdata[3]}<br>ELO Change=%{customdata[4]}<br>Location=%{customdata[5]}<extra></extra>",
         "legendgroup": "Lakeside (Seattle)",
         "line": {
          "color": "#ab63fa",
          "dash": "solid"
         },
         "marker": {
          "symbol": "circle"
         },
         "mode": "lines",
         "name": "Lakeside (Seattle)",
         "orientation": "v",
         "showlegend": true,
         "type": "scatter",
         "x": [
          4,
          7,
          26,
          27
         ],
         "xaxis": "x",
         "y": [
          1897.299901271616,
          1867.6077490344076,
          1868.674323388064,
          1832.2871735995784
         ],
         "yaxis": "y"
        },
        {
         "customdata": [
          [
           "O'Dea",
           "Bishop Blanchet",
           "L",
           115,
           -22,
           "Home"
          ],
          [
           "O'Dea",
           "Ballard",
           "L",
           116,
           -65.67,
           "Home"
          ],
          [
           "O'Dea",
           "Seattle Prep.",
           "D",
           117,
           4.17,
           "Away"
          ]
         ],
         "hovertemplate": "Team=%{customdata[0]}<br>League Match Number=%{x}<br>ELO Rating=%{y}<br>Opponent=%{customdata[1]}<br>Result=%{customdata[2]}<br>Team's Match #=%{customdata[3]}<br>ELO Change=%{customdata[4]}<br>Location=%{customdata[5]}<extra></extra>",
         "legendgroup": "O'Dea",
         "line": {
          "color": "#FFA15A",
          "dash": "solid"
         },
         "marker": {
          "symbol": "circle"
         },
         "mode": "lines",
         "name": "O'Dea",
         "orientation": "v",
         "showlegend": true,
         "type": "scatter",
         "x": [
          5,
          9,
          17
         ],
         "xaxis": "x",
         "y": [
          1763.3573669248096,
          1697.689777218072,
          1701.859252311606
         ],
         "yaxis": "y"
        },
        {
         "customdata": [
          [
           "Garfield",
           "Bishop Blanchet",
           "L",
           119,
           -71.55,
           "Home"
          ],
          [
           "Garfield",
           "Roosevelt",
           "D",
           122,
           0.44,
           "Home"
          ],
          [
           "Garfield",
           "Seattle Prep.",
           "L",
           120,
           -56.56,
           "Away"
          ],
          [
           "Garfield",
           "Ballard",
           "D",
           121,
           -3.22,
           "Away"
          ]
         ],
         "hovertemplate": "Team=%{customdata[0]}<br>League Match Number=%{x}<br>ELO Rating=%{y}<br>Opponent=%{customdata[1]}<br>Result=%{customdata[2]}<br>Team's Match #=%{customdata[3]}<br>ELO Change=%{customdata[4]}<br>Location=%{customdata[5]}<extra></extra>",
         "legendgroup": "Garfield",
         "line": {
          "color": "#19d3f3",
          "dash": "solid"
         },
         "marker": {
          "symbol": "circle"
         },
         "mode": "lines",
         "name": "Garfield",
         "orientation": "v",
         "showlegend": true,
         "type": "scatter",
         "x": [
          6,
          19,
          14,
          15
         ],
         "xaxis": "x",
         "y": [
          1768.752877988199,
          1709.4171704047817,
          1712.1956045675258,
          1708.9733658591656
         ],
         "yaxis": "y"
        },
        {
         "customdata": [
          [
           "Lincoln (Seattle)",
           "Ballard",
           "W",
           62,
           12.76,
           "Home"
          ],
          [
           "Lincoln (Seattle)",
           "Seattle Prep.",
           "D",
           63,
           -6.68,
           "Away"
          ]
         ],
         "hovertemplate": "Team=%{customdata[0]}<br>League Match Number=%{x}<br>ELO Rating=%{y}<br>Opponent=%{customdata[1]}<br>Result=%{customdata[2]}<br>Team's Match #=%{customdata[3]}<br>ELO Change=%{customdata[4]}<br>Location=%{customdata[5]}<extra></extra>",
         "legendgroup": "Lincoln (Seattle)",
         "line": {
          "color": "#FF6692",
          "dash": "solid"
         },
         "marker": {
          "symbol": "circle"
         },
         "mode": "lines",
         "name": "Lincoln (Seattle)",
         "orientation": "v",
         "showlegend": true,
         "type": "scatter",
         "x": [
          8,
          16
         ],
         "xaxis": "x",
         "y": [
          2125.735780497304,
          2119.0550618081083
         ],
         "yaxis": "y"
        },
        {
         "customdata": [
          [
           "West Seattle",
           "Ingraham",
           "L",
           110,
           -9.48,
           "Home"
          ],
          [
           "West Seattle",
           "Nathan Hale",
           "W",
           111,
           77.66,
           "Away"
          ],
          [
           "West Seattle",
           "Chief Sealth",
           "W",
           112,
           39.65,
           "Away"
          ],
          [
           "West Seattle",
           "Franklin",
           "L",
           113,
           -60.14,
           "Away"
          ]
         ],
         "hovertemplate": "Team=%{customdata[0]}<br>League Match Number=%{x}<br>ELO Rating=%{y}<br>Opponent=%{customdata[1]}<br>Result=%{customdata[2]}<br>Team's Match #=%{customdata[3]}<br>ELO Change=%{customdata[4]}<br>Location=%{customdata[5]}<extra></extra>",
         "legendgroup": "West Seattle",
         "line": {
          "color": "#B6E880",
          "dash": "solid"
         },
         "marker": {
          "symbol": "circle"
         },
         "mode": "lines",
         "name": "West Seattle",
         "orientation": "v",
         "showlegend": true,
         "type": "scatter",
         "x": [
          10,
          30,
          31,
          32
         ],
         "xaxis": "x",
         "y": [
          1167.302006340734,
          1244.959636695357,
          1284.611431028516,
          1224.468616888318
         ],
         "yaxis": "y"
        },
        {
         "customdata": [
          [
           "Cleveland",
           "Ingraham",
           "L",
           123,
           -0.89,
           "Home"
          ],
          [
           "Cleveland",
           "Eastside Catholic",
           "L",
           124,
           -1.04,
           "Away"
          ],
          [
           "Cleveland",
           "Rainier Beach",
           "D",
           125,
           -1.48,
           "Away"
          ]
         ],
         "hovertemplate": "Team=%{customdata[0]}<br>League Match Number=%{x}<br>ELO Rating=%{y}<br>Opponent=%{customdata[1]}<br>Result=%{customdata[2]}<br>Team's Match #=%{customdata[3]}<br>ELO Change=%{customdata[4]}<br>Location=%{customdata[5]}<extra></extra>",
         "legendgroup": "Cleveland",
         "line": {
          "color": "#FF97FF",
          "dash": "solid"
         },
         "marker": {
          "symbol": "circle"
         },
         "mode": "lines",
         "name": "Cleveland",
         "orientation": "v",
         "showlegend": true,
         "type": "scatter",
         "x": [
          12,
          22,
          23
         ],
         "xaxis": "x",
         "y": [
          682.202959142725,
          681.1619252594135,
          679.681479863451
         ],
         "yaxis": "y"
        },
        {
         "customdata": [
          [
           "Franklin",
           "Ingraham",
           "L",
           103,
           -6.87,
           "Home"
          ],
          [
           "Franklin",
           "Chief Sealth",
           "W",
           104,
           72.63,
           "Home"
          ],
          [
           "Franklin",
           "West Seattle",
           "W",
           106,
           60.14,
           "Home"
          ],
          [
           "Franklin",
           "Eastside Catholic",
           "L",
           107,
           -5.35,
           "Home"
          ],
          [
           "Franklin",
           "Nathan Hale",
           "D",
           105,
           2.41,
           "Away"
          ]
         ],
         "hovertemplate": "Team=%{customdata[0]}<br>League Match Number=%{x}<br>ELO Rating=%{y}<br>Opponent=%{customdata[1]}<br>Result=%{customdata[2]}<br>Team's Match #=%{customdata[3]}<br>ELO Change=%{customdata[4]}<br>Location=%{customdata[5]}<extra></extra>",
         "legendgroup": "Franklin",
         "line": {
          "color": "#FECB52",
          "dash": "solid"
         },
         "marker": {
          "symbol": "circle"
         },
         "mode": "lines",
         "name": "Franklin",
         "orientation": "v",
         "showlegend": true,
         "type": "scatter",
         "x": [
          13,
          25,
          32,
          34,
          29
         ],
         "xaxis": "x",
         "y": [
          1117.064255296842,
          1189.6959138529724,
          1252.247827348956,
          1246.8937205658583,
          1192.1050132087582
         ],
         "yaxis": "y"
        },
        {
         "customdata": [
          [
           "Seattle Prep.",
           "Garfield",
           "W",
           113,
           56.56,
           "Home"
          ],
          [
           "Seattle Prep.",
           "Lincoln (Seattle)",
           "D",
           114,
           6.68,
           "Home"
          ],
          [
           "Seattle Prep.",
           "O'Dea",
           "D",
           115,
           -4.17,
           "Home"
          ],
          [
           "Seattle Prep.",
           "Roosevelt",
           "L",
           116,
           -32.54,
           "Home"
          ],
          [
           "Seattle Prep.",
           "Bishop Blanchet",
           "L",
           117,
           -92.97,
           "Away"
          ]
         ],
         "hovertemplate": "Team=%{customdata[0]}<br>League Match Number=%{x}<br>ELO Rating=%{y}<br>Opponent=%{customdata[1]}<br>Result=%{customdata[2]}<br>Team's Match #=%{customdata[3]}<br>ELO Change=%{customdata[4]}<br>Location=%{customdata[5]}<extra></extra>",
         "legendgroup": "Seattle Prep.",
         "line": {
          "color": "#636efa",
          "dash": "solid"
         },
         "marker": {
          "symbol": "circle"
         },
         "mode": "lines",
         "name": "Seattle Prep.",
         "orientation": "v",
         "showlegend": true,
         "type": "scatter",
         "x": [
          14,
          16,
          17,
          18,
          35
         ],
         "xaxis": "x",
         "y": [
          1945.267501439737,
          1951.948220128933,
          1947.778745035399,
          1915.237137722939,
          1822.266595460816
         ],
         "yaxis": "y"
        },
        {
         "customdata": [
          [
           "Ballard",
           "Garfield",
           "D",
           124,
           3.22,
           "Home"
          ],
          [
           "Ballard",
           "Lakeside (Seattle)",
           "W",
           121,
           29.69,
           "Away"
          ],
          [
           "Ballard",
           "Lincoln (Seattle)",
           "L",
           122,
           -12.76,
           "Away"
          ],
          [
           "Ballard",
           "O'Dea",
           "W",
           123,
           65.67,
           "Away"
          ]
         ],
         "hovertemplate": "Team=%{customdata[0]}<br>League Match Number=%{x}<br>ELO Rating=%{y}<br>Opponent=%{customdata[1]}<br>Result=%{customdata[2]}<br>Team's Match #=%{customdata[3]}<br>ELO Change=%{customdata[4]}<br>Location=%{customdata[5]}<extra></extra>",
         "legendgroup": "Ballard",
         "line": {
          "color": "#EF553B",
          "dash": "solid"
         },
         "marker": {
          "symbol": "circle"
         },
         "mode": "lines",
         "name": "Ballard",
         "orientation": "v",
         "showlegend": true,
         "type": "scatter",
         "x": [
          15,
          7,
          8,
          9
         ],
         "xaxis": "x",
         "y": [
          1699.3303535747764,
          1643.202580392944,
          1630.4405251596786,
          1696.108114866416
         ],
         "yaxis": "y"
        },
        {
         "customdata": [
          [
           "Bishop Blanchet",
           "Roosevelt",
           "W",
           115,
           56.52,
           "Home"
          ],
          [
           "Bishop Blanchet",
           "Seattle Prep.",
           "W",
           116,
           92.97,
           "Home"
          ],
          [
           "Bishop Blanchet",
           "Lakeside (Seattle)",
           "D",
           112,
           4.19,
           "Away"
          ],
          [
           "Bishop Blanchet",
           "O'Dea",
           "W",
           113,
           22,
           "Away"
          ],
          [
           "Bishop Blanchet",
           "Garfield",
           "W",
           114,
           71.55,
           "Away"
          ]
         ],
         "hovertemplate": "Team=%{customdata[0]}<br>League Match Number=%{x}<br>ELO Rating=%{y}<br>Opponent=%{customdata[1]}<br>Result=%{customdata[2]}<br>Team's Match #=%{customdata[3]}<br>ELO Change=%{customdata[4]}<br>Location=%{customdata[5]}<extra></extra>",
         "legendgroup": "Bishop Blanchet",
         "line": {
          "color": "#00cc96",
          "dash": "solid"
         },
         "marker": {
          "symbol": "circle"
         },
         "mode": "lines",
         "name": "Bishop Blanchet",
         "orientation": "v",
         "showlegend": true,
         "type": "scatter",
         "x": [
          20,
          35,
          4,
          5,
          6
         ],
         "xaxis": "x",
         "y": [
          1800.6339253124684,
          1893.604467574592,
          1650.5596080741038,
          1672.5558423313962,
          1744.109969772948
         ],
         "yaxis": "y"
        },
        {
         "customdata": [
          [
           "Eastside Catholic",
           "Nathan Hale",
           "W",
           105,
           48.93,
           "Home"
          ],
          [
           "Eastside Catholic",
           "Cleveland",
           "W",
           106,
           1.04,
           "Home"
          ],
          [
           "Eastside Catholic",
           "Chief Sealth",
           "W",
           107,
           3.56,
           "Away"
          ],
          [
           "Eastside Catholic",
           "Franklin",
           "W",
           108,
           5.35,
           "Away"
          ]
         ],
         "hovertemplate": "Team=%{customdata[0]}<br>League Match Number=%{x}<br>ELO Rating=%{y}<br>Opponent=%{customdata[1]}<br>Result=%{customdata[2]}<br>Team's Match #=%{customdata[3]}<br>ELO Change=%{customdata[4]}<br>Location=%{customdata[5]}<extra></extra>",
         "legendgroup": "Eastside Catholic",
         "line": {
          "color": "#ab63fa",
          "dash": "solid"
         },
         "marker": {
          "symbol": "circle"
         },
         "mode": "lines",
         "name": "Eastside Catholic",
         "orientation": "v",
         "showlegend": true,
         "type": "scatter",
         "x": [
          21,
          22,
          33,
          34
         ],
         "xaxis": "x",
         "y": [
          1605.3758855378592,
          1606.4169194211706,
          1609.9753835994982,
          1615.3294903825956
         ],
         "yaxis": "y"
        },
        {
         "customdata": [
          [
           "Rainier Beach",
           "Cleveland",
           "D",
           137,
           1.48,
           "Home"
          ],
          [
           "Rainier Beach",
           "Ingraham",
           "L",
           134,
           -4.07,
           "Away"
          ],
          [
           "Rainier Beach",
           "Seattle Academy",
           "L",
           135,
           -2.56,
           "Away"
          ],
          [
           "Rainier Beach",
           "Chief Sealth",
           "L",
           136,
           -3.68,
           "Away"
          ]
         ],
         "hovertemplate": "Team=%{customdata[0]}<br>League Match Number=%{x}<br>ELO Rating=%{y}<br>Opponent=%{customdata[1]}<br>Result=%{customdata[2]}<br>Team's Match #=%{customdata[3]}<br>ELO Change=%{customdata[4]}<br>Location=%{customdata[5]}<extra></extra>",
         "legendgroup": "Rainier Beach",
         "line": {
          "color": "#FFA15A",
          "dash": "solid"
         },
         "marker": {
          "symbol": "circle"
         },
         "mode": "lines",
         "name": "Rainier Beach",
         "orientation": "v",
         "showlegend": true,
         "type": "scatter",
         "x": [
          23,
          1,
          2,
          3
         ],
         "xaxis": "x",
         "y": [
          730.8256320426357,
          735.5920153127666,
          733.0288051895732,
          729.3451866466733
         ],
         "yaxis": "y"
        },
        {
         "customdata": [
          [
           "Nathan Hale",
           "Lakeside (Seattle)",
           "L",
           108,
           -1.07,
           "Home"
          ],
          [
           "Nathan Hale",
           "Seattle Academy",
           "W",
           109,
           33.47,
           "Home"
          ],
          [
           "Nathan Hale",
           "Franklin",
           "D",
           110,
           -2.41,
           "Home"
          ],
          [
           "Nathan Hale",
           "West Seattle",
           "L",
           111,
           -77.66,
           "Home"
          ],
          [
           "Nathan Hale",
           "Eastside Catholic",
           "L",
           107,
           -48.93,
           "Away"
          ]
         ],
         "hovertemplate": "Team=%{customdata[0]}<br>League Match Number=%{x}<br>ELO Rating=%{y}<br>Opponent=%{customdata[1]}<br>Result=%{customdata[2]}<br>Team's Match #=%{customdata[3]}<br>ELO Change=%{customdata[4]}<br>Location=%{customdata[5]}<extra></extra>",
         "legendgroup": "Nathan Hale",
         "line": {
          "color": "#19d3f3",
          "dash": "solid"
         },
         "marker": {
          "symbol": "circle"
         },
         "mode": "lines",
         "name": "Nathan Hale",
         "orientation": "v",
         "showlegend": true,
         "type": "scatter",
         "x": [
          26,
          28,
          29,
          30,
          21
         ],
         "xaxis": "x",
         "y": [
          1341.6085822173586,
          1375.0746957600213,
          1372.6655964042354,
          1295.0079660496124,
          1342.6751565710151
         ],
         "yaxis": "y"
        },
        {
         "customdata": [
          [
           "Roosevelt",
           "Lakeside (Seattle)",
           "W",
           121,
           36.39,
           "Home"
          ],
          [
           "Roosevelt",
           "Seattle Prep.",
           "W",
           118,
           32.54,
           "Away"
          ],
          [
           "Roosevelt",
           "Garfield",
           "D",
           119,
           -0.44,
           "Away"
          ],
          [
           "Roosevelt",
           "Bishop Blanchet",
           "L",
           120,
           -56.52,
           "Away"
          ]
         ],
         "hovertemplate": "Team=%{customdata[0]}<br>League Match Number=%{x}<br>ELO Rating=%{y}<br>Opponent=%{customdata[1]}<br>Result=%{customdata[2]}<br>Team's Match #=%{customdata[3]}<br>ELO Change=%{customdata[4]}<br>Location=%{customdata[5]}<extra></extra>",
         "legendgroup": "Roosevelt",
         "line": {
          "color": "#FF6692",
          "dash": "solid"
         },
         "marker": {
          "symbol": "circle"
         },
         "mode": "lines",
         "name": "Roosevelt",
         "orientation": "v",
         "showlegend": true,
         "type": "scatter",
         "x": [
          27,
          18,
          19,
          20
         ],
         "xaxis": "x",
         "y": [
          1603.8222402033082,
          1624.4028504999587,
          1623.9590459543426,
          1567.4350904148223
         ],
         "yaxis": "y"
        }
       ],
       "layout": {
        "height": 700,
        "hovermode": "x unified",
        "legend": {
         "itemclick": "toggleothers",
         "title": {
          "text": "Team"
         },
         "tracegroupgap": 0,
         "traceorder": "normal"
        },
        "margin": {
         "b": 50,
         "t": 50
        },
        "template": {
         "data": {
          "bar": [
           {
            "error_x": {
             "color": "#2a3f5f"
            },
            "error_y": {
             "color": "#2a3f5f"
            },
            "marker": {
             "line": {
              "color": "#E5ECF6",
              "width": 0.5
             },
             "pattern": {
              "fillmode": "overlay",
              "size": 10,
              "solidity": 0.2
             }
            },
            "type": "bar"
           }
          ],
          "barpolar": [
           {
            "marker": {
             "line": {
              "color": "#E5ECF6",
              "width": 0.5
             },
             "pattern": {
              "fillmode": "overlay",
              "size": 10,
              "solidity": 0.2
             }
            },
            "type": "barpolar"
           }
          ],
          "carpet": [
           {
            "aaxis": {
             "endlinecolor": "#2a3f5f",
             "gridcolor": "white",
             "linecolor": "white",
             "minorgridcolor": "white",
             "startlinecolor": "#2a3f5f"
            },
            "baxis": {
             "endlinecolor": "#2a3f5f",
             "gridcolor": "white",
             "linecolor": "white",
             "minorgridcolor": "white",
             "startlinecolor": "#2a3f5f"
            },
            "type": "carpet"
           }
          ],
          "choropleth": [
           {
            "colorbar": {
             "outlinewidth": 0,
             "ticks": ""
            },
            "type": "choropleth"
           }
          ],
          "contour": [
           {
            "colorbar": {
             "outlinewidth": 0,
             "ticks": ""
            },
            "colorscale": [
             [
              0,
              "#0d0887"
             ],
             [
              0.1111111111111111,
              "#46039f"
             ],
             [
              0.2222222222222222,
              "#7201a8"
             ],
             [
              0.3333333333333333,
              "#9c179e"
             ],
             [
              0.4444444444444444,
              "#bd3786"
             ],
             [
              0.5555555555555556,
              "#d8576b"
             ],
             [
              0.6666666666666666,
              "#ed7953"
             ],
             [
              0.7777777777777778,
              "#fb9f3a"
             ],
             [
              0.8888888888888888,
              "#fdca26"
             ],
             [
              1,
              "#f0f921"
             ]
            ],
            "type": "contour"
           }
          ],
          "contourcarpet": [
           {
            "colorbar": {
             "outlinewidth": 0,
             "ticks": ""
            },
            "type": "contourcarpet"
           }
          ],
          "heatmap": [
           {
            "colorbar": {
             "outlinewidth": 0,
             "ticks": ""
            },
            "colorscale": [
             [
              0,
              "#0d0887"
             ],
             [
              0.1111111111111111,
              "#46039f"
             ],
             [
              0.2222222222222222,
              "#7201a8"
             ],
             [
              0.3333333333333333,
              "#9c179e"
             ],
             [
              0.4444444444444444,
              "#bd3786"
             ],
             [
              0.5555555555555556,
              "#d8576b"
             ],
             [
              0.6666666666666666,
              "#ed7953"
             ],
             [
              0.7777777777777778,
              "#fb9f3a"
             ],
             [
              0.8888888888888888,
              "#fdca26"
             ],
             [
              1,
              "#f0f921"
             ]
            ],
            "type": "heatmap"
           }
          ],
          "heatmapgl": [
           {
            "colorbar": {
             "outlinewidth": 0,
             "ticks": ""
            },
            "colorscale": [
             [
              0,
              "#0d0887"
             ],
             [
              0.1111111111111111,
              "#46039f"
             ],
             [
              0.2222222222222222,
              "#7201a8"
             ],
             [
              0.3333333333333333,
              "#9c179e"
             ],
             [
              0.4444444444444444,
              "#bd3786"
             ],
             [
              0.5555555555555556,
              "#d8576b"
             ],
             [
              0.6666666666666666,
              "#ed7953"
             ],
             [
              0.7777777777777778,
              "#fb9f3a"
             ],
             [
              0.8888888888888888,
              "#fdca26"
             ],
             [
              1,
              "#f0f921"
             ]
            ],
            "type": "heatmapgl"
           }
          ],
          "histogram": [
           {
            "marker": {
             "pattern": {
              "fillmode": "overlay",
              "size": 10,
              "solidity": 0.2
             }
            },
            "type": "histogram"
           }
          ],
          "histogram2d": [
           {
            "colorbar": {
             "outlinewidth": 0,
             "ticks": ""
            },
            "colorscale": [
             [
              0,
              "#0d0887"
             ],
             [
              0.1111111111111111,
              "#46039f"
             ],
             [
              0.2222222222222222,
              "#7201a8"
             ],
             [
              0.3333333333333333,
              "#9c179e"
             ],
             [
              0.4444444444444444,
              "#bd3786"
             ],
             [
              0.5555555555555556,
              "#d8576b"
             ],
             [
              0.6666666666666666,
              "#ed7953"
             ],
             [
              0.7777777777777778,
              "#fb9f3a"
             ],
             [
              0.8888888888888888,
              "#fdca26"
             ],
             [
              1,
              "#f0f921"
             ]
            ],
            "type": "histogram2d"
           }
          ],
          "histogram2dcontour": [
           {
            "colorbar": {
             "outlinewidth": 0,
             "ticks": ""
            },
            "colorscale": [
             [
              0,
              "#0d0887"
             ],
             [
              0.1111111111111111,
              "#46039f"
             ],
             [
              0.2222222222222222,
              "#7201a8"
             ],
             [
              0.3333333333333333,
              "#9c179e"
             ],
             [
              0.4444444444444444,
              "#bd3786"
             ],
             [
              0.5555555555555556,
              "#d8576b"
             ],
             [
              0.6666666666666666,
              "#ed7953"
             ],
             [
              0.7777777777777778,
              "#fb9f3a"
             ],
             [
              0.8888888888888888,
              "#fdca26"
             ],
             [
              1,
              "#f0f921"
             ]
            ],
            "type": "histogram2dcontour"
           }
          ],
          "mesh3d": [
           {
            "colorbar": {
             "outlinewidth": 0,
             "ticks": ""
            },
            "type": "mesh3d"
           }
          ],
          "parcoords": [
           {
            "line": {
             "colorbar": {
              "outlinewidth": 0,
              "ticks": ""
             }
            },
            "type": "parcoords"
           }
          ],
          "pie": [
           {
            "automargin": true,
            "type": "pie"
           }
          ],
          "scatter": [
           {
            "fillpattern": {
             "fillmode": "overlay",
             "size": 10,
             "solidity": 0.2
            },
            "type": "scatter"
           }
          ],
          "scatter3d": [
           {
            "line": {
             "colorbar": {
              "outlinewidth": 0,
              "ticks": ""
             }
            },
            "marker": {
             "colorbar": {
              "outlinewidth": 0,
              "ticks": ""
             }
            },
            "type": "scatter3d"
           }
          ],
          "scattercarpet": [
           {
            "marker": {
             "colorbar": {
              "outlinewidth": 0,
              "ticks": ""
             }
            },
            "type": "scattercarpet"
           }
          ],
          "scattergeo": [
           {
            "marker": {
             "colorbar": {
              "outlinewidth": 0,
              "ticks": ""
             }
            },
            "type": "scattergeo"
           }
          ],
          "scattergl": [
           {
            "marker": {
             "colorbar": {
              "outlinewidth": 0,
              "ticks": ""
             }
            },
            "type": "scattergl"
           }
          ],
          "scattermapbox": [
           {
            "marker": {
             "colorbar": {
              "outlinewidth": 0,
              "ticks": ""
             }
            },
            "type": "scattermapbox"
           }
          ],
          "scatterpolar": [
           {
            "marker": {
             "colorbar": {
              "outlinewidth": 0,
              "ticks": ""
             }
            },
            "type": "scatterpolar"
           }
          ],
          "scatterpolargl": [
           {
            "marker": {
             "colorbar": {
              "outlinewidth": 0,
              "ticks": ""
             }
            },
            "type": "scatterpolargl"
           }
          ],
          "scatterternary": [
           {
            "marker": {
             "colorbar": {
              "outlinewidth": 0,
              "ticks": ""
             }
            },
            "type": "scatterternary"
           }
          ],
          "surface": [
           {
            "colorbar": {
             "outlinewidth": 0,
             "ticks": ""
            },
            "colorscale": [
             [
              0,
              "#0d0887"
             ],
             [
              0.1111111111111111,
              "#46039f"
             ],
             [
              0.2222222222222222,
              "#7201a8"
             ],
             [
              0.3333333333333333,
              "#9c179e"
             ],
             [
              0.4444444444444444,
              "#bd3786"
             ],
             [
              0.5555555555555556,
              "#d8576b"
             ],
             [
              0.6666666666666666,
              "#ed7953"
             ],
             [
              0.7777777777777778,
              "#fb9f3a"
             ],
             [
              0.8888888888888888,
              "#fdca26"
             ],
             [
              1,
              "#f0f921"
             ]
            ],
            "type": "surface"
           }
          ],
          "table": [
           {
            "cells": {
             "fill": {
              "color": "#EBF0F8"
             },
             "line": {
              "color": "white"
             }
            },
            "header": {
             "fill": {
              "color": "#C8D4E3"
             },
             "line": {
              "color": "white"
             }
            },
            "type": "table"
           }
          ]
         },
         "layout": {
          "annotationdefaults": {
           "arrowcolor": "#2a3f5f",
           "arrowhead": 0,
           "arrowwidth": 1
          },
          "autotypenumbers": "strict",
          "coloraxis": {
           "colorbar": {
            "outlinewidth": 0,
            "ticks": ""
           }
          },
          "colorscale": {
           "diverging": [
            [
             0,
             "#8e0152"
            ],
            [
             0.1,
             "#c51b7d"
            ],
            [
             0.2,
             "#de77ae"
            ],
            [
             0.3,
             "#f1b6da"
            ],
            [
             0.4,
             "#fde0ef"
            ],
            [
             0.5,
             "#f7f7f7"
            ],
            [
             0.6,
             "#e6f5d0"
            ],
            [
             0.7,
             "#b8e186"
            ],
            [
             0.8,
             "#7fbc41"
            ],
            [
             0.9,
             "#4d9221"
            ],
            [
             1,
             "#276419"
            ]
           ],
           "sequential": [
            [
             0,
             "#0d0887"
            ],
            [
             0.1111111111111111,
             "#46039f"
            ],
            [
             0.2222222222222222,
             "#7201a8"
            ],
            [
             0.3333333333333333,
             "#9c179e"
            ],
            [
             0.4444444444444444,
             "#bd3786"
            ],
            [
             0.5555555555555556,
             "#d8576b"
            ],
            [
             0.6666666666666666,
             "#ed7953"
            ],
            [
             0.7777777777777778,
             "#fb9f3a"
            ],
            [
             0.8888888888888888,
             "#fdca26"
            ],
            [
             1,
             "#f0f921"
            ]
           ],
           "sequentialminus": [
            [
             0,
             "#0d0887"
            ],
            [
             0.1111111111111111,
             "#46039f"
            ],
            [
             0.2222222222222222,
             "#7201a8"
            ],
            [
             0.3333333333333333,
             "#9c179e"
            ],
            [
             0.4444444444444444,
             "#bd3786"
            ],
            [
             0.5555555555555556,
             "#d8576b"
            ],
            [
             0.6666666666666666,
             "#ed7953"
            ],
            [
             0.7777777777777778,
             "#fb9f3a"
            ],
            [
             0.8888888888888888,
             "#fdca26"
            ],
            [
             1,
             "#f0f921"
            ]
           ]
          },
          "colorway": [
           "#636efa",
           "#EF553B",
           "#00cc96",
           "#ab63fa",
           "#FFA15A",
           "#19d3f3",
           "#FF6692",
           "#B6E880",
           "#FF97FF",
           "#FECB52"
          ],
          "font": {
           "color": "#2a3f5f"
          },
          "geo": {
           "bgcolor": "white",
           "lakecolor": "white",
           "landcolor": "#E5ECF6",
           "showlakes": true,
           "showland": true,
           "subunitcolor": "white"
          },
          "hoverlabel": {
           "align": "left"
          },
          "hovermode": "closest",
          "mapbox": {
           "style": "light"
          },
          "paper_bgcolor": "white",
          "plot_bgcolor": "#E5ECF6",
          "polar": {
           "angularaxis": {
            "gridcolor": "white",
            "linecolor": "white",
            "ticks": ""
           },
           "bgcolor": "#E5ECF6",
           "radialaxis": {
            "gridcolor": "white",
            "linecolor": "white",
            "ticks": ""
           }
          },
          "scene": {
           "xaxis": {
            "backgroundcolor": "#E5ECF6",
            "gridcolor": "white",
            "gridwidth": 2,
            "linecolor": "white",
            "showbackground": true,
            "ticks": "",
            "zerolinecolor": "white"
           },
           "yaxis": {
            "backgroundcolor": "#E5ECF6",
            "gridcolor": "white",
            "gridwidth": 2,
            "linecolor": "white",
            "showbackground": true,
            "ticks": "",
            "zerolinecolor": "white"
           },
           "zaxis": {
            "backgroundcolor": "#E5ECF6",
            "gridcolor": "white",
            "gridwidth": 2,
            "linecolor": "white",
            "showbackground": true,
            "ticks": "",
            "zerolinecolor": "white"
           }
          },
          "shapedefaults": {
           "line": {
            "color": "#2a3f5f"
           }
          },
          "ternary": {
           "aaxis": {
            "gridcolor": "white",
            "linecolor": "white",
            "ticks": ""
           },
           "baxis": {
            "gridcolor": "white",
            "linecolor": "white",
            "ticks": ""
           },
           "bgcolor": "#E5ECF6",
           "caxis": {
            "gridcolor": "white",
            "linecolor": "white",
            "ticks": ""
           }
          },
          "title": {
           "x": 0.05
          },
          "xaxis": {
           "automargin": true,
           "gridcolor": "white",
           "linecolor": "white",
           "ticks": "",
           "title": {
            "standoff": 15
           },
           "zerolinecolor": "white",
           "zerolinewidth": 2
          },
          "yaxis": {
           "automargin": true,
           "gridcolor": "white",
           "linecolor": "white",
           "ticks": "",
           "title": {
            "standoff": 15
           },
           "zerolinecolor": "white",
           "zerolinewidth": 2
          }
         }
        },
        "title": {
         "text": "ELO Progression - 2024-25 Season (Shared League Timeline)"
        },
        "xaxis": {
         "anchor": "y",
         "domain": [
          0,
          1
         ],
         "showgrid": true,
         "title": {
          "text": "League Match Number"
         }
        },
        "yaxis": {
         "anchor": "x",
         "domain": [
          0,
          1
         ],
         "showgrid": true,
         "title": {
          "text": "ELO Rating"
         }
        }
       }
      }
     },
     "metadata": {},
     "output_type": "display_data"
    }
   ],
   "source": [
    "import pandas as pd\n",
    "import plotly.express as px\n",
    "\n",
    "# Load the ELO match log\n",
    "df = pd.read_csv(r\"C:\\Users\\User\\Desktop\\Soccer Footage\\metroleague_elo_log.csv\")\n",
    "\n",
    "# Create a consistent order for all matches per season (scraper's order or raw index)\n",
    "df[\"Row Order\"] = range(len(df))\n",
    "df = df.sort_values(by=[\"Season\", \"Row Order\"])\n",
    "\n",
    "# Add a Global Match Number per Season (shared league timeline)\n",
    "df[\"Global Match #\"] = df.groupby(\"Season\").cumcount() + 1\n",
    "\n",
    "# Assign a row ID to map back after long transformation\n",
    "df[\"Match ID\"] = df.index\n",
    "\n",
    "# -----------------------------\n",
    "# Long-format Transformation\n",
    "# -----------------------------\n",
    "home_df = df[[\n",
    "    \"Match ID\", \"Season\", \"Global Match #\", \"Date\",\n",
    "    \"Home Team\", \"Away Team\", \"Home Score\", \"Away Score\",\n",
    "    \"Home ELO Before\", \"Home ELO After\", \"Home ELO Change\", \"Home Match #\"\n",
    "]].copy()\n",
    "\n",
    "home_df.columns = [\n",
    "    \"Match ID\", \"Season\", \"Global Match #\", \"Date\",\n",
    "    \"Team\", \"Opponent\", \"Goals For\", \"Goals Against\",\n",
    "    \"ELO Before\", \"ELO After\", \"ELO Δ\", \"Team Match #\"\n",
    "]\n",
    "home_df[\"Location\"] = \"Home\"\n",
    "\n",
    "away_df = df[[\n",
    "    \"Match ID\", \"Season\", \"Global Match #\", \"Date\",\n",
    "    \"Away Team\", \"Home Team\", \"Away Score\", \"Home Score\",\n",
    "    \"Away ELO Before\", \"Away ELO After\", \"Away ELO Change\", \"Away Match #\"\n",
    "]].copy()\n",
    "\n",
    "away_df.columns = [\n",
    "    \"Match ID\", \"Season\", \"Global Match #\", \"Date\",\n",
    "    \"Team\", \"Opponent\", \"Goals For\", \"Goals Against\",\n",
    "    \"ELO Before\", \"ELO After\", \"ELO Δ\", \"Team Match #\"\n",
    "]\n",
    "away_df[\"Location\"] = \"Away\"\n",
    "\n",
    "# Combine Home and Away\n",
    "long_df = pd.concat([home_df, away_df], ignore_index=True)\n",
    "\n",
    "# Compute Match Result (W/L/D)\n",
    "long_df[\"Result\"] = long_df.apply(\n",
    "    lambda row: \"W\" if row[\"Goals For\"] > row[\"Goals Against\"]\n",
    "    else \"L\" if row[\"Goals For\"] < row[\"Goals Against\"]\n",
    "    else \"D\", axis=1\n",
    ")\n",
    "\n",
    "# Clean ELO Δ and match #\n",
    "long_df[\"ELO Δ\"] = long_df[\"ELO Δ\"].round(2)\n",
    "long_df[\"Team Match #\"] = long_df[\"Team Match #\"].astype(int)\n",
    "\n",
    "# -----------------------------\n",
    "# Filter to Latest Season Only\n",
    "# -----------------------------\n",
    "latest_season = long_df[\"Season\"].max()\n",
    "df_current = long_df[long_df[\"Season\"] == latest_season].copy()\n",
    "\n",
    "# -----------------------------\n",
    "# Plot: ELO Progression (Shared League Timeline)\n",
    "# -----------------------------\n",
    "fig = px.line(\n",
    "    df_current,\n",
    "    x=\"Global Match #\",\n",
    "    y=\"ELO After\",\n",
    "    color=\"Team\",\n",
    "    line_group=\"Team\",\n",
    "    hover_data={\n",
    "        \"Team\": True,\n",
    "        \"Opponent\": True,\n",
    "        \"Result\": True,\n",
    "        \"Global Match #\": True,\n",
    "        \"Team Match #\": True,\n",
    "        \"ELO After\": True,\n",
    "        \"ELO Δ\": True,\n",
    "        \"Location\": True,\n",
    "    },\n",
    "    title=f\"ELO Progression - {latest_season} Season (Shared League Timeline)\",\n",
    "    labels={\n",
    "        \"Global Match #\": \"League Match Number\",\n",
    "        \"ELO After\": \"ELO Rating\",\n",
    "        \"ELO Δ\": \"ELO Change\",\n",
    "        \"Team Match #\": \"Team's Match #\"\n",
    "    },\n",
    ")\n",
    "\n",
    "fig.update_layout(\n",
    "    hovermode=\"x unified\",\n",
    "    xaxis=dict(showgrid=True),\n",
    "    yaxis=dict(showgrid=True),\n",
    "    legend=dict(title=\"Team\", traceorder=\"normal\", itemclick=\"toggleothers\"),\n",
    "    height=700,\n",
    "    margin=dict(t=50, b=50),\n",
    ")\n",
    "\n",
    "fig.show()\n",
    "\n"
   ]
  }
 ],
 "metadata": {
  "kernelspec": {
   "display_name": "base",
   "language": "python",
   "name": "python3"
  },
  "language_info": {
   "codemirror_mode": {
    "name": "ipython",
    "version": 3
   },
   "file_extension": ".py",
   "mimetype": "text/x-python",
   "name": "python",
   "nbconvert_exporter": "python",
   "pygments_lexer": "ipython3",
   "version": "3.8.8"
  }
 },
 "nbformat": 4,
 "nbformat_minor": 2
}

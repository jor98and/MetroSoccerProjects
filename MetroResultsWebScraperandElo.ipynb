{
 "cells": [
  {
   "cell_type": "code",
   "execution_count": 323,
   "metadata": {},
   "outputs": [],
   "source": [
    "from selenium import webdriver\n",
    "from selenium.webdriver.common.by import By\n",
    "from selenium.webdriver.support.ui import WebDriverWait\n",
    "from selenium.webdriver.support import expected_conditions as EC\n",
    "from selenium.webdriver.support.ui import Select\n",
    "import time\n",
    "import pandas as pd\n",
    "from collections import defaultdict\n"
   ]
  },
  {
   "cell_type": "code",
   "execution_count": 324,
   "metadata": {},
   "outputs": [],
   "source": [
    "# Set up the Selenium driver\n",
    "driver = webdriver.Chrome()\n",
    "url = \"https://www.metroleaguewa.org/sport/?leagueid=8&sportid=9\"\n",
    "driver.get(url)"
   ]
  },
  {
   "cell_type": "code",
   "execution_count": 325,
   "metadata": {},
   "outputs": [],
   "source": [
    "# Wait for dropdown to load\n",
    "WebDriverWait(driver, 15).until(EC.presence_of_element_located((By.ID, \"select_level_id\")))\n",
    "\n",
    "options = driver.find_elements(By.CSS_SELECTOR, \"#select_level_id option\")\n",
    "valid_seasons = []"
   ]
  },
  {
   "cell_type": "code",
   "execution_count": 326,
   "metadata": {},
   "outputs": [],
   "source": [
    "for i in range(len(options)):\n",
    "    text = options[i].text.strip()\n",
    "    value = options[i].get_attribute(\"value\")\n",
    "    if \"Varsity\" in text and not any(x in text for x in [\"Junior\", \"C-Team\"]):\n",
    "        if i > 0 and not options[i - 1].get_attribute(\"value\").startswith(\"?\"):\n",
    "            year = options[i - 1].text.strip()\n",
    "            if year >= \"2016-17\":\n",
    "                valid_seasons.append((year, value))\n",
    "\n",
    "all_matches = []\n",
    "all_standings = []\n",
    "team_class = {}"
   ]
  },
  {
   "cell_type": "code",
   "execution_count": 327,
   "metadata": {},
   "outputs": [],
   "source": [
    "# Collect all Varsity options starting from 2016-17\n",
    "options = driver.find_elements(By.CSS_SELECTOR, \"#select_level_id option\")\n",
    "\n",
    "# Filter for Varsity entries only (exclude Junior Varsity or C-Team)\n",
    "valid_seasons = []\n",
    "for i in range(len(options)):\n",
    "    text = options[i].text.strip()\n",
    "    value = options[i].get_attribute(\"value\")\n",
    "    if \"Varsity\" in text and not any(x in text for x in [\"Junior\", \"C-Team\"]):\n",
    "        if i > 0 and not options[i - 1].get_attribute(\"value\").startswith(\"?\"):\n",
    "            year = options[i - 1].text.strip()\n",
    "            if year >= \"2016-17\":\n",
    "                valid_seasons.append((year, value))\n",
    "\n",
    "varsity_links = []\n",
    "for option in options:\n",
    "    text = option.text.strip()\n",
    "    value = option.get_attribute(\"value\")\n",
    "    if \"Varsity\" in text and value.startswith(\"?\") and text[:7] >= \"2016-17\":\n",
    "        full_url = f\"https://www.metroleaguewa.org/sport/{value}\"\n",
    "        varsity_links.append((text, full_url))\n",
    "\n",
    "all_matches = []\n",
    "all_standings = []"
   ]
  },
  {
   "cell_type": "code",
   "execution_count": 328,
   "metadata": {},
   "outputs": [
    {
     "name": "stdout",
     "output_type": "stream",
     "text": [
      "Scraping 2024-25 Varsity → https://www.metroleaguewa.org/sport/?leagueid=8&sportid=9&school_year=2024-25&level_id=12#schedule\n",
      "Standings error for 2024-25: Message: \n",
      "Stacktrace:\n",
      "\tGetHandleVerifier [0x00007FF744024C25+3179557]\n",
      "\t(No symbol) [0x00007FF743C888A0]\n",
      "\t(No symbol) [0x00007FF743B191CA]\n",
      "\t(No symbol) [0x00007FF743B6FA67]\n",
      "\t(No symbol) [0x00007FF743B6FC9C]\n",
      "\t(No symbol) [0x00007FF743BC3627]\n",
      "\t(No symbol) [0x00007FF743B97C6F]\n",
      "\t(No symbol) [0x00007FF743BC02F3]\n",
      "\t(No symbol) [0x00007FF743B97A03]\n",
      "\t(No symbol) [0x00007FF743B606D0]\n",
      "\t(No symbol) [0x00007FF743B61983]\n",
      "\tGetHandleVerifier [0x00007FF7440867CD+3579853]\n",
      "\tGetHandleVerifier [0x00007FF74409D1D2+3672530]\n",
      "\tGetHandleVerifier [0x00007FF744092153+3627347]\n",
      "\tGetHandleVerifier [0x00007FF743DF092A+868650]\n",
      "\t(No symbol) [0x00007FF743C92FFF]\n",
      "\t(No symbol) [0x00007FF743C8F4A4]\n",
      "\t(No symbol) [0x00007FF743C8F646]\n",
      "\t(No symbol) [0x00007FF743C7EAA9]\n",
      "\tBaseThreadInitThunk [0x00007FFDFFDC7374+20]\n",
      "\tRtlUserThreadStart [0x00007FFE006DCC91+33]\n",
      "\n",
      "Scraping 2023-24 Varsity → https://www.metroleaguewa.org/sport/?leagueid=8&sportid=9&school_year=2023-24&level_id=12#schedule\n",
      "Standings error for 2023-24: Message: element click intercepted: Element is not clickable at point (574, 935)\n",
      "  (Session info: chrome=134.0.6998.89)\n",
      "Stacktrace:\n",
      "\tGetHandleVerifier [0x00007FF744024C25+3179557]\n",
      "\t(No symbol) [0x00007FF743C888A0]\n",
      "\t(No symbol) [0x00007FF743B191CA]\n",
      "\t(No symbol) [0x00007FF743B77929]\n",
      "\t(No symbol) [0x00007FF743B752E2]\n",
      "\t(No symbol) [0x00007FF743B72381]\n",
      "\t(No symbol) [0x00007FF743B71281]\n",
      "\t(No symbol) [0x00007FF743B62A24]\n",
      "\t(No symbol) [0x00007FF743B97C2A]\n",
      "\t(No symbol) [0x00007FF743B622D6]\n",
      "\t(No symbol) [0x00007FF743B97E40]\n",
      "\t(No symbol) [0x00007FF743BC02F3]\n",
      "\t(No symbol) [0x00007FF743B97A03]\n",
      "\t(No symbol) [0x00007FF743B606D0]\n",
      "\t(No symbol) [0x00007FF743B61983]\n",
      "\tGetHandleVerifier [0x00007FF7440867CD+3579853]\n",
      "\tGetHandleVerifier [0x00007FF74409D1D2+3672530]\n",
      "\tGetHandleVerifier [0x00007FF744092153+3627347]\n",
      "\tGetHandleVerifier [0x00007FF743DF092A+868650]\n",
      "\t(No symbol) [0x00007FF743C92FFF]\n",
      "\t(No symbol) [0x00007FF743C8F4A4]\n",
      "\t(No symbol) [0x00007FF743C8F646]\n",
      "\t(No symbol) [0x00007FF743C7EAA9]\n",
      "\tBaseThreadInitThunk [0x00007FFDFFDC7374+20]\n",
      "\tRtlUserThreadStart [0x00007FFE006DCC91+33]\n",
      "\n",
      "Scraping 2022-23 Varsity → https://www.metroleaguewa.org/sport/?leagueid=8&sportid=9&school_year=2022-23&level_id=12#schedule\n",
      "Standings error for 2022-23: Message: element click intercepted: Element is not clickable at point (574, 935)\n",
      "  (Session info: chrome=134.0.6998.89)\n",
      "Stacktrace:\n",
      "\tGetHandleVerifier [0x00007FF744024C25+3179557]\n",
      "\t(No symbol) [0x00007FF743C888A0]\n",
      "\t(No symbol) [0x00007FF743B191CA]\n",
      "\t(No symbol) [0x00007FF743B77929]\n",
      "\t(No symbol) [0x00007FF743B752E2]\n",
      "\t(No symbol) [0x00007FF743B72381]\n",
      "\t(No symbol) [0x00007FF743B71281]\n",
      "\t(No symbol) [0x00007FF743B62A24]\n",
      "\t(No symbol) [0x00007FF743B97C2A]\n",
      "\t(No symbol) [0x00007FF743B622D6]\n",
      "\t(No symbol) [0x00007FF743B97E40]\n",
      "\t(No symbol) [0x00007FF743BC02F3]\n",
      "\t(No symbol) [0x00007FF743B97A03]\n",
      "\t(No symbol) [0x00007FF743B606D0]\n",
      "\t(No symbol) [0x00007FF743B61983]\n",
      "\tGetHandleVerifier [0x00007FF7440867CD+3579853]\n",
      "\tGetHandleVerifier [0x00007FF74409D1D2+3672530]\n",
      "\tGetHandleVerifier [0x00007FF744092153+3627347]\n",
      "\tGetHandleVerifier [0x00007FF743DF092A+868650]\n",
      "\t(No symbol) [0x00007FF743C92FFF]\n",
      "\t(No symbol) [0x00007FF743C8F4A4]\n",
      "\t(No symbol) [0x00007FF743C8F646]\n",
      "\t(No symbol) [0x00007FF743C7EAA9]\n",
      "\tBaseThreadInitThunk [0x00007FFDFFDC7374+20]\n",
      "\tRtlUserThreadStart [0x00007FFE006DCC91+33]\n",
      "\n",
      "Scraping 2021-22 Varsity → https://www.metroleaguewa.org/sport/?leagueid=8&sportid=9&school_year=2021-22&level_id=12#schedule\n",
      "Standings error for 2021-22: Message: element click intercepted: Element is not clickable at point (574, 935)\n",
      "  (Session info: chrome=134.0.6998.89)\n",
      "Stacktrace:\n",
      "\tGetHandleVerifier [0x00007FF744024C25+3179557]\n",
      "\t(No symbol) [0x00007FF743C888A0]\n",
      "\t(No symbol) [0x00007FF743B191CA]\n",
      "\t(No symbol) [0x00007FF743B77929]\n",
      "\t(No symbol) [0x00007FF743B752E2]\n",
      "\t(No symbol) [0x00007FF743B72381]\n",
      "\t(No symbol) [0x00007FF743B71281]\n",
      "\t(No symbol) [0x00007FF743B62A24]\n",
      "\t(No symbol) [0x00007FF743B97C2A]\n",
      "\t(No symbol) [0x00007FF743B622D6]\n",
      "\t(No symbol) [0x00007FF743B97E40]\n",
      "\t(No symbol) [0x00007FF743BC02F3]\n",
      "\t(No symbol) [0x00007FF743B97A03]\n",
      "\t(No symbol) [0x00007FF743B606D0]\n",
      "\t(No symbol) [0x00007FF743B61983]\n",
      "\tGetHandleVerifier [0x00007FF7440867CD+3579853]\n",
      "\tGetHandleVerifier [0x00007FF74409D1D2+3672530]\n",
      "\tGetHandleVerifier [0x00007FF744092153+3627347]\n",
      "\tGetHandleVerifier [0x00007FF743DF092A+868650]\n",
      "\t(No symbol) [0x00007FF743C92FFF]\n",
      "\t(No symbol) [0x00007FF743C8F4A4]\n",
      "\t(No symbol) [0x00007FF743C8F646]\n",
      "\t(No symbol) [0x00007FF743C7EAA9]\n",
      "\tBaseThreadInitThunk [0x00007FFDFFDC7374+20]\n",
      "\tRtlUserThreadStart [0x00007FFE006DCC91+33]\n",
      "\n",
      "Scraping 2020-21 Varsity → https://www.metroleaguewa.org/sport/?leagueid=8&sportid=9&school_year=2020-21&level_id=12#schedule\n",
      "Standings error for 2020-21: Message: element click intercepted: Element is not clickable at point (574, 935)\n",
      "  (Session info: chrome=134.0.6998.89)\n",
      "Stacktrace:\n",
      "\tGetHandleVerifier [0x00007FF744024C25+3179557]\n",
      "\t(No symbol) [0x00007FF743C888A0]\n",
      "\t(No symbol) [0x00007FF743B191CA]\n",
      "\t(No symbol) [0x00007FF743B77929]\n",
      "\t(No symbol) [0x00007FF743B752E2]\n",
      "\t(No symbol) [0x00007FF743B72381]\n",
      "\t(No symbol) [0x00007FF743B71281]\n",
      "\t(No symbol) [0x00007FF743B62A24]\n",
      "\t(No symbol) [0x00007FF743B97C2A]\n",
      "\t(No symbol) [0x00007FF743B622D6]\n",
      "\t(No symbol) [0x00007FF743B97E40]\n",
      "\t(No symbol) [0x00007FF743BC02F3]\n",
      "\t(No symbol) [0x00007FF743B97A03]\n",
      "\t(No symbol) [0x00007FF743B606D0]\n",
      "\t(No symbol) [0x00007FF743B61983]\n",
      "\tGetHandleVerifier [0x00007FF7440867CD+3579853]\n",
      "\tGetHandleVerifier [0x00007FF74409D1D2+3672530]\n",
      "\tGetHandleVerifier [0x00007FF744092153+3627347]\n",
      "\tGetHandleVerifier [0x00007FF743DF092A+868650]\n",
      "\t(No symbol) [0x00007FF743C92FFF]\n",
      "\t(No symbol) [0x00007FF743C8F4A4]\n",
      "\t(No symbol) [0x00007FF743C8F646]\n",
      "\t(No symbol) [0x00007FF743C7EAA9]\n",
      "\tBaseThreadInitThunk [0x00007FFDFFDC7374+20]\n",
      "\tRtlUserThreadStart [0x00007FFE006DCC91+33]\n",
      "\n",
      "Scraping 2019-20 Varsity → https://www.metroleaguewa.org/sport/?leagueid=8&sportid=9&school_year=2019-20&level_id=12#schedule\n",
      "Standings error for 2019-20: Message: \n",
      "Stacktrace:\n",
      "\tGetHandleVerifier [0x00007FF744024C25+3179557]\n",
      "\t(No symbol) [0x00007FF743C888A0]\n",
      "\t(No symbol) [0x00007FF743B191CA]\n",
      "\t(No symbol) [0x00007FF743B6FA67]\n",
      "\t(No symbol) [0x00007FF743B6FC9C]\n",
      "\t(No symbol) [0x00007FF743BC3627]\n",
      "\t(No symbol) [0x00007FF743B97C6F]\n",
      "\t(No symbol) [0x00007FF743BC02F3]\n",
      "\t(No symbol) [0x00007FF743B97A03]\n",
      "\t(No symbol) [0x00007FF743B606D0]\n",
      "\t(No symbol) [0x00007FF743B61983]\n",
      "\tGetHandleVerifier [0x00007FF7440867CD+3579853]\n",
      "\tGetHandleVerifier [0x00007FF74409D1D2+3672530]\n",
      "\tGetHandleVerifier [0x00007FF744092153+3627347]\n",
      "\tGetHandleVerifier [0x00007FF743DF092A+868650]\n",
      "\t(No symbol) [0x00007FF743C92FFF]\n",
      "\t(No symbol) [0x00007FF743C8F4A4]\n",
      "\t(No symbol) [0x00007FF743C8F646]\n",
      "\t(No symbol) [0x00007FF743C7EAA9]\n",
      "\tBaseThreadInitThunk [0x00007FFDFFDC7374+20]\n",
      "\tRtlUserThreadStart [0x00007FFE006DCC91+33]\n",
      "\n",
      "Scraping 2018-19 Varsity → https://www.metroleaguewa.org/sport/?leagueid=8&sportid=9&school_year=2018-19&level_id=12#schedule\n",
      "Standings error for 2018-19: Message: element click intercepted: Element is not clickable at point (574, 905)\n",
      "  (Session info: chrome=134.0.6998.89)\n",
      "Stacktrace:\n",
      "\tGetHandleVerifier [0x00007FF744024C25+3179557]\n",
      "\t(No symbol) [0x00007FF743C888A0]\n",
      "\t(No symbol) [0x00007FF743B191CA]\n",
      "\t(No symbol) [0x00007FF743B77929]\n",
      "\t(No symbol) [0x00007FF743B752E2]\n",
      "\t(No symbol) [0x00007FF743B72381]\n",
      "\t(No symbol) [0x00007FF743B71281]\n",
      "\t(No symbol) [0x00007FF743B62A24]\n",
      "\t(No symbol) [0x00007FF743B97C2A]\n",
      "\t(No symbol) [0x00007FF743B622D6]\n",
      "\t(No symbol) [0x00007FF743B97E40]\n",
      "\t(No symbol) [0x00007FF743BC02F3]\n",
      "\t(No symbol) [0x00007FF743B97A03]\n",
      "\t(No symbol) [0x00007FF743B606D0]\n",
      "\t(No symbol) [0x00007FF743B61983]\n",
      "\tGetHandleVerifier [0x00007FF7440867CD+3579853]\n",
      "\tGetHandleVerifier [0x00007FF74409D1D2+3672530]\n",
      "\tGetHandleVerifier [0x00007FF744092153+3627347]\n",
      "\tGetHandleVerifier [0x00007FF743DF092A+868650]\n",
      "\t(No symbol) [0x00007FF743C92FFF]\n",
      "\t(No symbol) [0x00007FF743C8F4A4]\n",
      "\t(No symbol) [0x00007FF743C8F646]\n",
      "\t(No symbol) [0x00007FF743C7EAA9]\n",
      "\tBaseThreadInitThunk [0x00007FFDFFDC7374+20]\n",
      "\tRtlUserThreadStart [0x00007FFE006DCC91+33]\n",
      "\n",
      "Scraping 2017-18 Varsity → https://www.metroleaguewa.org/sport/?leagueid=8&sportid=9&school_year=2017-18&level_id=12#schedule\n",
      "Standings error for 2017-18: Message: element click intercepted: Element is not clickable at point (574, 905)\n",
      "  (Session info: chrome=134.0.6998.89)\n",
      "Stacktrace:\n",
      "\tGetHandleVerifier [0x00007FF744024C25+3179557]\n",
      "\t(No symbol) [0x00007FF743C888A0]\n",
      "\t(No symbol) [0x00007FF743B191CA]\n",
      "\t(No symbol) [0x00007FF743B77929]\n",
      "\t(No symbol) [0x00007FF743B752E2]\n",
      "\t(No symbol) [0x00007FF743B72381]\n",
      "\t(No symbol) [0x00007FF743B71281]\n",
      "\t(No symbol) [0x00007FF743B62A24]\n",
      "\t(No symbol) [0x00007FF743B97C2A]\n",
      "\t(No symbol) [0x00007FF743B622D6]\n",
      "\t(No symbol) [0x00007FF743B97E40]\n",
      "\t(No symbol) [0x00007FF743BC02F3]\n",
      "\t(No symbol) [0x00007FF743B97A03]\n",
      "\t(No symbol) [0x00007FF743B606D0]\n",
      "\t(No symbol) [0x00007FF743B61983]\n",
      "\tGetHandleVerifier [0x00007FF7440867CD+3579853]\n",
      "\tGetHandleVerifier [0x00007FF74409D1D2+3672530]\n",
      "\tGetHandleVerifier [0x00007FF744092153+3627347]\n",
      "\tGetHandleVerifier [0x00007FF743DF092A+868650]\n",
      "\t(No symbol) [0x00007FF743C92FFF]\n",
      "\t(No symbol) [0x00007FF743C8F4A4]\n",
      "\t(No symbol) [0x00007FF743C8F646]\n",
      "\t(No symbol) [0x00007FF743C7EAA9]\n",
      "\tBaseThreadInitThunk [0x00007FFDFFDC7374+20]\n",
      "\tRtlUserThreadStart [0x00007FFE006DCC91+33]\n",
      "\n",
      "Scraping 2016-17 Varsity → https://www.metroleaguewa.org/sport/?leagueid=8&sportid=9&school_year=2016-17&level_id=12#schedule\n",
      "Standings error for 2016-17: Message: element click intercepted: Element is not clickable at point (574, 905)\n",
      "  (Session info: chrome=134.0.6998.89)\n",
      "Stacktrace:\n",
      "\tGetHandleVerifier [0x00007FF744024C25+3179557]\n",
      "\t(No symbol) [0x00007FF743C888A0]\n",
      "\t(No symbol) [0x00007FF743B191CA]\n",
      "\t(No symbol) [0x00007FF743B77929]\n",
      "\t(No symbol) [0x00007FF743B752E2]\n",
      "\t(No symbol) [0x00007FF743B72381]\n",
      "\t(No symbol) [0x00007FF743B71281]\n",
      "\t(No symbol) [0x00007FF743B62A24]\n",
      "\t(No symbol) [0x00007FF743B97C2A]\n",
      "\t(No symbol) [0x00007FF743B622D6]\n",
      "\t(No symbol) [0x00007FF743B97E40]\n",
      "\t(No symbol) [0x00007FF743BC02F3]\n",
      "\t(No symbol) [0x00007FF743B97A03]\n",
      "\t(No symbol) [0x00007FF743B606D0]\n",
      "\t(No symbol) [0x00007FF743B61983]\n",
      "\tGetHandleVerifier [0x00007FF7440867CD+3579853]\n",
      "\tGetHandleVerifier [0x00007FF74409D1D2+3672530]\n",
      "\tGetHandleVerifier [0x00007FF744092153+3627347]\n",
      "\tGetHandleVerifier [0x00007FF743DF092A+868650]\n",
      "\t(No symbol) [0x00007FF743C92FFF]\n",
      "\t(No symbol) [0x00007FF743C8F4A4]\n",
      "\t(No symbol) [0x00007FF743C8F646]\n",
      "\t(No symbol) [0x00007FF743C7EAA9]\n",
      "\tBaseThreadInitThunk [0x00007FFDFFDC7374+20]\n",
      "\tRtlUserThreadStart [0x00007FFE006DCC91+33]\n",
      "\n"
     ]
    }
   ],
   "source": [
    "for year, value in valid_seasons:\n",
    "    link = f\"https://www.metroleaguewa.org/sport/{value}\"\n",
    "    print(f\"Scraping {year} Varsity → {link}\")\n",
    "    driver.get(link)\n",
    "    time.sleep(3)\n",
    "\n",
    "    # Set date range to Full Season\n",
    "    try:\n",
    "        WebDriverWait(driver, 10).until(EC.presence_of_element_located((By.ID, \"filter_date_range_kword\")))\n",
    "        dropdown = driver.find_element(By.ID, \"filter_date_range_kword\")\n",
    "        driver.execute_script(\n",
    "            \"arguments[0].value='season'; arguments[0].dispatchEvent(new Event('change'));\", dropdown\n",
    "        )\n",
    "        time.sleep(3)\n",
    "    except Exception as e:\n",
    "        print(f\"Failed to set Full Season filter: {e}\")\n",
    "\n",
    "    # Scrape match data\n",
    "    try:\n",
    "        WebDriverWait(driver, 10).until(EC.presence_of_element_located((By.CLASS_NAME, \"schedule_date_contents\")))\n",
    "        event_rows = driver.find_elements(By.CSS_SELECTOR, \".event_row\")\n",
    "        for row in event_rows:\n",
    "            try:\n",
    "                # Safely check game type\n",
    "                try:\n",
    "                    game_type = row.find_element(By.CLASS_NAME, \"game_type\").text.strip()\n",
    "                except:\n",
    "                    game_type = \"\"\n",
    "\n",
    "                # Skip only scrimmage/jamboree\n",
    "                if game_type in [\"Scrimmage\", \"Jamboree\"]:\n",
    "                    continue\n",
    "\n",
    "                date = row.find_element(By.CLASS_NAME, \"event_time\").text.strip()\n",
    "                away_team = row.find_element(By.CSS_SELECTOR, \".event_team .event_team_name\").text.strip()\n",
    "                away_score = row.find_element(By.CSS_SELECTOR, \".event_team .event_team_score\").text.strip()\n",
    "                home_team = row.find_element(By.CSS_SELECTOR, \".event_team_home .event_team_name\").text.strip()\n",
    "                home_score = row.find_element(By.CSS_SELECTOR, \".event_team_home .event_team_score\").text.strip()\n",
    "\n",
    "                match_data = {\n",
    "                    \"Season\": year,\n",
    "                    \"Date\": date,\n",
    "                    \"Home Team\": home_team,\n",
    "                    \"Away Team\": away_team,\n",
    "                    \"Home Score\": home_score,\n",
    "                    \"Away Score\": away_score,\n",
    "                    \"Game Type\": game_type,\n",
    "                    \"Home Classification\": team_class.get(home_team, \"Unknown\"),\n",
    "                    \"Away Classification\": team_class.get(away_team, \"Unknown\"),\n",
    "                }\n",
    "                all_matches.append(match_data)\n",
    "            except Exception as e:\n",
    "                print(f\"Failed to parse match row: {e}\")\n",
    "    except Exception as e:\n",
    "        print(f\"Match load error for {year}: {e}\")\n",
    "\n",
    "    # Scrape standings for classification\n",
    "    try:\n",
    "        standings_tab = WebDriverWait(driver, 10).until(EC.element_to_be_clickable((By.LINK_TEXT, \"Standings\")))\n",
    "        standings_tab.click()\n",
    "        time.sleep(2)\n",
    "\n",
    "        WebDriverWait(driver, 15).until(EC.presence_of_element_located((By.CSS_SELECTOR, \".standings-content table\")))\n",
    "\n",
    "        rows = driver.find_elements(By.CSS_SELECTOR, \".standings-content table tbody tr\")\n",
    "        for row in rows:\n",
    "            cols = row.find_elements(By.TAG_NAME, \"td\")\n",
    "            if len(cols) >= 8:\n",
    "                team_name = cols[0].text.strip()\n",
    "                classification = cols[-1].text.strip()\n",
    "\n",
    "                standings_data = {\n",
    "                    \"Season\": year,\n",
    "                    \"Team\": team_name,\n",
    "                    \"Classification\": classification,\n",
    "                    \"Wins\": cols[1].text,\n",
    "                    \"Losses\": cols[2].text,\n",
    "                    \"Ties\": cols[3].text,\n",
    "                    \"Win %\": cols[4].text,\n",
    "                    \"Points\": cols[5].text,\n",
    "                    \"Goals For\": cols[6].text,\n",
    "                    \"Goals Against\": cols[7].text if len(cols) > 7 else \"\",\n",
    "                }\n",
    "                all_standings.append(standings_data)\n",
    "                team_class[team_name] = classification\n",
    "    except Exception as e:\n",
    "        print(f\"Standings error for {year}: {e}\")\n",
    "\n",
    "driver.quit()\n",
    "\n",
    "# Save final outputs\n",
    "matches_df = pd.DataFrame(all_matches)\n",
    "standings_df = pd.DataFrame(all_standings)\n",
    "\n",
    "matches_df.to_csv(r\"C:\\Users\\User\\Desktop\\Soccer Footage\\metroleague_soccer_results_filtered.csv\", index=False)\n",
    "standings_df.to_csv(r\"C:\\Users\\User\\Desktop\\Soccer Footage\\metroleague_soccer_standings_with_class.csv\", index=False)"
   ]
  },
  {
   "cell_type": "code",
   "execution_count": 329,
   "metadata": {},
   "outputs": [],
   "source": [
    "# -------------------------------\n",
    "# Define normalization mappings\n",
    "# -------------------------------\n",
    "TEAM_NAME_CORRECTIONS = {\n",
    "    \"Lakeside\": \"Lakeside (Seattle)\",\n",
    "    \"Lakeside (Sea)\": \"Lakeside (Seattle)\",\n",
    "    \"Seattle Prep.\": \"Seattle Prep\",\n",
    "    # Add more corrections here as needed\n",
    "}\n",
    "\n",
    "def normalize_team_name(name):\n",
    "    return TEAM_NAME_CORRECTIONS.get(name, name)\n",
    "\n",
    "# -------------------------------\n",
    "# Load and normalize match results\n",
    "# -------------------------------\n",
    "matches_df = pd.read_csv(r\"C:\\Users\\User\\Desktop\\Soccer Footage\\metroleague_soccer_results_filtered.csv\")\n",
    "\n",
    "# Apply normalization to Home and Away Teams\n",
    "matches_df[\"Home Team\"] = matches_df[\"Home Team\"].apply(normalize_team_name)\n",
    "matches_df[\"Away Team\"] = matches_df[\"Away Team\"].apply(normalize_team_name)\n",
    "\n",
    "# -------------------------------\n",
    "# Load and normalize classification\n",
    "# -------------------------------\n",
    "class_df = pd.read_csv(r\"C:\\Users\\User\\Desktop\\Soccer Footage\\school_classification_by_season.csv\")\n",
    "\n",
    "# Normalize classification data too\n",
    "class_df[\"School\"] = class_df[\"School\"].apply(normalize_team_name)\n",
    "\n",
    "# -------------------------------\n",
    "# Merge classification into matches\n",
    "# -------------------------------\n",
    "matches_df = matches_df.merge(\n",
    "    class_df, left_on=[\"Season\", \"Home Team\"], right_on=[\"Season\", \"School\"], how=\"left\"\n",
    ").rename(columns={\"Classification\": \"Home Classification\"}).drop(columns=[\"School\"])\n",
    "\n",
    "matches_df = matches_df.merge(\n",
    "    class_df, left_on=[\"Season\", \"Away Team\"], right_on=[\"Season\", \"School\"], how=\"left\"\n",
    ").rename(columns={\"Classification\": \"Away Classification\"}).drop(columns=[\"School\"])\n",
    "\n",
    "# -------------------------------\n",
    "# Clean & Filter Match Data\n",
    "# -------------------------------\n",
    "matches_df[\"Home Score\"] = pd.to_numeric(matches_df[\"Home Score\"], errors=\"coerce\")\n",
    "matches_df[\"Away Score\"] = pd.to_numeric(matches_df[\"Away Score\"], errors=\"coerce\")\n",
    "\n",
    "# Drop rows with missing scores\n",
    "matches_df = matches_df.dropna(subset=[\"Home Score\", \"Away Score\"])\n",
    "\n",
    "# Optional: sort for ELO processing\n",
    "matches_df = matches_df.sort_values(by=[\"Season\", \"Date\"]).reset_index(drop=True)\n"
   ]
  },
  {
   "cell_type": "code",
   "execution_count": 330,
   "metadata": {},
   "outputs": [],
   "source": [
    "# -------------------------------\n",
    "# Calculate Standings\n",
    "# -------------------------------\n",
    "def calculate_standings(df):\n",
    "    records = []\n",
    "    for _, row in df.iterrows():\n",
    "        hs = int(row[\"Home Score\"])\n",
    "        as_ = int(row[\"Away Score\"])\n",
    "        season = row[\"Season\"]\n",
    "        home = row[\"Home Team\"]\n",
    "        away = row[\"Away Team\"]\n",
    "\n",
    "        if hs > as_:\n",
    "            home_result, away_result = \"W\", \"L\"\n",
    "        elif hs < as_:\n",
    "            home_result, away_result = \"L\", \"W\"\n",
    "        else:\n",
    "            home_result = away_result = \"T\"\n",
    "\n",
    "        records.extend([\n",
    "            {\"Season\": season, \"Team\": home, \"Result\": home_result, \"GF\": hs, \"GA\": as_},\n",
    "            {\"Season\": season, \"Team\": away, \"Result\": away_result, \"GF\": as_, \"GA\": hs}\n",
    "        ])\n",
    "\n",
    "    df = pd.DataFrame(records)\n",
    "    standings = df.groupby([\"Season\", \"Team\"]).agg(\n",
    "        Wins=(\"Result\", lambda x: (x == \"W\").sum()),\n",
    "        Losses=(\"Result\", lambda x: (x == \"L\").sum()),\n",
    "        Ties=(\"Result\", lambda x: (x == \"T\").sum()),\n",
    "        Goals_For=(\"GF\", \"sum\"),\n",
    "        Goals_Against=(\"GA\", \"sum\")\n",
    "    ).reset_index()\n",
    "    standings[\"Points\"] = 3 * standings[\"Wins\"] + 1 * standings[\"Ties\"]\n",
    "    standings[\"Games\"] = standings[\"Wins\"] + standings[\"Losses\"] + standings[\"Ties\"]\n",
    "    standings[\"Win %\"] = (standings[\"Wins\"] + 0.5 * standings[\"Ties\"]) / standings[\"Games\"]\n",
    "    return standings\n",
    "\n",
    "standings_df = calculate_standings(matches_df)"
   ]
  },
  {
   "cell_type": "code",
   "execution_count": 338,
   "metadata": {},
   "outputs": [],
   "source": [
    "# -------------------------------\n",
    "# Filter teams with minimum games played\n",
    "# -------------------------------\n",
    "home_games = matches_df.groupby([\"Season\", \"Home Team\"]).size().reset_index(name=\"Home Games\")\n",
    "away_games = matches_df.groupby([\"Season\", \"Away Team\"]).size().reset_index(name=\"Away Games\")\n",
    "\n",
    "home_games.columns = [\"Season\", \"Team\", \"Home Games\"]\n",
    "away_games.columns = [\"Season\", \"Team\", \"Away Games\"]\n",
    "games_played = pd.merge(home_games, away_games, on=[\"Season\", \"Team\"], how=\"outer\").fillna(0)\n",
    "games_played[\"Total Games\"] = games_played[\"Home Games\"] + games_played[\"Away Games\"]\n",
    "\n",
    "# Keep only teams with sufficient games\n",
    "min_games = 3\n",
    "valid_teams = games_played[games_played[\"Total Games\"] >= min_games][[\"Season\", \"Team\"]]\n",
    "\n",
    "matches_df = matches_df.merge(valid_teams, left_on=[\"Season\", \"Home Team\"], right_on=[\"Season\", \"Team\"], how=\"inner\").drop(columns=[\"Team\"])\n",
    "matches_df = matches_df.merge(valid_teams, left_on=[\"Season\", \"Away Team\"], right_on=[\"Season\", \"Team\"], how=\"inner\").drop(columns=[\"Team\"])\n",
    "\n",
    "# -------------------------------\n",
    "# Run ELO Model\n",
    "# -------------------------------\n",
    "def run_elo(matches, base_elo=1500, k=40, hfa=100, cap_margin=3, upset_multiplier=1.5):\n",
    "    match_counts = defaultdict(int)\n",
    "    team_elos = defaultdict(lambda: base_elo)\n",
    "    elo_log = []\n",
    "\n",
    "    for _, row in matches.iterrows():\n",
    "        season = row[\"Season\"]\n",
    "        home = row[\"Home Team\"]\n",
    "        away = row[\"Away Team\"]\n",
    "        hs = int(row[\"Home Score\"])\n",
    "        as_ = int(row[\"Away Score\"])\n",
    "\n",
    "        # Match result\n",
    "        result_home = 1 if hs > as_ else 0 if hs < as_ else 0.5\n",
    "\n",
    "        # Current Elo ratings\n",
    "        home_elo = team_elos[home]\n",
    "        away_elo = team_elos[away]\n",
    "\n",
    "        # Expected result with home field adjustment\n",
    "        expected_home = 1 / (1 + 10 ** ((away_elo - (home_elo + hfa)) / 400))\n",
    "\n",
    "        # Margin of victory factor (capped)\n",
    "        margin = max(1, min(abs(hs - as_), cap_margin))\n",
    "\n",
    "        # Dynamic K adjustment:\n",
    "        # For draws, scale reward based on surprise of the result\n",
    "        if result_home == 0.5:\n",
    "            surprise_factor = abs(result_home - expected_home)\n",
    "            k_adjust = 0.5 + (upset_multiplier * surprise_factor)  # dynamic reward\n",
    "        else:\n",
    "            k_adjust = 1.0\n",
    "\n",
    "        # Final Elo change\n",
    "        change_home = k_adjust * k * margin * (result_home - expected_home)\n",
    "        change_away = -change_home\n",
    "\n",
    "        # Update ratings\n",
    "        team_elos[home] += change_home\n",
    "        team_elos[away] += change_away\n",
    "\n",
    "        # Track match count\n",
    "        match_counts[home] += 1\n",
    "        match_counts[away] += 1\n",
    "\n",
    "        # Logging\n",
    "        elo_log.append({\n",
    "            \"Home Match #\": match_counts[home],\n",
    "            \"Away Match #\": match_counts[away],\n",
    "            \"Home ELO Change\": change_home,\n",
    "            \"Away ELO Change\": change_away,\n",
    "            \"Season\": season,\n",
    "            \"Date\": row[\"Date\"],\n",
    "            \"Home Team\": home,\n",
    "            \"Away Team\": away,\n",
    "            \"Home Score\": hs,\n",
    "            \"Away Score\": as_,\n",
    "            \"Home Classification\": row.get(\"Home Classification\", \"Unknown\"),\n",
    "            \"Away Classification\": row.get(\"Away Classification\", \"Unknown\"),\n",
    "            \"Home ELO Before\": home_elo,\n",
    "            \"Away ELO Before\": away_elo,\n",
    "            \"Home ELO After\": team_elos[home],\n",
    "            \"Away ELO After\": team_elos[away]\n",
    "        })\n",
    "\n",
    "    return pd.DataFrame(elo_log), team_elos\n",
    "\n",
    "# Run ELO model\n",
    "elo_log_df, final_elos = run_elo(matches_df)\n"
   ]
  },
  {
   "cell_type": "code",
   "execution_count": 340,
   "metadata": {},
   "outputs": [
    {
     "name": "stdout",
     "output_type": "stream",
     "text": [
      "Scraping complete. Data saved to metroleague_soccer_results.csv and metroleague_soccer_standings.csv\n"
     ]
    }
   ],
   "source": [
    "matches_df.to_csv(r\"C:\\Users\\User\\Desktop\\Soccer Footage\\metroleague_soccer_results.csv\", index=False)\n",
    "standings_df.to_csv(r\"C:\\Users\\User\\Desktop\\Soccer Footage\\metroleague_standings_from_results.csv\", index=False)\n",
    "elo_log_df.to_csv(r\"C:\\Users\\User\\Desktop\\Soccer Footage\\metroleague_elo_log.csv\", index=False)\n",
    "print(\"Scraping complete. Data saved to metroleague_soccer_results.csv and metroleague_soccer_standings.csv\")\n"
   ]
  },
  {
   "cell_type": "code",
   "execution_count": 341,
   "metadata": {},
   "outputs": [
    {
     "name": "stdout",
     "output_type": "stream",
     "text": [
      "Scraping + ELO complete. Data saved to CSVs.\n"
     ]
    },
    {
     "name": "stderr",
     "output_type": "stream",
     "text": [
      "<ipython-input-341-b1ac94e30a01>:23: SettingWithCopyWarning:\n",
      "\n",
      "\n",
      "A value is trying to be set on a copy of a slice from a DataFrame.\n",
      "Try using .loc[row_indexer,col_indexer] = value instead\n",
      "\n",
      "See the caveats in the documentation: https://pandas.pydata.org/pandas-docs/stable/user_guide/indexing.html#returning-a-view-versus-a-copy\n",
      "\n"
     ]
    }
   ],
   "source": [
    "# Generate long-format ELO for plotting\n",
    "home = elo_log_df[[\"Season\", \"Home Team\", \"Home Match #\", \"Home ELO After\"]].rename(\n",
    "    columns={\"Home Team\": \"Team\", \"Home Match #\": \"Match #\", \"Home ELO After\": \"ELO\"}\n",
    ")\n",
    "away = elo_log_df[[\"Season\", \"Away Team\", \"Away Match #\", \"Away ELO After\"]].rename(\n",
    "    columns={\"Away Team\": \"Team\", \"Away Match #\": \"Match #\", \"Away ELO After\": \"ELO\"}\n",
    ")\n",
    "elo_long = pd.concat([home, away], ignore_index=True)\n",
    "\n",
    "# Remove teams with < 1 games in a season\n",
    "game_counts = elo_long.groupby([\"Season\", \"Team\"]).size().reset_index(name=\"Games\")\n",
    "valid_teams = game_counts[game_counts[\"Games\"] >= 1][[\"Season\", \"Team\"]]\n",
    "elo_long_filtered = elo_long.merge(valid_teams, on=[\"Season\", \"Team\"])\n",
    "\n",
    "\n",
    "# Remove teams with fewer than 10 total games across all seasons\n",
    "total_game_counts = elo_long_filtered.groupby(\"Team\")[\"Match #\"].count().reset_index()\n",
    "total_game_counts.columns = [\"Team\", \"Total Games\"]\n",
    "valid_teams = total_game_counts[total_game_counts[\"Total Games\"] >= 10][\"Team\"]\n",
    "elo_long_cleaned = elo_long_filtered[elo_long_filtered[\"Team\"].isin(valid_teams)]\n",
    "\n",
    "# Add Match # within each season for each team\n",
    "elo_long_cleaned[\"Season Match #\"] = elo_long_cleaned.groupby([\"Season\", \"Team\"]).cumcount() + 1\n",
    "\n",
    "elo_long_cleaned.to_csv(r\"C:\\Users\\User\\Desktop\\Soccer Footage\\metroleague_elo_long.csv\", index=False)\n",
    "\n",
    "print(\"Scraping + ELO complete. Data saved to CSVs.\")"
   ]
  },
  {
   "cell_type": "code",
   "execution_count": 342,
   "metadata": {},
   "outputs": [
    {
     "data": {
      "application/vnd.plotly.v1+json": {
       "config": {
        "plotlyServerURL": "https://plot.ly"
       },
       "data": [
        {
         "customdata": [
          [
           "Bainbridge",
           "2016-17",
           1
          ],
          [
           "Bainbridge",
           "2016-17",
           2
          ],
          [
           "Bainbridge",
           "2016-17",
           3
          ],
          [
           "Bainbridge",
           "2016-17",
           4
          ],
          [
           "Bainbridge",
           "2016-17",
           5
          ],
          [
           "Bainbridge",
           "2016-17",
           6
          ],
          [
           "Bainbridge",
           "2016-17",
           7
          ],
          [
           "Bainbridge",
           "2016-17",
           8
          ],
          [
           "Bainbridge",
           "2016-17",
           9
          ],
          [
           "Bainbridge",
           "2016-17",
           10
          ],
          [
           "Bainbridge",
           "2016-17",
           11
          ],
          [
           "Bainbridge",
           "2016-17",
           12
          ],
          [
           "Bainbridge",
           "2016-17",
           13
          ],
          [
           "Bainbridge",
           "2016-17",
           14
          ],
          [
           "Bainbridge",
           "2016-17",
           15
          ],
          [
           "Bainbridge",
           "2016-17",
           16
          ],
          [
           "Bainbridge",
           "2016-17",
           17
          ],
          [
           "Bainbridge",
           "2016-17",
           18
          ],
          [
           "Bainbridge",
           "2017-18",
           1
          ],
          [
           "Bainbridge",
           "2017-18",
           2
          ],
          [
           "Bainbridge",
           "2017-18",
           3
          ],
          [
           "Bainbridge",
           "2017-18",
           4
          ],
          [
           "Bainbridge",
           "2017-18",
           5
          ],
          [
           "Bainbridge",
           "2017-18",
           6
          ],
          [
           "Bainbridge",
           "2017-18",
           7
          ],
          [
           "Bainbridge",
           "2017-18",
           8
          ],
          [
           "Bainbridge",
           "2017-18",
           9
          ],
          [
           "Bainbridge",
           "2017-18",
           10
          ],
          [
           "Bainbridge",
           "2017-18",
           11
          ],
          [
           "Bainbridge",
           "2017-18",
           12
          ],
          [
           "Bainbridge",
           "2017-18",
           13
          ],
          [
           "Bainbridge",
           "2017-18",
           14
          ],
          [
           "Bainbridge",
           "2017-18",
           15
          ],
          [
           "Bainbridge",
           "2017-18",
           16
          ],
          [
           "Bainbridge",
           "2018-19",
           1
          ],
          [
           "Bainbridge",
           "2018-19",
           2
          ],
          [
           "Bainbridge",
           "2018-19",
           3
          ],
          [
           "Bainbridge",
           "2018-19",
           4
          ],
          [
           "Bainbridge",
           "2018-19",
           5
          ],
          [
           "Bainbridge",
           "2018-19",
           6
          ],
          [
           "Bainbridge",
           "2018-19",
           7
          ],
          [
           "Bainbridge",
           "2018-19",
           8
          ],
          [
           "Bainbridge",
           "2018-19",
           9
          ],
          [
           "Bainbridge",
           "2018-19",
           10
          ],
          [
           "Bainbridge",
           "2018-19",
           11
          ],
          [
           "Bainbridge",
           "2018-19",
           12
          ],
          [
           "Bainbridge",
           "2018-19",
           13
          ],
          [
           "Bainbridge",
           "2018-19",
           14
          ],
          [
           "Bainbridge",
           "2018-19",
           15
          ]
         ],
         "hovertemplate": "Team=%{customdata[0]}<br>Total Matches Played=%{x}<br>ELO Rating=%{y}<br>Season=%{customdata[1]}<br>Season Match #=%{customdata[2]}<extra></extra>",
         "legendgroup": "Bainbridge",
         "line": {
          "color": "#636efa",
          "dash": "solid"
         },
         "marker": {
          "symbol": "circle"
         },
         "mode": "lines",
         "name": "Bainbridge",
         "showlegend": true,
         "type": "scattergl",
         "x": [
          1,
          2,
          3,
          4,
          5,
          6,
          7,
          8,
          9,
          10,
          11,
          12,
          13,
          14,
          15,
          16,
          17,
          18,
          19,
          20,
          21,
          22,
          23,
          24,
          25,
          26,
          27,
          28,
          29,
          30,
          31,
          32,
          33,
          34,
          35,
          36,
          37,
          38,
          39,
          40,
          41,
          42,
          43,
          44,
          45,
          46,
          47,
          48,
          49
         ],
         "xaxis": "x",
         "y": [
          1516.588218989289,
          1549.343030356045,
          1715.223386461679,
          1686.04463258998,
          1656.3427508557047,
          1664.1014125868403,
          1652.3853220021936,
          1652.9393254666134,
          1658.5134908511743,
          1619.5285352568503,
          1599.4080340016037,
          1641.7785072049833,
          1671.898097127798,
          1700.7303015490872,
          1730.4756849556904,
          1744.241886293459,
          1721.975527275686,
          1692.3807773251835,
          1665.981041976426,
          1666.776027836352,
          1667.5638182448797,
          1620.4700253248411,
          1561.593988893915,
          1523.0170036604052,
          1510.1230075533083,
          1482.5493052585766,
          1501.8740244207163,
          1477.0667624550767,
          1445.594273435929,
          1468.630688110787,
          1441.4265485787805,
          1507.947548178944,
          1482.2911074320082,
          1479.188069175712,
          1447.6456955264282,
          1433.7510830012084,
          1396.3431908406828,
          1394.0978733473971,
          1369.6435636809945,
          1402.640322771215,
          1426.2874992054467,
          1425.9475846394405,
          1431.747605717551,
          1435.5644109056914,
          1455.8217791714967,
          1477.3400362664188,
          1467.8342184455244,
          1473.8970183212136,
          1487.2133623614034
         ],
         "yaxis": "y"
        },
        {
         "customdata": [
          [
           "Ballard",
           "2016-17",
           1
          ],
          [
           "Ballard",
           "2016-17",
           2
          ],
          [
           "Ballard",
           "2016-17",
           3
          ],
          [
           "Ballard",
           "2016-17",
           4
          ],
          [
           "Ballard",
           "2016-17",
           5
          ],
          [
           "Ballard",
           "2016-17",
           6
          ],
          [
           "Ballard",
           "2016-17",
           7
          ],
          [
           "Ballard",
           "2016-17",
           8
          ],
          [
           "Ballard",
           "2016-17",
           9
          ],
          [
           "Ballard",
           "2016-17",
           10
          ],
          [
           "Ballard",
           "2016-17",
           11
          ],
          [
           "Ballard",
           "2016-17",
           12
          ],
          [
           "Ballard",
           "2016-17",
           13
          ],
          [
           "Ballard",
           "2016-17",
           14
          ],
          [
           "Ballard",
           "2016-17",
           15
          ],
          [
           "Ballard",
           "2016-17",
           16
          ],
          [
           "Ballard",
           "2016-17",
           17
          ],
          [
           "Ballard",
           "2016-17",
           18
          ],
          [
           "Ballard",
           "2016-17",
           19
          ],
          [
           "Ballard",
           "2017-18",
           1
          ],
          [
           "Ballard",
           "2017-18",
           2
          ],
          [
           "Ballard",
           "2017-18",
           3
          ],
          [
           "Ballard",
           "2017-18",
           4
          ],
          [
           "Ballard",
           "2017-18",
           5
          ],
          [
           "Ballard",
           "2017-18",
           6
          ],
          [
           "Ballard",
           "2017-18",
           7
          ],
          [
           "Ballard",
           "2017-18",
           8
          ],
          [
           "Ballard",
           "2017-18",
           9
          ],
          [
           "Ballard",
           "2017-18",
           10
          ],
          [
           "Ballard",
           "2017-18",
           11
          ],
          [
           "Ballard",
           "2017-18",
           12
          ],
          [
           "Ballard",
           "2017-18",
           13
          ],
          [
           "Ballard",
           "2017-18",
           14
          ],
          [
           "Ballard",
           "2017-18",
           15
          ],
          [
           "Ballard",
           "2017-18",
           16
          ],
          [
           "Ballard",
           "2017-18",
           17
          ],
          [
           "Ballard",
           "2017-18",
           18
          ],
          [
           "Ballard",
           "2018-19",
           1
          ],
          [
           "Ballard",
           "2018-19",
           2
          ],
          [
           "Ballard",
           "2018-19",
           3
          ],
          [
           "Ballard",
           "2018-19",
           4
          ],
          [
           "Ballard",
           "2018-19",
           5
          ],
          [
           "Ballard",
           "2018-19",
           6
          ],
          [
           "Ballard",
           "2018-19",
           7
          ],
          [
           "Ballard",
           "2018-19",
           8
          ],
          [
           "Ballard",
           "2018-19",
           9
          ],
          [
           "Ballard",
           "2018-19",
           10
          ],
          [
           "Ballard",
           "2018-19",
           11
          ],
          [
           "Ballard",
           "2018-19",
           12
          ],
          [
           "Ballard",
           "2018-19",
           13
          ],
          [
           "Ballard",
           "2018-19",
           14
          ],
          [
           "Ballard",
           "2018-19",
           15
          ],
          [
           "Ballard",
           "2018-19",
           16
          ],
          [
           "Ballard",
           "2018-19",
           17
          ],
          [
           "Ballard",
           "2018-19",
           18
          ],
          [
           "Ballard",
           "2020-21",
           1
          ],
          [
           "Ballard",
           "2020-21",
           2
          ],
          [
           "Ballard",
           "2020-21",
           3
          ],
          [
           "Ballard",
           "2020-21",
           4
          ],
          [
           "Ballard",
           "2020-21",
           5
          ],
          [
           "Ballard",
           "2020-21",
           6
          ],
          [
           "Ballard",
           "2020-21",
           7
          ],
          [
           "Ballard",
           "2021-22",
           1
          ],
          [
           "Ballard",
           "2021-22",
           2
          ],
          [
           "Ballard",
           "2021-22",
           3
          ],
          [
           "Ballard",
           "2021-22",
           4
          ],
          [
           "Ballard",
           "2021-22",
           5
          ],
          [
           "Ballard",
           "2021-22",
           6
          ],
          [
           "Ballard",
           "2021-22",
           7
          ],
          [
           "Ballard",
           "2021-22",
           8
          ],
          [
           "Ballard",
           "2021-22",
           9
          ],
          [
           "Ballard",
           "2021-22",
           10
          ],
          [
           "Ballard",
           "2021-22",
           11
          ],
          [
           "Ballard",
           "2021-22",
           12
          ],
          [
           "Ballard",
           "2021-22",
           13
          ],
          [
           "Ballard",
           "2021-22",
           14
          ],
          [
           "Ballard",
           "2021-22",
           15
          ],
          [
           "Ballard",
           "2021-22",
           16
          ],
          [
           "Ballard",
           "2021-22",
           17
          ],
          [
           "Ballard",
           "2022-23",
           1
          ],
          [
           "Ballard",
           "2022-23",
           2
          ],
          [
           "Ballard",
           "2022-23",
           3
          ],
          [
           "Ballard",
           "2022-23",
           4
          ],
          [
           "Ballard",
           "2022-23",
           5
          ],
          [
           "Ballard",
           "2022-23",
           6
          ],
          [
           "Ballard",
           "2022-23",
           7
          ],
          [
           "Ballard",
           "2022-23",
           8
          ],
          [
           "Ballard",
           "2022-23",
           9
          ],
          [
           "Ballard",
           "2022-23",
           10
          ],
          [
           "Ballard",
           "2022-23",
           11
          ],
          [
           "Ballard",
           "2022-23",
           12
          ],
          [
           "Ballard",
           "2022-23",
           13
          ],
          [
           "Ballard",
           "2022-23",
           14
          ],
          [
           "Ballard",
           "2022-23",
           15
          ],
          [
           "Ballard",
           "2022-23",
           16
          ],
          [
           "Ballard",
           "2022-23",
           17
          ],
          [
           "Ballard",
           "2022-23",
           18
          ],
          [
           "Ballard",
           "2022-23",
           19
          ],
          [
           "Ballard",
           "2022-23",
           20
          ],
          [
           "Ballard",
           "2022-23",
           21
          ],
          [
           "Ballard",
           "2022-23",
           22
          ],
          [
           "Ballard",
           "2023-24",
           1
          ],
          [
           "Ballard",
           "2023-24",
           2
          ],
          [
           "Ballard",
           "2023-24",
           3
          ],
          [
           "Ballard",
           "2023-24",
           4
          ],
          [
           "Ballard",
           "2023-24",
           5
          ],
          [
           "Ballard",
           "2023-24",
           6
          ],
          [
           "Ballard",
           "2023-24",
           7
          ],
          [
           "Ballard",
           "2023-24",
           8
          ],
          [
           "Ballard",
           "2023-24",
           9
          ],
          [
           "Ballard",
           "2023-24",
           10
          ],
          [
           "Ballard",
           "2023-24",
           11
          ],
          [
           "Ballard",
           "2023-24",
           12
          ],
          [
           "Ballard",
           "2023-24",
           13
          ],
          [
           "Ballard",
           "2023-24",
           14
          ],
          [
           "Ballard",
           "2023-24",
           15
          ],
          [
           "Ballard",
           "2023-24",
           16
          ],
          [
           "Ballard",
           "2023-24",
           17
          ],
          [
           "Ballard",
           "2023-24",
           18
          ],
          [
           "Ballard",
           "2023-24",
           19
          ],
          [
           "Ballard",
           "2024-25",
           1
          ],
          [
           "Ballard",
           "2024-25",
           2
          ],
          [
           "Ballard",
           "2024-25",
           3
          ],
          [
           "Ballard",
           "2024-25",
           4
          ],
          [
           "Ballard",
           "2024-25",
           5
          ],
          [
           "Ballard",
           "2024-25",
           6
          ]
         ],
         "hovertemplate": "Team=%{customdata[0]}<br>Total Matches Played=%{x}<br>ELO Rating=%{y}<br>Season=%{customdata[1]}<br>Season Match #=%{customdata[2]}<extra></extra>",
         "legendgroup": "Ballard",
         "line": {
          "color": "#EF553B",
          "dash": "solid"
         },
         "marker": {
          "symbol": "circle"
         },
         "mode": "lines",
         "name": "Ballard",
         "showlegend": true,
         "type": "scattergl",
         "x": [
          1,
          2,
          3,
          4,
          5,
          6,
          7,
          8,
          9,
          10,
          11,
          12,
          13,
          14,
          15,
          16,
          17,
          18,
          19,
          20,
          21,
          22,
          23,
          24,
          25,
          26,
          27,
          28,
          29,
          30,
          31,
          32,
          33,
          34,
          35,
          36,
          37,
          38,
          39,
          40,
          41,
          42,
          43,
          44,
          45,
          46,
          47,
          48,
          49,
          50,
          51,
          52,
          53,
          54,
          55,
          56,
          57,
          58,
          59,
          60,
          61,
          62,
          63,
          64,
          65,
          66,
          67,
          68,
          69,
          70,
          71,
          72,
          73,
          74,
          75,
          76,
          77,
          78,
          79,
          80,
          81,
          82,
          83,
          84,
          85,
          86,
          87,
          88,
          89,
          90,
          91,
          92,
          93,
          94,
          95,
          96,
          97,
          98,
          99,
          100,
          101,
          102,
          103,
          104,
          105,
          106,
          107,
          108,
          109,
          110,
          111,
          112,
          113,
          114,
          115,
          116,
          117,
          118,
          119,
          120,
          121,
          122,
          123,
          124,
          125,
          126
         ],
         "xaxis": "x",
         "y": [
          1518.456859325249,
          1504.6906579874806,
          1481.8625340529786,
          1481.751230434932,
          1518.5542471532756,
          1770.322201936051,
          1734.944814351735,
          1735.9455691805567,
          1736.9349543867693,
          1499.3640362349029,
          1558.9985518009971,
          1596.0067974477183,
          1615.639870242024,
          1593.0161287058008,
          1651.4927932916037,
          1631.7540928841363,
          1677.50339989008,
          1707.9546652567317,
          1763.308689904754,
          1745.9223058852374,
          1752.6460488647667,
          1755.0227338661232,
          1759.9163004853003,
          1734.3691639174087,
          1745.8551376016387,
          1747.101740856725,
          1739.4081232538654,
          1742.893175282516,
          1674.8897739380157,
          1682.795374721392,
          1674.2292638443305,
          1666.308324862415,
          1662.9470887795503,
          1601.0962065231909,
          1601.9074248273212,
          1602.7112535751285,
          1596.8346545789882,
          1586.872366391179,
          1687.4083094610075,
          1694.8007869339697,
          1697.0317221515306,
          1653.1309991438409,
          1639.8146551036511,
          1640.3550007234012,
          1613.5093365089058,
          1607.8532780386174,
          1604.664760750892,
          1709.682806742509,
          1679.7818116503854,
          1703.34345932543,
          1720.7832354172906,
          1682.367555447856,
          1667.46781436091,
          1700.9574429062293,
          1696.591934906514,
          1655.9897232523513,
          1662.4257848547334,
          1572.0147205425767,
          1555.549191178303,
          1540.0541317869213,
          1620.3620285033023,
          1608.8919978175536,
          1553.1168534175742,
          1553.347524139077,
          1597.820536159643,
          1603.0449252905642,
          1618.050854849224,
          1629.1226210032858,
          1555.6653073843283,
          1576.286013630029,
          1558.8247099241198,
          1525.054680071012,
          1551.9549198726213,
          1543.83768527366,
          1547.5254758362926,
          1591.407354712405,
          1622.359133460718,
          1603.7867406836947,
          1592.2671771535515,
          1509.4301360589886,
          1728.607735305539,
          1703.1075570519515,
          1715.860520628586,
          1721.7482003080638,
          1770.9775871041131,
          1757.8139304683768,
          1780.8439302921392,
          1762.6107521471458,
          1765.9460527900317,
          1770.3638165609357,
          1584.2805371390264,
          1578.919267651223,
          1604.697138363436,
          1592.9745793351997,
          1582.3384639967437,
          1612.6306818207725,
          1647.5067817530628,
          1680.306855372511,
          1677.5388557703372,
          1669.4778184325828,
          1662.850094737098,
          1778.7433302183751,
          1719.4645544640969,
          1685.974692270372,
          1676.5704177730013,
          1690.5217253256308,
          1639.0525234144914,
          1595.3307298107516,
          1616.1845461335022,
          1645.443660710252,
          1586.4499724034038,
          1555.830170277838,
          1583.6879707185217,
          1577.807981573571,
          1594.73415830843,
          1629.2543307008996,
          1661.61134221185,
          1674.9097275971983,
          1667.3228562594904,
          1652.267415646764,
          1584.541968290806,
          1729.907367075633,
          1619.188315077806,
          1713.8053047059614,
          1702.2634405626488,
          1738.308144018115
         ],
         "yaxis": "y"
        },
        {
         "customdata": [
          [
           "Bishop Blanchet",
           "2016-17",
           1
          ],
          [
           "Bishop Blanchet",
           "2016-17",
           2
          ],
          [
           "Bishop Blanchet",
           "2016-17",
           3
          ],
          [
           "Bishop Blanchet",
           "2016-17",
           4
          ],
          [
           "Bishop Blanchet",
           "2016-17",
           5
          ],
          [
           "Bishop Blanchet",
           "2016-17",
           6
          ],
          [
           "Bishop Blanchet",
           "2016-17",
           7
          ],
          [
           "Bishop Blanchet",
           "2016-17",
           8
          ],
          [
           "Bishop Blanchet",
           "2016-17",
           9
          ],
          [
           "Bishop Blanchet",
           "2016-17",
           10
          ],
          [
           "Bishop Blanchet",
           "2016-17",
           11
          ],
          [
           "Bishop Blanchet",
           "2016-17",
           12
          ],
          [
           "Bishop Blanchet",
           "2016-17",
           13
          ],
          [
           "Bishop Blanchet",
           "2016-17",
           14
          ],
          [
           "Bishop Blanchet",
           "2016-17",
           15
          ],
          [
           "Bishop Blanchet",
           "2016-17",
           16
          ],
          [
           "Bishop Blanchet",
           "2016-17",
           17
          ],
          [
           "Bishop Blanchet",
           "2017-18",
           1
          ],
          [
           "Bishop Blanchet",
           "2017-18",
           2
          ],
          [
           "Bishop Blanchet",
           "2017-18",
           3
          ],
          [
           "Bishop Blanchet",
           "2017-18",
           4
          ],
          [
           "Bishop Blanchet",
           "2017-18",
           5
          ],
          [
           "Bishop Blanchet",
           "2017-18",
           6
          ],
          [
           "Bishop Blanchet",
           "2017-18",
           7
          ],
          [
           "Bishop Blanchet",
           "2017-18",
           8
          ],
          [
           "Bishop Blanchet",
           "2017-18",
           9
          ],
          [
           "Bishop Blanchet",
           "2017-18",
           10
          ],
          [
           "Bishop Blanchet",
           "2017-18",
           11
          ],
          [
           "Bishop Blanchet",
           "2017-18",
           12
          ],
          [
           "Bishop Blanchet",
           "2017-18",
           13
          ],
          [
           "Bishop Blanchet",
           "2017-18",
           14
          ],
          [
           "Bishop Blanchet",
           "2017-18",
           15
          ],
          [
           "Bishop Blanchet",
           "2017-18",
           16
          ],
          [
           "Bishop Blanchet",
           "2017-18",
           17
          ],
          [
           "Bishop Blanchet",
           "2017-18",
           18
          ],
          [
           "Bishop Blanchet",
           "2018-19",
           1
          ],
          [
           "Bishop Blanchet",
           "2018-19",
           2
          ],
          [
           "Bishop Blanchet",
           "2018-19",
           3
          ],
          [
           "Bishop Blanchet",
           "2018-19",
           4
          ],
          [
           "Bishop Blanchet",
           "2018-19",
           5
          ],
          [
           "Bishop Blanchet",
           "2018-19",
           6
          ],
          [
           "Bishop Blanchet",
           "2018-19",
           7
          ],
          [
           "Bishop Blanchet",
           "2018-19",
           8
          ],
          [
           "Bishop Blanchet",
           "2018-19",
           9
          ],
          [
           "Bishop Blanchet",
           "2018-19",
           10
          ],
          [
           "Bishop Blanchet",
           "2018-19",
           11
          ],
          [
           "Bishop Blanchet",
           "2018-19",
           12
          ],
          [
           "Bishop Blanchet",
           "2018-19",
           13
          ],
          [
           "Bishop Blanchet",
           "2018-19",
           14
          ],
          [
           "Bishop Blanchet",
           "2018-19",
           15
          ],
          [
           "Bishop Blanchet",
           "2018-19",
           16
          ],
          [
           "Bishop Blanchet",
           "2018-19",
           17
          ],
          [
           "Bishop Blanchet",
           "2020-21",
           1
          ],
          [
           "Bishop Blanchet",
           "2020-21",
           2
          ],
          [
           "Bishop Blanchet",
           "2020-21",
           3
          ],
          [
           "Bishop Blanchet",
           "2020-21",
           4
          ],
          [
           "Bishop Blanchet",
           "2020-21",
           5
          ],
          [
           "Bishop Blanchet",
           "2021-22",
           1
          ],
          [
           "Bishop Blanchet",
           "2021-22",
           2
          ],
          [
           "Bishop Blanchet",
           "2021-22",
           3
          ],
          [
           "Bishop Blanchet",
           "2021-22",
           4
          ],
          [
           "Bishop Blanchet",
           "2021-22",
           5
          ],
          [
           "Bishop Blanchet",
           "2021-22",
           6
          ],
          [
           "Bishop Blanchet",
           "2021-22",
           7
          ],
          [
           "Bishop Blanchet",
           "2021-22",
           8
          ],
          [
           "Bishop Blanchet",
           "2021-22",
           9
          ],
          [
           "Bishop Blanchet",
           "2021-22",
           10
          ],
          [
           "Bishop Blanchet",
           "2021-22",
           11
          ],
          [
           "Bishop Blanchet",
           "2021-22",
           12
          ],
          [
           "Bishop Blanchet",
           "2021-22",
           13
          ],
          [
           "Bishop Blanchet",
           "2021-22",
           14
          ],
          [
           "Bishop Blanchet",
           "2021-22",
           15
          ],
          [
           "Bishop Blanchet",
           "2021-22",
           16
          ],
          [
           "Bishop Blanchet",
           "2021-22",
           17
          ],
          [
           "Bishop Blanchet",
           "2021-22",
           18
          ],
          [
           "Bishop Blanchet",
           "2022-23",
           1
          ],
          [
           "Bishop Blanchet",
           "2022-23",
           2
          ],
          [
           "Bishop Blanchet",
           "2022-23",
           3
          ],
          [
           "Bishop Blanchet",
           "2022-23",
           4
          ],
          [
           "Bishop Blanchet",
           "2022-23",
           5
          ],
          [
           "Bishop Blanchet",
           "2022-23",
           6
          ],
          [
           "Bishop Blanchet",
           "2022-23",
           7
          ],
          [
           "Bishop Blanchet",
           "2022-23",
           8
          ],
          [
           "Bishop Blanchet",
           "2022-23",
           9
          ],
          [
           "Bishop Blanchet",
           "2022-23",
           10
          ],
          [
           "Bishop Blanchet",
           "2022-23",
           11
          ],
          [
           "Bishop Blanchet",
           "2022-23",
           12
          ],
          [
           "Bishop Blanchet",
           "2022-23",
           13
          ],
          [
           "Bishop Blanchet",
           "2022-23",
           14
          ],
          [
           "Bishop Blanchet",
           "2022-23",
           15
          ],
          [
           "Bishop Blanchet",
           "2022-23",
           16
          ],
          [
           "Bishop Blanchet",
           "2022-23",
           17
          ],
          [
           "Bishop Blanchet",
           "2023-24",
           1
          ],
          [
           "Bishop Blanchet",
           "2023-24",
           2
          ],
          [
           "Bishop Blanchet",
           "2023-24",
           3
          ],
          [
           "Bishop Blanchet",
           "2023-24",
           4
          ],
          [
           "Bishop Blanchet",
           "2023-24",
           5
          ],
          [
           "Bishop Blanchet",
           "2023-24",
           6
          ],
          [
           "Bishop Blanchet",
           "2023-24",
           7
          ],
          [
           "Bishop Blanchet",
           "2023-24",
           8
          ],
          [
           "Bishop Blanchet",
           "2023-24",
           9
          ],
          [
           "Bishop Blanchet",
           "2023-24",
           10
          ],
          [
           "Bishop Blanchet",
           "2023-24",
           11
          ],
          [
           "Bishop Blanchet",
           "2023-24",
           12
          ],
          [
           "Bishop Blanchet",
           "2023-24",
           13
          ],
          [
           "Bishop Blanchet",
           "2023-24",
           14
          ],
          [
           "Bishop Blanchet",
           "2023-24",
           15
          ],
          [
           "Bishop Blanchet",
           "2023-24",
           16
          ],
          [
           "Bishop Blanchet",
           "2023-24",
           17
          ],
          [
           "Bishop Blanchet",
           "2023-24",
           18
          ],
          [
           "Bishop Blanchet",
           "2023-24",
           19
          ],
          [
           "Bishop Blanchet",
           "2024-25",
           1
          ],
          [
           "Bishop Blanchet",
           "2024-25",
           2
          ],
          [
           "Bishop Blanchet",
           "2024-25",
           3
          ],
          [
           "Bishop Blanchet",
           "2024-25",
           4
          ],
          [
           "Bishop Blanchet",
           "2024-25",
           5
          ],
          [
           "Bishop Blanchet",
           "2024-25",
           6
          ],
          [
           "Bishop Blanchet",
           "2024-25",
           7
          ]
         ],
         "hovertemplate": "Team=%{customdata[0]}<br>Total Matches Played=%{x}<br>ELO Rating=%{y}<br>Season=%{customdata[1]}<br>Season Match #=%{customdata[2]}<extra></extra>",
         "legendgroup": "Bishop Blanchet",
         "line": {
          "color": "#00cc96",
          "dash": "solid"
         },
         "marker": {
          "symbol": "circle"
         },
         "mode": "lines",
         "name": "Bishop Blanchet",
         "showlegend": true,
         "type": "scattergl",
         "x": [
          1,
          2,
          3,
          4,
          5,
          6,
          7,
          8,
          9,
          10,
          11,
          12,
          13,
          14,
          15,
          16,
          17,
          18,
          19,
          20,
          21,
          22,
          23,
          24,
          25,
          26,
          27,
          28,
          29,
          30,
          31,
          32,
          33,
          34,
          35,
          36,
          37,
          38,
          39,
          40,
          41,
          42,
          43,
          44,
          45,
          46,
          47,
          48,
          49,
          50,
          51,
          52,
          53,
          54,
          55,
          56,
          57,
          58,
          59,
          60,
          61,
          62,
          63,
          64,
          65,
          66,
          67,
          68,
          69,
          70,
          71,
          72,
          73,
          74,
          75,
          76,
          77,
          78,
          79,
          80,
          81,
          82,
          83,
          84,
          85,
          86,
          87,
          88,
          89,
          90,
          91,
          92,
          93,
          94,
          95,
          96,
          97,
          98,
          99,
          100,
          101,
          102,
          103,
          104,
          105,
          106,
          107,
          108,
          109,
          110,
          111,
          112,
          113,
          114,
          115,
          116,
          117,
          118
         ],
         "xaxis": "x",
         "y": [
          1483.125225057678,
          1516.6323287162002,
          1534.1176208702027,
          1531.7128234829152,
          1469.7966051682245,
          1492.4203467044476,
          1485.1734090959585,
          1492.5151973038908,
          1466.2981550195236,
          1518.643875959292,
          1554.3448385489787,
          1577.4325527885042,
          1549.012221722698,
          1519.514896986046,
          1540.8887233728683,
          1518.046114236373,
          1542.5729547689537,
          1435.699930969365,
          1464.684962266308,
          1477.0145284497714,
          1462.125885505106,
          1464.7273963321954,
          1434.166479170177,
          1452.289532793769,
          1483.7620218129168,
          1454.1038652729003,
          1372.8518755772734,
          1370.475190575917,
          1367.8716652624316,
          1364.5519571998332,
          1453.9538883265818,
          1443.482201787515,
          1475.208949755437,
          1471.141942613115,
          1459.4446386337552,
          1500.264411519315,
          1526.5047020278037,
          1534.31606640244,
          1535.064366682387,
          1554.6541627271374,
          1606.704319962295,
          1580.0673498445678,
          1586.6772830141638,
          1566.7149390227326,
          1543.067762588501,
          1546.153158660277,
          1543.2670612235877,
          1543.48810031182,
          1526.0266776201472,
          1521.0926127160658,
          1535.3001383140077,
          1518.9056775186218,
          1560.8761664366195,
          1534.8031252572384,
          1544.4502197157492,
          1513.973617823872,
          1536.4656780064,
          1542.8767179395395,
          1486.1483399210956,
          1486.199290876894,
          1477.322485077122,
          1489.680172729737,
          1531.0365833080712,
          1515.1023343465913,
          1521.477539174986,
          1485.1283954340486,
          1462.2339106231352,
          1443.8306662219957,
          1448.400591960291,
          1433.3946624016312,
          1432.7671533446264,
          1500.6213723103378,
          1497.7935151855577,
          1504.3237136391415,
          1510.4534384231029,
          1516.2255261304922,
          1524.8596388186031,
          1566.8094342394063,
          1536.7702508895843,
          1531.1879124183415,
          1559.6060563718374,
          1506.5454481033594,
          1491.3241354027425,
          1480.538368886579,
          1498.7715470315725,
          1473.7935906046755,
          1507.2056965653285,
          1501.1971590169258,
          1499.3863229043147,
          1443.8039678799305,
          1481.0352523694482,
          1506.1144987826387,
          1506.2813681898497,
          1514.346121913683,
          1539.1878631795987,
          1541.9348699867865,
          1544.5982572013345,
          1584.7231317450444,
          1592.202190510005,
          1603.3210476356635,
          1604.6593670226257,
          1628.5126412190978,
          1601.3620354667223,
          1605.202004001702,
          1608.8809994143696,
          1619.3561002512129,
          1620.3895837252826,
          1651.934746548416,
          1623.7795573021351,
          1622.0052968215534,
          1701.1632119487165,
          1911.5626716677089,
          1921.0121960865883,
          1929.045110819588,
          1711.3674243932337,
          1740.2219336875776,
          1801.1236261070237,
          1863.7938697158115
         ],
         "yaxis": "y"
        },
        {
         "customdata": [
          [
           "Chief Sealth",
           "2016-17",
           1
          ],
          [
           "Chief Sealth",
           "2016-17",
           2
          ],
          [
           "Chief Sealth",
           "2016-17",
           3
          ],
          [
           "Chief Sealth",
           "2016-17",
           4
          ],
          [
           "Chief Sealth",
           "2016-17",
           5
          ],
          [
           "Chief Sealth",
           "2016-17",
           6
          ],
          [
           "Chief Sealth",
           "2016-17",
           7
          ],
          [
           "Chief Sealth",
           "2016-17",
           8
          ],
          [
           "Chief Sealth",
           "2016-17",
           9
          ],
          [
           "Chief Sealth",
           "2016-17",
           10
          ],
          [
           "Chief Sealth",
           "2016-17",
           11
          ],
          [
           "Chief Sealth",
           "2016-17",
           12
          ],
          [
           "Chief Sealth",
           "2016-17",
           13
          ],
          [
           "Chief Sealth",
           "2016-17",
           14
          ],
          [
           "Chief Sealth",
           "2016-17",
           15
          ],
          [
           "Chief Sealth",
           "2016-17",
           16
          ],
          [
           "Chief Sealth",
           "2016-17",
           17
          ],
          [
           "Chief Sealth",
           "2017-18",
           1
          ],
          [
           "Chief Sealth",
           "2017-18",
           2
          ],
          [
           "Chief Sealth",
           "2017-18",
           3
          ],
          [
           "Chief Sealth",
           "2017-18",
           4
          ],
          [
           "Chief Sealth",
           "2017-18",
           5
          ],
          [
           "Chief Sealth",
           "2017-18",
           6
          ],
          [
           "Chief Sealth",
           "2017-18",
           7
          ],
          [
           "Chief Sealth",
           "2017-18",
           8
          ],
          [
           "Chief Sealth",
           "2017-18",
           9
          ],
          [
           "Chief Sealth",
           "2017-18",
           10
          ],
          [
           "Chief Sealth",
           "2017-18",
           11
          ],
          [
           "Chief Sealth",
           "2017-18",
           12
          ],
          [
           "Chief Sealth",
           "2017-18",
           13
          ],
          [
           "Chief Sealth",
           "2017-18",
           14
          ],
          [
           "Chief Sealth",
           "2017-18",
           15
          ],
          [
           "Chief Sealth",
           "2017-18",
           16
          ],
          [
           "Chief Sealth",
           "2018-19",
           1
          ],
          [
           "Chief Sealth",
           "2018-19",
           2
          ],
          [
           "Chief Sealth",
           "2018-19",
           3
          ],
          [
           "Chief Sealth",
           "2018-19",
           4
          ],
          [
           "Chief Sealth",
           "2018-19",
           5
          ],
          [
           "Chief Sealth",
           "2018-19",
           6
          ],
          [
           "Chief Sealth",
           "2018-19",
           7
          ],
          [
           "Chief Sealth",
           "2018-19",
           8
          ],
          [
           "Chief Sealth",
           "2018-19",
           9
          ],
          [
           "Chief Sealth",
           "2018-19",
           10
          ],
          [
           "Chief Sealth",
           "2018-19",
           11
          ],
          [
           "Chief Sealth",
           "2018-19",
           12
          ],
          [
           "Chief Sealth",
           "2018-19",
           13
          ],
          [
           "Chief Sealth",
           "2018-19",
           14
          ],
          [
           "Chief Sealth",
           "2018-19",
           15
          ],
          [
           "Chief Sealth",
           "2018-19",
           16
          ],
          [
           "Chief Sealth",
           "2018-19",
           17
          ],
          [
           "Chief Sealth",
           "2020-21",
           1
          ],
          [
           "Chief Sealth",
           "2020-21",
           2
          ],
          [
           "Chief Sealth",
           "2020-21",
           3
          ],
          [
           "Chief Sealth",
           "2020-21",
           4
          ],
          [
           "Chief Sealth",
           "2020-21",
           5
          ],
          [
           "Chief Sealth",
           "2020-21",
           6
          ],
          [
           "Chief Sealth",
           "2021-22",
           1
          ],
          [
           "Chief Sealth",
           "2021-22",
           2
          ],
          [
           "Chief Sealth",
           "2021-22",
           3
          ],
          [
           "Chief Sealth",
           "2021-22",
           4
          ],
          [
           "Chief Sealth",
           "2021-22",
           5
          ],
          [
           "Chief Sealth",
           "2021-22",
           6
          ],
          [
           "Chief Sealth",
           "2021-22",
           7
          ],
          [
           "Chief Sealth",
           "2021-22",
           8
          ],
          [
           "Chief Sealth",
           "2021-22",
           9
          ],
          [
           "Chief Sealth",
           "2021-22",
           10
          ],
          [
           "Chief Sealth",
           "2021-22",
           11
          ],
          [
           "Chief Sealth",
           "2021-22",
           12
          ],
          [
           "Chief Sealth",
           "2021-22",
           13
          ],
          [
           "Chief Sealth",
           "2021-22",
           14
          ],
          [
           "Chief Sealth",
           "2021-22",
           15
          ],
          [
           "Chief Sealth",
           "2021-22",
           16
          ],
          [
           "Chief Sealth",
           "2021-22",
           17
          ],
          [
           "Chief Sealth",
           "2022-23",
           1
          ],
          [
           "Chief Sealth",
           "2022-23",
           2
          ],
          [
           "Chief Sealth",
           "2022-23",
           3
          ],
          [
           "Chief Sealth",
           "2022-23",
           4
          ],
          [
           "Chief Sealth",
           "2022-23",
           5
          ],
          [
           "Chief Sealth",
           "2022-23",
           6
          ],
          [
           "Chief Sealth",
           "2022-23",
           7
          ],
          [
           "Chief Sealth",
           "2022-23",
           8
          ],
          [
           "Chief Sealth",
           "2022-23",
           9
          ],
          [
           "Chief Sealth",
           "2022-23",
           10
          ],
          [
           "Chief Sealth",
           "2022-23",
           11
          ],
          [
           "Chief Sealth",
           "2022-23",
           12
          ],
          [
           "Chief Sealth",
           "2022-23",
           13
          ],
          [
           "Chief Sealth",
           "2022-23",
           14
          ],
          [
           "Chief Sealth",
           "2022-23",
           15
          ],
          [
           "Chief Sealth",
           "2022-23",
           16
          ],
          [
           "Chief Sealth",
           "2022-23",
           17
          ],
          [
           "Chief Sealth",
           "2022-23",
           18
          ],
          [
           "Chief Sealth",
           "2022-23",
           19
          ],
          [
           "Chief Sealth",
           "2023-24",
           1
          ],
          [
           "Chief Sealth",
           "2023-24",
           2
          ],
          [
           "Chief Sealth",
           "2023-24",
           3
          ],
          [
           "Chief Sealth",
           "2023-24",
           4
          ],
          [
           "Chief Sealth",
           "2023-24",
           5
          ],
          [
           "Chief Sealth",
           "2023-24",
           6
          ],
          [
           "Chief Sealth",
           "2023-24",
           7
          ],
          [
           "Chief Sealth",
           "2023-24",
           8
          ],
          [
           "Chief Sealth",
           "2023-24",
           9
          ],
          [
           "Chief Sealth",
           "2023-24",
           10
          ],
          [
           "Chief Sealth",
           "2023-24",
           11
          ],
          [
           "Chief Sealth",
           "2023-24",
           12
          ],
          [
           "Chief Sealth",
           "2023-24",
           13
          ],
          [
           "Chief Sealth",
           "2023-24",
           14
          ],
          [
           "Chief Sealth",
           "2023-24",
           15
          ],
          [
           "Chief Sealth",
           "2024-25",
           1
          ],
          [
           "Chief Sealth",
           "2024-25",
           2
          ],
          [
           "Chief Sealth",
           "2024-25",
           3
          ],
          [
           "Chief Sealth",
           "2024-25",
           4
          ],
          [
           "Chief Sealth",
           "2024-25",
           5
          ],
          [
           "Chief Sealth",
           "2024-25",
           6
          ],
          [
           "Chief Sealth",
           "2024-25",
           7
          ]
         ],
         "hovertemplate": "Team=%{customdata[0]}<br>Total Matches Played=%{x}<br>ELO Rating=%{y}<br>Season=%{customdata[1]}<br>Season Match #=%{customdata[2]}<extra></extra>",
         "legendgroup": "Chief Sealth",
         "line": {
          "color": "#ab63fa",
          "dash": "solid"
         },
         "marker": {
          "symbol": "circle"
         },
         "mode": "lines",
         "name": "Chief Sealth",
         "showlegend": true,
         "type": "scattergl",
         "x": [
          1,
          2,
          3,
          4,
          5,
          6,
          7,
          8,
          9,
          10,
          11,
          12,
          13,
          14,
          15,
          16,
          17,
          18,
          19,
          20,
          21,
          22,
          23,
          24,
          25,
          26,
          27,
          28,
          29,
          30,
          31,
          32,
          33,
          34,
          35,
          36,
          37,
          38,
          39,
          40,
          41,
          42,
          43,
          44,
          45,
          46,
          47,
          48,
          49,
          50,
          51,
          52,
          53,
          54,
          55,
          56,
          57,
          58,
          59,
          60,
          61,
          62,
          63,
          64,
          65,
          66,
          67,
          68,
          69,
          70,
          71,
          72,
          73,
          74,
          75,
          76,
          77,
          78,
          79,
          80,
          81,
          82,
          83,
          84,
          85,
          86,
          87,
          88,
          89,
          90,
          91,
          92,
          93,
          94,
          95,
          96,
          97,
          98,
          99,
          100,
          101,
          102,
          103,
          104,
          105,
          106,
          107,
          108,
          109,
          110,
          111,
          112,
          113,
          114
         ],
         "xaxis": "x",
         "y": [
          1469.590187767243,
          1485.328576434789,
          1478.136376884844,
          1416.791334964198,
          1397.2476384199367,
          1337.6131228538422,
          1407.7151821385985,
          1414.8196193595625,
          1421.3966753300404,
          1456.5551219792972,
          1416.6399495968649,
          1446.4016656783326,
          1413.646854311577,
          1473.2561885062423,
          1434.2221825852064,
          1476.0906960371742,
          1508.4162906743145,
          1437.340267485145,
          1406.772082205386,
          1385.5113644556532,
          1416.567565531567,
          1404.7377055658335,
          1398.7531694383654,
          1375.7167547635072,
          1430.9814364985566,
          1424.2576935190273,
          1411.928127335564,
          1400.851733065742,
          1430.3521198509166,
          1423.4041684118192,
          1436.432443093446,
          1447.8182333514749,
          1423.6842089622212,
          1386.1948163711445,
          1416.2099734920566,
          1421.7657450762986,
          1424.4323963281277,
          1427.620913615853,
          1415.399715352108,
          1450.487821299919,
          1429.9715879819162,
          1430.5880117494364,
          1439.8540250185106,
          1439.0547019499545,
          1462.013904672032,
          1463.6620670124237,
          1448.386743818487,
          1431.0696367226378,
          1421.3583396252911,
          1450.7088603881516,
          1442.766332962966,
          1490.083028438412,
          1495.2985604245916,
          1501.982729325061,
          1539.8428536608387,
          1538.3283071504252,
          1547.2014603544778,
          1565.7738531315013,
          1763.6052105373833,
          1673.115810301348,
          1677.0038140595375,
          1652.7300595197337,
          1664.625648383546,
          1664.999217449094,
          1587.905246199446,
          1587.8542952436474,
          1649.4519999384188,
          1675.4872241012818,
          1684.285322340332,
          1697.496630340639,
          1708.6813911285428,
          1715.7594313960933,
          1722.3138190635336,
          1657.664208844982,
          1669.3867678732183,
          1680.0228832116743,
          1649.7306653876456,
          1702.808406344307,
          1675.5700248103312,
          1691.1959229058828,
          1654.2072140276337,
          1634.2403698262613,
          1635.610665348982,
          1636.9598742967748,
          1706.4172356064996,
          1686.689716897964,
          1675.609156089805,
          1668.719596535516,
          1698.0239528508278,
          1664.4729661293936,
          1639.4285536431155,
          1652.6263660943875,
          1557.801959169612,
          1546.132378188372,
          1524.150600239985,
          1483.398159111736,
          1460.985932827447,
          1423.9837053503977,
          1407.0575286155388,
          1428.5877926481792,
          1506.4706931025355,
          1492.519385549906,
          1526.5890876508247,
          1521.9320388911308,
          1489.1564893295672,
          1485.3070874944526,
          1504.4023482853927,
          1431.653976431173,
          1405.9265813721804,
          1331.8242516113687,
          1266.9036580944648,
          1210.6699781667055,
          1324.5642342621,
          1276.696554108252
         ],
         "yaxis": "y"
        },
        {
         "customdata": [
          [
           "Cleveland",
           "2016-17",
           1
          ],
          [
           "Cleveland",
           "2016-17",
           2
          ],
          [
           "Cleveland",
           "2016-17",
           3
          ],
          [
           "Cleveland",
           "2016-17",
           4
          ],
          [
           "Cleveland",
           "2016-17",
           5
          ],
          [
           "Cleveland",
           "2016-17",
           6
          ],
          [
           "Cleveland",
           "2016-17",
           7
          ],
          [
           "Cleveland",
           "2016-17",
           8
          ],
          [
           "Cleveland",
           "2016-17",
           9
          ],
          [
           "Cleveland",
           "2016-17",
           10
          ],
          [
           "Cleveland",
           "2016-17",
           11
          ],
          [
           "Cleveland",
           "2016-17",
           12
          ],
          [
           "Cleveland",
           "2016-17",
           13
          ],
          [
           "Cleveland",
           "2016-17",
           14
          ],
          [
           "Cleveland",
           "2016-17",
           15
          ],
          [
           "Cleveland",
           "2016-17",
           16
          ],
          [
           "Cleveland",
           "2016-17",
           17
          ],
          [
           "Cleveland",
           "2016-17",
           18
          ],
          [
           "Cleveland",
           "2016-17",
           19
          ],
          [
           "Cleveland",
           "2016-17",
           20
          ],
          [
           "Cleveland",
           "2016-17",
           21
          ],
          [
           "Cleveland",
           "2016-17",
           22
          ],
          [
           "Cleveland",
           "2016-17",
           23
          ],
          [
           "Cleveland",
           "2016-17",
           24
          ],
          [
           "Cleveland",
           "2016-17",
           25
          ],
          [
           "Cleveland",
           "2016-17",
           26
          ],
          [
           "Cleveland",
           "2016-17",
           27
          ],
          [
           "Cleveland",
           "2016-17",
           28
          ],
          [
           "Cleveland",
           "2016-17",
           29
          ],
          [
           "Cleveland",
           "2016-17",
           30
          ],
          [
           "Cleveland",
           "2017-18",
           1
          ],
          [
           "Cleveland",
           "2017-18",
           2
          ],
          [
           "Cleveland",
           "2017-18",
           3
          ],
          [
           "Cleveland",
           "2017-18",
           4
          ],
          [
           "Cleveland",
           "2017-18",
           5
          ],
          [
           "Cleveland",
           "2017-18",
           6
          ],
          [
           "Cleveland",
           "2017-18",
           7
          ],
          [
           "Cleveland",
           "2017-18",
           8
          ],
          [
           "Cleveland",
           "2017-18",
           9
          ],
          [
           "Cleveland",
           "2017-18",
           10
          ],
          [
           "Cleveland",
           "2017-18",
           11
          ],
          [
           "Cleveland",
           "2017-18",
           12
          ],
          [
           "Cleveland",
           "2017-18",
           13
          ],
          [
           "Cleveland",
           "2017-18",
           14
          ],
          [
           "Cleveland",
           "2017-18",
           15
          ],
          [
           "Cleveland",
           "2017-18",
           16
          ],
          [
           "Cleveland",
           "2017-18",
           17
          ],
          [
           "Cleveland",
           "2017-18",
           18
          ],
          [
           "Cleveland",
           "2017-18",
           19
          ],
          [
           "Cleveland",
           "2017-18",
           20
          ],
          [
           "Cleveland",
           "2017-18",
           21
          ],
          [
           "Cleveland",
           "2017-18",
           22
          ],
          [
           "Cleveland",
           "2017-18",
           23
          ],
          [
           "Cleveland",
           "2017-18",
           24
          ],
          [
           "Cleveland",
           "2017-18",
           25
          ],
          [
           "Cleveland",
           "2017-18",
           26
          ],
          [
           "Cleveland",
           "2017-18",
           27
          ],
          [
           "Cleveland",
           "2017-18",
           28
          ],
          [
           "Cleveland",
           "2017-18",
           29
          ],
          [
           "Cleveland",
           "2017-18",
           30
          ],
          [
           "Cleveland",
           "2018-19",
           1
          ],
          [
           "Cleveland",
           "2018-19",
           2
          ],
          [
           "Cleveland",
           "2018-19",
           3
          ],
          [
           "Cleveland",
           "2018-19",
           4
          ],
          [
           "Cleveland",
           "2018-19",
           5
          ],
          [
           "Cleveland",
           "2018-19",
           6
          ],
          [
           "Cleveland",
           "2018-19",
           7
          ],
          [
           "Cleveland",
           "2018-19",
           8
          ],
          [
           "Cleveland",
           "2018-19",
           9
          ],
          [
           "Cleveland",
           "2018-19",
           10
          ],
          [
           "Cleveland",
           "2018-19",
           11
          ],
          [
           "Cleveland",
           "2018-19",
           12
          ],
          [
           "Cleveland",
           "2018-19",
           13
          ],
          [
           "Cleveland",
           "2018-19",
           14
          ],
          [
           "Cleveland",
           "2018-19",
           15
          ],
          [
           "Cleveland",
           "2020-21",
           1
          ],
          [
           "Cleveland",
           "2020-21",
           2
          ],
          [
           "Cleveland",
           "2020-21",
           3
          ],
          [
           "Cleveland",
           "2020-21",
           4
          ],
          [
           "Cleveland",
           "2020-21",
           5
          ],
          [
           "Cleveland",
           "2021-22",
           1
          ],
          [
           "Cleveland",
           "2021-22",
           2
          ],
          [
           "Cleveland",
           "2021-22",
           3
          ],
          [
           "Cleveland",
           "2021-22",
           4
          ],
          [
           "Cleveland",
           "2021-22",
           5
          ],
          [
           "Cleveland",
           "2021-22",
           6
          ],
          [
           "Cleveland",
           "2021-22",
           7
          ],
          [
           "Cleveland",
           "2021-22",
           8
          ],
          [
           "Cleveland",
           "2021-22",
           9
          ],
          [
           "Cleveland",
           "2021-22",
           10
          ],
          [
           "Cleveland",
           "2021-22",
           11
          ],
          [
           "Cleveland",
           "2021-22",
           12
          ],
          [
           "Cleveland",
           "2021-22",
           13
          ],
          [
           "Cleveland",
           "2021-22",
           14
          ],
          [
           "Cleveland",
           "2021-22",
           15
          ],
          [
           "Cleveland",
           "2021-22",
           16
          ],
          [
           "Cleveland",
           "2022-23",
           1
          ],
          [
           "Cleveland",
           "2022-23",
           2
          ],
          [
           "Cleveland",
           "2022-23",
           3
          ],
          [
           "Cleveland",
           "2022-23",
           4
          ],
          [
           "Cleveland",
           "2022-23",
           5
          ],
          [
           "Cleveland",
           "2022-23",
           6
          ],
          [
           "Cleveland",
           "2022-23",
           7
          ],
          [
           "Cleveland",
           "2022-23",
           8
          ],
          [
           "Cleveland",
           "2022-23",
           9
          ],
          [
           "Cleveland",
           "2022-23",
           10
          ],
          [
           "Cleveland",
           "2022-23",
           11
          ],
          [
           "Cleveland",
           "2022-23",
           12
          ],
          [
           "Cleveland",
           "2022-23",
           13
          ],
          [
           "Cleveland",
           "2023-24",
           1
          ],
          [
           "Cleveland",
           "2023-24",
           2
          ],
          [
           "Cleveland",
           "2023-24",
           3
          ],
          [
           "Cleveland",
           "2023-24",
           4
          ],
          [
           "Cleveland",
           "2023-24",
           5
          ],
          [
           "Cleveland",
           "2023-24",
           6
          ],
          [
           "Cleveland",
           "2023-24",
           7
          ],
          [
           "Cleveland",
           "2023-24",
           8
          ],
          [
           "Cleveland",
           "2023-24",
           9
          ],
          [
           "Cleveland",
           "2023-24",
           10
          ],
          [
           "Cleveland",
           "2023-24",
           11
          ],
          [
           "Cleveland",
           "2023-24",
           12
          ],
          [
           "Cleveland",
           "2023-24",
           13
          ],
          [
           "Cleveland",
           "2024-25",
           1
          ],
          [
           "Cleveland",
           "2024-25",
           2
          ],
          [
           "Cleveland",
           "2024-25",
           3
          ],
          [
           "Cleveland",
           "2024-25",
           4
          ],
          [
           "Cleveland",
           "2024-25",
           5
          ]
         ],
         "hovertemplate": "Team=%{customdata[0]}<br>Total Matches Played=%{x}<br>ELO Rating=%{y}<br>Season=%{customdata[1]}<br>Season Match #=%{customdata[2]}<extra></extra>",
         "legendgroup": "Cleveland",
         "line": {
          "color": "#FFA15A",
          "dash": "solid"
         },
         "marker": {
          "symbol": "circle"
         },
         "mode": "lines",
         "name": "Cleveland",
         "showlegend": true,
         "type": "scattergl",
         "x": [
          1,
          2,
          3,
          4,
          5,
          6,
          7,
          8,
          9,
          10,
          11,
          12,
          13,
          14,
          15,
          16,
          17,
          18,
          19,
          20,
          21,
          22,
          23,
          24,
          25,
          26,
          27,
          28,
          29,
          30,
          31,
          32,
          33,
          34,
          35,
          36,
          37,
          38,
          39,
          40,
          41,
          42,
          43,
          44,
          45,
          46,
          47,
          48,
          49,
          50,
          51,
          52,
          53,
          54,
          55,
          56,
          57,
          58,
          59,
          60,
          61,
          62,
          63,
          64,
          65,
          66,
          67,
          68,
          69,
          70,
          71,
          72,
          73,
          74,
          75,
          76,
          77,
          78,
          79,
          80,
          81,
          82,
          83,
          84,
          85,
          86,
          87,
          88,
          89,
          90,
          91,
          92,
          93,
          94,
          95,
          96,
          97,
          98,
          99,
          100,
          101,
          102,
          103,
          104,
          105,
          106,
          107,
          108,
          109,
          110,
          111,
          112,
          113,
          114,
          115,
          116,
          117,
          118,
          119,
          120,
          121,
          122,
          123,
          124,
          125,
          126,
          127
         ],
         "xaxis": "x",
         "y": [
          1436.4080176827993,
          1394.2225841902812,
          1351.8521109869016,
          1321.7325210640868,
          1269.3868001243184,
          1233.6858375346314,
          1202.5057109612824,
          1178.8781041612474,
          1137.467302961959,
          1107.8891967304326,
          1084.534375129242,
          1065.827464510014,
          1046.0260909493643,
          1029.712534193825,
          1028.4757659553784,
          1027.2563053681783,
          1020.1518681472144,
          1013.5748121767366,
          1011.2688552909208,
          1009.0221810889744,
          1006.9153848101352,
          1004.8582094398704,
          1003.8574546110484,
          1002.868069404836,
          995.0083283809544,
          987.7876585450688,
          986.6642846708348,
          985.5552127841454,
          970.539337384274,
          957.6513307944892,
          944.6230561128624,
          933.2372658548336,
          928.9291283562924,
          924.8223241844778,
          881.9470414726334,
          881.4437804142534,
          864.6642545564747,
          850.4840319284001,
          850.0261029879154,
          849.5705728019185,
          848.1035903514334,
          846.6608807220111,
          836.5613462219791,
          827.4865981668011,
          826.6753798626706,
          825.8715511148632,
          923.79769663114,
          922.7849836380952,
          912.3655710108958,
          903.0323842912428,
          900.3511374198918,
          897.7496265928023,
          896.6717223916014,
          895.6069941869335,
          894.8120083270074,
          894.0242179184801,
          889.6140783201588,
          885.4146273225181,
          883.9213461025616,
          882.4532065976703,
          812.2699690267482,
          811.6446263961881,
          808.5592303244119,
          805.0178969098449,
          812.7679375878366,
          811.6839307736574,
          807.8671255855171,
          807.7972782745506,
          807.1808545070305,
          805.7283017602687,
          804.2930873685497,
          803.562086062907,
          803.1868998938593,
          801.9948076413104,
          801.4544620215604,
          821.0128589655083,
          853.0492234218434,
          847.8336914356637,
          798.9555620469172,
          798.4875582634671,
          844.2940624868924,
          840.6062719242598,
          807.5925420637896,
          782.8667333185646,
          778.2968075802692,
          769.5396759373698,
          768.9699058235587,
          768.7757968474187,
          768.4563456258625,
          766.8941703072736,
          764.4899363885045,
          763.9186245039117,
          763.8605899335612,
          762.4431525200122,
          762.0695834544641,
          761.8635961827051,
          757.4275909847003,
          750.6766975747692,
          741.2169588805319,
          732.5211468932482,
          708.4198074499839,
          689.2242171643366,
          682.5077000702994,
          668.0989729654997,
          654.9674119959301,
          682.1245062399584,
          680.0820041332589,
          679.3387909812006,
          677.758802285187,
          708.9319604963263,
          704.7223826387296,
          702.7737362570745,
          700.8372753107878,
          694.9076167668487,
          693.8741332927789,
          654.800542588719,
          653.2212615484658,
          652.8656926611033,
          652.5195555112084,
          691.0150551509435,
          728.7196761054096,
          724.8323862065794,
          692.2174122475305,
          700.7513793891549,
          691.833783197923,
          690.301532352336,
          703.9563123014703
         ],
         "yaxis": "y"
        },
        {
         "customdata": [
          [
           "Eastside Catholic",
           "2016-17",
           1
          ],
          [
           "Eastside Catholic",
           "2016-17",
           2
          ],
          [
           "Eastside Catholic",
           "2016-17",
           3
          ],
          [
           "Eastside Catholic",
           "2016-17",
           4
          ],
          [
           "Eastside Catholic",
           "2016-17",
           5
          ],
          [
           "Eastside Catholic",
           "2016-17",
           6
          ],
          [
           "Eastside Catholic",
           "2016-17",
           7
          ],
          [
           "Eastside Catholic",
           "2016-17",
           8
          ],
          [
           "Eastside Catholic",
           "2016-17",
           9
          ],
          [
           "Eastside Catholic",
           "2016-17",
           10
          ],
          [
           "Eastside Catholic",
           "2016-17",
           11
          ],
          [
           "Eastside Catholic",
           "2016-17",
           12
          ],
          [
           "Eastside Catholic",
           "2016-17",
           13
          ],
          [
           "Eastside Catholic",
           "2016-17",
           14
          ],
          [
           "Eastside Catholic",
           "2016-17",
           15
          ],
          [
           "Eastside Catholic",
           "2016-17",
           16
          ],
          [
           "Eastside Catholic",
           "2017-18",
           1
          ],
          [
           "Eastside Catholic",
           "2017-18",
           2
          ],
          [
           "Eastside Catholic",
           "2017-18",
           3
          ],
          [
           "Eastside Catholic",
           "2017-18",
           4
          ],
          [
           "Eastside Catholic",
           "2017-18",
           5
          ],
          [
           "Eastside Catholic",
           "2017-18",
           6
          ],
          [
           "Eastside Catholic",
           "2017-18",
           7
          ],
          [
           "Eastside Catholic",
           "2017-18",
           8
          ],
          [
           "Eastside Catholic",
           "2017-18",
           9
          ],
          [
           "Eastside Catholic",
           "2017-18",
           10
          ],
          [
           "Eastside Catholic",
           "2017-18",
           11
          ],
          [
           "Eastside Catholic",
           "2017-18",
           12
          ],
          [
           "Eastside Catholic",
           "2017-18",
           13
          ],
          [
           "Eastside Catholic",
           "2017-18",
           14
          ],
          [
           "Eastside Catholic",
           "2017-18",
           15
          ],
          [
           "Eastside Catholic",
           "2017-18",
           16
          ],
          [
           "Eastside Catholic",
           "2018-19",
           1
          ],
          [
           "Eastside Catholic",
           "2018-19",
           2
          ],
          [
           "Eastside Catholic",
           "2018-19",
           3
          ],
          [
           "Eastside Catholic",
           "2018-19",
           4
          ],
          [
           "Eastside Catholic",
           "2018-19",
           5
          ],
          [
           "Eastside Catholic",
           "2018-19",
           6
          ],
          [
           "Eastside Catholic",
           "2018-19",
           7
          ],
          [
           "Eastside Catholic",
           "2018-19",
           8
          ],
          [
           "Eastside Catholic",
           "2018-19",
           9
          ],
          [
           "Eastside Catholic",
           "2018-19",
           10
          ],
          [
           "Eastside Catholic",
           "2018-19",
           11
          ],
          [
           "Eastside Catholic",
           "2018-19",
           12
          ],
          [
           "Eastside Catholic",
           "2018-19",
           13
          ],
          [
           "Eastside Catholic",
           "2018-19",
           14
          ],
          [
           "Eastside Catholic",
           "2018-19",
           15
          ],
          [
           "Eastside Catholic",
           "2018-19",
           16
          ],
          [
           "Eastside Catholic",
           "2018-19",
           17
          ],
          [
           "Eastside Catholic",
           "2020-21",
           1
          ],
          [
           "Eastside Catholic",
           "2020-21",
           2
          ],
          [
           "Eastside Catholic",
           "2020-21",
           3
          ],
          [
           "Eastside Catholic",
           "2020-21",
           4
          ],
          [
           "Eastside Catholic",
           "2020-21",
           5
          ],
          [
           "Eastside Catholic",
           "2020-21",
           6
          ],
          [
           "Eastside Catholic",
           "2021-22",
           1
          ],
          [
           "Eastside Catholic",
           "2021-22",
           2
          ],
          [
           "Eastside Catholic",
           "2021-22",
           3
          ],
          [
           "Eastside Catholic",
           "2021-22",
           4
          ],
          [
           "Eastside Catholic",
           "2021-22",
           5
          ],
          [
           "Eastside Catholic",
           "2021-22",
           6
          ],
          [
           "Eastside Catholic",
           "2021-22",
           7
          ],
          [
           "Eastside Catholic",
           "2021-22",
           8
          ],
          [
           "Eastside Catholic",
           "2021-22",
           9
          ],
          [
           "Eastside Catholic",
           "2021-22",
           10
          ],
          [
           "Eastside Catholic",
           "2021-22",
           11
          ],
          [
           "Eastside Catholic",
           "2021-22",
           12
          ],
          [
           "Eastside Catholic",
           "2021-22",
           13
          ],
          [
           "Eastside Catholic",
           "2021-22",
           14
          ],
          [
           "Eastside Catholic",
           "2021-22",
           15
          ],
          [
           "Eastside Catholic",
           "2021-22",
           16
          ],
          [
           "Eastside Catholic",
           "2021-22",
           17
          ],
          [
           "Eastside Catholic",
           "2022-23",
           1
          ],
          [
           "Eastside Catholic",
           "2022-23",
           2
          ],
          [
           "Eastside Catholic",
           "2022-23",
           3
          ],
          [
           "Eastside Catholic",
           "2022-23",
           4
          ],
          [
           "Eastside Catholic",
           "2022-23",
           5
          ],
          [
           "Eastside Catholic",
           "2022-23",
           6
          ],
          [
           "Eastside Catholic",
           "2022-23",
           7
          ],
          [
           "Eastside Catholic",
           "2022-23",
           8
          ],
          [
           "Eastside Catholic",
           "2022-23",
           9
          ],
          [
           "Eastside Catholic",
           "2022-23",
           10
          ],
          [
           "Eastside Catholic",
           "2022-23",
           11
          ],
          [
           "Eastside Catholic",
           "2022-23",
           12
          ],
          [
           "Eastside Catholic",
           "2022-23",
           13
          ],
          [
           "Eastside Catholic",
           "2022-23",
           14
          ],
          [
           "Eastside Catholic",
           "2022-23",
           15
          ],
          [
           "Eastside Catholic",
           "2023-24",
           1
          ],
          [
           "Eastside Catholic",
           "2023-24",
           2
          ],
          [
           "Eastside Catholic",
           "2023-24",
           3
          ],
          [
           "Eastside Catholic",
           "2023-24",
           4
          ],
          [
           "Eastside Catholic",
           "2023-24",
           5
          ],
          [
           "Eastside Catholic",
           "2023-24",
           6
          ],
          [
           "Eastside Catholic",
           "2023-24",
           7
          ],
          [
           "Eastside Catholic",
           "2023-24",
           8
          ],
          [
           "Eastside Catholic",
           "2023-24",
           9
          ],
          [
           "Eastside Catholic",
           "2023-24",
           10
          ],
          [
           "Eastside Catholic",
           "2023-24",
           11
          ],
          [
           "Eastside Catholic",
           "2023-24",
           12
          ],
          [
           "Eastside Catholic",
           "2023-24",
           13
          ],
          [
           "Eastside Catholic",
           "2023-24",
           14
          ],
          [
           "Eastside Catholic",
           "2023-24",
           15
          ],
          [
           "Eastside Catholic",
           "2023-24",
           16
          ],
          [
           "Eastside Catholic",
           "2023-24",
           17
          ],
          [
           "Eastside Catholic",
           "2024-25",
           1
          ],
          [
           "Eastside Catholic",
           "2024-25",
           2
          ],
          [
           "Eastside Catholic",
           "2024-25",
           3
          ],
          [
           "Eastside Catholic",
           "2024-25",
           4
          ],
          [
           "Eastside Catholic",
           "2024-25",
           5
          ],
          [
           "Eastside Catholic",
           "2024-25",
           6
          ]
         ],
         "hovertemplate": "Team=%{customdata[0]}<br>Total Matches Played=%{x}<br>ELO Rating=%{y}<br>Season=%{customdata[1]}<br>Season Match #=%{customdata[2]}<extra></extra>",
         "legendgroup": "Eastside Catholic",
         "line": {
          "color": "#19d3f3",
          "dash": "solid"
         },
         "marker": {
          "symbol": "circle"
         },
         "mode": "lines",
         "name": "Eastside Catholic",
         "showlegend": true,
         "type": "scattergl",
         "x": [
          1,
          2,
          3,
          4,
          5,
          6,
          7,
          8,
          9,
          10,
          11,
          12,
          13,
          14,
          15,
          16,
          17,
          18,
          19,
          20,
          21,
          22,
          23,
          24,
          25,
          26,
          27,
          28,
          29,
          30,
          31,
          32,
          33,
          34,
          35,
          36,
          37,
          38,
          39,
          40,
          41,
          42,
          43,
          44,
          45,
          46,
          47,
          48,
          49,
          50,
          51,
          52,
          53,
          54,
          55,
          56,
          57,
          58,
          59,
          60,
          61,
          62,
          63,
          64,
          65,
          66,
          67,
          68,
          69,
          70,
          71,
          72,
          73,
          74,
          75,
          76,
          77,
          78,
          79,
          80,
          81,
          82,
          83,
          84,
          85,
          86,
          87,
          88,
          89,
          90,
          91,
          92,
          93,
          94,
          95,
          96,
          97,
          98,
          99,
          100,
          101,
          102,
          103,
          104,
          105,
          106,
          107,
          108,
          109,
          110
         ],
         "xaxis": "x",
         "y": [
          1440.3906658053347,
          1469.985415755837,
          1447.6276963100845,
          1401.8783893041405,
          1418.878703649025,
          1364.6093967325464,
          1372.469137756428,
          1379.689807592314,
          1371.111920641844,
          1334.4787883044962,
          1325.8971894525812,
          1318.555401244649,
          1311.042344323117,
          1297.945439720059,
          1293.730192731292,
          1277.0135206285536,
          1225.470025988968,
          1306.722015684595,
          1358.3777973748986,
          1338.693423896525,
          1321.114923333486,
          1332.4604618590074,
          1329.1398181451284,
          1302.7933147850338,
          1299.308262756383,
          1354.0893805333394,
          1352.4970991986302,
          1365.391095305727,
          1371.3756314331954,
          1361.3401506700045,
          1371.4396851700365,
          1380.5144332252144,
          1493.107807677594,
          1497.473315677309,
          1468.1227949144486,
          1484.3627522767815,
          1496.4689550907528,
          1501.0628040164358,
          1508.663892716302,
          1502.6010928406129,
          1503.7931850931618,
          1372.703068850578,
          1370.4341650325969,
          1363.170684211181,
          1356.4573019120462,
          1417.6834725553945,
          1431.0511839163316,
          1425.6185866642538,
          1457.527648853035,
          1383.3782437340114,
          1345.5181193982337,
          1492.5426578390627,
          1470.0173571370217,
          1464.0180647871102,
          1398.2346682816433,
          1355.5703208335797,
          1346.7722225945297,
          1358.780761470627,
          1356.8240824513705,
          1326.2361324521137,
          1288.2322886420768,
          1287.0224863207582,
          1271.9648040425143,
          1319.860927623719,
          1328.6180592666185,
          1298.49772061281,
          1315.959024318719,
          1340.426979892642,
          1307.2836511069634,
          1267.1189729149028,
          1280.997504466852,
          1293.465390627966,
          1256.493055328202,
          1312.0754103525862,
          1354.9013522250632,
          1327.2282480757265,
          1337.6813120057925,
          1347.041597557613,
          1355.5131368963414,
          1363.2481867144552,
          1288.7922237874875,
          1304.7878513448402,
          1316.5538953579437,
          1313.4926730371878,
          1305.4893531766852,
          1280.0332045867513,
          1286.7497216807883,
          1306.3671323850936,
          1320.6530030502406,
          1385.8689695371083,
          1387.9503867591206,
          1389.985026334989,
          1429.3966673303478,
          1543.190255113653,
          1541.8519357266907,
          1421.9176085653871,
          1421.0540804287882,
          1479.035778360013,
          1481.8010860130971,
          1484.4855572064023,
          1516.8165581276216,
          1518.7530190739085,
          1538.0908818221262,
          1528.6275774466594,
          1572.375733169639,
          1589.7690667620354,
          1590.152695811643,
          1582.1686291834262,
          1595.5410990590915,
          1598.9138517749757
         ],
         "yaxis": "y"
        },
        {
         "customdata": [
          [
           "Franklin",
           "2016-17",
           1
          ],
          [
           "Franklin",
           "2016-17",
           2
          ],
          [
           "Franklin",
           "2016-17",
           3
          ],
          [
           "Franklin",
           "2016-17",
           4
          ],
          [
           "Franklin",
           "2016-17",
           5
          ],
          [
           "Franklin",
           "2016-17",
           6
          ],
          [
           "Franklin",
           "2016-17",
           7
          ],
          [
           "Franklin",
           "2016-17",
           8
          ],
          [
           "Franklin",
           "2016-17",
           9
          ],
          [
           "Franklin",
           "2016-17",
           10
          ],
          [
           "Franklin",
           "2016-17",
           11
          ],
          [
           "Franklin",
           "2016-17",
           12
          ],
          [
           "Franklin",
           "2016-17",
           13
          ],
          [
           "Franklin",
           "2016-17",
           14
          ],
          [
           "Franklin",
           "2016-17",
           15
          ],
          [
           "Franklin",
           "2016-17",
           16
          ],
          [
           "Franklin",
           "2017-18",
           1
          ],
          [
           "Franklin",
           "2017-18",
           2
          ],
          [
           "Franklin",
           "2017-18",
           3
          ],
          [
           "Franklin",
           "2017-18",
           4
          ],
          [
           "Franklin",
           "2017-18",
           5
          ],
          [
           "Franklin",
           "2017-18",
           6
          ],
          [
           "Franklin",
           "2017-18",
           7
          ],
          [
           "Franklin",
           "2017-18",
           8
          ],
          [
           "Franklin",
           "2017-18",
           9
          ],
          [
           "Franklin",
           "2017-18",
           10
          ],
          [
           "Franklin",
           "2017-18",
           11
          ],
          [
           "Franklin",
           "2017-18",
           12
          ],
          [
           "Franklin",
           "2017-18",
           13
          ],
          [
           "Franklin",
           "2017-18",
           14
          ],
          [
           "Franklin",
           "2017-18",
           15
          ],
          [
           "Franklin",
           "2017-18",
           16
          ],
          [
           "Franklin",
           "2018-19",
           1
          ],
          [
           "Franklin",
           "2018-19",
           2
          ],
          [
           "Franklin",
           "2018-19",
           3
          ],
          [
           "Franklin",
           "2018-19",
           4
          ],
          [
           "Franklin",
           "2018-19",
           5
          ],
          [
           "Franklin",
           "2018-19",
           6
          ],
          [
           "Franklin",
           "2018-19",
           7
          ],
          [
           "Franklin",
           "2018-19",
           8
          ],
          [
           "Franklin",
           "2018-19",
           9
          ],
          [
           "Franklin",
           "2018-19",
           10
          ],
          [
           "Franklin",
           "2018-19",
           11
          ],
          [
           "Franklin",
           "2018-19",
           12
          ],
          [
           "Franklin",
           "2018-19",
           13
          ],
          [
           "Franklin",
           "2018-19",
           14
          ],
          [
           "Franklin",
           "2018-19",
           15
          ],
          [
           "Franklin",
           "2020-21",
           1
          ],
          [
           "Franklin",
           "2020-21",
           2
          ],
          [
           "Franklin",
           "2020-21",
           3
          ],
          [
           "Franklin",
           "2020-21",
           4
          ],
          [
           "Franklin",
           "2020-21",
           5
          ],
          [
           "Franklin",
           "2021-22",
           1
          ],
          [
           "Franklin",
           "2021-22",
           2
          ],
          [
           "Franklin",
           "2021-22",
           3
          ],
          [
           "Franklin",
           "2021-22",
           4
          ],
          [
           "Franklin",
           "2021-22",
           5
          ],
          [
           "Franklin",
           "2021-22",
           6
          ],
          [
           "Franklin",
           "2021-22",
           7
          ],
          [
           "Franklin",
           "2021-22",
           8
          ],
          [
           "Franklin",
           "2021-22",
           9
          ],
          [
           "Franklin",
           "2021-22",
           10
          ],
          [
           "Franklin",
           "2021-22",
           11
          ],
          [
           "Franklin",
           "2021-22",
           12
          ],
          [
           "Franklin",
           "2021-22",
           13
          ],
          [
           "Franklin",
           "2021-22",
           14
          ],
          [
           "Franklin",
           "2021-22",
           15
          ],
          [
           "Franklin",
           "2021-22",
           16
          ],
          [
           "Franklin",
           "2021-22",
           17
          ],
          [
           "Franklin",
           "2022-23",
           1
          ],
          [
           "Franklin",
           "2022-23",
           2
          ],
          [
           "Franklin",
           "2022-23",
           3
          ],
          [
           "Franklin",
           "2022-23",
           4
          ],
          [
           "Franklin",
           "2022-23",
           5
          ],
          [
           "Franklin",
           "2022-23",
           6
          ],
          [
           "Franklin",
           "2022-23",
           7
          ],
          [
           "Franklin",
           "2022-23",
           8
          ],
          [
           "Franklin",
           "2022-23",
           9
          ],
          [
           "Franklin",
           "2022-23",
           10
          ],
          [
           "Franklin",
           "2022-23",
           11
          ],
          [
           "Franklin",
           "2022-23",
           12
          ],
          [
           "Franklin",
           "2022-23",
           13
          ],
          [
           "Franklin",
           "2022-23",
           14
          ],
          [
           "Franklin",
           "2022-23",
           15
          ],
          [
           "Franklin",
           "2023-24",
           1
          ],
          [
           "Franklin",
           "2023-24",
           2
          ],
          [
           "Franklin",
           "2023-24",
           3
          ],
          [
           "Franklin",
           "2023-24",
           4
          ],
          [
           "Franklin",
           "2023-24",
           5
          ],
          [
           "Franklin",
           "2023-24",
           6
          ],
          [
           "Franklin",
           "2023-24",
           7
          ],
          [
           "Franklin",
           "2023-24",
           8
          ],
          [
           "Franklin",
           "2023-24",
           9
          ],
          [
           "Franklin",
           "2023-24",
           10
          ],
          [
           "Franklin",
           "2023-24",
           11
          ],
          [
           "Franklin",
           "2023-24",
           12
          ],
          [
           "Franklin",
           "2023-24",
           13
          ],
          [
           "Franklin",
           "2023-24",
           14
          ],
          [
           "Franklin",
           "2023-24",
           15
          ],
          [
           "Franklin",
           "2023-24",
           16
          ],
          [
           "Franklin",
           "2023-24",
           17
          ],
          [
           "Franklin",
           "2023-24",
           18
          ],
          [
           "Franklin",
           "2024-25",
           1
          ],
          [
           "Franklin",
           "2024-25",
           2
          ],
          [
           "Franklin",
           "2024-25",
           3
          ],
          [
           "Franklin",
           "2024-25",
           4
          ],
          [
           "Franklin",
           "2024-25",
           5
          ],
          [
           "Franklin",
           "2024-25",
           6
          ],
          [
           "Franklin",
           "2024-25",
           7
          ]
         ],
         "hovertemplate": "Team=%{customdata[0]}<br>Total Matches Played=%{x}<br>ELO Rating=%{y}<br>Season=%{customdata[1]}<br>Season Match #=%{customdata[2]}<extra></extra>",
         "legendgroup": "Franklin",
         "line": {
          "color": "#FF6692",
          "dash": "solid"
         },
         "marker": {
          "symbol": "circle"
         },
         "mode": "lines",
         "name": "Franklin",
         "showlegend": true,
         "type": "scattergl",
         "x": [
          1,
          2,
          3,
          4,
          5,
          6,
          7,
          8,
          9,
          10,
          11,
          12,
          13,
          14,
          15,
          16,
          17,
          18,
          19,
          20,
          21,
          22,
          23,
          24,
          25,
          26,
          27,
          28,
          29,
          30,
          31,
          32,
          33,
          34,
          35,
          36,
          37,
          38,
          39,
          40,
          41,
          42,
          43,
          44,
          45,
          46,
          47,
          48,
          49,
          50,
          51,
          52,
          53,
          54,
          55,
          56,
          57,
          58,
          59,
          60,
          61,
          62,
          63,
          64,
          65,
          66,
          67,
          68,
          69,
          70,
          71,
          72,
          73,
          74,
          75,
          76,
          77,
          78,
          79,
          80,
          81,
          82,
          83,
          84,
          85,
          86,
          87,
          88,
          89,
          90,
          91,
          92,
          93,
          94,
          95,
          96,
          97,
          98,
          99,
          100,
          101,
          102,
          103,
          104,
          105,
          106,
          107,
          108,
          109
         ],
         "xaxis": "x",
         "y": [
          1482.2348609205908,
          1428.9759178728568,
          1512.418494613595,
          1488.544723394611,
          1489.631903716215,
          1469.9988309219093,
          1459.9251366762885,
          1468.5067355282035,
          1454.610651870986,
          1477.9654734721764,
          1496.6723840914046,
          1426.5703248066484,
          1429.410536649444,
          1436.6574742579332,
          1431.083308873372,
          1462.4319792293468,
          1480.3134967961223,
          1450.813110010948,
          1361.4111788841992,
          1365.8213184825206,
          1370.020769480161,
          1241.929053854838,
          1237.6044889033158,
          1264.8086284353226,
          1358.0888786283913,
          1306.4330969380876,
          1301.5395303189105,
          1296.2491951494123,
          1286.4664748101366,
          1280.148930319809,
          1271.4013848379157,
          1267.2990748473696,
          1263.5585458607663,
          1202.332375217418,
          1272.684113178712,
          1334.9641619803974,
          1311.402514305353,
          1303.214668255652,
          1385.835729612535,
          1366.4209469171808,
          1248.3062387289244,
          1283.2098484610729,
          1296.811430549188,
          1295.7711859775347,
          1285.2931243698977,
          1316.3549226336409,
          1296.5532184808997,
          1468.1982299269123,
          1370.3716859323322,
          1372.8705859069753,
          1420.8815344514665,
          1398.32329441478,
          1437.762963897325,
          1452.0866078635754,
          1380.4805159987695,
          1345.8286428305516,
          1313.3084088061917,
          1313.9359178631964,
          1294.906647999937,
          1270.438692426014,
          1272.8429263447829,
          1257.7130608770271,
          1449.6855041003816,
          1436.239680672542,
          1417.3720349310745,
          1413.9617978682206,
          1402.2043120499386,
          1420.3054479511352,
          1411.4322947470826,
          1244.515248425755,
          1210.1557006465248,
          1191.2016901641716,
          1156.6770882059757,
          1124.3146005288943,
          1115.8204165536713,
          1108.2440457860562,
          1133.70019437599,
          1135.2801830720036,
          1151.8308214706617,
          1147.9088796827675,
          1131.9132521254153,
          1122.6523882445624,
          1132.3122175642495,
          1145.443778533819,
          1149.3310684326495,
          1191.7047924976723,
          1207.7540201101067,
          1221.4036056456112,
          1211.1947978983353,
          1178.8637969771162,
          1180.0881372840945,
          1169.6130364472513,
          1159.6119051774397,
          1141.2663147088165,
          1126.9804440436692,
          1122.1653283750595,
          1114.8806863889556,
          1110.3930274568695,
          1132.0661653819816,
          1151.248466775591,
          1167.148892485844,
          1163.6081441388103,
          1172.5818483742846,
          1155.3241145945772,
          1203.191794748425,
          1189.8193248727596,
          1227.944574733452,
          1231.1495076457677,
          1240.8235316208015
         ],
         "yaxis": "y"
        },
        {
         "customdata": [
          [
           "Garfield",
           "2016-17",
           1
          ],
          [
           "Garfield",
           "2016-17",
           2
          ],
          [
           "Garfield",
           "2016-17",
           3
          ],
          [
           "Garfield",
           "2016-17",
           4
          ],
          [
           "Garfield",
           "2016-17",
           5
          ],
          [
           "Garfield",
           "2016-17",
           6
          ],
          [
           "Garfield",
           "2016-17",
           7
          ],
          [
           "Garfield",
           "2016-17",
           8
          ],
          [
           "Garfield",
           "2016-17",
           9
          ],
          [
           "Garfield",
           "2016-17",
           10
          ],
          [
           "Garfield",
           "2016-17",
           11
          ],
          [
           "Garfield",
           "2016-17",
           12
          ],
          [
           "Garfield",
           "2016-17",
           13
          ],
          [
           "Garfield",
           "2016-17",
           14
          ],
          [
           "Garfield",
           "2016-17",
           15
          ],
          [
           "Garfield",
           "2016-17",
           16
          ],
          [
           "Garfield",
           "2016-17",
           17
          ],
          [
           "Garfield",
           "2016-17",
           18
          ],
          [
           "Garfield",
           "2016-17",
           19
          ],
          [
           "Garfield",
           "2016-17",
           20
          ],
          [
           "Garfield",
           "2017-18",
           1
          ],
          [
           "Garfield",
           "2017-18",
           2
          ],
          [
           "Garfield",
           "2017-18",
           3
          ],
          [
           "Garfield",
           "2017-18",
           4
          ],
          [
           "Garfield",
           "2017-18",
           5
          ],
          [
           "Garfield",
           "2017-18",
           6
          ],
          [
           "Garfield",
           "2017-18",
           7
          ],
          [
           "Garfield",
           "2017-18",
           8
          ],
          [
           "Garfield",
           "2017-18",
           9
          ],
          [
           "Garfield",
           "2017-18",
           10
          ],
          [
           "Garfield",
           "2017-18",
           11
          ],
          [
           "Garfield",
           "2017-18",
           12
          ],
          [
           "Garfield",
           "2017-18",
           13
          ],
          [
           "Garfield",
           "2017-18",
           14
          ],
          [
           "Garfield",
           "2017-18",
           15
          ],
          [
           "Garfield",
           "2017-18",
           16
          ],
          [
           "Garfield",
           "2017-18",
           17
          ],
          [
           "Garfield",
           "2017-18",
           18
          ],
          [
           "Garfield",
           "2017-18",
           19
          ],
          [
           "Garfield",
           "2017-18",
           20
          ],
          [
           "Garfield",
           "2017-18",
           21
          ],
          [
           "Garfield",
           "2018-19",
           1
          ],
          [
           "Garfield",
           "2018-19",
           2
          ],
          [
           "Garfield",
           "2018-19",
           3
          ],
          [
           "Garfield",
           "2018-19",
           4
          ],
          [
           "Garfield",
           "2018-19",
           5
          ],
          [
           "Garfield",
           "2018-19",
           6
          ],
          [
           "Garfield",
           "2018-19",
           7
          ],
          [
           "Garfield",
           "2018-19",
           8
          ],
          [
           "Garfield",
           "2018-19",
           9
          ],
          [
           "Garfield",
           "2018-19",
           10
          ],
          [
           "Garfield",
           "2018-19",
           11
          ],
          [
           "Garfield",
           "2018-19",
           12
          ],
          [
           "Garfield",
           "2018-19",
           13
          ],
          [
           "Garfield",
           "2018-19",
           14
          ],
          [
           "Garfield",
           "2018-19",
           15
          ],
          [
           "Garfield",
           "2018-19",
           16
          ],
          [
           "Garfield",
           "2020-21",
           1
          ],
          [
           "Garfield",
           "2020-21",
           2
          ],
          [
           "Garfield",
           "2020-21",
           3
          ],
          [
           "Garfield",
           "2020-21",
           4
          ],
          [
           "Garfield",
           "2020-21",
           5
          ],
          [
           "Garfield",
           "2021-22",
           1
          ],
          [
           "Garfield",
           "2021-22",
           2
          ],
          [
           "Garfield",
           "2021-22",
           3
          ],
          [
           "Garfield",
           "2021-22",
           4
          ],
          [
           "Garfield",
           "2021-22",
           5
          ],
          [
           "Garfield",
           "2021-22",
           6
          ],
          [
           "Garfield",
           "2021-22",
           7
          ],
          [
           "Garfield",
           "2021-22",
           8
          ],
          [
           "Garfield",
           "2021-22",
           9
          ],
          [
           "Garfield",
           "2021-22",
           10
          ],
          [
           "Garfield",
           "2021-22",
           11
          ],
          [
           "Garfield",
           "2021-22",
           12
          ],
          [
           "Garfield",
           "2021-22",
           13
          ],
          [
           "Garfield",
           "2021-22",
           14
          ],
          [
           "Garfield",
           "2021-22",
           15
          ],
          [
           "Garfield",
           "2021-22",
           16
          ],
          [
           "Garfield",
           "2021-22",
           17
          ],
          [
           "Garfield",
           "2022-23",
           1
          ],
          [
           "Garfield",
           "2022-23",
           2
          ],
          [
           "Garfield",
           "2022-23",
           3
          ],
          [
           "Garfield",
           "2022-23",
           4
          ],
          [
           "Garfield",
           "2022-23",
           5
          ],
          [
           "Garfield",
           "2022-23",
           6
          ],
          [
           "Garfield",
           "2022-23",
           7
          ],
          [
           "Garfield",
           "2022-23",
           8
          ],
          [
           "Garfield",
           "2022-23",
           9
          ],
          [
           "Garfield",
           "2022-23",
           10
          ],
          [
           "Garfield",
           "2022-23",
           11
          ],
          [
           "Garfield",
           "2022-23",
           12
          ],
          [
           "Garfield",
           "2022-23",
           13
          ],
          [
           "Garfield",
           "2022-23",
           14
          ],
          [
           "Garfield",
           "2022-23",
           15
          ],
          [
           "Garfield",
           "2022-23",
           16
          ],
          [
           "Garfield",
           "2022-23",
           17
          ],
          [
           "Garfield",
           "2023-24",
           1
          ],
          [
           "Garfield",
           "2023-24",
           2
          ],
          [
           "Garfield",
           "2023-24",
           3
          ],
          [
           "Garfield",
           "2023-24",
           4
          ],
          [
           "Garfield",
           "2023-24",
           5
          ],
          [
           "Garfield",
           "2023-24",
           6
          ],
          [
           "Garfield",
           "2023-24",
           7
          ],
          [
           "Garfield",
           "2023-24",
           8
          ],
          [
           "Garfield",
           "2023-24",
           9
          ],
          [
           "Garfield",
           "2023-24",
           10
          ],
          [
           "Garfield",
           "2023-24",
           11
          ],
          [
           "Garfield",
           "2023-24",
           12
          ],
          [
           "Garfield",
           "2023-24",
           13
          ],
          [
           "Garfield",
           "2023-24",
           14
          ],
          [
           "Garfield",
           "2023-24",
           15
          ],
          [
           "Garfield",
           "2023-24",
           16
          ],
          [
           "Garfield",
           "2023-24",
           17
          ],
          [
           "Garfield",
           "2023-24",
           18
          ],
          [
           "Garfield",
           "2023-24",
           19
          ],
          [
           "Garfield",
           "2023-24",
           20
          ],
          [
           "Garfield",
           "2023-24",
           21
          ],
          [
           "Garfield",
           "2023-24",
           22
          ],
          [
           "Garfield",
           "2024-25",
           1
          ],
          [
           "Garfield",
           "2024-25",
           2
          ],
          [
           "Garfield",
           "2024-25",
           3
          ],
          [
           "Garfield",
           "2024-25",
           4
          ],
          [
           "Garfield",
           "2024-25",
           5
          ],
          [
           "Garfield",
           "2024-25",
           6
          ]
         ],
         "hovertemplate": "Team=%{customdata[0]}<br>Total Matches Played=%{x}<br>ELO Rating=%{y}<br>Season=%{customdata[1]}<br>Season Match #=%{customdata[2]}<extra></extra>",
         "legendgroup": "Garfield",
         "line": {
          "color": "#B6E880",
          "dash": "solid"
         },
         "marker": {
          "symbol": "circle"
         },
         "mode": "lines",
         "name": "Garfield",
         "showlegend": true,
         "type": "scattergl",
         "x": [
          1,
          2,
          3,
          4,
          5,
          6,
          7,
          8,
          9,
          10,
          11,
          12,
          13,
          14,
          15,
          16,
          17,
          18,
          19,
          20,
          21,
          22,
          23,
          24,
          25,
          26,
          27,
          28,
          29,
          30,
          31,
          32,
          33,
          34,
          35,
          36,
          37,
          38,
          39,
          40,
          41,
          42,
          43,
          44,
          45,
          46,
          47,
          48,
          49,
          50,
          51,
          52,
          53,
          54,
          55,
          56,
          57,
          58,
          59,
          60,
          61,
          62,
          63,
          64,
          65,
          66,
          67,
          68,
          69,
          70,
          71,
          72,
          73,
          74,
          75,
          76,
          77,
          78,
          79,
          80,
          81,
          82,
          83,
          84,
          85,
          86,
          87,
          88,
          89,
          90,
          91,
          92,
          93,
          94,
          95,
          96,
          97,
          98,
          99,
          100,
          101,
          102,
          103,
          104,
          105,
          106,
          107,
          108,
          109,
          110,
          111,
          112,
          113,
          114,
          115,
          116,
          117,
          118,
          119,
          120,
          121,
          122,
          123,
          124
         ],
         "xaxis": "x",
         "y": [
          1528.7948000157692,
          1443.3045938254086,
          1495.864642830619,
          1508.8997086185648,
          1438.7142037177591,
          1455.5412737559136,
          1502.6781306158755,
          1479.4982397687847,
          1544.648119065767,
          1516.6106611066548,
          1432.629419298097,
          1451.8196302164697,
          1447.4940449557398,
          1467.2954185163892,
          1483.6089752719288,
          1494.1117251310588,
          1496.6185676841171,
          1516.7868906540143,
          1552.1642782383306,
          1606.4335851548094,
          1617.4289398099625,
          1614.8225824649912,
          1615.900486666192,
          1616.96521487086,
          1626.747935210136,
          1761.5329362948887,
          1777.4418044716026,
          1821.28007517372,
          1837.631159113912,
          1786.7654730262348,
          1807.0488635763663,
          1808.641144911076,
          1817.2072557881368,
          1825.1281947700527,
          1632.66153616773,
          1648.289005018902,
          1678.8499221809204,
          1705.2894808888825,
          1752.3832738089204,
          1769.2954005657557,
          1764.4705994764386,
          1842.942950281857,
          1737.9249042902402,
          1698.0855154005028,
          1713.3608385944394,
          1719.3053434623623,
          1705.097817864421,
          1728.851239674104,
          1786.6858093106698,
          1729.9352464882834,
          1725.632160770754,
          1731.2944177476622,
          1771.5963794294137,
          1791.011162124768,
          1770.6435432686517,
          1763.0424545687854,
          1806.9431775764751,
          1661.849485396983,
          1662.317489180433,
          1774.5074880971404,
          1765.236035971196,
          1663.458752961464,
          1667.261575016821,
          1646.776287992834,
          1652.3874088677387,
          1657.6629409412712,
          1631.6277167784085,
          1563.7734978126969,
          1587.1431875833991,
          1608.8845848875112,
          1592.584097699178,
          1593.155409583771,
          1661.840158526831,
          1718.5685365452748,
          1660.872838202473,
          1660.6421674809703,
          1650.5899660456244,
          1644.5901313169345,
          1627.908642251366,
          1582.2322351916964,
          1556.4543644794835,
          1607.6151305761518,
          1630.87853206866,
          1655.8564884955567,
          1622.444382534904,
          1640.3304179493648,
          1644.2523597372583,
          1671.224295856368,
          1658.4713322797334,
          1634.7580980575915,
          1625.0464325183093,
          1617.4183424905796,
          1615.5935590707836,
          1630.474380528568,
          1620.3874111354703,
          1611.1510133601244,
          1657.9934836362538,
          1686.1486728825346,
          1700.54834945032,
          1720.710102998266,
          1729.1429786572642,
          1746.8228857947136,
          1700.8160062540162,
          1697.7136654000226,
          1713.4427593527396,
          1709.0884343339037,
          1738.823008064002,
          1716.5961407157222,
          1696.1498041523462,
          1755.4285799066245,
          1794.9263317721957,
          1811.881053497173,
          1823.550634478413,
          1834.0366700979985,
          1773.194902074994,
          1758.1945971226444,
          1744.7752888225089,
          1735.4836324381822,
          1653.9258971069346,
          1652.5502513260635,
          1643.3942931454303,
          1662.3266740494166,
          1652.8771496305371,
          1633.9771487107382
         ],
         "yaxis": "y"
        },
        {
         "customdata": [
          [
           "Ingraham",
           "2016-17",
           1
          ],
          [
           "Ingraham",
           "2016-17",
           2
          ],
          [
           "Ingraham",
           "2016-17",
           3
          ],
          [
           "Ingraham",
           "2016-17",
           4
          ],
          [
           "Ingraham",
           "2016-17",
           5
          ],
          [
           "Ingraham",
           "2016-17",
           6
          ],
          [
           "Ingraham",
           "2016-17",
           7
          ],
          [
           "Ingraham",
           "2016-17",
           8
          ],
          [
           "Ingraham",
           "2016-17",
           9
          ],
          [
           "Ingraham",
           "2016-17",
           10
          ],
          [
           "Ingraham",
           "2016-17",
           11
          ],
          [
           "Ingraham",
           "2016-17",
           12
          ],
          [
           "Ingraham",
           "2016-17",
           13
          ],
          [
           "Ingraham",
           "2016-17",
           14
          ],
          [
           "Ingraham",
           "2016-17",
           15
          ],
          [
           "Ingraham",
           "2016-17",
           16
          ],
          [
           "Ingraham",
           "2016-17",
           17
          ],
          [
           "Ingraham",
           "2017-18",
           1
          ],
          [
           "Ingraham",
           "2017-18",
           2
          ],
          [
           "Ingraham",
           "2017-18",
           3
          ],
          [
           "Ingraham",
           "2017-18",
           4
          ],
          [
           "Ingraham",
           "2017-18",
           5
          ],
          [
           "Ingraham",
           "2017-18",
           6
          ],
          [
           "Ingraham",
           "2017-18",
           7
          ],
          [
           "Ingraham",
           "2017-18",
           8
          ],
          [
           "Ingraham",
           "2017-18",
           9
          ],
          [
           "Ingraham",
           "2017-18",
           10
          ],
          [
           "Ingraham",
           "2017-18",
           11
          ],
          [
           "Ingraham",
           "2017-18",
           12
          ],
          [
           "Ingraham",
           "2017-18",
           13
          ],
          [
           "Ingraham",
           "2017-18",
           14
          ],
          [
           "Ingraham",
           "2017-18",
           15
          ],
          [
           "Ingraham",
           "2017-18",
           16
          ],
          [
           "Ingraham",
           "2017-18",
           17
          ],
          [
           "Ingraham",
           "2018-19",
           1
          ],
          [
           "Ingraham",
           "2018-19",
           2
          ],
          [
           "Ingraham",
           "2018-19",
           3
          ],
          [
           "Ingraham",
           "2018-19",
           4
          ],
          [
           "Ingraham",
           "2018-19",
           5
          ],
          [
           "Ingraham",
           "2018-19",
           6
          ],
          [
           "Ingraham",
           "2018-19",
           7
          ],
          [
           "Ingraham",
           "2018-19",
           8
          ],
          [
           "Ingraham",
           "2018-19",
           9
          ],
          [
           "Ingraham",
           "2018-19",
           10
          ],
          [
           "Ingraham",
           "2018-19",
           11
          ],
          [
           "Ingraham",
           "2018-19",
           12
          ],
          [
           "Ingraham",
           "2018-19",
           13
          ],
          [
           "Ingraham",
           "2018-19",
           14
          ],
          [
           "Ingraham",
           "2018-19",
           15
          ],
          [
           "Ingraham",
           "2020-21",
           1
          ],
          [
           "Ingraham",
           "2020-21",
           2
          ],
          [
           "Ingraham",
           "2020-21",
           3
          ],
          [
           "Ingraham",
           "2020-21",
           4
          ],
          [
           "Ingraham",
           "2020-21",
           5
          ],
          [
           "Ingraham",
           "2020-21",
           6
          ],
          [
           "Ingraham",
           "2021-22",
           1
          ],
          [
           "Ingraham",
           "2021-22",
           2
          ],
          [
           "Ingraham",
           "2021-22",
           3
          ],
          [
           "Ingraham",
           "2021-22",
           4
          ],
          [
           "Ingraham",
           "2021-22",
           5
          ],
          [
           "Ingraham",
           "2021-22",
           6
          ],
          [
           "Ingraham",
           "2021-22",
           7
          ],
          [
           "Ingraham",
           "2021-22",
           8
          ],
          [
           "Ingraham",
           "2021-22",
           9
          ],
          [
           "Ingraham",
           "2021-22",
           10
          ],
          [
           "Ingraham",
           "2021-22",
           11
          ],
          [
           "Ingraham",
           "2021-22",
           12
          ],
          [
           "Ingraham",
           "2021-22",
           13
          ],
          [
           "Ingraham",
           "2021-22",
           14
          ],
          [
           "Ingraham",
           "2021-22",
           15
          ],
          [
           "Ingraham",
           "2021-22",
           16
          ],
          [
           "Ingraham",
           "2021-22",
           17
          ],
          [
           "Ingraham",
           "2022-23",
           1
          ],
          [
           "Ingraham",
           "2022-23",
           2
          ],
          [
           "Ingraham",
           "2022-23",
           3
          ],
          [
           "Ingraham",
           "2022-23",
           4
          ],
          [
           "Ingraham",
           "2022-23",
           5
          ],
          [
           "Ingraham",
           "2022-23",
           6
          ],
          [
           "Ingraham",
           "2022-23",
           7
          ],
          [
           "Ingraham",
           "2022-23",
           8
          ],
          [
           "Ingraham",
           "2022-23",
           9
          ],
          [
           "Ingraham",
           "2022-23",
           10
          ],
          [
           "Ingraham",
           "2022-23",
           11
          ],
          [
           "Ingraham",
           "2022-23",
           12
          ],
          [
           "Ingraham",
           "2022-23",
           13
          ],
          [
           "Ingraham",
           "2022-23",
           14
          ],
          [
           "Ingraham",
           "2022-23",
           15
          ],
          [
           "Ingraham",
           "2022-23",
           16
          ],
          [
           "Ingraham",
           "2022-23",
           17
          ],
          [
           "Ingraham",
           "2023-24",
           1
          ],
          [
           "Ingraham",
           "2023-24",
           2
          ],
          [
           "Ingraham",
           "2023-24",
           3
          ],
          [
           "Ingraham",
           "2023-24",
           4
          ],
          [
           "Ingraham",
           "2023-24",
           5
          ],
          [
           "Ingraham",
           "2023-24",
           6
          ],
          [
           "Ingraham",
           "2023-24",
           7
          ],
          [
           "Ingraham",
           "2023-24",
           8
          ],
          [
           "Ingraham",
           "2023-24",
           9
          ],
          [
           "Ingraham",
           "2023-24",
           10
          ],
          [
           "Ingraham",
           "2023-24",
           11
          ],
          [
           "Ingraham",
           "2023-24",
           12
          ],
          [
           "Ingraham",
           "2023-24",
           13
          ],
          [
           "Ingraham",
           "2023-24",
           14
          ],
          [
           "Ingraham",
           "2023-24",
           15
          ],
          [
           "Ingraham",
           "2023-24",
           16
          ],
          [
           "Ingraham",
           "2023-24",
           17
          ],
          [
           "Ingraham",
           "2024-25",
           1
          ],
          [
           "Ingraham",
           "2024-25",
           2
          ],
          [
           "Ingraham",
           "2024-25",
           3
          ],
          [
           "Ingraham",
           "2024-25",
           4
          ],
          [
           "Ingraham",
           "2024-25",
           5
          ],
          [
           "Ingraham",
           "2024-25",
           6
          ],
          [
           "Ingraham",
           "2024-25",
           7
          ]
         ],
         "hovertemplate": "Team=%{customdata[0]}<br>Total Matches Played=%{x}<br>ELO Rating=%{y}<br>Season=%{customdata[1]}<br>Season Match #=%{customdata[2]}<extra></extra>",
         "legendgroup": "Ingraham",
         "line": {
          "color": "#FF97FF",
          "dash": "solid"
         },
         "marker": {
          "symbol": "circle"
         },
         "mode": "lines",
         "name": "Ingraham",
         "showlegend": true,
         "type": "scattergl",
         "x": [
          1,
          2,
          3,
          4,
          5,
          6,
          7,
          8,
          9,
          10,
          11,
          12,
          13,
          14,
          15,
          16,
          17,
          18,
          19,
          20,
          21,
          22,
          23,
          24,
          25,
          26,
          27,
          28,
          29,
          30,
          31,
          32,
          33,
          34,
          35,
          36,
          37,
          38,
          39,
          40,
          41,
          42,
          43,
          44,
          45,
          46,
          47,
          48,
          49,
          50,
          51,
          52,
          53,
          54,
          55,
          56,
          57,
          58,
          59,
          60,
          61,
          62,
          63,
          64,
          65,
          66,
          67,
          68,
          69,
          70,
          71,
          72,
          73,
          74,
          75,
          76,
          77,
          78,
          79,
          80,
          81,
          82,
          83,
          84,
          85,
          86,
          87,
          88,
          89,
          90,
          91,
          92,
          93,
          94,
          95,
          96,
          97,
          98,
          99,
          100,
          101,
          102,
          103,
          104,
          105,
          106,
          107,
          108,
          109,
          110,
          111,
          112,
          113
         ],
         "xaxis": "x",
         "y": [
          1308.5951911288623,
          1276.269596491722,
          1251.7427559591413,
          1238.4491559984767,
          1229.1984970715685,
          1254.7330732853218,
          1223.384402929347,
          1238.4002783292185,
          1251.2882849190032,
          1268.0049570217416,
          1447.4399509947896,
          1419.2817467192067,
          1400.4190031072012,
          1390.7912586762263,
          1372.3343993509773,
          1367.0519235701197,
          1350.4637045808302,
          1318.761898794363,
          1286.7367585160544,
          1271.1092896648825,
          1260.1680689436482,
          1316.696911061755,
          1341.5041730273945,
          1409.5075743718949,
          1248.8225304181267,
          1247.5759271630404,
          1242.6783435668628,
          1320.8474800975382,
          1302.724426473946,
          1271.6682253980323,
          1297.038246390564,
          1313.8177722483426,
          1327.9979948764174,
          1324.679488520237,
          1429.309278524636,
          1417.2828528444695,
          1409.829118853451,
          1408.1809565130593,
          1311.8389393295154,
          1276.726338863699,
          1278.1788916104608,
          1375.184197422839,
          1369.2396925549156,
          1360.981811826558,
          1357.73146424858,
          1338.099362986287,
          1330.537309260729,
          1314.297351898396,
          1306.904874425434,
          1289.6489222962095,
          1423.9683001487576,
          1280.0018278376988,
          1316.8791051126757,
          1398.9891620259534,
          1432.3044993058584,
          1467.903678109934,
          1481.3495015377734,
          1437.467622661661,
          1448.6590286823937,
          1425.658889467927,
          1420.360605734765,
          1421.9227810533537,
          1411.296006765938,
          1425.109935009046,
          1403.368537704934,
          1405.3252167241906,
          1384.9564534704543,
          1385.945882106161,
          1382.0578783479714,
          1379.9485432174913,
          1401.0152472860923,
          1418.5386900285853,
          1471.2447421421275,
          1446.1654957289372,
          1442.4774099295137,
          1447.0867757822064,
          1451.4666071462443,
          1452.857254933369,
          1454.2265712687515,
          1462.2298911292542,
          1462.9731042813123,
          1472.2339681621652,
          1442.8301950860514,
          1506.1743170214668,
          1488.288281607006,
          1436.6621901546305,
          1393.8362482821535,
          1428.195796061384,
          1432.631801259389,
          1475.7747165091987,
          1380.3699834522236,
          1385.2765437841829,
          1407.246311625363,
          1387.908448877145,
          1421.0350060178996,
          1445.8278376657056,
          1414.282674842572,
          1450.932975243283,
          1385.7170087564152,
          1410.869894789342,
          1401.213365943512,
          1407.177893182676,
          1412.8022452170007,
          1384.705596858139,
          1388.9151747157357,
          1375.1740508167402,
          1417.7085696746922,
          1414.1161207923,
          1422.710092987909,
          1496.812422748721,
          1514.0701565284285,
          1535.4318169194987,
          1537.088537964747
         ],
         "yaxis": "y"
        },
        {
         "customdata": [
          [
           "Lakeside (Seattle)",
           "2016-17",
           1
          ],
          [
           "Lakeside (Seattle)",
           "2016-17",
           2
          ],
          [
           "Lakeside (Seattle)",
           "2016-17",
           3
          ],
          [
           "Lakeside (Seattle)",
           "2016-17",
           4
          ],
          [
           "Lakeside (Seattle)",
           "2016-17",
           5
          ],
          [
           "Lakeside (Seattle)",
           "2016-17",
           6
          ],
          [
           "Lakeside (Seattle)",
           "2016-17",
           7
          ],
          [
           "Lakeside (Seattle)",
           "2016-17",
           8
          ],
          [
           "Lakeside (Seattle)",
           "2016-17",
           9
          ],
          [
           "Lakeside (Seattle)",
           "2016-17",
           10
          ],
          [
           "Lakeside (Seattle)",
           "2016-17",
           11
          ],
          [
           "Lakeside (Seattle)",
           "2016-17",
           12
          ],
          [
           "Lakeside (Seattle)",
           "2016-17",
           13
          ],
          [
           "Lakeside (Seattle)",
           "2016-17",
           14
          ],
          [
           "Lakeside (Seattle)",
           "2016-17",
           15
          ],
          [
           "Lakeside (Seattle)",
           "2016-17",
           16
          ],
          [
           "Lakeside (Seattle)",
           "2016-17",
           17
          ],
          [
           "Lakeside (Seattle)",
           "2016-17",
           18
          ],
          [
           "Lakeside (Seattle)",
           "2016-17",
           19
          ],
          [
           "Lakeside (Seattle)",
           "2016-17",
           20
          ],
          [
           "Lakeside (Seattle)",
           "2016-17",
           21
          ],
          [
           "Lakeside (Seattle)",
           "2017-18",
           1
          ],
          [
           "Lakeside (Seattle)",
           "2017-18",
           2
          ],
          [
           "Lakeside (Seattle)",
           "2017-18",
           3
          ],
          [
           "Lakeside (Seattle)",
           "2017-18",
           4
          ],
          [
           "Lakeside (Seattle)",
           "2017-18",
           5
          ],
          [
           "Lakeside (Seattle)",
           "2017-18",
           6
          ],
          [
           "Lakeside (Seattle)",
           "2017-18",
           7
          ],
          [
           "Lakeside (Seattle)",
           "2017-18",
           8
          ],
          [
           "Lakeside (Seattle)",
           "2017-18",
           9
          ],
          [
           "Lakeside (Seattle)",
           "2017-18",
           10
          ],
          [
           "Lakeside (Seattle)",
           "2017-18",
           11
          ],
          [
           "Lakeside (Seattle)",
           "2017-18",
           12
          ],
          [
           "Lakeside (Seattle)",
           "2017-18",
           13
          ],
          [
           "Lakeside (Seattle)",
           "2017-18",
           14
          ],
          [
           "Lakeside (Seattle)",
           "2017-18",
           15
          ],
          [
           "Lakeside (Seattle)",
           "2017-18",
           16
          ],
          [
           "Lakeside (Seattle)",
           "2017-18",
           17
          ],
          [
           "Lakeside (Seattle)",
           "2017-18",
           18
          ],
          [
           "Lakeside (Seattle)",
           "2017-18",
           19
          ],
          [
           "Lakeside (Seattle)",
           "2017-18",
           20
          ],
          [
           "Lakeside (Seattle)",
           "2018-19",
           1
          ],
          [
           "Lakeside (Seattle)",
           "2018-19",
           2
          ],
          [
           "Lakeside (Seattle)",
           "2018-19",
           3
          ],
          [
           "Lakeside (Seattle)",
           "2018-19",
           4
          ],
          [
           "Lakeside (Seattle)",
           "2018-19",
           5
          ],
          [
           "Lakeside (Seattle)",
           "2018-19",
           6
          ],
          [
           "Lakeside (Seattle)",
           "2018-19",
           7
          ],
          [
           "Lakeside (Seattle)",
           "2018-19",
           8
          ],
          [
           "Lakeside (Seattle)",
           "2018-19",
           9
          ],
          [
           "Lakeside (Seattle)",
           "2018-19",
           10
          ],
          [
           "Lakeside (Seattle)",
           "2018-19",
           11
          ],
          [
           "Lakeside (Seattle)",
           "2018-19",
           12
          ],
          [
           "Lakeside (Seattle)",
           "2018-19",
           13
          ],
          [
           "Lakeside (Seattle)",
           "2018-19",
           14
          ],
          [
           "Lakeside (Seattle)",
           "2018-19",
           15
          ],
          [
           "Lakeside (Seattle)",
           "2018-19",
           16
          ],
          [
           "Lakeside (Seattle)",
           "2018-19",
           17
          ],
          [
           "Lakeside (Seattle)",
           "2018-19",
           18
          ],
          [
           "Lakeside (Seattle)",
           "2020-21",
           1
          ],
          [
           "Lakeside (Seattle)",
           "2020-21",
           2
          ],
          [
           "Lakeside (Seattle)",
           "2020-21",
           3
          ],
          [
           "Lakeside (Seattle)",
           "2020-21",
           4
          ],
          [
           "Lakeside (Seattle)",
           "2020-21",
           5
          ],
          [
           "Lakeside (Seattle)",
           "2020-21",
           6
          ],
          [
           "Lakeside (Seattle)",
           "2020-21",
           7
          ],
          [
           "Lakeside (Seattle)",
           "2021-22",
           1
          ],
          [
           "Lakeside (Seattle)",
           "2021-22",
           2
          ],
          [
           "Lakeside (Seattle)",
           "2021-22",
           3
          ],
          [
           "Lakeside (Seattle)",
           "2021-22",
           4
          ],
          [
           "Lakeside (Seattle)",
           "2021-22",
           5
          ],
          [
           "Lakeside (Seattle)",
           "2021-22",
           6
          ],
          [
           "Lakeside (Seattle)",
           "2021-22",
           7
          ],
          [
           "Lakeside (Seattle)",
           "2021-22",
           8
          ],
          [
           "Lakeside (Seattle)",
           "2021-22",
           9
          ],
          [
           "Lakeside (Seattle)",
           "2021-22",
           10
          ],
          [
           "Lakeside (Seattle)",
           "2021-22",
           11
          ],
          [
           "Lakeside (Seattle)",
           "2021-22",
           12
          ],
          [
           "Lakeside (Seattle)",
           "2021-22",
           13
          ],
          [
           "Lakeside (Seattle)",
           "2021-22",
           14
          ],
          [
           "Lakeside (Seattle)",
           "2021-22",
           15
          ],
          [
           "Lakeside (Seattle)",
           "2021-22",
           16
          ],
          [
           "Lakeside (Seattle)",
           "2021-22",
           17
          ],
          [
           "Lakeside (Seattle)",
           "2021-22",
           18
          ],
          [
           "Lakeside (Seattle)",
           "2021-22",
           19
          ],
          [
           "Lakeside (Seattle)",
           "2021-22",
           20
          ],
          [
           "Lakeside (Seattle)",
           "2022-23",
           1
          ],
          [
           "Lakeside (Seattle)",
           "2022-23",
           2
          ],
          [
           "Lakeside (Seattle)",
           "2022-23",
           3
          ],
          [
           "Lakeside (Seattle)",
           "2022-23",
           4
          ],
          [
           "Lakeside (Seattle)",
           "2022-23",
           5
          ],
          [
           "Lakeside (Seattle)",
           "2022-23",
           6
          ],
          [
           "Lakeside (Seattle)",
           "2022-23",
           7
          ],
          [
           "Lakeside (Seattle)",
           "2022-23",
           8
          ],
          [
           "Lakeside (Seattle)",
           "2022-23",
           9
          ],
          [
           "Lakeside (Seattle)",
           "2022-23",
           10
          ],
          [
           "Lakeside (Seattle)",
           "2022-23",
           11
          ],
          [
           "Lakeside (Seattle)",
           "2022-23",
           12
          ],
          [
           "Lakeside (Seattle)",
           "2022-23",
           13
          ],
          [
           "Lakeside (Seattle)",
           "2022-23",
           14
          ],
          [
           "Lakeside (Seattle)",
           "2022-23",
           15
          ],
          [
           "Lakeside (Seattle)",
           "2022-23",
           16
          ],
          [
           "Lakeside (Seattle)",
           "2022-23",
           17
          ],
          [
           "Lakeside (Seattle)",
           "2023-24",
           1
          ],
          [
           "Lakeside (Seattle)",
           "2023-24",
           2
          ],
          [
           "Lakeside (Seattle)",
           "2023-24",
           3
          ],
          [
           "Lakeside (Seattle)",
           "2023-24",
           4
          ],
          [
           "Lakeside (Seattle)",
           "2023-24",
           5
          ],
          [
           "Lakeside (Seattle)",
           "2023-24",
           6
          ],
          [
           "Lakeside (Seattle)",
           "2023-24",
           7
          ],
          [
           "Lakeside (Seattle)",
           "2023-24",
           8
          ],
          [
           "Lakeside (Seattle)",
           "2023-24",
           9
          ],
          [
           "Lakeside (Seattle)",
           "2023-24",
           10
          ],
          [
           "Lakeside (Seattle)",
           "2023-24",
           11
          ],
          [
           "Lakeside (Seattle)",
           "2023-24",
           12
          ],
          [
           "Lakeside (Seattle)",
           "2023-24",
           13
          ],
          [
           "Lakeside (Seattle)",
           "2023-24",
           14
          ],
          [
           "Lakeside (Seattle)",
           "2023-24",
           15
          ],
          [
           "Lakeside (Seattle)",
           "2023-24",
           16
          ],
          [
           "Lakeside (Seattle)",
           "2024-25",
           1
          ],
          [
           "Lakeside (Seattle)",
           "2024-25",
           2
          ],
          [
           "Lakeside (Seattle)",
           "2024-25",
           3
          ],
          [
           "Lakeside (Seattle)",
           "2024-25",
           4
          ],
          [
           "Lakeside (Seattle)",
           "2024-25",
           5
          ],
          [
           "Lakeside (Seattle)",
           "2024-25",
           6
          ]
         ],
         "hovertemplate": "Team=%{customdata[0]}<br>Total Matches Played=%{x}<br>ELO Rating=%{y}<br>Season=%{customdata[1]}<br>Season Match #=%{customdata[2]}<extra></extra>",
         "legendgroup": "Lakeside (Seattle)",
         "line": {
          "color": "#FECB52",
          "dash": "solid"
         },
         "marker": {
          "symbol": "circle"
         },
         "mode": "lines",
         "name": "Lakeside (Seattle)",
         "showlegend": true,
         "type": "scattergl",
         "x": [
          1,
          2,
          3,
          4,
          5,
          6,
          7,
          8,
          9,
          10,
          11,
          12,
          13,
          14,
          15,
          16,
          17,
          18,
          19,
          20,
          21,
          22,
          23,
          24,
          25,
          26,
          27,
          28,
          29,
          30,
          31,
          32,
          33,
          34,
          35,
          36,
          37,
          38,
          39,
          40,
          41,
          42,
          43,
          44,
          45,
          46,
          47,
          48,
          49,
          50,
          51,
          52,
          53,
          54,
          55,
          56,
          57,
          58,
          59,
          60,
          61,
          62,
          63,
          64,
          65,
          66,
          67,
          68,
          69,
          70,
          71,
          72,
          73,
          74,
          75,
          76,
          77,
          78,
          79,
          80,
          81,
          82,
          83,
          84,
          85,
          86,
          87,
          88,
          89,
          90,
          91,
          92,
          93,
          94,
          95,
          96,
          97,
          98,
          99,
          100,
          101,
          102,
          103,
          104,
          105,
          106,
          107,
          108,
          109,
          110,
          111,
          112,
          113,
          114,
          115,
          116,
          117,
          118,
          119,
          120,
          121,
          122,
          123,
          124,
          125
         ],
         "xaxis": "x",
         "y": [
          1604.7013681595254,
          1626.9677271772985,
          1598.1310851149246,
          1546.1679194128849,
          1522.3028176267271,
          1571.3056909932864,
          1556.032290437625,
          1575.7709908450925,
          1588.8678954481504,
          1471.2051999842308,
          1556.6954061745914,
          1579.1753898395214,
          1642.767372156722,
          1684.9528056492402,
          1715.3626178819973,
          1662.548502328967,
          1638.9863221755493,
          1656.7514612549585,
          1654.73919146188,
          1671.6139664042018,
          1599.4188923786676,
          1613.1508535932728,
          1626.737786291021,
          1633.0966172776093,
          1627.868078074588,
          1650.7787412514592,
          1651.803368804797,
          1652.8160817978417,
          1664.7479726496117,
          1658.8343716920176,
          1676.4128722550568,
          1664.9268985708268,
          1751.113193735017,
          1770.547230829823,
          1781.488451551057,
          1737.65018084894,
          1701.1814571491516,
          1726.9792024642495,
          1785.8552388951764,
          1756.68783345591,
          1721.786543940985,
          1746.802095986325,
          1754.0655768077409,
          1760.7789591068756,
          1793.1769086319305,
          1801.2965478521537,
          1831.197542944277,
          1860.9415008340652,
          1883.112128336368,
          1886.3624759143463,
          1864.844218819424,
          1824.5876097746807,
          1825.2129524052411,
          1837.4341506689864,
          1839.319962165914,
          1879.1593510556515,
          1865.530252494388,
          1873.718098544089,
          1859.5756937286628,
          1881.540365637424,
          1887.5396579873357,
          1891.876147746461,
          1896.8082074412105,
          1903.3090849811529,
          1918.804144372535,
          1851.926662295904,
          1857.9264970245936,
          1861.3367340874472,
          1848.12542608714,
          1850.9532832119205,
          1858.1519090307584,
          1878.31880301823,
          1768.8020569546263,
          1771.0427833923986,
          1777.603125447136,
          1912.0193677332036,
          1845.8015867660629,
          1798.1055170715915,
          1798.6752871854026,
          1821.675426399869,
          1855.445456252977,
          1860.6785582388663,
          1882.337664950296,
          1889.0398791701127,
          1890.5477602271476,
          1892.0300107436824,
          1810.9254868337723,
          1778.1254132143242,
          1748.9042388815249,
          1776.1474380881314,
          1783.775528115861,
          1753.340967063986,
          1764.421527872145,
          1849.3793668331596,
          1852.4405891539152,
          1775.2072943883084,
          1770.5011402394312,
          1798.7440760386596,
          1797.1632281054135,
          1792.9460266335052,
          1810.482309813919,
          1817.585422141242,
          1843.3708292847568,
          1861.7322455382416,
          1846.820559603864,
          1813.3454487514364,
          1794.2501879604963,
          1918.23015679023,
          1924.2474960369896,
          1821.2625780983317,
          1836.318018711058,
          1819.1490655623163,
          1840.2570675011937,
          1891.726269412333,
          1904.595698758375,
          1873.7267066827728,
          1894.7308958564288,
          1865.6582414163436,
          1928.4946165384808,
          1808.9448531177989,
          1774.2985063307988,
          1729.976884361807,
          1673.9713933277308,
          1651.5528758109328,
          1661.042528439604
         ],
         "yaxis": "y"
        },
        {
         "customdata": [
          [
           "Lincoln (Seattle)",
           "2020-21",
           1
          ],
          [
           "Lincoln (Seattle)",
           "2020-21",
           2
          ],
          [
           "Lincoln (Seattle)",
           "2020-21",
           3
          ],
          [
           "Lincoln (Seattle)",
           "2020-21",
           4
          ],
          [
           "Lincoln (Seattle)",
           "2020-21",
           5
          ],
          [
           "Lincoln (Seattle)",
           "2020-21",
           6
          ],
          [
           "Lincoln (Seattle)",
           "2021-22",
           1
          ],
          [
           "Lincoln (Seattle)",
           "2021-22",
           2
          ],
          [
           "Lincoln (Seattle)",
           "2021-22",
           3
          ],
          [
           "Lincoln (Seattle)",
           "2021-22",
           4
          ],
          [
           "Lincoln (Seattle)",
           "2021-22",
           5
          ],
          [
           "Lincoln (Seattle)",
           "2021-22",
           6
          ],
          [
           "Lincoln (Seattle)",
           "2021-22",
           7
          ],
          [
           "Lincoln (Seattle)",
           "2021-22",
           8
          ],
          [
           "Lincoln (Seattle)",
           "2021-22",
           9
          ],
          [
           "Lincoln (Seattle)",
           "2021-22",
           10
          ],
          [
           "Lincoln (Seattle)",
           "2021-22",
           11
          ],
          [
           "Lincoln (Seattle)",
           "2021-22",
           12
          ],
          [
           "Lincoln (Seattle)",
           "2021-22",
           13
          ],
          [
           "Lincoln (Seattle)",
           "2021-22",
           14
          ],
          [
           "Lincoln (Seattle)",
           "2021-22",
           15
          ],
          [
           "Lincoln (Seattle)",
           "2021-22",
           16
          ],
          [
           "Lincoln (Seattle)",
           "2021-22",
           17
          ],
          [
           "Lincoln (Seattle)",
           "2021-22",
           18
          ],
          [
           "Lincoln (Seattle)",
           "2021-22",
           19
          ],
          [
           "Lincoln (Seattle)",
           "2022-23",
           1
          ],
          [
           "Lincoln (Seattle)",
           "2022-23",
           2
          ],
          [
           "Lincoln (Seattle)",
           "2022-23",
           3
          ],
          [
           "Lincoln (Seattle)",
           "2022-23",
           4
          ],
          [
           "Lincoln (Seattle)",
           "2022-23",
           5
          ],
          [
           "Lincoln (Seattle)",
           "2022-23",
           6
          ],
          [
           "Lincoln (Seattle)",
           "2022-23",
           7
          ],
          [
           "Lincoln (Seattle)",
           "2022-23",
           8
          ],
          [
           "Lincoln (Seattle)",
           "2022-23",
           9
          ],
          [
           "Lincoln (Seattle)",
           "2022-23",
           10
          ],
          [
           "Lincoln (Seattle)",
           "2022-23",
           11
          ],
          [
           "Lincoln (Seattle)",
           "2022-23",
           12
          ],
          [
           "Lincoln (Seattle)",
           "2022-23",
           13
          ],
          [
           "Lincoln (Seattle)",
           "2022-23",
           14
          ],
          [
           "Lincoln (Seattle)",
           "2022-23",
           15
          ],
          [
           "Lincoln (Seattle)",
           "2022-23",
           16
          ],
          [
           "Lincoln (Seattle)",
           "2022-23",
           17
          ],
          [
           "Lincoln (Seattle)",
           "2022-23",
           18
          ],
          [
           "Lincoln (Seattle)",
           "2023-24",
           1
          ],
          [
           "Lincoln (Seattle)",
           "2023-24",
           2
          ],
          [
           "Lincoln (Seattle)",
           "2023-24",
           3
          ],
          [
           "Lincoln (Seattle)",
           "2023-24",
           4
          ],
          [
           "Lincoln (Seattle)",
           "2023-24",
           5
          ],
          [
           "Lincoln (Seattle)",
           "2023-24",
           6
          ],
          [
           "Lincoln (Seattle)",
           "2023-24",
           7
          ],
          [
           "Lincoln (Seattle)",
           "2023-24",
           8
          ],
          [
           "Lincoln (Seattle)",
           "2023-24",
           9
          ],
          [
           "Lincoln (Seattle)",
           "2023-24",
           10
          ],
          [
           "Lincoln (Seattle)",
           "2023-24",
           11
          ],
          [
           "Lincoln (Seattle)",
           "2023-24",
           12
          ],
          [
           "Lincoln (Seattle)",
           "2023-24",
           13
          ],
          [
           "Lincoln (Seattle)",
           "2023-24",
           14
          ],
          [
           "Lincoln (Seattle)",
           "2023-24",
           15
          ],
          [
           "Lincoln (Seattle)",
           "2023-24",
           16
          ],
          [
           "Lincoln (Seattle)",
           "2023-24",
           17
          ],
          [
           "Lincoln (Seattle)",
           "2023-24",
           18
          ],
          [
           "Lincoln (Seattle)",
           "2024-25",
           1
          ],
          [
           "Lincoln (Seattle)",
           "2024-25",
           2
          ],
          [
           "Lincoln (Seattle)",
           "2024-25",
           3
          ],
          [
           "Lincoln (Seattle)",
           "2024-25",
           4
          ]
         ],
         "hovertemplate": "Team=%{customdata[0]}<br>Total Matches Played=%{x}<br>ELO Rating=%{y}<br>Season=%{customdata[1]}<br>Season Match #=%{customdata[2]}<extra></extra>",
         "legendgroup": "Lincoln (Seattle)",
         "line": {
          "color": "#636efa",
          "dash": "solid"
         },
         "marker": {
          "symbol": "circle"
         },
         "mode": "lines",
         "name": "Lincoln (Seattle)",
         "showlegend": true,
         "type": "scattergl",
         "x": [
          1,
          2,
          3,
          4,
          5,
          6,
          7,
          8,
          9,
          10,
          11,
          12,
          13,
          14,
          15,
          16,
          17,
          18,
          19,
          20,
          21,
          22,
          23,
          24,
          25,
          26,
          27,
          28,
          29,
          30,
          31,
          32,
          33,
          34,
          35,
          36,
          37,
          38,
          39,
          40,
          41,
          42,
          43,
          44,
          45,
          46,
          47,
          48,
          49,
          50,
          51,
          52,
          53,
          54,
          55,
          56,
          57,
          58,
          59,
          60,
          61,
          62,
          63,
          64,
          65
         ],
         "xaxis": "x",
         "y": [
          1544.4842939572063,
          1586.5480503086374,
          1493.4991224600576,
          1469.088634029838,
          1462.652572427456,
          1506.3584438585651,
          1631.9183758182808,
          1689.6140741610825,
          1697.731308760044,
          1636.1336040652725,
          1659.0280888761858,
          1677.4313332773254,
          1686.332398204116,
          1665.8300065796602,
          1698.223404344428,
          1698.5428555659842,
          1709.1696298533998,
          1724.2994953211555,
          1739.3571775993992,
          1805.57495856654,
          1856.0868583543308,
          1872.3572368214045,
          1892.112957629676,
          1893.5697453963217,
          1895.0025931418843,
          2034.5749938613487,
          2042.6360311991032,
          2045.646415847693,
          2047.4711992674893,
          2050.139725966289,
          2056.121785954318,
          2061.733650056893,
          2068.623209611182,
          2072.84041108309,
          2055.304127902676,
          2057.114964015287,
          1949.7190806645444,
          1954.9710937090383,
          1970.5956377210616,
          2010.3158446289744,
          2013.5488112629885,
          2024.471985655063,
          2031.8069942591749,
          2058.8892244958693,
          2041.934502770892,
          2003.355450684095,
          2005.3611869924423,
          1984.1411973723,
          1988.7982461319937,
          2019.667238207596,
          2025.431447998199,
          1990.875921492482,
          1998.8820827062048,
          2004.762071851156,
          2026.988939199436,
          2033.812694135948,
          2038.249309082296,
          2016.7190450496555,
          1987.6852194251949,
          1985.8308226094773,
          2002.9997757582191,
          2014.541639901532,
          2003.515869108581,
          1988.688995694729,
          1985.8921027667905
         ],
         "yaxis": "y"
        },
        {
         "customdata": [
          [
           "Nathan Hale",
           "2016-17",
           1
          ],
          [
           "Nathan Hale",
           "2016-17",
           2
          ],
          [
           "Nathan Hale",
           "2016-17",
           3
          ],
          [
           "Nathan Hale",
           "2016-17",
           4
          ],
          [
           "Nathan Hale",
           "2016-17",
           5
          ],
          [
           "Nathan Hale",
           "2016-17",
           6
          ],
          [
           "Nathan Hale",
           "2016-17",
           7
          ],
          [
           "Nathan Hale",
           "2016-17",
           8
          ],
          [
           "Nathan Hale",
           "2016-17",
           9
          ],
          [
           "Nathan Hale",
           "2016-17",
           10
          ],
          [
           "Nathan Hale",
           "2016-17",
           11
          ],
          [
           "Nathan Hale",
           "2016-17",
           12
          ],
          [
           "Nathan Hale",
           "2016-17",
           13
          ],
          [
           "Nathan Hale",
           "2016-17",
           14
          ],
          [
           "Nathan Hale",
           "2016-17",
           15
          ],
          [
           "Nathan Hale",
           "2016-17",
           16
          ],
          [
           "Nathan Hale",
           "2016-17",
           17
          ],
          [
           "Nathan Hale",
           "2017-18",
           1
          ],
          [
           "Nathan Hale",
           "2017-18",
           2
          ],
          [
           "Nathan Hale",
           "2017-18",
           3
          ],
          [
           "Nathan Hale",
           "2017-18",
           4
          ],
          [
           "Nathan Hale",
           "2017-18",
           5
          ],
          [
           "Nathan Hale",
           "2017-18",
           6
          ],
          [
           "Nathan Hale",
           "2017-18",
           7
          ],
          [
           "Nathan Hale",
           "2017-18",
           8
          ],
          [
           "Nathan Hale",
           "2017-18",
           9
          ],
          [
           "Nathan Hale",
           "2017-18",
           10
          ],
          [
           "Nathan Hale",
           "2017-18",
           11
          ],
          [
           "Nathan Hale",
           "2017-18",
           12
          ],
          [
           "Nathan Hale",
           "2017-18",
           13
          ],
          [
           "Nathan Hale",
           "2017-18",
           14
          ],
          [
           "Nathan Hale",
           "2017-18",
           15
          ],
          [
           "Nathan Hale",
           "2017-18",
           16
          ],
          [
           "Nathan Hale",
           "2017-18",
           17
          ],
          [
           "Nathan Hale",
           "2018-19",
           1
          ],
          [
           "Nathan Hale",
           "2018-19",
           2
          ],
          [
           "Nathan Hale",
           "2018-19",
           3
          ],
          [
           "Nathan Hale",
           "2018-19",
           4
          ],
          [
           "Nathan Hale",
           "2018-19",
           5
          ],
          [
           "Nathan Hale",
           "2018-19",
           6
          ],
          [
           "Nathan Hale",
           "2018-19",
           7
          ],
          [
           "Nathan Hale",
           "2018-19",
           8
          ],
          [
           "Nathan Hale",
           "2018-19",
           9
          ],
          [
           "Nathan Hale",
           "2018-19",
           10
          ],
          [
           "Nathan Hale",
           "2018-19",
           11
          ],
          [
           "Nathan Hale",
           "2018-19",
           12
          ],
          [
           "Nathan Hale",
           "2018-19",
           13
          ],
          [
           "Nathan Hale",
           "2018-19",
           14
          ],
          [
           "Nathan Hale",
           "2018-19",
           15
          ],
          [
           "Nathan Hale",
           "2018-19",
           16
          ],
          [
           "Nathan Hale",
           "2018-19",
           17
          ],
          [
           "Nathan Hale",
           "2020-21",
           1
          ],
          [
           "Nathan Hale",
           "2020-21",
           2
          ],
          [
           "Nathan Hale",
           "2020-21",
           3
          ],
          [
           "Nathan Hale",
           "2020-21",
           4
          ],
          [
           "Nathan Hale",
           "2020-21",
           5
          ],
          [
           "Nathan Hale",
           "2021-22",
           1
          ],
          [
           "Nathan Hale",
           "2021-22",
           2
          ],
          [
           "Nathan Hale",
           "2021-22",
           3
          ],
          [
           "Nathan Hale",
           "2021-22",
           4
          ],
          [
           "Nathan Hale",
           "2021-22",
           5
          ],
          [
           "Nathan Hale",
           "2021-22",
           6
          ],
          [
           "Nathan Hale",
           "2021-22",
           7
          ],
          [
           "Nathan Hale",
           "2021-22",
           8
          ],
          [
           "Nathan Hale",
           "2021-22",
           9
          ],
          [
           "Nathan Hale",
           "2021-22",
           10
          ],
          [
           "Nathan Hale",
           "2021-22",
           11
          ],
          [
           "Nathan Hale",
           "2021-22",
           12
          ],
          [
           "Nathan Hale",
           "2021-22",
           13
          ],
          [
           "Nathan Hale",
           "2021-22",
           14
          ],
          [
           "Nathan Hale",
           "2021-22",
           15
          ],
          [
           "Nathan Hale",
           "2021-22",
           16
          ],
          [
           "Nathan Hale",
           "2021-22",
           17
          ],
          [
           "Nathan Hale",
           "2021-22",
           18
          ],
          [
           "Nathan Hale",
           "2022-23",
           1
          ],
          [
           "Nathan Hale",
           "2022-23",
           2
          ],
          [
           "Nathan Hale",
           "2022-23",
           3
          ],
          [
           "Nathan Hale",
           "2022-23",
           4
          ],
          [
           "Nathan Hale",
           "2022-23",
           5
          ],
          [
           "Nathan Hale",
           "2022-23",
           6
          ],
          [
           "Nathan Hale",
           "2022-23",
           7
          ],
          [
           "Nathan Hale",
           "2022-23",
           8
          ],
          [
           "Nathan Hale",
           "2022-23",
           9
          ],
          [
           "Nathan Hale",
           "2022-23",
           10
          ],
          [
           "Nathan Hale",
           "2022-23",
           11
          ],
          [
           "Nathan Hale",
           "2022-23",
           12
          ],
          [
           "Nathan Hale",
           "2022-23",
           13
          ],
          [
           "Nathan Hale",
           "2022-23",
           14
          ],
          [
           "Nathan Hale",
           "2022-23",
           15
          ],
          [
           "Nathan Hale",
           "2022-23",
           16
          ],
          [
           "Nathan Hale",
           "2023-24",
           1
          ],
          [
           "Nathan Hale",
           "2023-24",
           2
          ],
          [
           "Nathan Hale",
           "2023-24",
           3
          ],
          [
           "Nathan Hale",
           "2023-24",
           4
          ],
          [
           "Nathan Hale",
           "2023-24",
           5
          ],
          [
           "Nathan Hale",
           "2023-24",
           6
          ],
          [
           "Nathan Hale",
           "2023-24",
           7
          ],
          [
           "Nathan Hale",
           "2023-24",
           8
          ],
          [
           "Nathan Hale",
           "2023-24",
           9
          ],
          [
           "Nathan Hale",
           "2023-24",
           10
          ],
          [
           "Nathan Hale",
           "2023-24",
           11
          ],
          [
           "Nathan Hale",
           "2023-24",
           12
          ],
          [
           "Nathan Hale",
           "2023-24",
           13
          ],
          [
           "Nathan Hale",
           "2023-24",
           14
          ],
          [
           "Nathan Hale",
           "2023-24",
           15
          ],
          [
           "Nathan Hale",
           "2023-24",
           16
          ],
          [
           "Nathan Hale",
           "2024-25",
           1
          ],
          [
           "Nathan Hale",
           "2024-25",
           2
          ],
          [
           "Nathan Hale",
           "2024-25",
           3
          ],
          [
           "Nathan Hale",
           "2024-25",
           4
          ],
          [
           "Nathan Hale",
           "2024-25",
           5
          ],
          [
           "Nathan Hale",
           "2024-25",
           6
          ],
          [
           "Nathan Hale",
           "2024-25",
           7
          ],
          [
           "Nathan Hale",
           "2024-25",
           8
          ]
         ],
         "hovertemplate": "Team=%{customdata[0]}<br>Total Matches Played=%{x}<br>ELO Rating=%{y}<br>Season=%{customdata[1]}<br>Season Match #=%{customdata[2]}<extra></extra>",
         "legendgroup": "Nathan Hale",
         "line": {
          "color": "#EF553B",
          "dash": "solid"
         },
         "marker": {
          "symbol": "circle"
         },
         "mode": "lines",
         "name": "Nathan Hale",
         "showlegend": true,
         "type": "scattergl",
         "x": [
          1,
          2,
          3,
          4,
          5,
          6,
          7,
          8,
          9,
          10,
          11,
          12,
          13,
          14,
          15,
          16,
          17,
          18,
          19,
          20,
          21,
          22,
          23,
          24,
          25,
          26,
          27,
          28,
          29,
          30,
          31,
          32,
          33,
          34,
          35,
          36,
          37,
          38,
          39,
          40,
          41,
          42,
          43,
          44,
          45,
          46,
          47,
          48,
          49,
          50,
          51,
          52,
          53,
          54,
          55,
          56,
          57,
          58,
          59,
          60,
          61,
          62,
          63,
          64,
          65,
          66,
          67,
          68,
          69,
          70,
          71,
          72,
          73,
          74,
          75,
          76,
          77,
          78,
          79,
          80,
          81,
          82,
          83,
          84,
          85,
          86,
          87,
          88,
          89,
          90,
          91,
          92,
          93,
          94,
          95,
          96,
          97,
          98,
          99,
          100,
          101,
          102,
          103,
          104,
          105,
          106,
          107,
          108,
          109,
          110,
          111,
          112,
          113,
          114
         ],
         "xaxis": "x",
         "y": [
          1552.8141155530302,
          1580.972319828613,
          1609.3926508944191,
          1432.963884000379,
          1395.955638353658,
          1413.959692334998,
          1450.5928246723456,
          1544.2427715974368,
          1515.5387479754704,
          1546.7188745488197,
          1570.3464813488545,
          1631.6915232695003,
          1672.3407697977275,
          1588.8981930569894,
          1557.895127179375,
          1508.892253812816,
          1501.13359208168,
          1517.7593138002333,
          1576.9819233844776,
          1545.2551754165554,
          1546.748456636512,
          1548.2165961414032,
          1552.3189061319492,
          1557.143707221266,
          1535.2903442517938,
          1538.328216842861,
          1563.9846575897968,
          1426.3098665272232,
          1477.8533611668088,
          1468.866009668341,
          1463.7940201908891,
          1413.0370784182674,
          1436.8100230764535,
          1493.6252894109796,
          1532.075595401015,
          1510.41202336768,
          1476.9223948223605,
          1491.0647996377866,
          1498.6268533633445,
          1515.0213141587303,
          1436.718245047338,
          1417.1164406518317,
          1515.3612287247363,
          1518.9025621393034,
          1541.5179376525227,
          1562.0341709705256,
          1538.280749160842,
          1541.0001898646724,
          1458.3791285077891,
          1439.3628748674992,
          1427.2566720535278,
          1351.2280652001275,
          1269.1180082868498,
          1412.7799508927064,
          1410.5686591601868,
          1394.9339366312367,
          1251.0168723856532,
          1288.236682010365,
          1315.4234981148545,
          1314.434069479148,
          1293.0767965746502,
          1440.9331310325626,
          1432.8673656973033,
          1434.2848031108522,
          1418.0144246437785,
          1309.01104553613,
          1382.4683591550877,
          1361.8476529093869,
          1378.14814009772,
          1375.9074136599477,
          1369.3470716052104,
          1357.451482741398,
          1353.8067712546483,
          1407.789802246884,
          1424.6421483392633,
          1409.761326881479,
          1444.199858079582,
          1437.0967457522588,
          1488.7228372046343,
          1493.2991693401643,
          1497.6491440988032,
          1517.0019594104117,
          1475.0521639896083,
          1505.0913473394307,
          1510.6736858106733,
          1504.7860061311956,
          1494.7475218927243,
          1490.2140105787985,
          1487.5454838799983,
          1473.5042143948936,
          1497.995281248698,
          1505.279923234802,
          1509.767582166888,
          1519.4241110127182,
          1522.255992504958,
          1524.9991108956915,
          1431.2752239138583,
          1398.5538935904056,
          1425.7044993427808,
          1484.8742363519816,
          1445.4625953566228,
          1507.4487492147716,
          1517.6575569620477,
          1519.6062033437026,
          1497.6364355025223,
          1489.256921845083,
          1323.6043214305823,
          1347.1418901572874,
          1348.6741410028744,
          1339.1844883742033,
          1329.5104643991697,
          1429.2969482251729,
          1455.0243432841655,
          1424.5005458412172
         ],
         "yaxis": "y"
        },
        {
         "customdata": [
          [
           "O'Dea",
           "2016-17",
           1
          ],
          [
           "O'Dea",
           "2016-17",
           2
          ],
          [
           "O'Dea",
           "2016-17",
           3
          ],
          [
           "O'Dea",
           "2016-17",
           4
          ],
          [
           "O'Dea",
           "2016-17",
           5
          ],
          [
           "O'Dea",
           "2016-17",
           6
          ],
          [
           "O'Dea",
           "2016-17",
           7
          ],
          [
           "O'Dea",
           "2016-17",
           8
          ],
          [
           "O'Dea",
           "2016-17",
           9
          ],
          [
           "O'Dea",
           "2016-17",
           10
          ],
          [
           "O'Dea",
           "2016-17",
           11
          ],
          [
           "O'Dea",
           "2016-17",
           12
          ],
          [
           "O'Dea",
           "2016-17",
           13
          ],
          [
           "O'Dea",
           "2016-17",
           14
          ],
          [
           "O'Dea",
           "2016-17",
           15
          ],
          [
           "O'Dea",
           "2016-17",
           16
          ],
          [
           "O'Dea",
           "2016-17",
           17
          ],
          [
           "O'Dea",
           "2016-17",
           18
          ],
          [
           "O'Dea",
           "2016-17",
           19
          ],
          [
           "O'Dea",
           "2017-18",
           1
          ],
          [
           "O'Dea",
           "2017-18",
           2
          ],
          [
           "O'Dea",
           "2017-18",
           3
          ],
          [
           "O'Dea",
           "2017-18",
           4
          ],
          [
           "O'Dea",
           "2017-18",
           5
          ],
          [
           "O'Dea",
           "2017-18",
           6
          ],
          [
           "O'Dea",
           "2017-18",
           7
          ],
          [
           "O'Dea",
           "2017-18",
           8
          ],
          [
           "O'Dea",
           "2017-18",
           9
          ],
          [
           "O'Dea",
           "2017-18",
           10
          ],
          [
           "O'Dea",
           "2017-18",
           11
          ],
          [
           "O'Dea",
           "2017-18",
           12
          ],
          [
           "O'Dea",
           "2017-18",
           13
          ],
          [
           "O'Dea",
           "2017-18",
           14
          ],
          [
           "O'Dea",
           "2017-18",
           15
          ],
          [
           "O'Dea",
           "2017-18",
           16
          ],
          [
           "O'Dea",
           "2017-18",
           17
          ],
          [
           "O'Dea",
           "2017-18",
           18
          ],
          [
           "O'Dea",
           "2017-18",
           19
          ],
          [
           "O'Dea",
           "2018-19",
           1
          ],
          [
           "O'Dea",
           "2018-19",
           2
          ],
          [
           "O'Dea",
           "2018-19",
           3
          ],
          [
           "O'Dea",
           "2018-19",
           4
          ],
          [
           "O'Dea",
           "2018-19",
           5
          ],
          [
           "O'Dea",
           "2018-19",
           6
          ],
          [
           "O'Dea",
           "2018-19",
           7
          ],
          [
           "O'Dea",
           "2018-19",
           8
          ],
          [
           "O'Dea",
           "2018-19",
           9
          ],
          [
           "O'Dea",
           "2018-19",
           10
          ],
          [
           "O'Dea",
           "2018-19",
           11
          ],
          [
           "O'Dea",
           "2018-19",
           12
          ],
          [
           "O'Dea",
           "2018-19",
           13
          ],
          [
           "O'Dea",
           "2018-19",
           14
          ],
          [
           "O'Dea",
           "2018-19",
           15
          ],
          [
           "O'Dea",
           "2018-19",
           16
          ],
          [
           "O'Dea",
           "2018-19",
           17
          ],
          [
           "O'Dea",
           "2018-19",
           18
          ],
          [
           "O'Dea",
           "2020-21",
           1
          ],
          [
           "O'Dea",
           "2020-21",
           2
          ],
          [
           "O'Dea",
           "2020-21",
           3
          ],
          [
           "O'Dea",
           "2020-21",
           4
          ],
          [
           "O'Dea",
           "2020-21",
           5
          ],
          [
           "O'Dea",
           "2020-21",
           6
          ],
          [
           "O'Dea",
           "2021-22",
           1
          ],
          [
           "O'Dea",
           "2021-22",
           2
          ],
          [
           "O'Dea",
           "2021-22",
           3
          ],
          [
           "O'Dea",
           "2021-22",
           4
          ],
          [
           "O'Dea",
           "2021-22",
           5
          ],
          [
           "O'Dea",
           "2021-22",
           6
          ],
          [
           "O'Dea",
           "2021-22",
           7
          ],
          [
           "O'Dea",
           "2021-22",
           8
          ],
          [
           "O'Dea",
           "2021-22",
           9
          ],
          [
           "O'Dea",
           "2021-22",
           10
          ],
          [
           "O'Dea",
           "2021-22",
           11
          ],
          [
           "O'Dea",
           "2021-22",
           12
          ],
          [
           "O'Dea",
           "2021-22",
           13
          ],
          [
           "O'Dea",
           "2021-22",
           14
          ],
          [
           "O'Dea",
           "2021-22",
           15
          ],
          [
           "O'Dea",
           "2021-22",
           16
          ],
          [
           "O'Dea",
           "2021-22",
           17
          ],
          [
           "O'Dea",
           "2021-22",
           18
          ],
          [
           "O'Dea",
           "2021-22",
           19
          ],
          [
           "O'Dea",
           "2021-22",
           20
          ],
          [
           "O'Dea",
           "2022-23",
           1
          ],
          [
           "O'Dea",
           "2022-23",
           2
          ],
          [
           "O'Dea",
           "2022-23",
           3
          ],
          [
           "O'Dea",
           "2022-23",
           4
          ],
          [
           "O'Dea",
           "2022-23",
           5
          ],
          [
           "O'Dea",
           "2022-23",
           6
          ],
          [
           "O'Dea",
           "2022-23",
           7
          ],
          [
           "O'Dea",
           "2022-23",
           8
          ],
          [
           "O'Dea",
           "2022-23",
           9
          ],
          [
           "O'Dea",
           "2022-23",
           10
          ],
          [
           "O'Dea",
           "2022-23",
           11
          ],
          [
           "O'Dea",
           "2022-23",
           12
          ],
          [
           "O'Dea",
           "2022-23",
           13
          ],
          [
           "O'Dea",
           "2022-23",
           14
          ],
          [
           "O'Dea",
           "2022-23",
           15
          ],
          [
           "O'Dea",
           "2023-24",
           1
          ],
          [
           "O'Dea",
           "2023-24",
           2
          ],
          [
           "O'Dea",
           "2023-24",
           3
          ],
          [
           "O'Dea",
           "2023-24",
           4
          ],
          [
           "O'Dea",
           "2023-24",
           5
          ],
          [
           "O'Dea",
           "2023-24",
           6
          ],
          [
           "O'Dea",
           "2023-24",
           7
          ],
          [
           "O'Dea",
           "2023-24",
           8
          ],
          [
           "O'Dea",
           "2023-24",
           9
          ],
          [
           "O'Dea",
           "2023-24",
           10
          ],
          [
           "O'Dea",
           "2023-24",
           11
          ],
          [
           "O'Dea",
           "2023-24",
           12
          ],
          [
           "O'Dea",
           "2023-24",
           13
          ],
          [
           "O'Dea",
           "2023-24",
           14
          ],
          [
           "O'Dea",
           "2023-24",
           15
          ],
          [
           "O'Dea",
           "2023-24",
           16
          ],
          [
           "O'Dea",
           "2023-24",
           17
          ],
          [
           "O'Dea",
           "2024-25",
           1
          ],
          [
           "O'Dea",
           "2024-25",
           2
          ],
          [
           "O'Dea",
           "2024-25",
           3
          ],
          [
           "O'Dea",
           "2024-25",
           4
          ],
          [
           "O'Dea",
           "2024-25",
           5
          ]
         ],
         "hovertemplate": "Team=%{customdata[0]}<br>Total Matches Played=%{x}<br>ELO Rating=%{y}<br>Season=%{customdata[1]}<br>Season Match #=%{customdata[2]}<extra></extra>",
         "legendgroup": "O'Dea",
         "line": {
          "color": "#00cc96",
          "dash": "solid"
         },
         "marker": {
          "symbol": "circle"
         },
         "mode": "lines",
         "name": "O'Dea",
         "showlegend": true,
         "type": "scattergl",
         "x": [
          1,
          2,
          3,
          4,
          5,
          6,
          7,
          8,
          9,
          10,
          11,
          12,
          13,
          14,
          15,
          16,
          17,
          18,
          19,
          20,
          21,
          22,
          23,
          24,
          25,
          26,
          27,
          28,
          29,
          30,
          31,
          32,
          33,
          34,
          35,
          36,
          37,
          38,
          39,
          40,
          41,
          42,
          43,
          44,
          45,
          46,
          47,
          48,
          49,
          50,
          51,
          52,
          53,
          54,
          55,
          56,
          57,
          58,
          59,
          60,
          61,
          62,
          63,
          64,
          65,
          66,
          67,
          68,
          69,
          70,
          71,
          72,
          73,
          74,
          75,
          76,
          77,
          78,
          79,
          80,
          81,
          82,
          83,
          84,
          85,
          86,
          87,
          88,
          89,
          90,
          91,
          92,
          93,
          94,
          95,
          96,
          97,
          98,
          99,
          100,
          101,
          102,
          103,
          104,
          105,
          106,
          107,
          108,
          109,
          110,
          111,
          112,
          113,
          114,
          115,
          116,
          117,
          118,
          119
         ],
         "xaxis": "x",
         "y": [
          1539.034005921036,
          1538.8173692913476,
          1513.8776528316894,
          1469.5492385248838,
          1748.5159424475105,
          1693.161917799488,
          1697.6165190514891,
          1698.7398929257229,
          1699.8489648124123,
          1704.0642118011797,
          1553.5304803334416,
          1621.7001884147426,
          1620.613008093139,
          1682.5292264078294,
          1701.934520147816,
          1754.9971517960123,
          1770.2705523516736,
          1769.7165488872538,
          1778.967207814162,
          1709.136201278631,
          1714.226396366784,
          1733.382734262485,
          1735.9862595759705,
          1741.2765947454684,
          1641.278785424407,
          1621.8447483296009,
          1626.7423319257784,
          1644.2658968045985,
          1652.5148799371905,
          1760.960968223842,
          1786.5081047917336,
          1789.4457679732834,
          1773.5368997965695,
          1794.7976175463025,
          1739.3480414912883,
          1739.8542066163254,
          1740.3574676747055,
          1727.4650805885972,
          1657.9474771892685,
          1634.5516673118811,
          1672.9673472813156,
          1687.867088368262,
          1657.5958449484267,
          1674.912952044276,
          1684.6242491416226,
          1704.9918679977388,
          1705.3670541667866,
          1657.1991769093213,
          1671.0937894345411,
          1675.953834536267,
          1687.980260216434,
          1655.582310691379,
          1647.462671471156,
          1577.1109335098622,
          1603.1094630653429,
          1624.773035098678,
          1729.4823106498147,
          1730.3299963803606,
          1661.03098726992,
          1733.3186626492345,
          1716.6225158312343,
          1718.2317833957156,
          1672.550550800063,
          1674.685270306799,
          1676.7695147631705,
          1785.9218695355264,
          1789.5665810222758,
          1767.9074743108465,
          1768.1134615826054,
          1748.3577407743342,
          1670.714313168749,
          1703.8452665147297,
          1722.8745363779892,
          1699.504846607287,
          1687.4963077311893,
          1680.297681912351,
          1660.1307879248795,
          1662.7594825974215,
          1710.2487325446632,
          1668.9573410708135,
          1759.446741306849,
          1783.8125344050463,
          1708.637533866421,
          1732.3507680885632,
          1742.0624336278454,
          1752.1009178663164,
          1756.6344291802425,
          1560.5710680083007,
          1565.277222157178,
          1537.0342863579494,
          1540.4741577196546,
          1543.78414640323,
          1787.1149312899245,
          1758.6967873364288,
          1709.4674005403797,
          1656.389659583718,
          1646.6227114266635,
          1533.298110783645,
          1594.1398788066492,
          1591.9673426565898,
          1624.7428922181534,
          1653.815546658239,
          1705.81773401525,
          1779.9364098655562,
          1747.5793983546057,
          1776.613223979066,
          1710.172059034086,
          1689.3182427113354,
          1709.3275213670902,
          1701.321360153367,
          1738.3235876304163,
          1717.4890035661274,
          1711.4716643193676,
          1814.456582258026,
          1747.7587146847222,
          1653.1417250565669,
          1709.147216090643,
          1690.5741134753175,
          1703.565685998892
         ],
         "yaxis": "y"
        },
        {
         "customdata": [
          [
           "Rainier Beach",
           "2016-17",
           1
          ],
          [
           "Rainier Beach",
           "2016-17",
           2
          ],
          [
           "Rainier Beach",
           "2016-17",
           3
          ],
          [
           "Rainier Beach",
           "2016-17",
           4
          ],
          [
           "Rainier Beach",
           "2016-17",
           5
          ],
          [
           "Rainier Beach",
           "2016-17",
           6
          ],
          [
           "Rainier Beach",
           "2016-17",
           7
          ],
          [
           "Rainier Beach",
           "2016-17",
           8
          ],
          [
           "Rainier Beach",
           "2016-17",
           9
          ],
          [
           "Rainier Beach",
           "2016-17",
           10
          ],
          [
           "Rainier Beach",
           "2016-17",
           11
          ],
          [
           "Rainier Beach",
           "2016-17",
           12
          ],
          [
           "Rainier Beach",
           "2016-17",
           13
          ],
          [
           "Rainier Beach",
           "2016-17",
           14
          ],
          [
           "Rainier Beach",
           "2016-17",
           15
          ],
          [
           "Rainier Beach",
           "2016-17",
           16
          ],
          [
           "Rainier Beach",
           "2017-18",
           1
          ],
          [
           "Rainier Beach",
           "2017-18",
           2
          ],
          [
           "Rainier Beach",
           "2017-18",
           3
          ],
          [
           "Rainier Beach",
           "2017-18",
           4
          ],
          [
           "Rainier Beach",
           "2017-18",
           5
          ],
          [
           "Rainier Beach",
           "2017-18",
           6
          ],
          [
           "Rainier Beach",
           "2017-18",
           7
          ],
          [
           "Rainier Beach",
           "2017-18",
           8
          ],
          [
           "Rainier Beach",
           "2017-18",
           9
          ],
          [
           "Rainier Beach",
           "2017-18",
           10
          ],
          [
           "Rainier Beach",
           "2017-18",
           11
          ],
          [
           "Rainier Beach",
           "2017-18",
           12
          ],
          [
           "Rainier Beach",
           "2017-18",
           13
          ],
          [
           "Rainier Beach",
           "2017-18",
           14
          ],
          [
           "Rainier Beach",
           "2017-18",
           15
          ],
          [
           "Rainier Beach",
           "2017-18",
           16
          ],
          [
           "Rainier Beach",
           "2018-19",
           1
          ],
          [
           "Rainier Beach",
           "2018-19",
           2
          ],
          [
           "Rainier Beach",
           "2018-19",
           3
          ],
          [
           "Rainier Beach",
           "2018-19",
           4
          ],
          [
           "Rainier Beach",
           "2018-19",
           5
          ],
          [
           "Rainier Beach",
           "2018-19",
           6
          ],
          [
           "Rainier Beach",
           "2018-19",
           7
          ],
          [
           "Rainier Beach",
           "2018-19",
           8
          ],
          [
           "Rainier Beach",
           "2018-19",
           9
          ],
          [
           "Rainier Beach",
           "2018-19",
           10
          ],
          [
           "Rainier Beach",
           "2018-19",
           11
          ],
          [
           "Rainier Beach",
           "2018-19",
           12
          ],
          [
           "Rainier Beach",
           "2018-19",
           13
          ],
          [
           "Rainier Beach",
           "2018-19",
           14
          ],
          [
           "Rainier Beach",
           "2018-19",
           15
          ],
          [
           "Rainier Beach",
           "2018-19",
           16
          ],
          [
           "Rainier Beach",
           "2020-21",
           1
          ],
          [
           "Rainier Beach",
           "2020-21",
           2
          ],
          [
           "Rainier Beach",
           "2020-21",
           3
          ],
          [
           "Rainier Beach",
           "2020-21",
           4
          ],
          [
           "Rainier Beach",
           "2020-21",
           5
          ],
          [
           "Rainier Beach",
           "2021-22",
           1
          ],
          [
           "Rainier Beach",
           "2021-22",
           2
          ],
          [
           "Rainier Beach",
           "2021-22",
           3
          ],
          [
           "Rainier Beach",
           "2021-22",
           4
          ],
          [
           "Rainier Beach",
           "2021-22",
           5
          ],
          [
           "Rainier Beach",
           "2021-22",
           6
          ],
          [
           "Rainier Beach",
           "2021-22",
           7
          ],
          [
           "Rainier Beach",
           "2021-22",
           8
          ],
          [
           "Rainier Beach",
           "2021-22",
           9
          ],
          [
           "Rainier Beach",
           "2021-22",
           10
          ],
          [
           "Rainier Beach",
           "2021-22",
           11
          ],
          [
           "Rainier Beach",
           "2021-22",
           12
          ],
          [
           "Rainier Beach",
           "2021-22",
           13
          ],
          [
           "Rainier Beach",
           "2021-22",
           14
          ],
          [
           "Rainier Beach",
           "2021-22",
           15
          ],
          [
           "Rainier Beach",
           "2021-22",
           16
          ],
          [
           "Rainier Beach",
           "2021-22",
           17
          ],
          [
           "Rainier Beach",
           "2021-22",
           18
          ],
          [
           "Rainier Beach",
           "2021-22",
           19
          ],
          [
           "Rainier Beach",
           "2021-22",
           20
          ],
          [
           "Rainier Beach",
           "2021-22",
           21
          ],
          [
           "Rainier Beach",
           "2021-22",
           22
          ],
          [
           "Rainier Beach",
           "2021-22",
           23
          ],
          [
           "Rainier Beach",
           "2021-22",
           24
          ],
          [
           "Rainier Beach",
           "2021-22",
           25
          ],
          [
           "Rainier Beach",
           "2021-22",
           26
          ],
          [
           "Rainier Beach",
           "2021-22",
           27
          ],
          [
           "Rainier Beach",
           "2021-22",
           28
          ],
          [
           "Rainier Beach",
           "2021-22",
           29
          ],
          [
           "Rainier Beach",
           "2021-22",
           30
          ],
          [
           "Rainier Beach",
           "2022-23",
           1
          ],
          [
           "Rainier Beach",
           "2022-23",
           2
          ],
          [
           "Rainier Beach",
           "2022-23",
           3
          ],
          [
           "Rainier Beach",
           "2022-23",
           4
          ],
          [
           "Rainier Beach",
           "2022-23",
           5
          ],
          [
           "Rainier Beach",
           "2022-23",
           6
          ],
          [
           "Rainier Beach",
           "2022-23",
           7
          ],
          [
           "Rainier Beach",
           "2022-23",
           8
          ],
          [
           "Rainier Beach",
           "2022-23",
           9
          ],
          [
           "Rainier Beach",
           "2022-23",
           10
          ],
          [
           "Rainier Beach",
           "2022-23",
           11
          ],
          [
           "Rainier Beach",
           "2022-23",
           12
          ],
          [
           "Rainier Beach",
           "2022-23",
           13
          ],
          [
           "Rainier Beach",
           "2022-23",
           14
          ],
          [
           "Rainier Beach",
           "2022-23",
           15
          ],
          [
           "Rainier Beach",
           "2022-23",
           16
          ],
          [
           "Rainier Beach",
           "2022-23",
           17
          ],
          [
           "Rainier Beach",
           "2022-23",
           18
          ],
          [
           "Rainier Beach",
           "2022-23",
           19
          ],
          [
           "Rainier Beach",
           "2022-23",
           20
          ],
          [
           "Rainier Beach",
           "2022-23",
           21
          ],
          [
           "Rainier Beach",
           "2022-23",
           22
          ],
          [
           "Rainier Beach",
           "2022-23",
           23
          ],
          [
           "Rainier Beach",
           "2022-23",
           24
          ],
          [
           "Rainier Beach",
           "2022-23",
           25
          ],
          [
           "Rainier Beach",
           "2022-23",
           26
          ],
          [
           "Rainier Beach",
           "2023-24",
           1
          ],
          [
           "Rainier Beach",
           "2023-24",
           2
          ],
          [
           "Rainier Beach",
           "2023-24",
           3
          ],
          [
           "Rainier Beach",
           "2023-24",
           4
          ],
          [
           "Rainier Beach",
           "2023-24",
           5
          ],
          [
           "Rainier Beach",
           "2023-24",
           6
          ],
          [
           "Rainier Beach",
           "2023-24",
           7
          ],
          [
           "Rainier Beach",
           "2023-24",
           8
          ],
          [
           "Rainier Beach",
           "2023-24",
           9
          ],
          [
           "Rainier Beach",
           "2023-24",
           10
          ],
          [
           "Rainier Beach",
           "2023-24",
           11
          ],
          [
           "Rainier Beach",
           "2023-24",
           12
          ],
          [
           "Rainier Beach",
           "2023-24",
           13
          ],
          [
           "Rainier Beach",
           "2023-24",
           14
          ],
          [
           "Rainier Beach",
           "2023-24",
           15
          ],
          [
           "Rainier Beach",
           "2023-24",
           16
          ],
          [
           "Rainier Beach",
           "2023-24",
           17
          ],
          [
           "Rainier Beach",
           "2023-24",
           18
          ],
          [
           "Rainier Beach",
           "2023-24",
           19
          ],
          [
           "Rainier Beach",
           "2023-24",
           20
          ],
          [
           "Rainier Beach",
           "2023-24",
           21
          ],
          [
           "Rainier Beach",
           "2023-24",
           22
          ],
          [
           "Rainier Beach",
           "2023-24",
           23
          ],
          [
           "Rainier Beach",
           "2023-24",
           24
          ],
          [
           "Rainier Beach",
           "2024-25",
           1
          ],
          [
           "Rainier Beach",
           "2024-25",
           2
          ],
          [
           "Rainier Beach",
           "2024-25",
           3
          ],
          [
           "Rainier Beach",
           "2024-25",
           4
          ],
          [
           "Rainier Beach",
           "2024-25",
           5
          ],
          [
           "Rainier Beach",
           "2024-25",
           6
          ]
         ],
         "hovertemplate": "Team=%{customdata[0]}<br>Total Matches Played=%{x}<br>ELO Rating=%{y}<br>Season=%{customdata[1]}<br>Season Match #=%{customdata[2]}<extra></extra>",
         "legendgroup": "Rainier Beach",
         "line": {
          "color": "#ab63fa",
          "dash": "solid"
         },
         "marker": {
          "symbol": "circle"
         },
         "mode": "lines",
         "name": "Rainier Beach",
         "showlegend": true,
         "type": "scattergl",
         "x": [
          1,
          2,
          3,
          4,
          5,
          6,
          7,
          8,
          9,
          10,
          11,
          12,
          13,
          14,
          15,
          16,
          17,
          18,
          19,
          20,
          21,
          22,
          23,
          24,
          25,
          26,
          27,
          28,
          29,
          30,
          31,
          32,
          33,
          34,
          35,
          36,
          37,
          38,
          39,
          40,
          41,
          42,
          43,
          44,
          45,
          46,
          47,
          48,
          49,
          50,
          51,
          52,
          53,
          54,
          55,
          56,
          57,
          58,
          59,
          60,
          61,
          62,
          63,
          64,
          65,
          66,
          67,
          68,
          69,
          70,
          71,
          72,
          73,
          74,
          75,
          76,
          77,
          78,
          79,
          80,
          81,
          82,
          83,
          84,
          85,
          86,
          87,
          88,
          89,
          90,
          91,
          92,
          93,
          94,
          95,
          96,
          97,
          98,
          99,
          100,
          101,
          102,
          103,
          104,
          105,
          106,
          107,
          108,
          109,
          110,
          111,
          112,
          113,
          114,
          115,
          116,
          117,
          118,
          119,
          120,
          121,
          122,
          123,
          124,
          125,
          126,
          127,
          128,
          129,
          130,
          131,
          132,
          133,
          134,
          135,
          136,
          137,
          138,
          139
         ],
         "xaxis": "x",
         "y": [
          1502.0122697930783,
          1472.2505537116108,
          1443.4183492903217,
          1422.0445229034997,
          1401.685570665796,
          1399.542706206007,
          1379.3743832361097,
          1390.1777954111576,
          1431.588596610446,
          1461.1667028419724,
          1443.1626488606323,
          1456.3859218907387,
          1449.372409859442,
          1432.3720955145573,
          1427.917494262556,
          1402.3829180488028,
          1355.601438577923,
          1231.5411383597414,
          1241.9605509869407,
          1251.293737706594,
          1173.1246011759183,
          1169.0112780811428,
          1114.2301603041865,
          1106.3245595208102,
          1342.0145058801752,
          1336.9243107920222,
          1307.939279495079,
          1296.943924839926,
          1287.2736647446454,
          1279.806113619394,
          1263.862521464289,
          1252.0557601963703,
          1075.262761257067,
          1095.4015372469444,
          1090.5414921452182,
          1088.6556806482906,
          1065.696477926213,
          1083.1579006178858,
          1097.8898879524306,
          1077.3578795397752,
          1069.6078388617834,
          1069.284878635454,
          1104.3974791012704,
          1100.2366976708863,
          1090.7751246770763,
          1110.3769290725827,
          1105.7830801468997,
          1103.5521449293387,
          1163.6732844578976,
          1116.2572659224415,
          1109.5730970219722,
          1162.8255987273517,
          1130.7892342710163,
          1120.457199834062,
          1113.9028121666215,
          1107.3726137130377,
          1101.2428889290766,
          1080.1761848604756,
          1062.6527421179826,
          1059.913949416729,
          1057.2573446889717,
          1043.3788131370225,
          1030.9109269759083,
          1029.403045918874,
          1027.9207954023393,
          1026.4640076356934,
          1025.0311598901303,
          1109.2402729897149,
          1108.9087183082463,
          1141.9224481687168,
          1166.648256913942,
          1161.0948979078505,
          1155.8705087769292,
          1190.5223819451471,
          1223.042615969507,
          1217.4314950946025,
          1212.1559630210695,
          1174.936153396358,
          1147.7493372918684,
          1145.6146177851324,
          1143.5303733287612,
          1135.187302812743,
          1127.5352401016123,
          1021.5912885284254,
          1018.28129984485,
          1037.5999010911207,
          1055.7281600757335,
          1042.370033015667,
          1030.731407950551,
          1029.3611124278304,
          1028.0119034800375,
          1023.4355713445076,
          1019.0855965858684,
          1008.6325326558024,
          999.272247103982,
          990.8007077652536,
          983.0656579471396,
          978.456292094447,
          974.076460730409,
          972.6858129432844,
          971.3164966079016,
          1005.8410985660978,
          1038.203586243179,
          1046.697770218402,
          1054.274140986017,
          1063.7338796802542,
          1072.429691667538,
          1096.5310311108024,
          1115.7266213964497,
          1077.2311217567146,
          1039.5265008022486,
          1017.8533628771364,
          998.6710614835272,
          992.7065342443628,
          987.0821822100384,
          924.5887450071692,
          921.9042738138638,
          915.2820273002044,
          909.0704133631084,
          905.2304448281286,
          901.5514494154612,
          984.3351754028508,
          981.6717881883028,
          979.5903709662904,
          977.5557313904222,
          975.111142882972,
          972.7303586586085,
          969.8984771663688,
          967.1553587756352,
          951.1061311632008,
          937.4565456276962,
          932.2606129922128,
          927.3540526602536,
          876.6421365192455,
          862.9873565701112,
          898.125554583341,
          896.0510162149681,
          892.984832431974,
          880.0148892351292
         ],
         "yaxis": "y"
        },
        {
         "customdata": [
          [
           "Roosevelt",
           "2016-17",
           1
          ],
          [
           "Roosevelt",
           "2016-17",
           2
          ],
          [
           "Roosevelt",
           "2016-17",
           3
          ],
          [
           "Roosevelt",
           "2016-17",
           4
          ],
          [
           "Roosevelt",
           "2016-17",
           5
          ],
          [
           "Roosevelt",
           "2016-17",
           6
          ],
          [
           "Roosevelt",
           "2016-17",
           7
          ],
          [
           "Roosevelt",
           "2016-17",
           8
          ],
          [
           "Roosevelt",
           "2016-17",
           9
          ],
          [
           "Roosevelt",
           "2016-17",
           10
          ],
          [
           "Roosevelt",
           "2016-17",
           11
          ],
          [
           "Roosevelt",
           "2016-17",
           12
          ],
          [
           "Roosevelt",
           "2016-17",
           13
          ],
          [
           "Roosevelt",
           "2016-17",
           14
          ],
          [
           "Roosevelt",
           "2016-17",
           15
          ],
          [
           "Roosevelt",
           "2016-17",
           16
          ],
          [
           "Roosevelt",
           "2016-17",
           17
          ],
          [
           "Roosevelt",
           "2016-17",
           18
          ],
          [
           "Roosevelt",
           "2016-17",
           19
          ],
          [
           "Roosevelt",
           "2016-17",
           20
          ],
          [
           "Roosevelt",
           "2016-17",
           21
          ],
          [
           "Roosevelt",
           "2017-18",
           1
          ],
          [
           "Roosevelt",
           "2017-18",
           2
          ],
          [
           "Roosevelt",
           "2017-18",
           3
          ],
          [
           "Roosevelt",
           "2017-18",
           4
          ],
          [
           "Roosevelt",
           "2017-18",
           5
          ],
          [
           "Roosevelt",
           "2017-18",
           6
          ],
          [
           "Roosevelt",
           "2017-18",
           7
          ],
          [
           "Roosevelt",
           "2017-18",
           8
          ],
          [
           "Roosevelt",
           "2017-18",
           9
          ],
          [
           "Roosevelt",
           "2017-18",
           10
          ],
          [
           "Roosevelt",
           "2017-18",
           11
          ],
          [
           "Roosevelt",
           "2017-18",
           12
          ],
          [
           "Roosevelt",
           "2017-18",
           13
          ],
          [
           "Roosevelt",
           "2017-18",
           14
          ],
          [
           "Roosevelt",
           "2017-18",
           15
          ],
          [
           "Roosevelt",
           "2017-18",
           16
          ],
          [
           "Roosevelt",
           "2017-18",
           17
          ],
          [
           "Roosevelt",
           "2017-18",
           18
          ],
          [
           "Roosevelt",
           "2017-18",
           19
          ],
          [
           "Roosevelt",
           "2017-18",
           20
          ],
          [
           "Roosevelt",
           "2018-19",
           1
          ],
          [
           "Roosevelt",
           "2018-19",
           2
          ],
          [
           "Roosevelt",
           "2018-19",
           3
          ],
          [
           "Roosevelt",
           "2018-19",
           4
          ],
          [
           "Roosevelt",
           "2018-19",
           5
          ],
          [
           "Roosevelt",
           "2018-19",
           6
          ],
          [
           "Roosevelt",
           "2018-19",
           7
          ],
          [
           "Roosevelt",
           "2018-19",
           8
          ],
          [
           "Roosevelt",
           "2018-19",
           9
          ],
          [
           "Roosevelt",
           "2018-19",
           10
          ],
          [
           "Roosevelt",
           "2018-19",
           11
          ],
          [
           "Roosevelt",
           "2018-19",
           12
          ],
          [
           "Roosevelt",
           "2018-19",
           13
          ],
          [
           "Roosevelt",
           "2018-19",
           14
          ],
          [
           "Roosevelt",
           "2018-19",
           15
          ],
          [
           "Roosevelt",
           "2018-19",
           16
          ],
          [
           "Roosevelt",
           "2018-19",
           17
          ],
          [
           "Roosevelt",
           "2018-19",
           18
          ],
          [
           "Roosevelt",
           "2020-21",
           1
          ],
          [
           "Roosevelt",
           "2020-21",
           2
          ],
          [
           "Roosevelt",
           "2020-21",
           3
          ],
          [
           "Roosevelt",
           "2020-21",
           4
          ],
          [
           "Roosevelt",
           "2020-21",
           5
          ],
          [
           "Roosevelt",
           "2020-21",
           6
          ],
          [
           "Roosevelt",
           "2021-22",
           1
          ],
          [
           "Roosevelt",
           "2021-22",
           2
          ],
          [
           "Roosevelt",
           "2021-22",
           3
          ],
          [
           "Roosevelt",
           "2021-22",
           4
          ],
          [
           "Roosevelt",
           "2021-22",
           5
          ],
          [
           "Roosevelt",
           "2021-22",
           6
          ],
          [
           "Roosevelt",
           "2021-22",
           7
          ],
          [
           "Roosevelt",
           "2021-22",
           8
          ],
          [
           "Roosevelt",
           "2021-22",
           9
          ],
          [
           "Roosevelt",
           "2021-22",
           10
          ],
          [
           "Roosevelt",
           "2021-22",
           11
          ],
          [
           "Roosevelt",
           "2021-22",
           12
          ],
          [
           "Roosevelt",
           "2021-22",
           13
          ],
          [
           "Roosevelt",
           "2021-22",
           14
          ],
          [
           "Roosevelt",
           "2021-22",
           15
          ],
          [
           "Roosevelt",
           "2021-22",
           16
          ],
          [
           "Roosevelt",
           "2021-22",
           17
          ],
          [
           "Roosevelt",
           "2022-23",
           1
          ],
          [
           "Roosevelt",
           "2022-23",
           2
          ],
          [
           "Roosevelt",
           "2022-23",
           3
          ],
          [
           "Roosevelt",
           "2022-23",
           4
          ],
          [
           "Roosevelt",
           "2022-23",
           5
          ],
          [
           "Roosevelt",
           "2022-23",
           6
          ],
          [
           "Roosevelt",
           "2022-23",
           7
          ],
          [
           "Roosevelt",
           "2022-23",
           8
          ],
          [
           "Roosevelt",
           "2022-23",
           9
          ],
          [
           "Roosevelt",
           "2022-23",
           10
          ],
          [
           "Roosevelt",
           "2022-23",
           11
          ],
          [
           "Roosevelt",
           "2022-23",
           12
          ],
          [
           "Roosevelt",
           "2022-23",
           13
          ],
          [
           "Roosevelt",
           "2022-23",
           14
          ],
          [
           "Roosevelt",
           "2022-23",
           15
          ],
          [
           "Roosevelt",
           "2022-23",
           16
          ],
          [
           "Roosevelt",
           "2023-24",
           1
          ],
          [
           "Roosevelt",
           "2023-24",
           2
          ],
          [
           "Roosevelt",
           "2023-24",
           3
          ],
          [
           "Roosevelt",
           "2023-24",
           4
          ],
          [
           "Roosevelt",
           "2023-24",
           5
          ],
          [
           "Roosevelt",
           "2023-24",
           6
          ],
          [
           "Roosevelt",
           "2023-24",
           7
          ],
          [
           "Roosevelt",
           "2023-24",
           8
          ],
          [
           "Roosevelt",
           "2023-24",
           9
          ],
          [
           "Roosevelt",
           "2023-24",
           10
          ],
          [
           "Roosevelt",
           "2023-24",
           11
          ],
          [
           "Roosevelt",
           "2023-24",
           12
          ],
          [
           "Roosevelt",
           "2023-24",
           13
          ],
          [
           "Roosevelt",
           "2023-24",
           14
          ],
          [
           "Roosevelt",
           "2023-24",
           15
          ],
          [
           "Roosevelt",
           "2023-24",
           16
          ],
          [
           "Roosevelt",
           "2023-24",
           17
          ],
          [
           "Roosevelt",
           "2023-24",
           18
          ],
          [
           "Roosevelt",
           "2023-24",
           19
          ],
          [
           "Roosevelt",
           "2024-25",
           1
          ],
          [
           "Roosevelt",
           "2024-25",
           2
          ],
          [
           "Roosevelt",
           "2024-25",
           3
          ],
          [
           "Roosevelt",
           "2024-25",
           4
          ],
          [
           "Roosevelt",
           "2024-25",
           5
          ],
          [
           "Roosevelt",
           "2024-25",
           6
          ]
         ],
         "hovertemplate": "Team=%{customdata[0]}<br>Total Matches Played=%{x}<br>ELO Rating=%{y}<br>Season=%{customdata[1]}<br>Season Match #=%{customdata[2]}<extra></extra>",
         "legendgroup": "Roosevelt",
         "line": {
          "color": "#FFA15A",
          "dash": "solid"
         },
         "marker": {
          "symbol": "circle"
         },
         "mode": "lines",
         "name": "Roosevelt",
         "showlegend": true,
         "type": "scattergl",
         "x": [
          1,
          2,
          3,
          4,
          5,
          6,
          7,
          8,
          9,
          10,
          11,
          12,
          13,
          14,
          15,
          16,
          17,
          18,
          19,
          20,
          21,
          22,
          23,
          24,
          25,
          26,
          27,
          28,
          29,
          30,
          31,
          32,
          33,
          34,
          35,
          36,
          37,
          38,
          39,
          40,
          41,
          42,
          43,
          44,
          45,
          46,
          47,
          48,
          49,
          50,
          51,
          52,
          53,
          54,
          55,
          56,
          57,
          58,
          59,
          60,
          61,
          62,
          63,
          64,
          65,
          66,
          67,
          68,
          69,
          70,
          71,
          72,
          73,
          74,
          75,
          76,
          77,
          78,
          79,
          80,
          81,
          82,
          83,
          84,
          85,
          86,
          87,
          88,
          89,
          90,
          91,
          92,
          93,
          94,
          95,
          96,
          97,
          98,
          99,
          100,
          101,
          102,
          103,
          104,
          105,
          106,
          107,
          108,
          109,
          110,
          111,
          112,
          113,
          114,
          115,
          116,
          117,
          118,
          119,
          120,
          121,
          122,
          123
         ],
         "xaxis": "x",
         "y": [
          1477.52001633507,
          1517.435188717502,
          1537.555689972749,
          1546.9650999087844,
          1673.9503387557188,
          1691.4484680105038,
          1702.9562432651423,
          1718.3444223160657,
          1722.6700075767956,
          1723.906775815242,
          1725.126236402442,
          1733.704123352912,
          1570.1449907558751,
          1572.7149596244208,
          1555.2296674704182,
          1578.0577914049202,
          1578.1690950229668,
          1602.0341968091243,
          1631.7360785433996,
          1631.952715173088,
          1645.2463151337524,
          1753.696332149943,
          1757.763339292265,
          1769.4606432716248,
          1782.3530303577331,
          1811.5204357969997,
          1846.4217253119243,
          1849.7402316681048,
          1943.0429660708955,
          1948.919565067036,
          1853.060875381984,
          1857.17419847676,
          1840.8231145365676,
          1891.6888006242448,
          1871.405410074113,
          1901.0186808013905,
          1912.8485407671235,
          1917.1731057186455,
          1917.6310346591304,
          1918.0865648451272,
          1939.9399278145995,
          1949.959809638689,
          1958.7331095649736,
          1961.0020133829548,
          1966.6580718532432,
          2016.881835966824,
          2019.7679334035136,
          1997.1525578902945,
          1997.475518116624,
          2001.7786038341528,
          2001.8484511451195,
          1986.6204158446744,
          1988.86573333796,
          1996.3194673289784,
          2000.1640786406315,
          1998.7982715352289,
          1976.627644032926,
          2006.898887452761,
          2016.082512898268,
          2003.3629976555328,
          2005.5742893880524,
          1983.0822292055243,
          1991.4184283626253,
          2007.8839577268984,
          2016.6846196615184,
          2022.662118228819,
          2028.0835347188092,
          2030.4846384820032,
          2031.877242748459,
          2032.2100667807165,
          2032.5416214621848,
          2010.41022839424,
          2011.4811238370853,
          2017.5363254315068,
          1985.142927666739,
          1985.337036642879,
          1990.635320376041,
          1991.84512269736,
          1971.8557657078384,
          1945.0241011074704,
          1921.0491489596432,
          1929.1149142949023,
          1874.3984267722424,
          1799.5480256922046,
          1743.182580779522,
          1679.5734154993058,
          1572.332782970373,
          1541.852280860691,
          1594.9128891291691,
          1608.0765457649054,
          1585.046545941143,
          1671.098189359506,
          1698.3365708934818,
          1682.7106727979303,
          1713.1452338498054,
          1707.1631738617766,
          1701.551309759201,
          1641.6025743830116,
          1651.0658787584784,
          1611.5681268929077,
          1662.1664139251343,
          1649.2969845790926,
          1589.479429482653,
          1569.470150826898,
          1600.0899529524638,
          1572.23215251178,
          1567.795537565432,
          1591.4063733449616,
          1582.9734976859634,
          1592.3777721833342,
          1590.372035874987,
          1611.5920254951295,
          1633.573803443517,
          1635.746339593576,
          1647.8493192392475,
          1662.761005173626,
          1696.2361160260532,
          1531.7508341099658,
          1554.1693516267635,
          1606.3829053922316,
          1563.325309807397,
          1555.2923950743973,
          1591.5560319783797
         ],
         "yaxis": "y"
        },
        {
         "customdata": [
          [
           "Seattle Prep",
           "2016-17",
           1
          ],
          [
           "Seattle Prep",
           "2016-17",
           2
          ],
          [
           "Seattle Prep",
           "2016-17",
           3
          ],
          [
           "Seattle Prep",
           "2016-17",
           4
          ],
          [
           "Seattle Prep",
           "2016-17",
           5
          ],
          [
           "Seattle Prep",
           "2016-17",
           6
          ],
          [
           "Seattle Prep",
           "2016-17",
           7
          ],
          [
           "Seattle Prep",
           "2016-17",
           8
          ],
          [
           "Seattle Prep",
           "2016-17",
           9
          ],
          [
           "Seattle Prep",
           "2016-17",
           10
          ],
          [
           "Seattle Prep",
           "2016-17",
           11
          ],
          [
           "Seattle Prep",
           "2016-17",
           12
          ],
          [
           "Seattle Prep",
           "2016-17",
           13
          ],
          [
           "Seattle Prep",
           "2016-17",
           14
          ],
          [
           "Seattle Prep",
           "2016-17",
           15
          ],
          [
           "Seattle Prep",
           "2016-17",
           16
          ],
          [
           "Seattle Prep",
           "2016-17",
           17
          ],
          [
           "Seattle Prep",
           "2016-17",
           18
          ],
          [
           "Seattle Prep",
           "2016-17",
           19
          ],
          [
           "Seattle Prep",
           "2017-18",
           1
          ],
          [
           "Seattle Prep",
           "2017-18",
           2
          ],
          [
           "Seattle Prep",
           "2017-18",
           3
          ],
          [
           "Seattle Prep",
           "2017-18",
           4
          ],
          [
           "Seattle Prep",
           "2017-18",
           5
          ],
          [
           "Seattle Prep",
           "2017-18",
           6
          ],
          [
           "Seattle Prep",
           "2017-18",
           7
          ],
          [
           "Seattle Prep",
           "2017-18",
           8
          ],
          [
           "Seattle Prep",
           "2017-18",
           9
          ],
          [
           "Seattle Prep",
           "2017-18",
           10
          ],
          [
           "Seattle Prep",
           "2017-18",
           11
          ],
          [
           "Seattle Prep",
           "2017-18",
           12
          ],
          [
           "Seattle Prep",
           "2017-18",
           13
          ],
          [
           "Seattle Prep",
           "2017-18",
           14
          ],
          [
           "Seattle Prep",
           "2017-18",
           15
          ],
          [
           "Seattle Prep",
           "2017-18",
           16
          ],
          [
           "Seattle Prep",
           "2017-18",
           17
          ],
          [
           "Seattle Prep",
           "2018-19",
           1
          ],
          [
           "Seattle Prep",
           "2018-19",
           2
          ],
          [
           "Seattle Prep",
           "2018-19",
           3
          ],
          [
           "Seattle Prep",
           "2018-19",
           4
          ],
          [
           "Seattle Prep",
           "2018-19",
           5
          ],
          [
           "Seattle Prep",
           "2018-19",
           6
          ],
          [
           "Seattle Prep",
           "2018-19",
           7
          ],
          [
           "Seattle Prep",
           "2018-19",
           8
          ],
          [
           "Seattle Prep",
           "2018-19",
           9
          ],
          [
           "Seattle Prep",
           "2018-19",
           10
          ],
          [
           "Seattle Prep",
           "2018-19",
           11
          ],
          [
           "Seattle Prep",
           "2018-19",
           12
          ],
          [
           "Seattle Prep",
           "2018-19",
           13
          ],
          [
           "Seattle Prep",
           "2018-19",
           14
          ],
          [
           "Seattle Prep",
           "2018-19",
           15
          ],
          [
           "Seattle Prep",
           "2018-19",
           16
          ],
          [
           "Seattle Prep",
           "2020-21",
           1
          ],
          [
           "Seattle Prep",
           "2020-21",
           2
          ],
          [
           "Seattle Prep",
           "2020-21",
           3
          ],
          [
           "Seattle Prep",
           "2020-21",
           4
          ],
          [
           "Seattle Prep",
           "2020-21",
           5
          ],
          [
           "Seattle Prep",
           "2021-22",
           1
          ],
          [
           "Seattle Prep",
           "2021-22",
           2
          ],
          [
           "Seattle Prep",
           "2021-22",
           3
          ],
          [
           "Seattle Prep",
           "2021-22",
           4
          ],
          [
           "Seattle Prep",
           "2021-22",
           5
          ],
          [
           "Seattle Prep",
           "2021-22",
           6
          ],
          [
           "Seattle Prep",
           "2021-22",
           7
          ],
          [
           "Seattle Prep",
           "2021-22",
           8
          ],
          [
           "Seattle Prep",
           "2021-22",
           9
          ],
          [
           "Seattle Prep",
           "2021-22",
           10
          ],
          [
           "Seattle Prep",
           "2021-22",
           11
          ],
          [
           "Seattle Prep",
           "2021-22",
           12
          ],
          [
           "Seattle Prep",
           "2021-22",
           13
          ],
          [
           "Seattle Prep",
           "2021-22",
           14
          ],
          [
           "Seattle Prep",
           "2021-22",
           15
          ],
          [
           "Seattle Prep",
           "2021-22",
           16
          ],
          [
           "Seattle Prep",
           "2021-22",
           17
          ],
          [
           "Seattle Prep",
           "2021-22",
           18
          ],
          [
           "Seattle Prep",
           "2021-22",
           19
          ],
          [
           "Seattle Prep",
           "2022-23",
           1
          ],
          [
           "Seattle Prep",
           "2022-23",
           2
          ],
          [
           "Seattle Prep",
           "2022-23",
           3
          ],
          [
           "Seattle Prep",
           "2022-23",
           4
          ],
          [
           "Seattle Prep",
           "2022-23",
           5
          ],
          [
           "Seattle Prep",
           "2022-23",
           6
          ],
          [
           "Seattle Prep",
           "2022-23",
           7
          ],
          [
           "Seattle Prep",
           "2022-23",
           8
          ],
          [
           "Seattle Prep",
           "2022-23",
           9
          ],
          [
           "Seattle Prep",
           "2022-23",
           10
          ],
          [
           "Seattle Prep",
           "2022-23",
           11
          ],
          [
           "Seattle Prep",
           "2022-23",
           12
          ],
          [
           "Seattle Prep",
           "2022-23",
           13
          ],
          [
           "Seattle Prep",
           "2022-23",
           14
          ],
          [
           "Seattle Prep",
           "2022-23",
           15
          ],
          [
           "Seattle Prep",
           "2022-23",
           16
          ],
          [
           "Seattle Prep",
           "2022-23",
           17
          ],
          [
           "Seattle Prep",
           "2022-23",
           18
          ],
          [
           "Seattle Prep",
           "2023-24",
           1
          ],
          [
           "Seattle Prep",
           "2023-24",
           2
          ],
          [
           "Seattle Prep",
           "2023-24",
           3
          ],
          [
           "Seattle Prep",
           "2023-24",
           4
          ],
          [
           "Seattle Prep",
           "2023-24",
           5
          ],
          [
           "Seattle Prep",
           "2023-24",
           6
          ],
          [
           "Seattle Prep",
           "2023-24",
           7
          ],
          [
           "Seattle Prep",
           "2023-24",
           8
          ],
          [
           "Seattle Prep",
           "2023-24",
           9
          ],
          [
           "Seattle Prep",
           "2023-24",
           10
          ],
          [
           "Seattle Prep",
           "2023-24",
           11
          ],
          [
           "Seattle Prep",
           "2023-24",
           12
          ],
          [
           "Seattle Prep",
           "2023-24",
           13
          ],
          [
           "Seattle Prep",
           "2023-24",
           14
          ],
          [
           "Seattle Prep",
           "2023-24",
           15
          ],
          [
           "Seattle Prep",
           "2023-24",
           16
          ],
          [
           "Seattle Prep",
           "2023-24",
           17
          ],
          [
           "Seattle Prep",
           "2023-24",
           18
          ],
          [
           "Seattle Prep",
           "2024-25",
           1
          ],
          [
           "Seattle Prep",
           "2024-25",
           2
          ],
          [
           "Seattle Prep",
           "2024-25",
           3
          ],
          [
           "Seattle Prep",
           "2024-25",
           4
          ],
          [
           "Seattle Prep",
           "2024-25",
           5
          ],
          [
           "Seattle Prep",
           "2024-25",
           6
          ],
          [
           "Seattle Prep",
           "2024-25",
           7
          ]
         ],
         "hovertemplate": "Team=%{customdata[0]}<br>Total Matches Played=%{x}<br>ELO Rating=%{y}<br>Season=%{customdata[1]}<br>Season Match #=%{customdata[2]}<extra></extra>",
         "legendgroup": "Seattle Prep",
         "line": {
          "color": "#19d3f3",
          "dash": "solid"
         },
         "marker": {
          "symbol": "circle"
         },
         "mode": "lines",
         "name": "Seattle Prep",
         "showlegend": true,
         "type": "scattergl",
         "x": [
          1,
          2,
          3,
          4,
          5,
          6,
          7,
          8,
          9,
          10,
          11,
          12,
          13,
          14,
          15,
          16,
          17,
          18,
          19,
          20,
          21,
          22,
          23,
          24,
          25,
          26,
          27,
          28,
          29,
          30,
          31,
          32,
          33,
          34,
          35,
          36,
          37,
          38,
          39,
          40,
          41,
          42,
          43,
          44,
          45,
          46,
          47,
          48,
          49,
          50,
          51,
          52,
          53,
          54,
          55,
          56,
          57,
          58,
          59,
          60,
          61,
          62,
          63,
          64,
          65,
          66,
          67,
          68,
          69,
          70,
          71,
          72,
          73,
          74,
          75,
          76,
          77,
          78,
          79,
          80,
          81,
          82,
          83,
          84,
          85,
          86,
          87,
          88,
          89,
          90,
          91,
          92,
          93,
          94,
          95,
          96,
          97,
          98,
          99,
          100,
          101,
          102,
          103,
          104,
          105,
          106,
          107,
          108,
          109,
          110,
          111,
          112,
          113,
          114,
          115,
          116,
          117,
          118,
          119
         ],
         "xaxis": "x",
         "y": [
          1509.6277444309749,
          1479.8823610243717,
          1703.089419999559,
          1719.7079681656617,
          1666.6453365174657,
          1608.1686719316626,
          1610.275468210502,
          1612.332643580767,
          1619.8457005022988,
          1432.7455041644098,
          1423.3360942283743,
          1430.5282937783195,
          1462.5492711476409,
          1515.8082141953748,
          1536.167166433078,
          1562.1077924858316,
          1590.9444345482054,
          1642.9076002502454,
          1672.0863541219444,
          1629.5159605975794,
          1640.5923548674014,
          1685.2048213905182,
          1688.5245294531169,
          1694.842073943444,
          1668.402515235482,
          1704.8712389352704,
          1679.0734936201725,
          1649.460222892895,
          1675.8067262529896,
          1683.5003438558492,
          1665.9767789770292,
          1673.9593564355114,
          1712.5363416690209,
          1714.003324119506,
          1715.4460337489284,
          1712.4081611578613,
          1584.620988516391,
          1558.6224589609103,
          1541.1826828690498,
          1560.8147841313428,
          1579.831037771633,
          1589.3368555925274,
          1590.06785689817,
          1686.1678706493726,
          1677.394570723088,
          1647.3794136021756,
          1641.8236420179337,
          1621.6848660280564,
          1603.870110516252,
          1590.0095793025348,
          1564.9940272571948,
          1597.988699877328,
          1544.699710699005,
          1535.8990487643853,
          1602.7765308410164,
          1551.9420067995288,
          1578.01504797891,
          1619.458019906585,
          1631.215505724867,
          1628.586811052325,
          1581.0975611050833,
          1601.4663243588195,
          1775.040735510894,
          1799.015687658721,
          1799.073722229071,
          1748.56182244128,
          1560.1099137804854,
          1551.208848853695,
          1540.137082699633,
          1570.72503269889,
          1680.2417787624936,
          1701.5990516669913,
          1725.8728062067953,
          1742.8136734815146,
          1745.5524661827678,
          1748.2090709105255,
          1729.4012348393428,
          1738.6376326146888,
          1752.6789020997935,
          1762.4458502568475,
          1795.996836978282,
          1821.04124946456,
          1795.2558423210453,
          1758.0245578315275,
          1761.9287512086132,
          1804.9272673539629,
          1796.2931546658515,
          1730.535514097411,
          1756.0356923509985,
          1704.87492625433,
          1734.0961005871293,
          1706.8529013805228,
          1703.8425167319326,
          1719.3142654462451,
          1776.9290561609628,
          1790.3483644610983,
          1778.2453848154266,
          1782.0947866505412,
          1719.258411528404,
          1840.471406584792,
          1827.173021199444,
          1834.759892537152,
          1836.6142893528693,
          1722.3607523823975,
          1706.6316584296806,
          1750.3534520334204,
          1810.1710071298603,
          1804.4067973392573,
          1838.9623238449744,
          1861.3745501292635,
          1809.3723627722527,
          1819.6368225205035,
          1863.092881082713,
          1850.1013085591387,
          1813.8376716551563,
          1816.634564583095,
          1880.935911321861,
          1891.961682114812,
          1844.1928801629144
         ],
         "yaxis": "y"
        },
        {
         "customdata": [
          [
           "West Seattle",
           "2016-17",
           1
          ],
          [
           "West Seattle",
           "2016-17",
           2
          ],
          [
           "West Seattle",
           "2016-17",
           3
          ],
          [
           "West Seattle",
           "2016-17",
           4
          ],
          [
           "West Seattle",
           "2016-17",
           5
          ],
          [
           "West Seattle",
           "2016-17",
           6
          ],
          [
           "West Seattle",
           "2016-17",
           7
          ],
          [
           "West Seattle",
           "2016-17",
           8
          ],
          [
           "West Seattle",
           "2016-17",
           9
          ],
          [
           "West Seattle",
           "2016-17",
           10
          ],
          [
           "West Seattle",
           "2016-17",
           11
          ],
          [
           "West Seattle",
           "2016-17",
           12
          ],
          [
           "West Seattle",
           "2016-17",
           13
          ],
          [
           "West Seattle",
           "2016-17",
           14
          ],
          [
           "West Seattle",
           "2016-17",
           15
          ],
          [
           "West Seattle",
           "2016-17",
           16
          ],
          [
           "West Seattle",
           "2016-17",
           17
          ],
          [
           "West Seattle",
           "2016-17",
           18
          ],
          [
           "West Seattle",
           "2016-17",
           19
          ],
          [
           "West Seattle",
           "2016-17",
           20
          ],
          [
           "West Seattle",
           "2017-18",
           1
          ],
          [
           "West Seattle",
           "2017-18",
           2
          ],
          [
           "West Seattle",
           "2017-18",
           3
          ],
          [
           "West Seattle",
           "2017-18",
           4
          ],
          [
           "West Seattle",
           "2017-18",
           5
          ],
          [
           "West Seattle",
           "2017-18",
           6
          ],
          [
           "West Seattle",
           "2017-18",
           7
          ],
          [
           "West Seattle",
           "2017-18",
           8
          ],
          [
           "West Seattle",
           "2017-18",
           9
          ],
          [
           "West Seattle",
           "2017-18",
           10
          ],
          [
           "West Seattle",
           "2017-18",
           11
          ],
          [
           "West Seattle",
           "2017-18",
           12
          ],
          [
           "West Seattle",
           "2017-18",
           13
          ],
          [
           "West Seattle",
           "2017-18",
           14
          ],
          [
           "West Seattle",
           "2017-18",
           15
          ],
          [
           "West Seattle",
           "2017-18",
           16
          ],
          [
           "West Seattle",
           "2017-18",
           17
          ],
          [
           "West Seattle",
           "2018-19",
           1
          ],
          [
           "West Seattle",
           "2018-19",
           2
          ],
          [
           "West Seattle",
           "2018-19",
           3
          ],
          [
           "West Seattle",
           "2018-19",
           4
          ],
          [
           "West Seattle",
           "2018-19",
           5
          ],
          [
           "West Seattle",
           "2018-19",
           6
          ],
          [
           "West Seattle",
           "2018-19",
           7
          ],
          [
           "West Seattle",
           "2018-19",
           8
          ],
          [
           "West Seattle",
           "2018-19",
           9
          ],
          [
           "West Seattle",
           "2018-19",
           10
          ],
          [
           "West Seattle",
           "2018-19",
           11
          ],
          [
           "West Seattle",
           "2018-19",
           12
          ],
          [
           "West Seattle",
           "2018-19",
           13
          ],
          [
           "West Seattle",
           "2018-19",
           14
          ],
          [
           "West Seattle",
           "2018-19",
           15
          ],
          [
           "West Seattle",
           "2018-19",
           16
          ],
          [
           "West Seattle",
           "2020-21",
           1
          ],
          [
           "West Seattle",
           "2020-21",
           2
          ],
          [
           "West Seattle",
           "2020-21",
           3
          ],
          [
           "West Seattle",
           "2020-21",
           4
          ],
          [
           "West Seattle",
           "2020-21",
           5
          ],
          [
           "West Seattle",
           "2021-22",
           1
          ],
          [
           "West Seattle",
           "2021-22",
           2
          ],
          [
           "West Seattle",
           "2021-22",
           3
          ],
          [
           "West Seattle",
           "2021-22",
           4
          ],
          [
           "West Seattle",
           "2021-22",
           5
          ],
          [
           "West Seattle",
           "2021-22",
           6
          ],
          [
           "West Seattle",
           "2021-22",
           7
          ],
          [
           "West Seattle",
           "2021-22",
           8
          ],
          [
           "West Seattle",
           "2021-22",
           9
          ],
          [
           "West Seattle",
           "2021-22",
           10
          ],
          [
           "West Seattle",
           "2021-22",
           11
          ],
          [
           "West Seattle",
           "2021-22",
           12
          ],
          [
           "West Seattle",
           "2021-22",
           13
          ],
          [
           "West Seattle",
           "2021-22",
           14
          ],
          [
           "West Seattle",
           "2021-22",
           15
          ],
          [
           "West Seattle",
           "2021-22",
           16
          ],
          [
           "West Seattle",
           "2021-22",
           17
          ],
          [
           "West Seattle",
           "2022-23",
           1
          ],
          [
           "West Seattle",
           "2022-23",
           2
          ],
          [
           "West Seattle",
           "2022-23",
           3
          ],
          [
           "West Seattle",
           "2022-23",
           4
          ],
          [
           "West Seattle",
           "2022-23",
           5
          ],
          [
           "West Seattle",
           "2022-23",
           6
          ],
          [
           "West Seattle",
           "2022-23",
           7
          ],
          [
           "West Seattle",
           "2022-23",
           8
          ],
          [
           "West Seattle",
           "2022-23",
           9
          ],
          [
           "West Seattle",
           "2022-23",
           10
          ],
          [
           "West Seattle",
           "2022-23",
           11
          ],
          [
           "West Seattle",
           "2022-23",
           12
          ],
          [
           "West Seattle",
           "2022-23",
           13
          ],
          [
           "West Seattle",
           "2022-23",
           14
          ],
          [
           "West Seattle",
           "2022-23",
           15
          ],
          [
           "West Seattle",
           "2022-23",
           16
          ],
          [
           "West Seattle",
           "2022-23",
           17
          ],
          [
           "West Seattle",
           "2023-24",
           1
          ],
          [
           "West Seattle",
           "2023-24",
           2
          ],
          [
           "West Seattle",
           "2023-24",
           3
          ],
          [
           "West Seattle",
           "2023-24",
           4
          ],
          [
           "West Seattle",
           "2023-24",
           5
          ],
          [
           "West Seattle",
           "2023-24",
           6
          ],
          [
           "West Seattle",
           "2023-24",
           7
          ],
          [
           "West Seattle",
           "2023-24",
           8
          ],
          [
           "West Seattle",
           "2023-24",
           9
          ],
          [
           "West Seattle",
           "2023-24",
           10
          ],
          [
           "West Seattle",
           "2023-24",
           11
          ],
          [
           "West Seattle",
           "2023-24",
           12
          ],
          [
           "West Seattle",
           "2023-24",
           13
          ],
          [
           "West Seattle",
           "2023-24",
           14
          ],
          [
           "West Seattle",
           "2023-24",
           15
          ],
          [
           "West Seattle",
           "2023-24",
           16
          ],
          [
           "West Seattle",
           "2023-24",
           17
          ],
          [
           "West Seattle",
           "2024-25",
           1
          ],
          [
           "West Seattle",
           "2024-25",
           2
          ],
          [
           "West Seattle",
           "2024-25",
           3
          ],
          [
           "West Seattle",
           "2024-25",
           4
          ],
          [
           "West Seattle",
           "2024-25",
           5
          ]
         ],
         "hovertemplate": "Team=%{customdata[0]}<br>Total Matches Played=%{x}<br>ELO Rating=%{y}<br>Season=%{customdata[1]}<br>Season Match #=%{customdata[2]}<extra></extra>",
         "legendgroup": "West Seattle",
         "line": {
          "color": "#FF6692",
          "dash": "solid"
         },
         "marker": {
          "symbol": "circle"
         },
         "mode": "lines",
         "name": "West Seattle",
         "showlegend": true,
         "type": "scattergl",
         "x": [
          1,
          2,
          3,
          4,
          5,
          6,
          7,
          8,
          9,
          10,
          11,
          12,
          13,
          14,
          15,
          16,
          17,
          18,
          19,
          20,
          21,
          22,
          23,
          24,
          25,
          26,
          27,
          28,
          29,
          30,
          31,
          32,
          33,
          34,
          35,
          36,
          37,
          38,
          39,
          40,
          41,
          42,
          43,
          44,
          45,
          46,
          47,
          48,
          49,
          50,
          51,
          52,
          53,
          54,
          55,
          56,
          57,
          58,
          59,
          60,
          61,
          62,
          63,
          64,
          65,
          66,
          67,
          68,
          69,
          70,
          71,
          72,
          73,
          74,
          75,
          76,
          77,
          78,
          79,
          80,
          81,
          82,
          83,
          84,
          85,
          86,
          87,
          88,
          89,
          90,
          91,
          92,
          93,
          94,
          95,
          96,
          97,
          98,
          99,
          100,
          101,
          102,
          103,
          104,
          105,
          106,
          107,
          108,
          109,
          110,
          111,
          112,
          113,
          114
         ],
         "xaxis": "x",
         "y": [
          1523.5621801534178,
          1542.4249237654233,
          1571.9222485020753,
          1539.901271132754,
          1537.3313022642085,
          1496.682055735981,
          1607.2388817279368,
          1596.7361318688068,
          1599.0420887546225,
          1601.2887629565687,
          1524.7195136950934,
          1544.2632102393543,
          1568.1369814583384,
          1570.541778845626,
          1553.923230679523,
          1517.1202139611794,
          1528.8363045458264,
          1551.1940239915791,
          1576.1337404512374,
          1620.462154758043,
          1608.236714395666,
          1544.5143784679265,
          1553.26192394982,
          1608.711500004834,
          1618.7469807680252,
          1552.2259811678614,
          1614.076863424221,
          1613.4652535986872,
          1594.3089157029865,
          1626.3340559812953,
          1646.8486778179242,
          1649.4550351628957,
          1604.8425686397786,
          1609.15070613832,
          1613.2575103101346,
          1554.0349007258903,
          1534.0426919288595,
          1627.9373946379385,
          1506.9912291763524,
          1503.1466178646997,
          1511.4044985930573,
          1508.685057889227,
          1512.8458393196108,
          1472.5438776378594,
          1473.9790920295784,
          1608.3475985931875,
          1556.2974413580305,
          1593.705333518556,
          1591.038682266727,
          1528.7586334650414,
          1518.9800012518383,
          1483.3998424272795,
          1493.362130615089,
          1483.250544155523,
          1505.8087841922093,
          1575.10779330265,
          1589.639761651225,
          1604.4961861988568,
          1425.4463559780943,
          1433.098418689225,
          1421.913657901321,
          1397.5478648031235,
          1380.6069975284042,
          1326.6239665361688,
          1366.7886447282294,
          1360.086430508412,
          1598.518687631556,
          1600.0921894077658,
          1554.7218638981224,
          1558.2614928468938,
          1514.3261148857173,
          1501.2633932550643,
          1436.3710152647143,
          1422.0473712984642,
          1417.103285462076,
          1356.853463874398,
          1362.2147333622015,
          1298.870611426786,
          1334.7292966053944,
          1316.6010376207817,
          1329.959164680848,
          1341.597789745964,
          1388.2920811024755,
          1388.6752749328166,
          1372.1246365341588,
          1294.452847655882,
          1314.4196918572543,
          1342.0927960065912,
          1338.1886026295056,
          1328.342993959381,
          1347.297004441734,
          1354.0478978516653,
          1372.4802054215213,
          1377.295321090131,
          1352.1424350572042,
          1354.5870235646544,
          1356.967807789018,
          1294.9816539308692,
          1295.8451820674682,
          1238.6514933009526,
          1284.7263249418097,
          1270.1636472748162,
          1302.884977598269,
          1309.5072241119285,
          1315.7188380490245,
          1314.494497742046,
          1320.4241562859852,
          1287.2975991452306,
          1262.5047674974246,
          1217.2898329098823,
          1360.4684840067962,
          1273.5235128376414,
          1235.398262976949,
          1336.2944873875838
         ],
         "yaxis": "y"
        }
       ],
       "layout": {
        "height": 700,
        "hovermode": "x unified",
        "legend": {
         "itemclick": "toggleothers",
         "title": {
          "text": "Team"
         },
         "tracegroupgap": 0,
         "traceorder": "normal"
        },
        "margin": {
         "b": 50,
         "t": 50
        },
        "template": {
         "data": {
          "bar": [
           {
            "error_x": {
             "color": "#2a3f5f"
            },
            "error_y": {
             "color": "#2a3f5f"
            },
            "marker": {
             "line": {
              "color": "#E5ECF6",
              "width": 0.5
             },
             "pattern": {
              "fillmode": "overlay",
              "size": 10,
              "solidity": 0.2
             }
            },
            "type": "bar"
           }
          ],
          "barpolar": [
           {
            "marker": {
             "line": {
              "color": "#E5ECF6",
              "width": 0.5
             },
             "pattern": {
              "fillmode": "overlay",
              "size": 10,
              "solidity": 0.2
             }
            },
            "type": "barpolar"
           }
          ],
          "carpet": [
           {
            "aaxis": {
             "endlinecolor": "#2a3f5f",
             "gridcolor": "white",
             "linecolor": "white",
             "minorgridcolor": "white",
             "startlinecolor": "#2a3f5f"
            },
            "baxis": {
             "endlinecolor": "#2a3f5f",
             "gridcolor": "white",
             "linecolor": "white",
             "minorgridcolor": "white",
             "startlinecolor": "#2a3f5f"
            },
            "type": "carpet"
           }
          ],
          "choropleth": [
           {
            "colorbar": {
             "outlinewidth": 0,
             "ticks": ""
            },
            "type": "choropleth"
           }
          ],
          "contour": [
           {
            "colorbar": {
             "outlinewidth": 0,
             "ticks": ""
            },
            "colorscale": [
             [
              0,
              "#0d0887"
             ],
             [
              0.1111111111111111,
              "#46039f"
             ],
             [
              0.2222222222222222,
              "#7201a8"
             ],
             [
              0.3333333333333333,
              "#9c179e"
             ],
             [
              0.4444444444444444,
              "#bd3786"
             ],
             [
              0.5555555555555556,
              "#d8576b"
             ],
             [
              0.6666666666666666,
              "#ed7953"
             ],
             [
              0.7777777777777778,
              "#fb9f3a"
             ],
             [
              0.8888888888888888,
              "#fdca26"
             ],
             [
              1,
              "#f0f921"
             ]
            ],
            "type": "contour"
           }
          ],
          "contourcarpet": [
           {
            "colorbar": {
             "outlinewidth": 0,
             "ticks": ""
            },
            "type": "contourcarpet"
           }
          ],
          "heatmap": [
           {
            "colorbar": {
             "outlinewidth": 0,
             "ticks": ""
            },
            "colorscale": [
             [
              0,
              "#0d0887"
             ],
             [
              0.1111111111111111,
              "#46039f"
             ],
             [
              0.2222222222222222,
              "#7201a8"
             ],
             [
              0.3333333333333333,
              "#9c179e"
             ],
             [
              0.4444444444444444,
              "#bd3786"
             ],
             [
              0.5555555555555556,
              "#d8576b"
             ],
             [
              0.6666666666666666,
              "#ed7953"
             ],
             [
              0.7777777777777778,
              "#fb9f3a"
             ],
             [
              0.8888888888888888,
              "#fdca26"
             ],
             [
              1,
              "#f0f921"
             ]
            ],
            "type": "heatmap"
           }
          ],
          "heatmapgl": [
           {
            "colorbar": {
             "outlinewidth": 0,
             "ticks": ""
            },
            "colorscale": [
             [
              0,
              "#0d0887"
             ],
             [
              0.1111111111111111,
              "#46039f"
             ],
             [
              0.2222222222222222,
              "#7201a8"
             ],
             [
              0.3333333333333333,
              "#9c179e"
             ],
             [
              0.4444444444444444,
              "#bd3786"
             ],
             [
              0.5555555555555556,
              "#d8576b"
             ],
             [
              0.6666666666666666,
              "#ed7953"
             ],
             [
              0.7777777777777778,
              "#fb9f3a"
             ],
             [
              0.8888888888888888,
              "#fdca26"
             ],
             [
              1,
              "#f0f921"
             ]
            ],
            "type": "heatmapgl"
           }
          ],
          "histogram": [
           {
            "marker": {
             "pattern": {
              "fillmode": "overlay",
              "size": 10,
              "solidity": 0.2
             }
            },
            "type": "histogram"
           }
          ],
          "histogram2d": [
           {
            "colorbar": {
             "outlinewidth": 0,
             "ticks": ""
            },
            "colorscale": [
             [
              0,
              "#0d0887"
             ],
             [
              0.1111111111111111,
              "#46039f"
             ],
             [
              0.2222222222222222,
              "#7201a8"
             ],
             [
              0.3333333333333333,
              "#9c179e"
             ],
             [
              0.4444444444444444,
              "#bd3786"
             ],
             [
              0.5555555555555556,
              "#d8576b"
             ],
             [
              0.6666666666666666,
              "#ed7953"
             ],
             [
              0.7777777777777778,
              "#fb9f3a"
             ],
             [
              0.8888888888888888,
              "#fdca26"
             ],
             [
              1,
              "#f0f921"
             ]
            ],
            "type": "histogram2d"
           }
          ],
          "histogram2dcontour": [
           {
            "colorbar": {
             "outlinewidth": 0,
             "ticks": ""
            },
            "colorscale": [
             [
              0,
              "#0d0887"
             ],
             [
              0.1111111111111111,
              "#46039f"
             ],
             [
              0.2222222222222222,
              "#7201a8"
             ],
             [
              0.3333333333333333,
              "#9c179e"
             ],
             [
              0.4444444444444444,
              "#bd3786"
             ],
             [
              0.5555555555555556,
              "#d8576b"
             ],
             [
              0.6666666666666666,
              "#ed7953"
             ],
             [
              0.7777777777777778,
              "#fb9f3a"
             ],
             [
              0.8888888888888888,
              "#fdca26"
             ],
             [
              1,
              "#f0f921"
             ]
            ],
            "type": "histogram2dcontour"
           }
          ],
          "mesh3d": [
           {
            "colorbar": {
             "outlinewidth": 0,
             "ticks": ""
            },
            "type": "mesh3d"
           }
          ],
          "parcoords": [
           {
            "line": {
             "colorbar": {
              "outlinewidth": 0,
              "ticks": ""
             }
            },
            "type": "parcoords"
           }
          ],
          "pie": [
           {
            "automargin": true,
            "type": "pie"
           }
          ],
          "scatter": [
           {
            "fillpattern": {
             "fillmode": "overlay",
             "size": 10,
             "solidity": 0.2
            },
            "type": "scatter"
           }
          ],
          "scatter3d": [
           {
            "line": {
             "colorbar": {
              "outlinewidth": 0,
              "ticks": ""
             }
            },
            "marker": {
             "colorbar": {
              "outlinewidth": 0,
              "ticks": ""
             }
            },
            "type": "scatter3d"
           }
          ],
          "scattercarpet": [
           {
            "marker": {
             "colorbar": {
              "outlinewidth": 0,
              "ticks": ""
             }
            },
            "type": "scattercarpet"
           }
          ],
          "scattergeo": [
           {
            "marker": {
             "colorbar": {
              "outlinewidth": 0,
              "ticks": ""
             }
            },
            "type": "scattergeo"
           }
          ],
          "scattergl": [
           {
            "marker": {
             "colorbar": {
              "outlinewidth": 0,
              "ticks": ""
             }
            },
            "type": "scattergl"
           }
          ],
          "scattermapbox": [
           {
            "marker": {
             "colorbar": {
              "outlinewidth": 0,
              "ticks": ""
             }
            },
            "type": "scattermapbox"
           }
          ],
          "scatterpolar": [
           {
            "marker": {
             "colorbar": {
              "outlinewidth": 0,
              "ticks": ""
             }
            },
            "type": "scatterpolar"
           }
          ],
          "scatterpolargl": [
           {
            "marker": {
             "colorbar": {
              "outlinewidth": 0,
              "ticks": ""
             }
            },
            "type": "scatterpolargl"
           }
          ],
          "scatterternary": [
           {
            "marker": {
             "colorbar": {
              "outlinewidth": 0,
              "ticks": ""
             }
            },
            "type": "scatterternary"
           }
          ],
          "surface": [
           {
            "colorbar": {
             "outlinewidth": 0,
             "ticks": ""
            },
            "colorscale": [
             [
              0,
              "#0d0887"
             ],
             [
              0.1111111111111111,
              "#46039f"
             ],
             [
              0.2222222222222222,
              "#7201a8"
             ],
             [
              0.3333333333333333,
              "#9c179e"
             ],
             [
              0.4444444444444444,
              "#bd3786"
             ],
             [
              0.5555555555555556,
              "#d8576b"
             ],
             [
              0.6666666666666666,
              "#ed7953"
             ],
             [
              0.7777777777777778,
              "#fb9f3a"
             ],
             [
              0.8888888888888888,
              "#fdca26"
             ],
             [
              1,
              "#f0f921"
             ]
            ],
            "type": "surface"
           }
          ],
          "table": [
           {
            "cells": {
             "fill": {
              "color": "#EBF0F8"
             },
             "line": {
              "color": "white"
             }
            },
            "header": {
             "fill": {
              "color": "#C8D4E3"
             },
             "line": {
              "color": "white"
             }
            },
            "type": "table"
           }
          ]
         },
         "layout": {
          "annotationdefaults": {
           "arrowcolor": "#2a3f5f",
           "arrowhead": 0,
           "arrowwidth": 1
          },
          "autotypenumbers": "strict",
          "coloraxis": {
           "colorbar": {
            "outlinewidth": 0,
            "ticks": ""
           }
          },
          "colorscale": {
           "diverging": [
            [
             0,
             "#8e0152"
            ],
            [
             0.1,
             "#c51b7d"
            ],
            [
             0.2,
             "#de77ae"
            ],
            [
             0.3,
             "#f1b6da"
            ],
            [
             0.4,
             "#fde0ef"
            ],
            [
             0.5,
             "#f7f7f7"
            ],
            [
             0.6,
             "#e6f5d0"
            ],
            [
             0.7,
             "#b8e186"
            ],
            [
             0.8,
             "#7fbc41"
            ],
            [
             0.9,
             "#4d9221"
            ],
            [
             1,
             "#276419"
            ]
           ],
           "sequential": [
            [
             0,
             "#0d0887"
            ],
            [
             0.1111111111111111,
             "#46039f"
            ],
            [
             0.2222222222222222,
             "#7201a8"
            ],
            [
             0.3333333333333333,
             "#9c179e"
            ],
            [
             0.4444444444444444,
             "#bd3786"
            ],
            [
             0.5555555555555556,
             "#d8576b"
            ],
            [
             0.6666666666666666,
             "#ed7953"
            ],
            [
             0.7777777777777778,
             "#fb9f3a"
            ],
            [
             0.8888888888888888,
             "#fdca26"
            ],
            [
             1,
             "#f0f921"
            ]
           ],
           "sequentialminus": [
            [
             0,
             "#0d0887"
            ],
            [
             0.1111111111111111,
             "#46039f"
            ],
            [
             0.2222222222222222,
             "#7201a8"
            ],
            [
             0.3333333333333333,
             "#9c179e"
            ],
            [
             0.4444444444444444,
             "#bd3786"
            ],
            [
             0.5555555555555556,
             "#d8576b"
            ],
            [
             0.6666666666666666,
             "#ed7953"
            ],
            [
             0.7777777777777778,
             "#fb9f3a"
            ],
            [
             0.8888888888888888,
             "#fdca26"
            ],
            [
             1,
             "#f0f921"
            ]
           ]
          },
          "colorway": [
           "#636efa",
           "#EF553B",
           "#00cc96",
           "#ab63fa",
           "#FFA15A",
           "#19d3f3",
           "#FF6692",
           "#B6E880",
           "#FF97FF",
           "#FECB52"
          ],
          "font": {
           "color": "#2a3f5f"
          },
          "geo": {
           "bgcolor": "white",
           "lakecolor": "white",
           "landcolor": "#E5ECF6",
           "showlakes": true,
           "showland": true,
           "subunitcolor": "white"
          },
          "hoverlabel": {
           "align": "left"
          },
          "hovermode": "closest",
          "mapbox": {
           "style": "light"
          },
          "paper_bgcolor": "white",
          "plot_bgcolor": "#E5ECF6",
          "polar": {
           "angularaxis": {
            "gridcolor": "white",
            "linecolor": "white",
            "ticks": ""
           },
           "bgcolor": "#E5ECF6",
           "radialaxis": {
            "gridcolor": "white",
            "linecolor": "white",
            "ticks": ""
           }
          },
          "scene": {
           "xaxis": {
            "backgroundcolor": "#E5ECF6",
            "gridcolor": "white",
            "gridwidth": 2,
            "linecolor": "white",
            "showbackground": true,
            "ticks": "",
            "zerolinecolor": "white"
           },
           "yaxis": {
            "backgroundcolor": "#E5ECF6",
            "gridcolor": "white",
            "gridwidth": 2,
            "linecolor": "white",
            "showbackground": true,
            "ticks": "",
            "zerolinecolor": "white"
           },
           "zaxis": {
            "backgroundcolor": "#E5ECF6",
            "gridcolor": "white",
            "gridwidth": 2,
            "linecolor": "white",
            "showbackground": true,
            "ticks": "",
            "zerolinecolor": "white"
           }
          },
          "shapedefaults": {
           "line": {
            "color": "#2a3f5f"
           }
          },
          "ternary": {
           "aaxis": {
            "gridcolor": "white",
            "linecolor": "white",
            "ticks": ""
           },
           "baxis": {
            "gridcolor": "white",
            "linecolor": "white",
            "ticks": ""
           },
           "bgcolor": "#E5ECF6",
           "caxis": {
            "gridcolor": "white",
            "linecolor": "white",
            "ticks": ""
           }
          },
          "title": {
           "x": 0.05
          },
          "xaxis": {
           "automargin": true,
           "gridcolor": "white",
           "linecolor": "white",
           "ticks": "",
           "title": {
            "standoff": 15
           },
           "zerolinecolor": "white",
           "zerolinewidth": 2
          },
          "yaxis": {
           "automargin": true,
           "gridcolor": "white",
           "linecolor": "white",
           "ticks": "",
           "title": {
            "standoff": 15
           },
           "zerolinecolor": "white",
           "zerolinewidth": 2
          }
         }
        },
        "title": {
         "text": "High School Soccer ELO Progression by Team"
        },
        "xaxis": {
         "anchor": "y",
         "domain": [
          0,
          1
         ],
         "showgrid": true,
         "title": {
          "text": "Total Matches Played"
         }
        },
        "yaxis": {
         "anchor": "x",
         "domain": [
          0,
          1
         ],
         "showgrid": true,
         "title": {
          "text": "ELO Rating"
         }
        }
       }
      }
     },
     "metadata": {},
     "output_type": "display_data"
    }
   ],
   "source": [
    "import pandas as pd\n",
    "import plotly.express as px\n",
    "\n",
    "# Load your data\n",
    "df = pd.read_csv(r\"C:\\Users\\User\\Desktop\\Soccer Footage\\metroleague_elo_long.csv\")\n",
    "\n",
    "# Sort and prep labels\n",
    "df = df.sort_values(by=[\"Team\", \"Season\", \"Season Match #\"])\n",
    "df[\"Season Match Label\"] = df[\"Season\"] + \" | Match \" + df[\"Season Match #\"].astype(str)\n",
    "\n",
    "# Create a match counter across all games for proper plotting\n",
    "df[\"Global Match #\"] = df.groupby(\"Team\").cumcount() + 1\n",
    "\n",
    "# Build interactive line plot\n",
    "fig = px.line(\n",
    "    df,\n",
    "    x=\"Global Match #\",\n",
    "    y=\"ELO\",\n",
    "    color=\"Team\",\n",
    "    line_group=\"Team\",\n",
    "    hover_data=[\"Team\", \"Season\", \"Season Match #\", \"ELO\"],\n",
    "    title=\"High School Soccer ELO Progression by Team\",\n",
    "    labels={\"Global Match #\": \"Total Matches Played\", \"ELO\": \"ELO Rating\"},\n",
    ")\n",
    "\n",
    "fig.update_layout(\n",
    "    hovermode=\"x unified\",\n",
    "    xaxis=dict(showgrid=True),\n",
    "    yaxis=dict(showgrid=True),\n",
    "    legend=dict(title=\"Team\", traceorder=\"normal\", itemclick=\"toggleothers\"),\n",
    "    height=700,\n",
    "    margin=dict(t=50, b=50),\n",
    ")\n",
    "\n",
    "fig.show()\n"
   ]
  },
  {
   "cell_type": "code",
   "execution_count": 343,
   "metadata": {},
   "outputs": [
    {
     "data": {
      "application/vnd.plotly.v1+json": {
       "config": {
        "plotlyServerURL": "https://plot.ly"
       },
       "data": [
        {
         "customdata": [
          [
           "Bainbridge",
           1516.588218989289
          ],
          [
           "Bainbridge",
           1665.981041976426
          ],
          [
           "Bainbridge",
           1447.6456955264282
          ]
         ],
         "hovertemplate": "Team=%{customdata[0]}<br>Season=%{x}<br>End-of-Season ELO=%{y}<br>Start ELO=%{customdata[1]}<extra></extra>",
         "legendgroup": "Bainbridge",
         "line": {
          "color": "#636efa",
          "dash": "solid"
         },
         "marker": {
          "symbol": "circle"
         },
         "mode": "lines+markers",
         "name": "Bainbridge",
         "orientation": "v",
         "showlegend": true,
         "type": "scatter",
         "x": [
          "2016-17",
          "2017-18",
          "2018-19"
         ],
         "xaxis": "x",
         "y": [
          1692.3807773251835,
          1479.188069175712,
          1487.2133623614034
         ],
         "yaxis": "y"
        },
        {
         "customdata": [
          [
           "Ballard",
           1518.456859325249
          ],
          [
           "Ballard",
           1745.9223058852374
          ],
          [
           "Ballard",
           1586.872366391179
          ],
          [
           "Ballard",
           1655.9897232523513
          ],
          [
           "Ballard",
           1553.1168534175742
          ],
          [
           "Ballard",
           1509.4301360589886
          ],
          [
           "Ballard",
           1778.7433302183751
          ],
          [
           "Ballard",
           1584.541968290806
          ]
         ],
         "hovertemplate": "Team=%{customdata[0]}<br>Season=%{x}<br>End-of-Season ELO=%{y}<br>Start ELO=%{customdata[1]}<extra></extra>",
         "legendgroup": "Ballard",
         "line": {
          "color": "#EF553B",
          "dash": "solid"
         },
         "marker": {
          "symbol": "circle"
         },
         "mode": "lines+markers",
         "name": "Ballard",
         "orientation": "v",
         "showlegend": true,
         "type": "scatter",
         "x": [
          "2016-17",
          "2017-18",
          "2018-19",
          "2020-21",
          "2021-22",
          "2022-23",
          "2023-24",
          "2024-25"
         ],
         "xaxis": "x",
         "y": [
          1763.308689904754,
          1596.8346545789882,
          1696.591934906514,
          1608.8919978175536,
          1592.2671771535515,
          1662.850094737098,
          1652.267415646764,
          1738.308144018115
         ],
         "yaxis": "y"
        },
        {
         "customdata": [
          [
           "Bishop Blanchet",
           1483.125225057678
          ],
          [
           "Bishop Blanchet",
           1435.699930969365
          ],
          [
           "Bishop Blanchet",
           1500.264411519315
          ],
          [
           "Bishop Blanchet",
           1560.8761664366195
          ],
          [
           "Bishop Blanchet",
           1542.8767179395395
          ],
          [
           "Bishop Blanchet",
           1516.2255261304922
          ],
          [
           "Bishop Blanchet",
           1506.2813681898497
          ],
          [
           "Bishop Blanchet",
           1911.5626716677089
          ]
         ],
         "hovertemplate": "Team=%{customdata[0]}<br>Season=%{x}<br>End-of-Season ELO=%{y}<br>Start ELO=%{customdata[1]}<extra></extra>",
         "legendgroup": "Bishop Blanchet",
         "line": {
          "color": "#00cc96",
          "dash": "solid"
         },
         "marker": {
          "symbol": "circle"
         },
         "mode": "lines+markers",
         "name": "Bishop Blanchet",
         "orientation": "v",
         "showlegend": true,
         "type": "scatter",
         "x": [
          "2016-17",
          "2017-18",
          "2018-19",
          "2020-21",
          "2021-22",
          "2022-23",
          "2023-24",
          "2024-25"
         ],
         "xaxis": "x",
         "y": [
          1542.5729547689537,
          1459.4446386337552,
          1518.9056775186218,
          1536.4656780064,
          1510.4534384231029,
          1506.1144987826387,
          1701.1632119487165,
          1863.7938697158115
         ],
         "yaxis": "y"
        },
        {
         "customdata": [
          [
           "Chief Sealth",
           1469.590187767243
          ],
          [
           "Chief Sealth",
           1437.340267485145
          ],
          [
           "Chief Sealth",
           1386.1948163711445
          ],
          [
           "Chief Sealth",
           1442.766332962966
          ],
          [
           "Chief Sealth",
           1547.2014603544778
          ],
          [
           "Chief Sealth",
           1657.664208844982
          ],
          [
           "Chief Sealth",
           1557.801959169612
          ],
          [
           "Chief Sealth",
           1431.653976431173
          ]
         ],
         "hovertemplate": "Team=%{customdata[0]}<br>Season=%{x}<br>End-of-Season ELO=%{y}<br>Start ELO=%{customdata[1]}<extra></extra>",
         "legendgroup": "Chief Sealth",
         "line": {
          "color": "#ab63fa",
          "dash": "solid"
         },
         "marker": {
          "symbol": "circle"
         },
         "mode": "lines+markers",
         "name": "Chief Sealth",
         "orientation": "v",
         "showlegend": true,
         "type": "scatter",
         "x": [
          "2016-17",
          "2017-18",
          "2018-19",
          "2020-21",
          "2021-22",
          "2022-23",
          "2023-24",
          "2024-25"
         ],
         "xaxis": "x",
         "y": [
          1508.4162906743145,
          1423.6842089622212,
          1450.7088603881516,
          1538.3283071504252,
          1722.3138190635336,
          1652.6263660943875,
          1504.4023482853927,
          1276.696554108252
         ],
         "yaxis": "y"
        },
        {
         "customdata": [
          [
           "Cleveland",
           1436.4080176827993
          ],
          [
           "Cleveland",
           944.6230561128624
          ],
          [
           "Cleveland",
           812.2699690267482
          ],
          [
           "Cleveland",
           821.0128589655083
          ],
          [
           "Cleveland",
           844.2940624868924
          ],
          [
           "Cleveland",
           757.4275909847003
          ],
          [
           "Cleveland",
           708.9319604963263
          ],
          [
           "Cleveland",
           692.2174122475305
          ]
         ],
         "hovertemplate": "Team=%{customdata[0]}<br>Season=%{x}<br>End-of-Season ELO=%{y}<br>Start ELO=%{customdata[1]}<extra></extra>",
         "legendgroup": "Cleveland",
         "line": {
          "color": "#FFA15A",
          "dash": "solid"
         },
         "marker": {
          "symbol": "circle"
         },
         "mode": "lines+markers",
         "name": "Cleveland",
         "orientation": "v",
         "showlegend": true,
         "type": "scatter",
         "x": [
          "2016-17",
          "2017-18",
          "2018-19",
          "2020-21",
          "2021-22",
          "2022-23",
          "2023-24",
          "2024-25"
         ],
         "xaxis": "x",
         "y": [
          957.6513307944892,
          882.4532065976703,
          801.4544620215604,
          798.4875582634671,
          761.8635961827051,
          677.758802285187,
          724.8323862065794,
          703.9563123014703
         ],
         "yaxis": "y"
        },
        {
         "customdata": [
          [
           "Eastside Catholic",
           1440.3906658053347
          ],
          [
           "Eastside Catholic",
           1225.470025988968
          ],
          [
           "Eastside Catholic",
           1493.107807677594
          ],
          [
           "Eastside Catholic",
           1383.3782437340114
          ],
          [
           "Eastside Catholic",
           1355.5703208335797
          ],
          [
           "Eastside Catholic",
           1256.493055328202
          ],
          [
           "Eastside Catholic",
           1306.3671323850936
          ],
          [
           "Eastside Catholic",
           1572.375733169639
          ]
         ],
         "hovertemplate": "Team=%{customdata[0]}<br>Season=%{x}<br>End-of-Season ELO=%{y}<br>Start ELO=%{customdata[1]}<extra></extra>",
         "legendgroup": "Eastside Catholic",
         "line": {
          "color": "#19d3f3",
          "dash": "solid"
         },
         "marker": {
          "symbol": "circle"
         },
         "mode": "lines+markers",
         "name": "Eastside Catholic",
         "orientation": "v",
         "showlegend": true,
         "type": "scatter",
         "x": [
          "2016-17",
          "2017-18",
          "2018-19",
          "2020-21",
          "2021-22",
          "2022-23",
          "2023-24",
          "2024-25"
         ],
         "xaxis": "x",
         "y": [
          1277.0135206285536,
          1380.5144332252144,
          1457.527648853035,
          1398.2346682816433,
          1293.465390627966,
          1286.7497216807883,
          1528.6275774466594,
          1598.9138517749757
         ],
         "yaxis": "y"
        },
        {
         "customdata": [
          [
           "Franklin",
           1482.2348609205908
          ],
          [
           "Franklin",
           1480.3134967961223
          ],
          [
           "Franklin",
           1263.5585458607663
          ],
          [
           "Franklin",
           1468.1982299269123
          ],
          [
           "Franklin",
           1437.762963897325
          ],
          [
           "Franklin",
           1244.515248425755
          ],
          [
           "Franklin",
           1149.3310684326495
          ],
          [
           "Franklin",
           1172.5818483742846
          ]
         ],
         "hovertemplate": "Team=%{customdata[0]}<br>Season=%{x}<br>End-of-Season ELO=%{y}<br>Start ELO=%{customdata[1]}<extra></extra>",
         "legendgroup": "Franklin",
         "line": {
          "color": "#FF6692",
          "dash": "solid"
         },
         "marker": {
          "symbol": "circle"
         },
         "mode": "lines+markers",
         "name": "Franklin",
         "orientation": "v",
         "showlegend": true,
         "type": "scatter",
         "x": [
          "2016-17",
          "2017-18",
          "2018-19",
          "2020-21",
          "2021-22",
          "2022-23",
          "2023-24",
          "2024-25"
         ],
         "xaxis": "x",
         "y": [
          1462.4319792293468,
          1267.2990748473696,
          1296.5532184808997,
          1398.32329441478,
          1411.4322947470826,
          1145.443778533819,
          1163.6081441388103,
          1240.8235316208015
         ],
         "yaxis": "y"
        },
        {
         "customdata": [
          [
           "Garfield",
           1528.7948000157692
          ],
          [
           "Garfield",
           1617.4289398099625
          ],
          [
           "Garfield",
           1842.942950281857
          ],
          [
           "Garfield",
           1661.849485396983
          ],
          [
           "Garfield",
           1667.261575016821
          ],
          [
           "Garfield",
           1582.2322351916964
          ],
          [
           "Garfield",
           1657.9934836362538
          ],
          [
           "Garfield",
           1653.9258971069346
          ]
         ],
         "hovertemplate": "Team=%{customdata[0]}<br>Season=%{x}<br>End-of-Season ELO=%{y}<br>Start ELO=%{customdata[1]}<extra></extra>",
         "legendgroup": "Garfield",
         "line": {
          "color": "#B6E880",
          "dash": "solid"
         },
         "marker": {
          "symbol": "circle"
         },
         "mode": "lines+markers",
         "name": "Garfield",
         "orientation": "v",
         "showlegend": true,
         "type": "scatter",
         "x": [
          "2016-17",
          "2017-18",
          "2018-19",
          "2020-21",
          "2021-22",
          "2022-23",
          "2023-24",
          "2024-25"
         ],
         "xaxis": "x",
         "y": [
          1606.4335851548094,
          1764.4705994764386,
          1806.9431775764751,
          1663.458752961464,
          1627.908642251366,
          1611.1510133601244,
          1735.4836324381822,
          1633.9771487107382
         ],
         "yaxis": "y"
        },
        {
         "customdata": [
          [
           "Ingraham",
           1308.5951911288623
          ],
          [
           "Ingraham",
           1318.761898794363
          ],
          [
           "Ingraham",
           1429.309278524636
          ],
          [
           "Ingraham",
           1289.6489222962095
          ],
          [
           "Ingraham",
           1467.903678109934
          ],
          [
           "Ingraham",
           1471.2447421421275
          ],
          [
           "Ingraham",
           1475.7747165091987
          ],
          [
           "Ingraham",
           1417.7085696746922
          ]
         ],
         "hovertemplate": "Team=%{customdata[0]}<br>Season=%{x}<br>End-of-Season ELO=%{y}<br>Start ELO=%{customdata[1]}<extra></extra>",
         "legendgroup": "Ingraham",
         "line": {
          "color": "#FF97FF",
          "dash": "solid"
         },
         "marker": {
          "symbol": "circle"
         },
         "mode": "lines+markers",
         "name": "Ingraham",
         "orientation": "v",
         "showlegend": true,
         "type": "scatter",
         "x": [
          "2016-17",
          "2017-18",
          "2018-19",
          "2020-21",
          "2021-22",
          "2022-23",
          "2023-24",
          "2024-25"
         ],
         "xaxis": "x",
         "y": [
          1350.4637045808302,
          1324.679488520237,
          1306.904874425434,
          1432.3044993058584,
          1418.5386900285853,
          1432.631801259389,
          1375.1740508167402,
          1537.088537964747
         ],
         "yaxis": "y"
        },
        {
         "customdata": [
          [
           "Lakeside (Seattle)",
           1604.7013681595254
          ],
          [
           "Lakeside (Seattle)",
           1613.1508535932728
          ],
          [
           "Lakeside (Seattle)",
           1746.802095986325
          ],
          [
           "Lakeside (Seattle)",
           1881.540365637424
          ],
          [
           "Lakeside (Seattle)",
           1857.9264970245936
          ],
          [
           "Lakeside (Seattle)",
           1810.9254868337723
          ],
          [
           "Lakeside (Seattle)",
           1861.7322455382416
          ],
          [
           "Lakeside (Seattle)",
           1808.9448531177989
          ]
         ],
         "hovertemplate": "Team=%{customdata[0]}<br>Season=%{x}<br>End-of-Season ELO=%{y}<br>Start ELO=%{customdata[1]}<extra></extra>",
         "legendgroup": "Lakeside (Seattle)",
         "line": {
          "color": "#FECB52",
          "dash": "solid"
         },
         "marker": {
          "symbol": "circle"
         },
         "mode": "lines+markers",
         "name": "Lakeside (Seattle)",
         "orientation": "v",
         "showlegend": true,
         "type": "scatter",
         "x": [
          "2016-17",
          "2017-18",
          "2018-19",
          "2020-21",
          "2021-22",
          "2022-23",
          "2023-24",
          "2024-25"
         ],
         "xaxis": "x",
         "y": [
          1599.4188923786676,
          1721.786543940985,
          1859.5756937286628,
          1851.926662295904,
          1892.0300107436824,
          1843.3708292847568,
          1928.4946165384808,
          1661.042528439604
         ],
         "yaxis": "y"
        },
        {
         "customdata": [
          [
           "Lincoln (Seattle)",
           1544.4842939572063
          ],
          [
           "Lincoln (Seattle)",
           1631.9183758182808
          ],
          [
           "Lincoln (Seattle)",
           2034.5749938613487
          ],
          [
           "Lincoln (Seattle)",
           2058.8892244958693
          ],
          [
           "Lincoln (Seattle)",
           2014.541639901532
          ]
         ],
         "hovertemplate": "Team=%{customdata[0]}<br>Season=%{x}<br>End-of-Season ELO=%{y}<br>Start ELO=%{customdata[1]}<extra></extra>",
         "legendgroup": "Lincoln (Seattle)",
         "line": {
          "color": "#636efa",
          "dash": "solid"
         },
         "marker": {
          "symbol": "circle"
         },
         "mode": "lines+markers",
         "name": "Lincoln (Seattle)",
         "orientation": "v",
         "showlegend": true,
         "type": "scatter",
         "x": [
          "2020-21",
          "2021-22",
          "2022-23",
          "2023-24",
          "2024-25"
         ],
         "xaxis": "x",
         "y": [
          1506.3584438585651,
          1895.0025931418843,
          2031.8069942591749,
          2002.9997757582191,
          1985.8921027667905
         ],
         "yaxis": "y"
        },
        {
         "customdata": [
          [
           "Nathan Hale",
           1552.8141155530302
          ],
          [
           "Nathan Hale",
           1517.7593138002333
          ],
          [
           "Nathan Hale",
           1532.075595401015
          ],
          [
           "Nathan Hale",
           1351.2280652001275
          ],
          [
           "Nathan Hale",
           1251.0168723856532
          ],
          [
           "Nathan Hale",
           1424.6421483392633
          ],
          [
           "Nathan Hale",
           1497.995281248698
          ],
          [
           "Nathan Hale",
           1323.6043214305823
          ]
         ],
         "hovertemplate": "Team=%{customdata[0]}<br>Season=%{x}<br>End-of-Season ELO=%{y}<br>Start ELO=%{customdata[1]}<extra></extra>",
         "legendgroup": "Nathan Hale",
         "line": {
          "color": "#EF553B",
          "dash": "solid"
         },
         "marker": {
          "symbol": "circle"
         },
         "mode": "lines+markers",
         "name": "Nathan Hale",
         "orientation": "v",
         "showlegend": true,
         "type": "scatter",
         "x": [
          "2016-17",
          "2017-18",
          "2018-19",
          "2020-21",
          "2021-22",
          "2022-23",
          "2023-24",
          "2024-25"
         ],
         "xaxis": "x",
         "y": [
          1501.13359208168,
          1493.6252894109796,
          1427.2566720535278,
          1394.9339366312367,
          1407.789802246884,
          1473.5042143948936,
          1489.256921845083,
          1424.5005458412172
         ],
         "yaxis": "y"
        },
        {
         "customdata": [
          [
           "O'Dea",
           1539.034005921036
          ],
          [
           "O'Dea",
           1709.136201278631
          ],
          [
           "O'Dea",
           1657.9474771892685
          ],
          [
           "O'Dea",
           1729.4823106498147
          ],
          [
           "O'Dea",
           1672.550550800063
          ],
          [
           "O'Dea",
           1708.637533866421
          ],
          [
           "O'Dea",
           1533.298110783645
          ],
          [
           "O'Dea",
           1747.7587146847222
          ]
         ],
         "hovertemplate": "Team=%{customdata[0]}<br>Season=%{x}<br>End-of-Season ELO=%{y}<br>Start ELO=%{customdata[1]}<extra></extra>",
         "legendgroup": "O'Dea",
         "line": {
          "color": "#00cc96",
          "dash": "solid"
         },
         "marker": {
          "symbol": "circle"
         },
         "mode": "lines+markers",
         "name": "O'Dea",
         "orientation": "v",
         "showlegend": true,
         "type": "scatter",
         "x": [
          "2016-17",
          "2017-18",
          "2018-19",
          "2020-21",
          "2021-22",
          "2022-23",
          "2023-24",
          "2024-25"
         ],
         "xaxis": "x",
         "y": [
          1778.967207814162,
          1727.4650805885972,
          1624.773035098678,
          1718.2317833957156,
          1783.8125344050463,
          1646.6227114266635,
          1814.456582258026,
          1703.565685998892
         ],
         "yaxis": "y"
        },
        {
         "customdata": [
          [
           "Rainier Beach",
           1502.0122697930783
          ],
          [
           "Rainier Beach",
           1355.601438577923
          ],
          [
           "Rainier Beach",
           1075.262761257067
          ],
          [
           "Rainier Beach",
           1163.6732844578976
          ],
          [
           "Rainier Beach",
           1120.457199834062
          ],
          [
           "Rainier Beach",
           1021.5912885284254
          ],
          [
           "Rainier Beach",
           1077.2311217567146
          ],
          [
           "Rainier Beach",
           876.6421365192455
          ]
         ],
         "hovertemplate": "Team=%{customdata[0]}<br>Season=%{x}<br>End-of-Season ELO=%{y}<br>Start ELO=%{customdata[1]}<extra></extra>",
         "legendgroup": "Rainier Beach",
         "line": {
          "color": "#ab63fa",
          "dash": "solid"
         },
         "marker": {
          "symbol": "circle"
         },
         "mode": "lines+markers",
         "name": "Rainier Beach",
         "orientation": "v",
         "showlegend": true,
         "type": "scatter",
         "x": [
          "2016-17",
          "2017-18",
          "2018-19",
          "2020-21",
          "2021-22",
          "2022-23",
          "2023-24",
          "2024-25"
         ],
         "xaxis": "x",
         "y": [
          1402.3829180488028,
          1252.0557601963703,
          1103.5521449293387,
          1130.7892342710163,
          1127.5352401016123,
          1115.7266213964497,
          927.3540526602536,
          880.0148892351292
         ],
         "yaxis": "y"
        },
        {
         "customdata": [
          [
           "Roosevelt",
           1477.52001633507
          ],
          [
           "Roosevelt",
           1753.696332149943
          ],
          [
           "Roosevelt",
           1949.959809638689
          ],
          [
           "Roosevelt",
           2003.3629976555328
          ],
          [
           "Roosevelt",
           2022.662118228819
          ],
          [
           "Roosevelt",
           1874.3984267722424
          ],
          [
           "Roosevelt",
           1651.0658787584784
          ],
          [
           "Roosevelt",
           1531.7508341099658
          ]
         ],
         "hovertemplate": "Team=%{customdata[0]}<br>Season=%{x}<br>End-of-Season ELO=%{y}<br>Start ELO=%{customdata[1]}<extra></extra>",
         "legendgroup": "Roosevelt",
         "line": {
          "color": "#FFA15A",
          "dash": "solid"
         },
         "marker": {
          "symbol": "circle"
         },
         "mode": "lines+markers",
         "name": "Roosevelt",
         "orientation": "v",
         "showlegend": true,
         "type": "scatter",
         "x": [
          "2016-17",
          "2017-18",
          "2018-19",
          "2020-21",
          "2021-22",
          "2022-23",
          "2023-24",
          "2024-25"
         ],
         "xaxis": "x",
         "y": [
          1645.2463151337524,
          1939.9399278145995,
          2016.082512898268,
          2016.6846196615184,
          1929.1149142949023,
          1641.6025743830116,
          1696.2361160260532,
          1591.5560319783797
         ],
         "yaxis": "y"
        },
        {
         "customdata": [
          [
           "Seattle Prep",
           1509.6277444309749
          ],
          [
           "Seattle Prep",
           1629.5159605975794
          ],
          [
           "Seattle Prep",
           1584.620988516391
          ],
          [
           "Seattle Prep",
           1544.699710699005
          ],
          [
           "Seattle Prep",
           1619.458019906585
          ],
          [
           "Seattle Prep",
           1729.4012348393428
          ],
          [
           "Seattle Prep",
           1776.9290561609628
          ],
          [
           "Seattle Prep",
           1863.092881082713
          ]
         ],
         "hovertemplate": "Team=%{customdata[0]}<br>Season=%{x}<br>End-of-Season ELO=%{y}<br>Start ELO=%{customdata[1]}<extra></extra>",
         "legendgroup": "Seattle Prep",
         "line": {
          "color": "#19d3f3",
          "dash": "solid"
         },
         "marker": {
          "symbol": "circle"
         },
         "mode": "lines+markers",
         "name": "Seattle Prep",
         "orientation": "v",
         "showlegend": true,
         "type": "scatter",
         "x": [
          "2016-17",
          "2017-18",
          "2018-19",
          "2020-21",
          "2021-22",
          "2022-23",
          "2023-24",
          "2024-25"
         ],
         "xaxis": "x",
         "y": [
          1672.0863541219444,
          1712.4081611578613,
          1597.988699877328,
          1578.01504797891,
          1748.2090709105255,
          1719.3142654462451,
          1819.6368225205035,
          1844.1928801629144
         ],
         "yaxis": "y"
        },
        {
         "customdata": [
          [
           "West Seattle",
           1523.5621801534178
          ],
          [
           "West Seattle",
           1608.236714395666
          ],
          [
           "West Seattle",
           1627.9373946379385
          ],
          [
           "West Seattle",
           1483.250544155523
          ],
          [
           "West Seattle",
           1425.4463559780943
          ],
          [
           "West Seattle",
           1356.853463874398
          ],
          [
           "West Seattle",
           1372.4802054215213
          ],
          [
           "West Seattle",
           1217.2898329098823
          ]
         ],
         "hovertemplate": "Team=%{customdata[0]}<br>Season=%{x}<br>End-of-Season ELO=%{y}<br>Start ELO=%{customdata[1]}<extra></extra>",
         "legendgroup": "West Seattle",
         "line": {
          "color": "#FF6692",
          "dash": "solid"
         },
         "marker": {
          "symbol": "circle"
         },
         "mode": "lines+markers",
         "name": "West Seattle",
         "orientation": "v",
         "showlegend": true,
         "type": "scatter",
         "x": [
          "2016-17",
          "2017-18",
          "2018-19",
          "2020-21",
          "2021-22",
          "2022-23",
          "2023-24",
          "2024-25"
         ],
         "xaxis": "x",
         "y": [
          1620.462154758043,
          1534.0426919288595,
          1493.362130615089,
          1604.4961861988568,
          1417.103285462076,
          1354.0478978516653,
          1262.5047674974246,
          1336.2944873875838
         ],
         "yaxis": "y"
        },
        {
         "hoverinfo": "text",
         "hovertext": [
          "Bainbridge — Start ELO: 1516.588218989289",
          "Bainbridge — Start ELO: 1665.981041976426",
          "Bainbridge — Start ELO: 1447.6456955264282"
         ],
         "legendgroup": "Bainbridge",
         "marker": {
          "size": 8,
          "symbol": "circle-open"
         },
         "mode": "markers",
         "name": "Bainbridge (Start)",
         "showlegend": false,
         "type": "scatter",
         "x": [
          "2016-17",
          "2017-18",
          "2018-19"
         ],
         "y": [
          1516.588218989289,
          1665.981041976426,
          1447.6456955264282
         ]
        },
        {
         "hoverinfo": "text",
         "hovertext": [
          "Ballard — Start ELO: 1518.456859325249",
          "Ballard — Start ELO: 1745.9223058852374",
          "Ballard — Start ELO: 1586.872366391179",
          "Ballard — Start ELO: 1655.9897232523513",
          "Ballard — Start ELO: 1553.1168534175742",
          "Ballard — Start ELO: 1509.4301360589886",
          "Ballard — Start ELO: 1778.7433302183751",
          "Ballard — Start ELO: 1584.541968290806"
         ],
         "legendgroup": "Ballard",
         "marker": {
          "size": 8,
          "symbol": "circle-open"
         },
         "mode": "markers",
         "name": "Ballard (Start)",
         "showlegend": false,
         "type": "scatter",
         "x": [
          "2016-17",
          "2017-18",
          "2018-19",
          "2020-21",
          "2021-22",
          "2022-23",
          "2023-24",
          "2024-25"
         ],
         "y": [
          1518.456859325249,
          1745.9223058852374,
          1586.872366391179,
          1655.9897232523513,
          1553.1168534175742,
          1509.4301360589886,
          1778.7433302183751,
          1584.541968290806
         ]
        },
        {
         "hoverinfo": "text",
         "hovertext": [
          "Bishop Blanchet — Start ELO: 1483.125225057678",
          "Bishop Blanchet — Start ELO: 1435.699930969365",
          "Bishop Blanchet — Start ELO: 1500.264411519315",
          "Bishop Blanchet — Start ELO: 1560.8761664366195",
          "Bishop Blanchet — Start ELO: 1542.8767179395395",
          "Bishop Blanchet — Start ELO: 1516.2255261304922",
          "Bishop Blanchet — Start ELO: 1506.2813681898497",
          "Bishop Blanchet — Start ELO: 1911.5626716677089"
         ],
         "legendgroup": "Bishop Blanchet",
         "marker": {
          "size": 8,
          "symbol": "circle-open"
         },
         "mode": "markers",
         "name": "Bishop Blanchet (Start)",
         "showlegend": false,
         "type": "scatter",
         "x": [
          "2016-17",
          "2017-18",
          "2018-19",
          "2020-21",
          "2021-22",
          "2022-23",
          "2023-24",
          "2024-25"
         ],
         "y": [
          1483.125225057678,
          1435.699930969365,
          1500.264411519315,
          1560.8761664366195,
          1542.8767179395395,
          1516.2255261304922,
          1506.2813681898497,
          1911.5626716677089
         ]
        },
        {
         "hoverinfo": "text",
         "hovertext": [
          "Chief Sealth — Start ELO: 1469.590187767243",
          "Chief Sealth — Start ELO: 1437.340267485145",
          "Chief Sealth — Start ELO: 1386.1948163711445",
          "Chief Sealth — Start ELO: 1442.766332962966",
          "Chief Sealth — Start ELO: 1547.2014603544778",
          "Chief Sealth — Start ELO: 1657.664208844982",
          "Chief Sealth — Start ELO: 1557.801959169612",
          "Chief Sealth — Start ELO: 1431.653976431173"
         ],
         "legendgroup": "Chief Sealth",
         "marker": {
          "size": 8,
          "symbol": "circle-open"
         },
         "mode": "markers",
         "name": "Chief Sealth (Start)",
         "showlegend": false,
         "type": "scatter",
         "x": [
          "2016-17",
          "2017-18",
          "2018-19",
          "2020-21",
          "2021-22",
          "2022-23",
          "2023-24",
          "2024-25"
         ],
         "y": [
          1469.590187767243,
          1437.340267485145,
          1386.1948163711445,
          1442.766332962966,
          1547.2014603544778,
          1657.664208844982,
          1557.801959169612,
          1431.653976431173
         ]
        },
        {
         "hoverinfo": "text",
         "hovertext": [
          "Cleveland — Start ELO: 1436.4080176827993",
          "Cleveland — Start ELO: 944.6230561128624",
          "Cleveland — Start ELO: 812.2699690267482",
          "Cleveland — Start ELO: 821.0128589655083",
          "Cleveland — Start ELO: 844.2940624868924",
          "Cleveland — Start ELO: 757.4275909847003",
          "Cleveland — Start ELO: 708.9319604963263",
          "Cleveland — Start ELO: 692.2174122475305"
         ],
         "legendgroup": "Cleveland",
         "marker": {
          "size": 8,
          "symbol": "circle-open"
         },
         "mode": "markers",
         "name": "Cleveland (Start)",
         "showlegend": false,
         "type": "scatter",
         "x": [
          "2016-17",
          "2017-18",
          "2018-19",
          "2020-21",
          "2021-22",
          "2022-23",
          "2023-24",
          "2024-25"
         ],
         "y": [
          1436.4080176827993,
          944.6230561128624,
          812.2699690267482,
          821.0128589655083,
          844.2940624868924,
          757.4275909847003,
          708.9319604963263,
          692.2174122475305
         ]
        },
        {
         "hoverinfo": "text",
         "hovertext": [
          "Eastside Catholic — Start ELO: 1440.3906658053347",
          "Eastside Catholic — Start ELO: 1225.470025988968",
          "Eastside Catholic — Start ELO: 1493.107807677594",
          "Eastside Catholic — Start ELO: 1383.3782437340114",
          "Eastside Catholic — Start ELO: 1355.5703208335797",
          "Eastside Catholic — Start ELO: 1256.493055328202",
          "Eastside Catholic — Start ELO: 1306.3671323850936",
          "Eastside Catholic — Start ELO: 1572.375733169639"
         ],
         "legendgroup": "Eastside Catholic",
         "marker": {
          "size": 8,
          "symbol": "circle-open"
         },
         "mode": "markers",
         "name": "Eastside Catholic (Start)",
         "showlegend": false,
         "type": "scatter",
         "x": [
          "2016-17",
          "2017-18",
          "2018-19",
          "2020-21",
          "2021-22",
          "2022-23",
          "2023-24",
          "2024-25"
         ],
         "y": [
          1440.3906658053347,
          1225.470025988968,
          1493.107807677594,
          1383.3782437340114,
          1355.5703208335797,
          1256.493055328202,
          1306.3671323850936,
          1572.375733169639
         ]
        },
        {
         "hoverinfo": "text",
         "hovertext": [
          "Franklin — Start ELO: 1482.2348609205908",
          "Franklin — Start ELO: 1480.3134967961223",
          "Franklin — Start ELO: 1263.5585458607663",
          "Franklin — Start ELO: 1468.1982299269123",
          "Franklin — Start ELO: 1437.762963897325",
          "Franklin — Start ELO: 1244.515248425755",
          "Franklin — Start ELO: 1149.3310684326495",
          "Franklin — Start ELO: 1172.5818483742846"
         ],
         "legendgroup": "Franklin",
         "marker": {
          "size": 8,
          "symbol": "circle-open"
         },
         "mode": "markers",
         "name": "Franklin (Start)",
         "showlegend": false,
         "type": "scatter",
         "x": [
          "2016-17",
          "2017-18",
          "2018-19",
          "2020-21",
          "2021-22",
          "2022-23",
          "2023-24",
          "2024-25"
         ],
         "y": [
          1482.2348609205908,
          1480.3134967961223,
          1263.5585458607663,
          1468.1982299269123,
          1437.762963897325,
          1244.515248425755,
          1149.3310684326495,
          1172.5818483742846
         ]
        },
        {
         "hoverinfo": "text",
         "hovertext": [
          "Garfield — Start ELO: 1528.7948000157692",
          "Garfield — Start ELO: 1617.4289398099625",
          "Garfield — Start ELO: 1842.942950281857",
          "Garfield — Start ELO: 1661.849485396983",
          "Garfield — Start ELO: 1667.261575016821",
          "Garfield — Start ELO: 1582.2322351916964",
          "Garfield — Start ELO: 1657.9934836362538",
          "Garfield — Start ELO: 1653.9258971069346"
         ],
         "legendgroup": "Garfield",
         "marker": {
          "size": 8,
          "symbol": "circle-open"
         },
         "mode": "markers",
         "name": "Garfield (Start)",
         "showlegend": false,
         "type": "scatter",
         "x": [
          "2016-17",
          "2017-18",
          "2018-19",
          "2020-21",
          "2021-22",
          "2022-23",
          "2023-24",
          "2024-25"
         ],
         "y": [
          1528.7948000157692,
          1617.4289398099625,
          1842.942950281857,
          1661.849485396983,
          1667.261575016821,
          1582.2322351916964,
          1657.9934836362538,
          1653.9258971069346
         ]
        },
        {
         "hoverinfo": "text",
         "hovertext": [
          "Ingraham — Start ELO: 1308.5951911288623",
          "Ingraham — Start ELO: 1318.761898794363",
          "Ingraham — Start ELO: 1429.309278524636",
          "Ingraham — Start ELO: 1289.6489222962095",
          "Ingraham — Start ELO: 1467.903678109934",
          "Ingraham — Start ELO: 1471.2447421421275",
          "Ingraham — Start ELO: 1475.7747165091987",
          "Ingraham — Start ELO: 1417.7085696746922"
         ],
         "legendgroup": "Ingraham",
         "marker": {
          "size": 8,
          "symbol": "circle-open"
         },
         "mode": "markers",
         "name": "Ingraham (Start)",
         "showlegend": false,
         "type": "scatter",
         "x": [
          "2016-17",
          "2017-18",
          "2018-19",
          "2020-21",
          "2021-22",
          "2022-23",
          "2023-24",
          "2024-25"
         ],
         "y": [
          1308.5951911288623,
          1318.761898794363,
          1429.309278524636,
          1289.6489222962095,
          1467.903678109934,
          1471.2447421421275,
          1475.7747165091987,
          1417.7085696746922
         ]
        },
        {
         "hoverinfo": "text",
         "hovertext": [
          "Lakeside (Seattle) — Start ELO: 1604.7013681595254",
          "Lakeside (Seattle) — Start ELO: 1613.1508535932728",
          "Lakeside (Seattle) — Start ELO: 1746.802095986325",
          "Lakeside (Seattle) — Start ELO: 1881.540365637424",
          "Lakeside (Seattle) — Start ELO: 1857.9264970245936",
          "Lakeside (Seattle) — Start ELO: 1810.9254868337723",
          "Lakeside (Seattle) — Start ELO: 1861.7322455382416",
          "Lakeside (Seattle) — Start ELO: 1808.9448531177989"
         ],
         "legendgroup": "Lakeside (Seattle)",
         "marker": {
          "size": 8,
          "symbol": "circle-open"
         },
         "mode": "markers",
         "name": "Lakeside (Seattle) (Start)",
         "showlegend": false,
         "type": "scatter",
         "x": [
          "2016-17",
          "2017-18",
          "2018-19",
          "2020-21",
          "2021-22",
          "2022-23",
          "2023-24",
          "2024-25"
         ],
         "y": [
          1604.7013681595254,
          1613.1508535932728,
          1746.802095986325,
          1881.540365637424,
          1857.9264970245936,
          1810.9254868337723,
          1861.7322455382416,
          1808.9448531177989
         ]
        },
        {
         "hoverinfo": "text",
         "hovertext": [
          "Lincoln (Seattle) — Start ELO: 1544.4842939572063",
          "Lincoln (Seattle) — Start ELO: 1631.9183758182808",
          "Lincoln (Seattle) — Start ELO: 2034.5749938613487",
          "Lincoln (Seattle) — Start ELO: 2058.8892244958693",
          "Lincoln (Seattle) — Start ELO: 2014.541639901532"
         ],
         "legendgroup": "Lincoln (Seattle)",
         "marker": {
          "size": 8,
          "symbol": "circle-open"
         },
         "mode": "markers",
         "name": "Lincoln (Seattle) (Start)",
         "showlegend": false,
         "type": "scatter",
         "x": [
          "2020-21",
          "2021-22",
          "2022-23",
          "2023-24",
          "2024-25"
         ],
         "y": [
          1544.4842939572063,
          1631.9183758182808,
          2034.5749938613487,
          2058.8892244958693,
          2014.541639901532
         ]
        },
        {
         "hoverinfo": "text",
         "hovertext": [
          "Nathan Hale — Start ELO: 1552.8141155530302",
          "Nathan Hale — Start ELO: 1517.7593138002333",
          "Nathan Hale — Start ELO: 1532.075595401015",
          "Nathan Hale — Start ELO: 1351.2280652001275",
          "Nathan Hale — Start ELO: 1251.0168723856532",
          "Nathan Hale — Start ELO: 1424.6421483392633",
          "Nathan Hale — Start ELO: 1497.995281248698",
          "Nathan Hale — Start ELO: 1323.6043214305823"
         ],
         "legendgroup": "Nathan Hale",
         "marker": {
          "size": 8,
          "symbol": "circle-open"
         },
         "mode": "markers",
         "name": "Nathan Hale (Start)",
         "showlegend": false,
         "type": "scatter",
         "x": [
          "2016-17",
          "2017-18",
          "2018-19",
          "2020-21",
          "2021-22",
          "2022-23",
          "2023-24",
          "2024-25"
         ],
         "y": [
          1552.8141155530302,
          1517.7593138002333,
          1532.075595401015,
          1351.2280652001275,
          1251.0168723856532,
          1424.6421483392633,
          1497.995281248698,
          1323.6043214305823
         ]
        },
        {
         "hoverinfo": "text",
         "hovertext": [
          "O'Dea — Start ELO: 1539.034005921036",
          "O'Dea — Start ELO: 1709.136201278631",
          "O'Dea — Start ELO: 1657.9474771892685",
          "O'Dea — Start ELO: 1729.4823106498147",
          "O'Dea — Start ELO: 1672.550550800063",
          "O'Dea — Start ELO: 1708.637533866421",
          "O'Dea — Start ELO: 1533.298110783645",
          "O'Dea — Start ELO: 1747.7587146847222"
         ],
         "legendgroup": "O'Dea",
         "marker": {
          "size": 8,
          "symbol": "circle-open"
         },
         "mode": "markers",
         "name": "O'Dea (Start)",
         "showlegend": false,
         "type": "scatter",
         "x": [
          "2016-17",
          "2017-18",
          "2018-19",
          "2020-21",
          "2021-22",
          "2022-23",
          "2023-24",
          "2024-25"
         ],
         "y": [
          1539.034005921036,
          1709.136201278631,
          1657.9474771892685,
          1729.4823106498147,
          1672.550550800063,
          1708.637533866421,
          1533.298110783645,
          1747.7587146847222
         ]
        },
        {
         "hoverinfo": "text",
         "hovertext": [
          "Rainier Beach — Start ELO: 1502.0122697930783",
          "Rainier Beach — Start ELO: 1355.601438577923",
          "Rainier Beach — Start ELO: 1075.262761257067",
          "Rainier Beach — Start ELO: 1163.6732844578976",
          "Rainier Beach — Start ELO: 1120.457199834062",
          "Rainier Beach — Start ELO: 1021.5912885284254",
          "Rainier Beach — Start ELO: 1077.2311217567146",
          "Rainier Beach — Start ELO: 876.6421365192455"
         ],
         "legendgroup": "Rainier Beach",
         "marker": {
          "size": 8,
          "symbol": "circle-open"
         },
         "mode": "markers",
         "name": "Rainier Beach (Start)",
         "showlegend": false,
         "type": "scatter",
         "x": [
          "2016-17",
          "2017-18",
          "2018-19",
          "2020-21",
          "2021-22",
          "2022-23",
          "2023-24",
          "2024-25"
         ],
         "y": [
          1502.0122697930783,
          1355.601438577923,
          1075.262761257067,
          1163.6732844578976,
          1120.457199834062,
          1021.5912885284254,
          1077.2311217567146,
          876.6421365192455
         ]
        },
        {
         "hoverinfo": "text",
         "hovertext": [
          "Roosevelt — Start ELO: 1477.52001633507",
          "Roosevelt — Start ELO: 1753.696332149943",
          "Roosevelt — Start ELO: 1949.959809638689",
          "Roosevelt — Start ELO: 2003.3629976555328",
          "Roosevelt — Start ELO: 2022.662118228819",
          "Roosevelt — Start ELO: 1874.3984267722424",
          "Roosevelt — Start ELO: 1651.0658787584784",
          "Roosevelt — Start ELO: 1531.7508341099658"
         ],
         "legendgroup": "Roosevelt",
         "marker": {
          "size": 8,
          "symbol": "circle-open"
         },
         "mode": "markers",
         "name": "Roosevelt (Start)",
         "showlegend": false,
         "type": "scatter",
         "x": [
          "2016-17",
          "2017-18",
          "2018-19",
          "2020-21",
          "2021-22",
          "2022-23",
          "2023-24",
          "2024-25"
         ],
         "y": [
          1477.52001633507,
          1753.696332149943,
          1949.959809638689,
          2003.3629976555328,
          2022.662118228819,
          1874.3984267722424,
          1651.0658787584784,
          1531.7508341099658
         ]
        },
        {
         "hoverinfo": "text",
         "hovertext": [
          "Seattle Prep — Start ELO: 1509.6277444309749",
          "Seattle Prep — Start ELO: 1629.5159605975794",
          "Seattle Prep — Start ELO: 1584.620988516391",
          "Seattle Prep — Start ELO: 1544.699710699005",
          "Seattle Prep — Start ELO: 1619.458019906585",
          "Seattle Prep — Start ELO: 1729.4012348393428",
          "Seattle Prep — Start ELO: 1776.9290561609628",
          "Seattle Prep — Start ELO: 1863.092881082713"
         ],
         "legendgroup": "Seattle Prep",
         "marker": {
          "size": 8,
          "symbol": "circle-open"
         },
         "mode": "markers",
         "name": "Seattle Prep (Start)",
         "showlegend": false,
         "type": "scatter",
         "x": [
          "2016-17",
          "2017-18",
          "2018-19",
          "2020-21",
          "2021-22",
          "2022-23",
          "2023-24",
          "2024-25"
         ],
         "y": [
          1509.6277444309749,
          1629.5159605975794,
          1584.620988516391,
          1544.699710699005,
          1619.458019906585,
          1729.4012348393428,
          1776.9290561609628,
          1863.092881082713
         ]
        },
        {
         "hoverinfo": "text",
         "hovertext": [
          "West Seattle — Start ELO: 1523.5621801534178",
          "West Seattle — Start ELO: 1608.236714395666",
          "West Seattle — Start ELO: 1627.9373946379385",
          "West Seattle — Start ELO: 1483.250544155523",
          "West Seattle — Start ELO: 1425.4463559780943",
          "West Seattle — Start ELO: 1356.853463874398",
          "West Seattle — Start ELO: 1372.4802054215213",
          "West Seattle — Start ELO: 1217.2898329098823"
         ],
         "legendgroup": "West Seattle",
         "marker": {
          "size": 8,
          "symbol": "circle-open"
         },
         "mode": "markers",
         "name": "West Seattle (Start)",
         "showlegend": false,
         "type": "scatter",
         "x": [
          "2016-17",
          "2017-18",
          "2018-19",
          "2020-21",
          "2021-22",
          "2022-23",
          "2023-24",
          "2024-25"
         ],
         "y": [
          1523.5621801534178,
          1608.236714395666,
          1627.9373946379385,
          1483.250544155523,
          1425.4463559780943,
          1356.853463874398,
          1372.4802054215213,
          1217.2898329098823
         ]
        }
       ],
       "layout": {
        "height": 700,
        "hovermode": "x unified",
        "legend": {
         "itemclick": "toggleothers",
         "title": {
          "text": "Team"
         },
         "tracegroupgap": 0
        },
        "margin": {
         "b": 80,
         "t": 60
        },
        "template": {
         "data": {
          "bar": [
           {
            "error_x": {
             "color": "#2a3f5f"
            },
            "error_y": {
             "color": "#2a3f5f"
            },
            "marker": {
             "line": {
              "color": "#E5ECF6",
              "width": 0.5
             },
             "pattern": {
              "fillmode": "overlay",
              "size": 10,
              "solidity": 0.2
             }
            },
            "type": "bar"
           }
          ],
          "barpolar": [
           {
            "marker": {
             "line": {
              "color": "#E5ECF6",
              "width": 0.5
             },
             "pattern": {
              "fillmode": "overlay",
              "size": 10,
              "solidity": 0.2
             }
            },
            "type": "barpolar"
           }
          ],
          "carpet": [
           {
            "aaxis": {
             "endlinecolor": "#2a3f5f",
             "gridcolor": "white",
             "linecolor": "white",
             "minorgridcolor": "white",
             "startlinecolor": "#2a3f5f"
            },
            "baxis": {
             "endlinecolor": "#2a3f5f",
             "gridcolor": "white",
             "linecolor": "white",
             "minorgridcolor": "white",
             "startlinecolor": "#2a3f5f"
            },
            "type": "carpet"
           }
          ],
          "choropleth": [
           {
            "colorbar": {
             "outlinewidth": 0,
             "ticks": ""
            },
            "type": "choropleth"
           }
          ],
          "contour": [
           {
            "colorbar": {
             "outlinewidth": 0,
             "ticks": ""
            },
            "colorscale": [
             [
              0,
              "#0d0887"
             ],
             [
              0.1111111111111111,
              "#46039f"
             ],
             [
              0.2222222222222222,
              "#7201a8"
             ],
             [
              0.3333333333333333,
              "#9c179e"
             ],
             [
              0.4444444444444444,
              "#bd3786"
             ],
             [
              0.5555555555555556,
              "#d8576b"
             ],
             [
              0.6666666666666666,
              "#ed7953"
             ],
             [
              0.7777777777777778,
              "#fb9f3a"
             ],
             [
              0.8888888888888888,
              "#fdca26"
             ],
             [
              1,
              "#f0f921"
             ]
            ],
            "type": "contour"
           }
          ],
          "contourcarpet": [
           {
            "colorbar": {
             "outlinewidth": 0,
             "ticks": ""
            },
            "type": "contourcarpet"
           }
          ],
          "heatmap": [
           {
            "colorbar": {
             "outlinewidth": 0,
             "ticks": ""
            },
            "colorscale": [
             [
              0,
              "#0d0887"
             ],
             [
              0.1111111111111111,
              "#46039f"
             ],
             [
              0.2222222222222222,
              "#7201a8"
             ],
             [
              0.3333333333333333,
              "#9c179e"
             ],
             [
              0.4444444444444444,
              "#bd3786"
             ],
             [
              0.5555555555555556,
              "#d8576b"
             ],
             [
              0.6666666666666666,
              "#ed7953"
             ],
             [
              0.7777777777777778,
              "#fb9f3a"
             ],
             [
              0.8888888888888888,
              "#fdca26"
             ],
             [
              1,
              "#f0f921"
             ]
            ],
            "type": "heatmap"
           }
          ],
          "heatmapgl": [
           {
            "colorbar": {
             "outlinewidth": 0,
             "ticks": ""
            },
            "colorscale": [
             [
              0,
              "#0d0887"
             ],
             [
              0.1111111111111111,
              "#46039f"
             ],
             [
              0.2222222222222222,
              "#7201a8"
             ],
             [
              0.3333333333333333,
              "#9c179e"
             ],
             [
              0.4444444444444444,
              "#bd3786"
             ],
             [
              0.5555555555555556,
              "#d8576b"
             ],
             [
              0.6666666666666666,
              "#ed7953"
             ],
             [
              0.7777777777777778,
              "#fb9f3a"
             ],
             [
              0.8888888888888888,
              "#fdca26"
             ],
             [
              1,
              "#f0f921"
             ]
            ],
            "type": "heatmapgl"
           }
          ],
          "histogram": [
           {
            "marker": {
             "pattern": {
              "fillmode": "overlay",
              "size": 10,
              "solidity": 0.2
             }
            },
            "type": "histogram"
           }
          ],
          "histogram2d": [
           {
            "colorbar": {
             "outlinewidth": 0,
             "ticks": ""
            },
            "colorscale": [
             [
              0,
              "#0d0887"
             ],
             [
              0.1111111111111111,
              "#46039f"
             ],
             [
              0.2222222222222222,
              "#7201a8"
             ],
             [
              0.3333333333333333,
              "#9c179e"
             ],
             [
              0.4444444444444444,
              "#bd3786"
             ],
             [
              0.5555555555555556,
              "#d8576b"
             ],
             [
              0.6666666666666666,
              "#ed7953"
             ],
             [
              0.7777777777777778,
              "#fb9f3a"
             ],
             [
              0.8888888888888888,
              "#fdca26"
             ],
             [
              1,
              "#f0f921"
             ]
            ],
            "type": "histogram2d"
           }
          ],
          "histogram2dcontour": [
           {
            "colorbar": {
             "outlinewidth": 0,
             "ticks": ""
            },
            "colorscale": [
             [
              0,
              "#0d0887"
             ],
             [
              0.1111111111111111,
              "#46039f"
             ],
             [
              0.2222222222222222,
              "#7201a8"
             ],
             [
              0.3333333333333333,
              "#9c179e"
             ],
             [
              0.4444444444444444,
              "#bd3786"
             ],
             [
              0.5555555555555556,
              "#d8576b"
             ],
             [
              0.6666666666666666,
              "#ed7953"
             ],
             [
              0.7777777777777778,
              "#fb9f3a"
             ],
             [
              0.8888888888888888,
              "#fdca26"
             ],
             [
              1,
              "#f0f921"
             ]
            ],
            "type": "histogram2dcontour"
           }
          ],
          "mesh3d": [
           {
            "colorbar": {
             "outlinewidth": 0,
             "ticks": ""
            },
            "type": "mesh3d"
           }
          ],
          "parcoords": [
           {
            "line": {
             "colorbar": {
              "outlinewidth": 0,
              "ticks": ""
             }
            },
            "type": "parcoords"
           }
          ],
          "pie": [
           {
            "automargin": true,
            "type": "pie"
           }
          ],
          "scatter": [
           {
            "fillpattern": {
             "fillmode": "overlay",
             "size": 10,
             "solidity": 0.2
            },
            "type": "scatter"
           }
          ],
          "scatter3d": [
           {
            "line": {
             "colorbar": {
              "outlinewidth": 0,
              "ticks": ""
             }
            },
            "marker": {
             "colorbar": {
              "outlinewidth": 0,
              "ticks": ""
             }
            },
            "type": "scatter3d"
           }
          ],
          "scattercarpet": [
           {
            "marker": {
             "colorbar": {
              "outlinewidth": 0,
              "ticks": ""
             }
            },
            "type": "scattercarpet"
           }
          ],
          "scattergeo": [
           {
            "marker": {
             "colorbar": {
              "outlinewidth": 0,
              "ticks": ""
             }
            },
            "type": "scattergeo"
           }
          ],
          "scattergl": [
           {
            "marker": {
             "colorbar": {
              "outlinewidth": 0,
              "ticks": ""
             }
            },
            "type": "scattergl"
           }
          ],
          "scattermapbox": [
           {
            "marker": {
             "colorbar": {
              "outlinewidth": 0,
              "ticks": ""
             }
            },
            "type": "scattermapbox"
           }
          ],
          "scatterpolar": [
           {
            "marker": {
             "colorbar": {
              "outlinewidth": 0,
              "ticks": ""
             }
            },
            "type": "scatterpolar"
           }
          ],
          "scatterpolargl": [
           {
            "marker": {
             "colorbar": {
              "outlinewidth": 0,
              "ticks": ""
             }
            },
            "type": "scatterpolargl"
           }
          ],
          "scatterternary": [
           {
            "marker": {
             "colorbar": {
              "outlinewidth": 0,
              "ticks": ""
             }
            },
            "type": "scatterternary"
           }
          ],
          "surface": [
           {
            "colorbar": {
             "outlinewidth": 0,
             "ticks": ""
            },
            "colorscale": [
             [
              0,
              "#0d0887"
             ],
             [
              0.1111111111111111,
              "#46039f"
             ],
             [
              0.2222222222222222,
              "#7201a8"
             ],
             [
              0.3333333333333333,
              "#9c179e"
             ],
             [
              0.4444444444444444,
              "#bd3786"
             ],
             [
              0.5555555555555556,
              "#d8576b"
             ],
             [
              0.6666666666666666,
              "#ed7953"
             ],
             [
              0.7777777777777778,
              "#fb9f3a"
             ],
             [
              0.8888888888888888,
              "#fdca26"
             ],
             [
              1,
              "#f0f921"
             ]
            ],
            "type": "surface"
           }
          ],
          "table": [
           {
            "cells": {
             "fill": {
              "color": "#EBF0F8"
             },
             "line": {
              "color": "white"
             }
            },
            "header": {
             "fill": {
              "color": "#C8D4E3"
             },
             "line": {
              "color": "white"
             }
            },
            "type": "table"
           }
          ]
         },
         "layout": {
          "annotationdefaults": {
           "arrowcolor": "#2a3f5f",
           "arrowhead": 0,
           "arrowwidth": 1
          },
          "autotypenumbers": "strict",
          "coloraxis": {
           "colorbar": {
            "outlinewidth": 0,
            "ticks": ""
           }
          },
          "colorscale": {
           "diverging": [
            [
             0,
             "#8e0152"
            ],
            [
             0.1,
             "#c51b7d"
            ],
            [
             0.2,
             "#de77ae"
            ],
            [
             0.3,
             "#f1b6da"
            ],
            [
             0.4,
             "#fde0ef"
            ],
            [
             0.5,
             "#f7f7f7"
            ],
            [
             0.6,
             "#e6f5d0"
            ],
            [
             0.7,
             "#b8e186"
            ],
            [
             0.8,
             "#7fbc41"
            ],
            [
             0.9,
             "#4d9221"
            ],
            [
             1,
             "#276419"
            ]
           ],
           "sequential": [
            [
             0,
             "#0d0887"
            ],
            [
             0.1111111111111111,
             "#46039f"
            ],
            [
             0.2222222222222222,
             "#7201a8"
            ],
            [
             0.3333333333333333,
             "#9c179e"
            ],
            [
             0.4444444444444444,
             "#bd3786"
            ],
            [
             0.5555555555555556,
             "#d8576b"
            ],
            [
             0.6666666666666666,
             "#ed7953"
            ],
            [
             0.7777777777777778,
             "#fb9f3a"
            ],
            [
             0.8888888888888888,
             "#fdca26"
            ],
            [
             1,
             "#f0f921"
            ]
           ],
           "sequentialminus": [
            [
             0,
             "#0d0887"
            ],
            [
             0.1111111111111111,
             "#46039f"
            ],
            [
             0.2222222222222222,
             "#7201a8"
            ],
            [
             0.3333333333333333,
             "#9c179e"
            ],
            [
             0.4444444444444444,
             "#bd3786"
            ],
            [
             0.5555555555555556,
             "#d8576b"
            ],
            [
             0.6666666666666666,
             "#ed7953"
            ],
            [
             0.7777777777777778,
             "#fb9f3a"
            ],
            [
             0.8888888888888888,
             "#fdca26"
            ],
            [
             1,
             "#f0f921"
            ]
           ]
          },
          "colorway": [
           "#636efa",
           "#EF553B",
           "#00cc96",
           "#ab63fa",
           "#FFA15A",
           "#19d3f3",
           "#FF6692",
           "#B6E880",
           "#FF97FF",
           "#FECB52"
          ],
          "font": {
           "color": "#2a3f5f"
          },
          "geo": {
           "bgcolor": "white",
           "lakecolor": "white",
           "landcolor": "#E5ECF6",
           "showlakes": true,
           "showland": true,
           "subunitcolor": "white"
          },
          "hoverlabel": {
           "align": "left"
          },
          "hovermode": "closest",
          "mapbox": {
           "style": "light"
          },
          "paper_bgcolor": "white",
          "plot_bgcolor": "#E5ECF6",
          "polar": {
           "angularaxis": {
            "gridcolor": "white",
            "linecolor": "white",
            "ticks": ""
           },
           "bgcolor": "#E5ECF6",
           "radialaxis": {
            "gridcolor": "white",
            "linecolor": "white",
            "ticks": ""
           }
          },
          "scene": {
           "xaxis": {
            "backgroundcolor": "#E5ECF6",
            "gridcolor": "white",
            "gridwidth": 2,
            "linecolor": "white",
            "showbackground": true,
            "ticks": "",
            "zerolinecolor": "white"
           },
           "yaxis": {
            "backgroundcolor": "#E5ECF6",
            "gridcolor": "white",
            "gridwidth": 2,
            "linecolor": "white",
            "showbackground": true,
            "ticks": "",
            "zerolinecolor": "white"
           },
           "zaxis": {
            "backgroundcolor": "#E5ECF6",
            "gridcolor": "white",
            "gridwidth": 2,
            "linecolor": "white",
            "showbackground": true,
            "ticks": "",
            "zerolinecolor": "white"
           }
          },
          "shapedefaults": {
           "line": {
            "color": "#2a3f5f"
           }
          },
          "ternary": {
           "aaxis": {
            "gridcolor": "white",
            "linecolor": "white",
            "ticks": ""
           },
           "baxis": {
            "gridcolor": "white",
            "linecolor": "white",
            "ticks": ""
           },
           "bgcolor": "#E5ECF6",
           "caxis": {
            "gridcolor": "white",
            "linecolor": "white",
            "ticks": ""
           }
          },
          "title": {
           "x": 0.05
          },
          "xaxis": {
           "automargin": true,
           "gridcolor": "white",
           "linecolor": "white",
           "ticks": "",
           "title": {
            "standoff": 15
           },
           "zerolinecolor": "white",
           "zerolinewidth": 2
          },
          "yaxis": {
           "automargin": true,
           "gridcolor": "white",
           "linecolor": "white",
           "ticks": "",
           "title": {
            "standoff": 15
           },
           "zerolinecolor": "white",
           "zerolinewidth": 2
          }
         }
        },
        "title": {
         "text": "📊 Start vs End of Season ELO Progression (All Seasons)"
        },
        "xaxis": {
         "anchor": "y",
         "domain": [
          0,
          1
         ],
         "title": {
          "text": "Season"
         }
        },
        "yaxis": {
         "anchor": "x",
         "domain": [
          0,
          1
         ],
         "title": {
          "text": "ELO Rating"
         }
        }
       }
      }
     },
     "metadata": {},
     "output_type": "display_data"
    }
   ],
   "source": [
    "import pandas as pd\n",
    "import plotly.express as px\n",
    "\n",
    "# Load long-format ELO\n",
    "df = pd.read_csv(r\"C:\\Users\\User\\Desktop\\Soccer Footage\\metroleague_elo_long.csv\")\n",
    "\n",
    "# Sort by team and match number\n",
    "df = df.sort_values(by=[\"Team\", \"Season\", \"Season Match #\"])\n",
    "\n",
    "# Filter teams with enough total games (optional)\n",
    "min_games = 10\n",
    "team_counts = df[\"Team\"].value_counts()\n",
    "df = df[df[\"Team\"].isin(team_counts[team_counts >= min_games].index)]\n",
    "\n",
    "# Group by team and season to get first and last ELO\n",
    "start_elo = df.groupby([\"Team\", \"Season\"]).first().reset_index()[[\"Team\", \"Season\", \"ELO\"]].rename(columns={\"ELO\": \"Start ELO\"})\n",
    "end_elo = df.groupby([\"Team\", \"Season\"]).last().reset_index()[[\"Team\", \"Season\", \"ELO\"]].rename(columns={\"ELO\": \"End ELO\"})\n",
    "\n",
    "# Merge into single DataFrame\n",
    "elo_summary = pd.merge(start_elo, end_elo, on=[\"Team\", \"Season\"])\n",
    "\n",
    "# Plot\n",
    "fig = px.line(\n",
    "    elo_summary.sort_values(by=[\"Team\", \"Season\"]),\n",
    "    x=\"Season\",\n",
    "    y=\"End ELO\",\n",
    "    color=\"Team\",\n",
    "    line_group=\"Team\",\n",
    "    markers=True,\n",
    "    hover_data=[\"Team\", \"Start ELO\", \"End ELO\"],\n",
    "    title=\"📊 Start vs End of Season ELO Progression (All Seasons)\",\n",
    "    labels={\"End ELO\": \"End-of-Season ELO\"},\n",
    ")\n",
    "\n",
    "# Add start ELO markers\n",
    "for team in elo_summary['Team'].unique():\n",
    "    team_data = elo_summary[elo_summary['Team'] == team]\n",
    "    fig.add_scatter(\n",
    "        x=team_data['Season'],\n",
    "        y=team_data['Start ELO'],\n",
    "        mode='markers',\n",
    "        marker=dict(symbol='circle-open', size=8),\n",
    "        name=f\"{team} (Start)\",\n",
    "        legendgroup=team,\n",
    "        showlegend=False,\n",
    "        hoverinfo='text',\n",
    "        hovertext=[\n",
    "            f\"{team} — Start ELO: {elo}\" for elo in team_data['Start ELO']\n",
    "        ]\n",
    "    )\n",
    "\n",
    "fig.update_layout(\n",
    "    xaxis_title=\"Season\",\n",
    "    yaxis_title=\"ELO Rating\",\n",
    "    height=700,\n",
    "    hovermode=\"x unified\",\n",
    "    legend=dict(title=\"Team\", itemclick=\"toggleothers\"),\n",
    "    margin=dict(t=60, b=80)\n",
    ")\n",
    "\n",
    "fig.show()\n"
   ]
  },
  {
   "cell_type": "code",
   "execution_count": 344,
   "metadata": {},
   "outputs": [
    {
     "name": "stdout",
     "output_type": "stream",
     "text": [
      "\n",
      "📈 ELO Model Accuracy on 2024–25 Season:\n",
      "✅ Confident Predictions (W/L): 39 matches\n",
      "🎯 Accuracy: 61.54%\n",
      "\n",
      "❌ Sample Mismatches:\n",
      "        Home Team        Away Team  Home Score  Away Score  Win Prob  \\\n",
      "912      Ingraham      Nathan Hale           1           1  0.349401   \n",
      "921      Franklin     Chief Sealth           4           2  0.175105   \n",
      "926      Franklin     West Seattle           3           1  0.257790   \n",
      "927   Nathan Hale     West Seattle           2           5  0.625489   \n",
      "929  West Seattle  Seattle Academy           2           1  0.171517   \n",
      "\n",
      "    Predicted Actual  \n",
      "912         L      T  \n",
      "921         L      W  \n",
      "926         L      W  \n",
      "927         W      L  \n",
      "929         L      W  \n",
      "⚖️ Toss-up calls were correct 58.33% of the time (i.e., ended in ties)\n"
     ]
    }
   ],
   "source": [
    "# Load your ELO match log\n",
    "elo_df = pd.read_csv(r\"C:\\Users\\User\\Desktop\\Soccer Footage\\metroleague_elo_log.csv\")\n",
    "\n",
    "# Step 1: Filter 2024–25 matches that have results\n",
    "test_df = elo_df[\n",
    "    (elo_df[\"Season\"] == \"2024-25\") &\n",
    "    (elo_df[\"Home Score\"].notna()) &\n",
    "    (elo_df[\"Away Score\"].notna()) &\n",
    "    ~((elo_df[\"Home Score\"] == 0) & (elo_df[\"Away Score\"] == 0))\n",
    "].copy()\n",
    "\n",
    "\n",
    "# Step 2: Calculate Win Probabilities for Home team\n",
    "def expected_result(home_elo, away_elo, hfa=100):\n",
    "    return 1 / (1 + 10 ** ((away_elo - home_elo + hfa) / 400))\n",
    "\n",
    "test_df[\"Win Prob\"] = test_df.apply(\n",
    "    lambda row: expected_result(row[\"Home ELO Before\"], row[\"Away ELO Before\"]), axis=1\n",
    ")\n",
    "\n",
    "# Step 3: Predict result\n",
    "def classify_prediction(p):\n",
    "    if p > 0.6:\n",
    "        return \"W\"\n",
    "    elif p < 0.4:\n",
    "        return \"L\"\n",
    "    else:\n",
    "        return \"Toss-up\"\n",
    "\n",
    "test_df[\"Predicted\"] = test_df[\"Win Prob\"].apply(classify_prediction)\n",
    "\n",
    "# Step 4: Actual result from score\n",
    "def actual_result(row):\n",
    "    if row[\"Home Score\"] > row[\"Away Score\"]:\n",
    "        return \"W\"\n",
    "    elif row[\"Home Score\"] < row[\"Away Score\"]:\n",
    "        return \"L\"\n",
    "    else:\n",
    "        return \"T\"\n",
    "\n",
    "test_df[\"Actual\"] = test_df.apply(actual_result, axis=1)\n",
    "\n",
    "# Step 5: Evaluate\n",
    "confident_preds = test_df[test_df[\"Predicted\"] != \"Toss-up\"]\n",
    "accuracy = (confident_preds[\"Predicted\"] == confident_preds[\"Actual\"]).mean()\n",
    "\n",
    "# Step 6: Output\n",
    "print(f\"\\n📈 ELO Model Accuracy on 2024–25 Season:\")\n",
    "print(f\"✅ Confident Predictions (W/L): {len(confident_preds)} matches\")\n",
    "print(f\"🎯 Accuracy: {accuracy:.2%}\")\n",
    "\n",
    "# Sample mismatches\n",
    "mismatches = confident_preds[confident_preds[\"Predicted\"] != confident_preds[\"Actual\"]]\n",
    "if not mismatches.empty:\n",
    "    print(\"\\n❌ Sample Mismatches:\")\n",
    "    print(mismatches[[\n",
    "        \"Home Team\", \"Away Team\", \"Home Score\", \"Away Score\",\n",
    "        \"Win Prob\", \"Predicted\", \"Actual\"\n",
    "    ]].head())\n",
    "else:\n",
    "    print(\"\\n✅ No mismatches in confident predictions!\")\n",
    "tossups = test_df[test_df[\"Predicted\"] == \"Toss-up\"]\n",
    "tossup_accuracy = (tossups[\"Actual\"] == \"T\").mean()\n",
    "print(f\"⚖️ Toss-up calls were correct {tossup_accuracy:.2%} of the time (i.e., ended in ties)\")\n"
   ]
  },
  {
   "cell_type": "code",
   "execution_count": 345,
   "metadata": {},
   "outputs": [
    {
     "data": {
      "application/vnd.plotly.v1+json": {
       "config": {
        "plotlyServerURL": "https://plot.ly"
       },
       "data": [
        {
         "customdata": [
          [
           "Ingraham",
           "Rainier Beach",
           "W",
           107,
           3.43,
           "Home"
          ],
          [
           "Ingraham",
           "Nathan Hale",
           "D",
           108,
           -3.59,
           "Home"
          ],
          [
           "Ingraham",
           "Seattle Academy",
           "D",
           109,
           8.59,
           "Away"
          ],
          [
           "Ingraham",
           "Chief Sealth",
           "W",
           110,
           74.1,
           "Away"
          ],
          [
           "Ingraham",
           "Franklin",
           "W",
           111,
           17.26,
           "Away"
          ],
          [
           "Ingraham",
           "West Seattle",
           "W",
           112,
           21.36,
           "Away"
          ],
          [
           "Ingraham",
           "Cleveland",
           "W",
           113,
           1.66,
           "Away"
          ]
         ],
         "hovertemplate": "Team=%{customdata[0]}<br>League Match Number=%{x}<br>ELO Rating=%{y}<br>Opponent=%{customdata[1]}<br>Result=%{customdata[2]}<br>Team's Match #=%{customdata[3]}<br>ELO Change=%{customdata[4]}<br>Location=%{customdata[5]}<extra></extra>",
         "legendgroup": "Ingraham",
         "line": {
          "color": "#636efa",
          "dash": "solid"
         },
         "marker": {
          "symbol": "circle"
         },
         "mode": "lines",
         "name": "Ingraham",
         "orientation": "v",
         "showlegend": true,
         "type": "scatter",
         "x": [
          1,
          5,
          8,
          9,
          10,
          11,
          12
         ],
         "xaxis": "x",
         "y": [
          1417.7085696746922,
          1414.1161207923,
          1422.710092987909,
          1496.812422748721,
          1514.0701565284285,
          1535.4318169194987,
          1537.088537964747
         ],
         "yaxis": "y"
        },
        {
         "customdata": [
          [
           "Seattle Academy",
           "Rainier Beach",
           "W",
           1,
           2.07,
           "Home"
          ],
          [
           "Seattle Academy",
           "Ingraham",
           "D",
           2,
           -8.59,
           "Home"
          ],
          [
           "Seattle Academy",
           "Chief Sealth",
           "W",
           3,
           7.26,
           "Home"
          ],
          [
           "Seattle Academy",
           "Eastside Catholic",
           "D",
           4,
           9.14,
           "Away"
          ],
          [
           "Seattle Academy",
           "West Seattle",
           "L",
           5,
           -24.17,
           "Away"
          ],
          [
           "Seattle Academy",
           "Nathan Hale",
           "L",
           6,
           -23.54,
           "Away"
          ]
         ],
         "hovertemplate": "Team=%{customdata[0]}<br>League Match Number=%{x}<br>ELO Rating=%{y}<br>Opponent=%{customdata[1]}<br>Result=%{customdata[2]}<br>Team's Match #=%{customdata[3]}<br>ELO Change=%{customdata[4]}<br>Location=%{customdata[5]}<extra></extra>",
         "legendgroup": "Seattle Academy",
         "line": {
          "color": "#EF553B",
          "dash": "solid"
         },
         "marker": {
          "symbol": "circle"
         },
         "mode": "lines",
         "name": "Seattle Academy",
         "orientation": "v",
         "showlegend": true,
         "type": "scatter",
         "x": [
          2,
          8,
          13,
          21,
          22,
          23
         ],
         "xaxis": "x",
         "y": [
          1502.074538368373,
          1493.4805661727637,
          1500.7405835220325,
          1509.8853685349725,
          1485.71137191576,
          1462.173803189055
         ],
         "yaxis": "y"
        },
        {
         "customdata": [
          [
           "Chief Sealth",
           "Rainier Beach",
           "W",
           108,
           3.07,
           "Home"
          ],
          [
           "Chief Sealth",
           "Nathan Hale",
           "L",
           109,
           -25.73,
           "Home"
          ],
          [
           "Chief Sealth",
           "Ingraham",
           "L",
           110,
           -74.1,
           "Home"
          ],
          [
           "Chief Sealth",
           "Eastside Catholic",
           "L",
           113,
           -9.79,
           "Home"
          ],
          [
           "Chief Sealth",
           "West Seattle",
           "L",
           114,
           -56.23,
           "Home"
          ],
          [
           "Chief Sealth",
           "Seattle Academy",
           "L",
           111,
           -7.26,
           "Away"
          ],
          [
           "Chief Sealth",
           "Franklin",
           "L",
           112,
           -47.87,
           "Away"
          ]
         ],
         "hovertemplate": "Team=%{customdata[0]}<br>League Match Number=%{x}<br>ELO Rating=%{y}<br>Opponent=%{customdata[1]}<br>Result=%{customdata[2]}<br>Team's Match #=%{customdata[3]}<br>ELO Change=%{customdata[4]}<br>Location=%{customdata[5]}<extra></extra>",
         "legendgroup": "Chief Sealth",
         "line": {
          "color": "#00cc96",
          "dash": "solid"
         },
         "marker": {
          "symbol": "circle"
         },
         "mode": "lines",
         "name": "Chief Sealth",
         "orientation": "v",
         "showlegend": true,
         "type": "scatter",
         "x": [
          3,
          6,
          9,
          15,
          18,
          13,
          14
         ],
         "xaxis": "x",
         "y": [
          1431.653976431173,
          1405.9265813721804,
          1331.8242516113687,
          1266.9036580944648,
          1210.6699781667055,
          1324.5642342621,
          1276.696554108252
         ],
         "yaxis": "y"
        },
        {
         "customdata": [
          [
           "Franklin",
           "Rainier Beach",
           "W",
           103,
           12.97,
           "Home"
          ],
          [
           "Franklin",
           "Ingraham",
           "L",
           104,
           -17.26,
           "Home"
          ],
          [
           "Franklin",
           "Chief Sealth",
           "W",
           105,
           47.87,
           "Home"
          ],
          [
           "Franklin",
           "Eastside Catholic",
           "L",
           106,
           -13.37,
           "Home"
          ],
          [
           "Franklin",
           "West Seattle",
           "W",
           107,
           38.13,
           "Home"
          ],
          [
           "Franklin",
           "Cleveland",
           "W",
           108,
           3.2,
           "Away"
          ],
          [
           "Franklin",
           "Nathan Hale",
           "D",
           109,
           9.67,
           "Away"
          ]
         ],
         "hovertemplate": "Team=%{customdata[0]}<br>League Match Number=%{x}<br>ELO Rating=%{y}<br>Opponent=%{customdata[1]}<br>Result=%{customdata[2]}<br>Team's Match #=%{customdata[3]}<br>ELO Change=%{customdata[4]}<br>Location=%{customdata[5]}<extra></extra>",
         "legendgroup": "Franklin",
         "line": {
          "color": "#ab63fa",
          "dash": "solid"
         },
         "marker": {
          "symbol": "circle"
         },
         "mode": "lines",
         "name": "Franklin",
         "orientation": "v",
         "showlegend": true,
         "type": "scatter",
         "x": [
          4,
          10,
          14,
          16,
          19,
          51,
          52
         ],
         "xaxis": "x",
         "y": [
          1172.5818483742846,
          1155.3241145945772,
          1203.191794748425,
          1189.8193248727596,
          1227.944574733452,
          1231.1495076457677,
          1240.8235316208015
         ],
         "yaxis": "y"
        },
        {
         "customdata": [
          [
           "Eastside Catholic",
           "Nathan Hale",
           "W",
           105,
           30.52,
           "Home"
          ],
          [
           "Eastside Catholic",
           "Seattle Academy",
           "D",
           109,
           -9.14,
           "Home"
          ],
          [
           "Eastside Catholic",
           "Cleveland",
           "W",
           110,
           0.38,
           "Home"
          ],
          [
           "Eastside Catholic",
           "Chief Sealth",
           "W",
           106,
           9.79,
           "Away"
          ],
          [
           "Eastside Catholic",
           "Franklin",
           "W",
           107,
           13.37,
           "Away"
          ],
          [
           "Eastside Catholic",
           "Rainier Beach",
           "W",
           108,
           3.37,
           "Away"
          ]
         ],
         "hovertemplate": "Team=%{customdata[0]}<br>League Match Number=%{x}<br>ELO Rating=%{y}<br>Opponent=%{customdata[1]}<br>Result=%{customdata[2]}<br>Team's Match #=%{customdata[3]}<br>ELO Change=%{customdata[4]}<br>Location=%{customdata[5]}<extra></extra>",
         "legendgroup": "Eastside Catholic",
         "line": {
          "color": "#FFA15A",
          "dash": "solid"
         },
         "marker": {
          "symbol": "circle"
         },
         "mode": "lines",
         "name": "Eastside Catholic",
         "orientation": "v",
         "showlegend": true,
         "type": "scatter",
         "x": [
          7,
          21,
          24,
          15,
          16,
          17
         ],
         "xaxis": "x",
         "y": [
          1572.375733169639,
          1589.7690667620354,
          1590.152695811643,
          1582.1686291834262,
          1595.5410990590915,
          1598.9138517749757
         ],
         "yaxis": "y"
        },
        {
         "customdata": [
          [
           "West Seattle",
           "Ingraham",
           "L",
           110,
           -21.36,
           "Home"
          ],
          [
           "West Seattle",
           "Seattle Academy",
           "W",
           114,
           24.17,
           "Home"
          ],
          [
           "West Seattle",
           "Chief Sealth",
           "W",
           111,
           56.23,
           "Away"
          ],
          [
           "West Seattle",
           "Franklin",
           "L",
           112,
           -38.13,
           "Away"
          ],
          [
           "West Seattle",
           "Nathan Hale",
           "W",
           113,
           100.9,
           "Away"
          ]
         ],
         "hovertemplate": "Team=%{customdata[0]}<br>League Match Number=%{x}<br>ELO Rating=%{y}<br>Opponent=%{customdata[1]}<br>Result=%{customdata[2]}<br>Team's Match #=%{customdata[3]}<br>ELO Change=%{customdata[4]}<br>Location=%{customdata[5]}<extra></extra>",
         "legendgroup": "West Seattle",
         "line": {
          "color": "#19d3f3",
          "dash": "solid"
         },
         "marker": {
          "symbol": "circle"
         },
         "mode": "lines",
         "name": "West Seattle",
         "orientation": "v",
         "showlegend": true,
         "type": "scatter",
         "x": [
          11,
          22,
          18,
          19,
          20
         ],
         "xaxis": "x",
         "y": [
          1217.2898329098823,
          1360.4684840067962,
          1273.5235128376414,
          1235.398262976949,
          1336.2944873875838
         ],
         "yaxis": "y"
        },
        {
         "customdata": [
          [
           "Cleveland",
           "Ingraham",
           "L",
           123,
           -1.66,
           "Home"
          ],
          [
           "Cleveland",
           "Franklin",
           "L",
           127,
           -3.2,
           "Home"
          ],
          [
           "Cleveland",
           "Eastside Catholic",
           "L",
           124,
           -0.38,
           "Away"
          ],
          [
           "Cleveland",
           "Nathan Hale",
           "L",
           125,
           -1.53,
           "Away"
          ],
          [
           "Cleveland",
           "Rainier Beach",
           "D",
           126,
           13.65,
           "Away"
          ]
         ],
         "hovertemplate": "Team=%{customdata[0]}<br>League Match Number=%{x}<br>ELO Rating=%{y}<br>Opponent=%{customdata[1]}<br>Result=%{customdata[2]}<br>Team's Match #=%{customdata[3]}<br>ELO Change=%{customdata[4]}<br>Location=%{customdata[5]}<extra></extra>",
         "legendgroup": "Cleveland",
         "line": {
          "color": "#FF6692",
          "dash": "solid"
         },
         "marker": {
          "symbol": "circle"
         },
         "mode": "lines",
         "name": "Cleveland",
         "orientation": "v",
         "showlegend": true,
         "type": "scatter",
         "x": [
          12,
          51,
          24,
          25,
          26
         ],
         "xaxis": "x",
         "y": [
          692.2174122475305,
          700.7513793891549,
          691.833783197923,
          690.301532352336,
          703.9563123014703
         ],
         "yaxis": "y"
        },
        {
         "customdata": [
          [
           "Rainier Beach",
           "Eastside Catholic",
           "L",
           138,
           -3.37,
           "Home"
          ],
          [
           "Rainier Beach",
           "Cleveland",
           "D",
           139,
           -13.65,
           "Home"
          ],
          [
           "Rainier Beach",
           "Ingraham",
           "L",
           134,
           -3.43,
           "Away"
          ],
          [
           "Rainier Beach",
           "Seattle Academy",
           "L",
           135,
           -2.07,
           "Away"
          ],
          [
           "Rainier Beach",
           "Chief Sealth",
           "L",
           136,
           -3.07,
           "Away"
          ],
          [
           "Rainier Beach",
           "Franklin",
           "L",
           137,
           -12.97,
           "Away"
          ]
         ],
         "hovertemplate": "Team=%{customdata[0]}<br>League Match Number=%{x}<br>ELO Rating=%{y}<br>Opponent=%{customdata[1]}<br>Result=%{customdata[2]}<br>Team's Match #=%{customdata[3]}<br>ELO Change=%{customdata[4]}<br>Location=%{customdata[5]}<extra></extra>",
         "legendgroup": "Rainier Beach",
         "line": {
          "color": "#B6E880",
          "dash": "solid"
         },
         "marker": {
          "symbol": "circle"
         },
         "mode": "lines",
         "name": "Rainier Beach",
         "orientation": "v",
         "showlegend": true,
         "type": "scatter",
         "x": [
          17,
          26,
          1,
          2,
          3,
          4
         ],
         "xaxis": "x",
         "y": [
          876.6421365192455,
          862.9873565701112,
          898.125554583341,
          896.0510162149681,
          892.984832431974,
          880.0148892351292
         ],
         "yaxis": "y"
        },
        {
         "customdata": [
          [
           "Nathan Hale",
           "West Seattle",
           "L",
           110,
           -100.9,
           "Home"
          ],
          [
           "Nathan Hale",
           "Seattle Academy",
           "W",
           111,
           23.54,
           "Home"
          ],
          [
           "Nathan Hale",
           "Cleveland",
           "W",
           112,
           1.53,
           "Home"
          ],
          [
           "Nathan Hale",
           "Lakeside (Seattle)",
           "L",
           113,
           -9.49,
           "Home"
          ],
          [
           "Nathan Hale",
           "Franklin",
           "D",
           114,
           -9.67,
           "Home"
          ],
          [
           "Nathan Hale",
           "Ingraham",
           "D",
           107,
           3.59,
           "Away"
          ],
          [
           "Nathan Hale",
           "Chief Sealth",
           "W",
           108,
           25.73,
           "Away"
          ],
          [
           "Nathan Hale",
           "Eastside Catholic",
           "L",
           109,
           -30.52,
           "Away"
          ]
         ],
         "hovertemplate": "Team=%{customdata[0]}<br>League Match Number=%{x}<br>ELO Rating=%{y}<br>Opponent=%{customdata[1]}<br>Result=%{customdata[2]}<br>Team's Match #=%{customdata[3]}<br>ELO Change=%{customdata[4]}<br>Location=%{customdata[5]}<extra></extra>",
         "legendgroup": "Nathan Hale",
         "line": {
          "color": "#FF97FF",
          "dash": "solid"
         },
         "marker": {
          "symbol": "circle"
         },
         "mode": "lines",
         "name": "Nathan Hale",
         "orientation": "v",
         "showlegend": true,
         "type": "scatter",
         "x": [
          20,
          23,
          25,
          40,
          52,
          5,
          6,
          7
         ],
         "xaxis": "x",
         "y": [
          1323.6043214305823,
          1347.1418901572874,
          1348.6741410028744,
          1339.1844883742033,
          1329.5104643991697,
          1429.2969482251729,
          1455.0243432841655,
          1424.5005458412172
         ],
         "yaxis": "y"
        },
        {
         "customdata": [
          [
           "Lakeside (Seattle)",
           "Bishop Blanchet",
           "D",
           120,
           -10.2,
           "Home"
          ],
          [
           "Lakeside (Seattle)",
           "Ballard",
           "L",
           121,
           -34.65,
           "Home"
          ],
          [
           "Lakeside (Seattle)",
           "Seattle Prep",
           "L",
           122,
           -44.32,
           "Home"
          ],
          [
           "Lakeside (Seattle)",
           "O'Dea",
           "L",
           123,
           -56.01,
           "Away"
          ],
          [
           "Lakeside (Seattle)",
           "Roosevelt",
           "L",
           124,
           -22.42,
           "Away"
          ],
          [
           "Lakeside (Seattle)",
           "Nathan Hale",
           "W",
           125,
           9.49,
           "Away"
          ]
         ],
         "hovertemplate": "Team=%{customdata[0]}<br>League Match Number=%{x}<br>ELO Rating=%{y}<br>Opponent=%{customdata[1]}<br>Result=%{customdata[2]}<br>Team's Match #=%{customdata[3]}<br>ELO Change=%{customdata[4]}<br>Location=%{customdata[5]}<extra></extra>",
         "legendgroup": "Lakeside (Seattle)",
         "line": {
          "color": "#FECB52",
          "dash": "solid"
         },
         "marker": {
          "symbol": "circle"
         },
         "mode": "lines",
         "name": "Lakeside (Seattle)",
         "orientation": "v",
         "showlegend": true,
         "type": "scatter",
         "x": [
          27,
          31,
          35,
          38,
          39,
          40
         ],
         "xaxis": "x",
         "y": [
          1808.9448531177989,
          1774.2985063307988,
          1729.976884361807,
          1673.9713933277308,
          1651.5528758109328,
          1661.042528439604
         ],
         "yaxis": "y"
        },
        {
         "customdata": [
          [
           "O'Dea",
           "Bishop Blanchet",
           "L",
           115,
           -28.85,
           "Home"
          ],
          [
           "O'Dea",
           "Ballard",
           "L",
           116,
           -94.62,
           "Home"
          ],
          [
           "O'Dea",
           "Lakeside (Seattle)",
           "W",
           117,
           56.01,
           "Home"
          ],
          [
           "O'Dea",
           "Garfield",
           "L",
           118,
           -18.57,
           "Away"
          ],
          [
           "O'Dea",
           "Seattle Prep",
           "D",
           119,
           12.99,
           "Away"
          ]
         ],
         "hovertemplate": "Team=%{customdata[0]}<br>League Match Number=%{x}<br>ELO Rating=%{y}<br>Opponent=%{customdata[1]}<br>Result=%{customdata[2]}<br>Team's Match #=%{customdata[3]}<br>ELO Change=%{customdata[4]}<br>Location=%{customdata[5]}<extra></extra>",
         "legendgroup": "O'Dea",
         "line": {
          "color": "#636efa",
          "dash": "solid"
         },
         "marker": {
          "symbol": "circle"
         },
         "mode": "lines",
         "name": "O'Dea",
         "orientation": "v",
         "showlegend": true,
         "type": "scatter",
         "x": [
          28,
          32,
          38,
          44,
          45
         ],
         "xaxis": "x",
         "y": [
          1747.7587146847222,
          1653.1417250565669,
          1709.147216090643,
          1690.5741134753175,
          1703.565685998892
         ],
         "yaxis": "y"
        },
        {
         "customdata": [
          [
           "Ballard",
           "Bishop Blanchet",
           "L",
           121,
           -60.9,
           "Home"
          ],
          [
           "Ballard",
           "Garfield",
           "D",
           126,
           -8.4,
           "Home"
          ],
          [
           "Ballard",
           "Lakeside (Seattle)",
           "W",
           122,
           34.65,
           "Away"
          ],
          [
           "Ballard",
           "O'Dea",
           "W",
           123,
           94.62,
           "Away"
          ],
          [
           "Ballard",
           "Lincoln (Seattle)",
           "L",
           124,
           -11.54,
           "Away"
          ],
          [
           "Ballard",
           "Roosevelt",
           "W",
           125,
           36.04,
           "Away"
          ]
         ],
         "hovertemplate": "Team=%{customdata[0]}<br>League Match Number=%{x}<br>ELO Rating=%{y}<br>Opponent=%{customdata[1]}<br>Result=%{customdata[2]}<br>Team's Match #=%{customdata[3]}<br>ELO Change=%{customdata[4]}<br>Location=%{customdata[5]}<extra></extra>",
         "legendgroup": "Ballard",
         "line": {
          "color": "#EF553B",
          "dash": "solid"
         },
         "marker": {
          "symbol": "circle"
         },
         "mode": "lines",
         "name": "Ballard",
         "orientation": "v",
         "showlegend": true,
         "type": "scatter",
         "x": [
          29,
          41,
          31,
          32,
          33,
          34
         ],
         "xaxis": "x",
         "y": [
          1584.541968290806,
          1729.907367075633,
          1619.188315077806,
          1713.8053047059614,
          1702.2634405626488,
          1738.308144018115
         ],
         "yaxis": "y"
        },
        {
         "customdata": [
          [
           "Garfield",
           "Bishop Blanchet",
           "L",
           119,
           -62.67,
           "Home"
          ],
          [
           "Garfield",
           "O'Dea",
           "W",
           123,
           18.57,
           "Home"
          ],
          [
           "Garfield",
           "Roosevelt",
           "D",
           124,
           -9.16,
           "Home"
          ],
          [
           "Garfield",
           "Ballard",
           "D",
           120,
           8.4,
           "Away"
          ],
          [
           "Garfield",
           "Bishop Blanchet",
           "L",
           121,
           -9.45,
           "Away"
          ],
          [
           "Garfield",
           "Seattle Prep",
           "L",
           122,
           -18.9,
           "Away"
          ]
         ],
         "hovertemplate": "Team=%{customdata[0]}<br>League Match Number=%{x}<br>ELO Rating=%{y}<br>Opponent=%{customdata[1]}<br>Result=%{customdata[2]}<br>Team's Match #=%{customdata[3]}<br>ELO Change=%{customdata[4]}<br>Location=%{customdata[5]}<extra></extra>",
         "legendgroup": "Garfield",
         "line": {
          "color": "#00cc96",
          "dash": "solid"
         },
         "marker": {
          "symbol": "circle"
         },
         "mode": "lines",
         "name": "Garfield",
         "orientation": "v",
         "showlegend": true,
         "type": "scatter",
         "x": [
          30,
          44,
          46,
          41,
          42,
          43
         ],
         "xaxis": "x",
         "y": [
          1653.9258971069346,
          1652.5502513260635,
          1643.3942931454303,
          1662.3266740494166,
          1652.8771496305371,
          1633.9771487107382
         ],
         "yaxis": "y"
        },
        {
         "customdata": [
          [
           "Lincoln (Seattle)",
           "Ballard",
           "W",
           62,
           11.54,
           "Home"
          ],
          [
           "Lincoln (Seattle)",
           "Seattle Prep",
           "D",
           63,
           -11.03,
           "Home"
          ],
          [
           "Lincoln (Seattle)",
           "Roosevelt",
           "D",
           64,
           -14.83,
           "Away"
          ],
          [
           "Lincoln (Seattle)",
           "Seattle Prep",
           "D",
           65,
           -2.8,
           "Away"
          ]
         ],
         "hovertemplate": "Team=%{customdata[0]}<br>League Match Number=%{x}<br>ELO Rating=%{y}<br>Opponent=%{customdata[1]}<br>Result=%{customdata[2]}<br>Team's Match #=%{customdata[3]}<br>ELO Change=%{customdata[4]}<br>Location=%{customdata[5]}<extra></extra>",
         "legendgroup": "Lincoln (Seattle)",
         "line": {
          "color": "#ab63fa",
          "dash": "solid"
         },
         "marker": {
          "symbol": "circle"
         },
         "mode": "lines",
         "name": "Lincoln (Seattle)",
         "orientation": "v",
         "showlegend": true,
         "type": "scatter",
         "x": [
          33,
          36,
          49,
          50
         ],
         "xaxis": "x",
         "y": [
          2014.541639901532,
          2003.515869108581,
          1988.688995694729,
          1985.8921027667905
         ],
         "yaxis": "y"
        },
        {
         "customdata": [
          [
           "Roosevelt",
           "Ballard",
           "L",
           118,
           -36.04,
           "Home"
          ],
          [
           "Roosevelt",
           "Lakeside (Seattle)",
           "W",
           119,
           22.42,
           "Home"
          ],
          [
           "Roosevelt",
           "Lincoln (Seattle)",
           "D",
           123,
           14.83,
           "Home"
          ],
          [
           "Roosevelt",
           "Garfield",
           "D",
           120,
           9.16,
           "Away"
          ],
          [
           "Roosevelt",
           "Bishop Blanchet",
           "L",
           121,
           -8.03,
           "Away"
          ],
          [
           "Roosevelt",
           "Seattle Prep",
           "W",
           122,
           36.26,
           "Away"
          ]
         ],
         "hovertemplate": "Team=%{customdata[0]}<br>League Match Number=%{x}<br>ELO Rating=%{y}<br>Opponent=%{customdata[1]}<br>Result=%{customdata[2]}<br>Team's Match #=%{customdata[3]}<br>ELO Change=%{customdata[4]}<br>Location=%{customdata[5]}<extra></extra>",
         "legendgroup": "Roosevelt",
         "line": {
          "color": "#FFA15A",
          "dash": "solid"
         },
         "marker": {
          "symbol": "circle"
         },
         "mode": "lines",
         "name": "Roosevelt",
         "orientation": "v",
         "showlegend": true,
         "type": "scatter",
         "x": [
          34,
          39,
          49,
          46,
          47,
          48
         ],
         "xaxis": "x",
         "y": [
          1531.7508341099658,
          1554.1693516267635,
          1606.3829053922316,
          1563.325309807397,
          1555.2923950743973,
          1591.5560319783797
         ],
         "yaxis": "y"
        },
        {
         "customdata": [
          [
           "Bishop Blanchet",
           "Seattle Prep",
           "W",
           116,
           47.77,
           "Home"
          ],
          [
           "Bishop Blanchet",
           "Garfield",
           "W",
           117,
           9.45,
           "Home"
          ],
          [
           "Bishop Blanchet",
           "Roosevelt",
           "W",
           118,
           8.03,
           "Home"
          ],
          [
           "Bishop Blanchet",
           "Lakeside (Seattle)",
           "D",
           112,
           10.2,
           "Away"
          ],
          [
           "Bishop Blanchet",
           "O'Dea",
           "W",
           113,
           28.85,
           "Away"
          ],
          [
           "Bishop Blanchet",
           "Ballard",
           "W",
           114,
           60.9,
           "Away"
          ],
          [
           "Bishop Blanchet",
           "Garfield",
           "W",
           115,
           62.67,
           "Away"
          ]
         ],
         "hovertemplate": "Team=%{customdata[0]}<br>League Match Number=%{x}<br>ELO Rating=%{y}<br>Opponent=%{customdata[1]}<br>Result=%{customdata[2]}<br>Team's Match #=%{customdata[3]}<br>ELO Change=%{customdata[4]}<br>Location=%{customdata[5]}<extra></extra>",
         "legendgroup": "Bishop Blanchet",
         "line": {
          "color": "#19d3f3",
          "dash": "solid"
         },
         "marker": {
          "symbol": "circle"
         },
         "mode": "lines",
         "name": "Bishop Blanchet",
         "orientation": "v",
         "showlegend": true,
         "type": "scatter",
         "x": [
          37,
          42,
          47,
          27,
          28,
          29,
          30
         ],
         "xaxis": "x",
         "y": [
          1911.5626716677089,
          1921.0121960865883,
          1929.045110819588,
          1711.3674243932337,
          1740.2219336875776,
          1801.1236261070237,
          1863.7938697158115
         ],
         "yaxis": "y"
        },
        {
         "customdata": [
          [
           "Seattle Prep",
           "Garfield",
           "W",
           116,
           18.9,
           "Home"
          ],
          [
           "Seattle Prep",
           "O'Dea",
           "D",
           117,
           -12.99,
           "Home"
          ],
          [
           "Seattle Prep",
           "Roosevelt",
           "L",
           118,
           -36.26,
           "Home"
          ],
          [
           "Seattle Prep",
           "Lincoln (Seattle)",
           "D",
           119,
           2.8,
           "Home"
          ],
          [
           "Seattle Prep",
           "Lakeside (Seattle)",
           "W",
           113,
           44.32,
           "Away"
          ],
          [
           "Seattle Prep",
           "Lincoln (Seattle)",
           "D",
           114,
           11.03,
           "Away"
          ],
          [
           "Seattle Prep",
           "Bishop Blanchet",
           "L",
           115,
           -47.77,
           "Away"
          ]
         ],
         "hovertemplate": "Team=%{customdata[0]}<br>League Match Number=%{x}<br>ELO Rating=%{y}<br>Opponent=%{customdata[1]}<br>Result=%{customdata[2]}<br>Team's Match #=%{customdata[3]}<br>ELO Change=%{customdata[4]}<br>Location=%{customdata[5]}<extra></extra>",
         "legendgroup": "Seattle Prep",
         "line": {
          "color": "#FF6692",
          "dash": "solid"
         },
         "marker": {
          "symbol": "circle"
         },
         "mode": "lines",
         "name": "Seattle Prep",
         "orientation": "v",
         "showlegend": true,
         "type": "scatter",
         "x": [
          43,
          45,
          48,
          50,
          35,
          36,
          37
         ],
         "xaxis": "x",
         "y": [
          1863.092881082713,
          1850.1013085591387,
          1813.8376716551563,
          1816.634564583095,
          1880.935911321861,
          1891.961682114812,
          1844.1928801629144
         ],
         "yaxis": "y"
        }
       ],
       "layout": {
        "height": 700,
        "hovermode": "x unified",
        "legend": {
         "itemclick": "toggleothers",
         "title": {
          "text": "Team"
         },
         "tracegroupgap": 0,
         "traceorder": "normal"
        },
        "margin": {
         "b": 50,
         "t": 50
        },
        "template": {
         "data": {
          "bar": [
           {
            "error_x": {
             "color": "#2a3f5f"
            },
            "error_y": {
             "color": "#2a3f5f"
            },
            "marker": {
             "line": {
              "color": "#E5ECF6",
              "width": 0.5
             },
             "pattern": {
              "fillmode": "overlay",
              "size": 10,
              "solidity": 0.2
             }
            },
            "type": "bar"
           }
          ],
          "barpolar": [
           {
            "marker": {
             "line": {
              "color": "#E5ECF6",
              "width": 0.5
             },
             "pattern": {
              "fillmode": "overlay",
              "size": 10,
              "solidity": 0.2
             }
            },
            "type": "barpolar"
           }
          ],
          "carpet": [
           {
            "aaxis": {
             "endlinecolor": "#2a3f5f",
             "gridcolor": "white",
             "linecolor": "white",
             "minorgridcolor": "white",
             "startlinecolor": "#2a3f5f"
            },
            "baxis": {
             "endlinecolor": "#2a3f5f",
             "gridcolor": "white",
             "linecolor": "white",
             "minorgridcolor": "white",
             "startlinecolor": "#2a3f5f"
            },
            "type": "carpet"
           }
          ],
          "choropleth": [
           {
            "colorbar": {
             "outlinewidth": 0,
             "ticks": ""
            },
            "type": "choropleth"
           }
          ],
          "contour": [
           {
            "colorbar": {
             "outlinewidth": 0,
             "ticks": ""
            },
            "colorscale": [
             [
              0,
              "#0d0887"
             ],
             [
              0.1111111111111111,
              "#46039f"
             ],
             [
              0.2222222222222222,
              "#7201a8"
             ],
             [
              0.3333333333333333,
              "#9c179e"
             ],
             [
              0.4444444444444444,
              "#bd3786"
             ],
             [
              0.5555555555555556,
              "#d8576b"
             ],
             [
              0.6666666666666666,
              "#ed7953"
             ],
             [
              0.7777777777777778,
              "#fb9f3a"
             ],
             [
              0.8888888888888888,
              "#fdca26"
             ],
             [
              1,
              "#f0f921"
             ]
            ],
            "type": "contour"
           }
          ],
          "contourcarpet": [
           {
            "colorbar": {
             "outlinewidth": 0,
             "ticks": ""
            },
            "type": "contourcarpet"
           }
          ],
          "heatmap": [
           {
            "colorbar": {
             "outlinewidth": 0,
             "ticks": ""
            },
            "colorscale": [
             [
              0,
              "#0d0887"
             ],
             [
              0.1111111111111111,
              "#46039f"
             ],
             [
              0.2222222222222222,
              "#7201a8"
             ],
             [
              0.3333333333333333,
              "#9c179e"
             ],
             [
              0.4444444444444444,
              "#bd3786"
             ],
             [
              0.5555555555555556,
              "#d8576b"
             ],
             [
              0.6666666666666666,
              "#ed7953"
             ],
             [
              0.7777777777777778,
              "#fb9f3a"
             ],
             [
              0.8888888888888888,
              "#fdca26"
             ],
             [
              1,
              "#f0f921"
             ]
            ],
            "type": "heatmap"
           }
          ],
          "heatmapgl": [
           {
            "colorbar": {
             "outlinewidth": 0,
             "ticks": ""
            },
            "colorscale": [
             [
              0,
              "#0d0887"
             ],
             [
              0.1111111111111111,
              "#46039f"
             ],
             [
              0.2222222222222222,
              "#7201a8"
             ],
             [
              0.3333333333333333,
              "#9c179e"
             ],
             [
              0.4444444444444444,
              "#bd3786"
             ],
             [
              0.5555555555555556,
              "#d8576b"
             ],
             [
              0.6666666666666666,
              "#ed7953"
             ],
             [
              0.7777777777777778,
              "#fb9f3a"
             ],
             [
              0.8888888888888888,
              "#fdca26"
             ],
             [
              1,
              "#f0f921"
             ]
            ],
            "type": "heatmapgl"
           }
          ],
          "histogram": [
           {
            "marker": {
             "pattern": {
              "fillmode": "overlay",
              "size": 10,
              "solidity": 0.2
             }
            },
            "type": "histogram"
           }
          ],
          "histogram2d": [
           {
            "colorbar": {
             "outlinewidth": 0,
             "ticks": ""
            },
            "colorscale": [
             [
              0,
              "#0d0887"
             ],
             [
              0.1111111111111111,
              "#46039f"
             ],
             [
              0.2222222222222222,
              "#7201a8"
             ],
             [
              0.3333333333333333,
              "#9c179e"
             ],
             [
              0.4444444444444444,
              "#bd3786"
             ],
             [
              0.5555555555555556,
              "#d8576b"
             ],
             [
              0.6666666666666666,
              "#ed7953"
             ],
             [
              0.7777777777777778,
              "#fb9f3a"
             ],
             [
              0.8888888888888888,
              "#fdca26"
             ],
             [
              1,
              "#f0f921"
             ]
            ],
            "type": "histogram2d"
           }
          ],
          "histogram2dcontour": [
           {
            "colorbar": {
             "outlinewidth": 0,
             "ticks": ""
            },
            "colorscale": [
             [
              0,
              "#0d0887"
             ],
             [
              0.1111111111111111,
              "#46039f"
             ],
             [
              0.2222222222222222,
              "#7201a8"
             ],
             [
              0.3333333333333333,
              "#9c179e"
             ],
             [
              0.4444444444444444,
              "#bd3786"
             ],
             [
              0.5555555555555556,
              "#d8576b"
             ],
             [
              0.6666666666666666,
              "#ed7953"
             ],
             [
              0.7777777777777778,
              "#fb9f3a"
             ],
             [
              0.8888888888888888,
              "#fdca26"
             ],
             [
              1,
              "#f0f921"
             ]
            ],
            "type": "histogram2dcontour"
           }
          ],
          "mesh3d": [
           {
            "colorbar": {
             "outlinewidth": 0,
             "ticks": ""
            },
            "type": "mesh3d"
           }
          ],
          "parcoords": [
           {
            "line": {
             "colorbar": {
              "outlinewidth": 0,
              "ticks": ""
             }
            },
            "type": "parcoords"
           }
          ],
          "pie": [
           {
            "automargin": true,
            "type": "pie"
           }
          ],
          "scatter": [
           {
            "fillpattern": {
             "fillmode": "overlay",
             "size": 10,
             "solidity": 0.2
            },
            "type": "scatter"
           }
          ],
          "scatter3d": [
           {
            "line": {
             "colorbar": {
              "outlinewidth": 0,
              "ticks": ""
             }
            },
            "marker": {
             "colorbar": {
              "outlinewidth": 0,
              "ticks": ""
             }
            },
            "type": "scatter3d"
           }
          ],
          "scattercarpet": [
           {
            "marker": {
             "colorbar": {
              "outlinewidth": 0,
              "ticks": ""
             }
            },
            "type": "scattercarpet"
           }
          ],
          "scattergeo": [
           {
            "marker": {
             "colorbar": {
              "outlinewidth": 0,
              "ticks": ""
             }
            },
            "type": "scattergeo"
           }
          ],
          "scattergl": [
           {
            "marker": {
             "colorbar": {
              "outlinewidth": 0,
              "ticks": ""
             }
            },
            "type": "scattergl"
           }
          ],
          "scattermapbox": [
           {
            "marker": {
             "colorbar": {
              "outlinewidth": 0,
              "ticks": ""
             }
            },
            "type": "scattermapbox"
           }
          ],
          "scatterpolar": [
           {
            "marker": {
             "colorbar": {
              "outlinewidth": 0,
              "ticks": ""
             }
            },
            "type": "scatterpolar"
           }
          ],
          "scatterpolargl": [
           {
            "marker": {
             "colorbar": {
              "outlinewidth": 0,
              "ticks": ""
             }
            },
            "type": "scatterpolargl"
           }
          ],
          "scatterternary": [
           {
            "marker": {
             "colorbar": {
              "outlinewidth": 0,
              "ticks": ""
             }
            },
            "type": "scatterternary"
           }
          ],
          "surface": [
           {
            "colorbar": {
             "outlinewidth": 0,
             "ticks": ""
            },
            "colorscale": [
             [
              0,
              "#0d0887"
             ],
             [
              0.1111111111111111,
              "#46039f"
             ],
             [
              0.2222222222222222,
              "#7201a8"
             ],
             [
              0.3333333333333333,
              "#9c179e"
             ],
             [
              0.4444444444444444,
              "#bd3786"
             ],
             [
              0.5555555555555556,
              "#d8576b"
             ],
             [
              0.6666666666666666,
              "#ed7953"
             ],
             [
              0.7777777777777778,
              "#fb9f3a"
             ],
             [
              0.8888888888888888,
              "#fdca26"
             ],
             [
              1,
              "#f0f921"
             ]
            ],
            "type": "surface"
           }
          ],
          "table": [
           {
            "cells": {
             "fill": {
              "color": "#EBF0F8"
             },
             "line": {
              "color": "white"
             }
            },
            "header": {
             "fill": {
              "color": "#C8D4E3"
             },
             "line": {
              "color": "white"
             }
            },
            "type": "table"
           }
          ]
         },
         "layout": {
          "annotationdefaults": {
           "arrowcolor": "#2a3f5f",
           "arrowhead": 0,
           "arrowwidth": 1
          },
          "autotypenumbers": "strict",
          "coloraxis": {
           "colorbar": {
            "outlinewidth": 0,
            "ticks": ""
           }
          },
          "colorscale": {
           "diverging": [
            [
             0,
             "#8e0152"
            ],
            [
             0.1,
             "#c51b7d"
            ],
            [
             0.2,
             "#de77ae"
            ],
            [
             0.3,
             "#f1b6da"
            ],
            [
             0.4,
             "#fde0ef"
            ],
            [
             0.5,
             "#f7f7f7"
            ],
            [
             0.6,
             "#e6f5d0"
            ],
            [
             0.7,
             "#b8e186"
            ],
            [
             0.8,
             "#7fbc41"
            ],
            [
             0.9,
             "#4d9221"
            ],
            [
             1,
             "#276419"
            ]
           ],
           "sequential": [
            [
             0,
             "#0d0887"
            ],
            [
             0.1111111111111111,
             "#46039f"
            ],
            [
             0.2222222222222222,
             "#7201a8"
            ],
            [
             0.3333333333333333,
             "#9c179e"
            ],
            [
             0.4444444444444444,
             "#bd3786"
            ],
            [
             0.5555555555555556,
             "#d8576b"
            ],
            [
             0.6666666666666666,
             "#ed7953"
            ],
            [
             0.7777777777777778,
             "#fb9f3a"
            ],
            [
             0.8888888888888888,
             "#fdca26"
            ],
            [
             1,
             "#f0f921"
            ]
           ],
           "sequentialminus": [
            [
             0,
             "#0d0887"
            ],
            [
             0.1111111111111111,
             "#46039f"
            ],
            [
             0.2222222222222222,
             "#7201a8"
            ],
            [
             0.3333333333333333,
             "#9c179e"
            ],
            [
             0.4444444444444444,
             "#bd3786"
            ],
            [
             0.5555555555555556,
             "#d8576b"
            ],
            [
             0.6666666666666666,
             "#ed7953"
            ],
            [
             0.7777777777777778,
             "#fb9f3a"
            ],
            [
             0.8888888888888888,
             "#fdca26"
            ],
            [
             1,
             "#f0f921"
            ]
           ]
          },
          "colorway": [
           "#636efa",
           "#EF553B",
           "#00cc96",
           "#ab63fa",
           "#FFA15A",
           "#19d3f3",
           "#FF6692",
           "#B6E880",
           "#FF97FF",
           "#FECB52"
          ],
          "font": {
           "color": "#2a3f5f"
          },
          "geo": {
           "bgcolor": "white",
           "lakecolor": "white",
           "landcolor": "#E5ECF6",
           "showlakes": true,
           "showland": true,
           "subunitcolor": "white"
          },
          "hoverlabel": {
           "align": "left"
          },
          "hovermode": "closest",
          "mapbox": {
           "style": "light"
          },
          "paper_bgcolor": "white",
          "plot_bgcolor": "#E5ECF6",
          "polar": {
           "angularaxis": {
            "gridcolor": "white",
            "linecolor": "white",
            "ticks": ""
           },
           "bgcolor": "#E5ECF6",
           "radialaxis": {
            "gridcolor": "white",
            "linecolor": "white",
            "ticks": ""
           }
          },
          "scene": {
           "xaxis": {
            "backgroundcolor": "#E5ECF6",
            "gridcolor": "white",
            "gridwidth": 2,
            "linecolor": "white",
            "showbackground": true,
            "ticks": "",
            "zerolinecolor": "white"
           },
           "yaxis": {
            "backgroundcolor": "#E5ECF6",
            "gridcolor": "white",
            "gridwidth": 2,
            "linecolor": "white",
            "showbackground": true,
            "ticks": "",
            "zerolinecolor": "white"
           },
           "zaxis": {
            "backgroundcolor": "#E5ECF6",
            "gridcolor": "white",
            "gridwidth": 2,
            "linecolor": "white",
            "showbackground": true,
            "ticks": "",
            "zerolinecolor": "white"
           }
          },
          "shapedefaults": {
           "line": {
            "color": "#2a3f5f"
           }
          },
          "ternary": {
           "aaxis": {
            "gridcolor": "white",
            "linecolor": "white",
            "ticks": ""
           },
           "baxis": {
            "gridcolor": "white",
            "linecolor": "white",
            "ticks": ""
           },
           "bgcolor": "#E5ECF6",
           "caxis": {
            "gridcolor": "white",
            "linecolor": "white",
            "ticks": ""
           }
          },
          "title": {
           "x": 0.05
          },
          "xaxis": {
           "automargin": true,
           "gridcolor": "white",
           "linecolor": "white",
           "ticks": "",
           "title": {
            "standoff": 15
           },
           "zerolinecolor": "white",
           "zerolinewidth": 2
          },
          "yaxis": {
           "automargin": true,
           "gridcolor": "white",
           "linecolor": "white",
           "ticks": "",
           "title": {
            "standoff": 15
           },
           "zerolinecolor": "white",
           "zerolinewidth": 2
          }
         }
        },
        "title": {
         "text": "ELO Progression - 2024-25 Season (Shared League Timeline)"
        },
        "xaxis": {
         "anchor": "y",
         "domain": [
          0,
          1
         ],
         "showgrid": true,
         "title": {
          "text": "League Match Number"
         }
        },
        "yaxis": {
         "anchor": "x",
         "domain": [
          0,
          1
         ],
         "showgrid": true,
         "title": {
          "text": "ELO Rating"
         }
        }
       }
      }
     },
     "metadata": {},
     "output_type": "display_data"
    }
   ],
   "source": [
    "import pandas as pd\n",
    "import plotly.express as px\n",
    "\n",
    "# Load the ELO match log\n",
    "df = pd.read_csv(r\"C:\\Users\\User\\Desktop\\Soccer Footage\\metroleague_elo_log.csv\")\n",
    "\n",
    "# Create a consistent order for all matches per season (scraper's order or raw index)\n",
    "df[\"Row Order\"] = range(len(df))\n",
    "df = df.sort_values(by=[\"Season\", \"Row Order\"])\n",
    "\n",
    "# Add a Global Match Number per Season (shared league timeline)\n",
    "df[\"Global Match #\"] = df.groupby(\"Season\").cumcount() + 1\n",
    "\n",
    "# Assign a row ID to map back after long transformation\n",
    "df[\"Match ID\"] = df.index\n",
    "\n",
    "# -----------------------------\n",
    "# Long-format Transformation\n",
    "# -----------------------------\n",
    "home_df = df[[\n",
    "    \"Match ID\", \"Season\", \"Global Match #\", \"Date\",\n",
    "    \"Home Team\", \"Away Team\", \"Home Score\", \"Away Score\",\n",
    "    \"Home ELO Before\", \"Home ELO After\", \"Home ELO Change\", \"Home Match #\"\n",
    "]].copy()\n",
    "\n",
    "home_df.columns = [\n",
    "    \"Match ID\", \"Season\", \"Global Match #\", \"Date\",\n",
    "    \"Team\", \"Opponent\", \"Goals For\", \"Goals Against\",\n",
    "    \"ELO Before\", \"ELO After\", \"ELO Δ\", \"Team Match #\"\n",
    "]\n",
    "home_df[\"Location\"] = \"Home\"\n",
    "\n",
    "away_df = df[[\n",
    "    \"Match ID\", \"Season\", \"Global Match #\", \"Date\",\n",
    "    \"Away Team\", \"Home Team\", \"Away Score\", \"Home Score\",\n",
    "    \"Away ELO Before\", \"Away ELO After\", \"Away ELO Change\", \"Away Match #\"\n",
    "]].copy()\n",
    "\n",
    "away_df.columns = [\n",
    "    \"Match ID\", \"Season\", \"Global Match #\", \"Date\",\n",
    "    \"Team\", \"Opponent\", \"Goals For\", \"Goals Against\",\n",
    "    \"ELO Before\", \"ELO After\", \"ELO Δ\", \"Team Match #\"\n",
    "]\n",
    "away_df[\"Location\"] = \"Away\"\n",
    "\n",
    "# Combine Home and Away\n",
    "long_df = pd.concat([home_df, away_df], ignore_index=True)\n",
    "\n",
    "# Compute Match Result (W/L/D)\n",
    "long_df[\"Result\"] = long_df.apply(\n",
    "    lambda row: \"W\" if row[\"Goals For\"] > row[\"Goals Against\"]\n",
    "    else \"L\" if row[\"Goals For\"] < row[\"Goals Against\"]\n",
    "    else \"D\", axis=1\n",
    ")\n",
    "\n",
    "# Clean ELO Δ and match #\n",
    "long_df[\"ELO Δ\"] = long_df[\"ELO Δ\"].round(2)\n",
    "long_df[\"Team Match #\"] = long_df[\"Team Match #\"].astype(int)\n",
    "\n",
    "# -----------------------------\n",
    "# Filter to Latest Season Only\n",
    "# -----------------------------\n",
    "latest_season = long_df[\"Season\"].max()\n",
    "df_current = long_df[long_df[\"Season\"] == latest_season].copy()\n",
    "\n",
    "# -----------------------------\n",
    "# Plot: ELO Progression (Shared League Timeline)\n",
    "# -----------------------------\n",
    "fig = px.line(\n",
    "    df_current,\n",
    "    x=\"Global Match #\",\n",
    "    y=\"ELO After\",\n",
    "    color=\"Team\",\n",
    "    line_group=\"Team\",\n",
    "    hover_data={\n",
    "        \"Team\": True,\n",
    "        \"Opponent\": True,\n",
    "        \"Result\": True,\n",
    "        \"Global Match #\": True,\n",
    "        \"Team Match #\": True,\n",
    "        \"ELO After\": True,\n",
    "        \"ELO Δ\": True,\n",
    "        \"Location\": True,\n",
    "    },\n",
    "    title=f\"ELO Progression - {latest_season} Season (Shared League Timeline)\",\n",
    "    labels={\n",
    "        \"Global Match #\": \"League Match Number\",\n",
    "        \"ELO After\": \"ELO Rating\",\n",
    "        \"ELO Δ\": \"ELO Change\",\n",
    "        \"Team Match #\": \"Team's Match #\"\n",
    "    },\n",
    ")\n",
    "\n",
    "fig.update_layout(\n",
    "    hovermode=\"x unified\",\n",
    "    xaxis=dict(showgrid=True),\n",
    "    yaxis=dict(showgrid=True),\n",
    "    legend=dict(title=\"Team\", traceorder=\"normal\", itemclick=\"toggleothers\"),\n",
    "    height=700,\n",
    "    margin=dict(t=50, b=50),\n",
    ")\n",
    "\n",
    "fig.show()\n",
    "\n"
   ]
  }
 ],
 "metadata": {
  "kernelspec": {
   "display_name": "base",
   "language": "python",
   "name": "python3"
  },
  "language_info": {
   "codemirror_mode": {
    "name": "ipython",
    "version": 3
   },
   "file_extension": ".py",
   "mimetype": "text/x-python",
   "name": "python",
   "nbconvert_exporter": "python",
   "pygments_lexer": "ipython3",
   "version": "3.8.8"
  }
 },
 "nbformat": 4,
 "nbformat_minor": 2
}
